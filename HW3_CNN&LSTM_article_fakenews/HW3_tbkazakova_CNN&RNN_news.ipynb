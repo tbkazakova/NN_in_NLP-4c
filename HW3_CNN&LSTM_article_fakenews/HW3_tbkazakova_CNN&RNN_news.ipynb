{
 "cells": [
  {
   "cell_type": "markdown",
   "metadata": {
    "gradient": {
     "editing": false,
     "id": "d3c9259b-3cc6-4ca2-8156-cdbf45ffb1d9",
     "kernelId": "d0280aff-ead3-4f02-bcc8-b56694c3ad6e"
    },
    "id": "epDxPsihKNfz"
   },
   "source": [
    "# ДЗ 3\n",
    "Таня Казакова"
   ]
  },
  {
   "cell_type": "markdown",
   "metadata": {
    "gradient": {
     "editing": false,
     "id": "876ef12e-ba91-4d03-b280-7e3d8ac7b534",
     "kernelId": "d0280aff-ead3-4f02-bcc8-b56694c3ad6e"
    },
    "id": "dOjbMOrtG-UC"
   },
   "source": [
    "## Настраиваем среду"
   ]
  },
  {
   "cell_type": "code",
   "execution_count": null,
   "metadata": {
    "collapsed": false,
    "gradient": {
     "editing": false,
     "id": "fe13dcf0-f7b6-496d-bf68-c3752f37d8f4",
     "kernelId": "d0280aff-ead3-4f02-bcc8-b56694c3ad6e",
     "source_hidden": false
    }
   },
   "outputs": [
    {
     "name": "stdout",
     "output_type": "stream",
     "text": [
      "--2022-01-04 20:50:21--  http://-/\r\n",
      "Resolving - (-)... failed: Name or service not known.\r\n",
      "wget: unable to resolve host address ‘-’\r\n",
      "--2022-01-04 20:50:21--  http://c/\r\n",
      "Resolving c (c)... failed: Name or service not known.\r\n",
      "wget: unable to resolve host address ‘c’\r\n",
      "--2022-01-04 20:50:21--  https://s3.amazonaws.com/dl4j-distribution/GoogleNews-vectors-negative300.bin.gz\r\n",
      "Resolving s3.amazonaws.com (s3.amazonaws.com)... "
     ]
    },
    {
     "name": "stdout",
     "output_type": "stream",
     "text": [
      "52.217.96.30\r\n",
      "Connecting to s3.amazonaws.com (s3.amazonaws.com)|52.217.96.30|:443... connected.\r\n",
      "HTTP request sent, awaiting response... "
     ]
    },
    {
     "name": "stdout",
     "output_type": "stream",
     "text": [
      "200 OK\r\n",
      "Length: 1647046227 (1.5G) [application/x-gzip]\r\n",
      "Saving to: ‘GoogleNews-vectors-negative300.bin.gz’\r\n",
      "\r\n",
      "\r",
      "          GoogleNew   0%[                    ]       0  --.-KB/s               "
     ]
    },
    {
     "name": "stdout",
     "output_type": "stream",
     "text": [
      "\r",
      "         GoogleNews   0%[                    ]   2.21M  10.8MB/s               "
     ]
    },
    {
     "name": "stdout",
     "output_type": "stream",
     "text": [
      "\r",
      "        GoogleNews-   0%[                    ]   4.30M  10.4MB/s               "
     ]
    },
    {
     "name": "stdout",
     "output_type": "stream",
     "text": [
      "\r",
      "       GoogleNews-v   0%[                    ]   4.65M  7.52MB/s               "
     ]
    },
    {
     "name": "stdout",
     "output_type": "stream",
     "text": [
      "\r",
      "      GoogleNews-ve   0%[                    ]   5.34M  6.51MB/s               "
     ]
    },
    {
     "name": "stdout",
     "output_type": "stream",
     "text": [
      "\r",
      "     GoogleNews-vec   0%[                    ]   6.41M  6.27MB/s               "
     ]
    },
    {
     "name": "stdout",
     "output_type": "stream",
     "text": [
      "\r",
      "    GoogleNews-vect   0%[                    ]   7.92M  6.48MB/s               "
     ]
    },
    {
     "name": "stdout",
     "output_type": "stream",
     "text": [
      "\r",
      "   GoogleNews-vecto   0%[                    ]   9.74M  6.85MB/s               "
     ]
    },
    {
     "name": "stdout",
     "output_type": "stream",
     "text": [
      "\r",
      "  GoogleNews-vector   0%[                    ]  10.92M  6.73MB/s               "
     ]
    },
    {
     "name": "stdout",
     "output_type": "stream",
     "text": [
      "\r",
      " GoogleNews-vectors   0%[                    ]  11.97M  6.56MB/s               "
     ]
    },
    {
     "name": "stdout",
     "output_type": "stream",
     "text": [
      "\r",
      "GoogleNews-vectors-   0%[                    ]  13.03M  6.42MB/s               "
     ]
    },
    {
     "name": "stdout",
     "output_type": "stream",
     "text": [
      "\r",
      "oogleNews-vectors-n   0%[                    ]  14.03M  6.28MB/s               "
     ]
    },
    {
     "name": "stdout",
     "output_type": "stream",
     "text": [
      "\r",
      "ogleNews-vectors-ne   0%[                    ]  15.44M  6.34MB/s               "
     ]
    },
    {
     "name": "stdout",
     "output_type": "stream",
     "text": [
      "\r",
      "gleNews-vectors-neg   1%[                    ]  17.08M  6.48MB/s               "
     ]
    },
    {
     "name": "stdout",
     "output_type": "stream",
     "text": [
      "\r",
      "leNews-vectors-nega   1%[                    ]  18.64M  6.57MB/s               "
     ]
    },
    {
     "name": "stdout",
     "output_type": "stream",
     "text": [
      "\r",
      "eNews-vectors-negat   1%[                    ]  20.30M  6.68MB/s    eta 3m 52s "
     ]
    },
    {
     "name": "stdout",
     "output_type": "stream",
     "text": [
      "\r",
      "News-vectors-negati   1%[                    ]  21.95M  6.55MB/s    eta 3m 52s "
     ]
    },
    {
     "name": "stdout",
     "output_type": "stream",
     "text": [
      "\r",
      "ews-vectors-negativ   1%[                    ]  23.95M  6.61MB/s    eta 3m 52s "
     ]
    },
    {
     "name": "stdout",
     "output_type": "stream",
     "text": [
      "\r",
      "ws-vectors-negative   1%[                    ]  26.31M  6.87MB/s    eta 3m 52s "
     ]
    },
    {
     "name": "stdout",
     "output_type": "stream",
     "text": [
      "\r",
      "s-vectors-negative3   1%[                    ]  29.13M  7.78MB/s    eta 3m 52s "
     ]
    },
    {
     "name": "stdout",
     "output_type": "stream",
     "text": [
      "\r",
      "-vectors-negative30   1%[                    ]  31.06M  8.07MB/s    eta 3m 21s "
     ]
    },
    {
     "name": "stdout",
     "output_type": "stream",
     "text": [
      "\r",
      "vectors-negative300   2%[                    ]  33.00M  8.26MB/s    eta 3m 21s "
     ]
    },
    {
     "name": "stdout",
     "output_type": "stream",
     "text": [
      "\r",
      "ectors-negative300.   2%[                    ]  35.18M  8.43MB/s    eta 3m 21s "
     ]
    },
    {
     "name": "stdout",
     "output_type": "stream",
     "text": [
      "\r",
      "ctors-negative300.b   2%[                    ]  37.30M  8.57MB/s    eta 3m 21s "
     ]
    },
    {
     "name": "stdout",
     "output_type": "stream",
     "text": [
      "\r",
      "tors-negative300.bi   2%[                    ]  39.48M  8.93MB/s    eta 3m 21s "
     ]
    },
    {
     "name": "stdout",
     "output_type": "stream",
     "text": [
      "\r",
      "ors-negative300.bin   2%[                    ]  42.10M  9.54MB/s    eta 3m 3s  "
     ]
    },
    {
     "name": "stdout",
     "output_type": "stream",
     "text": [
      "\r",
      "rs-negative300.bin.   2%[                    ]  44.24M  9.87MB/s    eta 3m 3s  "
     ]
    },
    {
     "name": "stdout",
     "output_type": "stream",
     "text": [
      "\r",
      "s-negative300.bin.g   2%[                    ]  45.94M  9.98MB/s    eta 3m 3s  "
     ]
    },
    {
     "name": "stdout",
     "output_type": "stream",
     "text": [
      "\r",
      "-negative300.bin.gz   3%[                    ]  48.07M  10.2MB/s    eta 3m 3s  "
     ]
    },
    {
     "name": "stdout",
     "output_type": "stream",
     "text": [
      "\r",
      "negative300.bin.gz    3%[                    ]  50.33M  10.4MB/s    eta 3m 3s  "
     ]
    },
    {
     "name": "stdout",
     "output_type": "stream",
     "text": [
      "\r",
      "egative300.bin.gz     3%[                    ]  52.13M  10.4MB/s    eta 2m 57s "
     ]
    },
    {
     "name": "stdout",
     "output_type": "stream",
     "text": [
      "\r",
      "gative300.bin.gz      3%[                    ]  54.51M  10.8MB/s    eta 2m 57s "
     ]
    },
    {
     "name": "stdout",
     "output_type": "stream",
     "text": [
      "\r",
      "ative300.bin.gz       3%[                    ]  57.12M  11.0MB/s    eta 2m 57s "
     ]
    },
    {
     "name": "stdout",
     "output_type": "stream",
     "text": [
      "\r",
      "tive300.bin.gz        3%[                    ]  60.05M  11.2MB/s    eta 2m 57s "
     ]
    },
    {
     "name": "stdout",
     "output_type": "stream",
     "text": [
      "\r",
      "ive300.bin.gz         3%[                    ]  62.55M  11.1MB/s    eta 2m 57s "
     ]
    },
    {
     "name": "stdout",
     "output_type": "stream",
     "text": [
      "\r",
      "ve300.bin.gz          4%[                    ]  65.51M  11.3MB/s    eta 2m 42s "
     ]
    },
    {
     "name": "stdout",
     "output_type": "stream",
     "text": [
      "\r",
      "e300.bin.gz           4%[                    ]  68.66M  11.7MB/s    eta 2m 42s "
     ]
    },
    {
     "name": "stdout",
     "output_type": "stream",
     "text": [
      "\r",
      "300.bin.gz            4%[                    ]  71.25M  11.9MB/s    eta 2m 42s "
     ]
    },
    {
     "name": "stdout",
     "output_type": "stream",
     "text": [
      "\r",
      "00.bin.gz             4%[                    ]  73.76M  12.0MB/s    eta 2m 42s "
     ]
    },
    {
     "name": "stdout",
     "output_type": "stream",
     "text": [
      "\r",
      "0.bin.gz              4%[                    ]  76.18M  12.1MB/s    eta 2m 42s "
     ]
    },
    {
     "name": "stdout",
     "output_type": "stream",
     "text": [
      "\r",
      ".bin.gz               5%[>                   ]  78.99M  12.3MB/s    eta 2m 32s "
     ]
    },
    {
     "name": "stdout",
     "output_type": "stream",
     "text": [
      "\r",
      "bin.gz                5%[>                   ]  81.89M  12.4MB/s    eta 2m 32s "
     ]
    },
    {
     "name": "stdout",
     "output_type": "stream",
     "text": [
      "\r",
      "in.gz                 5%[>                   ]  83.87M  12.4MB/s    eta 2m 32s "
     ]
    },
    {
     "name": "stdout",
     "output_type": "stream",
     "text": [
      "\r",
      "n.gz                  5%[>                   ]  85.94M  12.5MB/s    eta 2m 32s "
     ]
    },
    {
     "name": "stdout",
     "output_type": "stream",
     "text": [
      "\r",
      ".gz                   5%[>                   ]  88.42M  12.6MB/s    eta 2m 32s "
     ]
    },
    {
     "name": "stdout",
     "output_type": "stream",
     "text": [
      "\r",
      "gz                    5%[>                   ]  91.09M  12.7MB/s    eta 2m 27s "
     ]
    },
    {
     "name": "stdout",
     "output_type": "stream",
     "text": [
      "\r",
      "z                     5%[>                   ]  93.42M  12.9MB/s    eta 2m 27s "
     ]
    },
    {
     "name": "stdout",
     "output_type": "stream",
     "text": [
      "\r",
      "                      6%[>                   ]  96.19M  13.0MB/s    eta 2m 27s "
     ]
    },
    {
     "name": "stdout",
     "output_type": "stream",
     "text": [
      "\r",
      "                  G   6%[>                   ]  99.33M  13.1MB/s    eta 2m 27s "
     ]
    },
    {
     "name": "stdout",
     "output_type": "stream",
     "text": [
      "\r",
      "                 Go   6%[>                   ] 101.75M  13.0MB/s    eta 2m 27s "
     ]
    },
    {
     "name": "stdout",
     "output_type": "stream",
     "text": [
      "\r",
      "                Goo   6%[>                   ] 103.92M  12.8MB/s    eta 2m 22s "
     ]
    },
    {
     "name": "stdout",
     "output_type": "stream",
     "text": [
      "\r",
      "               Goog   6%[>                   ] 106.14M  12.5MB/s    eta 2m 22s "
     ]
    },
    {
     "name": "stdout",
     "output_type": "stream",
     "text": [
      "\r",
      "              Googl   6%[>                   ] 108.16M  12.2MB/s    eta 2m 22s "
     ]
    },
    {
     "name": "stdout",
     "output_type": "stream",
     "text": [
      "\r",
      "             Google   7%[>                   ] 110.28M  12.0MB/s    eta 2m 22s "
     ]
    },
    {
     "name": "stdout",
     "output_type": "stream",
     "text": [
      "\r",
      "            GoogleN   7%[>                   ] 112.27M  11.9MB/s    eta 2m 22s "
     ]
    },
    {
     "name": "stdout",
     "output_type": "stream",
     "text": [
      "\r",
      "           GoogleNe   7%[>                   ] 114.12M  11.6MB/s    eta 2m 22s "
     ]
    },
    {
     "name": "stdout",
     "output_type": "stream",
     "text": [
      "\r",
      "          GoogleNew   7%[>                   ] 116.09M  11.3MB/s    eta 2m 22s "
     ]
    },
    {
     "name": "stdout",
     "output_type": "stream",
     "text": [
      "\r",
      "         GoogleNews   7%[>                   ] 117.79M  11.1MB/s    eta 2m 22s "
     ]
    },
    {
     "name": "stdout",
     "output_type": "stream",
     "text": [
      "\r",
      "        GoogleNews-   7%[>                   ] 119.83M  11.2MB/s    eta 2m 22s "
     ]
    },
    {
     "name": "stdout",
     "output_type": "stream",
     "text": [
      "\r",
      "       GoogleNews-v   7%[>                   ] 122.29M  11.2MB/s    eta 2m 22s "
     ]
    },
    {
     "name": "stdout",
     "output_type": "stream",
     "text": [
      "\r",
      "      GoogleNews-ve   7%[>                   ] 124.14M  11.0MB/s    eta 2m 21s "
     ]
    },
    {
     "name": "stdout",
     "output_type": "stream",
     "text": [
      "\r",
      "     GoogleNews-vec   8%[>                   ] 125.87M  10.7MB/s    eta 2m 21s "
     ]
    },
    {
     "name": "stdout",
     "output_type": "stream",
     "text": [
      "\r",
      "    GoogleNews-vect   8%[>                   ] 128.03M  10.6MB/s    eta 2m 21s "
     ]
    },
    {
     "name": "stdout",
     "output_type": "stream",
     "text": [
      "\r",
      "   GoogleNews-vecto   8%[>                   ] 130.54M  10.5MB/s    eta 2m 21s "
     ]
    },
    {
     "name": "stdout",
     "output_type": "stream",
     "text": [
      "\r",
      "  GoogleNews-vector   8%[>                   ] 132.68M  10.2MB/s    eta 2m 21s "
     ]
    },
    {
     "name": "stdout",
     "output_type": "stream",
     "text": [
      "\r",
      " GoogleNews-vectors   8%[>                   ] 134.79M  10.2MB/s    eta 2m 20s "
     ]
    },
    {
     "name": "stdout",
     "output_type": "stream",
     "text": [
      "\r",
      "GoogleNews-vectors-   8%[>                   ] 137.43M  10.3MB/s    eta 2m 20s "
     ]
    },
    {
     "name": "stdout",
     "output_type": "stream",
     "text": [
      "\r",
      "oogleNews-vectors-n   8%[>                   ] 140.46M  10.7MB/s    eta 2m 20s "
     ]
    },
    {
     "name": "stdout",
     "output_type": "stream",
     "text": [
      "\r",
      "ogleNews-vectors-ne   9%[>                   ] 143.85M  11.1MB/s    eta 2m 20s "
     ]
    },
    {
     "name": "stdout",
     "output_type": "stream",
     "text": [
      "\r",
      "gleNews-vectors-neg   9%[>                   ] 147.59M  11.6MB/s    eta 2m 20s "
     ]
    },
    {
     "name": "stdout",
     "output_type": "stream",
     "text": [
      "\r",
      "leNews-vectors-nega   9%[>                   ] 151.74M  12.4MB/s    eta 2m 12s "
     ]
    },
    {
     "name": "stdout",
     "output_type": "stream",
     "text": [
      "\r",
      "eNews-vectors-negat   9%[>                   ] 155.94M  13.1MB/s    eta 2m 12s "
     ]
    },
    {
     "name": "stdout",
     "output_type": "stream",
     "text": [
      "\r",
      "News-vectors-negati  10%[=>                  ] 159.12M  13.5MB/s    eta 2m 12s "
     ]
    },
    {
     "name": "stdout",
     "output_type": "stream",
     "text": [
      "\r",
      "ews-vectors-negativ  10%[=>                  ] 161.91M  13.9MB/s    eta 2m 12s "
     ]
    },
    {
     "name": "stdout",
     "output_type": "stream",
     "text": [
      "\r",
      "ws-vectors-negative  10%[=>                  ] 165.03M  14.1MB/s    eta 2m 12s "
     ]
    },
    {
     "name": "stdout",
     "output_type": "stream",
     "text": [
      "\r",
      "s-vectors-negative3  10%[=>                  ] 168.54M  14.4MB/s    eta 2m 6s  "
     ]
    },
    {
     "name": "stdout",
     "output_type": "stream",
     "text": [
      "\r",
      "-vectors-negative30  10%[=>                  ] 171.86M  15.2MB/s    eta 2m 6s  "
     ]
    },
    {
     "name": "stdout",
     "output_type": "stream",
     "text": [
      "\r",
      "vectors-negative300  11%[=>                  ] 175.00M  15.5MB/s    eta 2m 6s  "
     ]
    },
    {
     "name": "stdout",
     "output_type": "stream",
     "text": [
      "\r",
      "ectors-negative300.  11%[=>                  ] 177.87M  15.6MB/s    eta 2m 6s  "
     ]
    },
    {
     "name": "stdout",
     "output_type": "stream",
     "text": [
      "\r",
      "ctors-negative300.b  11%[=>                  ] 179.83M  15.6MB/s    eta 2m 6s  "
     ]
    },
    {
     "name": "stdout",
     "output_type": "stream",
     "text": [
      "\r",
      "tors-negative300.bi  11%[=>                  ] 182.17M  15.6MB/s    eta 2m 3s  "
     ]
    },
    {
     "name": "stdout",
     "output_type": "stream",
     "text": [
      "\r",
      "ors-negative300.bin  11%[=>                  ] 184.59M  15.6MB/s    eta 2m 3s  "
     ]
    },
    {
     "name": "stdout",
     "output_type": "stream",
     "text": [
      "\r",
      "rs-negative300.bin.  11%[=>                  ] 186.57M  15.3MB/s    eta 2m 3s  "
     ]
    },
    {
     "name": "stdout",
     "output_type": "stream",
     "text": [
      "\r",
      "s-negative300.bin.g  11%[=>                  ] 188.43M  14.8MB/s    eta 2m 3s  "
     ]
    },
    {
     "name": "stdout",
     "output_type": "stream",
     "text": [
      "\r",
      "-negative300.bin.gz  12%[=>                  ] 190.09M  14.2MB/s    eta 2m 3s  "
     ]
    },
    {
     "name": "stdout",
     "output_type": "stream",
     "text": [
      "\r",
      "negative300.bin.gz   12%[=>                  ] 192.11M  13.4MB/s    eta 2m 3s  "
     ]
    },
    {
     "name": "stdout",
     "output_type": "stream",
     "text": [
      "\r",
      "egative300.bin.gz    12%[=>                  ] 194.52M  12.9MB/s    eta 2m 3s  "
     ]
    },
    {
     "name": "stdout",
     "output_type": "stream",
     "text": [
      "\r",
      "gative300.bin.gz     12%[=>                  ] 197.32M  12.7MB/s    eta 2m 3s  "
     ]
    },
    {
     "name": "stdout",
     "output_type": "stream",
     "text": [
      "\r",
      "ative300.bin.gz      12%[=>                  ] 200.51M  12.8MB/s    eta 2m 3s  "
     ]
    },
    {
     "name": "stdout",
     "output_type": "stream",
     "text": [
      "\r",
      "tive300.bin.gz       12%[=>                  ] 204.01M  13.0MB/s    eta 2m 3s  "
     ]
    },
    {
     "name": "stdout",
     "output_type": "stream",
     "text": [
      "\r",
      "ive300.bin.gz        13%[=>                  ] 206.69M  12.9MB/s    eta 2m 0s  "
     ]
    },
    {
     "name": "stdout",
     "output_type": "stream",
     "text": [
      "\r",
      "ve300.bin.gz         13%[=>                  ] 209.34M  12.4MB/s    eta 2m 0s  "
     ]
    },
    {
     "name": "stdout",
     "output_type": "stream",
     "text": [
      "\r",
      "e300.bin.gz          13%[=>                  ] 211.78M  12.3MB/s    eta 2m 0s  "
     ]
    },
    {
     "name": "stdout",
     "output_type": "stream",
     "text": [
      "\r",
      "300.bin.gz           13%[=>                  ] 213.64M  11.8MB/s    eta 2m 0s  "
     ]
    },
    {
     "name": "stdout",
     "output_type": "stream",
     "text": [
      "\r",
      "00.bin.gz            13%[=>                  ] 215.55M  11.7MB/s    eta 2m 0s  "
     ]
    },
    {
     "name": "stdout",
     "output_type": "stream",
     "text": [
      "\r",
      "0.bin.gz             13%[=>                  ] 218.18M  11.9MB/s    eta 1m 59s "
     ]
    },
    {
     "name": "stdout",
     "output_type": "stream",
     "text": [
      "\r",
      ".bin.gz              14%[=>                  ] 221.08M  12.0MB/s    eta 1m 59s "
     ]
    },
    {
     "name": "stdout",
     "output_type": "stream",
     "text": [
      "\r",
      "bin.gz               14%[=>                  ] 224.28M  12.4MB/s    eta 1m 59s "
     ]
    },
    {
     "name": "stdout",
     "output_type": "stream",
     "text": [
      "\r",
      "in.gz                14%[=>                  ] 227.54M  12.8MB/s    eta 1m 59s "
     ]
    },
    {
     "name": "stdout",
     "output_type": "stream",
     "text": [
      "\r",
      "n.gz                 14%[=>                  ] 230.33M  13.1MB/s    eta 1m 59s "
     ]
    },
    {
     "name": "stdout",
     "output_type": "stream",
     "text": [
      "\r",
      ".gz                  14%[=>                  ] 233.30M  13.6MB/s    eta 1m 56s "
     ]
    },
    {
     "name": "stdout",
     "output_type": "stream",
     "text": [
      "\r",
      "gz                   14%[=>                  ] 234.48M  13.1MB/s    eta 1m 56s "
     ]
    },
    {
     "name": "stdout",
     "output_type": "stream",
     "text": [
      "\r",
      "z                    15%[==>                 ] 236.53M  13.0MB/s    eta 1m 56s "
     ]
    },
    {
     "name": "stdout",
     "output_type": "stream",
     "text": [
      "\r",
      "                     15%[==>                 ] 239.46M  12.9MB/s    eta 1m 56s "
     ]
    },
    {
     "name": "stdout",
     "output_type": "stream",
     "text": [
      "\r",
      "                  G  15%[==>                 ] 242.66M  12.8MB/s    eta 1m 56s "
     ]
    },
    {
     "name": "stdout",
     "output_type": "stream",
     "text": [
      "\r",
      "                 Go  15%[==>                 ] 245.95M  13.0MB/s    eta 1m 54s "
     ]
    },
    {
     "name": "stdout",
     "output_type": "stream",
     "text": [
      "\r",
      "                Goo  15%[==>                 ] 248.90M  13.0MB/s    eta 1m 54s "
     ]
    },
    {
     "name": "stdout",
     "output_type": "stream",
     "text": [
      "\r",
      "               Goog  16%[==>                 ] 252.09M  13.3MB/s    eta 1m 54s "
     ]
    },
    {
     "name": "stdout",
     "output_type": "stream",
     "text": [
      "\r",
      "              Googl  16%[==>                 ] 254.84M  13.3MB/s    eta 1m 54s "
     ]
    },
    {
     "name": "stdout",
     "output_type": "stream",
     "text": [
      "\r",
      "             Google  16%[==>                 ] 257.64M  13.9MB/s    eta 1m 54s "
     ]
    },
    {
     "name": "stdout",
     "output_type": "stream",
     "text": [
      "\r",
      "            GoogleN  16%[==>                 ] 260.34M  14.0MB/s    eta 1m 52s "
     ]
    },
    {
     "name": "stdout",
     "output_type": "stream",
     "text": [
      "\r",
      "           GoogleNe  16%[==>                 ] 262.87M  13.9MB/s    eta 1m 52s "
     ]
    },
    {
     "name": "stdout",
     "output_type": "stream",
     "text": [
      "\r",
      "          GoogleNew  16%[==>                 ] 265.20M  13.6MB/s    eta 1m 52s "
     ]
    },
    {
     "name": "stdout",
     "output_type": "stream",
     "text": [
      "\r",
      "         GoogleNews  17%[==>                 ] 267.58M  13.3MB/s    eta 1m 52s "
     ]
    },
    {
     "name": "stdout",
     "output_type": "stream",
     "text": [
      "\r",
      "        GoogleNews-  17%[==>                 ] 270.44M  13.3MB/s    eta 1m 52s "
     ]
    },
    {
     "name": "stdout",
     "output_type": "stream",
     "text": [
      "\r",
      "       GoogleNews-v  17%[==>                 ] 273.56M  13.4MB/s    eta 1m 50s "
     ]
    },
    {
     "name": "stdout",
     "output_type": "stream",
     "text": [
      "\r",
      "      GoogleNews-ve  17%[==>                 ] 277.08M  13.8MB/s    eta 1m 50s "
     ]
    },
    {
     "name": "stdout",
     "output_type": "stream",
     "text": [
      "\r",
      "     GoogleNews-vec  17%[==>                 ] 279.97M  14.2MB/s    eta 1m 50s "
     ]
    },
    {
     "name": "stdout",
     "output_type": "stream",
     "text": [
      "\r",
      "    GoogleNews-vect  18%[==>                 ] 283.05M  14.5MB/s    eta 1m 50s "
     ]
    },
    {
     "name": "stdout",
     "output_type": "stream",
     "text": [
      "\r",
      "   GoogleNews-vecto  18%[==>                 ] 286.09M  14.5MB/s    eta 1m 50s "
     ]
    },
    {
     "name": "stdout",
     "output_type": "stream",
     "text": [
      "\r",
      "  GoogleNews-vector  18%[==>                 ] 288.62M  14.3MB/s    eta 1m 47s "
     ]
    },
    {
     "name": "stdout",
     "output_type": "stream",
     "text": [
      "\r",
      " GoogleNews-vectors  18%[==>                 ] 290.36M  13.8MB/s    eta 1m 47s "
     ]
    },
    {
     "name": "stdout",
     "output_type": "stream",
     "text": [
      "\r",
      "GoogleNews-vectors-  18%[==>                 ] 292.17M  13.4MB/s    eta 1m 47s "
     ]
    },
    {
     "name": "stdout",
     "output_type": "stream",
     "text": [
      "\r",
      "oogleNews-vectors-n  18%[==>                 ] 293.98M  13.0MB/s    eta 1m 47s "
     ]
    },
    {
     "name": "stdout",
     "output_type": "stream",
     "text": [
      "\r",
      "ogleNews-vectors-ne  18%[==>                 ] 295.01M  12.4MB/s    eta 1m 47s "
     ]
    },
    {
     "name": "stdout",
     "output_type": "stream",
     "text": [
      "\r",
      "gleNews-vectors-neg  18%[==>                 ] 297.02M  12.1MB/s    eta 1m 48s "
     ]
    },
    {
     "name": "stdout",
     "output_type": "stream",
     "text": [
      "\r",
      "leNews-vectors-nega  19%[==>                 ] 299.22M  12.0MB/s    eta 1m 48s "
     ]
    },
    {
     "name": "stdout",
     "output_type": "stream",
     "text": [
      "\r",
      "eNews-vectors-negat  19%[==>                 ] 301.90M  12.1MB/s    eta 1m 48s "
     ]
    },
    {
     "name": "stdout",
     "output_type": "stream",
     "text": [
      "\r",
      "News-vectors-negati  19%[==>                 ] 305.00M  12.4MB/s    eta 1m 48s "
     ]
    },
    {
     "name": "stdout",
     "output_type": "stream",
     "text": [
      "\r",
      "ews-vectors-negativ  19%[==>                 ] 308.52M  12.7MB/s    eta 1m 48s "
     ]
    },
    {
     "name": "stdout",
     "output_type": "stream",
     "text": [
      "\r",
      "ws-vectors-negative  19%[==>                 ] 311.36M  12.7MB/s    eta 1m 46s "
     ]
    },
    {
     "name": "stdout",
     "output_type": "stream",
     "text": [
      "\r",
      "s-vectors-negative3  19%[==>                 ] 313.80M  12.3MB/s    eta 1m 46s "
     ]
    },
    {
     "name": "stdout",
     "output_type": "stream",
     "text": [
      "\r",
      "-vectors-negative30  20%[===>                ] 315.23M  11.7MB/s    eta 1m 46s "
     ]
    },
    {
     "name": "stdout",
     "output_type": "stream",
     "text": [
      "\r",
      "vectors-negative300  20%[===>                ] 316.74M  11.4MB/s    eta 1m 46s "
     ]
    },
    {
     "name": "stdout",
     "output_type": "stream",
     "text": [
      "\r",
      "ectors-negative300.  20%[===>                ] 319.00M  11.0MB/s    eta 1m 46s "
     ]
    },
    {
     "name": "stdout",
     "output_type": "stream",
     "text": [
      "\r",
      "ctors-negative300.b  20%[===>                ] 321.57M  10.8MB/s    eta 1m 46s "
     ]
    },
    {
     "name": "stdout",
     "output_type": "stream",
     "text": [
      "\r",
      "tors-negative300.bi  20%[===>                ] 324.23M  11.0MB/s    eta 1m 46s "
     ]
    },
    {
     "name": "stdout",
     "output_type": "stream",
     "text": [
      "\r",
      "ors-negative300.bin  20%[===>                ] 326.29M  11.2MB/s    eta 1m 46s "
     ]
    },
    {
     "name": "stdout",
     "output_type": "stream",
     "text": [
      "\r",
      "rs-negative300.bin.  20%[===>                ] 328.59M  11.3MB/s    eta 1m 46s "
     ]
    },
    {
     "name": "stdout",
     "output_type": "stream",
     "text": [
      "\r",
      "s-negative300.bin.g  21%[===>                ] 330.82M  11.6MB/s    eta 1m 46s "
     ]
    },
    {
     "name": "stdout",
     "output_type": "stream",
     "text": [
      "\r",
      "-negative300.bin.gz  21%[===>                ] 333.06M  11.9MB/s    eta 1m 45s "
     ]
    },
    {
     "name": "stdout",
     "output_type": "stream",
     "text": [
      "\r",
      "negative300.bin.gz   21%[===>                ] 335.00M  11.8MB/s    eta 1m 45s "
     ]
    },
    {
     "name": "stdout",
     "output_type": "stream",
     "text": [
      "\r",
      "egative300.bin.gz    21%[===>                ] 337.09M  11.7MB/s    eta 1m 45s "
     ]
    },
    {
     "name": "stdout",
     "output_type": "stream",
     "text": [
      "\r",
      "gative300.bin.gz     21%[===>                ] 339.58M  11.5MB/s    eta 1m 45s "
     ]
    },
    {
     "name": "stdout",
     "output_type": "stream",
     "text": [
      "\r",
      "ative300.bin.gz      21%[===>                ] 341.82M  11.2MB/s    eta 1m 45s "
     ]
    },
    {
     "name": "stdout",
     "output_type": "stream",
     "text": [
      "\r",
      "tive300.bin.gz       21%[===>                ] 344.13M  10.9MB/s    eta 1m 44s "
     ]
    },
    {
     "name": "stdout",
     "output_type": "stream",
     "text": [
      "\r",
      "ive300.bin.gz        22%[===>                ] 346.84M  10.9MB/s    eta 1m 44s "
     ]
    },
    {
     "name": "stdout",
     "output_type": "stream",
     "text": [
      "\r",
      "ve300.bin.gz         22%[===>                ] 349.94M  11.3MB/s    eta 1m 44s "
     ]
    },
    {
     "name": "stdout",
     "output_type": "stream",
     "text": [
      "\r",
      "e300.bin.gz          22%[===>                ] 353.39M  12.0MB/s    eta 1m 44s "
     ]
    },
    {
     "name": "stdout",
     "output_type": "stream",
     "text": [
      "\r",
      "300.bin.gz           22%[===>                ] 357.24M  12.7MB/s    eta 1m 44s "
     ]
    },
    {
     "name": "stdout",
     "output_type": "stream",
     "text": [
      "\r",
      "00.bin.gz            22%[===>                ] 360.65M  12.9MB/s    eta 1m 41s "
     ]
    },
    {
     "name": "stdout",
     "output_type": "stream",
     "text": [
      "\r",
      "0.bin.gz             23%[===>                ] 363.14M  12.9MB/s    eta 1m 41s "
     ]
    },
    {
     "name": "stdout",
     "output_type": "stream",
     "text": [
      "\r",
      ".bin.gz              23%[===>                ] 365.76M  13.1MB/s    eta 1m 41s "
     ]
    },
    {
     "name": "stdout",
     "output_type": "stream",
     "text": [
      "\r",
      "bin.gz               23%[===>                ] 368.05M  13.0MB/s    eta 1m 41s "
     ]
    },
    {
     "name": "stdout",
     "output_type": "stream",
     "text": [
      "\r",
      "in.gz                23%[===>                ] 369.86M  12.9MB/s    eta 1m 41s "
     ]
    },
    {
     "name": "stdout",
     "output_type": "stream",
     "text": [
      "\r",
      "n.gz                 23%[===>                ] 371.84M  12.8MB/s    eta 1m 41s "
     ]
    },
    {
     "name": "stdout",
     "output_type": "stream",
     "text": [
      "\r",
      ".gz                  23%[===>                ] 374.18M  12.9MB/s    eta 1m 41s "
     ]
    },
    {
     "name": "stdout",
     "output_type": "stream",
     "text": [
      "\r",
      "gz                   23%[===>                ] 376.75M  13.0MB/s    eta 1m 41s "
     ]
    },
    {
     "name": "stdout",
     "output_type": "stream",
     "text": [
      "\r",
      "z                    24%[===>                ] 379.21M  13.1MB/s    eta 1m 41s "
     ]
    },
    {
     "name": "stdout",
     "output_type": "stream",
     "text": [
      "\r",
      "                     24%[===>                ] 381.85M  13.2MB/s    eta 1m 41s "
     ]
    },
    {
     "name": "stdout",
     "output_type": "stream",
     "text": [
      "\r",
      "                  G  24%[===>                ] 384.16M  13.2MB/s    eta 1m 40s "
     ]
    },
    {
     "name": "stdout",
     "output_type": "stream",
     "text": [
      "\r",
      "                 Go  24%[===>                ] 385.85M  13.0MB/s    eta 1m 40s "
     ]
    },
    {
     "name": "stdout",
     "output_type": "stream",
     "text": [
      "\r",
      "                Goo  24%[===>                ] 387.31M  12.5MB/s    eta 1m 40s "
     ]
    },
    {
     "name": "stdout",
     "output_type": "stream",
     "text": [
      "\r",
      "               Goog  24%[===>                ] 389.14M  12.1MB/s    eta 1m 40s "
     ]
    },
    {
     "name": "stdout",
     "output_type": "stream",
     "text": [
      "\r",
      "              Googl  24%[===>                ] 390.72M  11.2MB/s    eta 1m 40s "
     ]
    },
    {
     "name": "stdout",
     "output_type": "stream",
     "text": [
      "\r",
      "             Google  24%[===>                ] 392.67M  10.7MB/s    eta 1m 40s "
     ]
    },
    {
     "name": "stdout",
     "output_type": "stream",
     "text": [
      "\r",
      "            GoogleN  25%[====>               ] 395.00M  10.6MB/s    eta 1m 40s "
     ]
    },
    {
     "name": "stdout",
     "output_type": "stream",
     "text": [
      "\r",
      "           GoogleNe  25%[====>               ] 397.57M  10.6MB/s    eta 1m 40s "
     ]
    },
    {
     "name": "stdout",
     "output_type": "stream",
     "text": [
      "\r",
      "          GoogleNew  25%[====>               ] 399.53M  10.4MB/s    eta 1m 40s "
     ]
    },
    {
     "name": "stdout",
     "output_type": "stream",
     "text": [
      "\r",
      "         GoogleNews  25%[====>               ] 401.36M  10.4MB/s    eta 1m 40s "
     ]
    },
    {
     "name": "stdout",
     "output_type": "stream",
     "text": [
      "\r",
      "        GoogleNews-  25%[====>               ] 403.58M  10.5MB/s    eta 99s    "
     ]
    },
    {
     "name": "stdout",
     "output_type": "stream",
     "text": [
      "\r",
      "       GoogleNews-v  25%[====>               ] 405.36M  10.4MB/s    eta 99s    "
     ]
    },
    {
     "name": "stdout",
     "output_type": "stream",
     "text": [
      "\r",
      "      GoogleNews-ve  25%[====>               ] 407.10M  10.2MB/s    eta 99s    "
     ]
    },
    {
     "name": "stdout",
     "output_type": "stream",
     "text": [
      "\r",
      "     GoogleNews-vec  26%[====>               ] 409.01M  9.91MB/s    eta 99s    "
     ]
    },
    {
     "name": "stdout",
     "output_type": "stream",
     "text": [
      "\r",
      "    GoogleNews-vect  26%[====>               ] 411.33M  9.88MB/s    eta 99s    "
     ]
    },
    {
     "name": "stdout",
     "output_type": "stream",
     "text": [
      "\r",
      "   GoogleNews-vecto  26%[====>               ] 413.99M  9.93MB/s    eta 99s    "
     ]
    },
    {
     "name": "stdout",
     "output_type": "stream",
     "text": [
      "\r",
      "  GoogleNews-vector  26%[====>               ] 416.98M  10.3MB/s    eta 99s    "
     ]
    },
    {
     "name": "stdout",
     "output_type": "stream",
     "text": [
      "\r",
      " GoogleNews-vectors  26%[====>               ] 420.00M  10.8MB/s    eta 99s    "
     ]
    },
    {
     "name": "stdout",
     "output_type": "stream",
     "text": [
      "\r",
      "GoogleNews-vectors-  26%[====>               ] 422.71M  11.1MB/s    eta 99s    "
     ]
    },
    {
     "name": "stdout",
     "output_type": "stream",
     "text": [
      "\r",
      "oogleNews-vectors-n  27%[====>               ] 425.79M  11.6MB/s    eta 99s    "
     ]
    },
    {
     "name": "stdout",
     "output_type": "stream",
     "text": [
      "\r",
      "ogleNews-vectors-ne  27%[====>               ] 428.43M  11.8MB/s    eta 97s    "
     ]
    },
    {
     "name": "stdout",
     "output_type": "stream",
     "text": [
      "\r",
      "gleNews-vectors-neg  27%[====>               ] 430.59M  11.8MB/s    eta 97s    "
     ]
    },
    {
     "name": "stdout",
     "output_type": "stream",
     "text": [
      "\r",
      "leNews-vectors-nega  27%[====>               ] 432.93M  11.7MB/s    eta 97s    "
     ]
    },
    {
     "name": "stdout",
     "output_type": "stream",
     "text": [
      "\r",
      "eNews-vectors-negat  27%[====>               ] 435.67M  11.9MB/s    eta 97s    "
     ]
    },
    {
     "name": "stdout",
     "output_type": "stream",
     "text": [
      "\r",
      "News-vectors-negati  27%[====>               ] 438.81M  12.3MB/s    eta 97s    "
     ]
    },
    {
     "name": "stdout",
     "output_type": "stream",
     "text": [
      "\r",
      "ews-vectors-negativ  28%[====>               ] 441.34M  12.5MB/s    eta 95s    "
     ]
    },
    {
     "name": "stdout",
     "output_type": "stream",
     "text": [
      "\r",
      "ws-vectors-negative  28%[====>               ] 444.23M  12.8MB/s    eta 95s    "
     ]
    },
    {
     "name": "stdout",
     "output_type": "stream",
     "text": [
      "\r",
      "s-vectors-negative3  28%[====>               ] 447.28M  13.1MB/s    eta 95s    "
     ]
    },
    {
     "name": "stdout",
     "output_type": "stream",
     "text": [
      "\r",
      "-vectors-negative30  28%[====>               ] 449.88M  13.5MB/s    eta 95s    "
     ]
    },
    {
     "name": "stdout",
     "output_type": "stream",
     "text": [
      "\r",
      "vectors-negative300  28%[====>               ] 452.09M  13.5MB/s    eta 95s    "
     ]
    },
    {
     "name": "stdout",
     "output_type": "stream",
     "text": [
      "\r",
      "ectors-negative300.  28%[====>               ] 454.45M  13.4MB/s    eta 94s    "
     ]
    },
    {
     "name": "stdout",
     "output_type": "stream",
     "text": [
      "\r",
      "ctors-negative300.b  29%[====>               ] 456.49M  13.0MB/s    eta 94s    "
     ]
    },
    {
     "name": "stdout",
     "output_type": "stream",
     "text": [
      "\r",
      "tors-negative300.bi  29%[====>               ] 458.45M  12.7MB/s    eta 94s    "
     ]
    },
    {
     "name": "stdout",
     "output_type": "stream",
     "text": [
      "\r",
      "ors-negative300.bin  29%[====>               ] 460.49M  12.5MB/s    eta 94s    "
     ]
    },
    {
     "name": "stdout",
     "output_type": "stream",
     "text": [
      "\r",
      "rs-negative300.bin.  29%[====>               ] 462.83M  12.2MB/s    eta 94s    "
     ]
    },
    {
     "name": "stdout",
     "output_type": "stream",
     "text": [
      "\r",
      "s-negative300.bin.g  29%[====>               ] 465.62M  12.3MB/s    eta 93s    "
     ]
    },
    {
     "name": "stdout",
     "output_type": "stream",
     "text": [
      "\r",
      "-negative300.bin.gz  29%[====>               ] 468.06M  12.3MB/s    eta 93s    "
     ]
    },
    {
     "name": "stdout",
     "output_type": "stream",
     "text": [
      "\r",
      "negative300.bin.gz   29%[====>               ] 470.65M  12.5MB/s    eta 93s    "
     ]
    },
    {
     "name": "stdout",
     "output_type": "stream",
     "text": [
      "\r",
      "egative300.bin.gz    30%[=====>              ] 473.59M  12.6MB/s    eta 93s    "
     ]
    },
    {
     "name": "stdout",
     "output_type": "stream",
     "text": [
      "\r",
      "gative300.bin.gz     30%[=====>              ] 475.58M  12.3MB/s    eta 93s    "
     ]
    },
    {
     "name": "stdout",
     "output_type": "stream",
     "text": [
      "\r",
      "ative300.bin.gz      30%[=====>              ] 477.59M  12.0MB/s    eta 92s    "
     ]
    },
    {
     "name": "stdout",
     "output_type": "stream",
     "text": [
      "\r",
      "tive300.bin.gz       30%[=====>              ] 480.05M  11.9MB/s    eta 92s    "
     ]
    },
    {
     "name": "stdout",
     "output_type": "stream",
     "text": [
      "\r",
      "ive300.bin.gz        30%[=====>              ] 482.46M  11.7MB/s    eta 92s    "
     ]
    },
    {
     "name": "stdout",
     "output_type": "stream",
     "text": [
      "\r",
      "ve300.bin.gz         30%[=====>              ] 484.77M  11.5MB/s    eta 92s    "
     ]
    },
    {
     "name": "stdout",
     "output_type": "stream",
     "text": [
      "\r",
      "e300.bin.gz          31%[=====>              ] 487.42M  11.6MB/s    eta 92s    "
     ]
    },
    {
     "name": "stdout",
     "output_type": "stream",
     "text": [
      "\r",
      "300.bin.gz           31%[=====>              ] 490.52M  11.9MB/s    eta 91s    "
     ]
    },
    {
     "name": "stdout",
     "output_type": "stream",
     "text": [
      "\r",
      "00.bin.gz            31%[=====>              ] 493.93M  12.4MB/s    eta 91s    "
     ]
    },
    {
     "name": "stdout",
     "output_type": "stream",
     "text": [
      "\r",
      "0.bin.gz             31%[=====>              ] 496.58M  12.5MB/s    eta 91s    "
     ]
    },
    {
     "name": "stdout",
     "output_type": "stream",
     "text": [
      "\r",
      ".bin.gz              31%[=====>              ] 499.66M  12.9MB/s    eta 91s    "
     ]
    },
    {
     "name": "stdout",
     "output_type": "stream",
     "text": [
      "\r",
      "bin.gz               31%[=====>              ] 502.31M  13.0MB/s    eta 91s    "
     ]
    },
    {
     "name": "stdout",
     "output_type": "stream",
     "text": [
      "\r",
      "in.gz                32%[=====>              ] 504.39M  12.8MB/s    eta 90s    "
     ]
    },
    {
     "name": "stdout",
     "output_type": "stream",
     "text": [
      "\r",
      "n.gz                 32%[=====>              ] 506.83M  12.7MB/s    eta 90s    "
     ]
    },
    {
     "name": "stdout",
     "output_type": "stream",
     "text": [
      "\r",
      ".gz                  32%[=====>              ] 509.50M  12.8MB/s    eta 90s    "
     ]
    },
    {
     "name": "stdout",
     "output_type": "stream",
     "text": [
      "\r",
      "gz                   32%[=====>              ] 511.76M  12.6MB/s    eta 90s    "
     ]
    },
    {
     "name": "stdout",
     "output_type": "stream",
     "text": [
      "\r",
      "z                    32%[=====>              ] 514.35M  12.6MB/s    eta 90s    "
     ]
    },
    {
     "name": "stdout",
     "output_type": "stream",
     "text": [
      "\r",
      "                     32%[=====>              ] 516.51M  12.9MB/s    eta 88s    "
     ]
    },
    {
     "name": "stdout",
     "output_type": "stream",
     "text": [
      "\r",
      "                  G  33%[=====>              ] 518.91M  12.8MB/s    eta 88s    "
     ]
    },
    {
     "name": "stdout",
     "output_type": "stream",
     "text": [
      "\r",
      "                 Go  33%[=====>              ] 521.14M  12.7MB/s    eta 88s    "
     ]
    },
    {
     "name": "stdout",
     "output_type": "stream",
     "text": [
      "\r",
      "                Goo  33%[=====>              ] 523.40M  12.4MB/s    eta 88s    "
     ]
    },
    {
     "name": "stdout",
     "output_type": "stream",
     "text": [
      "\r",
      "               Goog  33%[=====>              ] 525.32M  12.1MB/s    eta 88s    "
     ]
    },
    {
     "name": "stdout",
     "output_type": "stream",
     "text": [
      "\r",
      "              Googl  33%[=====>              ] 527.36M  11.8MB/s    eta 88s    "
     ]
    },
    {
     "name": "stdout",
     "output_type": "stream",
     "text": [
      "\r",
      "             Google  33%[=====>              ] 529.94M  11.6MB/s    eta 88s    "
     ]
    },
    {
     "name": "stdout",
     "output_type": "stream",
     "text": [
      "\r",
      "            GoogleN  33%[=====>              ] 532.09M  11.2MB/s    eta 88s    "
     ]
    },
    {
     "name": "stdout",
     "output_type": "stream",
     "text": [
      "\r",
      "           GoogleNe  33%[=====>              ] 533.84M  10.9MB/s    eta 88s    "
     ]
    },
    {
     "name": "stdout",
     "output_type": "stream",
     "text": [
      "\r",
      "          GoogleNew  34%[=====>              ] 535.95M  10.7MB/s    eta 88s    "
     ]
    },
    {
     "name": "stdout",
     "output_type": "stream",
     "text": [
      "\r",
      "         GoogleNews  34%[=====>              ] 538.37M  10.8MB/s    eta 87s    "
     ]
    },
    {
     "name": "stdout",
     "output_type": "stream",
     "text": [
      "\r",
      "        GoogleNews-  34%[=====>              ] 540.58M  10.8MB/s    eta 87s    "
     ]
    },
    {
     "name": "stdout",
     "output_type": "stream",
     "text": [
      "\r",
      "       GoogleNews-v  34%[=====>              ] 543.04M  10.7MB/s    eta 87s    "
     ]
    },
    {
     "name": "stdout",
     "output_type": "stream",
     "text": [
      "\r",
      "      GoogleNews-ve  34%[=====>              ] 545.67M  10.8MB/s    eta 87s    "
     ]
    },
    {
     "name": "stdout",
     "output_type": "stream",
     "text": [
      "\r",
      "     GoogleNews-vec  34%[=====>              ] 547.73M  10.7MB/s    eta 87s    "
     ]
    },
    {
     "name": "stdout",
     "output_type": "stream",
     "text": [
      "\r",
      "    GoogleNews-vect  34%[=====>              ] 549.63M  10.6MB/s    eta 86s    "
     ]
    },
    {
     "name": "stdout",
     "output_type": "stream",
     "text": [
      "\r",
      "   GoogleNews-vecto  35%[======>             ] 551.39M  10.4MB/s    eta 86s    "
     ]
    },
    {
     "name": "stdout",
     "output_type": "stream",
     "text": [
      "\r",
      "  GoogleNews-vector  35%[======>             ] 553.10M  10.2MB/s    eta 86s    "
     ]
    },
    {
     "name": "stdout",
     "output_type": "stream",
     "text": [
      "\r",
      " GoogleNews-vectors  35%[======>             ] 554.77M  10.0MB/s    eta 86s    "
     ]
    },
    {
     "name": "stdout",
     "output_type": "stream",
     "text": [
      "\r",
      "GoogleNews-vectors-  35%[======>             ] 556.80M  10.4MB/s    eta 86s    "
     ]
    },
    {
     "name": "stdout",
     "output_type": "stream",
     "text": [
      "\r",
      "oogleNews-vectors-n  35%[======>             ] 559.22M  10.5MB/s    eta 86s    "
     ]
    },
    {
     "name": "stdout",
     "output_type": "stream",
     "text": [
      "\r",
      "ogleNews-vectors-ne  35%[======>             ] 562.01M  10.7MB/s    eta 86s    "
     ]
    },
    {
     "name": "stdout",
     "output_type": "stream",
     "text": [
      "\r",
      "gleNews-vectors-neg  35%[======>             ] 565.03M  10.8MB/s    eta 86s    "
     ]
    },
    {
     "name": "stdout",
     "output_type": "stream",
     "text": [
      "\r",
      "leNews-vectors-nega  36%[======>             ] 567.44M  11.1MB/s    eta 86s    "
     ]
    },
    {
     "name": "stdout",
     "output_type": "stream",
     "text": [
      "\r",
      "eNews-vectors-negat  36%[======>             ] 570.15M  11.2MB/s    eta 86s    "
     ]
    },
    {
     "name": "stdout",
     "output_type": "stream",
     "text": [
      "\r",
      "News-vectors-negati  36%[======>             ] 572.35M  11.2MB/s    eta 85s    "
     ]
    },
    {
     "name": "stdout",
     "output_type": "stream",
     "text": [
      "\r",
      "ews-vectors-negativ  36%[======>             ] 574.33M  11.1MB/s    eta 85s    "
     ]
    },
    {
     "name": "stdout",
     "output_type": "stream",
     "text": [
      "\r",
      "ws-vectors-negative  36%[======>             ] 576.27M  11.0MB/s    eta 85s    "
     ]
    },
    {
     "name": "stdout",
     "output_type": "stream",
     "text": [
      "\r",
      "s-vectors-negative3  36%[======>             ] 577.85M  10.6MB/s    eta 85s    "
     ]
    },
    {
     "name": "stdout",
     "output_type": "stream",
     "text": [
      "\r",
      "-vectors-negative30  36%[======>             ] 579.51M  10.4MB/s    eta 85s    "
     ]
    },
    {
     "name": "stdout",
     "output_type": "stream",
     "text": [
      "\r",
      "vectors-negative300  37%[======>             ] 581.38M  10.4MB/s    eta 84s    "
     ]
    },
    {
     "name": "stdout",
     "output_type": "stream",
     "text": [
      "\r",
      "ectors-negative300.  37%[======>             ] 583.53M  10.6MB/s    eta 84s    "
     ]
    },
    {
     "name": "stdout",
     "output_type": "stream",
     "text": [
      "\r",
      "ctors-negative300.b  37%[======>             ] 586.15M  10.9MB/s    eta 84s    "
     ]
    },
    {
     "name": "stdout",
     "output_type": "stream",
     "text": [
      "\r",
      "tors-negative300.bi  37%[======>             ] 589.22M  11.3MB/s    eta 84s    "
     ]
    },
    {
     "name": "stdout",
     "output_type": "stream",
     "text": [
      "\r",
      "ors-negative300.bin  37%[======>             ] 591.91M  11.6MB/s    eta 84s    "
     ]
    },
    {
     "name": "stdout",
     "output_type": "stream",
     "text": [
      "\r",
      "rs-negative300.bin.  37%[======>             ] 593.99M  11.5MB/s    eta 83s    "
     ]
    },
    {
     "name": "stdout",
     "output_type": "stream",
     "text": [
      "\r",
      "s-negative300.bin.g  37%[======>             ] 595.46M  11.2MB/s    eta 83s    "
     ]
    },
    {
     "name": "stdout",
     "output_type": "stream",
     "text": [
      "\r",
      "-negative300.bin.gz  38%[======>             ] 597.42M  10.8MB/s    eta 83s    "
     ]
    },
    {
     "name": "stdout",
     "output_type": "stream",
     "text": [
      "\r",
      "negative300.bin.gz   38%[======>             ] 599.26M  10.6MB/s    eta 83s    "
     ]
    },
    {
     "name": "stdout",
     "output_type": "stream",
     "text": [
      "\r",
      "egative300.bin.gz    38%[======>             ] 601.27M  10.4MB/s    eta 83s    "
     ]
    },
    {
     "name": "stdout",
     "output_type": "stream",
     "text": [
      "\r",
      "gative300.bin.gz     38%[======>             ] 603.67M  10.4MB/s    eta 83s    "
     ]
    },
    {
     "name": "stdout",
     "output_type": "stream",
     "text": [
      "\r",
      "ative300.bin.gz      38%[======>             ] 605.74M  10.4MB/s    eta 83s    "
     ]
    },
    {
     "name": "stdout",
     "output_type": "stream",
     "text": [
      "\r",
      "tive300.bin.gz       38%[======>             ] 607.93M  10.4MB/s    eta 83s    "
     ]
    },
    {
     "name": "stdout",
     "output_type": "stream",
     "text": [
      "\r",
      "ive300.bin.gz        38%[======>             ] 609.82M  10.4MB/s    eta 83s    "
     ]
    },
    {
     "name": "stdout",
     "output_type": "stream",
     "text": [
      "\r",
      "ve300.bin.gz         38%[======>             ] 611.96M  10.7MB/s    eta 83s    "
     ]
    },
    {
     "name": "stdout",
     "output_type": "stream",
     "text": [
      "\r",
      "e300.bin.gz          39%[======>             ] 613.81M  10.7MB/s    eta 82s    "
     ]
    },
    {
     "name": "stdout",
     "output_type": "stream",
     "text": [
      "\r",
      "300.bin.gz           39%[======>             ] 616.08M  10.8MB/s    eta 82s    "
     ]
    },
    {
     "name": "stdout",
     "output_type": "stream",
     "text": [
      "\r",
      "00.bin.gz            39%[======>             ] 618.74M  10.9MB/s    eta 82s    "
     ]
    },
    {
     "name": "stdout",
     "output_type": "stream",
     "text": [
      "\r",
      "0.bin.gz             39%[======>             ] 621.41M  10.8MB/s    eta 82s    "
     ]
    },
    {
     "name": "stdout",
     "output_type": "stream",
     "text": [
      "\r",
      ".bin.gz              39%[======>             ] 623.88M  10.7MB/s    eta 82s    "
     ]
    },
    {
     "name": "stdout",
     "output_type": "stream",
     "text": [
      "\r",
      "bin.gz               39%[======>             ] 626.11M  10.6MB/s    eta 81s    "
     ]
    },
    {
     "name": "stdout",
     "output_type": "stream",
     "text": [
      "\r",
      "in.gz                39%[======>             ] 628.25M  10.7MB/s    eta 81s    "
     ]
    },
    {
     "name": "stdout",
     "output_type": "stream",
     "text": [
      "\r",
      "n.gz                 40%[=======>            ] 630.16M  10.8MB/s    eta 81s    "
     ]
    },
    {
     "name": "stdout",
     "output_type": "stream",
     "text": [
      "\r",
      ".gz                  40%[=======>            ] 631.74M  10.7MB/s    eta 81s    "
     ]
    },
    {
     "name": "stdout",
     "output_type": "stream",
     "text": [
      "\r",
      "gz                   40%[=======>            ] 633.02M  10.5MB/s    eta 81s    "
     ]
    },
    {
     "name": "stdout",
     "output_type": "stream",
     "text": [
      "\r",
      "z                    40%[=======>            ] 634.69M  10.3MB/s    eta 80s    "
     ]
    },
    {
     "name": "stdout",
     "output_type": "stream",
     "text": [
      "\r",
      "                     40%[=======>            ] 636.70M  10.2MB/s    eta 80s    "
     ]
    },
    {
     "name": "stdout",
     "output_type": "stream",
     "text": [
      "\r",
      "                  G  40%[=======>            ] 639.04M  10.3MB/s    eta 80s    "
     ]
    },
    {
     "name": "stdout",
     "output_type": "stream",
     "text": [
      "\r",
      "                 Go  40%[=======>            ] 641.83M  10.6MB/s    eta 80s    "
     ]
    },
    {
     "name": "stdout",
     "output_type": "stream",
     "text": [
      "\r",
      "                Goo  41%[=======>            ] 644.60M  10.8MB/s    eta 80s    "
     ]
    },
    {
     "name": "stdout",
     "output_type": "stream",
     "text": [
      "\r",
      "               Goog  41%[=======>            ] 646.78M  10.9MB/s    eta 79s    "
     ]
    },
    {
     "name": "stdout",
     "output_type": "stream",
     "text": [
      "\r",
      "              Googl  41%[=======>            ] 648.72M  10.8MB/s    eta 79s    "
     ]
    },
    {
     "name": "stdout",
     "output_type": "stream",
     "text": [
      "\r",
      "             Google  41%[=======>            ] 650.41M  10.5MB/s    eta 79s    "
     ]
    },
    {
     "name": "stdout",
     "output_type": "stream",
     "text": [
      "\r",
      "            GoogleN  41%[=======>            ] 652.52M  10.4MB/s    eta 79s    "
     ]
    },
    {
     "name": "stdout",
     "output_type": "stream",
     "text": [
      "\r",
      "           GoogleNe  41%[=======>            ] 654.73M  10.2MB/s    eta 79s    "
     ]
    },
    {
     "name": "stdout",
     "output_type": "stream",
     "text": [
      "\r",
      "          GoogleNew  41%[=======>            ] 656.51M  10.0MB/s    eta 79s    "
     ]
    },
    {
     "name": "stdout",
     "output_type": "stream",
     "text": [
      "\r",
      "         GoogleNews  41%[=======>            ] 658.83M  10.1MB/s    eta 79s    "
     ]
    },
    {
     "name": "stdout",
     "output_type": "stream",
     "text": [
      "\r",
      "        GoogleNews-  42%[=======>            ] 661.55M  10.4MB/s    eta 79s    "
     ]
    },
    {
     "name": "stdout",
     "output_type": "stream",
     "text": [
      "\r",
      "       GoogleNews-v  42%[=======>            ] 663.71M  10.5MB/s    eta 79s    "
     ]
    },
    {
     "name": "stdout",
     "output_type": "stream",
     "text": [
      "\r",
      "      GoogleNews-ve  42%[=======>            ] 665.34M  10.6MB/s    eta 79s    "
     ]
    },
    {
     "name": "stdout",
     "output_type": "stream",
     "text": [
      "\r",
      "     GoogleNews-vec  42%[=======>            ] 667.15M  10.6MB/s    eta 78s    "
     ]
    },
    {
     "name": "stdout",
     "output_type": "stream",
     "text": [
      "\r",
      "    GoogleNews-vect  42%[=======>            ] 669.61M  10.9MB/s    eta 78s    "
     ]
    },
    {
     "name": "stdout",
     "output_type": "stream",
     "text": [
      "\r",
      "   GoogleNews-vecto  42%[=======>            ] 672.00M  10.9MB/s    eta 78s    "
     ]
    },
    {
     "name": "stdout",
     "output_type": "stream",
     "text": [
      "\r",
      "  GoogleNews-vector  42%[=======>            ] 673.91M  10.8MB/s    eta 78s    "
     ]
    },
    {
     "name": "stdout",
     "output_type": "stream",
     "text": [
      "\r",
      " GoogleNews-vectors  43%[=======>            ] 675.86M  10.3MB/s    eta 78s    "
     ]
    },
    {
     "name": "stdout",
     "output_type": "stream",
     "text": [
      "\r",
      "GoogleNews-vectors-  43%[=======>            ] 678.27M  10.4MB/s    eta 77s    "
     ]
    },
    {
     "name": "stdout",
     "output_type": "stream",
     "text": [
      "\r",
      "oogleNews-vectors-n  43%[=======>            ] 680.76M  10.6MB/s    eta 77s    "
     ]
    },
    {
     "name": "stdout",
     "output_type": "stream",
     "text": [
      "\r",
      "ogleNews-vectors-ne  43%[=======>            ] 682.99M  10.7MB/s    eta 77s    "
     ]
    },
    {
     "name": "stdout",
     "output_type": "stream",
     "text": [
      "\r",
      "gleNews-vectors-neg  43%[=======>            ] 684.88M  10.7MB/s    eta 77s    "
     ]
    },
    {
     "name": "stdout",
     "output_type": "stream",
     "text": [
      "\r",
      "leNews-vectors-nega  43%[=======>            ] 687.05M  10.7MB/s    eta 77s    "
     ]
    },
    {
     "name": "stdout",
     "output_type": "stream",
     "text": [
      "\r",
      "eNews-vectors-negat  43%[=======>            ] 689.67M  10.9MB/s    eta 76s    "
     ]
    },
    {
     "name": "stdout",
     "output_type": "stream",
     "text": [
      "\r",
      "News-vectors-negati  44%[=======>            ] 692.02M  11.0MB/s    eta 76s    "
     ]
    },
    {
     "name": "stdout",
     "output_type": "stream",
     "text": [
      "\r",
      "ews-vectors-negativ  44%[=======>            ] 694.13M  10.9MB/s    eta 76s    "
     ]
    },
    {
     "name": "stdout",
     "output_type": "stream",
     "text": [
      "\r",
      "ws-vectors-negative  44%[=======>            ] 695.65M  10.6MB/s    eta 76s    "
     ]
    },
    {
     "name": "stdout",
     "output_type": "stream",
     "text": [
      "\r",
      "s-vectors-negative3  44%[=======>            ] 697.40M  10.5MB/s    eta 76s    "
     ]
    },
    {
     "name": "stdout",
     "output_type": "stream",
     "text": [
      "\r",
      "-vectors-negative30  44%[=======>            ] 699.62M  10.7MB/s    eta 75s    "
     ]
    },
    {
     "name": "stdout",
     "output_type": "stream",
     "text": [
      "\r",
      "vectors-negative300  44%[=======>            ] 702.21M  10.8MB/s    eta 75s    "
     ]
    },
    {
     "name": "stdout",
     "output_type": "stream",
     "text": [
      "\r",
      "ectors-negative300.  44%[=======>            ] 705.23M  11.0MB/s    eta 75s    "
     ]
    },
    {
     "name": "stdout",
     "output_type": "stream",
     "text": [
      "\r",
      "ctors-negative300.b  45%[========>           ] 708.09M  11.2MB/s    eta 75s    "
     ]
    },
    {
     "name": "stdout",
     "output_type": "stream",
     "text": [
      "\r",
      "tors-negative300.bi  45%[========>           ] 709.95M  11.2MB/s    eta 75s    "
     ]
    },
    {
     "name": "stdout",
     "output_type": "stream",
     "text": [
      "\r",
      "ors-negative300.bin  45%[========>           ] 711.54M  11.0MB/s    eta 74s    "
     ]
    },
    {
     "name": "stdout",
     "output_type": "stream",
     "text": [
      "\r",
      "rs-negative300.bin.  45%[========>           ] 713.45M  10.8MB/s    eta 74s    "
     ]
    },
    {
     "name": "stdout",
     "output_type": "stream",
     "text": [
      "\r",
      "s-negative300.bin.g  45%[========>           ] 715.88M  10.8MB/s    eta 74s    "
     ]
    },
    {
     "name": "stdout",
     "output_type": "stream",
     "text": [
      "\r",
      "-negative300.bin.gz  45%[========>           ] 718.70M  11.1MB/s    eta 74s    "
     ]
    },
    {
     "name": "stdout",
     "output_type": "stream",
     "text": [
      "\r",
      "negative300.bin.gz   45%[========>           ] 720.90M  1.92MB/s    eta 91s    "
     ]
    },
    {
     "name": "stdout",
     "output_type": "stream",
     "text": [
      "\r",
      "egative300.bin.gz    46%[========>           ] 727.15M  2.16MB/s    eta 91s    "
     ]
    },
    {
     "name": "stdout",
     "output_type": "stream",
     "text": [
      "\r",
      "gative300.bin.gz     46%[========>           ] 728.96M  2.16MB/s    eta 91s    "
     ]
    },
    {
     "name": "stdout",
     "output_type": "stream",
     "text": [
      "\r",
      "ative300.bin.gz      46%[========>           ] 731.21M  2.11MB/s    eta 91s    "
     ]
    },
    {
     "name": "stdout",
     "output_type": "stream",
     "text": [
      "\r",
      "tive300.bin.gz       46%[========>           ] 733.24M  2.15MB/s    eta 91s    "
     ]
    },
    {
     "name": "stdout",
     "output_type": "stream",
     "text": [
      "\r",
      "ive300.bin.gz        46%[========>           ] 735.33M  2.20MB/s    eta 89s    "
     ]
    },
    {
     "name": "stdout",
     "output_type": "stream",
     "text": [
      "\r",
      "ve300.bin.gz         46%[========>           ] 736.86M  2.12MB/s    eta 89s    "
     ]
    },
    {
     "name": "stdout",
     "output_type": "stream",
     "text": [
      "\r",
      "e300.bin.gz          47%[========>           ] 738.30M  2.09MB/s    eta 89s    "
     ]
    },
    {
     "name": "stdout",
     "output_type": "stream",
     "text": [
      "\r",
      "300.bin.gz           47%[========>           ] 739.70M  2.04MB/s    eta 89s    "
     ]
    },
    {
     "name": "stdout",
     "output_type": "stream",
     "text": [
      "\r",
      "00.bin.gz            47%[========>           ] 740.88M  1.97MB/s    eta 89s    "
     ]
    },
    {
     "name": "stdout",
     "output_type": "stream",
     "text": [
      "\r",
      "0.bin.gz             47%[========>           ] 742.32M  1.86MB/s    eta 88s    "
     ]
    },
    {
     "name": "stdout",
     "output_type": "stream",
     "text": [
      "\r",
      ".bin.gz              47%[========>           ] 744.20M  1.90MB/s    eta 88s    "
     ]
    },
    {
     "name": "stdout",
     "output_type": "stream",
     "text": [
      "\r",
      "bin.gz               47%[========>           ] 746.40M  1.95MB/s    eta 88s    "
     ]
    },
    {
     "name": "stdout",
     "output_type": "stream",
     "text": [
      "\r",
      "in.gz                47%[========>           ] 748.40M  1.88MB/s    eta 88s    "
     ]
    },
    {
     "name": "stdout",
     "output_type": "stream",
     "text": [
      "\r",
      "n.gz                 47%[========>           ] 750.36M  1.87MB/s    eta 88s    "
     ]
    },
    {
     "name": "stdout",
     "output_type": "stream",
     "text": [
      "\r",
      ".gz                  47%[========>           ] 752.02M  1.84MB/s    eta 87s    "
     ]
    },
    {
     "name": "stdout",
     "output_type": "stream",
     "text": [
      "\r",
      "gz                   48%[========>           ] 754.06M  8.89MB/s    eta 87s    "
     ]
    },
    {
     "name": "stdout",
     "output_type": "stream",
     "text": [
      "\r",
      "z                    48%[========>           ] 756.23M  9.03MB/s    eta 87s    "
     ]
    },
    {
     "name": "stdout",
     "output_type": "stream",
     "text": [
      "\r",
      "                     48%[========>           ] 758.77M  9.22MB/s    eta 87s    "
     ]
    },
    {
     "name": "stdout",
     "output_type": "stream",
     "text": [
      "\r",
      "                  G  48%[========>           ] 761.03M  9.19MB/s    eta 87s    "
     ]
    },
    {
     "name": "stdout",
     "output_type": "stream",
     "text": [
      "\r",
      "                 Go  48%[========>           ] 762.94M  9.20MB/s    eta 86s    "
     ]
    },
    {
     "name": "stdout",
     "output_type": "stream",
     "text": [
      "\r",
      "                Goo  48%[========>           ] 764.35M  8.98MB/s    eta 86s    "
     ]
    },
    {
     "name": "stdout",
     "output_type": "stream",
     "text": [
      "\r",
      "               Goog  48%[========>           ] 766.13M  9.18MB/s    eta 86s    "
     ]
    },
    {
     "name": "stdout",
     "output_type": "stream",
     "text": [
      "\r",
      "              Googl  48%[========>           ] 767.72M  9.18MB/s    eta 86s    "
     ]
    },
    {
     "name": "stdout",
     "output_type": "stream",
     "text": [
      "\r",
      "             Google  48%[========>           ] 769.50M  9.33MB/s    eta 86s    "
     ]
    },
    {
     "name": "stdout",
     "output_type": "stream",
     "text": [
      "\r",
      "            GoogleN  49%[========>           ] 771.66M  9.69MB/s    eta 85s    "
     ]
    },
    {
     "name": "stdout",
     "output_type": "stream",
     "text": [
      "\r",
      "           GoogleNe  49%[========>           ] 773.50M  9.70MB/s    eta 85s    "
     ]
    },
    {
     "name": "stdout",
     "output_type": "stream",
     "text": [
      "\r",
      "          GoogleNew  49%[========>           ] 775.47M  9.70MB/s    eta 85s    "
     ]
    },
    {
     "name": "stdout",
     "output_type": "stream",
     "text": [
      "\r",
      "         GoogleNews  49%[========>           ] 778.05M  9.80MB/s    eta 85s    "
     ]
    },
    {
     "name": "stdout",
     "output_type": "stream",
     "text": [
      "\r",
      "        GoogleNews-  49%[========>           ] 780.59M  9.96MB/s    eta 85s    "
     ]
    },
    {
     "name": "stdout",
     "output_type": "stream",
     "text": [
      "\r",
      "       GoogleNews-v  49%[========>           ] 782.94M  10.2MB/s    eta 83s    "
     ]
    },
    {
     "name": "stdout",
     "output_type": "stream",
     "text": [
      "\r",
      "      GoogleNews-ve  50%[=========>          ] 785.47M  10.4MB/s    eta 83s    "
     ]
    },
    {
     "name": "stdout",
     "output_type": "stream",
     "text": [
      "\r",
      "     GoogleNews-vec  50%[=========>          ] 787.39M  10.3MB/s    eta 83s    "
     ]
    },
    {
     "name": "stdout",
     "output_type": "stream",
     "text": [
      "\r",
      "    GoogleNews-vect  50%[=========>          ] 789.24M  10.2MB/s    eta 83s    "
     ]
    },
    {
     "name": "stdout",
     "output_type": "stream",
     "text": [
      "\r",
      "   GoogleNews-vecto  50%[=========>          ] 791.50M  10.1MB/s    eta 83s    "
     ]
    },
    {
     "name": "stdout",
     "output_type": "stream",
     "text": [
      "\r",
      "  GoogleNews-vector  50%[=========>          ] 794.13M  10.3MB/s    eta 82s    "
     ]
    },
    {
     "name": "stdout",
     "output_type": "stream",
     "text": [
      "\r",
      " GoogleNews-vectors  50%[=========>          ] 797.12M  10.7MB/s    eta 82s    "
     ]
    },
    {
     "name": "stdout",
     "output_type": "stream",
     "text": [
      "\r",
      "GoogleNews-vectors-  50%[=========>          ] 799.91M  11.2MB/s    eta 82s    "
     ]
    },
    {
     "name": "stdout",
     "output_type": "stream",
     "text": [
      "\r",
      "oogleNews-vectors-n  51%[=========>          ] 802.52M  11.4MB/s    eta 82s    "
     ]
    },
    {
     "name": "stdout",
     "output_type": "stream",
     "text": [
      "\r",
      "ogleNews-vectors-ne  51%[=========>          ] 804.38M  11.4MB/s    eta 82s    "
     ]
    },
    {
     "name": "stdout",
     "output_type": "stream",
     "text": [
      "\r",
      "gleNews-vectors-neg  51%[=========>          ] 805.94M  11.4MB/s    eta 81s    "
     ]
    },
    {
     "name": "stdout",
     "output_type": "stream",
     "text": [
      "\r",
      "leNews-vectors-nega  51%[=========>          ] 807.70M  11.3MB/s    eta 81s    "
     ]
    },
    {
     "name": "stdout",
     "output_type": "stream",
     "text": [
      "\r",
      "eNews-vectors-negat  51%[=========>          ] 809.67M  11.3MB/s    eta 81s    "
     ]
    },
    {
     "name": "stdout",
     "output_type": "stream",
     "text": [
      "\r",
      "News-vectors-negati  51%[=========>          ] 811.90M  11.2MB/s    eta 81s    "
     ]
    },
    {
     "name": "stdout",
     "output_type": "stream",
     "text": [
      "\r",
      "ews-vectors-negativ  51%[=========>          ] 814.55M  11.2MB/s    eta 81s    "
     ]
    },
    {
     "name": "stdout",
     "output_type": "stream",
     "text": [
      "\r",
      "ws-vectors-negative  52%[=========>          ] 817.49M  11.5MB/s    eta 79s    "
     ]
    },
    {
     "name": "stdout",
     "output_type": "stream",
     "text": [
      "\r",
      "s-vectors-negative3  52%[=========>          ] 819.90M  11.5MB/s    eta 79s    "
     ]
    },
    {
     "name": "stdout",
     "output_type": "stream",
     "text": [
      "\r",
      "-vectors-negative30  52%[=========>          ] 822.11M  11.4MB/s    eta 79s    "
     ]
    },
    {
     "name": "stdout",
     "output_type": "stream",
     "text": [
      "\r",
      "vectors-negative300  52%[=========>          ] 824.28M  11.5MB/s    eta 79s    "
     ]
    },
    {
     "name": "stdout",
     "output_type": "stream",
     "text": [
      "\r",
      "ectors-negative300.  52%[=========>          ] 826.71M  11.7MB/s    eta 79s    "
     ]
    },
    {
     "name": "stdout",
     "output_type": "stream",
     "text": [
      "\r",
      "ctors-negative300.b  52%[=========>          ] 829.48M  11.8MB/s    eta 78s    "
     ]
    },
    {
     "name": "stdout",
     "output_type": "stream",
     "text": [
      "\r",
      "tors-negative300.bi  52%[=========>          ] 831.39M  11.5MB/s    eta 78s    "
     ]
    },
    {
     "name": "stdout",
     "output_type": "stream",
     "text": [
      "\r",
      "ors-negative300.bin  53%[=========>          ] 833.98M  11.4MB/s    eta 78s    "
     ]
    },
    {
     "name": "stdout",
     "output_type": "stream",
     "text": [
      "\r",
      "rs-negative300.bin.  53%[=========>          ] 836.12M  11.2MB/s    eta 78s    "
     ]
    },
    {
     "name": "stdout",
     "output_type": "stream",
     "text": [
      "\r",
      "s-negative300.bin.g  53%[=========>          ] 838.43M  11.2MB/s    eta 78s    "
     ]
    },
    {
     "name": "stdout",
     "output_type": "stream",
     "text": [
      "\r",
      "-negative300.bin.gz  53%[=========>          ] 841.13M  11.7MB/s    eta 76s    "
     ]
    },
    {
     "name": "stdout",
     "output_type": "stream",
     "text": [
      "\r",
      "negative300.bin.gz   53%[=========>          ] 843.81M  11.9MB/s    eta 76s    "
     ]
    },
    {
     "name": "stdout",
     "output_type": "stream",
     "text": [
      "\r",
      "egative300.bin.gz    53%[=========>          ] 845.92M  12.0MB/s    eta 76s    "
     ]
    },
    {
     "name": "stdout",
     "output_type": "stream",
     "text": [
      "\r",
      "gative300.bin.gz     53%[=========>          ] 848.06M  12.0MB/s    eta 76s    "
     ]
    },
    {
     "name": "stdout",
     "output_type": "stream",
     "text": [
      "\r",
      "ative300.bin.gz      54%[=========>          ] 850.36M  11.9MB/s    eta 76s    "
     ]
    },
    {
     "name": "stdout",
     "output_type": "stream",
     "text": [
      "\r",
      "tive300.bin.gz       54%[=========>          ] 853.05M  11.9MB/s    eta 75s    "
     ]
    },
    {
     "name": "stdout",
     "output_type": "stream",
     "text": [
      "\r",
      "ive300.bin.gz        54%[=========>          ] 856.19M  11.9MB/s    eta 75s    "
     ]
    },
    {
     "name": "stdout",
     "output_type": "stream",
     "text": [
      "\r",
      "ve300.bin.gz         54%[=========>          ] 858.94M  12.1MB/s    eta 75s    "
     ]
    },
    {
     "name": "stdout",
     "output_type": "stream",
     "text": [
      "\r",
      "e300.bin.gz          54%[=========>          ] 861.70M  12.3MB/s    eta 75s    "
     ]
    },
    {
     "name": "stdout",
     "output_type": "stream",
     "text": [
      "\r",
      "300.bin.gz           55%[==========>         ] 864.97M  12.6MB/s    eta 75s    "
     ]
    },
    {
     "name": "stdout",
     "output_type": "stream",
     "text": [
      "\r",
      "00.bin.gz            55%[==========>         ] 867.53M  12.6MB/s    eta 73s    "
     ]
    },
    {
     "name": "stdout",
     "output_type": "stream",
     "text": [
      "\r",
      "0.bin.gz             55%[==========>         ] 870.00M  12.7MB/s    eta 73s    "
     ]
    },
    {
     "name": "stdout",
     "output_type": "stream",
     "text": [
      "\r",
      ".bin.gz              55%[==========>         ] 872.33M  12.7MB/s    eta 73s    "
     ]
    },
    {
     "name": "stdout",
     "output_type": "stream",
     "text": [
      "\r",
      "bin.gz               55%[==========>         ] 874.83M  12.8MB/s    eta 73s    "
     ]
    },
    {
     "name": "stdout",
     "output_type": "stream",
     "text": [
      "\r",
      "in.gz                55%[==========>         ] 877.17M  12.8MB/s    eta 73s    "
     ]
    },
    {
     "name": "stdout",
     "output_type": "stream",
     "text": [
      "\r",
      "n.gz                 56%[==========>         ] 879.65M  12.8MB/s    eta 72s    "
     ]
    },
    {
     "name": "stdout",
     "output_type": "stream",
     "text": [
      "\r",
      ".gz                  56%[==========>         ] 882.62M  12.8MB/s    eta 72s    "
     ]
    },
    {
     "name": "stdout",
     "output_type": "stream",
     "text": [
      "\r",
      "gz                   56%[==========>         ] 884.86M  12.8MB/s    eta 72s    "
     ]
    },
    {
     "name": "stdout",
     "output_type": "stream",
     "text": [
      "\r",
      "z                    56%[==========>         ] 886.82M  12.7MB/s    eta 72s    "
     ]
    },
    {
     "name": "stdout",
     "output_type": "stream",
     "text": [
      "\r",
      "                     56%[==========>         ] 889.13M  12.8MB/s    eta 72s    "
     ]
    },
    {
     "name": "stdout",
     "output_type": "stream",
     "text": [
      "\r",
      "                  G  56%[==========>         ] 891.10M  12.5MB/s    eta 70s    "
     ]
    },
    {
     "name": "stdout",
     "output_type": "stream",
     "text": [
      "\r",
      "                 Go  56%[==========>         ] 893.34M  12.1MB/s    eta 70s    "
     ]
    },
    {
     "name": "stdout",
     "output_type": "stream",
     "text": [
      "\r",
      "                Goo  56%[==========>         ] 895.30M  12.0MB/s    eta 70s    "
     ]
    },
    {
     "name": "stdout",
     "output_type": "stream",
     "text": [
      "\r",
      "               Goog  57%[==========>         ] 897.46M  11.8MB/s    eta 70s    "
     ]
    },
    {
     "name": "stdout",
     "output_type": "stream",
     "text": [
      "\r",
      "              Googl  57%[==========>         ] 900.00M  11.5MB/s    eta 70s    "
     ]
    },
    {
     "name": "stdout",
     "output_type": "stream",
     "text": [
      "\r",
      "             Google  57%[==========>         ] 901.94M  11.3MB/s    eta 69s    "
     ]
    },
    {
     "name": "stdout",
     "output_type": "stream",
     "text": [
      "\r",
      "            GoogleN  57%[==========>         ] 903.75M  11.1MB/s    eta 69s    "
     ]
    },
    {
     "name": "stdout",
     "output_type": "stream",
     "text": [
      "\r",
      "           GoogleNe  57%[==========>         ] 905.93M  11.1MB/s    eta 69s    "
     ]
    },
    {
     "name": "stdout",
     "output_type": "stream",
     "text": [
      "\r",
      "          GoogleNew  57%[==========>         ] 908.39M  10.9MB/s    eta 69s    "
     ]
    },
    {
     "name": "stdout",
     "output_type": "stream",
     "text": [
      "\r",
      "         GoogleNews  57%[==========>         ] 910.48M  10.9MB/s    eta 69s    "
     ]
    },
    {
     "name": "stdout",
     "output_type": "stream",
     "text": [
      "\r",
      "        GoogleNews-  58%[==========>         ] 912.89M  11.0MB/s    eta 68s    "
     ]
    },
    {
     "name": "stdout",
     "output_type": "stream",
     "text": [
      "\r",
      "       GoogleNews-v  58%[==========>         ] 914.93M  10.6MB/s    eta 68s    "
     ]
    },
    {
     "name": "stdout",
     "output_type": "stream",
     "text": [
      "\r",
      "      GoogleNews-ve  58%[==========>         ] 916.60M  10.3MB/s    eta 68s    "
     ]
    },
    {
     "name": "stdout",
     "output_type": "stream",
     "text": [
      "\r",
      "     GoogleNews-vec  58%[==========>         ] 918.46M  10.3MB/s    eta 68s    "
     ]
    },
    {
     "name": "stdout",
     "output_type": "stream",
     "text": [
      "\r",
      "    GoogleNews-vect  58%[==========>         ] 920.85M  10.4MB/s    eta 68s    "
     ]
    },
    {
     "name": "stdout",
     "output_type": "stream",
     "text": [
      "\r",
      "   GoogleNews-vecto  58%[==========>         ] 923.28M  10.5MB/s    eta 67s    "
     ]
    },
    {
     "name": "stdout",
     "output_type": "stream",
     "text": [
      "\r",
      "  GoogleNews-vector  58%[==========>         ] 924.99M  10.4MB/s    eta 67s    "
     ]
    },
    {
     "name": "stdout",
     "output_type": "stream",
     "text": [
      "\r",
      " GoogleNews-vectors  59%[==========>         ] 926.76M  10.3MB/s    eta 67s    "
     ]
    },
    {
     "name": "stdout",
     "output_type": "stream",
     "text": [
      "\r",
      "GoogleNews-vectors-  59%[==========>         ] 928.91M  10.3MB/s    eta 67s    "
     ]
    },
    {
     "name": "stdout",
     "output_type": "stream",
     "text": [
      "\r",
      "oogleNews-vectors-n  59%[==========>         ] 931.53M  10.4MB/s    eta 67s    "
     ]
    },
    {
     "name": "stdout",
     "output_type": "stream",
     "text": [
      "\r",
      "ogleNews-vectors-ne  59%[==========>         ] 933.89M  10.6MB/s    eta 66s    "
     ]
    },
    {
     "name": "stdout",
     "output_type": "stream",
     "text": [
      "\r",
      "gleNews-vectors-neg  59%[==========>         ] 936.11M  10.6MB/s    eta 66s    "
     ]
    },
    {
     "name": "stdout",
     "output_type": "stream",
     "text": [
      "\r",
      "leNews-vectors-nega  59%[==========>         ] 938.00M  10.5MB/s    eta 66s    "
     ]
    },
    {
     "name": "stdout",
     "output_type": "stream",
     "text": [
      "\r",
      "eNews-vectors-negat  59%[==========>         ] 940.39M  10.6MB/s    eta 66s    "
     ]
    },
    {
     "name": "stdout",
     "output_type": "stream",
     "text": [
      "\r",
      "News-vectors-negati  60%[===========>        ] 942.85M  10.6MB/s    eta 66s    "
     ]
    },
    {
     "name": "stdout",
     "output_type": "stream",
     "text": [
      "\r",
      "ews-vectors-negativ  60%[===========>        ] 944.92M  10.6MB/s    eta 64s    "
     ]
    },
    {
     "name": "stdout",
     "output_type": "stream",
     "text": [
      "\r",
      "ws-vectors-negative  60%[===========>        ] 947.37M  10.6MB/s    eta 64s    "
     ]
    },
    {
     "name": "stdout",
     "output_type": "stream",
     "text": [
      "\r",
      "s-vectors-negative3  60%[===========>        ] 949.13M  10.6MB/s    eta 64s    "
     ]
    },
    {
     "name": "stdout",
     "output_type": "stream",
     "text": [
      "\r",
      "-vectors-negative30  60%[===========>        ] 950.99M  10.7MB/s    eta 64s    "
     ]
    },
    {
     "name": "stdout",
     "output_type": "stream",
     "text": [
      "\r",
      "vectors-negative300  60%[===========>        ] 953.23M  10.7MB/s    eta 64s    "
     ]
    },
    {
     "name": "stdout",
     "output_type": "stream",
     "text": [
      "\r",
      "ectors-negative300.  60%[===========>        ] 955.92M  10.8MB/s    eta 63s    "
     ]
    },
    {
     "name": "stdout",
     "output_type": "stream",
     "text": [
      "\r",
      "ctors-negative300.b  61%[===========>        ] 958.61M  11.1MB/s    eta 63s    "
     ]
    },
    {
     "name": "stdout",
     "output_type": "stream",
     "text": [
      "\r",
      "tors-negative300.bi  61%[===========>        ] 960.95M  11.2MB/s    eta 63s    "
     ]
    },
    {
     "name": "stdout",
     "output_type": "stream",
     "text": [
      "\r",
      "ors-negative300.bin  61%[===========>        ] 963.72M  11.5MB/s    eta 63s    "
     ]
    },
    {
     "name": "stdout",
     "output_type": "stream",
     "text": [
      "\r",
      "rs-negative300.bin.  61%[===========>        ] 966.91M  11.7MB/s    eta 63s    "
     ]
    },
    {
     "name": "stdout",
     "output_type": "stream",
     "text": [
      "\r",
      "s-negative300.bin.g  61%[===========>        ] 970.53M  12.1MB/s    eta 61s    "
     ]
    },
    {
     "name": "stdout",
     "output_type": "stream",
     "text": [
      "\r",
      "-negative300.bin.gz  62%[===========>        ] 974.31M  12.5MB/s    eta 61s    "
     ]
    },
    {
     "name": "stdout",
     "output_type": "stream",
     "text": [
      "\r",
      "negative300.bin.gz   62%[===========>        ] 977.88M  13.2MB/s    eta 61s    "
     ]
    },
    {
     "name": "stdout",
     "output_type": "stream",
     "text": [
      "\r",
      "egative300.bin.gz    62%[===========>        ] 981.17M  13.5MB/s    eta 61s    "
     ]
    },
    {
     "name": "stdout",
     "output_type": "stream",
     "text": [
      "\r",
      "gative300.bin.gz     62%[===========>        ] 984.77M  13.8MB/s    eta 61s    "
     ]
    },
    {
     "name": "stdout",
     "output_type": "stream",
     "text": [
      "\r",
      "ative300.bin.gz      62%[===========>        ] 988.29M  14.3MB/s    eta 59s    "
     ]
    },
    {
     "name": "stdout",
     "output_type": "stream",
     "text": [
      "\r",
      "tive300.bin.gz       63%[===========>        ] 991.09M  14.4MB/s    eta 59s    "
     ]
    },
    {
     "name": "stdout",
     "output_type": "stream",
     "text": [
      "\r",
      "ive300.bin.gz        63%[===========>        ] 993.44M  14.4MB/s    eta 59s    "
     ]
    },
    {
     "name": "stdout",
     "output_type": "stream",
     "text": [
      "\r",
      "ve300.bin.gz         63%[===========>        ] 996.27M  15.0MB/s    eta 59s    "
     ]
    },
    {
     "name": "stdout",
     "output_type": "stream",
     "text": [
      "\r",
      "e300.bin.gz          63%[===========>        ] 999.41M  15.3MB/s    eta 59s    "
     ]
    },
    {
     "name": "stdout",
     "output_type": "stream",
     "text": [
      "\r",
      "300.bin.gz           63%[===========>        ]   1002M  15.3MB/s    eta 57s    "
     ]
    },
    {
     "name": "stdout",
     "output_type": "stream",
     "text": [
      "\r",
      "00.bin.gz            63%[===========>        ]   1005M  15.3MB/s    eta 57s    "
     ]
    },
    {
     "name": "stdout",
     "output_type": "stream",
     "text": [
      "\r",
      "0.bin.gz             64%[===========>        ]   1008M  15.7MB/s    eta 57s    "
     ]
    },
    {
     "name": "stdout",
     "output_type": "stream",
     "text": [
      "\r",
      ".bin.gz              64%[===========>        ]   1011M  15.6MB/s    eta 57s    "
     ]
    },
    {
     "name": "stdout",
     "output_type": "stream",
     "text": [
      "\r",
      "bin.gz               64%[===========>        ]   1013M  15.2MB/s    eta 57s    "
     ]
    },
    {
     "name": "stdout",
     "output_type": "stream",
     "text": [
      "\r",
      "in.gz                64%[===========>        ]   1015M  14.9MB/s    eta 56s    "
     ]
    },
    {
     "name": "stdout",
     "output_type": "stream",
     "text": [
      "\r",
      "n.gz                 64%[===========>        ]   1018M  14.6MB/s    eta 56s    "
     ]
    },
    {
     "name": "stdout",
     "output_type": "stream",
     "text": [
      "\r",
      ".gz                  64%[===========>        ]   1020M  13.9MB/s    eta 56s    "
     ]
    },
    {
     "name": "stdout",
     "output_type": "stream",
     "text": [
      "\r",
      "gz                   65%[============>       ]   1022M  13.7MB/s    eta 56s    "
     ]
    },
    {
     "name": "stdout",
     "output_type": "stream",
     "text": [
      "\r",
      "z                    65%[============>       ]   1.00G  13.5MB/s    eta 56s    "
     ]
    },
    {
     "name": "stdout",
     "output_type": "stream",
     "text": [
      "\r",
      "                     65%[============>       ]   1.00G  13.0MB/s    eta 55s    "
     ]
    },
    {
     "name": "stdout",
     "output_type": "stream",
     "text": [
      "\r",
      "                  G  65%[============>       ]   1.00G  12.6MB/s    eta 55s    "
     ]
    },
    {
     "name": "stdout",
     "output_type": "stream",
     "text": [
      "\r",
      "                 Go  65%[============>       ]   1.01G  12.8MB/s    eta 55s    "
     ]
    },
    {
     "name": "stdout",
     "output_type": "stream",
     "text": [
      "\r",
      "                Goo  65%[============>       ]   1.01G  13.1MB/s    eta 55s    "
     ]
    },
    {
     "name": "stdout",
     "output_type": "stream",
     "text": [
      "\r",
      "               Goog  66%[============>       ]   1.01G  13.2MB/s    eta 55s    "
     ]
    },
    {
     "name": "stdout",
     "output_type": "stream",
     "text": [
      "\r",
      "              Googl  66%[============>       ]   1.02G  13.4MB/s    eta 53s    "
     ]
    },
    {
     "name": "stdout",
     "output_type": "stream",
     "text": [
      "\r",
      "             Google  66%[============>       ]   1.02G  13.5MB/s    eta 53s    "
     ]
    },
    {
     "name": "stdout",
     "output_type": "stream",
     "text": [
      "\r",
      "            GoogleN  66%[============>       ]   1.02G  13.3MB/s    eta 53s    "
     ]
    },
    {
     "name": "stdout",
     "output_type": "stream",
     "text": [
      "\r",
      "           GoogleNe  66%[============>       ]   1.03G  12.8MB/s    eta 53s    "
     ]
    },
    {
     "name": "stdout",
     "output_type": "stream",
     "text": [
      "\r",
      "          GoogleNew  66%[============>       ]   1.03G  12.9MB/s    eta 53s    "
     ]
    },
    {
     "name": "stdout",
     "output_type": "stream",
     "text": [
      "\r",
      "         GoogleNews  67%[============>       ]   1.03G  12.8MB/s    eta 51s    "
     ]
    },
    {
     "name": "stdout",
     "output_type": "stream",
     "text": [
      "\r",
      "        GoogleNews-  67%[============>       ]   1.03G  12.9MB/s    eta 51s    "
     ]
    },
    {
     "name": "stdout",
     "output_type": "stream",
     "text": [
      "\r",
      "       GoogleNews-v  67%[============>       ]   1.04G  13.3MB/s    eta 51s    "
     ]
    },
    {
     "name": "stdout",
     "output_type": "stream",
     "text": [
      "\r",
      "      GoogleNews-ve  67%[============>       ]   1.04G  13.6MB/s    eta 51s    "
     ]
    },
    {
     "name": "stdout",
     "output_type": "stream",
     "text": [
      "\r",
      "     GoogleNews-vec  67%[============>       ]   1.04G  13.9MB/s    eta 51s    "
     ]
    },
    {
     "name": "stdout",
     "output_type": "stream",
     "text": [
      "\r",
      "    GoogleNews-vect  68%[============>       ]   1.05G  14.7MB/s    eta 49s    "
     ]
    },
    {
     "name": "stdout",
     "output_type": "stream",
     "text": [
      "\r",
      "   GoogleNews-vecto  68%[============>       ]   1.05G  15.0MB/s    eta 49s    "
     ]
    },
    {
     "name": "stdout",
     "output_type": "stream",
     "text": [
      "\r",
      "  GoogleNews-vector  68%[============>       ]   1.05G  15.3MB/s    eta 49s    "
     ]
    },
    {
     "name": "stdout",
     "output_type": "stream",
     "text": [
      "\r",
      " GoogleNews-vectors  68%[============>       ]   1.06G  15.1MB/s    eta 49s    "
     ]
    },
    {
     "name": "stdout",
     "output_type": "stream",
     "text": [
      "\r",
      "GoogleNews-vectors-  69%[============>       ]   1.06G  15.0MB/s    eta 49s    "
     ]
    },
    {
     "name": "stdout",
     "output_type": "stream",
     "text": [
      "\r",
      "oogleNews-vectors-n  69%[============>       ]   1.06G  14.6MB/s    eta 48s    "
     ]
    },
    {
     "name": "stdout",
     "output_type": "stream",
     "text": [
      "\r",
      "ogleNews-vectors-ne  69%[============>       ]   1.06G  14.3MB/s    eta 48s    "
     ]
    },
    {
     "name": "stdout",
     "output_type": "stream",
     "text": [
      "\r",
      "gleNews-vectors-neg  69%[============>       ]   1.07G  14.2MB/s    eta 48s    "
     ]
    },
    {
     "name": "stdout",
     "output_type": "stream",
     "text": [
      "\r",
      "leNews-vectors-nega  69%[============>       ]   1.07G  14.1MB/s    eta 48s    "
     ]
    },
    {
     "name": "stdout",
     "output_type": "stream",
     "text": [
      "\r",
      "eNews-vectors-negat  69%[============>       ]   1.07G  14.7MB/s    eta 48s    "
     ]
    },
    {
     "name": "stdout",
     "output_type": "stream",
     "text": [
      "\r",
      "News-vectors-negati  69%[============>       ]   1.07G  14.8MB/s    eta 46s    "
     ]
    },
    {
     "name": "stdout",
     "output_type": "stream",
     "text": [
      "\r",
      "ews-vectors-negativ  70%[=============>      ]   1.08G  14.6MB/s    eta 46s    "
     ]
    },
    {
     "name": "stdout",
     "output_type": "stream",
     "text": [
      "\r",
      "ws-vectors-negative  70%[=============>      ]   1.08G  14.3MB/s    eta 46s    "
     ]
    },
    {
     "name": "stdout",
     "output_type": "stream",
     "text": [
      "\r",
      "s-vectors-negative3  70%[=============>      ]   1.08G  13.9MB/s    eta 46s    "
     ]
    },
    {
     "name": "stdout",
     "output_type": "stream",
     "text": [
      "\r",
      "-vectors-negative30  70%[=============>      ]   1.08G  13.6MB/s    eta 46s    "
     ]
    },
    {
     "name": "stdout",
     "output_type": "stream",
     "text": [
      "\r",
      "vectors-negative300  70%[=============>      ]   1.08G  1.87MB/s    eta 52s    "
     ]
    },
    {
     "name": "stdout",
     "output_type": "stream",
     "text": [
      "\r",
      "ectors-negative300.  71%[=============>      ]   1.09G  2.05MB/s    eta 52s    "
     ]
    },
    {
     "name": "stdout",
     "output_type": "stream",
     "text": [
      "\r",
      "ctors-negative300.b  71%[=============>      ]   1.09G  1.98MB/s    eta 52s    "
     ]
    },
    {
     "name": "stdout",
     "output_type": "stream",
     "text": [
      "\r",
      "tors-negative300.bi  71%[=============>      ]   1.09G  1.94MB/s    eta 52s    "
     ]
    },
    {
     "name": "stdout",
     "output_type": "stream",
     "text": [
      "\r",
      "ors-negative300.bin  71%[=============>      ]   1.09G  1.82MB/s    eta 52s    "
     ]
    },
    {
     "name": "stdout",
     "output_type": "stream",
     "text": [
      "\r",
      "rs-negative300.bin.  71%[=============>      ]   1.10G  1.85MB/s    eta 50s    "
     ]
    },
    {
     "name": "stdout",
     "output_type": "stream",
     "text": [
      "\r",
      "s-negative300.bin.g  71%[=============>      ]   1.10G  1.89MB/s    eta 50s    "
     ]
    },
    {
     "name": "stdout",
     "output_type": "stream",
     "text": [
      "\r",
      "-negative300.bin.gz  71%[=============>      ]   1.10G  1.83MB/s    eta 50s    "
     ]
    },
    {
     "name": "stdout",
     "output_type": "stream",
     "text": [
      "\r",
      "negative300.bin.gz   71%[=============>      ]   1.10G  1.86MB/s    eta 50s    "
     ]
    },
    {
     "name": "stdout",
     "output_type": "stream",
     "text": [
      "\r",
      "egative300.bin.gz    72%[=============>      ]   1.11G  1.84MB/s    eta 50s    "
     ]
    },
    {
     "name": "stdout",
     "output_type": "stream",
     "text": [
      "\r",
      "gative300.bin.gz     72%[=============>      ]   1.11G  1.78MB/s    eta 49s    "
     ]
    },
    {
     "name": "stdout",
     "output_type": "stream",
     "text": [
      "\r",
      "ative300.bin.gz      72%[=============>      ]   1.11G  1.77MB/s    eta 49s    "
     ]
    },
    {
     "name": "stdout",
     "output_type": "stream",
     "text": [
      "\r",
      "tive300.bin.gz       72%[=============>      ]   1.11G  1.77MB/s    eta 49s    "
     ]
    },
    {
     "name": "stdout",
     "output_type": "stream",
     "text": [
      "\r",
      "ive300.bin.gz        72%[=============>      ]   1.11G  1.70MB/s    eta 49s    "
     ]
    },
    {
     "name": "stdout",
     "output_type": "stream",
     "text": [
      "\r",
      "ve300.bin.gz         72%[=============>      ]   1.11G  1.68MB/s    eta 49s    "
     ]
    },
    {
     "name": "stdout",
     "output_type": "stream",
     "text": [
      "\r",
      "e300.bin.gz          72%[=============>      ]   1.12G  1.67MB/s    eta 48s    "
     ]
    },
    {
     "name": "stdout",
     "output_type": "stream",
     "text": [
      "\r",
      "300.bin.gz           72%[=============>      ]   1.12G  9.60MB/s    eta 48s    "
     ]
    },
    {
     "name": "stdout",
     "output_type": "stream",
     "text": [
      "\r",
      "00.bin.gz            73%[=============>      ]   1.12G  9.70MB/s    eta 48s    "
     ]
    },
    {
     "name": "stdout",
     "output_type": "stream",
     "text": [
      "\r",
      "0.bin.gz             73%[=============>      ]   1.12G  9.78MB/s    eta 48s    "
     ]
    },
    {
     "name": "stdout",
     "output_type": "stream",
     "text": [
      "\r",
      ".bin.gz              73%[=============>      ]   1.12G  9.96MB/s    eta 48s    "
     ]
    },
    {
     "name": "stdout",
     "output_type": "stream",
     "text": [
      "\r",
      "bin.gz               73%[=============>      ]   1.13G  9.99MB/s    eta 47s    "
     ]
    },
    {
     "name": "stdout",
     "output_type": "stream",
     "text": [
      "\r",
      "in.gz                73%[=============>      ]   1.13G  9.86MB/s    eta 47s    "
     ]
    },
    {
     "name": "stdout",
     "output_type": "stream",
     "text": [
      "\r",
      "n.gz                 73%[=============>      ]   1.13G  9.63MB/s    eta 47s    "
     ]
    },
    {
     "name": "stdout",
     "output_type": "stream",
     "text": [
      "\r",
      ".gz                  73%[=============>      ]   1.13G  9.51MB/s    eta 47s    "
     ]
    },
    {
     "name": "stdout",
     "output_type": "stream",
     "text": [
      "\r",
      "gz                   73%[=============>      ]   1.13G  9.51MB/s    eta 47s    "
     ]
    },
    {
     "name": "stdout",
     "output_type": "stream",
     "text": [
      "\r",
      "z                    74%[=============>      ]   1.14G  9.61MB/s    eta 46s    "
     ]
    },
    {
     "name": "stdout",
     "output_type": "stream",
     "text": [
      "\r",
      "                     74%[=============>      ]   1.14G  9.68MB/s    eta 46s    "
     ]
    },
    {
     "name": "stdout",
     "output_type": "stream",
     "text": [
      "\r",
      "                  G  74%[=============>      ]   1.14G  9.74MB/s    eta 46s    "
     ]
    },
    {
     "name": "stdout",
     "output_type": "stream",
     "text": [
      "\r",
      "                 Go  74%[=============>      ]   1.14G  10.0MB/s    eta 46s    "
     ]
    },
    {
     "name": "stdout",
     "output_type": "stream",
     "text": [
      "\r",
      "                Goo  74%[=============>      ]   1.14G  10.3MB/s    eta 46s    "
     ]
    },
    {
     "name": "stdout",
     "output_type": "stream",
     "text": [
      "\r",
      "               Goog  74%[=============>      ]   1.15G  10.4MB/s    eta 44s    "
     ]
    },
    {
     "name": "stdout",
     "output_type": "stream",
     "text": [
      "\r",
      "              Googl  74%[=============>      ]   1.15G  10.3MB/s    eta 44s    "
     ]
    },
    {
     "name": "stdout",
     "output_type": "stream",
     "text": [
      "\r",
      "             Google  75%[==============>     ]   1.15G  10.1MB/s    eta 44s    "
     ]
    },
    {
     "name": "stdout",
     "output_type": "stream",
     "text": [
      "\r",
      "            GoogleN  75%[==============>     ]   1.15G  10.1MB/s    eta 44s    "
     ]
    },
    {
     "name": "stdout",
     "output_type": "stream",
     "text": [
      "\r",
      "           GoogleNe  75%[==============>     ]   1.15G  10.2MB/s    eta 44s    "
     ]
    },
    {
     "name": "stdout",
     "output_type": "stream",
     "text": [
      "\r",
      "          GoogleNew  75%[==============>     ]   1.16G  10.2MB/s    eta 43s    "
     ]
    },
    {
     "name": "stdout",
     "output_type": "stream",
     "text": [
      "\r",
      "         GoogleNews  75%[==============>     ]   1.16G  10.4MB/s    eta 43s    "
     ]
    },
    {
     "name": "stdout",
     "output_type": "stream",
     "text": [
      "\r",
      "        GoogleNews-  75%[==============>     ]   1.16G  10.6MB/s    eta 43s    "
     ]
    },
    {
     "name": "stdout",
     "output_type": "stream",
     "text": [
      "\r",
      "       GoogleNews-v  75%[==============>     ]   1.16G  10.9MB/s    eta 43s    "
     ]
    },
    {
     "name": "stdout",
     "output_type": "stream",
     "text": [
      "\r",
      "      GoogleNews-ve  76%[==============>     ]   1.17G  11.0MB/s    eta 43s    "
     ]
    },
    {
     "name": "stdout",
     "output_type": "stream",
     "text": [
      "\r",
      "     GoogleNews-vec  76%[==============>     ]   1.17G  11.0MB/s    eta 42s    "
     ]
    },
    {
     "name": "stdout",
     "output_type": "stream",
     "text": [
      "\r",
      "    GoogleNews-vect  76%[==============>     ]   1.17G  11.3MB/s    eta 42s    "
     ]
    },
    {
     "name": "stdout",
     "output_type": "stream",
     "text": [
      "\r",
      "   GoogleNews-vecto  76%[==============>     ]   1.17G  11.6MB/s    eta 42s    "
     ]
    },
    {
     "name": "stdout",
     "output_type": "stream",
     "text": [
      "\r",
      "  GoogleNews-vector  76%[==============>     ]   1.18G  11.7MB/s    eta 42s    "
     ]
    },
    {
     "name": "stdout",
     "output_type": "stream",
     "text": [
      "\r",
      " GoogleNews-vectors  76%[==============>     ]   1.18G  11.3MB/s    eta 42s    "
     ]
    },
    {
     "name": "stdout",
     "output_type": "stream",
     "text": [
      "\r",
      "GoogleNews-vectors-  76%[==============>     ]   1.18G  11.0MB/s    eta 41s    "
     ]
    },
    {
     "name": "stdout",
     "output_type": "stream",
     "text": [
      "\r",
      "oogleNews-vectors-n  77%[==============>     ]   1.18G  11.0MB/s    eta 41s    "
     ]
    },
    {
     "name": "stdout",
     "output_type": "stream",
     "text": [
      "\r",
      "ogleNews-vectors-ne  77%[==============>     ]   1.18G  11.0MB/s    eta 41s    "
     ]
    },
    {
     "name": "stdout",
     "output_type": "stream",
     "text": [
      "\r",
      "gleNews-vectors-neg  77%[==============>     ]   1.19G  11.1MB/s    eta 41s    "
     ]
    },
    {
     "name": "stdout",
     "output_type": "stream",
     "text": [
      "\r",
      "leNews-vectors-nega  77%[==============>     ]   1.19G  11.4MB/s    eta 41s    "
     ]
    },
    {
     "name": "stdout",
     "output_type": "stream",
     "text": [
      "\r",
      "eNews-vectors-negat  77%[==============>     ]   1.19G  11.5MB/s    eta 39s    "
     ]
    },
    {
     "name": "stdout",
     "output_type": "stream",
     "text": [
      "\r",
      "News-vectors-negati  77%[==============>     ]   1.19G  11.6MB/s    eta 39s    "
     ]
    },
    {
     "name": "stdout",
     "output_type": "stream",
     "text": [
      "\r",
      "ews-vectors-negativ  77%[==============>     ]   1.20G  11.5MB/s    eta 39s    "
     ]
    },
    {
     "name": "stdout",
     "output_type": "stream",
     "text": [
      "\r",
      "ws-vectors-negative  78%[==============>     ]   1.20G  11.2MB/s    eta 39s    "
     ]
    },
    {
     "name": "stdout",
     "output_type": "stream",
     "text": [
      "\r",
      "s-vectors-negative3  78%[==============>     ]   1.20G  11.0MB/s    eta 39s    "
     ]
    },
    {
     "name": "stdout",
     "output_type": "stream",
     "text": [
      "\r",
      "-vectors-negative30  78%[==============>     ]   1.20G  10.8MB/s    eta 38s    "
     ]
    },
    {
     "name": "stdout",
     "output_type": "stream",
     "text": [
      "\r",
      "vectors-negative300  78%[==============>     ]   1.20G  10.8MB/s    eta 38s    "
     ]
    },
    {
     "name": "stdout",
     "output_type": "stream",
     "text": [
      "\r",
      "ectors-negative300.  78%[==============>     ]   1.21G  10.8MB/s    eta 38s    "
     ]
    },
    {
     "name": "stdout",
     "output_type": "stream",
     "text": [
      "\r",
      "ctors-negative300.b  78%[==============>     ]   1.21G  10.8MB/s    eta 38s    "
     ]
    },
    {
     "name": "stdout",
     "output_type": "stream",
     "text": [
      "\r",
      "tors-negative300.bi  79%[==============>     ]   1.21G  11.3MB/s    eta 38s    "
     ]
    },
    {
     "name": "stdout",
     "output_type": "stream",
     "text": [
      "\r",
      "ors-negative300.bin  79%[==============>     ]   1.21G  11.6MB/s    eta 36s    "
     ]
    },
    {
     "name": "stdout",
     "output_type": "stream",
     "text": [
      "\r",
      "rs-negative300.bin.  79%[==============>     ]   1.22G  11.8MB/s    eta 36s    "
     ]
    },
    {
     "name": "stdout",
     "output_type": "stream",
     "text": [
      "\r",
      "s-negative300.bin.g  79%[==============>     ]   1.22G  11.8MB/s    eta 36s    "
     ]
    },
    {
     "name": "stdout",
     "output_type": "stream",
     "text": [
      "\r",
      "-negative300.bin.gz  79%[==============>     ]   1.22G  11.8MB/s    eta 36s    "
     ]
    },
    {
     "name": "stdout",
     "output_type": "stream",
     "text": [
      "\r",
      "negative300.bin.gz   79%[==============>     ]   1.22G  11.9MB/s    eta 36s    "
     ]
    },
    {
     "name": "stdout",
     "output_type": "stream",
     "text": [
      "\r",
      "egative300.bin.gz    79%[==============>     ]   1.22G  11.5MB/s    eta 35s    "
     ]
    },
    {
     "name": "stdout",
     "output_type": "stream",
     "text": [
      "\r",
      "gative300.bin.gz     79%[==============>     ]   1.23G  11.2MB/s    eta 35s    "
     ]
    },
    {
     "name": "stdout",
     "output_type": "stream",
     "text": [
      "\r",
      "ative300.bin.gz      80%[===============>    ]   1.23G  11.0MB/s    eta 35s    "
     ]
    },
    {
     "name": "stdout",
     "output_type": "stream",
     "text": [
      "\r",
      "tive300.bin.gz       80%[===============>    ]   1.23G  11.1MB/s    eta 35s    "
     ]
    },
    {
     "name": "stdout",
     "output_type": "stream",
     "text": [
      "\r",
      "ive300.bin.gz        80%[===============>    ]   1.23G  11.2MB/s    eta 35s    "
     ]
    },
    {
     "name": "stdout",
     "output_type": "stream",
     "text": [
      "\r",
      "ve300.bin.gz         80%[===============>    ]   1.23G  11.4MB/s    eta 34s    "
     ]
    },
    {
     "name": "stdout",
     "output_type": "stream",
     "text": [
      "\r",
      "e300.bin.gz          80%[===============>    ]   1.24G  11.5MB/s    eta 34s    "
     ]
    },
    {
     "name": "stdout",
     "output_type": "stream",
     "text": [
      "\r",
      "300.bin.gz           80%[===============>    ]   1.24G  11.2MB/s    eta 34s    "
     ]
    },
    {
     "name": "stdout",
     "output_type": "stream",
     "text": [
      "\r",
      "00.bin.gz            80%[===============>    ]   1.24G  10.6MB/s    eta 34s    "
     ]
    },
    {
     "name": "stdout",
     "output_type": "stream",
     "text": [
      "\r",
      "0.bin.gz             80%[===============>    ]   1.24G  10.1MB/s    eta 34s    "
     ]
    },
    {
     "name": "stdout",
     "output_type": "stream",
     "text": [
      "\r",
      ".bin.gz              81%[===============>    ]   1.24G  9.69MB/s    eta 33s    "
     ]
    },
    {
     "name": "stdout",
     "output_type": "stream",
     "text": [
      "\r",
      "bin.gz               81%[===============>    ]   1.24G  9.39MB/s    eta 33s    "
     ]
    },
    {
     "name": "stdout",
     "output_type": "stream",
     "text": [
      "\r",
      "in.gz                81%[===============>    ]   1.25G  9.47MB/s    eta 33s    "
     ]
    },
    {
     "name": "stdout",
     "output_type": "stream",
     "text": [
      "\r",
      "n.gz                 81%[===============>    ]   1.25G  9.44MB/s    eta 33s    "
     ]
    },
    {
     "name": "stdout",
     "output_type": "stream",
     "text": [
      "\r",
      ".gz                  81%[===============>    ]   1.25G  9.37MB/s    eta 33s    "
     ]
    },
    {
     "name": "stdout",
     "output_type": "stream",
     "text": [
      "\r",
      "gz                   81%[===============>    ]   1.25G  9.29MB/s    eta 32s    "
     ]
    },
    {
     "name": "stdout",
     "output_type": "stream",
     "text": [
      "\r",
      "z                    81%[===============>    ]   1.25G  9.38MB/s    eta 32s    "
     ]
    },
    {
     "name": "stdout",
     "output_type": "stream",
     "text": [
      "\r",
      "                     81%[===============>    ]   1.25G  9.32MB/s    eta 32s    "
     ]
    },
    {
     "name": "stdout",
     "output_type": "stream",
     "text": [
      "\r",
      "                  G  81%[===============>    ]   1.26G  9.31MB/s    eta 32s    "
     ]
    },
    {
     "name": "stdout",
     "output_type": "stream",
     "text": [
      "\r",
      "                 Go  82%[===============>    ]   1.26G  9.34MB/s    eta 32s    "
     ]
    },
    {
     "name": "stdout",
     "output_type": "stream",
     "text": [
      "\r",
      "                Goo  82%[===============>    ]   1.26G  8.90MB/s    eta 31s    "
     ]
    },
    {
     "name": "stdout",
     "output_type": "stream",
     "text": [
      "\r",
      "               Goog  82%[===============>    ]   1.26G  8.62MB/s    eta 31s    "
     ]
    },
    {
     "name": "stdout",
     "output_type": "stream",
     "text": [
      "\r",
      "              Googl  82%[===============>    ]   1.26G  8.60MB/s    eta 31s    "
     ]
    },
    {
     "name": "stdout",
     "output_type": "stream",
     "text": [
      "\r",
      "             Google  82%[===============>    ]   1.27G  8.61MB/s    eta 31s    "
     ]
    },
    {
     "name": "stdout",
     "output_type": "stream",
     "text": [
      "\r",
      "            GoogleN  82%[===============>    ]   1.27G  8.79MB/s    eta 31s    "
     ]
    },
    {
     "name": "stdout",
     "output_type": "stream",
     "text": [
      "\r",
      "           GoogleNe  82%[===============>    ]   1.27G  8.99MB/s    eta 30s    "
     ]
    },
    {
     "name": "stdout",
     "output_type": "stream",
     "text": [
      "\r",
      "          GoogleNew  82%[===============>    ]   1.27G  9.04MB/s    eta 30s    "
     ]
    },
    {
     "name": "stdout",
     "output_type": "stream",
     "text": [
      "\r",
      "         GoogleNews  82%[===============>    ]   1.27G  8.99MB/s    eta 30s    "
     ]
    },
    {
     "name": "stdout",
     "output_type": "stream",
     "text": [
      "\r",
      "        GoogleNews-  83%[===============>    ]   1.27G  8.78MB/s    eta 30s    "
     ]
    },
    {
     "name": "stdout",
     "output_type": "stream",
     "text": [
      "\r",
      "       GoogleNews-v  83%[===============>    ]   1.28G  8.72MB/s    eta 30s    "
     ]
    },
    {
     "name": "stdout",
     "output_type": "stream",
     "text": [
      "\r",
      "      GoogleNews-ve  83%[===============>    ]   1.28G  8.72MB/s    eta 29s    "
     ]
    },
    {
     "name": "stdout",
     "output_type": "stream",
     "text": [
      "\r",
      "     GoogleNews-vec  83%[===============>    ]   1.28G  8.65MB/s    eta 29s    "
     ]
    },
    {
     "name": "stdout",
     "output_type": "stream",
     "text": [
      "\r",
      "    GoogleNews-vect  83%[===============>    ]   1.28G  8.45MB/s    eta 29s    "
     ]
    },
    {
     "name": "stdout",
     "output_type": "stream",
     "text": [
      "\r",
      "   GoogleNews-vecto  83%[===============>    ]   1.28G  8.47MB/s    eta 29s    "
     ]
    },
    {
     "name": "stdout",
     "output_type": "stream",
     "text": [
      "\r",
      "  GoogleNews-vector  83%[===============>    ]   1.28G  8.56MB/s    eta 29s    "
     ]
    },
    {
     "name": "stdout",
     "output_type": "stream",
     "text": [
      "\r",
      " GoogleNews-vectors  83%[===============>    ]   1.29G  8.69MB/s    eta 28s    "
     ]
    },
    {
     "name": "stdout",
     "output_type": "stream",
     "text": [
      "\r",
      "GoogleNews-vectors-  84%[===============>    ]   1.29G  8.91MB/s    eta 28s    "
     ]
    },
    {
     "name": "stdout",
     "output_type": "stream",
     "text": [
      "\r",
      "oogleNews-vectors-n  84%[===============>    ]   1.29G  8.95MB/s    eta 28s    "
     ]
    },
    {
     "name": "stdout",
     "output_type": "stream",
     "text": [
      "\r",
      "ogleNews-vectors-ne  84%[===============>    ]   1.29G  9.08MB/s    eta 28s    "
     ]
    },
    {
     "name": "stdout",
     "output_type": "stream",
     "text": [
      "\r",
      "gleNews-vectors-neg  84%[===============>    ]   1.29G  9.27MB/s    eta 28s    "
     ]
    },
    {
     "name": "stdout",
     "output_type": "stream",
     "text": [
      "\r",
      "leNews-vectors-nega  84%[===============>    ]   1.30G  9.29MB/s    eta 27s    "
     ]
    },
    {
     "name": "stdout",
     "output_type": "stream",
     "text": [
      "\r",
      "eNews-vectors-negat  84%[===============>    ]   1.30G  9.35MB/s    eta 27s    "
     ]
    },
    {
     "name": "stdout",
     "output_type": "stream",
     "text": [
      "\r",
      "News-vectors-negati  84%[===============>    ]   1.30G  9.40MB/s    eta 27s    "
     ]
    },
    {
     "name": "stdout",
     "output_type": "stream",
     "text": [
      "\r",
      "ews-vectors-negativ  84%[===============>    ]   1.30G  9.58MB/s    eta 27s    "
     ]
    },
    {
     "name": "stdout",
     "output_type": "stream",
     "text": [
      "\r",
      "ws-vectors-negative  85%[================>   ]   1.30G  9.76MB/s    eta 27s    "
     ]
    },
    {
     "name": "stdout",
     "output_type": "stream",
     "text": [
      "\r",
      "s-vectors-negative3  85%[================>   ]   1.31G  9.68MB/s    eta 26s    "
     ]
    },
    {
     "name": "stdout",
     "output_type": "stream",
     "text": [
      "\r",
      "-vectors-negative30  85%[================>   ]   1.31G  9.76MB/s    eta 26s    "
     ]
    },
    {
     "name": "stdout",
     "output_type": "stream",
     "text": [
      "\r",
      "vectors-negative300  85%[================>   ]   1.31G  9.93MB/s    eta 26s    "
     ]
    },
    {
     "name": "stdout",
     "output_type": "stream",
     "text": [
      "\r",
      "ectors-negative300.  85%[================>   ]   1.31G  9.96MB/s    eta 26s    "
     ]
    },
    {
     "name": "stdout",
     "output_type": "stream",
     "text": [
      "\r",
      "ctors-negative300.b  85%[================>   ]   1.31G  10.0MB/s    eta 26s    "
     ]
    },
    {
     "name": "stdout",
     "output_type": "stream",
     "text": [
      "\r",
      "tors-negative300.bi  85%[================>   ]   1.32G  10.1MB/s    eta 25s    "
     ]
    },
    {
     "name": "stdout",
     "output_type": "stream",
     "text": [
      "\r",
      "ors-negative300.bin  86%[================>   ]   1.32G  10.4MB/s    eta 25s    "
     ]
    },
    {
     "name": "stdout",
     "output_type": "stream",
     "text": [
      "\r",
      "rs-negative300.bin.  86%[================>   ]   1.32G  10.3MB/s    eta 25s    "
     ]
    },
    {
     "name": "stdout",
     "output_type": "stream",
     "text": [
      "\r",
      "s-negative300.bin.g  86%[================>   ]   1.32G  10.5MB/s    eta 25s    "
     ]
    },
    {
     "name": "stdout",
     "output_type": "stream",
     "text": [
      "\r",
      "-negative300.bin.gz  86%[================>   ]   1.33G  10.8MB/s    eta 25s    "
     ]
    },
    {
     "name": "stdout",
     "output_type": "stream",
     "text": [
      "\r",
      "negative300.bin.gz   86%[================>   ]   1.33G  10.8MB/s    eta 23s    "
     ]
    },
    {
     "name": "stdout",
     "output_type": "stream",
     "text": [
      "\r",
      "egative300.bin.gz    86%[================>   ]   1.33G  10.8MB/s    eta 23s    "
     ]
    },
    {
     "name": "stdout",
     "output_type": "stream",
     "text": [
      "\r",
      "gative300.bin.gz     86%[================>   ]   1.33G  10.7MB/s    eta 23s    "
     ]
    },
    {
     "name": "stdout",
     "output_type": "stream",
     "text": [
      "\r",
      "ative300.bin.gz      87%[================>   ]   1.33G  10.8MB/s    eta 23s    "
     ]
    },
    {
     "name": "stdout",
     "output_type": "stream",
     "text": [
      "\r",
      "tive300.bin.gz       87%[================>   ]   1.34G  10.7MB/s    eta 23s    "
     ]
    },
    {
     "name": "stdout",
     "output_type": "stream",
     "text": [
      "\r",
      "ive300.bin.gz        87%[================>   ]   1.34G  10.6MB/s    eta 22s    "
     ]
    },
    {
     "name": "stdout",
     "output_type": "stream",
     "text": [
      "\r",
      "ve300.bin.gz         87%[================>   ]   1.34G  10.9MB/s    eta 22s    "
     ]
    },
    {
     "name": "stdout",
     "output_type": "stream",
     "text": [
      "\r",
      "e300.bin.gz          87%[================>   ]   1.34G  10.9MB/s    eta 22s    "
     ]
    },
    {
     "name": "stdout",
     "output_type": "stream",
     "text": [
      "\r",
      "300.bin.gz           87%[================>   ]   1.34G  11.1MB/s    eta 22s    "
     ]
    },
    {
     "name": "stdout",
     "output_type": "stream",
     "text": [
      "\r",
      "00.bin.gz            87%[================>   ]   1.35G  11.4MB/s    eta 22s    "
     ]
    },
    {
     "name": "stdout",
     "output_type": "stream",
     "text": [
      "\r",
      "0.bin.gz             88%[================>   ]   1.35G  11.7MB/s    eta 21s    "
     ]
    },
    {
     "name": "stdout",
     "output_type": "stream",
     "text": [
      "\r",
      ".bin.gz              88%[================>   ]   1.35G  11.7MB/s    eta 21s    "
     ]
    },
    {
     "name": "stdout",
     "output_type": "stream",
     "text": [
      "\r",
      "bin.gz               88%[================>   ]   1.36G  11.8MB/s    eta 21s    "
     ]
    },
    {
     "name": "stdout",
     "output_type": "stream",
     "text": [
      "\r",
      "in.gz                88%[================>   ]   1.36G  11.7MB/s    eta 21s    "
     ]
    },
    {
     "name": "stdout",
     "output_type": "stream",
     "text": [
      "\r",
      "n.gz                 88%[================>   ]   1.36G  11.7MB/s    eta 21s    "
     ]
    },
    {
     "name": "stdout",
     "output_type": "stream",
     "text": [
      "\r",
      ".gz                  88%[================>   ]   1.36G  11.3MB/s    eta 19s    "
     ]
    },
    {
     "name": "stdout",
     "output_type": "stream",
     "text": [
      "\r",
      "gz                   88%[================>   ]   1.36G  11.2MB/s    eta 19s    "
     ]
    },
    {
     "name": "stdout",
     "output_type": "stream",
     "text": [
      "\r",
      "z                    89%[================>   ]   1.37G  11.4MB/s    eta 19s    "
     ]
    },
    {
     "name": "stdout",
     "output_type": "stream",
     "text": [
      "\r",
      "                     89%[================>   ]   1.37G  11.6MB/s    eta 19s    "
     ]
    },
    {
     "name": "stdout",
     "output_type": "stream",
     "text": [
      "\r",
      "                  G  89%[================>   ]   1.37G  11.8MB/s    eta 19s    "
     ]
    },
    {
     "name": "stdout",
     "output_type": "stream",
     "text": [
      "\r",
      "                 Go  89%[================>   ]   1.37G  11.9MB/s    eta 18s    "
     ]
    },
    {
     "name": "stdout",
     "output_type": "stream",
     "text": [
      "\r",
      "                Goo  89%[================>   ]   1.38G  11.8MB/s    eta 18s    "
     ]
    },
    {
     "name": "stdout",
     "output_type": "stream",
     "text": [
      "\r",
      "               Goog  89%[================>   ]   1.38G  11.8MB/s    eta 18s    "
     ]
    },
    {
     "name": "stdout",
     "output_type": "stream",
     "text": [
      "\r",
      "              Googl  90%[=================>  ]   1.38G  12.0MB/s    eta 18s    "
     ]
    },
    {
     "name": "stdout",
     "output_type": "stream",
     "text": [
      "\r",
      "             Google  90%[=================>  ]   1.38G  12.0MB/s    eta 18s    "
     ]
    },
    {
     "name": "stdout",
     "output_type": "stream",
     "text": [
      "\r",
      "            GoogleN  90%[=================>  ]   1.38G  11.6MB/s    eta 17s    "
     ]
    },
    {
     "name": "stdout",
     "output_type": "stream",
     "text": [
      "\r",
      "           GoogleNe  90%[=================>  ]   1.39G  10.9MB/s    eta 17s    "
     ]
    },
    {
     "name": "stdout",
     "output_type": "stream",
     "text": [
      "\r",
      "          GoogleNew  90%[=================>  ]   1.39G  10.8MB/s    eta 17s    "
     ]
    },
    {
     "name": "stdout",
     "output_type": "stream",
     "text": [
      "\r",
      "         GoogleNews  90%[=================>  ]   1.39G  10.8MB/s    eta 17s    "
     ]
    },
    {
     "name": "stdout",
     "output_type": "stream",
     "text": [
      "\r",
      "        GoogleNews-  90%[=================>  ]   1.39G  10.8MB/s    eta 17s    "
     ]
    },
    {
     "name": "stdout",
     "output_type": "stream",
     "text": [
      "\r",
      "       GoogleNews-v  90%[=================>  ]   1.39G  10.7MB/s    eta 16s    "
     ]
    },
    {
     "name": "stdout",
     "output_type": "stream",
     "text": [
      "\r",
      "      GoogleNews-ve  91%[=================>  ]   1.40G  10.6MB/s    eta 16s    "
     ]
    },
    {
     "name": "stdout",
     "output_type": "stream",
     "text": [
      "\r",
      "     GoogleNews-vec  91%[=================>  ]   1.40G  10.6MB/s    eta 16s    "
     ]
    },
    {
     "name": "stdout",
     "output_type": "stream",
     "text": [
      "\r",
      "    GoogleNews-vect  91%[=================>  ]   1.40G  10.6MB/s    eta 16s    "
     ]
    },
    {
     "name": "stdout",
     "output_type": "stream",
     "text": [
      "\r",
      "   GoogleNews-vecto  91%[=================>  ]   1.40G  10.2MB/s    eta 16s    "
     ]
    },
    {
     "name": "stdout",
     "output_type": "stream",
     "text": [
      "\r",
      "  GoogleNews-vector  91%[=================>  ]   1.40G  9.97MB/s    eta 15s    "
     ]
    },
    {
     "name": "stdout",
     "output_type": "stream",
     "text": [
      "\r",
      " GoogleNews-vectors  91%[=================>  ]   1.41G  9.99MB/s    eta 15s    "
     ]
    },
    {
     "name": "stdout",
     "output_type": "stream",
     "text": [
      "\r",
      "GoogleNews-vectors-  91%[=================>  ]   1.41G  9.76MB/s    eta 15s    "
     ]
    },
    {
     "name": "stdout",
     "output_type": "stream",
     "text": [
      "\r",
      "oogleNews-vectors-n  91%[=================>  ]   1.41G  9.46MB/s    eta 15s    "
     ]
    },
    {
     "name": "stdout",
     "output_type": "stream",
     "text": [
      "\r",
      "ogleNews-vectors-ne  91%[=================>  ]   1.41G  8.94MB/s    eta 15s    "
     ]
    },
    {
     "name": "stdout",
     "output_type": "stream",
     "text": [
      "\r",
      "gleNews-vectors-neg  92%[=================>  ]   1.41G  9.03MB/s    eta 14s    "
     ]
    },
    {
     "name": "stdout",
     "output_type": "stream",
     "text": [
      "\r",
      "leNews-vectors-nega  92%[=================>  ]   1.41G  9.18MB/s    eta 14s    "
     ]
    },
    {
     "name": "stdout",
     "output_type": "stream",
     "text": [
      "\r",
      "eNews-vectors-negat  92%[=================>  ]   1.42G  9.25MB/s    eta 14s    "
     ]
    },
    {
     "name": "stdout",
     "output_type": "stream",
     "text": [
      "\r",
      "News-vectors-negati  92%[=================>  ]   1.42G  9.07MB/s    eta 14s    "
     ]
    },
    {
     "name": "stdout",
     "output_type": "stream",
     "text": [
      "\r",
      "ews-vectors-negativ  92%[=================>  ]   1.42G  9.04MB/s    eta 14s    "
     ]
    },
    {
     "name": "stdout",
     "output_type": "stream",
     "text": [
      "\r",
      "ws-vectors-negative  92%[=================>  ]   1.42G  8.89MB/s    eta 13s    "
     ]
    },
    {
     "name": "stdout",
     "output_type": "stream",
     "text": [
      "\r",
      "s-vectors-negative3  92%[=================>  ]   1.42G  8.92MB/s    eta 13s    "
     ]
    },
    {
     "name": "stdout",
     "output_type": "stream",
     "text": [
      "\r",
      "-vectors-negative30  92%[=================>  ]   1.42G  9.12MB/s    eta 13s    "
     ]
    },
    {
     "name": "stdout",
     "output_type": "stream",
     "text": [
      "\r",
      "vectors-negative300  93%[=================>  ]   1.43G  9.20MB/s    eta 13s    "
     ]
    },
    {
     "name": "stdout",
     "output_type": "stream",
     "text": [
      "\r",
      "ectors-negative300.  93%[=================>  ]   1.43G  9.40MB/s    eta 13s    "
     ]
    },
    {
     "name": "stdout",
     "output_type": "stream",
     "text": [
      "\r",
      "ctors-negative300.b  93%[=================>  ]   1.43G  9.73MB/s    eta 11s    "
     ]
    },
    {
     "name": "stdout",
     "output_type": "stream",
     "text": [
      "\r",
      "tors-negative300.bi  93%[=================>  ]   1.43G  9.95MB/s    eta 11s    "
     ]
    },
    {
     "name": "stdout",
     "output_type": "stream",
     "text": [
      "\r",
      "ors-negative300.bin  93%[=================>  ]   1.44G  9.97MB/s    eta 11s    "
     ]
    },
    {
     "name": "stdout",
     "output_type": "stream",
     "text": [
      "\r",
      "rs-negative300.bin.  93%[=================>  ]   1.44G  9.94MB/s    eta 11s    "
     ]
    },
    {
     "name": "stdout",
     "output_type": "stream",
     "text": [
      "\r",
      "s-negative300.bin.g  93%[=================>  ]   1.44G  9.96MB/s    eta 11s    "
     ]
    },
    {
     "name": "stdout",
     "output_type": "stream",
     "text": [
      "\r",
      "-negative300.bin.gz  93%[=================>  ]   1.44G  10.0MB/s    eta 10s    "
     ]
    },
    {
     "name": "stdout",
     "output_type": "stream",
     "text": [
      "\r",
      "negative300.bin.gz   94%[=================>  ]   1.44G  10.2MB/s    eta 10s    "
     ]
    },
    {
     "name": "stdout",
     "output_type": "stream",
     "text": [
      "\r",
      "egative300.bin.gz    94%[=================>  ]   1.45G  10.4MB/s    eta 10s    "
     ]
    },
    {
     "name": "stdout",
     "output_type": "stream",
     "text": [
      "\r",
      "gative300.bin.gz     94%[=================>  ]   1.45G  10.6MB/s    eta 10s    "
     ]
    },
    {
     "name": "stdout",
     "output_type": "stream",
     "text": [
      "\r",
      "ative300.bin.gz      94%[=================>  ]   1.45G  10.8MB/s    eta 10s    "
     ]
    },
    {
     "name": "stdout",
     "output_type": "stream",
     "text": [
      "\r",
      "tive300.bin.gz       94%[=================>  ]   1.45G  10.7MB/s    eta 9s     "
     ]
    },
    {
     "name": "stdout",
     "output_type": "stream",
     "text": [
      "\r",
      "ive300.bin.gz        94%[=================>  ]   1.45G  10.7MB/s    eta 9s     "
     ]
    },
    {
     "name": "stdout",
     "output_type": "stream",
     "text": [
      "\r",
      "ve300.bin.gz         94%[=================>  ]   1.46G  10.6MB/s    eta 9s     "
     ]
    },
    {
     "name": "stdout",
     "output_type": "stream",
     "text": [
      "\r",
      "e300.bin.gz          95%[==================> ]   1.46G  10.4MB/s    eta 9s     "
     ]
    },
    {
     "name": "stdout",
     "output_type": "stream",
     "text": [
      "\r",
      "300.bin.gz           95%[==================> ]   1.46G  10.3MB/s    eta 9s     "
     ]
    },
    {
     "name": "stdout",
     "output_type": "stream",
     "text": [
      "\r",
      "00.bin.gz            95%[==================> ]   1.46G  10.4MB/s    eta 8s     "
     ]
    },
    {
     "name": "stdout",
     "output_type": "stream",
     "text": [
      "\r",
      "0.bin.gz             95%[==================> ]   1.46G  10.5MB/s    eta 8s     "
     ]
    },
    {
     "name": "stdout",
     "output_type": "stream",
     "text": [
      "\r",
      ".bin.gz              95%[==================> ]   1.47G  10.6MB/s    eta 8s     "
     ]
    },
    {
     "name": "stdout",
     "output_type": "stream",
     "text": [
      "\r",
      "bin.gz               95%[==================> ]   1.47G  10.9MB/s    eta 8s     "
     ]
    },
    {
     "name": "stdout",
     "output_type": "stream",
     "text": [
      "\r",
      "in.gz                96%[==================> ]   1.47G  11.3MB/s    eta 8s     "
     ]
    },
    {
     "name": "stdout",
     "output_type": "stream",
     "text": [
      "\r",
      "n.gz                 96%[==================> ]   1.47G  11.5MB/s    eta 7s     "
     ]
    },
    {
     "name": "stdout",
     "output_type": "stream",
     "text": [
      "\r",
      ".gz                  96%[==================> ]   1.48G  11.4MB/s    eta 7s     "
     ]
    },
    {
     "name": "stdout",
     "output_type": "stream",
     "text": [
      "\r",
      "gz                   96%[==================> ]   1.48G  11.3MB/s    eta 7s     "
     ]
    },
    {
     "name": "stdout",
     "output_type": "stream",
     "text": [
      "\r",
      "z                    96%[==================> ]   1.48G  11.1MB/s    eta 7s     "
     ]
    },
    {
     "name": "stdout",
     "output_type": "stream",
     "text": [
      "\r",
      "                     96%[==================> ]   1.48G  11.1MB/s    eta 7s     "
     ]
    },
    {
     "name": "stdout",
     "output_type": "stream",
     "text": [
      "\r",
      "                  G  96%[==================> ]   1.49G  11.0MB/s    eta 5s     "
     ]
    },
    {
     "name": "stdout",
     "output_type": "stream",
     "text": [
      "\r",
      "                 Go  96%[==================> ]   1.49G  11.2MB/s    eta 5s     "
     ]
    },
    {
     "name": "stdout",
     "output_type": "stream",
     "text": [
      "\r",
      "                Goo  97%[==================> ]   1.49G  11.2MB/s    eta 5s     "
     ]
    },
    {
     "name": "stdout",
     "output_type": "stream",
     "text": [
      "\r",
      "               Goog  97%[==================> ]   1.49G  11.1MB/s    eta 5s     "
     ]
    },
    {
     "name": "stdout",
     "output_type": "stream",
     "text": [
      "\r",
      "              Googl  97%[==================> ]   1.49G  10.9MB/s    eta 5s     "
     ]
    },
    {
     "name": "stdout",
     "output_type": "stream",
     "text": [
      "\r",
      "             Google  97%[==================> ]   1.49G  10.6MB/s    eta 5s     "
     ]
    },
    {
     "name": "stdout",
     "output_type": "stream",
     "text": [
      "\r",
      "            GoogleN  97%[==================> ]   1.49G  10.3MB/s    eta 5s     "
     ]
    },
    {
     "name": "stdout",
     "output_type": "stream",
     "text": [
      "\r",
      "           GoogleNe  97%[==================> ]   1.50G  10.0MB/s    eta 5s     "
     ]
    },
    {
     "name": "stdout",
     "output_type": "stream",
     "text": [
      "\r",
      "          GoogleNew  97%[==================> ]   1.50G  9.84MB/s    eta 5s     "
     ]
    },
    {
     "name": "stdout",
     "output_type": "stream",
     "text": [
      "\r",
      "         GoogleNews  97%[==================> ]   1.50G  9.77MB/s    eta 5s     "
     ]
    },
    {
     "name": "stdout",
     "output_type": "stream",
     "text": [
      "\r",
      "        GoogleNews-  97%[==================> ]   1.50G  9.54MB/s    eta 3s     "
     ]
    },
    {
     "name": "stdout",
     "output_type": "stream",
     "text": [
      "\r",
      "       GoogleNews-v  98%[==================> ]   1.50G  9.53MB/s    eta 3s     "
     ]
    },
    {
     "name": "stdout",
     "output_type": "stream",
     "text": [
      "\r",
      "      GoogleNews-ve  98%[==================> ]   1.51G  9.72MB/s    eta 3s     "
     ]
    },
    {
     "name": "stdout",
     "output_type": "stream",
     "text": [
      "\r",
      "     GoogleNews-vec  98%[==================> ]   1.51G  9.87MB/s    eta 3s     "
     ]
    },
    {
     "name": "stdout",
     "output_type": "stream",
     "text": [
      "\r",
      "    GoogleNews-vect  98%[==================> ]   1.51G  10.0MB/s    eta 3s     "
     ]
    },
    {
     "name": "stdout",
     "output_type": "stream",
     "text": [
      "\r",
      "   GoogleNews-vecto  98%[==================> ]   1.51G  10.1MB/s    eta 2s     "
     ]
    },
    {
     "name": "stdout",
     "output_type": "stream",
     "text": [
      "\r",
      "  GoogleNews-vector  98%[==================> ]   1.52G  10.1MB/s    eta 2s     "
     ]
    },
    {
     "name": "stdout",
     "output_type": "stream",
     "text": [
      "\r",
      " GoogleNews-vectors  99%[==================> ]   1.52G  10.4MB/s    eta 2s     "
     ]
    },
    {
     "name": "stdout",
     "output_type": "stream",
     "text": [
      "\r",
      "GoogleNews-vectors-  99%[==================> ]   1.52G  10.6MB/s    eta 2s     "
     ]
    },
    {
     "name": "stdout",
     "output_type": "stream",
     "text": [
      "\r",
      "oogleNews-vectors-n  99%[==================> ]   1.52G  10.7MB/s    eta 2s     "
     ]
    },
    {
     "name": "stdout",
     "output_type": "stream",
     "text": [
      "\r",
      "ogleNews-vectors-ne  99%[==================> ]   1.53G  11.0MB/s    eta 1s     "
     ]
    },
    {
     "name": "stdout",
     "output_type": "stream",
     "text": [
      "\r",
      "gleNews-vectors-neg  99%[==================> ]   1.53G  11.3MB/s    eta 1s     "
     ]
    },
    {
     "name": "stdout",
     "output_type": "stream",
     "text": [
      "\r",
      "leNews-vectors-nega  99%[==================> ]   1.53G  11.6MB/s    eta 1s     "
     ]
    },
    {
     "name": "stdout",
     "output_type": "stream",
     "text": [
      "\r",
      "GoogleNews-vectors- 100%[===================>]   1.53G  12.0MB/s    in 2m 50s  \r\n",
      "\r\n",
      "2022-01-04 20:53:11 (9.25 MB/s) - ‘GoogleNews-vectors-negative300.bin.gz’ saved [1647046227/1647046227]\r\n",
      "\r\n",
      "FINISHED --2022-01-04 20:53:11--\r\n",
      "Total wall clock time: 2m 50s\r\n",
      "Downloaded: 1 files, 1.5G in 2m 50s (9.25 MB/s)\r\n"
     ]
    }
   ],
   "source": [
    "!wget - c \"https://s3.amazonaws.com/dl4j-distribution/GoogleNews-vectors-negative300.bin.gz\""
   ]
  },
  {
   "cell_type": "code",
   "execution_count": null,
   "metadata": {
    "colab": {
     "base_uri": "https://localhost:8080/"
    },
    "gradient": {
     "editing": false,
     "id": "f229be3a-fbb6-413f-8cfc-199434736200",
     "kernelId": "d0280aff-ead3-4f02-bcc8-b56694c3ad6e"
    },
    "id": "iFLySjir3dGH",
    "outputId": "d5357eb3-721d-40a6-bfeb-98782ac86cc3"
   },
   "outputs": [
    {
     "ename": "ModuleNotFoundError",
     "evalue": "No module named 'google.colab'",
     "output_type": "error",
     "traceback": [
      "\u001b[0;31m---------------------------------------------------------------------------\u001b[0m",
      "\u001b[0;31mModuleNotFoundError\u001b[0m                       Traceback (most recent call last)",
      "\u001b[0;32m/tmp/ipykernel_230/1408506528.py\u001b[0m in \u001b[0;36m<module>\u001b[0;34m\u001b[0m\n\u001b[0;32m----> 1\u001b[0;31m \u001b[0;32mfrom\u001b[0m \u001b[0mgoogle\u001b[0m\u001b[0;34m.\u001b[0m\u001b[0mcolab\u001b[0m \u001b[0;32mimport\u001b[0m \u001b[0mdrive\u001b[0m\u001b[0;34m\u001b[0m\u001b[0;34m\u001b[0m\u001b[0m\n\u001b[0m\u001b[1;32m      2\u001b[0m \u001b[0mdrive\u001b[0m\u001b[0;34m.\u001b[0m\u001b[0mmount\u001b[0m\u001b[0;34m(\u001b[0m\u001b[0;34m'/content/drive'\u001b[0m\u001b[0;34m)\u001b[0m\u001b[0;34m\u001b[0m\u001b[0;34m\u001b[0m\u001b[0m\n",
      "\u001b[0;31mModuleNotFoundError\u001b[0m: No module named 'google.colab'"
     ]
    }
   ],
   "source": [
    "from google.colab import drive\n",
    "drive.mount('/content/drive')"
   ]
  },
  {
   "cell_type": "code",
   "execution_count": null,
   "metadata": {
    "colab": {
     "base_uri": "https://localhost:8080/"
    },
    "gradient": {
     "editing": false,
     "id": "f47f8888-3758-4850-8449-871520ffc8dc",
     "kernelId": "d0280aff-ead3-4f02-bcc8-b56694c3ad6e"
    },
    "id": "4jDru0zW2_0E",
    "outputId": "1955c155-4512-4b0c-e282-970481c55897"
   },
   "outputs": [
    {
     "name": "stdout",
     "output_type": "stream",
     "text": [
      "Looking in indexes: https://pypi.org/simple, https://pypi.ngc.nvidia.com\r\n",
      "Requirement already satisfied: torchvision in /opt/conda/lib/python3.8/site-packages (0.11.0a0)\r\n",
      "Requirement already satisfied: numpy in /opt/conda/lib/python3.8/site-packages (from torchvision) (1.21.2)\r\n",
      "Requirement already satisfied: pillow!=8.3.0,>=5.3.0 in /opt/conda/lib/python3.8/site-packages (from torchvision) (8.2.0)\r\n",
      "Requirement already satisfied: torch==1.10.0a0+0aef44c in /opt/conda/lib/python3.8/site-packages (from torchvision) (1.10.0a0+0aef44c)\r\n"
     ]
    },
    {
     "name": "stdout",
     "output_type": "stream",
     "text": [
      "Requirement already satisfied: typing_extensions in /opt/conda/lib/python3.8/site-packages (from torch==1.10.0a0+0aef44c->torchvision) (3.10.0.2)\r\n"
     ]
    },
    {
     "name": "stdout",
     "output_type": "stream",
     "text": [
      "\u001b[33mWARNING: Running pip as the 'root' user can result in broken permissions and conflicting behaviour with the system package manager. It is recommended to use a virtual environment instead: https://pip.pypa.io/warnings/venv\u001b[0m\r\n"
     ]
    },
    {
     "name": "stdout",
     "output_type": "stream",
     "text": [
      "Looking in indexes: https://pypi.org/simple, https://pypi.ngc.nvidia.com\r\n"
     ]
    },
    {
     "name": "stdout",
     "output_type": "stream",
     "text": [
      "Collecting torchmetrics\r\n"
     ]
    },
    {
     "name": "stdout",
     "output_type": "stream",
     "text": [
      "  Downloading torchmetrics-0.6.2-py3-none-any.whl (332 kB)\r\n",
      "\u001b[?25l\r",
      "\u001b[K     |█                               | 10 kB 26.1 MB/s eta 0:00:01\r",
      "\u001b[K     |██                              | 20 kB 20.4 MB/s eta 0:00:01\r",
      "\u001b[K     |███                             | 30 kB 11.2 MB/s eta 0:00:01\r",
      "\u001b[K     |████                            | 40 kB 4.6 MB/s eta 0:00:01\r",
      "\u001b[K     |█████                           | 51 kB 4.1 MB/s eta 0:00:01\r",
      "\u001b[K     |██████                          | 61 kB 3.9 MB/s eta 0:00:01"
     ]
    },
    {
     "name": "stdout",
     "output_type": "stream",
     "text": [
      "\r",
      "\u001b[K     |███████                         | 71 kB 3.8 MB/s eta 0:00:01\r",
      "\u001b[K     |███████▉                        | 81 kB 4.3 MB/s eta 0:00:01\r",
      "\u001b[K     |████████▉                       | 92 kB 4.3 MB/s eta 0:00:01\r",
      "\u001b[K     |█████████▉                      | 102 kB 4.5 MB/s eta 0:00:01\r",
      "\u001b[K     |██████████▉                     | 112 kB 4.5 MB/s eta 0:00:01\r",
      "\u001b[K     |███████████▉                    | 122 kB 4.5 MB/s eta 0:00:01\r",
      "\u001b[K     |████████████▉                   | 133 kB 4.5 MB/s eta 0:00:01\r",
      "\u001b[K     |█████████████▉                  | 143 kB 4.5 MB/s eta 0:00:01\r",
      "\u001b[K     |██████████████▉                 | 153 kB 4.5 MB/s eta 0:00:01\r",
      "\u001b[K     |███████████████▊                | 163 kB 4.5 MB/s eta 0:00:01\r",
      "\u001b[K     |████████████████▊               | 174 kB 4.5 MB/s eta 0:00:01\r",
      "\u001b[K     |█████████████████▊              | 184 kB 4.5 MB/s eta 0:00:01\r",
      "\u001b[K     |██████████████████▊             | 194 kB 4.5 MB/s eta 0:00:01\r",
      "\u001b[K     |███████████████████▊            | 204 kB 4.5 MB/s eta 0:00:01\r",
      "\u001b[K     |████████████████████▊           | 215 kB 4.5 MB/s eta 0:00:01\r",
      "\u001b[K     |█████████████████████▊          | 225 kB 4.5 MB/s eta 0:00:01"
     ]
    },
    {
     "name": "stdout",
     "output_type": "stream",
     "text": [
      "\r",
      "\u001b[K     |██████████████████████▋         | 235 kB 4.5 MB/s eta 0:00:01\r",
      "\u001b[K     |███████████████████████▋        | 245 kB 4.5 MB/s eta 0:00:01\r",
      "\u001b[K     |████████████████████████▋       | 256 kB 4.5 MB/s eta 0:00:01\r",
      "\u001b[K     |█████████████████████████▋      | 266 kB 4.5 MB/s eta 0:00:01\r",
      "\u001b[K     |██████████████████████████▋     | 276 kB 4.5 MB/s eta 0:00:01\r",
      "\u001b[K     |███████████████████████████▋    | 286 kB 4.5 MB/s eta 0:00:01"
     ]
    },
    {
     "name": "stdout",
     "output_type": "stream",
     "text": [
      "\r",
      "\u001b[K     |████████████████████████████▋   | 296 kB 4.5 MB/s eta 0:00:01\r",
      "\u001b[K     |█████████████████████████████▋  | 307 kB 4.5 MB/s eta 0:00:01\r",
      "\u001b[K     |██████████████████████████████▌ | 317 kB 4.5 MB/s eta 0:00:01\r",
      "\u001b[K     |███████████████████████████████▌| 327 kB 4.5 MB/s eta 0:00:01\r",
      "\u001b[K     |████████████████████████████████| 332 kB 4.5 MB/s \r\n"
     ]
    },
    {
     "name": "stdout",
     "output_type": "stream",
     "text": [
      "\u001b[?25hRequirement already satisfied: packaging in /opt/conda/lib/python3.8/site-packages (from torchmetrics) (21.0)\r\n",
      "Requirement already satisfied: numpy>=1.17.2 in /opt/conda/lib/python3.8/site-packages (from torchmetrics) (1.21.2)\r\n",
      "Requirement already satisfied: torch>=1.3.1 in /opt/conda/lib/python3.8/site-packages (from torchmetrics) (1.10.0a0+0aef44c)\r\n",
      "Requirement already satisfied: typing_extensions in /opt/conda/lib/python3.8/site-packages (from torch>=1.3.1->torchmetrics) (3.10.0.2)\r\n",
      "Requirement already satisfied: pyparsing>=2.0.2 in /opt/conda/lib/python3.8/site-packages (from packaging->torchmetrics) (2.4.7)\r\n"
     ]
    },
    {
     "name": "stdout",
     "output_type": "stream",
     "text": [
      "Installing collected packages: torchmetrics\r\n"
     ]
    },
    {
     "name": "stdout",
     "output_type": "stream",
     "text": [
      "Successfully installed torchmetrics-0.6.2\r\n",
      "\u001b[33mWARNING: Running pip as the 'root' user can result in broken permissions and conflicting behaviour with the system package manager. It is recommended to use a virtual environment instead: https://pip.pypa.io/warnings/venv\u001b[0m\r\n"
     ]
    },
    {
     "name": "stdout",
     "output_type": "stream",
     "text": [
      "Looking in indexes: https://pypi.org/simple, https://pypi.ngc.nvidia.com\r\n"
     ]
    },
    {
     "name": "stdout",
     "output_type": "stream",
     "text": [
      "Collecting pymorphy2\r\n"
     ]
    },
    {
     "name": "stdout",
     "output_type": "stream",
     "text": [
      "  Downloading pymorphy2-0.9.1-py3-none-any.whl (55 kB)\r\n",
      "\u001b[?25l"
     ]
    },
    {
     "name": "stdout",
     "output_type": "stream",
     "text": [
      "\r",
      "\u001b[K     |██████                          | 10 kB 237 kB/s eta 0:00:01\r",
      "\u001b[K     |███████████▉                    | 20 kB 472 kB/s eta 0:00:01\r",
      "\u001b[K     |█████████████████▊              | 30 kB 706 kB/s eta 0:00:01"
     ]
    },
    {
     "name": "stdout",
     "output_type": "stream",
     "text": [
      "\r",
      "\u001b[K     |███████████████████████▋        | 40 kB 347 kB/s eta 0:00:01\r",
      "\u001b[K     |█████████████████████████████▌  | 51 kB 433 kB/s eta 0:00:01\r",
      "\u001b[K     |████████████████████████████████| 55 kB 518 kB/s \r\n"
     ]
    },
    {
     "name": "stdout",
     "output_type": "stream",
     "text": [
      "\u001b[?25hCollecting dawg-python>=0.7.1\r\n",
      "  Downloading DAWG_Python-0.7.2-py2.py3-none-any.whl (11 kB)\r\n"
     ]
    },
    {
     "name": "stdout",
     "output_type": "stream",
     "text": [
      "Collecting docopt>=0.6\r\n",
      "  Downloading docopt-0.6.2.tar.gz (25 kB)\r\n"
     ]
    },
    {
     "name": "stdout",
     "output_type": "stream",
     "text": [
      "Collecting pymorphy2-dicts-ru<3.0,>=2.4\r\n",
      "  Downloading pymorphy2_dicts_ru-2.4.417127.4579844-py2.py3-none-any.whl (8.2 MB)\r\n",
      "\u001b[?25l\r",
      "\u001b[K     |                                | 10 kB 714 kB/s eta 0:00:12\r",
      "\u001b[K     |                                | 20 kB 1.4 MB/s eta 0:00:06"
     ]
    },
    {
     "name": "stdout",
     "output_type": "stream",
     "text": [
      "\r",
      "\u001b[K     |▏                               | 30 kB 947 kB/s eta 0:00:09\r",
      "\u001b[K     |▏                               | 40 kB 1.1 MB/s eta 0:00:08\r",
      "\u001b[K     |▏                               | 51 kB 1.3 MB/s eta 0:00:07\r",
      "\u001b[K     |▎                               | 61 kB 1.4 MB/s eta 0:00:06\r",
      "\u001b[K     |▎                               | 71 kB 1.4 MB/s eta 0:00:06\r",
      "\u001b[K     |▎                               | 81 kB 1.6 MB/s eta 0:00:06\r",
      "\u001b[K     |▍                               | 92 kB 1.7 MB/s eta 0:00:05\r",
      "\u001b[K     |▍                               | 102 kB 1.9 MB/s eta 0:00:05\r",
      "\u001b[K     |▍                               | 112 kB 1.9 MB/s eta 0:00:05\r",
      "\u001b[K     |▌                               | 122 kB 1.9 MB/s eta 0:00:05\r",
      "\u001b[K     |▌                               | 133 kB 1.9 MB/s eta 0:00:05\r",
      "\u001b[K     |▋                               | 143 kB 1.9 MB/s eta 0:00:05\r",
      "\u001b[K     |▋                               | 153 kB 1.9 MB/s eta 0:00:05\r",
      "\u001b[K     |▋                               | 163 kB 1.9 MB/s eta 0:00:05\r",
      "\u001b[K     |▊                               | 174 kB 1.9 MB/s eta 0:00:05\r",
      "\u001b[K     |▊                               | 184 kB 1.9 MB/s eta 0:00:05\r",
      "\u001b[K     |▊                               | 194 kB 1.9 MB/s eta 0:00:05\r",
      "\u001b[K     |▉                               | 204 kB 1.9 MB/s eta 0:00:05\r",
      "\u001b[K     |▉                               | 215 kB 1.9 MB/s eta 0:00:05\r",
      "\u001b[K     |▉                               | 225 kB 1.9 MB/s eta 0:00:05\r",
      "\u001b[K     |█                               | 235 kB 1.9 MB/s eta 0:00:05\r",
      "\u001b[K     |█                               | 245 kB 1.9 MB/s eta 0:00:05\r",
      "\u001b[K     |█                               | 256 kB 1.9 MB/s eta 0:00:05\r",
      "\u001b[K     |█                               | 266 kB 1.9 MB/s eta 0:00:05\r",
      "\u001b[K     |█                               | 276 kB 1.9 MB/s eta 0:00:05\r",
      "\u001b[K     |█▏                              | 286 kB 1.9 MB/s eta 0:00:05\r",
      "\u001b[K     |█▏                              | 296 kB 1.9 MB/s eta 0:00:05"
     ]
    },
    {
     "name": "stdout",
     "output_type": "stream",
     "text": [
      "\r",
      "\u001b[K     |█▏                              | 307 kB 1.9 MB/s eta 0:00:05\r",
      "\u001b[K     |█▎                              | 317 kB 1.9 MB/s eta 0:00:05\r",
      "\u001b[K     |█▎                              | 327 kB 1.9 MB/s eta 0:00:05\r",
      "\u001b[K     |█▎                              | 337 kB 1.9 MB/s eta 0:00:05\r",
      "\u001b[K     |█▍                              | 348 kB 1.9 MB/s eta 0:00:05\r",
      "\u001b[K     |█▍                              | 358 kB 1.9 MB/s eta 0:00:05\r",
      "\u001b[K     |█▍                              | 368 kB 1.9 MB/s eta 0:00:05\r",
      "\u001b[K     |█▌                              | 378 kB 1.9 MB/s eta 0:00:05\r",
      "\u001b[K     |█▌                              | 389 kB 1.9 MB/s eta 0:00:05\r",
      "\u001b[K     |█▋                              | 399 kB 1.9 MB/s eta 0:00:05\r",
      "\u001b[K     |█▋                              | 409 kB 1.9 MB/s eta 0:00:05\r",
      "\u001b[K     |█▋                              | 419 kB 1.9 MB/s eta 0:00:05\r",
      "\u001b[K     |█▊                              | 430 kB 1.9 MB/s eta 0:00:05\r",
      "\u001b[K     |█▊                              | 440 kB 1.9 MB/s eta 0:00:05\r",
      "\u001b[K     |█▊                              | 450 kB 1.9 MB/s eta 0:00:05\r",
      "\u001b[K     |█▉                              | 460 kB 1.9 MB/s eta 0:00:05\r",
      "\u001b[K     |█▉                              | 471 kB 1.9 MB/s eta 0:00:05\r",
      "\u001b[K     |█▉                              | 481 kB 1.9 MB/s eta 0:00:05\r",
      "\u001b[K     |██                              | 491 kB 1.9 MB/s eta 0:00:05\r",
      "\u001b[K     |██                              | 501 kB 1.9 MB/s eta 0:00:05\r",
      "\u001b[K     |██                              | 512 kB 1.9 MB/s eta 0:00:05\r",
      "\u001b[K     |██                              | 522 kB 1.9 MB/s eta 0:00:05\r",
      "\u001b[K     |██                              | 532 kB 1.9 MB/s eta 0:00:05"
     ]
    },
    {
     "name": "stdout",
     "output_type": "stream",
     "text": [
      "\r",
      "\u001b[K     |██▏                             | 542 kB 1.9 MB/s eta 0:00:05\r",
      "\u001b[K     |██▏                             | 552 kB 1.9 MB/s eta 0:00:05\r",
      "\u001b[K     |██▏                             | 563 kB 1.9 MB/s eta 0:00:05\r",
      "\u001b[K     |██▎                             | 573 kB 1.9 MB/s eta 0:00:05\r",
      "\u001b[K     |██▎                             | 583 kB 1.9 MB/s eta 0:00:05\r",
      "\u001b[K     |██▎                             | 593 kB 1.9 MB/s eta 0:00:05"
     ]
    },
    {
     "name": "stdout",
     "output_type": "stream",
     "text": [
      "\r",
      "\u001b[K     |██▍                             | 604 kB 1.9 MB/s eta 0:00:05\r",
      "\u001b[K     |██▍                             | 614 kB 1.9 MB/s eta 0:00:05\r",
      "\u001b[K     |██▍                             | 624 kB 1.9 MB/s eta 0:00:05\r",
      "\u001b[K     |██▌                             | 634 kB 1.9 MB/s eta 0:00:05\r",
      "\u001b[K     |██▌                             | 645 kB 1.9 MB/s eta 0:00:05"
     ]
    },
    {
     "name": "stdout",
     "output_type": "stream",
     "text": [
      "\r",
      "\u001b[K     |██▌                             | 655 kB 1.9 MB/s eta 0:00:05\r",
      "\u001b[K     |██▋                             | 665 kB 1.9 MB/s eta 0:00:04\r",
      "\u001b[K     |██▋                             | 675 kB 1.9 MB/s eta 0:00:04\r",
      "\u001b[K     |██▊                             | 686 kB 1.9 MB/s eta 0:00:04\r",
      "\u001b[K     |██▊                             | 696 kB 1.9 MB/s eta 0:00:04\r",
      "\u001b[K     |██▊                             | 706 kB 1.9 MB/s eta 0:00:04\r",
      "\u001b[K     |██▉                             | 716 kB 1.9 MB/s eta 0:00:04\r",
      "\u001b[K     |██▉                             | 727 kB 1.9 MB/s eta 0:00:04\r",
      "\u001b[K     |██▉                             | 737 kB 1.9 MB/s eta 0:00:04\r",
      "\u001b[K     |███                             | 747 kB 1.9 MB/s eta 0:00:04\r",
      "\u001b[K     |███                             | 757 kB 1.9 MB/s eta 0:00:04"
     ]
    },
    {
     "name": "stdout",
     "output_type": "stream",
     "text": [
      "\r",
      "\u001b[K     |███                             | 768 kB 1.9 MB/s eta 0:00:04\r",
      "\u001b[K     |███                             | 778 kB 1.9 MB/s eta 0:00:04\r",
      "\u001b[K     |███                             | 788 kB 1.9 MB/s eta 0:00:04\r",
      "\u001b[K     |███▏                            | 798 kB 1.9 MB/s eta 0:00:04\r",
      "\u001b[K     |███▏                            | 808 kB 1.9 MB/s eta 0:00:04\r",
      "\u001b[K     |███▏                            | 819 kB 1.9 MB/s eta 0:00:04\r",
      "\u001b[K     |███▎                            | 829 kB 1.9 MB/s eta 0:00:04\r",
      "\u001b[K     |███▎                            | 839 kB 1.9 MB/s eta 0:00:04\r",
      "\u001b[K     |███▎                            | 849 kB 1.9 MB/s eta 0:00:04\r",
      "\u001b[K     |███▍                            | 860 kB 1.9 MB/s eta 0:00:04\r",
      "\u001b[K     |███▍                            | 870 kB 1.9 MB/s eta 0:00:04\r",
      "\u001b[K     |███▍                            | 880 kB 1.9 MB/s eta 0:00:04\r",
      "\u001b[K     |███▌                            | 890 kB 1.9 MB/s eta 0:00:04\r",
      "\u001b[K     |███▌                            | 901 kB 1.9 MB/s eta 0:00:04\r",
      "\u001b[K     |███▌                            | 911 kB 1.9 MB/s eta 0:00:04\r",
      "\u001b[K     |███▋                            | 921 kB 1.9 MB/s eta 0:00:04\r",
      "\u001b[K     |███▋                            | 931 kB 1.9 MB/s eta 0:00:04\r",
      "\u001b[K     |███▊                            | 942 kB 1.9 MB/s eta 0:00:04\r",
      "\u001b[K     |███▊                            | 952 kB 1.9 MB/s eta 0:00:04\r",
      "\u001b[K     |███▊                            | 962 kB 1.9 MB/s eta 0:00:04\r",
      "\u001b[K     |███▉                            | 972 kB 1.9 MB/s eta 0:00:04\r",
      "\u001b[K     |███▉                            | 983 kB 1.9 MB/s eta 0:00:04\r",
      "\u001b[K     |███▉                            | 993 kB 1.9 MB/s eta 0:00:04\r",
      "\u001b[K     |████                            | 1.0 MB 1.9 MB/s eta 0:00:04\r",
      "\u001b[K     |████                            | 1.0 MB 1.9 MB/s eta 0:00:04\r",
      "\u001b[K     |████                            | 1.0 MB 1.9 MB/s eta 0:00:04\r",
      "\u001b[K     |████                            | 1.0 MB 1.9 MB/s eta 0:00:04\r",
      "\u001b[K     |████                            | 1.0 MB 1.9 MB/s eta 0:00:04\r",
      "\u001b[K     |████                            | 1.1 MB 1.9 MB/s eta 0:00:04\r",
      "\u001b[K     |████▏                           | 1.1 MB 1.9 MB/s eta 0:00:04\r",
      "\u001b[K     |████▏                           | 1.1 MB 1.9 MB/s eta 0:00:04\r",
      "\u001b[K     |████▎                           | 1.1 MB 1.9 MB/s eta 0:00:04\r",
      "\u001b[K     |████▎                           | 1.1 MB 1.9 MB/s eta 0:00:04\r",
      "\u001b[K     |████▎                           | 1.1 MB 1.9 MB/s eta 0:00:04\r",
      "\u001b[K     |████▍                           | 1.1 MB 1.9 MB/s eta 0:00:04\r",
      "\u001b[K     |████▍                           | 1.1 MB 1.9 MB/s eta 0:00:04\r",
      "\u001b[K     |████▍                           | 1.1 MB 1.9 MB/s eta 0:00:04\r",
      "\u001b[K     |████▌                           | 1.1 MB 1.9 MB/s eta 0:00:04\r",
      "\u001b[K     |████▌                           | 1.2 MB 1.9 MB/s eta 0:00:04\r",
      "\u001b[K     |████▌                           | 1.2 MB 1.9 MB/s eta 0:00:04\r",
      "\u001b[K     |████▋                           | 1.2 MB 1.9 MB/s eta 0:00:04\r",
      "\u001b[K     |████▋                           | 1.2 MB 1.9 MB/s eta 0:00:04\r",
      "\u001b[K     |████▊                           | 1.2 MB 1.9 MB/s eta 0:00:04\r",
      "\u001b[K     |████▊                           | 1.2 MB 1.9 MB/s eta 0:00:04\r",
      "\u001b[K     |████▊                           | 1.2 MB 1.9 MB/s eta 0:00:04\r",
      "\u001b[K     |████▉                           | 1.2 MB 1.9 MB/s eta 0:00:04\r",
      "\u001b[K     |████▉                           | 1.2 MB 1.9 MB/s eta 0:00:04\r",
      "\u001b[K     |████▉                           | 1.2 MB 1.9 MB/s eta 0:00:04\r",
      "\u001b[K     |█████                           | 1.3 MB 1.9 MB/s eta 0:00:04\r",
      "\u001b[K     |█████                           | 1.3 MB 1.9 MB/s eta 0:00:04\r",
      "\u001b[K     |█████                           | 1.3 MB 1.9 MB/s eta 0:00:04\r",
      "\u001b[K     |█████                           | 1.3 MB 1.9 MB/s eta 0:00:04\r",
      "\u001b[K     |█████                           | 1.3 MB 1.9 MB/s eta 0:00:04\r",
      "\u001b[K     |█████                           | 1.3 MB 1.9 MB/s eta 0:00:04\r",
      "\u001b[K     |█████▏                          | 1.3 MB 1.9 MB/s eta 0:00:04\r",
      "\u001b[K     |█████▏                          | 1.3 MB 1.9 MB/s eta 0:00:04"
     ]
    },
    {
     "name": "stdout",
     "output_type": "stream",
     "text": [
      "\r",
      "\u001b[K     |█████▎                          | 1.3 MB 1.9 MB/s eta 0:00:04\r",
      "\u001b[K     |█████▎                          | 1.4 MB 1.9 MB/s eta 0:00:04\r",
      "\u001b[K     |█████▎                          | 1.4 MB 1.9 MB/s eta 0:00:04\r",
      "\u001b[K     |█████▍                          | 1.4 MB 1.9 MB/s eta 0:00:04\r",
      "\u001b[K     |█████▍                          | 1.4 MB 1.9 MB/s eta 0:00:04\r",
      "\u001b[K     |█████▍                          | 1.4 MB 1.9 MB/s eta 0:00:04\r",
      "\u001b[K     |█████▌                          | 1.4 MB 1.9 MB/s eta 0:00:04\r",
      "\u001b[K     |█████▌                          | 1.4 MB 1.9 MB/s eta 0:00:04\r",
      "\u001b[K     |█████▌                          | 1.4 MB 1.9 MB/s eta 0:00:04\r",
      "\u001b[K     |█████▋                          | 1.4 MB 1.9 MB/s eta 0:00:04\r",
      "\u001b[K     |█████▋                          | 1.4 MB 1.9 MB/s eta 0:00:04\r",
      "\u001b[K     |█████▋                          | 1.5 MB 1.9 MB/s eta 0:00:04\r",
      "\u001b[K     |█████▊                          | 1.5 MB 1.9 MB/s eta 0:00:04\r",
      "\u001b[K     |█████▊                          | 1.5 MB 1.9 MB/s eta 0:00:04\r",
      "\u001b[K     |█████▉                          | 1.5 MB 1.9 MB/s eta 0:00:04\r",
      "\u001b[K     |█████▉                          | 1.5 MB 1.9 MB/s eta 0:00:04\r",
      "\u001b[K     |█████▉                          | 1.5 MB 1.9 MB/s eta 0:00:04\r",
      "\u001b[K     |██████                          | 1.5 MB 1.9 MB/s eta 0:00:04\r",
      "\u001b[K     |██████                          | 1.5 MB 1.9 MB/s eta 0:00:04\r",
      "\u001b[K     |██████                          | 1.5 MB 1.9 MB/s eta 0:00:04\r",
      "\u001b[K     |██████                          | 1.5 MB 1.9 MB/s eta 0:00:04\r",
      "\u001b[K     |██████                          | 1.6 MB 1.9 MB/s eta 0:00:04\r",
      "\u001b[K     |██████                          | 1.6 MB 1.9 MB/s eta 0:00:04\r",
      "\u001b[K     |██████▏                         | 1.6 MB 1.9 MB/s eta 0:00:04\r",
      "\u001b[K     |██████▏                         | 1.6 MB 1.9 MB/s eta 0:00:04\r",
      "\u001b[K     |██████▎                         | 1.6 MB 1.9 MB/s eta 0:00:04\r",
      "\u001b[K     |██████▎                         | 1.6 MB 1.9 MB/s eta 0:00:04\r",
      "\u001b[K     |██████▎                         | 1.6 MB 1.9 MB/s eta 0:00:04\r",
      "\u001b[K     |██████▍                         | 1.6 MB 1.9 MB/s eta 0:00:04\r",
      "\u001b[K     |██████▍                         | 1.6 MB 1.9 MB/s eta 0:00:04\r",
      "\u001b[K     |██████▍                         | 1.6 MB 1.9 MB/s eta 0:00:04\r",
      "\u001b[K     |██████▌                         | 1.7 MB 1.9 MB/s eta 0:00:04\r",
      "\u001b[K     |██████▌                         | 1.7 MB 1.9 MB/s eta 0:00:04\r",
      "\u001b[K     |██████▌                         | 1.7 MB 1.9 MB/s eta 0:00:04\r",
      "\u001b[K     |██████▋                         | 1.7 MB 1.9 MB/s eta 0:00:04\r",
      "\u001b[K     |██████▋                         | 1.7 MB 1.9 MB/s eta 0:00:04\r",
      "\u001b[K     |██████▋                         | 1.7 MB 1.9 MB/s eta 0:00:04\r",
      "\u001b[K     |██████▊                         | 1.7 MB 1.9 MB/s eta 0:00:04\r",
      "\u001b[K     |██████▊                         | 1.7 MB 1.9 MB/s eta 0:00:04"
     ]
    },
    {
     "name": "stdout",
     "output_type": "stream",
     "text": [
      "\r",
      "\u001b[K     |██████▉                         | 1.7 MB 1.9 MB/s eta 0:00:04\r",
      "\u001b[K     |██████▉                         | 1.8 MB 1.9 MB/s eta 0:00:04\r",
      "\u001b[K     |██████▉                         | 1.8 MB 1.9 MB/s eta 0:00:04\r",
      "\u001b[K     |███████                         | 1.8 MB 1.9 MB/s eta 0:00:04\r",
      "\u001b[K     |███████                         | 1.8 MB 1.9 MB/s eta 0:00:04\r",
      "\u001b[K     |███████                         | 1.8 MB 1.9 MB/s eta 0:00:04"
     ]
    },
    {
     "name": "stdout",
     "output_type": "stream",
     "text": [
      "\r",
      "\u001b[K     |███████                         | 1.8 MB 1.9 MB/s eta 0:00:04\r",
      "\u001b[K     |███████                         | 1.8 MB 1.9 MB/s eta 0:00:04\r",
      "\u001b[K     |███████                         | 1.8 MB 1.9 MB/s eta 0:00:04\r",
      "\u001b[K     |███████▏                        | 1.8 MB 1.9 MB/s eta 0:00:04\r",
      "\u001b[K     |███████▏                        | 1.8 MB 1.9 MB/s eta 0:00:04\r",
      "\u001b[K     |███████▏                        | 1.9 MB 1.9 MB/s eta 0:00:04\r",
      "\u001b[K     |███████▎                        | 1.9 MB 1.9 MB/s eta 0:00:04\r",
      "\u001b[K     |███████▎                        | 1.9 MB 1.9 MB/s eta 0:00:04\r",
      "\u001b[K     |███████▍                        | 1.9 MB 1.9 MB/s eta 0:00:04\r",
      "\u001b[K     |███████▍                        | 1.9 MB 1.9 MB/s eta 0:00:04"
     ]
    },
    {
     "name": "stdout",
     "output_type": "stream",
     "text": [
      "\r",
      "\u001b[K     |███████▍                        | 1.9 MB 1.9 MB/s eta 0:00:04\r",
      "\u001b[K     |███████▌                        | 1.9 MB 1.9 MB/s eta 0:00:04\r",
      "\u001b[K     |███████▌                        | 1.9 MB 1.9 MB/s eta 0:00:04"
     ]
    },
    {
     "name": "stdout",
     "output_type": "stream",
     "text": [
      "\r",
      "\u001b[K     |███████▌                        | 1.9 MB 1.9 MB/s eta 0:00:04\r",
      "\u001b[K     |███████▋                        | 1.9 MB 1.9 MB/s eta 0:00:04\r",
      "\u001b[K     |███████▋                        | 2.0 MB 1.9 MB/s eta 0:00:04\r",
      "\u001b[K     |███████▋                        | 2.0 MB 1.9 MB/s eta 0:00:04\r",
      "\u001b[K     |███████▊                        | 2.0 MB 1.9 MB/s eta 0:00:04\r",
      "\u001b[K     |███████▊                        | 2.0 MB 1.9 MB/s eta 0:00:04\r",
      "\u001b[K     |███████▉                        | 2.0 MB 1.9 MB/s eta 0:00:04\r",
      "\u001b[K     |███████▉                        | 2.0 MB 1.9 MB/s eta 0:00:04\r",
      "\u001b[K     |███████▉                        | 2.0 MB 1.9 MB/s eta 0:00:04\r",
      "\u001b[K     |████████                        | 2.0 MB 1.9 MB/s eta 0:00:04\r",
      "\u001b[K     |████████                        | 2.0 MB 1.9 MB/s eta 0:00:04\r",
      "\u001b[K     |████████                        | 2.0 MB 1.9 MB/s eta 0:00:04\r",
      "\u001b[K     |████████                        | 2.1 MB 1.9 MB/s eta 0:00:04\r",
      "\u001b[K     |████████                        | 2.1 MB 1.9 MB/s eta 0:00:04\r",
      "\u001b[K     |████████                        | 2.1 MB 1.9 MB/s eta 0:00:04\r",
      "\u001b[K     |████████▏                       | 2.1 MB 1.9 MB/s eta 0:00:04"
     ]
    },
    {
     "name": "stdout",
     "output_type": "stream",
     "text": [
      "\r",
      "\u001b[K     |████████▏                       | 2.1 MB 1.9 MB/s eta 0:00:04\r",
      "\u001b[K     |████████▏                       | 2.1 MB 1.9 MB/s eta 0:00:04\r",
      "\u001b[K     |████████▎                       | 2.1 MB 1.9 MB/s eta 0:00:04\r",
      "\u001b[K     |████████▎                       | 2.1 MB 1.9 MB/s eta 0:00:04\r",
      "\u001b[K     |████████▍                       | 2.1 MB 1.9 MB/s eta 0:00:04\r",
      "\u001b[K     |████████▍                       | 2.2 MB 1.9 MB/s eta 0:00:04\r",
      "\u001b[K     |████████▍                       | 2.2 MB 1.9 MB/s eta 0:00:04\r",
      "\u001b[K     |████████▌                       | 2.2 MB 1.9 MB/s eta 0:00:04\r",
      "\u001b[K     |████████▌                       | 2.2 MB 1.9 MB/s eta 0:00:04\r",
      "\u001b[K     |████████▌                       | 2.2 MB 1.9 MB/s eta 0:00:04\r",
      "\u001b[K     |████████▋                       | 2.2 MB 1.9 MB/s eta 0:00:04\r",
      "\u001b[K     |████████▋                       | 2.2 MB 1.9 MB/s eta 0:00:04\r",
      "\u001b[K     |████████▋                       | 2.2 MB 1.9 MB/s eta 0:00:04\r",
      "\u001b[K     |████████▊                       | 2.2 MB 1.9 MB/s eta 0:00:04\r",
      "\u001b[K     |████████▊                       | 2.2 MB 1.9 MB/s eta 0:00:04\r",
      "\u001b[K     |████████▉                       | 2.3 MB 1.9 MB/s eta 0:00:04\r",
      "\u001b[K     |████████▉                       | 2.3 MB 1.9 MB/s eta 0:00:04\r",
      "\u001b[K     |████████▉                       | 2.3 MB 1.9 MB/s eta 0:00:04\r",
      "\u001b[K     |█████████                       | 2.3 MB 1.9 MB/s eta 0:00:04\r",
      "\u001b[K     |█████████                       | 2.3 MB 1.9 MB/s eta 0:00:04\r",
      "\u001b[K     |█████████                       | 2.3 MB 1.9 MB/s eta 0:00:04\r",
      "\u001b[K     |█████████                       | 2.3 MB 1.9 MB/s eta 0:00:04\r",
      "\u001b[K     |█████████                       | 2.3 MB 1.9 MB/s eta 0:00:04\r",
      "\u001b[K     |█████████                       | 2.3 MB 1.9 MB/s eta 0:00:04\r",
      "\u001b[K     |█████████▏                      | 2.3 MB 1.9 MB/s eta 0:00:04\r",
      "\u001b[K     |█████████▏                      | 2.4 MB 1.9 MB/s eta 0:00:04\r",
      "\u001b[K     |█████████▏                      | 2.4 MB 1.9 MB/s eta 0:00:04\r",
      "\u001b[K     |█████████▎                      | 2.4 MB 1.9 MB/s eta 0:00:04\r",
      "\u001b[K     |█████████▎                      | 2.4 MB 1.9 MB/s eta 0:00:04\r",
      "\u001b[K     |█████████▍                      | 2.4 MB 1.9 MB/s eta 0:00:04\r",
      "\u001b[K     |█████████▍                      | 2.4 MB 1.9 MB/s eta 0:00:04\r",
      "\u001b[K     |█████████▍                      | 2.4 MB 1.9 MB/s eta 0:00:04\r",
      "\u001b[K     |█████████▌                      | 2.4 MB 1.9 MB/s eta 0:00:04\r",
      "\u001b[K     |█████████▌                      | 2.4 MB 1.9 MB/s eta 0:00:04\r",
      "\u001b[K     |█████████▌                      | 2.4 MB 1.9 MB/s eta 0:00:04\r",
      "\u001b[K     |█████████▋                      | 2.5 MB 1.9 MB/s eta 0:00:04\r",
      "\u001b[K     |█████████▋                      | 2.5 MB 1.9 MB/s eta 0:00:04\r",
      "\u001b[K     |█████████▋                      | 2.5 MB 1.9 MB/s eta 0:00:04\r",
      "\u001b[K     |█████████▊                      | 2.5 MB 1.9 MB/s eta 0:00:04\r",
      "\u001b[K     |█████████▊                      | 2.5 MB 1.9 MB/s eta 0:00:04\r",
      "\u001b[K     |█████████▊                      | 2.5 MB 1.9 MB/s eta 0:00:04\r",
      "\u001b[K     |█████████▉                      | 2.5 MB 1.9 MB/s eta 0:00:04\r",
      "\u001b[K     |█████████▉                      | 2.5 MB 1.9 MB/s eta 0:00:04\r",
      "\u001b[K     |██████████                      | 2.5 MB 1.9 MB/s eta 0:00:04\r",
      "\u001b[K     |██████████                      | 2.5 MB 1.9 MB/s eta 0:00:03\r",
      "\u001b[K     |██████████                      | 2.6 MB 1.9 MB/s eta 0:00:03\r",
      "\u001b[K     |██████████                      | 2.6 MB 1.9 MB/s eta 0:00:03\r",
      "\u001b[K     |██████████                      | 2.6 MB 1.9 MB/s eta 0:00:03\r",
      "\u001b[K     |██████████                      | 2.6 MB 1.9 MB/s eta 0:00:03\r",
      "\u001b[K     |██████████▏                     | 2.6 MB 1.9 MB/s eta 0:00:03\r",
      "\u001b[K     |██████████▏                     | 2.6 MB 1.9 MB/s eta 0:00:03"
     ]
    },
    {
     "name": "stdout",
     "output_type": "stream",
     "text": [
      "\r",
      "\u001b[K     |██████████▏                     | 2.6 MB 1.9 MB/s eta 0:00:03\r",
      "\u001b[K     |██████████▎                     | 2.6 MB 1.9 MB/s eta 0:00:03\r",
      "\u001b[K     |██████████▎                     | 2.6 MB 1.9 MB/s eta 0:00:03\r",
      "\u001b[K     |██████████▍                     | 2.7 MB 1.9 MB/s eta 0:00:03\r",
      "\u001b[K     |██████████▍                     | 2.7 MB 1.9 MB/s eta 0:00:03\r",
      "\u001b[K     |██████████▍                     | 2.7 MB 1.9 MB/s eta 0:00:03\r",
      "\u001b[K     |██████████▌                     | 2.7 MB 1.9 MB/s eta 0:00:03\r",
      "\u001b[K     |██████████▌                     | 2.7 MB 1.9 MB/s eta 0:00:03\r",
      "\u001b[K     |██████████▌                     | 2.7 MB 1.9 MB/s eta 0:00:03\r",
      "\u001b[K     |██████████▋                     | 2.7 MB 1.9 MB/s eta 0:00:03\r",
      "\u001b[K     |██████████▋                     | 2.7 MB 1.9 MB/s eta 0:00:03"
     ]
    },
    {
     "name": "stdout",
     "output_type": "stream",
     "text": [
      "\r",
      "\u001b[K     |██████████▋                     | 2.7 MB 1.9 MB/s eta 0:00:03\r",
      "\u001b[K     |██████████▊                     | 2.7 MB 1.9 MB/s eta 0:00:03\r",
      "\u001b[K     |██████████▊                     | 2.8 MB 1.9 MB/s eta 0:00:03\r",
      "\u001b[K     |██████████▊                     | 2.8 MB 1.9 MB/s eta 0:00:03\r",
      "\u001b[K     |██████████▉                     | 2.8 MB 1.9 MB/s eta 0:00:03\r",
      "\u001b[K     |██████████▉                     | 2.8 MB 1.9 MB/s eta 0:00:03\r",
      "\u001b[K     |███████████                     | 2.8 MB 1.9 MB/s eta 0:00:03\r",
      "\u001b[K     |███████████                     | 2.8 MB 1.9 MB/s eta 0:00:03\r",
      "\u001b[K     |███████████                     | 2.8 MB 1.9 MB/s eta 0:00:03\r",
      "\u001b[K     |███████████                     | 2.8 MB 1.9 MB/s eta 0:00:03\r",
      "\u001b[K     |███████████                     | 2.8 MB 1.9 MB/s eta 0:00:03\r",
      "\u001b[K     |███████████                     | 2.8 MB 1.9 MB/s eta 0:00:03\r",
      "\u001b[K     |███████████▏                    | 2.9 MB 1.9 MB/s eta 0:00:03"
     ]
    },
    {
     "name": "stdout",
     "output_type": "stream",
     "text": [
      "\r",
      "\u001b[K     |███████████▏                    | 2.9 MB 1.9 MB/s eta 0:00:03\r",
      "\u001b[K     |███████████▏                    | 2.9 MB 1.9 MB/s eta 0:00:03\r",
      "\u001b[K     |███████████▎                    | 2.9 MB 1.9 MB/s eta 0:00:03\r",
      "\u001b[K     |███████████▎                    | 2.9 MB 1.9 MB/s eta 0:00:03\r",
      "\u001b[K     |███████████▎                    | 2.9 MB 1.9 MB/s eta 0:00:03\r",
      "\u001b[K     |███████████▍                    | 2.9 MB 1.9 MB/s eta 0:00:03\r",
      "\u001b[K     |███████████▍                    | 2.9 MB 1.9 MB/s eta 0:00:03\r",
      "\u001b[K     |███████████▌                    | 2.9 MB 1.9 MB/s eta 0:00:03\r",
      "\u001b[K     |███████████▌                    | 2.9 MB 1.9 MB/s eta 0:00:03\r",
      "\u001b[K     |███████████▌                    | 3.0 MB 1.9 MB/s eta 0:00:03\r",
      "\u001b[K     |███████████▋                    | 3.0 MB 1.9 MB/s eta 0:00:03\r",
      "\u001b[K     |███████████▋                    | 3.0 MB 1.9 MB/s eta 0:00:03\r",
      "\u001b[K     |███████████▋                    | 3.0 MB 1.9 MB/s eta 0:00:03\r",
      "\u001b[K     |███████████▊                    | 3.0 MB 1.9 MB/s eta 0:00:03\r",
      "\u001b[K     |███████████▊                    | 3.0 MB 1.9 MB/s eta 0:00:03\r",
      "\u001b[K     |███████████▊                    | 3.0 MB 1.9 MB/s eta 0:00:03\r",
      "\u001b[K     |███████████▉                    | 3.0 MB 1.9 MB/s eta 0:00:03\r",
      "\u001b[K     |███████████▉                    | 3.0 MB 1.9 MB/s eta 0:00:03\r",
      "\u001b[K     |████████████                    | 3.1 MB 1.9 MB/s eta 0:00:03\r",
      "\u001b[K     |████████████                    | 3.1 MB 1.9 MB/s eta 0:00:03\r",
      "\u001b[K     |████████████                    | 3.1 MB 1.9 MB/s eta 0:00:03\r",
      "\u001b[K     |████████████                    | 3.1 MB 1.9 MB/s eta 0:00:03\r",
      "\u001b[K     |████████████                    | 3.1 MB 1.9 MB/s eta 0:00:03\r",
      "\u001b[K     |████████████                    | 3.1 MB 1.9 MB/s eta 0:00:03\r",
      "\u001b[K     |████████████▏                   | 3.1 MB 1.9 MB/s eta 0:00:03\r",
      "\u001b[K     |████████████▏                   | 3.1 MB 1.9 MB/s eta 0:00:03\r",
      "\u001b[K     |████████████▏                   | 3.1 MB 1.9 MB/s eta 0:00:03\r",
      "\u001b[K     |████████████▎                   | 3.1 MB 1.9 MB/s eta 0:00:03\r",
      "\u001b[K     |████████████▎                   | 3.2 MB 1.9 MB/s eta 0:00:03\r",
      "\u001b[K     |████████████▎                   | 3.2 MB 1.9 MB/s eta 0:00:03\r",
      "\u001b[K     |████████████▍                   | 3.2 MB 1.9 MB/s eta 0:00:03\r",
      "\u001b[K     |████████████▍                   | 3.2 MB 1.9 MB/s eta 0:00:03\r",
      "\u001b[K     |████████████▌                   | 3.2 MB 1.9 MB/s eta 0:00:03\r",
      "\u001b[K     |████████████▌                   | 3.2 MB 1.9 MB/s eta 0:00:03\r",
      "\u001b[K     |████████████▌                   | 3.2 MB 1.9 MB/s eta 0:00:03\r",
      "\u001b[K     |████████████▋                   | 3.2 MB 1.9 MB/s eta 0:00:03\r",
      "\u001b[K     |████████████▋                   | 3.2 MB 1.9 MB/s eta 0:00:03\r",
      "\u001b[K     |████████████▋                   | 3.2 MB 1.9 MB/s eta 0:00:03\r",
      "\u001b[K     |████████████▊                   | 3.3 MB 1.9 MB/s eta 0:00:03\r",
      "\u001b[K     |████████████▊                   | 3.3 MB 1.9 MB/s eta 0:00:03\r",
      "\u001b[K     |████████████▊                   | 3.3 MB 1.9 MB/s eta 0:00:03\r",
      "\u001b[K     |████████████▉                   | 3.3 MB 1.9 MB/s eta 0:00:03\r",
      "\u001b[K     |████████████▉                   | 3.3 MB 1.9 MB/s eta 0:00:03\r",
      "\u001b[K     |████████████▉                   | 3.3 MB 1.9 MB/s eta 0:00:03\r",
      "\u001b[K     |█████████████                   | 3.3 MB 1.9 MB/s eta 0:00:03\r",
      "\u001b[K     |█████████████                   | 3.3 MB 1.9 MB/s eta 0:00:03\r",
      "\u001b[K     |█████████████                   | 3.3 MB 1.9 MB/s eta 0:00:03\r",
      "\u001b[K     |█████████████                   | 3.3 MB 1.9 MB/s eta 0:00:03\r",
      "\u001b[K     |█████████████                   | 3.4 MB 1.9 MB/s eta 0:00:03\r",
      "\u001b[K     |█████████████▏                  | 3.4 MB 1.9 MB/s eta 0:00:03\r",
      "\u001b[K     |█████████████▏                  | 3.4 MB 1.9 MB/s eta 0:00:03\r",
      "\u001b[K     |█████████████▏                  | 3.4 MB 1.9 MB/s eta 0:00:03\r",
      "\u001b[K     |█████████████▎                  | 3.4 MB 1.9 MB/s eta 0:00:03\r",
      "\u001b[K     |█████████████▎                  | 3.4 MB 1.9 MB/s eta 0:00:03\r",
      "\u001b[K     |█████████████▎                  | 3.4 MB 1.9 MB/s eta 0:00:03\r",
      "\u001b[K     |█████████████▍                  | 3.4 MB 1.9 MB/s eta 0:00:03\r",
      "\u001b[K     |█████████████▍                  | 3.4 MB 1.9 MB/s eta 0:00:03\r",
      "\u001b[K     |█████████████▌                  | 3.5 MB 1.9 MB/s eta 0:00:03\r",
      "\u001b[K     |█████████████▌                  | 3.5 MB 1.9 MB/s eta 0:00:03\r",
      "\u001b[K     |█████████████▌                  | 3.5 MB 1.9 MB/s eta 0:00:03\r",
      "\u001b[K     |█████████████▋                  | 3.5 MB 1.9 MB/s eta 0:00:03\r",
      "\u001b[K     |█████████████▋                  | 3.5 MB 1.9 MB/s eta 0:00:03\r",
      "\u001b[K     |█████████████▋                  | 3.5 MB 1.9 MB/s eta 0:00:03\r",
      "\u001b[K     |█████████████▊                  | 3.5 MB 1.9 MB/s eta 0:00:03\r",
      "\u001b[K     |█████████████▊                  | 3.5 MB 1.9 MB/s eta 0:00:03\r",
      "\u001b[K     |█████████████▊                  | 3.5 MB 1.9 MB/s eta 0:00:03\r",
      "\u001b[K     |█████████████▉                  | 3.5 MB 1.9 MB/s eta 0:00:03\r",
      "\u001b[K     |█████████████▉                  | 3.6 MB 1.9 MB/s eta 0:00:03\r",
      "\u001b[K     |█████████████▉                  | 3.6 MB 1.9 MB/s eta 0:00:03\r",
      "\u001b[K     |██████████████                  | 3.6 MB 1.9 MB/s eta 0:00:03\r",
      "\u001b[K     |██████████████                  | 3.6 MB 1.9 MB/s eta 0:00:03\r",
      "\u001b[K     |██████████████                  | 3.6 MB 1.9 MB/s eta 0:00:03\r",
      "\u001b[K     |██████████████                  | 3.6 MB 1.9 MB/s eta 0:00:03\r",
      "\u001b[K     |██████████████                  | 3.6 MB 1.9 MB/s eta 0:00:03\r",
      "\u001b[K     |██████████████▏                 | 3.6 MB 1.9 MB/s eta 0:00:03\r",
      "\u001b[K     |██████████████▏                 | 3.6 MB 1.9 MB/s eta 0:00:03\r",
      "\u001b[K     |██████████████▏                 | 3.6 MB 1.9 MB/s eta 0:00:03\r",
      "\u001b[K     |██████████████▎                 | 3.7 MB 1.9 MB/s eta 0:00:03\r",
      "\u001b[K     |██████████████▎                 | 3.7 MB 1.9 MB/s eta 0:00:03\r",
      "\u001b[K     |██████████████▎                 | 3.7 MB 1.9 MB/s eta 0:00:03\r",
      "\u001b[K     |██████████████▍                 | 3.7 MB 1.9 MB/s eta 0:00:03\r",
      "\u001b[K     |██████████████▍                 | 3.7 MB 1.9 MB/s eta 0:00:03\r",
      "\u001b[K     |██████████████▍                 | 3.7 MB 1.9 MB/s eta 0:00:03\r",
      "\u001b[K     |██████████████▌                 | 3.7 MB 1.9 MB/s eta 0:00:03\r",
      "\u001b[K     |██████████████▌                 | 3.7 MB 1.9 MB/s eta 0:00:03"
     ]
    },
    {
     "name": "stdout",
     "output_type": "stream",
     "text": [
      "\r",
      "\u001b[K     |██████████████▋                 | 3.7 MB 1.9 MB/s eta 0:00:03\r",
      "\u001b[K     |██████████████▋                 | 3.7 MB 1.9 MB/s eta 0:00:03\r",
      "\u001b[K     |██████████████▋                 | 3.8 MB 1.9 MB/s eta 0:00:03\r",
      "\u001b[K     |██████████████▊                 | 3.8 MB 1.9 MB/s eta 0:00:03\r",
      "\u001b[K     |██████████████▊                 | 3.8 MB 1.9 MB/s eta 0:00:03\r",
      "\u001b[K     |██████████████▊                 | 3.8 MB 1.9 MB/s eta 0:00:03\r",
      "\u001b[K     |██████████████▉                 | 3.8 MB 1.9 MB/s eta 0:00:03\r",
      "\u001b[K     |██████████████▉                 | 3.8 MB 1.9 MB/s eta 0:00:03\r",
      "\u001b[K     |██████████████▉                 | 3.8 MB 1.9 MB/s eta 0:00:03\r",
      "\u001b[K     |███████████████                 | 3.8 MB 1.9 MB/s eta 0:00:03\r",
      "\u001b[K     |███████████████                 | 3.8 MB 1.9 MB/s eta 0:00:03\r",
      "\u001b[K     |███████████████                 | 3.9 MB 1.9 MB/s eta 0:00:03\r",
      "\u001b[K     |███████████████                 | 3.9 MB 1.9 MB/s eta 0:00:03\r",
      "\u001b[K     |███████████████                 | 3.9 MB 1.9 MB/s eta 0:00:03\r",
      "\u001b[K     |███████████████▏                | 3.9 MB 1.9 MB/s eta 0:00:03\r",
      "\u001b[K     |███████████████▏                | 3.9 MB 1.9 MB/s eta 0:00:03\r",
      "\u001b[K     |███████████████▏                | 3.9 MB 1.9 MB/s eta 0:00:03\r",
      "\u001b[K     |███████████████▎                | 3.9 MB 1.9 MB/s eta 0:00:03\r",
      "\u001b[K     |███████████████▎                | 3.9 MB 1.9 MB/s eta 0:00:03\r",
      "\u001b[K     |███████████████▎                | 3.9 MB 1.9 MB/s eta 0:00:03\r",
      "\u001b[K     |███████████████▍                | 3.9 MB 1.9 MB/s eta 0:00:03\r",
      "\u001b[K     |███████████████▍                | 4.0 MB 1.9 MB/s eta 0:00:03\r",
      "\u001b[K     |███████████████▍                | 4.0 MB 1.9 MB/s eta 0:00:03\r",
      "\u001b[K     |███████████████▌                | 4.0 MB 1.9 MB/s eta 0:00:03\r",
      "\u001b[K     |███████████████▌                | 4.0 MB 1.9 MB/s eta 0:00:03\r",
      "\u001b[K     |███████████████▋                | 4.0 MB 1.9 MB/s eta 0:00:03\r",
      "\u001b[K     |███████████████▋                | 4.0 MB 1.9 MB/s eta 0:00:03\r",
      "\u001b[K     |███████████████▋                | 4.0 MB 1.9 MB/s eta 0:00:03\r",
      "\u001b[K     |███████████████▊                | 4.0 MB 1.9 MB/s eta 0:00:03\r",
      "\u001b[K     |███████████████▊                | 4.0 MB 1.9 MB/s eta 0:00:03\r",
      "\u001b[K     |███████████████▊                | 4.0 MB 1.9 MB/s eta 0:00:03\r",
      "\u001b[K     |███████████████▉                | 4.1 MB 1.9 MB/s eta 0:00:03\r",
      "\u001b[K     |███████████████▉                | 4.1 MB 1.9 MB/s eta 0:00:03\r",
      "\u001b[K     |███████████████▉                | 4.1 MB 1.9 MB/s eta 0:00:03\r",
      "\u001b[K     |████████████████                | 4.1 MB 1.9 MB/s eta 0:00:03\r",
      "\u001b[K     |████████████████                | 4.1 MB 1.9 MB/s eta 0:00:03\r",
      "\u001b[K     |████████████████                | 4.1 MB 1.9 MB/s eta 0:00:03\r",
      "\u001b[K     |████████████████                | 4.1 MB 1.9 MB/s eta 0:00:03\r",
      "\u001b[K     |████████████████                | 4.1 MB 1.9 MB/s eta 0:00:03\r",
      "\u001b[K     |████████████████▏               | 4.1 MB 1.9 MB/s eta 0:00:03"
     ]
    },
    {
     "name": "stdout",
     "output_type": "stream",
     "text": [
      "\r",
      "\u001b[K     |████████████████▏               | 4.1 MB 1.9 MB/s eta 0:00:03\r",
      "\u001b[K     |████████████████▏               | 4.2 MB 1.9 MB/s eta 0:00:03\r",
      "\u001b[K     |████████████████▎               | 4.2 MB 1.9 MB/s eta 0:00:03\r",
      "\u001b[K     |████████████████▎               | 4.2 MB 1.9 MB/s eta 0:00:03\r",
      "\u001b[K     |████████████████▎               | 4.2 MB 1.9 MB/s eta 0:00:03\r",
      "\u001b[K     |████████████████▍               | 4.2 MB 1.9 MB/s eta 0:00:03\r",
      "\u001b[K     |████████████████▍               | 4.2 MB 1.9 MB/s eta 0:00:03"
     ]
    },
    {
     "name": "stdout",
     "output_type": "stream",
     "text": [
      "\r",
      "\u001b[K     |████████████████▍               | 4.2 MB 1.9 MB/s eta 0:00:03\r",
      "\u001b[K     |████████████████▌               | 4.2 MB 1.9 MB/s eta 0:00:03\r",
      "\u001b[K     |████████████████▌               | 4.2 MB 1.9 MB/s eta 0:00:03\r",
      "\u001b[K     |████████████████▋               | 4.2 MB 1.9 MB/s eta 0:00:03\r",
      "\u001b[K     |████████████████▋               | 4.3 MB 1.9 MB/s eta 0:00:03\r",
      "\u001b[K     |████████████████▋               | 4.3 MB 1.9 MB/s eta 0:00:03\r",
      "\u001b[K     |████████████████▊               | 4.3 MB 1.9 MB/s eta 0:00:03\r",
      "\u001b[K     |████████████████▊               | 4.3 MB 1.9 MB/s eta 0:00:03\r",
      "\u001b[K     |████████████████▊               | 4.3 MB 1.9 MB/s eta 0:00:03"
     ]
    },
    {
     "name": "stdout",
     "output_type": "stream",
     "text": [
      "\r",
      "\u001b[K     |████████████████▉               | 4.3 MB 1.9 MB/s eta 0:00:03\r",
      "\u001b[K     |████████████████▉               | 4.3 MB 1.9 MB/s eta 0:00:03\r",
      "\u001b[K     |████████████████▉               | 4.3 MB 1.9 MB/s eta 0:00:03"
     ]
    },
    {
     "name": "stdout",
     "output_type": "stream",
     "text": [
      "\r",
      "\u001b[K     |█████████████████               | 4.3 MB 1.9 MB/s eta 0:00:03\r",
      "\u001b[K     |█████████████████               | 4.4 MB 1.9 MB/s eta 0:00:03\r",
      "\u001b[K     |█████████████████               | 4.4 MB 1.9 MB/s eta 0:00:03"
     ]
    },
    {
     "name": "stdout",
     "output_type": "stream",
     "text": [
      "\r",
      "\u001b[K     |█████████████████               | 4.4 MB 709 kB/s eta 0:00:06\r",
      "\u001b[K     |█████████████████               | 4.4 MB 709 kB/s eta 0:00:06\r",
      "\u001b[K     |█████████████████▏              | 4.4 MB 709 kB/s eta 0:00:06\r",
      "\u001b[K     |█████████████████▏              | 4.4 MB 709 kB/s eta 0:00:06\r",
      "\u001b[K     |█████████████████▏              | 4.4 MB 709 kB/s eta 0:00:06"
     ]
    },
    {
     "name": "stdout",
     "output_type": "stream",
     "text": [
      "\r",
      "\u001b[K     |█████████████████▎              | 4.4 MB 709 kB/s eta 0:00:06\r",
      "\u001b[K     |█████████████████▎              | 4.4 MB 709 kB/s eta 0:00:06\r",
      "\u001b[K     |█████████████████▎              | 4.4 MB 709 kB/s eta 0:00:06\r",
      "\u001b[K     |█████████████████▍              | 4.5 MB 709 kB/s eta 0:00:06\r",
      "\u001b[K     |█████████████████▍              | 4.5 MB 709 kB/s eta 0:00:06\r",
      "\u001b[K     |█████████████████▍              | 4.5 MB 709 kB/s eta 0:00:06\r",
      "\u001b[K     |█████████████████▌              | 4.5 MB 709 kB/s eta 0:00:06"
     ]
    },
    {
     "name": "stdout",
     "output_type": "stream",
     "text": [
      "\r",
      "\u001b[K     |█████████████████▌              | 4.5 MB 709 kB/s eta 0:00:06\r",
      "\u001b[K     |█████████████████▋              | 4.5 MB 709 kB/s eta 0:00:06\r",
      "\u001b[K     |█████████████████▋              | 4.5 MB 709 kB/s eta 0:00:06\r",
      "\u001b[K     |█████████████████▋              | 4.5 MB 709 kB/s eta 0:00:06\r",
      "\u001b[K     |█████████████████▊              | 4.5 MB 709 kB/s eta 0:00:06\r",
      "\u001b[K     |█████████████████▊              | 4.5 MB 709 kB/s eta 0:00:06\r",
      "\u001b[K     |█████████████████▊              | 4.6 MB 709 kB/s eta 0:00:06\r",
      "\u001b[K     |█████████████████▉              | 4.6 MB 709 kB/s eta 0:00:06\r",
      "\u001b[K     |█████████████████▉              | 4.6 MB 709 kB/s eta 0:00:06\r",
      "\u001b[K     |█████████████████▉              | 4.6 MB 709 kB/s eta 0:00:06\r",
      "\u001b[K     |██████████████████              | 4.6 MB 709 kB/s eta 0:00:06\r",
      "\u001b[K     |██████████████████              | 4.6 MB 709 kB/s eta 0:00:06\r",
      "\u001b[K     |██████████████████              | 4.6 MB 709 kB/s eta 0:00:06\r",
      "\u001b[K     |██████████████████              | 4.6 MB 709 kB/s eta 0:00:06\r",
      "\u001b[K     |██████████████████              | 4.6 MB 709 kB/s eta 0:00:06\r",
      "\u001b[K     |██████████████████▏             | 4.6 MB 709 kB/s eta 0:00:06\r",
      "\u001b[K     |██████████████████▏             | 4.7 MB 709 kB/s eta 0:00:06\r",
      "\u001b[K     |██████████████████▏             | 4.7 MB 709 kB/s eta 0:00:05\r",
      "\u001b[K     |██████████████████▎             | 4.7 MB 709 kB/s eta 0:00:05\r",
      "\u001b[K     |██████████████████▎             | 4.7 MB 709 kB/s eta 0:00:05"
     ]
    },
    {
     "name": "stdout",
     "output_type": "stream",
     "text": [
      "\r",
      "\u001b[K     |██████████████████▎             | 4.7 MB 709 kB/s eta 0:00:05\r",
      "\u001b[K     |██████████████████▍             | 4.7 MB 709 kB/s eta 0:00:05\r",
      "\u001b[K     |██████████████████▍             | 4.7 MB 709 kB/s eta 0:00:05\r",
      "\u001b[K     |██████████████████▍             | 4.7 MB 709 kB/s eta 0:00:05\r",
      "\u001b[K     |██████████████████▌             | 4.7 MB 709 kB/s eta 0:00:05\r",
      "\u001b[K     |██████████████████▌             | 4.8 MB 709 kB/s eta 0:00:05\r",
      "\u001b[K     |██████████████████▌             | 4.8 MB 709 kB/s eta 0:00:05"
     ]
    },
    {
     "name": "stdout",
     "output_type": "stream",
     "text": [
      "\r",
      "\u001b[K     |██████████████████▋             | 4.8 MB 709 kB/s eta 0:00:05\r",
      "\u001b[K     |██████████████████▋             | 4.8 MB 709 kB/s eta 0:00:05\r",
      "\u001b[K     |██████████████████▊             | 4.8 MB 709 kB/s eta 0:00:05\r",
      "\u001b[K     |██████████████████▊             | 4.8 MB 709 kB/s eta 0:00:05\r",
      "\u001b[K     |██████████████████▊             | 4.8 MB 709 kB/s eta 0:00:05\r",
      "\u001b[K     |██████████████████▉             | 4.8 MB 709 kB/s eta 0:00:05\r",
      "\u001b[K     |██████████████████▉             | 4.8 MB 709 kB/s eta 0:00:05\r",
      "\u001b[K     |██████████████████▉             | 4.8 MB 709 kB/s eta 0:00:05\r",
      "\u001b[K     |███████████████████             | 4.9 MB 709 kB/s eta 0:00:05\r",
      "\u001b[K     |███████████████████             | 4.9 MB 709 kB/s eta 0:00:05\r",
      "\u001b[K     |███████████████████             | 4.9 MB 709 kB/s eta 0:00:05"
     ]
    },
    {
     "name": "stdout",
     "output_type": "stream",
     "text": [
      "\r",
      "\u001b[K     |███████████████████             | 4.9 MB 709 kB/s eta 0:00:05\r",
      "\u001b[K     |███████████████████             | 4.9 MB 709 kB/s eta 0:00:05\r",
      "\u001b[K     |███████████████████▏            | 4.9 MB 709 kB/s eta 0:00:05\r",
      "\u001b[K     |███████████████████▏            | 4.9 MB 709 kB/s eta 0:00:05\r",
      "\u001b[K     |███████████████████▏            | 4.9 MB 709 kB/s eta 0:00:05\r",
      "\u001b[K     |███████████████████▎            | 4.9 MB 709 kB/s eta 0:00:05\r",
      "\u001b[K     |███████████████████▎            | 4.9 MB 709 kB/s eta 0:00:05\r",
      "\u001b[K     |███████████████████▎            | 5.0 MB 709 kB/s eta 0:00:05\r",
      "\u001b[K     |███████████████████▍            | 5.0 MB 709 kB/s eta 0:00:05\r",
      "\u001b[K     |███████████████████▍            | 5.0 MB 709 kB/s eta 0:00:05\r",
      "\u001b[K     |███████████████████▍            | 5.0 MB 709 kB/s eta 0:00:05\r",
      "\u001b[K     |███████████████████▌            | 5.0 MB 709 kB/s eta 0:00:05"
     ]
    },
    {
     "name": "stdout",
     "output_type": "stream",
     "text": [
      "\r",
      "\u001b[K     |███████████████████▌            | 5.0 MB 709 kB/s eta 0:00:05\r",
      "\u001b[K     |███████████████████▌            | 5.0 MB 709 kB/s eta 0:00:05\r",
      "\u001b[K     |███████████████████▋            | 5.0 MB 709 kB/s eta 0:00:05\r",
      "\u001b[K     |███████████████████▋            | 5.0 MB 709 kB/s eta 0:00:05\r",
      "\u001b[K     |███████████████████▊            | 5.0 MB 709 kB/s eta 0:00:05\r",
      "\u001b[K     |███████████████████▊            | 5.1 MB 709 kB/s eta 0:00:05"
     ]
    },
    {
     "name": "stdout",
     "output_type": "stream",
     "text": [
      "\r",
      "\u001b[K     |███████████████████▊            | 5.1 MB 709 kB/s eta 0:00:05"
     ]
    },
    {
     "name": "stdout",
     "output_type": "stream",
     "text": [
      "\r",
      "\u001b[K     |███████████████████▉            | 5.1 MB 709 kB/s eta 0:00:05\r",
      "\u001b[K     |███████████████████▉            | 5.1 MB 709 kB/s eta 0:00:05\r",
      "\u001b[K     |███████████████████▉            | 5.1 MB 709 kB/s eta 0:00:05\r",
      "\u001b[K     |████████████████████            | 5.1 MB 709 kB/s eta 0:00:05\r",
      "\u001b[K     |████████████████████            | 5.1 MB 709 kB/s eta 0:00:05"
     ]
    },
    {
     "name": "stdout",
     "output_type": "stream",
     "text": [
      "\r",
      "\u001b[K     |████████████████████            | 5.1 MB 709 kB/s eta 0:00:05\r",
      "\u001b[K     |████████████████████            | 5.1 MB 709 kB/s eta 0:00:05"
     ]
    },
    {
     "name": "stdout",
     "output_type": "stream",
     "text": [
      "\r",
      "\u001b[K     |████████████████████            | 5.2 MB 709 kB/s eta 0:00:05\r",
      "\u001b[K     |████████████████████            | 5.2 MB 709 kB/s eta 0:00:05\r",
      "\u001b[K     |████████████████████▏           | 5.2 MB 709 kB/s eta 0:00:05"
     ]
    },
    {
     "name": "stdout",
     "output_type": "stream",
     "text": [
      "\r",
      "\u001b[K     |████████████████████▏           | 5.2 MB 709 kB/s eta 0:00:05\r",
      "\u001b[K     |████████████████████▎           | 5.2 MB 709 kB/s eta 0:00:05\r",
      "\u001b[K     |████████████████████▎           | 5.2 MB 709 kB/s eta 0:00:05"
     ]
    },
    {
     "name": "stdout",
     "output_type": "stream",
     "text": [
      "\r",
      "\u001b[K     |████████████████████▎           | 5.2 MB 709 kB/s eta 0:00:05\r",
      "\u001b[K     |████████████████████▍           | 5.2 MB 709 kB/s eta 0:00:05"
     ]
    },
    {
     "name": "stdout",
     "output_type": "stream",
     "text": [
      "\r",
      "\u001b[K     |████████████████████▍           | 5.2 MB 709 kB/s eta 0:00:05"
     ]
    },
    {
     "name": "stdout",
     "output_type": "stream",
     "text": [
      "\r",
      "\u001b[K     |████████████████████▍           | 5.2 MB 709 kB/s eta 0:00:05\r",
      "\u001b[K     |████████████████████▌           | 5.3 MB 709 kB/s eta 0:00:05"
     ]
    },
    {
     "name": "stdout",
     "output_type": "stream",
     "text": [
      "\r",
      "\u001b[K     |████████████████████▌           | 5.3 MB 709 kB/s eta 0:00:05\r",
      "\u001b[K     |████████████████████▌           | 5.3 MB 709 kB/s eta 0:00:05\r",
      "\u001b[K     |████████████████████▋           | 5.3 MB 709 kB/s eta 0:00:05"
     ]
    },
    {
     "name": "stdout",
     "output_type": "stream",
     "text": [
      "\r",
      "\u001b[K     |████████████████████▋           | 5.3 MB 709 kB/s eta 0:00:05\r",
      "\u001b[K     |████████████████████▊           | 5.3 MB 709 kB/s eta 0:00:05\r",
      "\u001b[K     |████████████████████▊           | 5.3 MB 709 kB/s eta 0:00:05"
     ]
    },
    {
     "name": "stdout",
     "output_type": "stream",
     "text": [
      "\r",
      "\u001b[K     |████████████████████▊           | 5.3 MB 709 kB/s eta 0:00:05\r",
      "\u001b[K     |████████████████████▉           | 5.3 MB 709 kB/s eta 0:00:05\r",
      "\u001b[K     |████████████████████▉           | 5.3 MB 709 kB/s eta 0:00:05\r",
      "\u001b[K     |████████████████████▉           | 5.4 MB 709 kB/s eta 0:00:05\r",
      "\u001b[K     |█████████████████████           | 5.4 MB 709 kB/s eta 0:00:05\r",
      "\u001b[K     |█████████████████████           | 5.4 MB 709 kB/s eta 0:00:04\r",
      "\u001b[K     |█████████████████████           | 5.4 MB 709 kB/s eta 0:00:04\r",
      "\u001b[K     |█████████████████████           | 5.4 MB 709 kB/s eta 0:00:04\r",
      "\u001b[K     |█████████████████████           | 5.4 MB 709 kB/s eta 0:00:04\r",
      "\u001b[K     |█████████████████████           | 5.4 MB 709 kB/s eta 0:00:04\r",
      "\u001b[K     |█████████████████████▏          | 5.4 MB 709 kB/s eta 0:00:04\r",
      "\u001b[K     |█████████████████████▏          | 5.4 MB 709 kB/s eta 0:00:04\r",
      "\u001b[K     |█████████████████████▎          | 5.4 MB 709 kB/s eta 0:00:04"
     ]
    },
    {
     "name": "stdout",
     "output_type": "stream",
     "text": [
      "\r",
      "\u001b[K     |█████████████████████▎          | 5.5 MB 709 kB/s eta 0:00:04\r",
      "\u001b[K     |█████████████████████▎          | 5.5 MB 709 kB/s eta 0:00:04\r",
      "\u001b[K     |█████████████████████▍          | 5.5 MB 709 kB/s eta 0:00:04\r",
      "\u001b[K     |█████████████████████▍          | 5.5 MB 709 kB/s eta 0:00:04\r",
      "\u001b[K     |█████████████████████▍          | 5.5 MB 709 kB/s eta 0:00:04\r",
      "\u001b[K     |█████████████████████▌          | 5.5 MB 709 kB/s eta 0:00:04\r",
      "\u001b[K     |█████████████████████▌          | 5.5 MB 709 kB/s eta 0:00:04\r",
      "\u001b[K     |█████████████████████▌          | 5.5 MB 709 kB/s eta 0:00:04\r",
      "\u001b[K     |█████████████████████▋          | 5.5 MB 709 kB/s eta 0:00:04\r",
      "\u001b[K     |█████████████████████▋          | 5.6 MB 709 kB/s eta 0:00:04\r",
      "\u001b[K     |█████████████████████▋          | 5.6 MB 709 kB/s eta 0:00:04"
     ]
    },
    {
     "name": "stdout",
     "output_type": "stream",
     "text": [
      "\r",
      "\u001b[K     |█████████████████████▊          | 5.6 MB 709 kB/s eta 0:00:04\r",
      "\u001b[K     |█████████████████████▊          | 5.6 MB 709 kB/s eta 0:00:04\r",
      "\u001b[K     |█████████████████████▉          | 5.6 MB 709 kB/s eta 0:00:04\r",
      "\u001b[K     |█████████████████████▉          | 5.6 MB 709 kB/s eta 0:00:04\r",
      "\u001b[K     |█████████████████████▉          | 5.6 MB 709 kB/s eta 0:00:04\r",
      "\u001b[K     |██████████████████████          | 5.6 MB 709 kB/s eta 0:00:04\r",
      "\u001b[K     |██████████████████████          | 5.6 MB 709 kB/s eta 0:00:04\r",
      "\u001b[K     |██████████████████████          | 5.6 MB 1.9 MB/s eta 0:00:02"
     ]
    },
    {
     "name": "stdout",
     "output_type": "stream",
     "text": [
      "\r",
      "\u001b[K     |██████████████████████          | 5.7 MB 1.9 MB/s eta 0:00:02\r",
      "\u001b[K     |██████████████████████          | 5.7 MB 1.9 MB/s eta 0:00:02\r",
      "\u001b[K     |██████████████████████          | 5.7 MB 1.9 MB/s eta 0:00:02\r",
      "\u001b[K     |██████████████████████▏         | 5.7 MB 1.9 MB/s eta 0:00:02\r",
      "\u001b[K     |██████████████████████▏         | 5.7 MB 1.9 MB/s eta 0:00:02"
     ]
    },
    {
     "name": "stdout",
     "output_type": "stream",
     "text": [
      "\r",
      "\u001b[K     |██████████████████████▎         | 5.7 MB 1.9 MB/s eta 0:00:02\r",
      "\u001b[K     |██████████████████████▎         | 5.7 MB 1.9 MB/s eta 0:00:02\r",
      "\u001b[K     |██████████████████████▎         | 5.7 MB 1.9 MB/s eta 0:00:02\r",
      "\u001b[K     |██████████████████████▍         | 5.7 MB 1.9 MB/s eta 0:00:02\r",
      "\u001b[K     |██████████████████████▍         | 5.7 MB 1.9 MB/s eta 0:00:02\r",
      "\u001b[K     |██████████████████████▍         | 5.8 MB 1.9 MB/s eta 0:00:02"
     ]
    },
    {
     "name": "stdout",
     "output_type": "stream",
     "text": [
      "\r",
      "\u001b[K     |██████████████████████▌         | 5.8 MB 1.9 MB/s eta 0:00:02\r",
      "\u001b[K     |██████████████████████▌         | 5.8 MB 1.9 MB/s eta 0:00:02\r",
      "\u001b[K     |██████████████████████▌         | 5.8 MB 1.9 MB/s eta 0:00:02\r",
      "\u001b[K     |██████████████████████▋         | 5.8 MB 1.9 MB/s eta 0:00:02\r",
      "\u001b[K     |██████████████████████▋         | 5.8 MB 1.9 MB/s eta 0:00:02\r",
      "\u001b[K     |██████████████████████▋         | 5.8 MB 1.9 MB/s eta 0:00:02\r",
      "\u001b[K     |██████████████████████▊         | 5.8 MB 1.9 MB/s eta 0:00:02\r",
      "\u001b[K     |██████████████████████▊         | 5.8 MB 1.9 MB/s eta 0:00:02\r",
      "\u001b[K     |██████████████████████▉         | 5.8 MB 1.9 MB/s eta 0:00:02\r",
      "\u001b[K     |██████████████████████▉         | 5.9 MB 1.9 MB/s eta 0:00:02\r",
      "\u001b[K     |██████████████████████▉         | 5.9 MB 1.9 MB/s eta 0:00:02\r",
      "\u001b[K     |███████████████████████         | 5.9 MB 1.9 MB/s eta 0:00:02\r",
      "\u001b[K     |███████████████████████         | 5.9 MB 1.9 MB/s eta 0:00:02\r",
      "\u001b[K     |███████████████████████         | 5.9 MB 1.9 MB/s eta 0:00:02\r",
      "\u001b[K     |███████████████████████         | 5.9 MB 1.9 MB/s eta 0:00:02\r",
      "\u001b[K     |███████████████████████         | 5.9 MB 1.9 MB/s eta 0:00:02\r",
      "\u001b[K     |███████████████████████         | 5.9 MB 1.9 MB/s eta 0:00:02\r",
      "\u001b[K     |███████████████████████▏        | 5.9 MB 1.9 MB/s eta 0:00:02\r",
      "\u001b[K     |███████████████████████▏        | 5.9 MB 1.9 MB/s eta 0:00:02\r",
      "\u001b[K     |███████████████████████▏        | 6.0 MB 1.9 MB/s eta 0:00:02\r",
      "\u001b[K     |███████████████████████▎        | 6.0 MB 1.9 MB/s eta 0:00:02\r",
      "\u001b[K     |███████████████████████▎        | 6.0 MB 1.9 MB/s eta 0:00:02\r",
      "\u001b[K     |███████████████████████▍        | 6.0 MB 1.9 MB/s eta 0:00:02\r",
      "\u001b[K     |███████████████████████▍        | 6.0 MB 1.9 MB/s eta 0:00:02"
     ]
    },
    {
     "name": "stdout",
     "output_type": "stream",
     "text": [
      "\r",
      "\u001b[K     |███████████████████████▍        | 6.0 MB 1.9 MB/s eta 0:00:02\r",
      "\u001b[K     |███████████████████████▌        | 6.0 MB 1.9 MB/s eta 0:00:02\r",
      "\u001b[K     |███████████████████████▌        | 6.0 MB 1.9 MB/s eta 0:00:02\r",
      "\u001b[K     |███████████████████████▌        | 6.0 MB 1.9 MB/s eta 0:00:02\r",
      "\u001b[K     |███████████████████████▋        | 6.1 MB 1.9 MB/s eta 0:00:02\r",
      "\u001b[K     |███████████████████████▋        | 6.1 MB 1.9 MB/s eta 0:00:02\r",
      "\u001b[K     |███████████████████████▋        | 6.1 MB 1.9 MB/s eta 0:00:02\r",
      "\u001b[K     |███████████████████████▊        | 6.1 MB 1.9 MB/s eta 0:00:02\r",
      "\u001b[K     |███████████████████████▊        | 6.1 MB 1.9 MB/s eta 0:00:02\r",
      "\u001b[K     |███████████████████████▉        | 6.1 MB 1.9 MB/s eta 0:00:02\r",
      "\u001b[K     |███████████████████████▉        | 6.1 MB 1.9 MB/s eta 0:00:02\r",
      "\u001b[K     |███████████████████████▉        | 6.1 MB 1.9 MB/s eta 0:00:02\r",
      "\u001b[K     |████████████████████████        | 6.1 MB 1.9 MB/s eta 0:00:02\r",
      "\u001b[K     |████████████████████████        | 6.1 MB 1.9 MB/s eta 0:00:02\r",
      "\u001b[K     |████████████████████████        | 6.2 MB 1.9 MB/s eta 0:00:02\r",
      "\u001b[K     |████████████████████████        | 6.2 MB 1.9 MB/s eta 0:00:02\r",
      "\u001b[K     |████████████████████████        | 6.2 MB 1.9 MB/s eta 0:00:02\r",
      "\u001b[K     |████████████████████████        | 6.2 MB 1.9 MB/s eta 0:00:02\r",
      "\u001b[K     |████████████████████████▏       | 6.2 MB 1.9 MB/s eta 0:00:02\r",
      "\u001b[K     |████████████████████████▏       | 6.2 MB 1.9 MB/s eta 0:00:02\r",
      "\u001b[K     |████████████████████████▏       | 6.2 MB 1.9 MB/s eta 0:00:02\r",
      "\u001b[K     |████████████████████████▎       | 6.2 MB 1.9 MB/s eta 0:00:02\r",
      "\u001b[K     |████████████████████████▎       | 6.2 MB 1.9 MB/s eta 0:00:02\r",
      "\u001b[K     |████████████████████████▍       | 6.2 MB 1.9 MB/s eta 0:00:02\r",
      "\u001b[K     |████████████████████████▍       | 6.3 MB 1.9 MB/s eta 0:00:02\r",
      "\u001b[K     |████████████████████████▍       | 6.3 MB 1.9 MB/s eta 0:00:02\r",
      "\u001b[K     |████████████████████████▌       | 6.3 MB 1.9 MB/s eta 0:00:02\r",
      "\u001b[K     |████████████████████████▌       | 6.3 MB 1.9 MB/s eta 0:00:01\r",
      "\u001b[K     |████████████████████████▌       | 6.3 MB 1.9 MB/s eta 0:00:01\r",
      "\u001b[K     |████████████████████████▋       | 6.3 MB 1.9 MB/s eta 0:00:01\r",
      "\u001b[K     |████████████████████████▋       | 6.3 MB 1.9 MB/s eta 0:00:01\r",
      "\u001b[K     |████████████████████████▋       | 6.3 MB 1.9 MB/s eta 0:00:01\r",
      "\u001b[K     |████████████████████████▊       | 6.3 MB 1.9 MB/s eta 0:00:01\r",
      "\u001b[K     |████████████████████████▊       | 6.3 MB 1.9 MB/s eta 0:00:01\r",
      "\u001b[K     |████████████████████████▉       | 6.4 MB 1.9 MB/s eta 0:00:01\r",
      "\u001b[K     |████████████████████████▉       | 6.4 MB 1.9 MB/s eta 0:00:01\r",
      "\u001b[K     |████████████████████████▉       | 6.4 MB 1.9 MB/s eta 0:00:01"
     ]
    },
    {
     "name": "stdout",
     "output_type": "stream",
     "text": [
      "\r",
      "\u001b[K     |█████████████████████████       | 6.4 MB 1.9 MB/s eta 0:00:01\r",
      "\u001b[K     |█████████████████████████       | 6.4 MB 1.9 MB/s eta 0:00:01\r",
      "\u001b[K     |█████████████████████████       | 6.4 MB 1.9 MB/s eta 0:00:01\r",
      "\u001b[K     |█████████████████████████       | 6.4 MB 1.9 MB/s eta 0:00:01\r",
      "\u001b[K     |█████████████████████████       | 6.4 MB 1.9 MB/s eta 0:00:01\r",
      "\u001b[K     |█████████████████████████       | 6.4 MB 1.9 MB/s eta 0:00:01\r",
      "\u001b[K     |█████████████████████████▏      | 6.5 MB 1.9 MB/s eta 0:00:01\r",
      "\u001b[K     |█████████████████████████▏      | 6.5 MB 1.9 MB/s eta 0:00:01\r",
      "\u001b[K     |█████████████████████████▏      | 6.5 MB 1.9 MB/s eta 0:00:01\r",
      "\u001b[K     |█████████████████████████▎      | 6.5 MB 1.9 MB/s eta 0:00:01\r",
      "\u001b[K     |█████████████████████████▎      | 6.5 MB 1.9 MB/s eta 0:00:01\r",
      "\u001b[K     |█████████████████████████▍      | 6.5 MB 1.9 MB/s eta 0:00:01\r",
      "\u001b[K     |█████████████████████████▍      | 6.5 MB 1.9 MB/s eta 0:00:01\r",
      "\u001b[K     |█████████████████████████▍      | 6.5 MB 1.9 MB/s eta 0:00:01\r",
      "\u001b[K     |█████████████████████████▌      | 6.5 MB 1.9 MB/s eta 0:00:01\r",
      "\u001b[K     |█████████████████████████▌      | 6.5 MB 1.9 MB/s eta 0:00:01\r",
      "\u001b[K     |█████████████████████████▌      | 6.6 MB 1.9 MB/s eta 0:00:01\r",
      "\u001b[K     |█████████████████████████▋      | 6.6 MB 1.9 MB/s eta 0:00:01\r",
      "\u001b[K     |█████████████████████████▋      | 6.6 MB 1.9 MB/s eta 0:00:01"
     ]
    },
    {
     "name": "stdout",
     "output_type": "stream",
     "text": [
      "\r",
      "\u001b[K     |█████████████████████████▋      | 6.6 MB 1.9 MB/s eta 0:00:01\r",
      "\u001b[K     |█████████████████████████▊      | 6.6 MB 1.9 MB/s eta 0:00:01\r",
      "\u001b[K     |█████████████████████████▊      | 6.6 MB 1.9 MB/s eta 0:00:01\r",
      "\u001b[K     |█████████████████████████▊      | 6.6 MB 1.9 MB/s eta 0:00:01\r",
      "\u001b[K     |█████████████████████████▉      | 6.6 MB 1.9 MB/s eta 0:00:01\r",
      "\u001b[K     |█████████████████████████▉      | 6.6 MB 1.9 MB/s eta 0:00:01\r",
      "\u001b[K     |██████████████████████████      | 6.6 MB 1.9 MB/s eta 0:00:01\r",
      "\u001b[K     |██████████████████████████      | 6.7 MB 1.9 MB/s eta 0:00:01\r",
      "\u001b[K     |██████████████████████████      | 6.7 MB 1.9 MB/s eta 0:00:01\r",
      "\u001b[K     |██████████████████████████      | 6.7 MB 1.9 MB/s eta 0:00:01\r",
      "\u001b[K     |██████████████████████████      | 6.7 MB 1.9 MB/s eta 0:00:01\r",
      "\u001b[K     |██████████████████████████      | 6.7 MB 1.9 MB/s eta 0:00:01\r",
      "\u001b[K     |██████████████████████████▏     | 6.7 MB 1.9 MB/s eta 0:00:01\r",
      "\u001b[K     |██████████████████████████▏     | 6.7 MB 1.9 MB/s eta 0:00:01"
     ]
    },
    {
     "name": "stdout",
     "output_type": "stream",
     "text": [
      "\r",
      "\u001b[K     |██████████████████████████▏     | 6.7 MB 1.9 MB/s eta 0:00:01\r",
      "\u001b[K     |██████████████████████████▎     | 6.7 MB 1.9 MB/s eta 0:00:01\r",
      "\u001b[K     |██████████████████████████▎     | 6.7 MB 1.9 MB/s eta 0:00:01\r",
      "\u001b[K     |██████████████████████████▍     | 6.8 MB 1.9 MB/s eta 0:00:01\r",
      "\u001b[K     |██████████████████████████▍     | 6.8 MB 1.9 MB/s eta 0:00:01\r",
      "\u001b[K     |██████████████████████████▍     | 6.8 MB 1.9 MB/s eta 0:00:01\r",
      "\u001b[K     |██████████████████████████▌     | 6.8 MB 1.9 MB/s eta 0:00:01\r",
      "\u001b[K     |██████████████████████████▌     | 6.8 MB 1.9 MB/s eta 0:00:01\r",
      "\u001b[K     |██████████████████████████▌     | 6.8 MB 1.9 MB/s eta 0:00:01\r",
      "\u001b[K     |██████████████████████████▋     | 6.8 MB 1.9 MB/s eta 0:00:01\r",
      "\u001b[K     |██████████████████████████▋     | 6.8 MB 1.9 MB/s eta 0:00:01\r",
      "\u001b[K     |██████████████████████████▋     | 6.8 MB 1.9 MB/s eta 0:00:01\r",
      "\u001b[K     |██████████████████████████▊     | 6.9 MB 1.9 MB/s eta 0:00:01\r",
      "\u001b[K     |██████████████████████████▊     | 6.9 MB 1.9 MB/s eta 0:00:01"
     ]
    },
    {
     "name": "stdout",
     "output_type": "stream",
     "text": [
      "\r",
      "\u001b[K     |██████████████████████████▊     | 6.9 MB 1.9 MB/s eta 0:00:01\r",
      "\u001b[K     |██████████████████████████▉     | 6.9 MB 1.9 MB/s eta 0:00:01\r",
      "\u001b[K     |██████████████████████████▉     | 6.9 MB 1.9 MB/s eta 0:00:01\r",
      "\u001b[K     |███████████████████████████     | 6.9 MB 1.9 MB/s eta 0:00:01\r",
      "\u001b[K     |███████████████████████████     | 6.9 MB 1.9 MB/s eta 0:00:01\r",
      "\u001b[K     |███████████████████████████     | 6.9 MB 1.9 MB/s eta 0:00:01\r",
      "\u001b[K     |███████████████████████████     | 6.9 MB 1.9 MB/s eta 0:00:01\r",
      "\u001b[K     |███████████████████████████     | 6.9 MB 1.9 MB/s eta 0:00:01"
     ]
    },
    {
     "name": "stdout",
     "output_type": "stream",
     "text": [
      "\r",
      "\u001b[K     |███████████████████████████     | 7.0 MB 1.9 MB/s eta 0:00:01\r",
      "\u001b[K     |███████████████████████████▏    | 7.0 MB 1.9 MB/s eta 0:00:01\r",
      "\u001b[K     |███████████████████████████▏    | 7.0 MB 1.9 MB/s eta 0:00:01\r",
      "\u001b[K     |███████████████████████████▏    | 7.0 MB 1.9 MB/s eta 0:00:01\r",
      "\u001b[K     |███████████████████████████▎    | 7.0 MB 1.9 MB/s eta 0:00:01\r",
      "\u001b[K     |███████████████████████████▎    | 7.0 MB 1.9 MB/s eta 0:00:01"
     ]
    },
    {
     "name": "stdout",
     "output_type": "stream",
     "text": [
      "\r",
      "\u001b[K     |███████████████████████████▎    | 7.0 MB 1.9 MB/s eta 0:00:01\r",
      "\u001b[K     |███████████████████████████▍    | 7.0 MB 1.9 MB/s eta 0:00:01\r",
      "\u001b[K     |███████████████████████████▍    | 7.0 MB 1.9 MB/s eta 0:00:01\r",
      "\u001b[K     |███████████████████████████▌    | 7.0 MB 1.9 MB/s eta 0:00:01\r",
      "\u001b[K     |███████████████████████████▌    | 7.1 MB 1.9 MB/s eta 0:00:01\r",
      "\u001b[K     |███████████████████████████▌    | 7.1 MB 1.9 MB/s eta 0:00:01\r",
      "\u001b[K     |███████████████████████████▋    | 7.1 MB 1.9 MB/s eta 0:00:01\r",
      "\u001b[K     |███████████████████████████▋    | 7.1 MB 1.9 MB/s eta 0:00:01\r",
      "\u001b[K     |███████████████████████████▋    | 7.1 MB 1.9 MB/s eta 0:00:01\r",
      "\u001b[K     |███████████████████████████▊    | 7.1 MB 1.9 MB/s eta 0:00:01\r",
      "\u001b[K     |███████████████████████████▊    | 7.1 MB 1.9 MB/s eta 0:00:01\r",
      "\u001b[K     |███████████████████████████▊    | 7.1 MB 1.9 MB/s eta 0:00:01\r",
      "\u001b[K     |███████████████████████████▉    | 7.1 MB 1.9 MB/s eta 0:00:01\r",
      "\u001b[K     |███████████████████████████▉    | 7.1 MB 1.9 MB/s eta 0:00:01\r",
      "\u001b[K     |████████████████████████████    | 7.2 MB 1.9 MB/s eta 0:00:01\r",
      "\u001b[K     |████████████████████████████    | 7.2 MB 1.9 MB/s eta 0:00:01\r",
      "\u001b[K     |████████████████████████████    | 7.2 MB 1.9 MB/s eta 0:00:01\r",
      "\u001b[K     |████████████████████████████    | 7.2 MB 1.9 MB/s eta 0:00:01\r",
      "\u001b[K     |████████████████████████████    | 7.2 MB 1.9 MB/s eta 0:00:01"
     ]
    },
    {
     "name": "stdout",
     "output_type": "stream",
     "text": [
      "\r",
      "\u001b[K     |████████████████████████████    | 7.2 MB 1.9 MB/s eta 0:00:01\r",
      "\u001b[K     |████████████████████████████▏   | 7.2 MB 1.9 MB/s eta 0:00:01\r",
      "\u001b[K     |████████████████████████████▏   | 7.2 MB 1.9 MB/s eta 0:00:01\r",
      "\u001b[K     |████████████████████████████▏   | 7.2 MB 1.9 MB/s eta 0:00:01\r",
      "\u001b[K     |████████████████████████████▎   | 7.2 MB 1.9 MB/s eta 0:00:01\r",
      "\u001b[K     |████████████████████████████▎   | 7.3 MB 1.9 MB/s eta 0:00:01\r",
      "\u001b[K     |████████████████████████████▎   | 7.3 MB 1.9 MB/s eta 0:00:01\r",
      "\u001b[K     |████████████████████████████▍   | 7.3 MB 1.9 MB/s eta 0:00:01\r",
      "\u001b[K     |████████████████████████████▍   | 7.3 MB 1.9 MB/s eta 0:00:01\r",
      "\u001b[K     |████████████████████████████▌   | 7.3 MB 1.9 MB/s eta 0:00:01\r",
      "\u001b[K     |████████████████████████████▌   | 7.3 MB 1.9 MB/s eta 0:00:01\r",
      "\u001b[K     |████████████████████████████▌   | 7.3 MB 1.9 MB/s eta 0:00:01\r",
      "\u001b[K     |████████████████████████████▋   | 7.3 MB 1.9 MB/s eta 0:00:01\r",
      "\u001b[K     |████████████████████████████▋   | 7.3 MB 1.9 MB/s eta 0:00:01\r",
      "\u001b[K     |████████████████████████████▋   | 7.4 MB 1.9 MB/s eta 0:00:01\r",
      "\u001b[K     |████████████████████████████▊   | 7.4 MB 1.9 MB/s eta 0:00:01\r",
      "\u001b[K     |████████████████████████████▊   | 7.4 MB 1.9 MB/s eta 0:00:01\r",
      "\u001b[K     |████████████████████████████▊   | 7.4 MB 1.9 MB/s eta 0:00:01\r",
      "\u001b[K     |████████████████████████████▉   | 7.4 MB 1.9 MB/s eta 0:00:01\r",
      "\u001b[K     |████████████████████████████▉   | 7.4 MB 1.9 MB/s eta 0:00:01\r",
      "\u001b[K     |████████████████████████████▉   | 7.4 MB 1.9 MB/s eta 0:00:01\r",
      "\u001b[K     |█████████████████████████████   | 7.4 MB 1.9 MB/s eta 0:00:01\r",
      "\u001b[K     |█████████████████████████████   | 7.4 MB 1.9 MB/s eta 0:00:01\r",
      "\u001b[K     |█████████████████████████████   | 7.4 MB 1.9 MB/s eta 0:00:01\r",
      "\u001b[K     |█████████████████████████████   | 7.5 MB 1.9 MB/s eta 0:00:01\r",
      "\u001b[K     |█████████████████████████████   | 7.5 MB 1.9 MB/s eta 0:00:01"
     ]
    },
    {
     "name": "stdout",
     "output_type": "stream",
     "text": [
      "\r",
      "\u001b[K     |█████████████████████████████▏  | 7.5 MB 1.9 MB/s eta 0:00:01\r",
      "\u001b[K     |█████████████████████████████▏  | 7.5 MB 1.9 MB/s eta 0:00:01\r",
      "\u001b[K     |█████████████████████████████▏  | 7.5 MB 1.9 MB/s eta 0:00:01\r",
      "\u001b[K     |█████████████████████████████▎  | 7.5 MB 1.9 MB/s eta 0:00:01\r",
      "\u001b[K     |█████████████████████████████▎  | 7.5 MB 1.9 MB/s eta 0:00:01\r",
      "\u001b[K     |█████████████████████████████▎  | 7.5 MB 1.9 MB/s eta 0:00:01\r",
      "\u001b[K     |█████████████████████████████▍  | 7.5 MB 1.9 MB/s eta 0:00:01\r",
      "\u001b[K     |█████████████████████████████▍  | 7.5 MB 1.9 MB/s eta 0:00:01\r",
      "\u001b[K     |█████████████████████████████▌  | 7.6 MB 1.9 MB/s eta 0:00:01\r",
      "\u001b[K     |█████████████████████████████▌  | 7.6 MB 1.9 MB/s eta 0:00:01\r",
      "\u001b[K     |█████████████████████████████▌  | 7.6 MB 1.9 MB/s eta 0:00:01\r",
      "\u001b[K     |█████████████████████████████▋  | 7.6 MB 1.9 MB/s eta 0:00:01\r",
      "\u001b[K     |█████████████████████████████▋  | 7.6 MB 1.9 MB/s eta 0:00:01\r",
      "\u001b[K     |█████████████████████████████▋  | 7.6 MB 1.9 MB/s eta 0:00:01"
     ]
    },
    {
     "name": "stdout",
     "output_type": "stream",
     "text": [
      "\r",
      "\u001b[K     |█████████████████████████████▊  | 7.6 MB 1.9 MB/s eta 0:00:01\r",
      "\u001b[K     |█████████████████████████████▊  | 7.6 MB 1.9 MB/s eta 0:00:01\r",
      "\u001b[K     |█████████████████████████████▊  | 7.6 MB 1.9 MB/s eta 0:00:01\r",
      "\u001b[K     |█████████████████████████████▉  | 7.6 MB 1.9 MB/s eta 0:00:01\r",
      "\u001b[K     |█████████████████████████████▉  | 7.7 MB 1.9 MB/s eta 0:00:01\r",
      "\u001b[K     |█████████████████████████████▉  | 7.7 MB 1.9 MB/s eta 0:00:01\r",
      "\u001b[K     |██████████████████████████████  | 7.7 MB 1.9 MB/s eta 0:00:01"
     ]
    },
    {
     "name": "stdout",
     "output_type": "stream",
     "text": [
      "\r",
      "\u001b[K     |██████████████████████████████  | 7.7 MB 1.9 MB/s eta 0:00:01\r",
      "\u001b[K     |██████████████████████████████  | 7.7 MB 1.9 MB/s eta 0:00:01\r",
      "\u001b[K     |██████████████████████████████  | 7.7 MB 1.9 MB/s eta 0:00:01\r",
      "\u001b[K     |██████████████████████████████  | 7.7 MB 1.9 MB/s eta 0:00:01\r",
      "\u001b[K     |██████████████████████████████▏ | 7.7 MB 1.2 MB/s eta 0:00:01\r",
      "\u001b[K     |██████████████████████████████▏ | 7.7 MB 1.2 MB/s eta 0:00:01"
     ]
    },
    {
     "name": "stdout",
     "output_type": "stream",
     "text": [
      "\r",
      "\u001b[K     |██████████████████████████████▏ | 7.8 MB 1.2 MB/s eta 0:00:01\r",
      "\u001b[K     |██████████████████████████████▎ | 7.8 MB 1.2 MB/s eta 0:00:01\r",
      "\u001b[K     |██████████████████████████████▎ | 7.8 MB 1.2 MB/s eta 0:00:01\r",
      "\u001b[K     |██████████████████████████████▎ | 7.8 MB 1.2 MB/s eta 0:00:01\r",
      "\u001b[K     |██████████████████████████████▍ | 7.8 MB 1.2 MB/s eta 0:00:01\r",
      "\u001b[K     |██████████████████████████████▍ | 7.8 MB 1.2 MB/s eta 0:00:01\r",
      "\u001b[K     |██████████████████████████████▍ | 7.8 MB 1.2 MB/s eta 0:00:01\r",
      "\u001b[K     |██████████████████████████████▌ | 7.8 MB 1.2 MB/s eta 0:00:01\r",
      "\u001b[K     |██████████████████████████████▌ | 7.8 MB 1.2 MB/s eta 0:00:01\r",
      "\u001b[K     |██████████████████████████████▋ | 7.8 MB 1.2 MB/s eta 0:00:01\r",
      "\u001b[K     |██████████████████████████████▋ | 7.9 MB 1.2 MB/s eta 0:00:01\r",
      "\u001b[K     |██████████████████████████████▋ | 7.9 MB 1.2 MB/s eta 0:00:01\r",
      "\u001b[K     |██████████████████████████████▊ | 7.9 MB 1.2 MB/s eta 0:00:01\r",
      "\u001b[K     |██████████████████████████████▊ | 7.9 MB 1.2 MB/s eta 0:00:01"
     ]
    },
    {
     "name": "stdout",
     "output_type": "stream",
     "text": [
      "\r",
      "\u001b[K     |██████████████████████████████▊ | 7.9 MB 1.2 MB/s eta 0:00:01\r",
      "\u001b[K     |██████████████████████████████▉ | 7.9 MB 1.2 MB/s eta 0:00:01\r",
      "\u001b[K     |██████████████████████████████▉ | 7.9 MB 1.2 MB/s eta 0:00:01\r",
      "\u001b[K     |██████████████████████████████▉ | 7.9 MB 1.2 MB/s eta 0:00:01\r",
      "\u001b[K     |███████████████████████████████ | 7.9 MB 1.2 MB/s eta 0:00:01\r",
      "\u001b[K     |███████████████████████████████ | 7.9 MB 1.2 MB/s eta 0:00:01\r",
      "\u001b[K     |███████████████████████████████ | 8.0 MB 1.2 MB/s eta 0:00:01\r",
      "\u001b[K     |███████████████████████████████ | 8.0 MB 1.2 MB/s eta 0:00:01\r",
      "\u001b[K     |███████████████████████████████ | 8.0 MB 1.2 MB/s eta 0:00:01\r",
      "\u001b[K     |███████████████████████████████▏| 8.0 MB 1.2 MB/s eta 0:00:01\r",
      "\u001b[K     |███████████████████████████████▏| 8.0 MB 1.2 MB/s eta 0:00:01\r",
      "\u001b[K     |███████████████████████████████▏| 8.0 MB 1.2 MB/s eta 0:00:01\r",
      "\u001b[K     |███████████████████████████████▎| 8.0 MB 1.2 MB/s eta 0:00:01\r",
      "\u001b[K     |███████████████████████████████▎| 8.0 MB 1.2 MB/s eta 0:00:01\r",
      "\u001b[K     |███████████████████████████████▎| 8.0 MB 1.2 MB/s eta 0:00:01\r",
      "\u001b[K     |███████████████████████████████▍| 8.0 MB 1.2 MB/s eta 0:00:01\r",
      "\u001b[K     |███████████████████████████████▍| 8.1 MB 1.2 MB/s eta 0:00:01\r",
      "\u001b[K     |███████████████████████████████▍| 8.1 MB 1.2 MB/s eta 0:00:01\r",
      "\u001b[K     |███████████████████████████████▌| 8.1 MB 1.2 MB/s eta 0:00:01\r",
      "\u001b[K     |███████████████████████████████▌| 8.1 MB 1.2 MB/s eta 0:00:01\r",
      "\u001b[K     |███████████████████████████████▋| 8.1 MB 1.2 MB/s eta 0:00:01\r",
      "\u001b[K     |███████████████████████████████▋| 8.1 MB 1.2 MB/s eta 0:00:01\r",
      "\u001b[K     |███████████████████████████████▋| 8.1 MB 1.2 MB/s eta 0:00:01\r",
      "\u001b[K     |███████████████████████████████▊| 8.1 MB 1.2 MB/s eta 0:00:01\r",
      "\u001b[K     |███████████████████████████████▊| 8.1 MB 1.2 MB/s eta 0:00:01\r",
      "\u001b[K     |███████████████████████████████▊| 8.2 MB 1.2 MB/s eta 0:00:01\r",
      "\u001b[K     |███████████████████████████████▉| 8.2 MB 1.2 MB/s eta 0:00:01\r",
      "\u001b[K     |███████████████████████████████▉| 8.2 MB 1.2 MB/s eta 0:00:01\r",
      "\u001b[K     |███████████████████████████████▉| 8.2 MB 1.2 MB/s eta 0:00:01\r",
      "\u001b[K     |████████████████████████████████| 8.2 MB 1.2 MB/s eta 0:00:01\r",
      "\u001b[K     |████████████████████████████████| 8.2 MB 1.2 MB/s eta 0:00:01"
     ]
    },
    {
     "name": "stdout",
     "output_type": "stream",
     "text": [
      "\r",
      "\u001b[K     |████████████████████████████████| 8.2 MB 1.2 MB/s \r\n",
      "\u001b[?25hBuilding wheels for collected packages: docopt\r\n"
     ]
    },
    {
     "name": "stdout",
     "output_type": "stream",
     "text": [
      "  Building wheel for docopt (setup.py) ... \u001b[?25l-"
     ]
    },
    {
     "name": "stdout",
     "output_type": "stream",
     "text": [
      "\b \bdone\r\n",
      "\u001b[?25h  Created wheel for docopt: filename=docopt-0.6.2-py2.py3-none-any.whl size=13724 sha256=3a482c8f144ac8eedd1bd666a3a4ee96f1c7f177c9abcdc80260fea76d31955d\r\n",
      "  Stored in directory: /tmp/pip-ephem-wheel-cache-7z7u3gqk/wheels/56/ea/58/ead137b087d9e326852a851351d1debf4ada529b6ac0ec4e8c\r\n",
      "Successfully built docopt\r\n"
     ]
    },
    {
     "name": "stdout",
     "output_type": "stream",
     "text": [
      "Installing collected packages: pymorphy2-dicts-ru, docopt, dawg-python, pymorphy2\r\n"
     ]
    },
    {
     "name": "stdout",
     "output_type": "stream",
     "text": [
      "Successfully installed dawg-python-0.7.2 docopt-0.6.2 pymorphy2-0.9.1 pymorphy2-dicts-ru-2.4.417127.4579844\r\n",
      "\u001b[33mWARNING: Running pip as the 'root' user can result in broken permissions and conflicting behaviour with the system package manager. It is recommended to use a virtual environment instead: https://pip.pypa.io/warnings/venv\u001b[0m\r\n"
     ]
    },
    {
     "name": "stdout",
     "output_type": "stream",
     "text": [
      "Looking in indexes: https://pypi.org/simple, https://pypi.ngc.nvidia.com\r\n"
     ]
    },
    {
     "name": "stdout",
     "output_type": "stream",
     "text": [
      "Collecting pandas\r\n",
      "  Downloading pandas-1.3.5-cp38-cp38-manylinux_2_17_x86_64.manylinux2014_x86_64.whl (11.5 MB)\r\n",
      "\u001b[?25l\r",
      "\u001b[K     |                                | 10 kB 31.8 MB/s eta 0:00:01\r",
      "\u001b[K     |                                | 20 kB 35.5 MB/s eta 0:00:01\r",
      "\u001b[K     |                                | 30 kB 41.3 MB/s eta 0:00:01\r",
      "\u001b[K     |▏                               | 40 kB 18.9 MB/s eta 0:00:01\r",
      "\u001b[K     |▏                               | 51 kB 17.4 MB/s eta 0:00:01\r",
      "\u001b[K     |▏                               | 61 kB 18.8 MB/s eta 0:00:01\r",
      "\u001b[K     |▏                               | 71 kB 18.0 MB/s eta 0:00:01\r",
      "\u001b[K     |▎                               | 81 kB 19.9 MB/s eta 0:00:01\r",
      "\u001b[K     |▎                               | 92 kB 20.0 MB/s eta 0:00:01\r",
      "\u001b[K     |▎                               | 102 kB 19.4 MB/s eta 0:00:01\r",
      "\u001b[K     |▎                               | 112 kB 19.4 MB/s eta 0:00:01\r",
      "\u001b[K     |▍                               | 122 kB 19.4 MB/s eta 0:00:01\r",
      "\u001b[K     |▍                               | 133 kB 19.4 MB/s eta 0:00:01\r",
      "\u001b[K     |▍                               | 143 kB 19.4 MB/s eta 0:00:01\r",
      "\u001b[K     |▍                               | 153 kB 19.4 MB/s eta 0:00:01\r",
      "\u001b[K     |▌                               | 163 kB 19.4 MB/s eta 0:00:01\r",
      "\u001b[K     |▌                               | 174 kB 19.4 MB/s eta 0:00:01\r",
      "\u001b[K     |▌                               | 184 kB 19.4 MB/s eta 0:00:01\r",
      "\u001b[K     |▌                               | 194 kB 19.4 MB/s eta 0:00:01\r",
      "\u001b[K     |▋                               | 204 kB 19.4 MB/s eta 0:00:01\r",
      "\u001b[K     |▋                               | 215 kB 19.4 MB/s eta 0:00:01\r",
      "\u001b[K     |▋                               | 225 kB 19.4 MB/s eta 0:00:01\r",
      "\u001b[K     |▋                               | 235 kB 19.4 MB/s eta 0:00:01\r",
      "\u001b[K     |▊                               | 245 kB 19.4 MB/s eta 0:00:01\r",
      "\u001b[K     |▊                               | 256 kB 19.4 MB/s eta 0:00:01\r",
      "\u001b[K     |▊                               | 266 kB 19.4 MB/s eta 0:00:01\r",
      "\u001b[K     |▊                               | 276 kB 19.4 MB/s eta 0:00:01\r",
      "\u001b[K     |▉                               | 286 kB 19.4 MB/s eta 0:00:01"
     ]
    },
    {
     "name": "stdout",
     "output_type": "stream",
     "text": [
      "\r",
      "\u001b[K     |▉                               | 296 kB 19.4 MB/s eta 0:00:01\r",
      "\u001b[K     |▉                               | 307 kB 19.4 MB/s eta 0:00:01\r",
      "\u001b[K     |▉                               | 317 kB 19.4 MB/s eta 0:00:01\r",
      "\u001b[K     |█                               | 327 kB 19.4 MB/s eta 0:00:01\r",
      "\u001b[K     |█                               | 337 kB 19.4 MB/s eta 0:00:01\r",
      "\u001b[K     |█                               | 348 kB 19.4 MB/s eta 0:00:01\r",
      "\u001b[K     |█                               | 358 kB 19.4 MB/s eta 0:00:01\r",
      "\u001b[K     |█                               | 368 kB 19.4 MB/s eta 0:00:01\r",
      "\u001b[K     |█                               | 378 kB 19.4 MB/s eta 0:00:01\r",
      "\u001b[K     |█                               | 389 kB 19.4 MB/s eta 0:00:01\r",
      "\u001b[K     |█                               | 399 kB 19.4 MB/s eta 0:00:01\r",
      "\u001b[K     |█▏                              | 409 kB 19.4 MB/s eta 0:00:01\r",
      "\u001b[K     |█▏                              | 419 kB 19.4 MB/s eta 0:00:01"
     ]
    },
    {
     "name": "stdout",
     "output_type": "stream",
     "text": [
      "\r",
      "\u001b[K     |█▏                              | 430 kB 19.4 MB/s eta 0:00:01\r",
      "\u001b[K     |█▏                              | 440 kB 19.4 MB/s eta 0:00:01\r",
      "\u001b[K     |█▎                              | 450 kB 19.4 MB/s eta 0:00:01\r",
      "\u001b[K     |█▎                              | 460 kB 19.4 MB/s eta 0:00:01\r",
      "\u001b[K     |█▎                              | 471 kB 19.4 MB/s eta 0:00:01\r",
      "\u001b[K     |█▍                              | 481 kB 19.4 MB/s eta 0:00:01\r",
      "\u001b[K     |█▍                              | 491 kB 19.4 MB/s eta 0:00:01\r",
      "\u001b[K     |█▍                              | 501 kB 19.4 MB/s eta 0:00:01\r",
      "\u001b[K     |█▍                              | 512 kB 19.4 MB/s eta 0:00:01\r",
      "\u001b[K     |█▌                              | 522 kB 19.4 MB/s eta 0:00:01\r",
      "\u001b[K     |█▌                              | 532 kB 19.4 MB/s eta 0:00:01"
     ]
    },
    {
     "name": "stdout",
     "output_type": "stream",
     "text": [
      "\r",
      "\u001b[K     |█▌                              | 542 kB 19.4 MB/s eta 0:00:01\r",
      "\u001b[K     |█▌                              | 552 kB 19.4 MB/s eta 0:00:01\r",
      "\u001b[K     |█▋                              | 563 kB 19.4 MB/s eta 0:00:01\r",
      "\u001b[K     |█▋                              | 573 kB 19.4 MB/s eta 0:00:01\r",
      "\u001b[K     |█▋                              | 583 kB 19.4 MB/s eta 0:00:01\r",
      "\u001b[K     |█▋                              | 593 kB 19.4 MB/s eta 0:00:01\r",
      "\u001b[K     |█▊                              | 604 kB 19.4 MB/s eta 0:00:01"
     ]
    },
    {
     "name": "stdout",
     "output_type": "stream",
     "text": [
      "\r",
      "\u001b[K     |█▊                              | 614 kB 19.4 MB/s eta 0:00:01\r",
      "\u001b[K     |█▊                              | 624 kB 19.4 MB/s eta 0:00:01\r",
      "\u001b[K     |█▊                              | 634 kB 19.4 MB/s eta 0:00:01"
     ]
    },
    {
     "name": "stdout",
     "output_type": "stream",
     "text": [
      "\r",
      "\u001b[K     |█▉                              | 645 kB 19.4 MB/s eta 0:00:01\r",
      "\u001b[K     |█▉                              | 655 kB 19.4 MB/s eta 0:00:01\r",
      "\u001b[K     |█▉                              | 665 kB 19.4 MB/s eta 0:00:01\r",
      "\u001b[K     |█▉                              | 675 kB 19.4 MB/s eta 0:00:01\r",
      "\u001b[K     |██                              | 686 kB 19.4 MB/s eta 0:00:01\r",
      "\u001b[K     |██                              | 696 kB 19.4 MB/s eta 0:00:01\r",
      "\u001b[K     |██                              | 706 kB 19.4 MB/s eta 0:00:01\r",
      "\u001b[K     |██                              | 716 kB 19.4 MB/s eta 0:00:01\r",
      "\u001b[K     |██                              | 727 kB 19.4 MB/s eta 0:00:01\r",
      "\u001b[K     |██                              | 737 kB 19.4 MB/s eta 0:00:01\r",
      "\u001b[K     |██                              | 747 kB 19.4 MB/s eta 0:00:01\r",
      "\u001b[K     |██                              | 757 kB 19.4 MB/s eta 0:00:01\r",
      "\u001b[K     |██▏                             | 768 kB 19.4 MB/s eta 0:00:01\r",
      "\u001b[K     |██▏                             | 778 kB 19.4 MB/s eta 0:00:01\r",
      "\u001b[K     |██▏                             | 788 kB 19.4 MB/s eta 0:00:01\r",
      "\u001b[K     |██▏                             | 798 kB 19.4 MB/s eta 0:00:01\r",
      "\u001b[K     |██▎                             | 808 kB 19.4 MB/s eta 0:00:01\r",
      "\u001b[K     |██▎                             | 819 kB 19.4 MB/s eta 0:00:01\r",
      "\u001b[K     |██▎                             | 829 kB 19.4 MB/s eta 0:00:01"
     ]
    },
    {
     "name": "stdout",
     "output_type": "stream",
     "text": [
      "\r",
      "\u001b[K     |██▎                             | 839 kB 19.4 MB/s eta 0:00:01\r",
      "\u001b[K     |██▍                             | 849 kB 19.4 MB/s eta 0:00:01\r",
      "\u001b[K     |██▍                             | 860 kB 19.4 MB/s eta 0:00:01\r",
      "\u001b[K     |██▍                             | 870 kB 19.4 MB/s eta 0:00:01\r",
      "\u001b[K     |██▍                             | 880 kB 19.4 MB/s eta 0:00:01\r",
      "\u001b[K     |██▌                             | 890 kB 19.4 MB/s eta 0:00:01\r",
      "\u001b[K     |██▌                             | 901 kB 19.4 MB/s eta 0:00:01\r",
      "\u001b[K     |██▌                             | 911 kB 19.4 MB/s eta 0:00:01\r",
      "\u001b[K     |██▋                             | 921 kB 19.4 MB/s eta 0:00:01\r",
      "\u001b[K     |██▋                             | 931 kB 19.4 MB/s eta 0:00:01\r",
      "\u001b[K     |██▋                             | 942 kB 19.4 MB/s eta 0:00:01\r",
      "\u001b[K     |██▋                             | 952 kB 19.4 MB/s eta 0:00:01\r",
      "\u001b[K     |██▊                             | 962 kB 19.4 MB/s eta 0:00:01\r",
      "\u001b[K     |██▊                             | 972 kB 19.4 MB/s eta 0:00:01\r",
      "\u001b[K     |██▊                             | 983 kB 19.4 MB/s eta 0:00:01\r",
      "\u001b[K     |██▊                             | 993 kB 19.4 MB/s eta 0:00:01\r",
      "\u001b[K     |██▉                             | 1.0 MB 19.4 MB/s eta 0:00:01\r",
      "\u001b[K     |██▉                             | 1.0 MB 19.4 MB/s eta 0:00:01"
     ]
    },
    {
     "name": "stdout",
     "output_type": "stream",
     "text": [
      "\r",
      "\u001b[K     |██▉                             | 1.0 MB 19.4 MB/s eta 0:00:01"
     ]
    },
    {
     "name": "stdout",
     "output_type": "stream",
     "text": [
      "\r",
      "\u001b[K     |██▉                             | 1.0 MB 19.4 MB/s eta 0:00:01\r",
      "\u001b[K     |███                             | 1.0 MB 19.4 MB/s eta 0:00:01\r",
      "\u001b[K     |███                             | 1.1 MB 19.4 MB/s eta 0:00:01\r",
      "\u001b[K     |███                             | 1.1 MB 19.4 MB/s eta 0:00:01\r",
      "\u001b[K     |███                             | 1.1 MB 19.4 MB/s eta 0:00:01"
     ]
    },
    {
     "name": "stdout",
     "output_type": "stream",
     "text": [
      "\r",
      "\u001b[K     |███                             | 1.1 MB 19.4 MB/s eta 0:00:01\r",
      "\u001b[K     |███                             | 1.1 MB 19.4 MB/s eta 0:00:01\r",
      "\u001b[K     |███                             | 1.1 MB 19.4 MB/s eta 0:00:01"
     ]
    },
    {
     "name": "stdout",
     "output_type": "stream",
     "text": [
      "\r",
      "\u001b[K     |███                             | 1.1 MB 19.4 MB/s eta 0:00:01\r",
      "\u001b[K     |███▏                            | 1.1 MB 19.4 MB/s eta 0:00:01\r",
      "\u001b[K     |███▏                            | 1.1 MB 19.4 MB/s eta 0:00:01\r",
      "\u001b[K     |███▏                            | 1.1 MB 19.4 MB/s eta 0:00:01"
     ]
    },
    {
     "name": "stdout",
     "output_type": "stream",
     "text": [
      "\r",
      "\u001b[K     |███▏                            | 1.2 MB 19.4 MB/s eta 0:00:01\r",
      "\u001b[K     |███▎                            | 1.2 MB 19.4 MB/s eta 0:00:01\r",
      "\u001b[K     |███▎                            | 1.2 MB 19.4 MB/s eta 0:00:01\r",
      "\u001b[K     |███▎                            | 1.2 MB 19.4 MB/s eta 0:00:01\r",
      "\u001b[K     |███▎                            | 1.2 MB 19.4 MB/s eta 0:00:01\r",
      "\u001b[K     |███▍                            | 1.2 MB 19.4 MB/s eta 0:00:01\r",
      "\u001b[K     |███▍                            | 1.2 MB 19.4 MB/s eta 0:00:01\r",
      "\u001b[K     |███▍                            | 1.2 MB 19.4 MB/s eta 0:00:01\r",
      "\u001b[K     |███▍                            | 1.2 MB 19.4 MB/s eta 0:00:01\r",
      "\u001b[K     |███▌                            | 1.2 MB 19.4 MB/s eta 0:00:01\r",
      "\u001b[K     |███▌                            | 1.3 MB 19.4 MB/s eta 0:00:01\r",
      "\u001b[K     |███▌                            | 1.3 MB 19.4 MB/s eta 0:00:01\r",
      "\u001b[K     |███▌                            | 1.3 MB 19.4 MB/s eta 0:00:01\r",
      "\u001b[K     |███▋                            | 1.3 MB 19.4 MB/s eta 0:00:01\r",
      "\u001b[K     |███▋                            | 1.3 MB 19.4 MB/s eta 0:00:01\r",
      "\u001b[K     |███▋                            | 1.3 MB 19.4 MB/s eta 0:00:01\r",
      "\u001b[K     |███▋                            | 1.3 MB 19.4 MB/s eta 0:00:01"
     ]
    },
    {
     "name": "stdout",
     "output_type": "stream",
     "text": [
      "\r",
      "\u001b[K     |███▊                            | 1.3 MB 19.4 MB/s eta 0:00:01\r",
      "\u001b[K     |███▊                            | 1.3 MB 19.4 MB/s eta 0:00:01\r",
      "\u001b[K     |███▊                            | 1.4 MB 19.4 MB/s eta 0:00:01\r",
      "\u001b[K     |███▉                            | 1.4 MB 19.4 MB/s eta 0:00:01\r",
      "\u001b[K     |███▉                            | 1.4 MB 19.4 MB/s eta 0:00:01\r",
      "\u001b[K     |███▉                            | 1.4 MB 19.4 MB/s eta 0:00:01\r",
      "\u001b[K     |███▉                            | 1.4 MB 19.4 MB/s eta 0:00:01\r",
      "\u001b[K     |████                            | 1.4 MB 19.4 MB/s eta 0:00:01\r",
      "\u001b[K     |████                            | 1.4 MB 19.4 MB/s eta 0:00:01\r",
      "\u001b[K     |████                            | 1.4 MB 19.4 MB/s eta 0:00:01\r",
      "\u001b[K     |████                            | 1.4 MB 19.4 MB/s eta 0:00:01\r",
      "\u001b[K     |████                            | 1.4 MB 19.4 MB/s eta 0:00:01\r",
      "\u001b[K     |████                            | 1.5 MB 19.4 MB/s eta 0:00:01\r",
      "\u001b[K     |████                            | 1.5 MB 19.4 MB/s eta 0:00:01\r",
      "\u001b[K     |████                            | 1.5 MB 19.4 MB/s eta 0:00:01\r",
      "\u001b[K     |████▏                           | 1.5 MB 19.4 MB/s eta 0:00:01\r",
      "\u001b[K     |████▏                           | 1.5 MB 19.4 MB/s eta 0:00:01\r",
      "\u001b[K     |████▏                           | 1.5 MB 19.4 MB/s eta 0:00:01\r",
      "\u001b[K     |████▏                           | 1.5 MB 19.4 MB/s eta 0:00:01\r",
      "\u001b[K     |████▎                           | 1.5 MB 19.4 MB/s eta 0:00:01\r",
      "\u001b[K     |████▎                           | 1.5 MB 19.4 MB/s eta 0:00:01\r",
      "\u001b[K     |████▎                           | 1.5 MB 19.4 MB/s eta 0:00:01\r",
      "\u001b[K     |████▎                           | 1.6 MB 19.4 MB/s eta 0:00:01\r",
      "\u001b[K     |████▍                           | 1.6 MB 19.4 MB/s eta 0:00:01\r",
      "\u001b[K     |████▍                           | 1.6 MB 19.4 MB/s eta 0:00:01\r",
      "\u001b[K     |████▍                           | 1.6 MB 19.4 MB/s eta 0:00:01\r",
      "\u001b[K     |████▍                           | 1.6 MB 19.4 MB/s eta 0:00:01\r",
      "\u001b[K     |████▌                           | 1.6 MB 19.4 MB/s eta 0:00:01\r",
      "\u001b[K     |████▌                           | 1.6 MB 19.4 MB/s eta 0:00:01\r",
      "\u001b[K     |████▌                           | 1.6 MB 19.4 MB/s eta 0:00:01\r",
      "\u001b[K     |████▌                           | 1.6 MB 19.4 MB/s eta 0:00:01\r",
      "\u001b[K     |████▋                           | 1.6 MB 19.4 MB/s eta 0:00:01\r",
      "\u001b[K     |████▋                           | 1.7 MB 19.4 MB/s eta 0:00:01\r",
      "\u001b[K     |████▋                           | 1.7 MB 19.4 MB/s eta 0:00:01\r",
      "\u001b[K     |████▋                           | 1.7 MB 19.4 MB/s eta 0:00:01\r",
      "\u001b[K     |████▊                           | 1.7 MB 19.4 MB/s eta 0:00:01\r",
      "\u001b[K     |████▊                           | 1.7 MB 19.4 MB/s eta 0:00:01\r",
      "\u001b[K     |████▊                           | 1.7 MB 19.4 MB/s eta 0:00:01\r",
      "\u001b[K     |████▊                           | 1.7 MB 19.4 MB/s eta 0:00:01\r",
      "\u001b[K     |████▉                           | 1.7 MB 19.4 MB/s eta 0:00:01\r",
      "\u001b[K     |████▉                           | 1.7 MB 19.4 MB/s eta 0:00:01\r",
      "\u001b[K     |████▉                           | 1.8 MB 19.4 MB/s eta 0:00:01\r",
      "\u001b[K     |████▉                           | 1.8 MB 19.4 MB/s eta 0:00:01\r",
      "\u001b[K     |█████                           | 1.8 MB 19.4 MB/s eta 0:00:01\r",
      "\u001b[K     |█████                           | 1.8 MB 19.4 MB/s eta 0:00:01\r",
      "\u001b[K     |█████                           | 1.8 MB 19.4 MB/s eta 0:00:01\r",
      "\u001b[K     |█████                           | 1.8 MB 19.4 MB/s eta 0:00:01\r",
      "\u001b[K     |█████                           | 1.8 MB 19.4 MB/s eta 0:00:01\r",
      "\u001b[K     |█████                           | 1.8 MB 19.4 MB/s eta 0:00:01\r",
      "\u001b[K     |█████                           | 1.8 MB 19.4 MB/s eta 0:00:01\r",
      "\u001b[K     |█████▏                          | 1.8 MB 19.4 MB/s eta 0:00:01\r",
      "\u001b[K     |█████▏                          | 1.9 MB 19.4 MB/s eta 0:00:01\r",
      "\u001b[K     |█████▏                          | 1.9 MB 19.4 MB/s eta 0:00:01\r",
      "\u001b[K     |█████▏                          | 1.9 MB 19.4 MB/s eta 0:00:01\r",
      "\u001b[K     |█████▎                          | 1.9 MB 19.4 MB/s eta 0:00:01\r",
      "\u001b[K     |█████▎                          | 1.9 MB 19.4 MB/s eta 0:00:01\r",
      "\u001b[K     |█████▎                          | 1.9 MB 19.4 MB/s eta 0:00:01\r",
      "\u001b[K     |█████▎                          | 1.9 MB 19.4 MB/s eta 0:00:01\r",
      "\u001b[K     |█████▍                          | 1.9 MB 19.4 MB/s eta 0:00:01\r",
      "\u001b[K     |█████▍                          | 1.9 MB 19.4 MB/s eta 0:00:01\r",
      "\u001b[K     |█████▍                          | 1.9 MB 19.4 MB/s eta 0:00:01"
     ]
    },
    {
     "name": "stdout",
     "output_type": "stream",
     "text": [
      "\r",
      "\u001b[K     |█████▍                          | 2.0 MB 19.4 MB/s eta 0:00:01\r",
      "\u001b[K     |█████▌                          | 2.0 MB 19.4 MB/s eta 0:00:01\r",
      "\u001b[K     |█████▌                          | 2.0 MB 19.4 MB/s eta 0:00:01\r",
      "\u001b[K     |█████▌                          | 2.0 MB 19.4 MB/s eta 0:00:01\r",
      "\u001b[K     |█████▌                          | 2.0 MB 19.4 MB/s eta 0:00:01\r",
      "\u001b[K     |█████▋                          | 2.0 MB 19.4 MB/s eta 0:00:01\r",
      "\u001b[K     |█████▋                          | 2.0 MB 19.4 MB/s eta 0:00:01\r",
      "\u001b[K     |█████▋                          | 2.0 MB 19.4 MB/s eta 0:00:01\r",
      "\u001b[K     |█████▋                          | 2.0 MB 19.4 MB/s eta 0:00:01\r",
      "\u001b[K     |█████▊                          | 2.0 MB 19.4 MB/s eta 0:00:01\r",
      "\u001b[K     |█████▊                          | 2.1 MB 19.4 MB/s eta 0:00:01\r",
      "\u001b[K     |█████▊                          | 2.1 MB 19.4 MB/s eta 0:00:01\r",
      "\u001b[K     |█████▊                          | 2.1 MB 19.4 MB/s eta 0:00:01\r",
      "\u001b[K     |█████▉                          | 2.1 MB 19.4 MB/s eta 0:00:01\r",
      "\u001b[K     |█████▉                          | 2.1 MB 19.4 MB/s eta 0:00:01\r",
      "\u001b[K     |█████▉                          | 2.1 MB 19.4 MB/s eta 0:00:01\r",
      "\u001b[K     |█████▉                          | 2.1 MB 19.4 MB/s eta 0:00:01\r",
      "\u001b[K     |██████                          | 2.1 MB 19.4 MB/s eta 0:00:01\r",
      "\u001b[K     |██████                          | 2.1 MB 19.4 MB/s eta 0:00:01\r",
      "\u001b[K     |██████                          | 2.2 MB 19.4 MB/s eta 0:00:01\r",
      "\u001b[K     |██████                          | 2.2 MB 19.4 MB/s eta 0:00:01\r",
      "\u001b[K     |██████                          | 2.2 MB 19.4 MB/s eta 0:00:01\r",
      "\u001b[K     |██████                          | 2.2 MB 19.4 MB/s eta 0:00:01\r",
      "\u001b[K     |██████                          | 2.2 MB 19.4 MB/s eta 0:00:01\r",
      "\u001b[K     |██████                          | 2.2 MB 19.4 MB/s eta 0:00:01\r",
      "\u001b[K     |██████▏                         | 2.2 MB 19.4 MB/s eta 0:00:01\r",
      "\u001b[K     |██████▏                         | 2.2 MB 19.4 MB/s eta 0:00:01\r",
      "\u001b[K     |██████▏                         | 2.2 MB 19.4 MB/s eta 0:00:01\r",
      "\u001b[K     |██████▏                         | 2.2 MB 19.4 MB/s eta 0:00:01\r",
      "\u001b[K     |██████▎                         | 2.3 MB 19.4 MB/s eta 0:00:01\r",
      "\u001b[K     |██████▎                         | 2.3 MB 19.4 MB/s eta 0:00:01\r",
      "\u001b[K     |██████▎                         | 2.3 MB 19.4 MB/s eta 0:00:01"
     ]
    },
    {
     "name": "stdout",
     "output_type": "stream",
     "text": [
      "\r",
      "\u001b[K     |██████▍                         | 2.3 MB 19.4 MB/s eta 0:00:01\r",
      "\u001b[K     |██████▍                         | 2.3 MB 19.4 MB/s eta 0:00:01\r",
      "\u001b[K     |██████▍                         | 2.3 MB 19.4 MB/s eta 0:00:01\r",
      "\u001b[K     |██████▍                         | 2.3 MB 19.4 MB/s eta 0:00:01\r",
      "\u001b[K     |██████▌                         | 2.3 MB 19.4 MB/s eta 0:00:01\r",
      "\u001b[K     |██████▌                         | 2.3 MB 19.4 MB/s eta 0:00:01\r",
      "\u001b[K     |██████▌                         | 2.3 MB 19.4 MB/s eta 0:00:01\r",
      "\u001b[K     |██████▌                         | 2.4 MB 19.4 MB/s eta 0:00:01\r",
      "\u001b[K     |██████▋                         | 2.4 MB 19.4 MB/s eta 0:00:01\r",
      "\u001b[K     |██████▋                         | 2.4 MB 19.4 MB/s eta 0:00:01\r",
      "\u001b[K     |██████▋                         | 2.4 MB 19.4 MB/s eta 0:00:01\r",
      "\u001b[K     |██████▋                         | 2.4 MB 19.4 MB/s eta 0:00:01\r",
      "\u001b[K     |██████▊                         | 2.4 MB 19.4 MB/s eta 0:00:01\r",
      "\u001b[K     |██████▊                         | 2.4 MB 19.4 MB/s eta 0:00:01\r",
      "\u001b[K     |██████▊                         | 2.4 MB 19.4 MB/s eta 0:00:01\r",
      "\u001b[K     |██████▊                         | 2.4 MB 19.4 MB/s eta 0:00:01\r",
      "\u001b[K     |██████▉                         | 2.4 MB 19.4 MB/s eta 0:00:01\r",
      "\u001b[K     |██████▉                         | 2.5 MB 19.4 MB/s eta 0:00:01\r",
      "\u001b[K     |██████▉                         | 2.5 MB 19.4 MB/s eta 0:00:01\r",
      "\u001b[K     |██████▉                         | 2.5 MB 19.4 MB/s eta 0:00:01\r",
      "\u001b[K     |███████                         | 2.5 MB 19.4 MB/s eta 0:00:01\r",
      "\u001b[K     |███████                         | 2.5 MB 19.4 MB/s eta 0:00:01\r",
      "\u001b[K     |███████                         | 2.5 MB 19.4 MB/s eta 0:00:01\r",
      "\u001b[K     |███████                         | 2.5 MB 19.4 MB/s eta 0:00:01"
     ]
    },
    {
     "name": "stdout",
     "output_type": "stream",
     "text": [
      "\r",
      "\u001b[K     |███████                         | 2.5 MB 19.4 MB/s eta 0:00:01\r",
      "\u001b[K     |███████                         | 2.5 MB 19.4 MB/s eta 0:00:01\r",
      "\u001b[K     |███████                         | 2.5 MB 19.4 MB/s eta 0:00:01\r",
      "\u001b[K     |███████                         | 2.6 MB 19.4 MB/s eta 0:00:01\r",
      "\u001b[K     |███████▏                        | 2.6 MB 19.4 MB/s eta 0:00:01\r",
      "\u001b[K     |███████▏                        | 2.6 MB 19.4 MB/s eta 0:00:01\r",
      "\u001b[K     |███████▏                        | 2.6 MB 19.4 MB/s eta 0:00:01\r",
      "\u001b[K     |███████▏                        | 2.6 MB 19.4 MB/s eta 0:00:01"
     ]
    },
    {
     "name": "stdout",
     "output_type": "stream",
     "text": [
      "\r",
      "\u001b[K     |███████▎                        | 2.6 MB 19.4 MB/s eta 0:00:01\r",
      "\u001b[K     |███████▎                        | 2.6 MB 19.4 MB/s eta 0:00:01\r",
      "\u001b[K     |███████▎                        | 2.6 MB 19.4 MB/s eta 0:00:01\r",
      "\u001b[K     |███████▎                        | 2.6 MB 19.4 MB/s eta 0:00:01\r",
      "\u001b[K     |███████▍                        | 2.7 MB 19.4 MB/s eta 0:00:01\r",
      "\u001b[K     |███████▍                        | 2.7 MB 19.4 MB/s eta 0:00:01\r",
      "\u001b[K     |███████▍                        | 2.7 MB 19.4 MB/s eta 0:00:01\r",
      "\u001b[K     |███████▍                        | 2.7 MB 19.4 MB/s eta 0:00:01\r",
      "\u001b[K     |███████▌                        | 2.7 MB 19.4 MB/s eta 0:00:01\r",
      "\u001b[K     |███████▌                        | 2.7 MB 19.4 MB/s eta 0:00:01\r",
      "\u001b[K     |███████▌                        | 2.7 MB 19.4 MB/s eta 0:00:01\r",
      "\u001b[K     |███████▋                        | 2.7 MB 19.4 MB/s eta 0:00:01"
     ]
    },
    {
     "name": "stdout",
     "output_type": "stream",
     "text": [
      "\r",
      "\u001b[K     |███████▋                        | 2.7 MB 19.4 MB/s eta 0:00:01\r",
      "\u001b[K     |███████▋                        | 2.7 MB 19.4 MB/s eta 0:00:01\r",
      "\u001b[K     |███████▋                        | 2.8 MB 19.4 MB/s eta 0:00:01\r",
      "\u001b[K     |███████▊                        | 2.8 MB 19.4 MB/s eta 0:00:01"
     ]
    },
    {
     "name": "stdout",
     "output_type": "stream",
     "text": [
      "\r",
      "\u001b[K     |███████▊                        | 2.8 MB 19.4 MB/s eta 0:00:01\r",
      "\u001b[K     |███████▊                        | 2.8 MB 19.4 MB/s eta 0:00:01\r",
      "\u001b[K     |███████▊                        | 2.8 MB 19.4 MB/s eta 0:00:01"
     ]
    },
    {
     "name": "stdout",
     "output_type": "stream",
     "text": [
      "\r",
      "\u001b[K     |███████▉                        | 2.8 MB 680 kB/s eta 0:00:13\r",
      "\u001b[K     |███████▉                        | 2.8 MB 680 kB/s eta 0:00:13"
     ]
    },
    {
     "name": "stdout",
     "output_type": "stream",
     "text": [
      "\r",
      "\u001b[K     |███████▉                        | 2.8 MB 680 kB/s eta 0:00:13"
     ]
    },
    {
     "name": "stdout",
     "output_type": "stream",
     "text": [
      "\r",
      "\u001b[K     |███████▉                        | 2.8 MB 680 kB/s eta 0:00:13\r",
      "\u001b[K     |████████                        | 2.8 MB 680 kB/s eta 0:00:13\r",
      "\u001b[K     |████████                        | 2.9 MB 680 kB/s eta 0:00:13\r",
      "\u001b[K     |████████                        | 2.9 MB 680 kB/s eta 0:00:13"
     ]
    },
    {
     "name": "stdout",
     "output_type": "stream",
     "text": [
      "\r",
      "\u001b[K     |████████                        | 2.9 MB 680 kB/s eta 0:00:13\r",
      "\u001b[K     |████████                        | 2.9 MB 680 kB/s eta 0:00:13\r",
      "\u001b[K     |████████                        | 2.9 MB 680 kB/s eta 0:00:13"
     ]
    },
    {
     "name": "stdout",
     "output_type": "stream",
     "text": [
      "\r",
      "\u001b[K     |████████                        | 2.9 MB 680 kB/s eta 0:00:13\r",
      "\u001b[K     |████████                        | 2.9 MB 680 kB/s eta 0:00:13\r",
      "\u001b[K     |████████▏                       | 2.9 MB 680 kB/s eta 0:00:13\r",
      "\u001b[K     |████████▏                       | 2.9 MB 680 kB/s eta 0:00:13\r",
      "\u001b[K     |████████▏                       | 2.9 MB 680 kB/s eta 0:00:13\r",
      "\u001b[K     |████████▏                       | 3.0 MB 680 kB/s eta 0:00:13\r",
      "\u001b[K     |████████▎                       | 3.0 MB 680 kB/s eta 0:00:13\r",
      "\u001b[K     |████████▎                       | 3.0 MB 680 kB/s eta 0:00:13\r",
      "\u001b[K     |████████▎                       | 3.0 MB 680 kB/s eta 0:00:13"
     ]
    },
    {
     "name": "stdout",
     "output_type": "stream",
     "text": [
      "\r",
      "\u001b[K     |████████▎                       | 3.0 MB 680 kB/s eta 0:00:13\r",
      "\u001b[K     |████████▍                       | 3.0 MB 680 kB/s eta 0:00:13\r",
      "\u001b[K     |████████▍                       | 3.0 MB 680 kB/s eta 0:00:13\r",
      "\u001b[K     |████████▍                       | 3.0 MB 680 kB/s eta 0:00:13"
     ]
    },
    {
     "name": "stdout",
     "output_type": "stream",
     "text": [
      "\r",
      "\u001b[K     |████████▍                       | 3.0 MB 680 kB/s eta 0:00:13\r",
      "\u001b[K     |████████▌                       | 3.1 MB 680 kB/s eta 0:00:13\r",
      "\u001b[K     |████████▌                       | 3.1 MB 680 kB/s eta 0:00:13\r",
      "\u001b[K     |████████▌                       | 3.1 MB 680 kB/s eta 0:00:13\r",
      "\u001b[K     |████████▌                       | 3.1 MB 680 kB/s eta 0:00:13\r",
      "\u001b[K     |████████▋                       | 3.1 MB 680 kB/s eta 0:00:13\r",
      "\u001b[K     |████████▋                       | 3.1 MB 680 kB/s eta 0:00:13\r",
      "\u001b[K     |████████▋                       | 3.1 MB 680 kB/s eta 0:00:13\r",
      "\u001b[K     |████████▋                       | 3.1 MB 680 kB/s eta 0:00:13\r",
      "\u001b[K     |████████▊                       | 3.1 MB 680 kB/s eta 0:00:13\r",
      "\u001b[K     |████████▊                       | 3.1 MB 680 kB/s eta 0:00:13\r",
      "\u001b[K     |████████▊                       | 3.2 MB 680 kB/s eta 0:00:13\r",
      "\u001b[K     |████████▉                       | 3.2 MB 680 kB/s eta 0:00:13\r",
      "\u001b[K     |████████▉                       | 3.2 MB 680 kB/s eta 0:00:13\r",
      "\u001b[K     |████████▉                       | 3.2 MB 680 kB/s eta 0:00:13\r",
      "\u001b[K     |████████▉                       | 3.2 MB 680 kB/s eta 0:00:13"
     ]
    },
    {
     "name": "stdout",
     "output_type": "stream",
     "text": [
      "\r",
      "\u001b[K     |█████████                       | 3.2 MB 680 kB/s eta 0:00:13\r",
      "\u001b[K     |█████████                       | 3.2 MB 680 kB/s eta 0:00:13\r",
      "\u001b[K     |█████████                       | 3.2 MB 680 kB/s eta 0:00:13\r",
      "\u001b[K     |█████████                       | 3.2 MB 680 kB/s eta 0:00:13\r",
      "\u001b[K     |█████████                       | 3.2 MB 680 kB/s eta 0:00:13\r",
      "\u001b[K     |█████████                       | 3.3 MB 680 kB/s eta 0:00:13\r",
      "\u001b[K     |█████████                       | 3.3 MB 680 kB/s eta 0:00:13\r",
      "\u001b[K     |█████████                       | 3.3 MB 680 kB/s eta 0:00:13\r",
      "\u001b[K     |█████████▏                      | 3.3 MB 680 kB/s eta 0:00:13\r",
      "\u001b[K     |█████████▏                      | 3.3 MB 680 kB/s eta 0:00:13\r",
      "\u001b[K     |█████████▏                      | 3.3 MB 680 kB/s eta 0:00:13\r",
      "\u001b[K     |█████████▏                      | 3.3 MB 680 kB/s eta 0:00:13\r",
      "\u001b[K     |█████████▎                      | 3.3 MB 680 kB/s eta 0:00:13\r",
      "\u001b[K     |█████████▎                      | 3.3 MB 680 kB/s eta 0:00:13\r",
      "\u001b[K     |█████████▎                      | 3.3 MB 680 kB/s eta 0:00:13\r",
      "\u001b[K     |█████████▎                      | 3.4 MB 680 kB/s eta 0:00:13\r",
      "\u001b[K     |█████████▍                      | 3.4 MB 680 kB/s eta 0:00:12\r",
      "\u001b[K     |█████████▍                      | 3.4 MB 680 kB/s eta 0:00:12\r",
      "\u001b[K     |█████████▍                      | 3.4 MB 680 kB/s eta 0:00:12\r",
      "\u001b[K     |█████████▍                      | 3.4 MB 680 kB/s eta 0:00:12\r",
      "\u001b[K     |█████████▌                      | 3.4 MB 680 kB/s eta 0:00:12\r",
      "\u001b[K     |█████████▌                      | 3.4 MB 680 kB/s eta 0:00:12\r",
      "\u001b[K     |█████████▌                      | 3.4 MB 680 kB/s eta 0:00:12\r",
      "\u001b[K     |█████████▌                      | 3.4 MB 680 kB/s eta 0:00:12\r",
      "\u001b[K     |█████████▋                      | 3.5 MB 680 kB/s eta 0:00:12\r",
      "\u001b[K     |█████████▋                      | 3.5 MB 680 kB/s eta 0:00:12\r",
      "\u001b[K     |█████████▋                      | 3.5 MB 680 kB/s eta 0:00:12\r",
      "\u001b[K     |█████████▋                      | 3.5 MB 680 kB/s eta 0:00:12\r",
      "\u001b[K     |█████████▊                      | 3.5 MB 680 kB/s eta 0:00:12\r",
      "\u001b[K     |█████████▊                      | 3.5 MB 680 kB/s eta 0:00:12\r",
      "\u001b[K     |█████████▊                      | 3.5 MB 680 kB/s eta 0:00:12\r",
      "\u001b[K     |█████████▊                      | 3.5 MB 680 kB/s eta 0:00:12\r",
      "\u001b[K     |█████████▉                      | 3.5 MB 680 kB/s eta 0:00:12\r",
      "\u001b[K     |█████████▉                      | 3.5 MB 680 kB/s eta 0:00:12\r",
      "\u001b[K     |█████████▉                      | 3.6 MB 680 kB/s eta 0:00:12\r",
      "\u001b[K     |█████████▉                      | 3.6 MB 680 kB/s eta 0:00:12\r",
      "\u001b[K     |██████████                      | 3.6 MB 680 kB/s eta 0:00:12\r",
      "\u001b[K     |██████████                      | 3.6 MB 680 kB/s eta 0:00:12\r",
      "\u001b[K     |██████████                      | 3.6 MB 680 kB/s eta 0:00:12\r",
      "\u001b[K     |██████████                      | 3.6 MB 680 kB/s eta 0:00:12\r",
      "\u001b[K     |██████████                      | 3.6 MB 680 kB/s eta 0:00:12\r",
      "\u001b[K     |██████████                      | 3.6 MB 680 kB/s eta 0:00:12\r",
      "\u001b[K     |██████████                      | 3.6 MB 680 kB/s eta 0:00:12\r",
      "\u001b[K     |██████████▏                     | 3.6 MB 680 kB/s eta 0:00:12\r",
      "\u001b[K     |██████████▏                     | 3.7 MB 680 kB/s eta 0:00:12\r",
      "\u001b[K     |██████████▏                     | 3.7 MB 680 kB/s eta 0:00:12\r",
      "\u001b[K     |██████████▏                     | 3.7 MB 680 kB/s eta 0:00:12\r",
      "\u001b[K     |██████████▎                     | 3.7 MB 680 kB/s eta 0:00:12\r",
      "\u001b[K     |██████████▎                     | 3.7 MB 680 kB/s eta 0:00:12\r",
      "\u001b[K     |██████████▎                     | 3.7 MB 680 kB/s eta 0:00:12\r",
      "\u001b[K     |██████████▎                     | 3.7 MB 680 kB/s eta 0:00:12\r",
      "\u001b[K     |██████████▍                     | 3.7 MB 680 kB/s eta 0:00:12\r",
      "\u001b[K     |██████████▍                     | 3.7 MB 680 kB/s eta 0:00:12\r",
      "\u001b[K     |██████████▍                     | 3.7 MB 680 kB/s eta 0:00:12\r",
      "\u001b[K     |██████████▍                     | 3.8 MB 680 kB/s eta 0:00:12\r",
      "\u001b[K     |██████████▌                     | 3.8 MB 680 kB/s eta 0:00:12\r",
      "\u001b[K     |██████████▌                     | 3.8 MB 680 kB/s eta 0:00:12\r",
      "\u001b[K     |██████████▌                     | 3.8 MB 680 kB/s eta 0:00:12\r",
      "\u001b[K     |██████████▌                     | 3.8 MB 680 kB/s eta 0:00:12\r",
      "\u001b[K     |██████████▋                     | 3.8 MB 680 kB/s eta 0:00:12\r",
      "\u001b[K     |██████████▋                     | 3.8 MB 680 kB/s eta 0:00:12\r",
      "\u001b[K     |██████████▋                     | 3.8 MB 680 kB/s eta 0:00:12\r",
      "\u001b[K     |██████████▋                     | 3.8 MB 680 kB/s eta 0:00:12\r",
      "\u001b[K     |██████████▊                     | 3.9 MB 680 kB/s eta 0:00:12\r",
      "\u001b[K     |██████████▊                     | 3.9 MB 680 kB/s eta 0:00:12\r",
      "\u001b[K     |██████████▊                     | 3.9 MB 680 kB/s eta 0:00:12\r",
      "\u001b[K     |██████████▊                     | 3.9 MB 680 kB/s eta 0:00:12\r",
      "\u001b[K     |██████████▉                     | 3.9 MB 680 kB/s eta 0:00:12\r",
      "\u001b[K     |██████████▉                     | 3.9 MB 680 kB/s eta 0:00:12\r",
      "\u001b[K     |██████████▉                     | 3.9 MB 680 kB/s eta 0:00:12\r",
      "\u001b[K     |██████████▉                     | 3.9 MB 680 kB/s eta 0:00:12\r",
      "\u001b[K     |███████████                     | 3.9 MB 680 kB/s eta 0:00:12\r",
      "\u001b[K     |███████████                     | 3.9 MB 680 kB/s eta 0:00:12\r",
      "\u001b[K     |███████████                     | 4.0 MB 680 kB/s eta 0:00:12\r",
      "\u001b[K     |███████████                     | 4.0 MB 680 kB/s eta 0:00:12\r",
      "\u001b[K     |███████████                     | 4.0 MB 680 kB/s eta 0:00:12\r",
      "\u001b[K     |███████████                     | 4.0 MB 680 kB/s eta 0:00:12\r",
      "\u001b[K     |███████████                     | 4.0 MB 680 kB/s eta 0:00:12\r",
      "\u001b[K     |███████████                     | 4.0 MB 680 kB/s eta 0:00:12\r",
      "\u001b[K     |███████████▏                    | 4.0 MB 680 kB/s eta 0:00:12\r",
      "\u001b[K     |███████████▏                    | 4.0 MB 680 kB/s eta 0:00:12\r",
      "\u001b[K     |███████████▏                    | 4.0 MB 680 kB/s eta 0:00:12\r",
      "\u001b[K     |███████████▎                    | 4.0 MB 680 kB/s eta 0:00:12\r",
      "\u001b[K     |███████████▎                    | 4.1 MB 680 kB/s eta 0:00:11\r",
      "\u001b[K     |███████████▎                    | 4.1 MB 680 kB/s eta 0:00:11\r",
      "\u001b[K     |███████████▎                    | 4.1 MB 680 kB/s eta 0:00:11\r",
      "\u001b[K     |███████████▍                    | 4.1 MB 680 kB/s eta 0:00:11\r",
      "\u001b[K     |███████████▍                    | 4.1 MB 680 kB/s eta 0:00:11\r",
      "\u001b[K     |███████████▍                    | 4.1 MB 680 kB/s eta 0:00:11\r",
      "\u001b[K     |███████████▍                    | 4.1 MB 680 kB/s eta 0:00:11\r",
      "\u001b[K     |███████████▌                    | 4.1 MB 680 kB/s eta 0:00:11\r",
      "\u001b[K     |███████████▌                    | 4.1 MB 680 kB/s eta 0:00:11"
     ]
    },
    {
     "name": "stdout",
     "output_type": "stream",
     "text": [
      "\r",
      "\u001b[K     |███████████▌                    | 4.1 MB 680 kB/s eta 0:00:11\r",
      "\u001b[K     |███████████▌                    | 4.2 MB 680 kB/s eta 0:00:11\r",
      "\u001b[K     |███████████▋                    | 4.2 MB 680 kB/s eta 0:00:11\r",
      "\u001b[K     |███████████▋                    | 4.2 MB 680 kB/s eta 0:00:11\r",
      "\u001b[K     |███████████▋                    | 4.2 MB 680 kB/s eta 0:00:11\r",
      "\u001b[K     |███████████▋                    | 4.2 MB 680 kB/s eta 0:00:11\r",
      "\u001b[K     |███████████▊                    | 4.2 MB 680 kB/s eta 0:00:11\r",
      "\u001b[K     |███████████▊                    | 4.2 MB 680 kB/s eta 0:00:11\r",
      "\u001b[K     |███████████▊                    | 4.2 MB 680 kB/s eta 0:00:11\r",
      "\u001b[K     |███████████▊                    | 4.2 MB 680 kB/s eta 0:00:11\r",
      "\u001b[K     |███████████▉                    | 4.2 MB 680 kB/s eta 0:00:11\r",
      "\u001b[K     |███████████▉                    | 4.3 MB 680 kB/s eta 0:00:11\r",
      "\u001b[K     |███████████▉                    | 4.3 MB 680 kB/s eta 0:00:11\r",
      "\u001b[K     |███████████▉                    | 4.3 MB 680 kB/s eta 0:00:11\r",
      "\u001b[K     |████████████                    | 4.3 MB 680 kB/s eta 0:00:11\r",
      "\u001b[K     |████████████                    | 4.3 MB 680 kB/s eta 0:00:11\r",
      "\u001b[K     |████████████                    | 4.3 MB 680 kB/s eta 0:00:11\r",
      "\u001b[K     |████████████                    | 4.3 MB 680 kB/s eta 0:00:11\r",
      "\u001b[K     |████████████                    | 4.3 MB 680 kB/s eta 0:00:11\r",
      "\u001b[K     |████████████                    | 4.3 MB 680 kB/s eta 0:00:11\r",
      "\u001b[K     |████████████                    | 4.4 MB 680 kB/s eta 0:00:11\r",
      "\u001b[K     |████████████                    | 4.4 MB 680 kB/s eta 0:00:11\r",
      "\u001b[K     |████████████▏                   | 4.4 MB 680 kB/s eta 0:00:11\r",
      "\u001b[K     |████████████▏                   | 4.4 MB 680 kB/s eta 0:00:11\r",
      "\u001b[K     |████████████▏                   | 4.4 MB 680 kB/s eta 0:00:11\r",
      "\u001b[K     |████████████▏                   | 4.4 MB 680 kB/s eta 0:00:11\r",
      "\u001b[K     |████████████▎                   | 4.4 MB 680 kB/s eta 0:00:11\r",
      "\u001b[K     |████████████▎                   | 4.4 MB 680 kB/s eta 0:00:11\r",
      "\u001b[K     |████████████▎                   | 4.4 MB 680 kB/s eta 0:00:11\r",
      "\u001b[K     |████████████▎                   | 4.4 MB 680 kB/s eta 0:00:11\r",
      "\u001b[K     |████████████▍                   | 4.5 MB 680 kB/s eta 0:00:11\r",
      "\u001b[K     |████████████▍                   | 4.5 MB 680 kB/s eta 0:00:11\r",
      "\u001b[K     |████████████▍                   | 4.5 MB 680 kB/s eta 0:00:11\r",
      "\u001b[K     |████████████▍                   | 4.5 MB 680 kB/s eta 0:00:11\r",
      "\u001b[K     |████████████▌                   | 4.5 MB 680 kB/s eta 0:00:11\r",
      "\u001b[K     |████████████▌                   | 4.5 MB 680 kB/s eta 0:00:11"
     ]
    },
    {
     "name": "stdout",
     "output_type": "stream",
     "text": [
      "\r",
      "\u001b[K     |████████████▌                   | 4.5 MB 680 kB/s eta 0:00:11\r",
      "\u001b[K     |████████████▋                   | 4.5 MB 680 kB/s eta 0:00:11\r",
      "\u001b[K     |████████████▋                   | 4.5 MB 680 kB/s eta 0:00:11\r",
      "\u001b[K     |████████████▋                   | 4.5 MB 680 kB/s eta 0:00:11\r",
      "\u001b[K     |████████████▋                   | 4.6 MB 680 kB/s eta 0:00:11\r",
      "\u001b[K     |████████████▊                   | 4.6 MB 680 kB/s eta 0:00:11\r",
      "\u001b[K     |████████████▊                   | 4.6 MB 680 kB/s eta 0:00:11\r",
      "\u001b[K     |████████████▊                   | 4.6 MB 680 kB/s eta 0:00:11\r",
      "\u001b[K     |████████████▊                   | 4.6 MB 680 kB/s eta 0:00:11\r",
      "\u001b[K     |████████████▉                   | 4.6 MB 680 kB/s eta 0:00:11\r",
      "\u001b[K     |████████████▉                   | 4.6 MB 680 kB/s eta 0:00:11\r",
      "\u001b[K     |████████████▉                   | 4.6 MB 680 kB/s eta 0:00:11\r",
      "\u001b[K     |████████████▉                   | 4.6 MB 680 kB/s eta 0:00:11\r",
      "\u001b[K     |█████████████                   | 4.6 MB 680 kB/s eta 0:00:11\r",
      "\u001b[K     |█████████████                   | 4.7 MB 680 kB/s eta 0:00:11\r",
      "\u001b[K     |█████████████                   | 4.7 MB 680 kB/s eta 0:00:11\r",
      "\u001b[K     |█████████████                   | 4.7 MB 680 kB/s eta 0:00:11\r",
      "\u001b[K     |█████████████                   | 4.7 MB 680 kB/s eta 0:00:11\r",
      "\u001b[K     |█████████████                   | 4.7 MB 680 kB/s eta 0:00:11\r",
      "\u001b[K     |█████████████                   | 4.7 MB 680 kB/s eta 0:00:11\r",
      "\u001b[K     |█████████████                   | 4.7 MB 680 kB/s eta 0:00:11\r",
      "\u001b[K     |█████████████▏                  | 4.7 MB 680 kB/s eta 0:00:10\r",
      "\u001b[K     |█████████████▏                  | 4.7 MB 680 kB/s eta 0:00:10\r",
      "\u001b[K     |█████████████▏                  | 4.8 MB 680 kB/s eta 0:00:10"
     ]
    },
    {
     "name": "stdout",
     "output_type": "stream",
     "text": [
      "\r",
      "\u001b[K     |█████████████▏                  | 4.8 MB 680 kB/s eta 0:00:10\r",
      "\u001b[K     |█████████████▎                  | 4.8 MB 680 kB/s eta 0:00:10\r",
      "\u001b[K     |█████████████▎                  | 4.8 MB 680 kB/s eta 0:00:10\r",
      "\u001b[K     |█████████████▎                  | 4.8 MB 680 kB/s eta 0:00:10\r",
      "\u001b[K     |█████████████▎                  | 4.8 MB 680 kB/s eta 0:00:10\r",
      "\u001b[K     |█████████████▍                  | 4.8 MB 680 kB/s eta 0:00:10\r",
      "\u001b[K     |█████████████▍                  | 4.8 MB 680 kB/s eta 0:00:10\r",
      "\u001b[K     |█████████████▍                  | 4.8 MB 680 kB/s eta 0:00:10\r",
      "\u001b[K     |█████████████▍                  | 4.8 MB 680 kB/s eta 0:00:10\r",
      "\u001b[K     |█████████████▌                  | 4.9 MB 680 kB/s eta 0:00:10\r",
      "\u001b[K     |█████████████▌                  | 4.9 MB 680 kB/s eta 0:00:10\r",
      "\u001b[K     |█████████████▌                  | 4.9 MB 680 kB/s eta 0:00:10\r",
      "\u001b[K     |█████████████▌                  | 4.9 MB 680 kB/s eta 0:00:10\r",
      "\u001b[K     |█████████████▋                  | 4.9 MB 680 kB/s eta 0:00:10\r",
      "\u001b[K     |█████████████▋                  | 4.9 MB 680 kB/s eta 0:00:10\r",
      "\u001b[K     |█████████████▋                  | 4.9 MB 680 kB/s eta 0:00:10\r",
      "\u001b[K     |█████████████▋                  | 4.9 MB 680 kB/s eta 0:00:10\r",
      "\u001b[K     |█████████████▊                  | 4.9 MB 680 kB/s eta 0:00:10\r",
      "\u001b[K     |█████████████▊                  | 4.9 MB 680 kB/s eta 0:00:10\r",
      "\u001b[K     |█████████████▊                  | 5.0 MB 680 kB/s eta 0:00:10\r",
      "\u001b[K     |█████████████▉                  | 5.0 MB 680 kB/s eta 0:00:10\r",
      "\u001b[K     |█████████████▉                  | 5.0 MB 680 kB/s eta 0:00:10\r",
      "\u001b[K     |█████████████▉                  | 5.0 MB 680 kB/s eta 0:00:10\r",
      "\u001b[K     |█████████████▉                  | 5.0 MB 680 kB/s eta 0:00:10\r",
      "\u001b[K     |██████████████                  | 5.0 MB 680 kB/s eta 0:00:10\r",
      "\u001b[K     |██████████████                  | 5.0 MB 680 kB/s eta 0:00:10\r",
      "\u001b[K     |██████████████                  | 5.0 MB 680 kB/s eta 0:00:10\r",
      "\u001b[K     |██████████████                  | 5.0 MB 680 kB/s eta 0:00:10\r",
      "\u001b[K     |██████████████                  | 5.0 MB 680 kB/s eta 0:00:10\r",
      "\u001b[K     |██████████████                  | 5.1 MB 680 kB/s eta 0:00:10\r",
      "\u001b[K     |██████████████                  | 5.1 MB 680 kB/s eta 0:00:10\r",
      "\u001b[K     |██████████████                  | 5.1 MB 680 kB/s eta 0:00:10\r",
      "\u001b[K     |██████████████▏                 | 5.1 MB 680 kB/s eta 0:00:10\r",
      "\u001b[K     |██████████████▏                 | 5.1 MB 680 kB/s eta 0:00:10\r",
      "\u001b[K     |██████████████▏                 | 5.1 MB 680 kB/s eta 0:00:10\r",
      "\u001b[K     |██████████████▏                 | 5.1 MB 680 kB/s eta 0:00:10\r",
      "\u001b[K     |██████████████▎                 | 5.1 MB 680 kB/s eta 0:00:10\r",
      "\u001b[K     |██████████████▎                 | 5.1 MB 680 kB/s eta 0:00:10\r",
      "\u001b[K     |██████████████▎                 | 5.2 MB 680 kB/s eta 0:00:10\r",
      "\u001b[K     |██████████████▎                 | 5.2 MB 680 kB/s eta 0:00:10\r",
      "\u001b[K     |██████████████▍                 | 5.2 MB 680 kB/s eta 0:00:10\r",
      "\u001b[K     |██████████████▍                 | 5.2 MB 680 kB/s eta 0:00:10\r",
      "\u001b[K     |██████████████▍                 | 5.2 MB 680 kB/s eta 0:00:10\r",
      "\u001b[K     |██████████████▍                 | 5.2 MB 680 kB/s eta 0:00:10\r",
      "\u001b[K     |██████████████▌                 | 5.2 MB 680 kB/s eta 0:00:10\r",
      "\u001b[K     |██████████████▌                 | 5.2 MB 680 kB/s eta 0:00:10\r",
      "\u001b[K     |██████████████▌                 | 5.2 MB 680 kB/s eta 0:00:10\r",
      "\u001b[K     |██████████████▌                 | 5.2 MB 680 kB/s eta 0:00:10\r",
      "\u001b[K     |██████████████▋                 | 5.3 MB 680 kB/s eta 0:00:10\r",
      "\u001b[K     |██████████████▋                 | 5.3 MB 680 kB/s eta 0:00:10\r",
      "\u001b[K     |██████████████▋                 | 5.3 MB 680 kB/s eta 0:00:10\r",
      "\u001b[K     |██████████████▋                 | 5.3 MB 680 kB/s eta 0:00:10\r",
      "\u001b[K     |██████████████▊                 | 5.3 MB 680 kB/s eta 0:00:10\r",
      "\u001b[K     |██████████████▊                 | 5.3 MB 680 kB/s eta 0:00:10\r",
      "\u001b[K     |██████████████▊                 | 5.3 MB 680 kB/s eta 0:00:10\r",
      "\u001b[K     |██████████████▊                 | 5.3 MB 680 kB/s eta 0:00:10\r",
      "\u001b[K     |██████████████▉                 | 5.3 MB 680 kB/s eta 0:00:10\r",
      "\u001b[K     |██████████████▉                 | 5.3 MB 680 kB/s eta 0:00:10\r",
      "\u001b[K     |██████████████▉                 | 5.4 MB 680 kB/s eta 0:00:10\r",
      "\u001b[K     |██████████████▉                 | 5.4 MB 680 kB/s eta 0:00:10\r",
      "\u001b[K     |███████████████                 | 5.4 MB 680 kB/s eta 0:00:10\r",
      "\u001b[K     |███████████████                 | 5.4 MB 680 kB/s eta 0:00:10\r",
      "\u001b[K     |███████████████                 | 5.4 MB 680 kB/s eta 0:00:10\r",
      "\u001b[K     |███████████████                 | 5.4 MB 680 kB/s eta 0:00:10\r",
      "\u001b[K     |███████████████                 | 5.4 MB 680 kB/s eta 0:00:09\r",
      "\u001b[K     |███████████████                 | 5.4 MB 680 kB/s eta 0:00:09\r",
      "\u001b[K     |███████████████                 | 5.4 MB 680 kB/s eta 0:00:09\r",
      "\u001b[K     |███████████████▏                | 5.4 MB 680 kB/s eta 0:00:09\r",
      "\u001b[K     |███████████████▏                | 5.5 MB 680 kB/s eta 0:00:09\r",
      "\u001b[K     |███████████████▏                | 5.5 MB 680 kB/s eta 0:00:09\r",
      "\u001b[K     |███████████████▏                | 5.5 MB 680 kB/s eta 0:00:09\r",
      "\u001b[K     |███████████████▎                | 5.5 MB 680 kB/s eta 0:00:09\r",
      "\u001b[K     |███████████████▎                | 5.5 MB 680 kB/s eta 0:00:09\r",
      "\u001b[K     |███████████████▎                | 5.5 MB 680 kB/s eta 0:00:09\r",
      "\u001b[K     |███████████████▎                | 5.5 MB 680 kB/s eta 0:00:09\r",
      "\u001b[K     |███████████████▍                | 5.5 MB 680 kB/s eta 0:00:09\r",
      "\u001b[K     |███████████████▍                | 5.5 MB 680 kB/s eta 0:00:09"
     ]
    },
    {
     "name": "stdout",
     "output_type": "stream",
     "text": [
      "\r",
      "\u001b[K     |███████████████▍                | 5.6 MB 680 kB/s eta 0:00:09\r",
      "\u001b[K     |███████████████▍                | 5.6 MB 680 kB/s eta 0:00:09\r",
      "\u001b[K     |███████████████▌                | 5.6 MB 680 kB/s eta 0:00:09\r",
      "\u001b[K     |███████████████▌                | 5.6 MB 680 kB/s eta 0:00:09\r",
      "\u001b[K     |███████████████▌                | 5.6 MB 680 kB/s eta 0:00:09\r",
      "\u001b[K     |███████████████▌                | 5.6 MB 680 kB/s eta 0:00:09\r",
      "\u001b[K     |███████████████▋                | 5.6 MB 680 kB/s eta 0:00:09\r",
      "\u001b[K     |███████████████▋                | 5.6 MB 680 kB/s eta 0:00:09\r",
      "\u001b[K     |███████████████▋                | 5.6 MB 680 kB/s eta 0:00:09\r",
      "\u001b[K     |███████████████▋                | 5.6 MB 680 kB/s eta 0:00:09\r",
      "\u001b[K     |███████████████▊                | 5.7 MB 680 kB/s eta 0:00:09\r",
      "\u001b[K     |███████████████▊                | 5.7 MB 680 kB/s eta 0:00:09\r",
      "\u001b[K     |███████████████▊                | 5.7 MB 680 kB/s eta 0:00:09\r",
      "\u001b[K     |███████████████▊                | 5.7 MB 680 kB/s eta 0:00:09\r",
      "\u001b[K     |███████████████▉                | 5.7 MB 680 kB/s eta 0:00:09\r",
      "\u001b[K     |███████████████▉                | 5.7 MB 680 kB/s eta 0:00:09\r",
      "\u001b[K     |███████████████▉                | 5.7 MB 680 kB/s eta 0:00:09\r",
      "\u001b[K     |███████████████▉                | 5.7 MB 680 kB/s eta 0:00:09\r",
      "\u001b[K     |████████████████                | 5.7 MB 680 kB/s eta 0:00:09\r",
      "\u001b[K     |████████████████                | 5.7 MB 680 kB/s eta 0:00:09\r",
      "\u001b[K     |████████████████                | 5.8 MB 680 kB/s eta 0:00:09\r",
      "\u001b[K     |████████████████                | 5.8 MB 680 kB/s eta 0:00:09\r",
      "\u001b[K     |████████████████                | 5.8 MB 680 kB/s eta 0:00:09\r",
      "\u001b[K     |████████████████                | 5.8 MB 680 kB/s eta 0:00:09\r",
      "\u001b[K     |████████████████                | 5.8 MB 680 kB/s eta 0:00:09\r",
      "\u001b[K     |████████████████                | 5.8 MB 680 kB/s eta 0:00:09\r",
      "\u001b[K     |████████████████▏               | 5.8 MB 680 kB/s eta 0:00:09\r",
      "\u001b[K     |████████████████▏               | 5.8 MB 680 kB/s eta 0:00:09\r",
      "\u001b[K     |████████████████▏               | 5.8 MB 680 kB/s eta 0:00:09\r",
      "\u001b[K     |████████████████▎               | 5.8 MB 680 kB/s eta 0:00:09\r",
      "\u001b[K     |████████████████▎               | 5.9 MB 680 kB/s eta 0:00:09\r",
      "\u001b[K     |████████████████▎               | 5.9 MB 680 kB/s eta 0:00:09\r",
      "\u001b[K     |████████████████▎               | 5.9 MB 680 kB/s eta 0:00:09\r",
      "\u001b[K     |████████████████▍               | 5.9 MB 680 kB/s eta 0:00:09\r",
      "\u001b[K     |████████████████▍               | 5.9 MB 680 kB/s eta 0:00:09\r",
      "\u001b[K     |████████████████▍               | 5.9 MB 680 kB/s eta 0:00:09\r",
      "\u001b[K     |████████████████▍               | 5.9 MB 680 kB/s eta 0:00:09\r",
      "\u001b[K     |████████████████▌               | 5.9 MB 680 kB/s eta 0:00:09\r",
      "\u001b[K     |████████████████▌               | 5.9 MB 680 kB/s eta 0:00:09\r",
      "\u001b[K     |████████████████▌               | 5.9 MB 680 kB/s eta 0:00:09\r",
      "\u001b[K     |████████████████▌               | 6.0 MB 680 kB/s eta 0:00:09"
     ]
    },
    {
     "name": "stdout",
     "output_type": "stream",
     "text": [
      "\r",
      "\u001b[K     |████████████████▋               | 6.0 MB 680 kB/s eta 0:00:09\r",
      "\u001b[K     |████████████████▋               | 6.0 MB 680 kB/s eta 0:00:09\r",
      "\u001b[K     |████████████████▋               | 6.0 MB 680 kB/s eta 0:00:09\r",
      "\u001b[K     |████████████████▋               | 6.0 MB 680 kB/s eta 0:00:09\r",
      "\u001b[K     |████████████████▊               | 6.0 MB 680 kB/s eta 0:00:09\r",
      "\u001b[K     |████████████████▊               | 6.0 MB 680 kB/s eta 0:00:09\r",
      "\u001b[K     |████████████████▊               | 6.0 MB 680 kB/s eta 0:00:09\r",
      "\u001b[K     |████████████████▊               | 6.0 MB 680 kB/s eta 0:00:09"
     ]
    },
    {
     "name": "stdout",
     "output_type": "stream",
     "text": [
      "\r",
      "\u001b[K     |████████████████▉               | 6.1 MB 680 kB/s eta 0:00:09\r",
      "\u001b[K     |████████████████▉               | 6.1 MB 680 kB/s eta 0:00:09\r",
      "\u001b[K     |████████████████▉               | 6.1 MB 680 kB/s eta 0:00:09\r",
      "\u001b[K     |████████████████▉               | 6.1 MB 680 kB/s eta 0:00:09\r",
      "\u001b[K     |█████████████████               | 6.1 MB 680 kB/s eta 0:00:08\r",
      "\u001b[K     |█████████████████               | 6.1 MB 680 kB/s eta 0:00:08\r",
      "\u001b[K     |█████████████████               | 6.1 MB 680 kB/s eta 0:00:08\r",
      "\u001b[K     |█████████████████               | 6.1 MB 680 kB/s eta 0:00:08\r",
      "\u001b[K     |█████████████████               | 6.1 MB 680 kB/s eta 0:00:08\r",
      "\u001b[K     |█████████████████               | 6.1 MB 680 kB/s eta 0:00:08\r",
      "\u001b[K     |█████████████████               | 6.2 MB 680 kB/s eta 0:00:08\r",
      "\u001b[K     |█████████████████               | 6.2 MB 680 kB/s eta 0:00:08\r",
      "\u001b[K     |█████████████████▏              | 6.2 MB 680 kB/s eta 0:00:08\r",
      "\u001b[K     |█████████████████▏              | 6.2 MB 680 kB/s eta 0:00:08"
     ]
    },
    {
     "name": "stdout",
     "output_type": "stream",
     "text": [
      "\r",
      "\u001b[K     |█████████████████▏              | 6.2 MB 680 kB/s eta 0:00:08\r",
      "\u001b[K     |█████████████████▏              | 6.2 MB 680 kB/s eta 0:00:08\r",
      "\u001b[K     |█████████████████▎              | 6.2 MB 680 kB/s eta 0:00:08\r",
      "\u001b[K     |█████████████████▎              | 6.2 MB 680 kB/s eta 0:00:08\r",
      "\u001b[K     |█████████████████▎              | 6.2 MB 680 kB/s eta 0:00:08\r",
      "\u001b[K     |█████████████████▎              | 6.2 MB 680 kB/s eta 0:00:08\r",
      "\u001b[K     |█████████████████▍              | 6.3 MB 680 kB/s eta 0:00:08\r",
      "\u001b[K     |█████████████████▍              | 6.3 MB 680 kB/s eta 0:00:08\r",
      "\u001b[K     |█████████████████▍              | 6.3 MB 680 kB/s eta 0:00:08\r",
      "\u001b[K     |█████████████████▍              | 6.3 MB 680 kB/s eta 0:00:08"
     ]
    },
    {
     "name": "stdout",
     "output_type": "stream",
     "text": [
      "\r",
      "\u001b[K     |█████████████████▌              | 6.3 MB 680 kB/s eta 0:00:08\r",
      "\u001b[K     |█████████████████▌              | 6.3 MB 680 kB/s eta 0:00:08\r",
      "\u001b[K     |█████████████████▌              | 6.3 MB 680 kB/s eta 0:00:08\r",
      "\u001b[K     |█████████████████▋              | 6.3 MB 680 kB/s eta 0:00:08\r",
      "\u001b[K     |█████████████████▋              | 6.3 MB 680 kB/s eta 0:00:08\r",
      "\u001b[K     |█████████████████▋              | 6.3 MB 680 kB/s eta 0:00:08\r",
      "\u001b[K     |█████████████████▋              | 6.4 MB 680 kB/s eta 0:00:08\r",
      "\u001b[K     |█████████████████▊              | 6.4 MB 680 kB/s eta 0:00:08\r",
      "\u001b[K     |█████████████████▊              | 6.4 MB 680 kB/s eta 0:00:08\r",
      "\u001b[K     |█████████████████▊              | 6.4 MB 680 kB/s eta 0:00:08\r",
      "\u001b[K     |█████████████████▊              | 6.4 MB 680 kB/s eta 0:00:08\r",
      "\u001b[K     |█████████████████▉              | 6.4 MB 680 kB/s eta 0:00:08\r",
      "\u001b[K     |█████████████████▉              | 6.4 MB 680 kB/s eta 0:00:08\r",
      "\u001b[K     |█████████████████▉              | 6.4 MB 680 kB/s eta 0:00:08"
     ]
    },
    {
     "name": "stdout",
     "output_type": "stream",
     "text": [
      "\r",
      "\u001b[K     |█████████████████▉              | 6.4 MB 680 kB/s eta 0:00:08\r",
      "\u001b[K     |██████████████████              | 6.5 MB 680 kB/s eta 0:00:08\r",
      "\u001b[K     |██████████████████              | 6.5 MB 680 kB/s eta 0:00:08\r",
      "\u001b[K     |██████████████████              | 6.5 MB 680 kB/s eta 0:00:08\r",
      "\u001b[K     |██████████████████              | 6.5 MB 680 kB/s eta 0:00:08\r",
      "\u001b[K     |██████████████████              | 6.5 MB 680 kB/s eta 0:00:08\r",
      "\u001b[K     |██████████████████              | 6.5 MB 680 kB/s eta 0:00:08\r",
      "\u001b[K     |██████████████████              | 6.5 MB 680 kB/s eta 0:00:08"
     ]
    },
    {
     "name": "stdout",
     "output_type": "stream",
     "text": [
      "\r",
      "\u001b[K     |██████████████████              | 6.5 MB 680 kB/s eta 0:00:08\r",
      "\u001b[K     |██████████████████▏             | 6.5 MB 680 kB/s eta 0:00:08"
     ]
    },
    {
     "name": "stdout",
     "output_type": "stream",
     "text": [
      "\r",
      "\u001b[K     |██████████████████▏             | 6.5 MB 680 kB/s eta 0:00:08\r",
      "\u001b[K     |██████████████████▏             | 6.6 MB 680 kB/s eta 0:00:08\r",
      "\u001b[K     |██████████████████▏             | 6.6 MB 680 kB/s eta 0:00:08"
     ]
    },
    {
     "name": "stdout",
     "output_type": "stream",
     "text": [
      "\r",
      "\u001b[K     |██████████████████▎             | 6.6 MB 680 kB/s eta 0:00:08\r",
      "\u001b[K     |██████████████████▎             | 6.6 MB 680 kB/s eta 0:00:08\r",
      "\u001b[K     |██████████████████▎             | 6.6 MB 680 kB/s eta 0:00:08"
     ]
    },
    {
     "name": "stdout",
     "output_type": "stream",
     "text": [
      "\r",
      "\u001b[K     |██████████████████▎             | 6.6 MB 680 kB/s eta 0:00:08\r",
      "\u001b[K     |██████████████████▍             | 6.6 MB 680 kB/s eta 0:00:08\r",
      "\u001b[K     |██████████████████▍             | 6.6 MB 684 kB/s eta 0:00:08\r",
      "\u001b[K     |██████████████████▍             | 6.6 MB 684 kB/s eta 0:00:08\r",
      "\u001b[K     |██████████████████▍             | 6.6 MB 684 kB/s eta 0:00:08"
     ]
    },
    {
     "name": "stdout",
     "output_type": "stream",
     "text": [
      "\r",
      "\u001b[K     |██████████████████▌             | 6.7 MB 684 kB/s eta 0:00:08\r",
      "\u001b[K     |██████████████████▌             | 6.7 MB 684 kB/s eta 0:00:08\r",
      "\u001b[K     |██████████████████▌             | 6.7 MB 684 kB/s eta 0:00:08"
     ]
    },
    {
     "name": "stdout",
     "output_type": "stream",
     "text": [
      "\r",
      "\u001b[K     |██████████████████▌             | 6.7 MB 684 kB/s eta 0:00:08\r",
      "\u001b[K     |██████████████████▋             | 6.7 MB 684 kB/s eta 0:00:08\r",
      "\u001b[K     |██████████████████▋             | 6.7 MB 684 kB/s eta 0:00:08\r",
      "\u001b[K     |██████████████████▋             | 6.7 MB 684 kB/s eta 0:00:08\r",
      "\u001b[K     |██████████████████▋             | 6.7 MB 684 kB/s eta 0:00:08\r",
      "\u001b[K     |██████████████████▊             | 6.7 MB 684 kB/s eta 0:00:08\r",
      "\u001b[K     |██████████████████▊             | 6.7 MB 684 kB/s eta 0:00:07\r",
      "\u001b[K     |██████████████████▊             | 6.8 MB 684 kB/s eta 0:00:07\r",
      "\u001b[K     |██████████████████▉             | 6.8 MB 684 kB/s eta 0:00:07\r",
      "\u001b[K     |██████████████████▉             | 6.8 MB 684 kB/s eta 0:00:07"
     ]
    },
    {
     "name": "stdout",
     "output_type": "stream",
     "text": [
      "\r",
      "\u001b[K     |██████████████████▉             | 6.8 MB 684 kB/s eta 0:00:07\r",
      "\u001b[K     |██████████████████▉             | 6.8 MB 684 kB/s eta 0:00:07\r",
      "\u001b[K     |███████████████████             | 6.8 MB 684 kB/s eta 0:00:07\r",
      "\u001b[K     |███████████████████             | 6.8 MB 684 kB/s eta 0:00:07\r",
      "\u001b[K     |███████████████████             | 6.8 MB 684 kB/s eta 0:00:07\r",
      "\u001b[K     |███████████████████             | 6.8 MB 684 kB/s eta 0:00:07\r",
      "\u001b[K     |███████████████████             | 6.9 MB 684 kB/s eta 0:00:07\r",
      "\u001b[K     |███████████████████             | 6.9 MB 684 kB/s eta 0:00:07\r",
      "\u001b[K     |███████████████████             | 6.9 MB 684 kB/s eta 0:00:07\r",
      "\u001b[K     |███████████████████             | 6.9 MB 684 kB/s eta 0:00:07\r",
      "\u001b[K     |███████████████████▏            | 6.9 MB 684 kB/s eta 0:00:07\r",
      "\u001b[K     |███████████████████▏            | 6.9 MB 684 kB/s eta 0:00:07\r",
      "\u001b[K     |███████████████████▏            | 6.9 MB 684 kB/s eta 0:00:07\r",
      "\u001b[K     |███████████████████▏            | 6.9 MB 684 kB/s eta 0:00:07\r",
      "\u001b[K     |███████████████████▎            | 6.9 MB 684 kB/s eta 0:00:07\r",
      "\u001b[K     |███████████████████▎            | 6.9 MB 684 kB/s eta 0:00:07\r",
      "\u001b[K     |███████████████████▎            | 7.0 MB 684 kB/s eta 0:00:07\r",
      "\u001b[K     |███████████████████▎            | 7.0 MB 684 kB/s eta 0:00:07\r",
      "\u001b[K     |███████████████████▍            | 7.0 MB 684 kB/s eta 0:00:07\r",
      "\u001b[K     |███████████████████▍            | 7.0 MB 684 kB/s eta 0:00:07\r",
      "\u001b[K     |███████████████████▍            | 7.0 MB 684 kB/s eta 0:00:07\r",
      "\u001b[K     |███████████████████▍            | 7.0 MB 684 kB/s eta 0:00:07\r",
      "\u001b[K     |███████████████████▌            | 7.0 MB 684 kB/s eta 0:00:07\r",
      "\u001b[K     |███████████████████▌            | 7.0 MB 684 kB/s eta 0:00:07"
     ]
    },
    {
     "name": "stdout",
     "output_type": "stream",
     "text": [
      "\r",
      "\u001b[K     |███████████████████▌            | 7.0 MB 684 kB/s eta 0:00:07\r",
      "\u001b[K     |███████████████████▌            | 7.0 MB 684 kB/s eta 0:00:07\r",
      "\u001b[K     |███████████████████▋            | 7.1 MB 684 kB/s eta 0:00:07\r",
      "\u001b[K     |███████████████████▋            | 7.1 MB 684 kB/s eta 0:00:07\r",
      "\u001b[K     |███████████████████▋            | 7.1 MB 684 kB/s eta 0:00:07\r",
      "\u001b[K     |███████████████████▋            | 7.1 MB 684 kB/s eta 0:00:07\r",
      "\u001b[K     |███████████████████▊            | 7.1 MB 684 kB/s eta 0:00:07\r",
      "\u001b[K     |███████████████████▊            | 7.1 MB 684 kB/s eta 0:00:07\r",
      "\u001b[K     |███████████████████▊            | 7.1 MB 684 kB/s eta 0:00:07\r",
      "\u001b[K     |███████████████████▊            | 7.1 MB 684 kB/s eta 0:00:07\r",
      "\u001b[K     |███████████████████▉            | 7.1 MB 684 kB/s eta 0:00:07\r",
      "\u001b[K     |███████████████████▉            | 7.1 MB 684 kB/s eta 0:00:07\r",
      "\u001b[K     |███████████████████▉            | 7.2 MB 684 kB/s eta 0:00:07\r",
      "\u001b[K     |███████████████████▉            | 7.2 MB 684 kB/s eta 0:00:07\r",
      "\u001b[K     |████████████████████            | 7.2 MB 684 kB/s eta 0:00:07\r",
      "\u001b[K     |████████████████████            | 7.2 MB 684 kB/s eta 0:00:07\r",
      "\u001b[K     |████████████████████            | 7.2 MB 684 kB/s eta 0:00:07\r",
      "\u001b[K     |████████████████████            | 7.2 MB 684 kB/s eta 0:00:07\r",
      "\u001b[K     |████████████████████            | 7.2 MB 684 kB/s eta 0:00:07\r",
      "\u001b[K     |████████████████████            | 7.2 MB 684 kB/s eta 0:00:07\r",
      "\u001b[K     |████████████████████            | 7.2 MB 684 kB/s eta 0:00:07\r",
      "\u001b[K     |████████████████████▏           | 7.2 MB 684 kB/s eta 0:00:07\r",
      "\u001b[K     |████████████████████▏           | 7.3 MB 684 kB/s eta 0:00:07\r",
      "\u001b[K     |████████████████████▏           | 7.3 MB 684 kB/s eta 0:00:07\r",
      "\u001b[K     |████████████████████▏           | 7.3 MB 684 kB/s eta 0:00:07\r",
      "\u001b[K     |████████████████████▎           | 7.3 MB 684 kB/s eta 0:00:07\r",
      "\u001b[K     |████████████████████▎           | 7.3 MB 684 kB/s eta 0:00:07\r",
      "\u001b[K     |████████████████████▎           | 7.3 MB 684 kB/s eta 0:00:07\r",
      "\u001b[K     |████████████████████▎           | 7.3 MB 684 kB/s eta 0:00:07\r",
      "\u001b[K     |████████████████████▍           | 7.3 MB 684 kB/s eta 0:00:07"
     ]
    },
    {
     "name": "stdout",
     "output_type": "stream",
     "text": [
      "\r",
      "\u001b[K     |████████████████████▍           | 7.3 MB 684 kB/s eta 0:00:07\r",
      "\u001b[K     |████████████████████▍           | 7.4 MB 684 kB/s eta 0:00:07\r",
      "\u001b[K     |████████████████████▍           | 7.4 MB 684 kB/s eta 0:00:07\r",
      "\u001b[K     |████████████████████▌           | 7.4 MB 684 kB/s eta 0:00:07\r",
      "\u001b[K     |████████████████████▌           | 7.4 MB 684 kB/s eta 0:00:07\r",
      "\u001b[K     |████████████████████▌           | 7.4 MB 684 kB/s eta 0:00:07\r",
      "\u001b[K     |████████████████████▌           | 7.4 MB 684 kB/s eta 0:00:07\r",
      "\u001b[K     |████████████████████▋           | 7.4 MB 684 kB/s eta 0:00:07\r",
      "\u001b[K     |████████████████████▋           | 7.4 MB 684 kB/s eta 0:00:07\r",
      "\u001b[K     |████████████████████▋           | 7.4 MB 684 kB/s eta 0:00:06\r",
      "\u001b[K     |████████████████████▋           | 7.4 MB 684 kB/s eta 0:00:06\r",
      "\u001b[K     |████████████████████▊           | 7.5 MB 684 kB/s eta 0:00:06\r",
      "\u001b[K     |████████████████████▊           | 7.5 MB 684 kB/s eta 0:00:06\r",
      "\u001b[K     |████████████████████▊           | 7.5 MB 684 kB/s eta 0:00:06\r",
      "\u001b[K     |████████████████████▊           | 7.5 MB 684 kB/s eta 0:00:06\r",
      "\u001b[K     |████████████████████▉           | 7.5 MB 684 kB/s eta 0:00:06\r",
      "\u001b[K     |████████████████████▉           | 7.5 MB 684 kB/s eta 0:00:06\r",
      "\u001b[K     |████████████████████▉           | 7.5 MB 684 kB/s eta 0:00:06\r",
      "\u001b[K     |████████████████████▉           | 7.5 MB 684 kB/s eta 0:00:06\r",
      "\u001b[K     |█████████████████████           | 7.5 MB 684 kB/s eta 0:00:06\r",
      "\u001b[K     |█████████████████████           | 7.5 MB 684 kB/s eta 0:00:06\r",
      "\u001b[K     |█████████████████████           | 7.6 MB 684 kB/s eta 0:00:06\r",
      "\u001b[K     |█████████████████████           | 7.6 MB 684 kB/s eta 0:00:06\r",
      "\u001b[K     |█████████████████████           | 7.6 MB 684 kB/s eta 0:00:06\r",
      "\u001b[K     |█████████████████████           | 7.6 MB 684 kB/s eta 0:00:06\r",
      "\u001b[K     |█████████████████████           | 7.6 MB 684 kB/s eta 0:00:06\r",
      "\u001b[K     |█████████████████████           | 7.6 MB 684 kB/s eta 0:00:06\r",
      "\u001b[K     |█████████████████████▏          | 7.6 MB 684 kB/s eta 0:00:06\r",
      "\u001b[K     |█████████████████████▏          | 7.6 MB 684 kB/s eta 0:00:06\r",
      "\u001b[K     |█████████████████████▏          | 7.6 MB 684 kB/s eta 0:00:06\r",
      "\u001b[K     |█████████████████████▎          | 7.6 MB 684 kB/s eta 0:00:06\r",
      "\u001b[K     |█████████████████████▎          | 7.7 MB 684 kB/s eta 0:00:06\r",
      "\u001b[K     |█████████████████████▎          | 7.7 MB 684 kB/s eta 0:00:06\r",
      "\u001b[K     |█████████████████████▎          | 7.7 MB 684 kB/s eta 0:00:06\r",
      "\u001b[K     |█████████████████████▍          | 7.7 MB 684 kB/s eta 0:00:06\r",
      "\u001b[K     |█████████████████████▍          | 7.7 MB 684 kB/s eta 0:00:06\r",
      "\u001b[K     |█████████████████████▍          | 7.7 MB 684 kB/s eta 0:00:06\r",
      "\u001b[K     |█████████████████████▍          | 7.7 MB 684 kB/s eta 0:00:06\r",
      "\u001b[K     |█████████████████████▌          | 7.7 MB 684 kB/s eta 0:00:06\r",
      "\u001b[K     |█████████████████████▌          | 7.7 MB 684 kB/s eta 0:00:06\r",
      "\u001b[K     |█████████████████████▌          | 7.8 MB 684 kB/s eta 0:00:06\r",
      "\u001b[K     |█████████████████████▌          | 7.8 MB 684 kB/s eta 0:00:06\r",
      "\u001b[K     |█████████████████████▋          | 7.8 MB 684 kB/s eta 0:00:06\r",
      "\u001b[K     |█████████████████████▋          | 7.8 MB 684 kB/s eta 0:00:06\r",
      "\u001b[K     |█████████████████████▋          | 7.8 MB 684 kB/s eta 0:00:06\r",
      "\u001b[K     |█████████████████████▋          | 7.8 MB 684 kB/s eta 0:00:06\r",
      "\u001b[K     |█████████████████████▊          | 7.8 MB 684 kB/s eta 0:00:06\r",
      "\u001b[K     |█████████████████████▊          | 7.8 MB 684 kB/s eta 0:00:06\r",
      "\u001b[K     |█████████████████████▊          | 7.8 MB 684 kB/s eta 0:00:06\r",
      "\u001b[K     |█████████████████████▊          | 7.8 MB 684 kB/s eta 0:00:06\r",
      "\u001b[K     |█████████████████████▉          | 7.9 MB 684 kB/s eta 0:00:06\r",
      "\u001b[K     |█████████████████████▉          | 7.9 MB 684 kB/s eta 0:00:06\r",
      "\u001b[K     |█████████████████████▉          | 7.9 MB 684 kB/s eta 0:00:06\r",
      "\u001b[K     |█████████████████████▉          | 7.9 MB 684 kB/s eta 0:00:06\r",
      "\u001b[K     |██████████████████████          | 7.9 MB 684 kB/s eta 0:00:06"
     ]
    },
    {
     "name": "stdout",
     "output_type": "stream",
     "text": [
      "\r",
      "\u001b[K     |██████████████████████          | 7.9 MB 684 kB/s eta 0:00:06\r",
      "\u001b[K     |██████████████████████          | 7.9 MB 684 kB/s eta 0:00:06\r",
      "\u001b[K     |██████████████████████          | 7.9 MB 684 kB/s eta 0:00:06\r",
      "\u001b[K     |██████████████████████          | 7.9 MB 684 kB/s eta 0:00:06\r",
      "\u001b[K     |██████████████████████          | 7.9 MB 684 kB/s eta 0:00:06\r",
      "\u001b[K     |██████████████████████          | 8.0 MB 684 kB/s eta 0:00:06\r",
      "\u001b[K     |██████████████████████          | 8.0 MB 684 kB/s eta 0:00:06\r",
      "\u001b[K     |██████████████████████▏         | 8.0 MB 684 kB/s eta 0:00:06\r",
      "\u001b[K     |██████████████████████▏         | 8.0 MB 684 kB/s eta 0:00:06\r",
      "\u001b[K     |██████████████████████▏         | 8.0 MB 684 kB/s eta 0:00:06\r",
      "\u001b[K     |██████████████████████▏         | 8.0 MB 684 kB/s eta 0:00:06\r",
      "\u001b[K     |██████████████████████▎         | 8.0 MB 684 kB/s eta 0:00:06\r",
      "\u001b[K     |██████████████████████▎         | 8.0 MB 684 kB/s eta 0:00:06\r",
      "\u001b[K     |██████████████████████▎         | 8.0 MB 684 kB/s eta 0:00:06\r",
      "\u001b[K     |██████████████████████▎         | 8.0 MB 684 kB/s eta 0:00:06\r",
      "\u001b[K     |██████████████████████▍         | 8.1 MB 684 kB/s eta 0:00:06\r",
      "\u001b[K     |██████████████████████▍         | 8.1 MB 684 kB/s eta 0:00:06\r",
      "\u001b[K     |██████████████████████▍         | 8.1 MB 684 kB/s eta 0:00:06"
     ]
    },
    {
     "name": "stdout",
     "output_type": "stream",
     "text": [
      "\r",
      "\u001b[K     |██████████████████████▌         | 8.1 MB 684 kB/s eta 0:00:06\r",
      "\u001b[K     |██████████████████████▌         | 8.1 MB 684 kB/s eta 0:00:06\r",
      "\u001b[K     |██████████████████████▌         | 8.1 MB 684 kB/s eta 0:00:06\r",
      "\u001b[K     |██████████████████████▌         | 8.1 MB 684 kB/s eta 0:00:05\r",
      "\u001b[K     |██████████████████████▋         | 8.1 MB 684 kB/s eta 0:00:05\r",
      "\u001b[K     |██████████████████████▋         | 8.1 MB 684 kB/s eta 0:00:05\r",
      "\u001b[K     |██████████████████████▋         | 8.2 MB 684 kB/s eta 0:00:05\r",
      "\u001b[K     |██████████████████████▋         | 8.2 MB 684 kB/s eta 0:00:05\r",
      "\u001b[K     |██████████████████████▊         | 8.2 MB 684 kB/s eta 0:00:05\r",
      "\u001b[K     |██████████████████████▊         | 8.2 MB 684 kB/s eta 0:00:05\r",
      "\u001b[K     |██████████████████████▊         | 8.2 MB 684 kB/s eta 0:00:05\r",
      "\u001b[K     |██████████████████████▊         | 8.2 MB 684 kB/s eta 0:00:05\r",
      "\u001b[K     |██████████████████████▉         | 8.2 MB 684 kB/s eta 0:00:05\r",
      "\u001b[K     |██████████████████████▉         | 8.2 MB 684 kB/s eta 0:00:05\r",
      "\u001b[K     |██████████████████████▉         | 8.2 MB 684 kB/s eta 0:00:05\r",
      "\u001b[K     |██████████████████████▉         | 8.2 MB 684 kB/s eta 0:00:05\r",
      "\u001b[K     |███████████████████████         | 8.3 MB 684 kB/s eta 0:00:05\r",
      "\u001b[K     |███████████████████████         | 8.3 MB 684 kB/s eta 0:00:05\r",
      "\u001b[K     |███████████████████████         | 8.3 MB 684 kB/s eta 0:00:05\r",
      "\u001b[K     |███████████████████████         | 8.3 MB 684 kB/s eta 0:00:05\r",
      "\u001b[K     |███████████████████████         | 8.3 MB 684 kB/s eta 0:00:05\r",
      "\u001b[K     |███████████████████████         | 8.3 MB 684 kB/s eta 0:00:05\r",
      "\u001b[K     |███████████████████████         | 8.3 MB 684 kB/s eta 0:00:05\r",
      "\u001b[K     |███████████████████████         | 8.3 MB 684 kB/s eta 0:00:05\r",
      "\u001b[K     |███████████████████████▏        | 8.3 MB 684 kB/s eta 0:00:05\r",
      "\u001b[K     |███████████████████████▏        | 8.3 MB 684 kB/s eta 0:00:05\r",
      "\u001b[K     |███████████████████████▏        | 8.4 MB 684 kB/s eta 0:00:05\r",
      "\u001b[K     |███████████████████████▏        | 8.4 MB 684 kB/s eta 0:00:05\r",
      "\u001b[K     |███████████████████████▎        | 8.4 MB 684 kB/s eta 0:00:05\r",
      "\u001b[K     |███████████████████████▎        | 8.4 MB 684 kB/s eta 0:00:05\r",
      "\u001b[K     |███████████████████████▎        | 8.4 MB 684 kB/s eta 0:00:05\r",
      "\u001b[K     |███████████████████████▎        | 8.4 MB 684 kB/s eta 0:00:05\r",
      "\u001b[K     |███████████████████████▍        | 8.4 MB 684 kB/s eta 0:00:05\r",
      "\u001b[K     |███████████████████████▍        | 8.4 MB 684 kB/s eta 0:00:05"
     ]
    },
    {
     "name": "stdout",
     "output_type": "stream",
     "text": [
      "\r",
      "\u001b[K     |███████████████████████▍        | 8.4 MB 684 kB/s eta 0:00:05\r",
      "\u001b[K     |███████████████████████▍        | 8.4 MB 684 kB/s eta 0:00:05\r",
      "\u001b[K     |███████████████████████▌        | 8.5 MB 684 kB/s eta 0:00:05\r",
      "\u001b[K     |███████████████████████▌        | 8.5 MB 684 kB/s eta 0:00:05\r",
      "\u001b[K     |███████████████████████▌        | 8.5 MB 684 kB/s eta 0:00:05\r",
      "\u001b[K     |███████████████████████▌        | 8.5 MB 684 kB/s eta 0:00:05\r",
      "\u001b[K     |███████████████████████▋        | 8.5 MB 684 kB/s eta 0:00:05\r",
      "\u001b[K     |███████████████████████▋        | 8.5 MB 684 kB/s eta 0:00:05\r",
      "\u001b[K     |███████████████████████▋        | 8.5 MB 684 kB/s eta 0:00:05\r",
      "\u001b[K     |███████████████████████▋        | 8.5 MB 684 kB/s eta 0:00:05\r",
      "\u001b[K     |███████████████████████▊        | 8.5 MB 684 kB/s eta 0:00:05\r",
      "\u001b[K     |███████████████████████▊        | 8.6 MB 684 kB/s eta 0:00:05\r",
      "\u001b[K     |███████████████████████▊        | 8.6 MB 684 kB/s eta 0:00:05\r",
      "\u001b[K     |███████████████████████▉        | 8.6 MB 684 kB/s eta 0:00:05\r",
      "\u001b[K     |███████████████████████▉        | 8.6 MB 684 kB/s eta 0:00:05\r",
      "\u001b[K     |███████████████████████▉        | 8.6 MB 684 kB/s eta 0:00:05\r",
      "\u001b[K     |███████████████████████▉        | 8.6 MB 684 kB/s eta 0:00:05\r",
      "\u001b[K     |████████████████████████        | 8.6 MB 684 kB/s eta 0:00:05\r",
      "\u001b[K     |████████████████████████        | 8.6 MB 684 kB/s eta 0:00:05\r",
      "\u001b[K     |████████████████████████        | 8.6 MB 684 kB/s eta 0:00:05\r",
      "\u001b[K     |████████████████████████        | 8.6 MB 684 kB/s eta 0:00:05\r",
      "\u001b[K     |████████████████████████        | 8.7 MB 684 kB/s eta 0:00:05\r",
      "\u001b[K     |████████████████████████        | 8.7 MB 684 kB/s eta 0:00:05\r",
      "\u001b[K     |████████████████████████        | 8.7 MB 684 kB/s eta 0:00:05\r",
      "\u001b[K     |████████████████████████        | 8.7 MB 684 kB/s eta 0:00:05\r",
      "\u001b[K     |████████████████████████▏       | 8.7 MB 684 kB/s eta 0:00:05\r",
      "\u001b[K     |████████████████████████▏       | 8.7 MB 684 kB/s eta 0:00:05\r",
      "\u001b[K     |████████████████████████▏       | 8.7 MB 684 kB/s eta 0:00:05\r",
      "\u001b[K     |████████████████████████▏       | 8.7 MB 684 kB/s eta 0:00:05\r",
      "\u001b[K     |████████████████████████▎       | 8.7 MB 684 kB/s eta 0:00:05\r",
      "\u001b[K     |████████████████████████▎       | 8.7 MB 684 kB/s eta 0:00:05\r",
      "\u001b[K     |████████████████████████▎       | 8.8 MB 684 kB/s eta 0:00:05\r",
      "\u001b[K     |████████████████████████▎       | 8.8 MB 684 kB/s eta 0:00:05\r",
      "\u001b[K     |████████████████████████▍       | 8.8 MB 684 kB/s eta 0:00:05\r",
      "\u001b[K     |████████████████████████▍       | 8.8 MB 684 kB/s eta 0:00:05\r",
      "\u001b[K     |████████████████████████▍       | 8.8 MB 684 kB/s eta 0:00:04\r",
      "\u001b[K     |████████████████████████▍       | 8.8 MB 684 kB/s eta 0:00:04\r",
      "\u001b[K     |████████████████████████▌       | 8.8 MB 684 kB/s eta 0:00:04\r",
      "\u001b[K     |████████████████████████▌       | 8.8 MB 684 kB/s eta 0:00:04\r",
      "\u001b[K     |████████████████████████▌       | 8.8 MB 684 kB/s eta 0:00:04\r",
      "\u001b[K     |████████████████████████▌       | 8.8 MB 684 kB/s eta 0:00:04\r",
      "\u001b[K     |████████████████████████▋       | 8.9 MB 684 kB/s eta 0:00:04\r",
      "\u001b[K     |████████████████████████▋       | 8.9 MB 684 kB/s eta 0:00:04\r",
      "\u001b[K     |████████████████████████▋       | 8.9 MB 684 kB/s eta 0:00:04\r",
      "\u001b[K     |████████████████████████▋       | 8.9 MB 684 kB/s eta 0:00:04\r",
      "\u001b[K     |████████████████████████▊       | 8.9 MB 684 kB/s eta 0:00:04\r",
      "\u001b[K     |████████████████████████▊       | 8.9 MB 684 kB/s eta 0:00:04\r",
      "\u001b[K     |████████████████████████▊       | 8.9 MB 684 kB/s eta 0:00:04\r",
      "\u001b[K     |████████████████████████▊       | 8.9 MB 684 kB/s eta 0:00:04\r",
      "\u001b[K     |████████████████████████▉       | 8.9 MB 684 kB/s eta 0:00:04\r",
      "\u001b[K     |████████████████████████▉       | 8.9 MB 684 kB/s eta 0:00:04\r",
      "\u001b[K     |████████████████████████▉       | 9.0 MB 684 kB/s eta 0:00:04\r",
      "\u001b[K     |████████████████████████▉       | 9.0 MB 684 kB/s eta 0:00:04\r",
      "\u001b[K     |█████████████████████████       | 9.0 MB 684 kB/s eta 0:00:04\r",
      "\u001b[K     |█████████████████████████       | 9.0 MB 684 kB/s eta 0:00:04\r",
      "\u001b[K     |█████████████████████████       | 9.0 MB 684 kB/s eta 0:00:04\r",
      "\u001b[K     |█████████████████████████       | 9.0 MB 684 kB/s eta 0:00:04\r",
      "\u001b[K     |█████████████████████████       | 9.0 MB 684 kB/s eta 0:00:04\r",
      "\u001b[K     |█████████████████████████       | 9.0 MB 684 kB/s eta 0:00:04\r",
      "\u001b[K     |█████████████████████████       | 9.0 MB 684 kB/s eta 0:00:04\r",
      "\u001b[K     |█████████████████████████▏      | 9.1 MB 684 kB/s eta 0:00:04\r",
      "\u001b[K     |█████████████████████████▏      | 9.1 MB 684 kB/s eta 0:00:04\r",
      "\u001b[K     |█████████████████████████▏      | 9.1 MB 684 kB/s eta 0:00:04\r",
      "\u001b[K     |█████████████████████████▏      | 9.1 MB 684 kB/s eta 0:00:04\r",
      "\u001b[K     |█████████████████████████▎      | 9.1 MB 684 kB/s eta 0:00:04\r",
      "\u001b[K     |█████████████████████████▎      | 9.1 MB 684 kB/s eta 0:00:04\r",
      "\u001b[K     |█████████████████████████▎      | 9.1 MB 684 kB/s eta 0:00:04\r",
      "\u001b[K     |█████████████████████████▎      | 9.1 MB 684 kB/s eta 0:00:04\r",
      "\u001b[K     |█████████████████████████▍      | 9.1 MB 684 kB/s eta 0:00:04\r",
      "\u001b[K     |█████████████████████████▍      | 9.1 MB 684 kB/s eta 0:00:04\r",
      "\u001b[K     |█████████████████████████▍      | 9.2 MB 684 kB/s eta 0:00:04\r",
      "\u001b[K     |█████████████████████████▍      | 9.2 MB 684 kB/s eta 0:00:04\r",
      "\u001b[K     |█████████████████████████▌      | 9.2 MB 684 kB/s eta 0:00:04\r",
      "\u001b[K     |█████████████████████████▌      | 9.2 MB 684 kB/s eta 0:00:04\r",
      "\u001b[K     |█████████████████████████▌      | 9.2 MB 684 kB/s eta 0:00:04\r",
      "\u001b[K     |█████████████████████████▌      | 9.2 MB 684 kB/s eta 0:00:04\r",
      "\u001b[K     |█████████████████████████▋      | 9.2 MB 684 kB/s eta 0:00:04"
     ]
    },
    {
     "name": "stdout",
     "output_type": "stream",
     "text": [
      "\r",
      "\u001b[K     |█████████████████████████▋      | 9.2 MB 684 kB/s eta 0:00:04\r",
      "\u001b[K     |█████████████████████████▋      | 9.2 MB 684 kB/s eta 0:00:04\r",
      "\u001b[K     |█████████████████████████▋      | 9.2 MB 684 kB/s eta 0:00:04\r",
      "\u001b[K     |█████████████████████████▊      | 9.3 MB 684 kB/s eta 0:00:04\r",
      "\u001b[K     |█████████████████████████▊      | 9.3 MB 684 kB/s eta 0:00:04\r",
      "\u001b[K     |█████████████████████████▊      | 9.3 MB 684 kB/s eta 0:00:04\r",
      "\u001b[K     |█████████████████████████▊      | 9.3 MB 684 kB/s eta 0:00:04\r",
      "\u001b[K     |█████████████████████████▉      | 9.3 MB 684 kB/s eta 0:00:04\r",
      "\u001b[K     |█████████████████████████▉      | 9.3 MB 684 kB/s eta 0:00:04\r",
      "\u001b[K     |█████████████████████████▉      | 9.3 MB 684 kB/s eta 0:00:04\r",
      "\u001b[K     |█████████████████████████▉      | 9.3 MB 684 kB/s eta 0:00:04\r",
      "\u001b[K     |██████████████████████████      | 9.3 MB 684 kB/s eta 0:00:04"
     ]
    },
    {
     "name": "stdout",
     "output_type": "stream",
     "text": [
      "\r",
      "\u001b[K     |██████████████████████████      | 9.3 MB 684 kB/s eta 0:00:04\r",
      "\u001b[K     |██████████████████████████      | 9.4 MB 684 kB/s eta 0:00:04\r",
      "\u001b[K     |██████████████████████████      | 9.4 MB 684 kB/s eta 0:00:04\r",
      "\u001b[K     |██████████████████████████      | 9.4 MB 684 kB/s eta 0:00:04\r",
      "\u001b[K     |██████████████████████████      | 9.4 MB 684 kB/s eta 0:00:04\r",
      "\u001b[K     |██████████████████████████      | 9.4 MB 684 kB/s eta 0:00:04\r",
      "\u001b[K     |██████████████████████████      | 9.4 MB 684 kB/s eta 0:00:04\r",
      "\u001b[K     |██████████████████████████▏     | 9.4 MB 684 kB/s eta 0:00:04"
     ]
    },
    {
     "name": "stdout",
     "output_type": "stream",
     "text": [
      "\r",
      "\u001b[K     |██████████████████████████▏     | 9.4 MB 684 kB/s eta 0:00:04\r",
      "\u001b[K     |██████████████████████████▏     | 9.4 MB 684 kB/s eta 0:00:04\r",
      "\u001b[K     |██████████████████████████▎     | 9.5 MB 684 kB/s eta 0:00:04\r",
      "\u001b[K     |██████████████████████████▎     | 9.5 MB 684 kB/s eta 0:00:04\r",
      "\u001b[K     |██████████████████████████▎     | 9.5 MB 684 kB/s eta 0:00:04\r",
      "\u001b[K     |██████████████████████████▎     | 9.5 MB 684 kB/s eta 0:00:03\r",
      "\u001b[K     |██████████████████████████▍     | 9.5 MB 684 kB/s eta 0:00:03\r",
      "\u001b[K     |██████████████████████████▍     | 9.5 MB 684 kB/s eta 0:00:03\r",
      "\u001b[K     |██████████████████████████▍     | 9.5 MB 684 kB/s eta 0:00:03"
     ]
    },
    {
     "name": "stdout",
     "output_type": "stream",
     "text": [
      "\r",
      "\u001b[K     |██████████████████████████▍     | 9.5 MB 684 kB/s eta 0:00:03\r",
      "\u001b[K     |██████████████████████████▌     | 9.5 MB 684 kB/s eta 0:00:03\r",
      "\u001b[K     |██████████████████████████▌     | 9.5 MB 684 kB/s eta 0:00:03\r",
      "\u001b[K     |██████████████████████████▌     | 9.6 MB 684 kB/s eta 0:00:03\r",
      "\u001b[K     |██████████████████████████▌     | 9.6 MB 684 kB/s eta 0:00:03\r",
      "\u001b[K     |██████████████████████████▋     | 9.6 MB 684 kB/s eta 0:00:03\r",
      "\u001b[K     |██████████████████████████▋     | 9.6 MB 684 kB/s eta 0:00:03\r",
      "\u001b[K     |██████████████████████████▋     | 9.6 MB 684 kB/s eta 0:00:03\r",
      "\u001b[K     |██████████████████████████▋     | 9.6 MB 684 kB/s eta 0:00:03\r",
      "\u001b[K     |██████████████████████████▊     | 9.6 MB 684 kB/s eta 0:00:03\r",
      "\u001b[K     |██████████████████████████▊     | 9.6 MB 684 kB/s eta 0:00:03\r",
      "\u001b[K     |██████████████████████████▊     | 9.6 MB 684 kB/s eta 0:00:03\r",
      "\u001b[K     |██████████████████████████▊     | 9.6 MB 684 kB/s eta 0:00:03\r",
      "\u001b[K     |██████████████████████████▉     | 9.7 MB 684 kB/s eta 0:00:03\r",
      "\u001b[K     |██████████████████████████▉     | 9.7 MB 684 kB/s eta 0:00:03\r",
      "\u001b[K     |██████████████████████████▉     | 9.7 MB 684 kB/s eta 0:00:03\r",
      "\u001b[K     |██████████████████████████▉     | 9.7 MB 684 kB/s eta 0:00:03\r",
      "\u001b[K     |███████████████████████████     | 9.7 MB 684 kB/s eta 0:00:03\r",
      "\u001b[K     |███████████████████████████     | 9.7 MB 684 kB/s eta 0:00:03\r",
      "\u001b[K     |███████████████████████████     | 9.7 MB 684 kB/s eta 0:00:03"
     ]
    },
    {
     "name": "stdout",
     "output_type": "stream",
     "text": [
      "\r",
      "\u001b[K     |███████████████████████████     | 9.7 MB 684 kB/s eta 0:00:03\r",
      "\u001b[K     |███████████████████████████     | 9.7 MB 684 kB/s eta 0:00:03\r",
      "\u001b[K     |███████████████████████████     | 9.7 MB 684 kB/s eta 0:00:03\r",
      "\u001b[K     |███████████████████████████     | 9.8 MB 684 kB/s eta 0:00:03\r",
      "\u001b[K     |███████████████████████████     | 9.8 MB 684 kB/s eta 0:00:03\r",
      "\u001b[K     |███████████████████████████▏    | 9.8 MB 684 kB/s eta 0:00:03\r",
      "\u001b[K     |███████████████████████████▏    | 9.8 MB 684 kB/s eta 0:00:03\r",
      "\u001b[K     |███████████████████████████▏    | 9.8 MB 684 kB/s eta 0:00:03\r",
      "\u001b[K     |███████████████████████████▏    | 9.8 MB 684 kB/s eta 0:00:03\r",
      "\u001b[K     |███████████████████████████▎    | 9.8 MB 684 kB/s eta 0:00:03\r",
      "\u001b[K     |███████████████████████████▎    | 9.8 MB 684 kB/s eta 0:00:03\r",
      "\u001b[K     |███████████████████████████▎    | 9.8 MB 684 kB/s eta 0:00:03\r",
      "\u001b[K     |███████████████████████████▎    | 9.9 MB 684 kB/s eta 0:00:03\r",
      "\u001b[K     |███████████████████████████▍    | 9.9 MB 684 kB/s eta 0:00:03\r",
      "\u001b[K     |███████████████████████████▍    | 9.9 MB 684 kB/s eta 0:00:03\r",
      "\u001b[K     |███████████████████████████▍    | 9.9 MB 684 kB/s eta 0:00:03\r",
      "\u001b[K     |███████████████████████████▌    | 9.9 MB 684 kB/s eta 0:00:03\r",
      "\u001b[K     |███████████████████████████▌    | 9.9 MB 684 kB/s eta 0:00:03\r",
      "\u001b[K     |███████████████████████████▌    | 9.9 MB 684 kB/s eta 0:00:03"
     ]
    },
    {
     "name": "stdout",
     "output_type": "stream",
     "text": [
      "\r",
      "\u001b[K     |███████████████████████████▌    | 9.9 MB 684 kB/s eta 0:00:03\r",
      "\u001b[K     |███████████████████████████▋    | 9.9 MB 684 kB/s eta 0:00:03\r",
      "\u001b[K     |███████████████████████████▋    | 9.9 MB 684 kB/s eta 0:00:03\r",
      "\u001b[K     |███████████████████████████▋    | 10.0 MB 684 kB/s eta 0:00:03\r",
      "\u001b[K     |███████████████████████████▋    | 10.0 MB 684 kB/s eta 0:00:03\r",
      "\u001b[K     |███████████████████████████▊    | 10.0 MB 684 kB/s eta 0:00:03\r",
      "\u001b[K     |███████████████████████████▊    | 10.0 MB 684 kB/s eta 0:00:03\r",
      "\u001b[K     |███████████████████████████▊    | 10.0 MB 684 kB/s eta 0:00:03\r",
      "\u001b[K     |███████████████████████████▊    | 10.0 MB 684 kB/s eta 0:00:03\r",
      "\u001b[K     |███████████████████████████▉    | 10.0 MB 684 kB/s eta 0:00:03\r",
      "\u001b[K     |███████████████████████████▉    | 10.0 MB 684 kB/s eta 0:00:03\r",
      "\u001b[K     |███████████████████████████▉    | 10.0 MB 684 kB/s eta 0:00:03\r",
      "\u001b[K     |███████████████████████████▉    | 10.0 MB 684 kB/s eta 0:00:03\r",
      "\u001b[K     |████████████████████████████    | 10.1 MB 684 kB/s eta 0:00:03\r",
      "\u001b[K     |████████████████████████████    | 10.1 MB 684 kB/s eta 0:00:03\r",
      "\u001b[K     |████████████████████████████    | 10.1 MB 684 kB/s eta 0:00:03\r",
      "\u001b[K     |████████████████████████████    | 10.1 MB 684 kB/s eta 0:00:03\r",
      "\u001b[K     |████████████████████████████    | 10.1 MB 684 kB/s eta 0:00:03\r",
      "\u001b[K     |████████████████████████████    | 10.1 MB 684 kB/s eta 0:00:03\r",
      "\u001b[K     |████████████████████████████    | 10.1 MB 684 kB/s eta 0:00:03\r",
      "\u001b[K     |████████████████████████████    | 10.1 MB 684 kB/s eta 0:00:03\r",
      "\u001b[K     |████████████████████████████▏   | 10.1 MB 684 kB/s eta 0:00:03\r",
      "\u001b[K     |████████████████████████████▏   | 10.1 MB 684 kB/s eta 0:00:03\r",
      "\u001b[K     |████████████████████████████▏   | 10.2 MB 684 kB/s eta 0:00:03\r",
      "\u001b[K     |████████████████████████████▏   | 10.2 MB 684 kB/s eta 0:00:02\r",
      "\u001b[K     |████████████████████████████▎   | 10.2 MB 684 kB/s eta 0:00:02\r",
      "\u001b[K     |████████████████████████████▎   | 10.2 MB 684 kB/s eta 0:00:02\r",
      "\u001b[K     |████████████████████████████▎   | 10.2 MB 684 kB/s eta 0:00:02\r",
      "\u001b[K     |████████████████████████████▎   | 10.2 MB 684 kB/s eta 0:00:02\r",
      "\u001b[K     |████████████████████████████▍   | 10.2 MB 684 kB/s eta 0:00:02\r",
      "\u001b[K     |████████████████████████████▍   | 10.2 MB 684 kB/s eta 0:00:02\r",
      "\u001b[K     |████████████████████████████▍   | 10.2 MB 684 kB/s eta 0:00:02\r",
      "\u001b[K     |████████████████████████████▍   | 10.3 MB 684 kB/s eta 0:00:02\r",
      "\u001b[K     |████████████████████████████▌   | 10.3 MB 684 kB/s eta 0:00:02\r",
      "\u001b[K     |████████████████████████████▌   | 10.3 MB 684 kB/s eta 0:00:02\r",
      "\u001b[K     |████████████████████████████▌   | 10.3 MB 684 kB/s eta 0:00:02\r",
      "\u001b[K     |████████████████████████████▌   | 10.3 MB 684 kB/s eta 0:00:02\r",
      "\u001b[K     |████████████████████████████▋   | 10.3 MB 684 kB/s eta 0:00:02\r",
      "\u001b[K     |████████████████████████████▋   | 10.3 MB 684 kB/s eta 0:00:02\r",
      "\u001b[K     |████████████████████████████▋   | 10.3 MB 684 kB/s eta 0:00:02\r",
      "\u001b[K     |████████████████████████████▋   | 10.3 MB 684 kB/s eta 0:00:02\r",
      "\u001b[K     |████████████████████████████▊   | 10.3 MB 684 kB/s eta 0:00:02\r",
      "\u001b[K     |████████████████████████████▊   | 10.4 MB 684 kB/s eta 0:00:02\r",
      "\u001b[K     |████████████████████████████▊   | 10.4 MB 684 kB/s eta 0:00:02"
     ]
    },
    {
     "name": "stdout",
     "output_type": "stream",
     "text": [
      "\r",
      "\u001b[K     |████████████████████████████▉   | 10.4 MB 684 kB/s eta 0:00:02\r",
      "\u001b[K     |████████████████████████████▉   | 10.4 MB 684 kB/s eta 0:00:02\r",
      "\u001b[K     |████████████████████████████▉   | 10.4 MB 684 kB/s eta 0:00:02\r",
      "\u001b[K     |████████████████████████████▉   | 10.4 MB 684 kB/s eta 0:00:02\r",
      "\u001b[K     |█████████████████████████████   | 10.4 MB 684 kB/s eta 0:00:02\r",
      "\u001b[K     |█████████████████████████████   | 10.4 MB 684 kB/s eta 0:00:02\r",
      "\u001b[K     |█████████████████████████████   | 10.4 MB 684 kB/s eta 0:00:02\r",
      "\u001b[K     |█████████████████████████████   | 10.4 MB 684 kB/s eta 0:00:02\r",
      "\u001b[K     |█████████████████████████████   | 10.5 MB 684 kB/s eta 0:00:02\r",
      "\u001b[K     |█████████████████████████████   | 10.5 MB 684 kB/s eta 0:00:02\r",
      "\u001b[K     |█████████████████████████████   | 10.5 MB 684 kB/s eta 0:00:02\r",
      "\u001b[K     |█████████████████████████████   | 10.5 MB 684 kB/s eta 0:00:02\r",
      "\u001b[K     |█████████████████████████████▏  | 10.5 MB 684 kB/s eta 0:00:02\r",
      "\u001b[K     |█████████████████████████████▏  | 10.5 MB 684 kB/s eta 0:00:02\r",
      "\u001b[K     |█████████████████████████████▏  | 10.5 MB 684 kB/s eta 0:00:02\r",
      "\u001b[K     |█████████████████████████████▏  | 10.5 MB 684 kB/s eta 0:00:02\r",
      "\u001b[K     |█████████████████████████████▎  | 10.5 MB 684 kB/s eta 0:00:02\r",
      "\u001b[K     |█████████████████████████████▎  | 10.5 MB 684 kB/s eta 0:00:02\r",
      "\u001b[K     |█████████████████████████████▎  | 10.6 MB 684 kB/s eta 0:00:02\r",
      "\u001b[K     |█████████████████████████████▎  | 10.6 MB 684 kB/s eta 0:00:02\r",
      "\u001b[K     |█████████████████████████████▍  | 10.6 MB 684 kB/s eta 0:00:02\r",
      "\u001b[K     |█████████████████████████████▍  | 10.6 MB 684 kB/s eta 0:00:02\r",
      "\u001b[K     |█████████████████████████████▍  | 10.6 MB 684 kB/s eta 0:00:02\r",
      "\u001b[K     |█████████████████████████████▍  | 10.6 MB 684 kB/s eta 0:00:02\r",
      "\u001b[K     |█████████████████████████████▌  | 10.6 MB 684 kB/s eta 0:00:02\r",
      "\u001b[K     |█████████████████████████████▌  | 10.6 MB 684 kB/s eta 0:00:02\r",
      "\u001b[K     |█████████████████████████████▌  | 10.6 MB 684 kB/s eta 0:00:02\r",
      "\u001b[K     |█████████████████████████████▌  | 10.6 MB 684 kB/s eta 0:00:02\r",
      "\u001b[K     |█████████████████████████████▋  | 10.7 MB 684 kB/s eta 0:00:02\r",
      "\u001b[K     |█████████████████████████████▋  | 10.7 MB 684 kB/s eta 0:00:02\r",
      "\u001b[K     |█████████████████████████████▋  | 10.7 MB 684 kB/s eta 0:00:02\r",
      "\u001b[K     |█████████████████████████████▋  | 10.7 MB 684 kB/s eta 0:00:02\r",
      "\u001b[K     |█████████████████████████████▊  | 10.7 MB 684 kB/s eta 0:00:02\r",
      "\u001b[K     |█████████████████████████████▊  | 10.7 MB 684 kB/s eta 0:00:02\r",
      "\u001b[K     |█████████████████████████████▊  | 10.7 MB 684 kB/s eta 0:00:02\r",
      "\u001b[K     |█████████████████████████████▊  | 10.7 MB 684 kB/s eta 0:00:02"
     ]
    },
    {
     "name": "stdout",
     "output_type": "stream",
     "text": [
      "\r",
      "\u001b[K     |█████████████████████████████▉  | 10.7 MB 684 kB/s eta 0:00:02\r",
      "\u001b[K     |█████████████████████████████▉  | 10.8 MB 684 kB/s eta 0:00:02\r",
      "\u001b[K     |█████████████████████████████▉  | 10.8 MB 684 kB/s eta 0:00:02\r",
      "\u001b[K     |█████████████████████████████▉  | 10.8 MB 684 kB/s eta 0:00:02\r",
      "\u001b[K     |██████████████████████████████  | 10.8 MB 684 kB/s eta 0:00:02\r",
      "\u001b[K     |██████████████████████████████  | 10.8 MB 684 kB/s eta 0:00:02\r",
      "\u001b[K     |██████████████████████████████  | 10.8 MB 684 kB/s eta 0:00:02\r",
      "\u001b[K     |██████████████████████████████  | 10.8 MB 684 kB/s eta 0:00:02\r",
      "\u001b[K     |██████████████████████████████  | 10.8 MB 684 kB/s eta 0:00:02\r",
      "\u001b[K     |██████████████████████████████  | 10.8 MB 684 kB/s eta 0:00:02\r",
      "\u001b[K     |██████████████████████████████  | 10.8 MB 684 kB/s eta 0:00:02\r",
      "\u001b[K     |██████████████████████████████▏ | 10.9 MB 684 kB/s eta 0:00:01\r",
      "\u001b[K     |██████████████████████████████▏ | 10.9 MB 684 kB/s eta 0:00:01\r",
      "\u001b[K     |██████████████████████████████▏ | 10.9 MB 684 kB/s eta 0:00:01\r",
      "\u001b[K     |██████████████████████████████▏ | 10.9 MB 684 kB/s eta 0:00:01\r",
      "\u001b[K     |██████████████████████████████▎ | 10.9 MB 684 kB/s eta 0:00:01\r",
      "\u001b[K     |██████████████████████████████▎ | 10.9 MB 684 kB/s eta 0:00:01\r",
      "\u001b[K     |██████████████████████████████▎ | 10.9 MB 684 kB/s eta 0:00:01\r",
      "\u001b[K     |██████████████████████████████▎ | 10.9 MB 684 kB/s eta 0:00:01\r",
      "\u001b[K     |██████████████████████████████▍ | 10.9 MB 684 kB/s eta 0:00:01\r",
      "\u001b[K     |██████████████████████████████▍ | 10.9 MB 684 kB/s eta 0:00:01\r",
      "\u001b[K     |██████████████████████████████▍ | 11.0 MB 684 kB/s eta 0:00:01\r",
      "\u001b[K     |██████████████████████████████▍ | 11.0 MB 684 kB/s eta 0:00:01\r",
      "\u001b[K     |██████████████████████████████▌ | 11.0 MB 684 kB/s eta 0:00:01\r",
      "\u001b[K     |██████████████████████████████▌ | 11.0 MB 684 kB/s eta 0:00:01\r",
      "\u001b[K     |██████████████████████████████▌ | 11.0 MB 684 kB/s eta 0:00:01\r",
      "\u001b[K     |██████████████████████████████▌ | 11.0 MB 684 kB/s eta 0:00:01\r",
      "\u001b[K     |██████████████████████████████▋ | 11.0 MB 684 kB/s eta 0:00:01\r",
      "\u001b[K     |██████████████████████████████▋ | 11.0 MB 684 kB/s eta 0:00:01\r",
      "\u001b[K     |██████████████████████████████▋ | 11.0 MB 684 kB/s eta 0:00:01\r",
      "\u001b[K     |██████████████████████████████▋ | 11.0 MB 684 kB/s eta 0:00:01\r",
      "\u001b[K     |██████████████████████████████▊ | 11.1 MB 684 kB/s eta 0:00:01\r",
      "\u001b[K     |██████████████████████████████▊ | 11.1 MB 684 kB/s eta 0:00:01\r",
      "\u001b[K     |██████████████████████████████▊ | 11.1 MB 684 kB/s eta 0:00:01\r",
      "\u001b[K     |██████████████████████████████▊ | 11.1 MB 684 kB/s eta 0:00:01\r",
      "\u001b[K     |██████████████████████████████▉ | 11.1 MB 684 kB/s eta 0:00:01\r",
      "\u001b[K     |██████████████████████████████▉ | 11.1 MB 684 kB/s eta 0:00:01\r",
      "\u001b[K     |██████████████████████████████▉ | 11.1 MB 684 kB/s eta 0:00:01\r",
      "\u001b[K     |██████████████████████████████▉ | 11.1 MB 684 kB/s eta 0:00:01\r",
      "\u001b[K     |███████████████████████████████ | 11.1 MB 684 kB/s eta 0:00:01\r",
      "\u001b[K     |███████████████████████████████ | 11.2 MB 684 kB/s eta 0:00:01\r",
      "\u001b[K     |███████████████████████████████ | 11.2 MB 684 kB/s eta 0:00:01\r",
      "\u001b[K     |███████████████████████████████ | 11.2 MB 684 kB/s eta 0:00:01\r",
      "\u001b[K     |███████████████████████████████ | 11.2 MB 684 kB/s eta 0:00:01\r",
      "\u001b[K     |███████████████████████████████ | 11.2 MB 684 kB/s eta 0:00:01\r",
      "\u001b[K     |███████████████████████████████ | 11.2 MB 684 kB/s eta 0:00:01\r",
      "\u001b[K     |███████████████████████████████ | 11.2 MB 684 kB/s eta 0:00:01\r",
      "\u001b[K     |███████████████████████████████▏| 11.2 MB 684 kB/s eta 0:00:01\r",
      "\u001b[K     |███████████████████████████████▏| 11.2 MB 684 kB/s eta 0:00:01\r",
      "\u001b[K     |███████████████████████████████▏| 11.2 MB 684 kB/s eta 0:00:01\r",
      "\u001b[K     |███████████████████████████████▎| 11.3 MB 684 kB/s eta 0:00:01\r",
      "\u001b[K     |███████████████████████████████▎| 11.3 MB 684 kB/s eta 0:00:01\r",
      "\u001b[K     |███████████████████████████████▎| 11.3 MB 684 kB/s eta 0:00:01\r",
      "\u001b[K     |███████████████████████████████▎| 11.3 MB 684 kB/s eta 0:00:01\r",
      "\u001b[K     |███████████████████████████████▍| 11.3 MB 684 kB/s eta 0:00:01\r",
      "\u001b[K     |███████████████████████████████▍| 11.3 MB 684 kB/s eta 0:00:01\r",
      "\u001b[K     |███████████████████████████████▍| 11.3 MB 684 kB/s eta 0:00:01\r",
      "\u001b[K     |███████████████████████████████▍| 11.3 MB 684 kB/s eta 0:00:01\r",
      "\u001b[K     |███████████████████████████████▌| 11.3 MB 684 kB/s eta 0:00:01\r",
      "\u001b[K     |███████████████████████████████▌| 11.3 MB 684 kB/s eta 0:00:01\r",
      "\u001b[K     |███████████████████████████████▌| 11.4 MB 684 kB/s eta 0:00:01"
     ]
    },
    {
     "name": "stdout",
     "output_type": "stream",
     "text": [
      "\r",
      "\u001b[K     |███████████████████████████████▌| 11.4 MB 684 kB/s eta 0:00:01\r",
      "\u001b[K     |███████████████████████████████▋| 11.4 MB 684 kB/s eta 0:00:01\r",
      "\u001b[K     |███████████████████████████████▋| 11.4 MB 684 kB/s eta 0:00:01\r",
      "\u001b[K     |███████████████████████████████▋| 11.4 MB 684 kB/s eta 0:00:01\r",
      "\u001b[K     |███████████████████████████████▋| 11.4 MB 684 kB/s eta 0:00:01\r",
      "\u001b[K     |███████████████████████████████▊| 11.4 MB 684 kB/s eta 0:00:01\r",
      "\u001b[K     |███████████████████████████████▊| 11.4 MB 684 kB/s eta 0:00:01\r",
      "\u001b[K     |███████████████████████████████▊| 11.4 MB 684 kB/s eta 0:00:01\r",
      "\u001b[K     |███████████████████████████████▊| 11.4 MB 684 kB/s eta 0:00:01\r",
      "\u001b[K     |███████████████████████████████▉| 11.5 MB 684 kB/s eta 0:00:01\r",
      "\u001b[K     |███████████████████████████████▉| 11.5 MB 684 kB/s eta 0:00:01\r",
      "\u001b[K     |███████████████████████████████▉| 11.5 MB 684 kB/s eta 0:00:01\r",
      "\u001b[K     |███████████████████████████████▉| 11.5 MB 684 kB/s eta 0:00:01\r",
      "\u001b[K     |████████████████████████████████| 11.5 MB 684 kB/s eta 0:00:01\r",
      "\u001b[K     |████████████████████████████████| 11.5 MB 684 kB/s eta 0:00:01\r",
      "\u001b[K     |████████████████████████████████| 11.5 MB 684 kB/s eta 0:00:01\r",
      "\u001b[K     |████████████████████████████████| 11.5 MB 684 kB/s eta 0:00:01\r",
      "\u001b[K     |████████████████████████████████| 11.5 MB 684 kB/s \r\n"
     ]
    },
    {
     "name": "stdout",
     "output_type": "stream",
     "text": [
      "\u001b[?25hRequirement already satisfied: python-dateutil>=2.7.3 in /opt/conda/lib/python3.8/site-packages (from pandas) (2.8.2)\r\n",
      "Requirement already satisfied: pytz>=2017.3 in /opt/conda/lib/python3.8/site-packages (from pandas) (2021.3)\r\n",
      "Requirement already satisfied: numpy>=1.17.3 in /opt/conda/lib/python3.8/site-packages (from pandas) (1.21.2)\r\n",
      "Requirement already satisfied: six>=1.5 in /opt/conda/lib/python3.8/site-packages (from python-dateutil>=2.7.3->pandas) (1.16.0)\r\n"
     ]
    },
    {
     "name": "stdout",
     "output_type": "stream",
     "text": [
      "Installing collected packages: pandas\r\n"
     ]
    },
    {
     "name": "stdout",
     "output_type": "stream",
     "text": [
      "Successfully installed pandas-1.3.5\r\n",
      "\u001b[33mWARNING: Running pip as the 'root' user can result in broken permissions and conflicting behaviour with the system package manager. It is recommended to use a virtual environment instead: https://pip.pypa.io/warnings/venv\u001b[0m\r\n"
     ]
    },
    {
     "name": "stdout",
     "output_type": "stream",
     "text": [
      "Looking in indexes: https://pypi.org/simple, https://pypi.ngc.nvidia.com\r\n"
     ]
    },
    {
     "name": "stdout",
     "output_type": "stream",
     "text": [
      "Collecting pymystem3\r\n"
     ]
    },
    {
     "name": "stdout",
     "output_type": "stream",
     "text": [
      "  Downloading pymystem3-0.2.0-py3-none-any.whl (10 kB)\r\n",
      "Requirement already satisfied: requests in /opt/conda/lib/python3.8/site-packages (from pymystem3) (2.26.0)\r\n"
     ]
    },
    {
     "name": "stdout",
     "output_type": "stream",
     "text": [
      "Requirement already satisfied: charset-normalizer~=2.0.0 in /opt/conda/lib/python3.8/site-packages (from requests->pymystem3) (2.0.0)\r\n",
      "Requirement already satisfied: idna<4,>=2.5 in /opt/conda/lib/python3.8/site-packages (from requests->pymystem3) (3.1)\r\n",
      "Requirement already satisfied: certifi>=2017.4.17 in /opt/conda/lib/python3.8/site-packages (from requests->pymystem3) (2021.5.30)\r\n",
      "Requirement already satisfied: urllib3<1.27,>=1.21.1 in /opt/conda/lib/python3.8/site-packages (from requests->pymystem3) (1.26.7)\r\n"
     ]
    },
    {
     "name": "stdout",
     "output_type": "stream",
     "text": [
      "Installing collected packages: pymystem3\r\n"
     ]
    },
    {
     "name": "stdout",
     "output_type": "stream",
     "text": [
      "Successfully installed pymystem3-0.2.0\r\n",
      "\u001b[33mWARNING: Running pip as the 'root' user can result in broken permissions and conflicting behaviour with the system package manager. It is recommended to use a virtual environment instead: https://pip.pypa.io/warnings/venv\u001b[0m\r\n"
     ]
    },
    {
     "name": "stdout",
     "output_type": "stream",
     "text": [
      "Looking in indexes: https://pypi.org/simple, https://pypi.ngc.nvidia.com\r\n"
     ]
    },
    {
     "name": "stdout",
     "output_type": "stream",
     "text": [
      "Collecting gensim\r\n"
     ]
    },
    {
     "name": "stdout",
     "output_type": "stream",
     "text": [
      "  Downloading gensim-4.1.2-cp38-cp38-manylinux_2_12_x86_64.manylinux2010_x86_64.whl (24.1 MB)\r\n",
      "\u001b[?25l\r",
      "\u001b[K     |                                | 10 kB 5.3 MB/s eta 0:00:05\r",
      "\u001b[K     |                                | 20 kB 6.8 MB/s eta 0:00:04\r",
      "\u001b[K     |                                | 30 kB 9.0 MB/s eta 0:00:03\r",
      "\u001b[K     |                                | 40 kB 10.1 MB/s eta 0:00:03\r",
      "\u001b[K     |                                | 51 kB 12.1 MB/s eta 0:00:02\r",
      "\u001b[K     |                                | 61 kB 12.1 MB/s eta 0:00:02\r",
      "\u001b[K     |                                | 71 kB 11.6 MB/s eta 0:00:03\r",
      "\u001b[K     |                                | 81 kB 11.4 MB/s eta 0:00:03\r",
      "\u001b[K     |▏                               | 92 kB 12.6 MB/s eta 0:00:02\r",
      "\u001b[K     |▏                               | 102 kB 13.2 MB/s eta 0:00:02\r",
      "\u001b[K     |▏                               | 112 kB 13.2 MB/s eta 0:00:02\r",
      "\u001b[K     |▏                               | 122 kB 13.2 MB/s eta 0:00:02\r",
      "\u001b[K     |▏                               | 133 kB 13.2 MB/s eta 0:00:02\r",
      "\u001b[K     |▏                               | 143 kB 13.2 MB/s eta 0:00:02\r",
      "\u001b[K     |▏                               | 153 kB 13.2 MB/s eta 0:00:02\r",
      "\u001b[K     |▏                               | 163 kB 13.2 MB/s eta 0:00:02\r",
      "\u001b[K     |▎                               | 174 kB 13.2 MB/s eta 0:00:02\r",
      "\u001b[K     |▎                               | 184 kB 13.2 MB/s eta 0:00:02\r",
      "\u001b[K     |▎                               | 194 kB 13.2 MB/s eta 0:00:02\r",
      "\u001b[K     |▎                               | 204 kB 13.2 MB/s eta 0:00:02\r",
      "\u001b[K     |▎                               | 215 kB 13.2 MB/s eta 0:00:02\r",
      "\u001b[K     |▎                               | 225 kB 13.2 MB/s eta 0:00:02\r",
      "\u001b[K     |▎                               | 235 kB 13.2 MB/s eta 0:00:02\r",
      "\u001b[K     |▎                               | 245 kB 13.2 MB/s eta 0:00:02\r",
      "\u001b[K     |▍                               | 256 kB 13.2 MB/s eta 0:00:02\r",
      "\u001b[K     |▍                               | 266 kB 13.2 MB/s eta 0:00:02\r",
      "\u001b[K     |▍                               | 276 kB 13.2 MB/s eta 0:00:02\r",
      "\u001b[K     |▍                               | 286 kB 13.2 MB/s eta 0:00:02\r",
      "\u001b[K     |▍                               | 296 kB 13.2 MB/s eta 0:00:02\r",
      "\u001b[K     |▍                               | 307 kB 13.2 MB/s eta 0:00:02\r",
      "\u001b[K     |▍                               | 317 kB 13.2 MB/s eta 0:00:02\r",
      "\u001b[K     |▍                               | 327 kB 13.2 MB/s eta 0:00:02\r",
      "\u001b[K     |▌                               | 337 kB 13.2 MB/s eta 0:00:02\r",
      "\u001b[K     |▌                               | 348 kB 13.2 MB/s eta 0:00:02\r",
      "\u001b[K     |▌                               | 358 kB 13.2 MB/s eta 0:00:02\r",
      "\u001b[K     |▌                               | 368 kB 13.2 MB/s eta 0:00:02\r",
      "\u001b[K     |▌                               | 378 kB 13.2 MB/s eta 0:00:02\r",
      "\u001b[K     |▌                               | 389 kB 13.2 MB/s eta 0:00:02\r",
      "\u001b[K     |▌                               | 399 kB 13.2 MB/s eta 0:00:02\r",
      "\u001b[K     |▌                               | 409 kB 13.2 MB/s eta 0:00:02\r",
      "\u001b[K     |▋                               | 419 kB 13.2 MB/s eta 0:00:02\r",
      "\u001b[K     |▋                               | 430 kB 13.2 MB/s eta 0:00:02\r",
      "\u001b[K     |▋                               | 440 kB 13.2 MB/s eta 0:00:02\r",
      "\u001b[K     |▋                               | 450 kB 13.2 MB/s eta 0:00:02\r",
      "\u001b[K     |▋                               | 460 kB 13.2 MB/s eta 0:00:02\r",
      "\u001b[K     |▋                               | 471 kB 13.2 MB/s eta 0:00:02\r",
      "\u001b[K     |▋                               | 481 kB 13.2 MB/s eta 0:00:02\r",
      "\u001b[K     |▋                               | 491 kB 13.2 MB/s eta 0:00:02\r",
      "\u001b[K     |▊                               | 501 kB 13.2 MB/s eta 0:00:02\r",
      "\u001b[K     |▊                               | 512 kB 13.2 MB/s eta 0:00:02\r",
      "\u001b[K     |▊                               | 522 kB 13.2 MB/s eta 0:00:02\r",
      "\u001b[K     |▊                               | 532 kB 13.2 MB/s eta 0:00:02\r",
      "\u001b[K     |▊                               | 542 kB 13.2 MB/s eta 0:00:02\r",
      "\u001b[K     |▊                               | 552 kB 13.2 MB/s eta 0:00:02\r",
      "\u001b[K     |▊                               | 563 kB 13.2 MB/s eta 0:00:02\r",
      "\u001b[K     |▊                               | 573 kB 13.2 MB/s eta 0:00:02\r",
      "\u001b[K     |▊                               | 583 kB 13.2 MB/s eta 0:00:02\r",
      "\u001b[K     |▉                               | 593 kB 13.2 MB/s eta 0:00:02\r",
      "\u001b[K     |▉                               | 604 kB 13.2 MB/s eta 0:00:02\r",
      "\u001b[K     |▉                               | 614 kB 13.2 MB/s eta 0:00:02\r",
      "\u001b[K     |▉                               | 624 kB 13.2 MB/s eta 0:00:02\r",
      "\u001b[K     |▉                               | 634 kB 13.2 MB/s eta 0:00:02\r",
      "\u001b[K     |▉                               | 645 kB 13.2 MB/s eta 0:00:02\r",
      "\u001b[K     |▉                               | 655 kB 13.2 MB/s eta 0:00:02\r",
      "\u001b[K     |▉                               | 665 kB 13.2 MB/s eta 0:00:02\r",
      "\u001b[K     |█                               | 675 kB 13.2 MB/s eta 0:00:02\r",
      "\u001b[K     |█                               | 686 kB 13.2 MB/s eta 0:00:02\r",
      "\u001b[K     |█                               | 696 kB 13.2 MB/s eta 0:00:02\r",
      "\u001b[K     |█                               | 706 kB 13.2 MB/s eta 0:00:02\r",
      "\u001b[K     |█                               | 716 kB 13.2 MB/s eta 0:00:02\r",
      "\u001b[K     |█                               | 727 kB 13.2 MB/s eta 0:00:02\r",
      "\u001b[K     |█                               | 737 kB 13.2 MB/s eta 0:00:02\r",
      "\u001b[K     |█                               | 747 kB 13.2 MB/s eta 0:00:02\r",
      "\u001b[K     |█                               | 757 kB 13.2 MB/s eta 0:00:02\r",
      "\u001b[K     |█                               | 768 kB 13.2 MB/s eta 0:00:02\r",
      "\u001b[K     |█                               | 778 kB 13.2 MB/s eta 0:00:02\r",
      "\u001b[K     |█                               | 788 kB 13.2 MB/s eta 0:00:02\r",
      "\u001b[K     |█                               | 798 kB 13.2 MB/s eta 0:00:02\r",
      "\u001b[K     |█                               | 808 kB 13.2 MB/s eta 0:00:02\r",
      "\u001b[K     |█                               | 819 kB 13.2 MB/s eta 0:00:02\r",
      "\u001b[K     |█                               | 829 kB 13.2 MB/s eta 0:00:02\r",
      "\u001b[K     |█▏                              | 839 kB 13.2 MB/s eta 0:00:02\r",
      "\u001b[K     |█▏                              | 849 kB 13.2 MB/s eta 0:00:02"
     ]
    },
    {
     "name": "stdout",
     "output_type": "stream",
     "text": [
      "\r",
      "\u001b[K     |█▏                              | 860 kB 13.2 MB/s eta 0:00:02\r",
      "\u001b[K     |█▏                              | 870 kB 13.2 MB/s eta 0:00:02\r",
      "\u001b[K     |█▏                              | 880 kB 13.2 MB/s eta 0:00:02\r",
      "\u001b[K     |█▏                              | 890 kB 13.2 MB/s eta 0:00:02\r",
      "\u001b[K     |█▏                              | 901 kB 13.2 MB/s eta 0:00:02\r",
      "\u001b[K     |█▏                              | 911 kB 13.2 MB/s eta 0:00:02\r",
      "\u001b[K     |█▎                              | 921 kB 13.2 MB/s eta 0:00:02\r",
      "\u001b[K     |█▎                              | 931 kB 13.2 MB/s eta 0:00:02\r",
      "\u001b[K     |█▎                              | 942 kB 13.2 MB/s eta 0:00:02\r",
      "\u001b[K     |█▎                              | 952 kB 13.2 MB/s eta 0:00:02\r",
      "\u001b[K     |█▎                              | 962 kB 13.2 MB/s eta 0:00:02\r",
      "\u001b[K     |█▎                              | 972 kB 13.2 MB/s eta 0:00:02\r",
      "\u001b[K     |█▎                              | 983 kB 13.2 MB/s eta 0:00:02\r",
      "\u001b[K     |█▎                              | 993 kB 13.2 MB/s eta 0:00:02\r",
      "\u001b[K     |█▍                              | 1.0 MB 13.2 MB/s eta 0:00:02\r",
      "\u001b[K     |█▍                              | 1.0 MB 13.2 MB/s eta 0:00:02\r",
      "\u001b[K     |█▍                              | 1.0 MB 13.2 MB/s eta 0:00:02\r",
      "\u001b[K     |█▍                              | 1.0 MB 13.2 MB/s eta 0:00:02\r",
      "\u001b[K     |█▍                              | 1.0 MB 13.2 MB/s eta 0:00:02\r",
      "\u001b[K     |█▍                              | 1.1 MB 13.2 MB/s eta 0:00:02\r",
      "\u001b[K     |█▍                              | 1.1 MB 13.2 MB/s eta 0:00:02\r",
      "\u001b[K     |█▍                              | 1.1 MB 13.2 MB/s eta 0:00:02\r",
      "\u001b[K     |█▍                              | 1.1 MB 13.2 MB/s eta 0:00:02\r",
      "\u001b[K     |█▌                              | 1.1 MB 13.2 MB/s eta 0:00:02\r",
      "\u001b[K     |█▌                              | 1.1 MB 13.2 MB/s eta 0:00:02\r",
      "\u001b[K     |█▌                              | 1.1 MB 13.2 MB/s eta 0:00:02\r",
      "\u001b[K     |█▌                              | 1.1 MB 13.2 MB/s eta 0:00:02\r",
      "\u001b[K     |█▌                              | 1.1 MB 13.2 MB/s eta 0:00:02\r",
      "\u001b[K     |█▌                              | 1.1 MB 13.2 MB/s eta 0:00:02\r",
      "\u001b[K     |█▌                              | 1.2 MB 13.2 MB/s eta 0:00:02\r",
      "\u001b[K     |█▌                              | 1.2 MB 13.2 MB/s eta 0:00:02\r",
      "\u001b[K     |█▋                              | 1.2 MB 13.2 MB/s eta 0:00:02\r",
      "\u001b[K     |█▋                              | 1.2 MB 13.2 MB/s eta 0:00:02\r",
      "\u001b[K     |█▋                              | 1.2 MB 13.2 MB/s eta 0:00:02\r",
      "\u001b[K     |█▋                              | 1.2 MB 13.2 MB/s eta 0:00:02\r",
      "\u001b[K     |█▋                              | 1.2 MB 13.2 MB/s eta 0:00:02\r",
      "\u001b[K     |█▋                              | 1.2 MB 13.2 MB/s eta 0:00:02\r",
      "\u001b[K     |█▋                              | 1.2 MB 13.2 MB/s eta 0:00:02\r",
      "\u001b[K     |█▋                              | 1.2 MB 13.2 MB/s eta 0:00:02\r",
      "\u001b[K     |█▊                              | 1.3 MB 13.2 MB/s eta 0:00:02\r",
      "\u001b[K     |█▊                              | 1.3 MB 13.2 MB/s eta 0:00:02\r",
      "\u001b[K     |█▊                              | 1.3 MB 13.2 MB/s eta 0:00:02\r",
      "\u001b[K     |█▊                              | 1.3 MB 13.2 MB/s eta 0:00:02\r",
      "\u001b[K     |█▊                              | 1.3 MB 13.2 MB/s eta 0:00:02\r",
      "\u001b[K     |█▊                              | 1.3 MB 13.2 MB/s eta 0:00:02\r",
      "\u001b[K     |█▊                              | 1.3 MB 13.2 MB/s eta 0:00:02\r",
      "\u001b[K     |█▊                              | 1.3 MB 13.2 MB/s eta 0:00:02\r",
      "\u001b[K     |█▉                              | 1.3 MB 13.2 MB/s eta 0:00:02\r",
      "\u001b[K     |█▉                              | 1.4 MB 13.2 MB/s eta 0:00:02\r",
      "\u001b[K     |█▉                              | 1.4 MB 13.2 MB/s eta 0:00:02\r",
      "\u001b[K     |█▉                              | 1.4 MB 13.2 MB/s eta 0:00:02\r",
      "\u001b[K     |█▉                              | 1.4 MB 13.2 MB/s eta 0:00:02\r",
      "\u001b[K     |█▉                              | 1.4 MB 13.2 MB/s eta 0:00:02\r",
      "\u001b[K     |█▉                              | 1.4 MB 13.2 MB/s eta 0:00:02\r",
      "\u001b[K     |█▉                              | 1.4 MB 13.2 MB/s eta 0:00:02\r",
      "\u001b[K     |██                              | 1.4 MB 13.2 MB/s eta 0:00:02\r",
      "\u001b[K     |██                              | 1.4 MB 13.2 MB/s eta 0:00:02\r",
      "\u001b[K     |██                              | 1.4 MB 13.2 MB/s eta 0:00:02\r",
      "\u001b[K     |██                              | 1.5 MB 13.2 MB/s eta 0:00:02\r",
      "\u001b[K     |██                              | 1.5 MB 13.2 MB/s eta 0:00:02\r",
      "\u001b[K     |██                              | 1.5 MB 13.2 MB/s eta 0:00:02\r",
      "\u001b[K     |██                              | 1.5 MB 13.2 MB/s eta 0:00:02\r",
      "\u001b[K     |██                              | 1.5 MB 13.2 MB/s eta 0:00:02\r",
      "\u001b[K     |██                              | 1.5 MB 13.2 MB/s eta 0:00:02"
     ]
    },
    {
     "name": "stdout",
     "output_type": "stream",
     "text": [
      "\r",
      "\u001b[K     |██                              | 1.5 MB 13.2 MB/s eta 0:00:02\r",
      "\u001b[K     |██                              | 1.5 MB 13.2 MB/s eta 0:00:02\r",
      "\u001b[K     |██                              | 1.5 MB 13.2 MB/s eta 0:00:02\r",
      "\u001b[K     |██                              | 1.5 MB 13.2 MB/s eta 0:00:02\r",
      "\u001b[K     |██                              | 1.6 MB 13.2 MB/s eta 0:00:02\r",
      "\u001b[K     |██                              | 1.6 MB 13.2 MB/s eta 0:00:02\r",
      "\u001b[K     |██                              | 1.6 MB 13.2 MB/s eta 0:00:02\r",
      "\u001b[K     |██                              | 1.6 MB 13.2 MB/s eta 0:00:02\r",
      "\u001b[K     |██▏                             | 1.6 MB 13.2 MB/s eta 0:00:02\r",
      "\u001b[K     |██▏                             | 1.6 MB 13.2 MB/s eta 0:00:02\r",
      "\u001b[K     |██▏                             | 1.6 MB 13.2 MB/s eta 0:00:02\r",
      "\u001b[K     |██▏                             | 1.6 MB 13.2 MB/s eta 0:00:02\r",
      "\u001b[K     |██▏                             | 1.6 MB 13.2 MB/s eta 0:00:02\r",
      "\u001b[K     |██▏                             | 1.6 MB 13.2 MB/s eta 0:00:02\r",
      "\u001b[K     |██▏                             | 1.7 MB 13.2 MB/s eta 0:00:02\r",
      "\u001b[K     |██▏                             | 1.7 MB 13.2 MB/s eta 0:00:02\r",
      "\u001b[K     |██▎                             | 1.7 MB 13.2 MB/s eta 0:00:02\r",
      "\u001b[K     |██▎                             | 1.7 MB 13.2 MB/s eta 0:00:02\r",
      "\u001b[K     |██▎                             | 1.7 MB 13.2 MB/s eta 0:00:02\r",
      "\u001b[K     |██▎                             | 1.7 MB 13.2 MB/s eta 0:00:02\r",
      "\u001b[K     |██▎                             | 1.7 MB 13.2 MB/s eta 0:00:02\r",
      "\u001b[K     |██▎                             | 1.7 MB 13.2 MB/s eta 0:00:02\r",
      "\u001b[K     |██▎                             | 1.7 MB 13.2 MB/s eta 0:00:02\r",
      "\u001b[K     |██▎                             | 1.8 MB 13.2 MB/s eta 0:00:02\r",
      "\u001b[K     |██▍                             | 1.8 MB 13.2 MB/s eta 0:00:02\r",
      "\u001b[K     |██▍                             | 1.8 MB 13.2 MB/s eta 0:00:02\r",
      "\u001b[K     |██▍                             | 1.8 MB 13.2 MB/s eta 0:00:02\r",
      "\u001b[K     |██▍                             | 1.8 MB 13.2 MB/s eta 0:00:02\r",
      "\u001b[K     |██▍                             | 1.8 MB 13.2 MB/s eta 0:00:02\r",
      "\u001b[K     |██▍                             | 1.8 MB 13.2 MB/s eta 0:00:02\r",
      "\u001b[K     |██▍                             | 1.8 MB 13.2 MB/s eta 0:00:02\r",
      "\u001b[K     |██▍                             | 1.8 MB 13.2 MB/s eta 0:00:02\r",
      "\u001b[K     |██▌                             | 1.8 MB 13.2 MB/s eta 0:00:02\r",
      "\u001b[K     |██▌                             | 1.9 MB 13.2 MB/s eta 0:00:02\r",
      "\u001b[K     |██▌                             | 1.9 MB 13.2 MB/s eta 0:00:02\r",
      "\u001b[K     |██▌                             | 1.9 MB 13.2 MB/s eta 0:00:02\r",
      "\u001b[K     |██▌                             | 1.9 MB 13.2 MB/s eta 0:00:02\r",
      "\u001b[K     |██▌                             | 1.9 MB 13.2 MB/s eta 0:00:02\r",
      "\u001b[K     |██▌                             | 1.9 MB 13.2 MB/s eta 0:00:02\r",
      "\u001b[K     |██▌                             | 1.9 MB 13.2 MB/s eta 0:00:02\r",
      "\u001b[K     |██▋                             | 1.9 MB 13.2 MB/s eta 0:00:02\r",
      "\u001b[K     |██▋                             | 1.9 MB 13.2 MB/s eta 0:00:02\r",
      "\u001b[K     |██▋                             | 1.9 MB 13.2 MB/s eta 0:00:02\r",
      "\u001b[K     |██▋                             | 2.0 MB 13.2 MB/s eta 0:00:02\r",
      "\u001b[K     |██▋                             | 2.0 MB 13.2 MB/s eta 0:00:02\r",
      "\u001b[K     |██▋                             | 2.0 MB 13.2 MB/s eta 0:00:02\r",
      "\u001b[K     |██▋                             | 2.0 MB 13.2 MB/s eta 0:00:02\r",
      "\u001b[K     |██▋                             | 2.0 MB 13.2 MB/s eta 0:00:02\r",
      "\u001b[K     |██▊                             | 2.0 MB 13.2 MB/s eta 0:00:02\r",
      "\u001b[K     |██▊                             | 2.0 MB 13.2 MB/s eta 0:00:02\r",
      "\u001b[K     |██▊                             | 2.0 MB 13.2 MB/s eta 0:00:02\r",
      "\u001b[K     |██▊                             | 2.0 MB 13.2 MB/s eta 0:00:02\r",
      "\u001b[K     |██▊                             | 2.0 MB 13.2 MB/s eta 0:00:02\r",
      "\u001b[K     |██▊                             | 2.1 MB 13.2 MB/s eta 0:00:02\r",
      "\u001b[K     |██▊                             | 2.1 MB 13.2 MB/s eta 0:00:02\r",
      "\u001b[K     |██▊                             | 2.1 MB 13.2 MB/s eta 0:00:02\r",
      "\u001b[K     |██▊                             | 2.1 MB 13.2 MB/s eta 0:00:02\r",
      "\u001b[K     |██▉                             | 2.1 MB 13.2 MB/s eta 0:00:02\r",
      "\u001b[K     |██▉                             | 2.1 MB 13.2 MB/s eta 0:00:02\r",
      "\u001b[K     |██▉                             | 2.1 MB 13.2 MB/s eta 0:00:02\r",
      "\u001b[K     |██▉                             | 2.1 MB 13.2 MB/s eta 0:00:02\r",
      "\u001b[K     |██▉                             | 2.1 MB 13.2 MB/s eta 0:00:02\r",
      "\u001b[K     |██▉                             | 2.2 MB 13.2 MB/s eta 0:00:02\r",
      "\u001b[K     |██▉                             | 2.2 MB 13.2 MB/s eta 0:00:02\r",
      "\u001b[K     |██▉                             | 2.2 MB 13.2 MB/s eta 0:00:02\r",
      "\u001b[K     |███                             | 2.2 MB 13.2 MB/s eta 0:00:02\r",
      "\u001b[K     |███                             | 2.2 MB 13.2 MB/s eta 0:00:02\r",
      "\u001b[K     |███                             | 2.2 MB 13.2 MB/s eta 0:00:02\r",
      "\u001b[K     |███                             | 2.2 MB 13.2 MB/s eta 0:00:02\r",
      "\u001b[K     |███                             | 2.2 MB 13.2 MB/s eta 0:00:02\r",
      "\u001b[K     |███                             | 2.2 MB 13.2 MB/s eta 0:00:02\r",
      "\u001b[K     |███                             | 2.2 MB 13.2 MB/s eta 0:00:02\r",
      "\u001b[K     |███                             | 2.3 MB 13.2 MB/s eta 0:00:02\r",
      "\u001b[K     |███                             | 2.3 MB 13.2 MB/s eta 0:00:02\r",
      "\u001b[K     |███                             | 2.3 MB 13.2 MB/s eta 0:00:02\r",
      "\u001b[K     |███                             | 2.3 MB 13.2 MB/s eta 0:00:02\r",
      "\u001b[K     |███                             | 2.3 MB 13.2 MB/s eta 0:00:02\r",
      "\u001b[K     |███                             | 2.3 MB 13.2 MB/s eta 0:00:02\r",
      "\u001b[K     |███                             | 2.3 MB 13.2 MB/s eta 0:00:02\r",
      "\u001b[K     |███                             | 2.3 MB 13.2 MB/s eta 0:00:02\r",
      "\u001b[K     |███                             | 2.3 MB 13.2 MB/s eta 0:00:02\r",
      "\u001b[K     |███▏                            | 2.3 MB 13.2 MB/s eta 0:00:02\r",
      "\u001b[K     |███▏                            | 2.4 MB 13.2 MB/s eta 0:00:02\r",
      "\u001b[K     |███▏                            | 2.4 MB 13.2 MB/s eta 0:00:02\r",
      "\u001b[K     |███▏                            | 2.4 MB 13.2 MB/s eta 0:00:02\r",
      "\u001b[K     |███▏                            | 2.4 MB 13.2 MB/s eta 0:00:02\r",
      "\u001b[K     |███▏                            | 2.4 MB 13.2 MB/s eta 0:00:02\r",
      "\u001b[K     |███▏                            | 2.4 MB 13.2 MB/s eta 0:00:02\r",
      "\u001b[K     |███▏                            | 2.4 MB 13.2 MB/s eta 0:00:02\r",
      "\u001b[K     |███▎                            | 2.4 MB 13.2 MB/s eta 0:00:02\r",
      "\u001b[K     |███▎                            | 2.4 MB 13.2 MB/s eta 0:00:02\r",
      "\u001b[K     |███▎                            | 2.4 MB 13.2 MB/s eta 0:00:02"
     ]
    },
    {
     "name": "stdout",
     "output_type": "stream",
     "text": [
      "\r",
      "\u001b[K     |███▎                            | 2.5 MB 13.2 MB/s eta 0:00:02\r",
      "\u001b[K     |███▎                            | 2.5 MB 13.2 MB/s eta 0:00:02\r",
      "\u001b[K     |███▎                            | 2.5 MB 13.2 MB/s eta 0:00:02\r",
      "\u001b[K     |███▎                            | 2.5 MB 13.2 MB/s eta 0:00:02\r",
      "\u001b[K     |███▎                            | 2.5 MB 13.2 MB/s eta 0:00:02\r",
      "\u001b[K     |███▍                            | 2.5 MB 13.2 MB/s eta 0:00:02\r",
      "\u001b[K     |███▍                            | 2.5 MB 13.2 MB/s eta 0:00:02\r",
      "\u001b[K     |███▍                            | 2.5 MB 13.2 MB/s eta 0:00:02\r",
      "\u001b[K     |███▍                            | 2.5 MB 13.2 MB/s eta 0:00:02\r",
      "\u001b[K     |███▍                            | 2.5 MB 13.2 MB/s eta 0:00:02\r",
      "\u001b[K     |███▍                            | 2.6 MB 13.2 MB/s eta 0:00:02\r",
      "\u001b[K     |███▍                            | 2.6 MB 13.2 MB/s eta 0:00:02\r",
      "\u001b[K     |███▍                            | 2.6 MB 13.2 MB/s eta 0:00:02\r",
      "\u001b[K     |███▍                            | 2.6 MB 13.2 MB/s eta 0:00:02\r",
      "\u001b[K     |███▌                            | 2.6 MB 13.2 MB/s eta 0:00:02\r",
      "\u001b[K     |███▌                            | 2.6 MB 13.2 MB/s eta 0:00:02\r",
      "\u001b[K     |███▌                            | 2.6 MB 13.2 MB/s eta 0:00:02\r",
      "\u001b[K     |███▌                            | 2.6 MB 13.2 MB/s eta 0:00:02\r",
      "\u001b[K     |███▌                            | 2.6 MB 13.2 MB/s eta 0:00:02\r",
      "\u001b[K     |███▌                            | 2.7 MB 13.2 MB/s eta 0:00:02\r",
      "\u001b[K     |███▌                            | 2.7 MB 13.2 MB/s eta 0:00:02\r",
      "\u001b[K     |███▌                            | 2.7 MB 13.2 MB/s eta 0:00:02\r",
      "\u001b[K     |███▋                            | 2.7 MB 13.2 MB/s eta 0:00:02\r",
      "\u001b[K     |███▋                            | 2.7 MB 13.2 MB/s eta 0:00:02\r",
      "\u001b[K     |███▋                            | 2.7 MB 13.2 MB/s eta 0:00:02\r",
      "\u001b[K     |███▋                            | 2.7 MB 13.2 MB/s eta 0:00:02\r",
      "\u001b[K     |███▋                            | 2.7 MB 13.2 MB/s eta 0:00:02\r",
      "\u001b[K     |███▋                            | 2.7 MB 13.2 MB/s eta 0:00:02\r",
      "\u001b[K     |███▋                            | 2.7 MB 13.2 MB/s eta 0:00:02\r",
      "\u001b[K     |███▋                            | 2.8 MB 13.2 MB/s eta 0:00:02\r",
      "\u001b[K     |███▊                            | 2.8 MB 13.2 MB/s eta 0:00:02\r",
      "\u001b[K     |███▊                            | 2.8 MB 13.2 MB/s eta 0:00:02\r",
      "\u001b[K     |███▊                            | 2.8 MB 13.2 MB/s eta 0:00:02\r",
      "\u001b[K     |███▊                            | 2.8 MB 13.2 MB/s eta 0:00:02\r",
      "\u001b[K     |███▊                            | 2.8 MB 13.2 MB/s eta 0:00:02\r",
      "\u001b[K     |███▊                            | 2.8 MB 13.2 MB/s eta 0:00:02\r",
      "\u001b[K     |███▊                            | 2.8 MB 13.2 MB/s eta 0:00:02\r",
      "\u001b[K     |███▊                            | 2.8 MB 13.2 MB/s eta 0:00:02\r",
      "\u001b[K     |███▉                            | 2.8 MB 13.2 MB/s eta 0:00:02\r",
      "\u001b[K     |███▉                            | 2.9 MB 13.2 MB/s eta 0:00:02\r",
      "\u001b[K     |███▉                            | 2.9 MB 13.2 MB/s eta 0:00:02\r",
      "\u001b[K     |███▉                            | 2.9 MB 13.2 MB/s eta 0:00:02\r",
      "\u001b[K     |███▉                            | 2.9 MB 13.2 MB/s eta 0:00:02\r",
      "\u001b[K     |███▉                            | 2.9 MB 13.2 MB/s eta 0:00:02\r",
      "\u001b[K     |███▉                            | 2.9 MB 13.2 MB/s eta 0:00:02\r",
      "\u001b[K     |███▉                            | 2.9 MB 13.2 MB/s eta 0:00:02\r",
      "\u001b[K     |████                            | 2.9 MB 13.2 MB/s eta 0:00:02\r",
      "\u001b[K     |████                            | 2.9 MB 13.2 MB/s eta 0:00:02\r",
      "\u001b[K     |████                            | 2.9 MB 13.2 MB/s eta 0:00:02\r",
      "\u001b[K     |████                            | 3.0 MB 13.2 MB/s eta 0:00:02\r",
      "\u001b[K     |████                            | 3.0 MB 13.2 MB/s eta 0:00:02\r",
      "\u001b[K     |████                            | 3.0 MB 13.2 MB/s eta 0:00:02\r",
      "\u001b[K     |████                            | 3.0 MB 13.2 MB/s eta 0:00:02\r",
      "\u001b[K     |████                            | 3.0 MB 13.2 MB/s eta 0:00:02\r",
      "\u001b[K     |████                            | 3.0 MB 13.2 MB/s eta 0:00:02\r",
      "\u001b[K     |████                            | 3.0 MB 13.2 MB/s eta 0:00:02\r",
      "\u001b[K     |████                            | 3.0 MB 13.2 MB/s eta 0:00:02\r",
      "\u001b[K     |████                            | 3.0 MB 13.2 MB/s eta 0:00:02\r",
      "\u001b[K     |████                            | 3.1 MB 13.2 MB/s eta 0:00:02\r",
      "\u001b[K     |████                            | 3.1 MB 13.2 MB/s eta 0:00:02\r",
      "\u001b[K     |████                            | 3.1 MB 13.2 MB/s eta 0:00:02\r",
      "\u001b[K     |████                            | 3.1 MB 13.2 MB/s eta 0:00:02\r",
      "\u001b[K     |████                            | 3.1 MB 13.2 MB/s eta 0:00:02\r",
      "\u001b[K     |████▏                           | 3.1 MB 13.2 MB/s eta 0:00:02\r",
      "\u001b[K     |████▏                           | 3.1 MB 13.2 MB/s eta 0:00:02\r",
      "\u001b[K     |████▏                           | 3.1 MB 13.2 MB/s eta 0:00:02\r",
      "\u001b[K     |████▏                           | 3.1 MB 13.2 MB/s eta 0:00:02\r",
      "\u001b[K     |████▏                           | 3.1 MB 13.2 MB/s eta 0:00:02\r",
      "\u001b[K     |████▏                           | 3.2 MB 13.2 MB/s eta 0:00:02\r",
      "\u001b[K     |████▏                           | 3.2 MB 13.2 MB/s eta 0:00:02\r",
      "\u001b[K     |████▏                           | 3.2 MB 13.2 MB/s eta 0:00:02\r",
      "\u001b[K     |████▎                           | 3.2 MB 13.2 MB/s eta 0:00:02\r",
      "\u001b[K     |████▎                           | 3.2 MB 13.2 MB/s eta 0:00:02\r",
      "\u001b[K     |████▎                           | 3.2 MB 13.2 MB/s eta 0:00:02\r",
      "\u001b[K     |████▎                           | 3.2 MB 13.2 MB/s eta 0:00:02\r",
      "\u001b[K     |████▎                           | 3.2 MB 13.2 MB/s eta 0:00:02\r",
      "\u001b[K     |████▎                           | 3.2 MB 13.2 MB/s eta 0:00:02\r",
      "\u001b[K     |████▎                           | 3.2 MB 13.2 MB/s eta 0:00:02\r",
      "\u001b[K     |████▎                           | 3.3 MB 13.2 MB/s eta 0:00:02\r",
      "\u001b[K     |████▍                           | 3.3 MB 13.2 MB/s eta 0:00:02\r",
      "\u001b[K     |████▍                           | 3.3 MB 13.2 MB/s eta 0:00:02\r",
      "\u001b[K     |████▍                           | 3.3 MB 13.2 MB/s eta 0:00:02\r",
      "\u001b[K     |████▍                           | 3.3 MB 13.2 MB/s eta 0:00:02\r",
      "\u001b[K     |████▍                           | 3.3 MB 13.2 MB/s eta 0:00:02\r",
      "\u001b[K     |████▍                           | 3.3 MB 13.2 MB/s eta 0:00:02\r",
      "\u001b[K     |████▍                           | 3.3 MB 13.2 MB/s eta 0:00:02\r",
      "\u001b[K     |████▍                           | 3.3 MB 13.2 MB/s eta 0:00:02\r",
      "\u001b[K     |████▌                           | 3.3 MB 13.2 MB/s eta 0:00:02\r",
      "\u001b[K     |████▌                           | 3.4 MB 13.2 MB/s eta 0:00:02\r",
      "\u001b[K     |████▌                           | 3.4 MB 13.2 MB/s eta 0:00:02\r",
      "\u001b[K     |████▌                           | 3.4 MB 13.2 MB/s eta 0:00:02\r",
      "\u001b[K     |████▌                           | 3.4 MB 13.2 MB/s eta 0:00:02\r",
      "\u001b[K     |████▌                           | 3.4 MB 13.2 MB/s eta 0:00:02\r",
      "\u001b[K     |████▌                           | 3.4 MB 13.2 MB/s eta 0:00:02\r",
      "\u001b[K     |████▌                           | 3.4 MB 13.2 MB/s eta 0:00:02\r",
      "\u001b[K     |████▋                           | 3.4 MB 13.2 MB/s eta 0:00:02\r",
      "\u001b[K     |████▋                           | 3.4 MB 13.2 MB/s eta 0:00:02\r",
      "\u001b[K     |████▋                           | 3.5 MB 13.2 MB/s eta 0:00:02\r",
      "\u001b[K     |████▋                           | 3.5 MB 13.2 MB/s eta 0:00:02"
     ]
    },
    {
     "name": "stdout",
     "output_type": "stream",
     "text": [
      "\r",
      "\u001b[K     |████▋                           | 3.5 MB 13.2 MB/s eta 0:00:02\r",
      "\u001b[K     |████▋                           | 3.5 MB 13.2 MB/s eta 0:00:02\r",
      "\u001b[K     |████▋                           | 3.5 MB 13.2 MB/s eta 0:00:02\r",
      "\u001b[K     |████▋                           | 3.5 MB 13.2 MB/s eta 0:00:02\r",
      "\u001b[K     |████▊                           | 3.5 MB 13.2 MB/s eta 0:00:02\r",
      "\u001b[K     |████▊                           | 3.5 MB 13.2 MB/s eta 0:00:02\r",
      "\u001b[K     |████▊                           | 3.5 MB 13.2 MB/s eta 0:00:02\r",
      "\u001b[K     |████▊                           | 3.5 MB 13.2 MB/s eta 0:00:02\r",
      "\u001b[K     |████▊                           | 3.6 MB 13.2 MB/s eta 0:00:02\r",
      "\u001b[K     |████▊                           | 3.6 MB 13.2 MB/s eta 0:00:02\r",
      "\u001b[K     |████▊                           | 3.6 MB 13.2 MB/s eta 0:00:02\r",
      "\u001b[K     |████▊                           | 3.6 MB 13.2 MB/s eta 0:00:02\r",
      "\u001b[K     |████▉                           | 3.6 MB 13.2 MB/s eta 0:00:02\r",
      "\u001b[K     |████▉                           | 3.6 MB 13.2 MB/s eta 0:00:02\r",
      "\u001b[K     |████▉                           | 3.6 MB 13.2 MB/s eta 0:00:02\r",
      "\u001b[K     |████▉                           | 3.6 MB 13.2 MB/s eta 0:00:02\r",
      "\u001b[K     |████▉                           | 3.6 MB 13.2 MB/s eta 0:00:02\r",
      "\u001b[K     |████▉                           | 3.6 MB 13.2 MB/s eta 0:00:02\r",
      "\u001b[K     |████▉                           | 3.7 MB 13.2 MB/s eta 0:00:02"
     ]
    },
    {
     "name": "stdout",
     "output_type": "stream",
     "text": [
      "\r",
      "\u001b[K     |████▉                           | 3.7 MB 13.2 MB/s eta 0:00:02\r",
      "\u001b[K     |████▉                           | 3.7 MB 13.2 MB/s eta 0:00:02\r",
      "\u001b[K     |█████                           | 3.7 MB 13.2 MB/s eta 0:00:02\r",
      "\u001b[K     |█████                           | 3.7 MB 13.2 MB/s eta 0:00:02\r",
      "\u001b[K     |█████                           | 3.7 MB 13.2 MB/s eta 0:00:02\r",
      "\u001b[K     |█████                           | 3.7 MB 13.2 MB/s eta 0:00:02\r",
      "\u001b[K     |█████                           | 3.7 MB 13.2 MB/s eta 0:00:02\r",
      "\u001b[K     |█████                           | 3.7 MB 13.2 MB/s eta 0:00:02\r",
      "\u001b[K     |█████                           | 3.7 MB 13.2 MB/s eta 0:00:02\r",
      "\u001b[K     |█████                           | 3.8 MB 13.2 MB/s eta 0:00:02\r",
      "\u001b[K     |█████                           | 3.8 MB 13.2 MB/s eta 0:00:02\r",
      "\u001b[K     |█████                           | 3.8 MB 13.2 MB/s eta 0:00:02\r",
      "\u001b[K     |█████                           | 3.8 MB 13.2 MB/s eta 0:00:02\r",
      "\u001b[K     |█████                           | 3.8 MB 13.2 MB/s eta 0:00:02\r",
      "\u001b[K     |█████                           | 3.8 MB 13.2 MB/s eta 0:00:02\r",
      "\u001b[K     |█████                           | 3.8 MB 13.2 MB/s eta 0:00:02\r",
      "\u001b[K     |█████                           | 3.8 MB 13.2 MB/s eta 0:00:02\r",
      "\u001b[K     |█████                           | 3.8 MB 13.2 MB/s eta 0:00:02\r",
      "\u001b[K     |█████▏                          | 3.9 MB 13.2 MB/s eta 0:00:02\r",
      "\u001b[K     |█████▏                          | 3.9 MB 13.2 MB/s eta 0:00:02\r",
      "\u001b[K     |█████▏                          | 3.9 MB 13.2 MB/s eta 0:00:02\r",
      "\u001b[K     |█████▏                          | 3.9 MB 13.2 MB/s eta 0:00:02\r",
      "\u001b[K     |█████▏                          | 3.9 MB 13.2 MB/s eta 0:00:02\r",
      "\u001b[K     |█████▏                          | 3.9 MB 13.2 MB/s eta 0:00:02\r",
      "\u001b[K     |█████▏                          | 3.9 MB 13.2 MB/s eta 0:00:02\r",
      "\u001b[K     |█████▏                          | 3.9 MB 13.2 MB/s eta 0:00:02\r",
      "\u001b[K     |█████▎                          | 3.9 MB 13.2 MB/s eta 0:00:02\r",
      "\u001b[K     |█████▎                          | 3.9 MB 13.2 MB/s eta 0:00:02\r",
      "\u001b[K     |█████▎                          | 4.0 MB 13.2 MB/s eta 0:00:02\r",
      "\u001b[K     |█████▎                          | 4.0 MB 13.2 MB/s eta 0:00:02\r",
      "\u001b[K     |█████▎                          | 4.0 MB 13.2 MB/s eta 0:00:02\r",
      "\u001b[K     |█████▎                          | 4.0 MB 13.2 MB/s eta 0:00:02\r",
      "\u001b[K     |█████▎                          | 4.0 MB 13.2 MB/s eta 0:00:02\r",
      "\u001b[K     |█████▎                          | 4.0 MB 13.2 MB/s eta 0:00:02\r",
      "\u001b[K     |█████▍                          | 4.0 MB 13.2 MB/s eta 0:00:02\r",
      "\u001b[K     |█████▍                          | 4.0 MB 13.2 MB/s eta 0:00:02\r",
      "\u001b[K     |█████▍                          | 4.0 MB 13.2 MB/s eta 0:00:02\r",
      "\u001b[K     |█████▍                          | 4.0 MB 13.2 MB/s eta 0:00:02\r",
      "\u001b[K     |█████▍                          | 4.1 MB 13.2 MB/s eta 0:00:02\r",
      "\u001b[K     |█████▍                          | 4.1 MB 13.2 MB/s eta 0:00:02\r",
      "\u001b[K     |█████▍                          | 4.1 MB 13.2 MB/s eta 0:00:02\r",
      "\u001b[K     |█████▍                          | 4.1 MB 13.2 MB/s eta 0:00:02\r",
      "\u001b[K     |█████▌                          | 4.1 MB 13.2 MB/s eta 0:00:02\r",
      "\u001b[K     |█████▌                          | 4.1 MB 13.2 MB/s eta 0:00:02\r",
      "\u001b[K     |█████▌                          | 4.1 MB 13.2 MB/s eta 0:00:02\r",
      "\u001b[K     |█████▌                          | 4.1 MB 13.2 MB/s eta 0:00:02\r",
      "\u001b[K     |█████▌                          | 4.1 MB 13.2 MB/s eta 0:00:02\r",
      "\u001b[K     |█████▌                          | 4.1 MB 13.2 MB/s eta 0:00:02\r",
      "\u001b[K     |█████▌                          | 4.2 MB 13.2 MB/s eta 0:00:02\r",
      "\u001b[K     |█████▌                          | 4.2 MB 13.2 MB/s eta 0:00:02\r",
      "\u001b[K     |█████▌                          | 4.2 MB 13.2 MB/s eta 0:00:02\r",
      "\u001b[K     |█████▋                          | 4.2 MB 13.2 MB/s eta 0:00:02\r",
      "\u001b[K     |█████▋                          | 4.2 MB 13.2 MB/s eta 0:00:02\r",
      "\u001b[K     |█████▋                          | 4.2 MB 13.2 MB/s eta 0:00:02\r",
      "\u001b[K     |█████▋                          | 4.2 MB 13.2 MB/s eta 0:00:02\r",
      "\u001b[K     |█████▋                          | 4.2 MB 13.2 MB/s eta 0:00:02\r",
      "\u001b[K     |█████▋                          | 4.2 MB 13.2 MB/s eta 0:00:02"
     ]
    },
    {
     "name": "stdout",
     "output_type": "stream",
     "text": [
      "\r",
      "\u001b[K     |█████▋                          | 4.2 MB 13.2 MB/s eta 0:00:02\r",
      "\u001b[K     |█████▋                          | 4.3 MB 13.2 MB/s eta 0:00:02\r",
      "\u001b[K     |█████▊                          | 4.3 MB 13.2 MB/s eta 0:00:02\r",
      "\u001b[K     |█████▊                          | 4.3 MB 13.2 MB/s eta 0:00:02\r",
      "\u001b[K     |█████▊                          | 4.3 MB 13.2 MB/s eta 0:00:02\r",
      "\u001b[K     |█████▊                          | 4.3 MB 13.2 MB/s eta 0:00:02\r",
      "\u001b[K     |█████▊                          | 4.3 MB 13.2 MB/s eta 0:00:02\r",
      "\u001b[K     |█████▊                          | 4.3 MB 13.2 MB/s eta 0:00:02\r",
      "\u001b[K     |█████▊                          | 4.3 MB 13.2 MB/s eta 0:00:02\r",
      "\u001b[K     |█████▊                          | 4.3 MB 13.2 MB/s eta 0:00:02\r",
      "\u001b[K     |█████▉                          | 4.4 MB 13.2 MB/s eta 0:00:02\r",
      "\u001b[K     |█████▉                          | 4.4 MB 13.2 MB/s eta 0:00:02\r",
      "\u001b[K     |█████▉                          | 4.4 MB 13.2 MB/s eta 0:00:02\r",
      "\u001b[K     |█████▉                          | 4.4 MB 13.2 MB/s eta 0:00:02\r",
      "\u001b[K     |█████▉                          | 4.4 MB 13.2 MB/s eta 0:00:02\r",
      "\u001b[K     |█████▉                          | 4.4 MB 13.2 MB/s eta 0:00:02\r",
      "\u001b[K     |█████▉                          | 4.4 MB 13.2 MB/s eta 0:00:02\r",
      "\u001b[K     |█████▉                          | 4.4 MB 13.2 MB/s eta 0:00:02\r",
      "\u001b[K     |██████                          | 4.4 MB 13.2 MB/s eta 0:00:02\r",
      "\u001b[K     |██████                          | 4.4 MB 13.2 MB/s eta 0:00:02\r",
      "\u001b[K     |██████                          | 4.5 MB 13.2 MB/s eta 0:00:02\r",
      "\u001b[K     |██████                          | 4.5 MB 13.2 MB/s eta 0:00:02\r",
      "\u001b[K     |██████                          | 4.5 MB 13.2 MB/s eta 0:00:02\r",
      "\u001b[K     |██████                          | 4.5 MB 13.2 MB/s eta 0:00:02\r",
      "\u001b[K     |██████                          | 4.5 MB 13.2 MB/s eta 0:00:02\r",
      "\u001b[K     |██████                          | 4.5 MB 13.2 MB/s eta 0:00:02\r",
      "\u001b[K     |██████                          | 4.5 MB 13.2 MB/s eta 0:00:02\r",
      "\u001b[K     |██████                          | 4.5 MB 13.2 MB/s eta 0:00:02\r",
      "\u001b[K     |██████                          | 4.5 MB 13.2 MB/s eta 0:00:02\r",
      "\u001b[K     |██████                          | 4.5 MB 13.2 MB/s eta 0:00:02\r",
      "\u001b[K     |██████                          | 4.6 MB 13.2 MB/s eta 0:00:02\r",
      "\u001b[K     |██████                          | 4.6 MB 13.2 MB/s eta 0:00:02\r",
      "\u001b[K     |██████                          | 4.6 MB 13.2 MB/s eta 0:00:02\r",
      "\u001b[K     |██████                          | 4.6 MB 13.2 MB/s eta 0:00:02\r",
      "\u001b[K     |██████▏                         | 4.6 MB 13.2 MB/s eta 0:00:02\r",
      "\u001b[K     |██████▏                         | 4.6 MB 13.2 MB/s eta 0:00:02\r",
      "\u001b[K     |██████▏                         | 4.6 MB 13.2 MB/s eta 0:00:02\r",
      "\u001b[K     |██████▏                         | 4.6 MB 13.2 MB/s eta 0:00:02\r",
      "\u001b[K     |██████▏                         | 4.6 MB 13.2 MB/s eta 0:00:02\r",
      "\u001b[K     |██████▏                         | 4.6 MB 13.2 MB/s eta 0:00:02\r",
      "\u001b[K     |██████▏                         | 4.7 MB 13.2 MB/s eta 0:00:02\r",
      "\u001b[K     |██████▏                         | 4.7 MB 13.2 MB/s eta 0:00:02\r",
      "\u001b[K     |██████▏                         | 4.7 MB 13.2 MB/s eta 0:00:02\r",
      "\u001b[K     |██████▎                         | 4.7 MB 13.2 MB/s eta 0:00:02\r",
      "\u001b[K     |██████▎                         | 4.7 MB 13.2 MB/s eta 0:00:02\r",
      "\u001b[K     |██████▎                         | 4.7 MB 13.2 MB/s eta 0:00:02\r",
      "\u001b[K     |██████▎                         | 4.7 MB 13.2 MB/s eta 0:00:02\r",
      "\u001b[K     |██████▎                         | 4.7 MB 13.2 MB/s eta 0:00:02\r",
      "\u001b[K     |██████▎                         | 4.7 MB 13.2 MB/s eta 0:00:02\r",
      "\u001b[K     |██████▎                         | 4.8 MB 13.2 MB/s eta 0:00:02\r",
      "\u001b[K     |██████▎                         | 4.8 MB 13.2 MB/s eta 0:00:02\r",
      "\u001b[K     |██████▍                         | 4.8 MB 13.2 MB/s eta 0:00:02\r",
      "\u001b[K     |██████▍                         | 4.8 MB 13.2 MB/s eta 0:00:02\r",
      "\u001b[K     |██████▍                         | 4.8 MB 13.2 MB/s eta 0:00:02\r",
      "\u001b[K     |██████▍                         | 4.8 MB 13.2 MB/s eta 0:00:02\r",
      "\u001b[K     |██████▍                         | 4.8 MB 13.2 MB/s eta 0:00:02\r",
      "\u001b[K     |██████▍                         | 4.8 MB 13.2 MB/s eta 0:00:02\r",
      "\u001b[K     |██████▍                         | 4.8 MB 13.2 MB/s eta 0:00:02\r",
      "\u001b[K     |██████▍                         | 4.8 MB 13.2 MB/s eta 0:00:02\r",
      "\u001b[K     |██████▌                         | 4.9 MB 13.2 MB/s eta 0:00:02\r",
      "\u001b[K     |██████▌                         | 4.9 MB 13.2 MB/s eta 0:00:02\r",
      "\u001b[K     |██████▌                         | 4.9 MB 13.2 MB/s eta 0:00:02\r",
      "\u001b[K     |██████▌                         | 4.9 MB 13.2 MB/s eta 0:00:02\r",
      "\u001b[K     |██████▌                         | 4.9 MB 13.2 MB/s eta 0:00:02\r",
      "\u001b[K     |██████▌                         | 4.9 MB 13.2 MB/s eta 0:00:02\r",
      "\u001b[K     |██████▌                         | 4.9 MB 13.2 MB/s eta 0:00:02\r",
      "\u001b[K     |██████▌                         | 4.9 MB 13.2 MB/s eta 0:00:02\r",
      "\u001b[K     |██████▋                         | 4.9 MB 13.2 MB/s eta 0:00:02\r",
      "\u001b[K     |██████▋                         | 4.9 MB 13.2 MB/s eta 0:00:02\r",
      "\u001b[K     |██████▋                         | 5.0 MB 13.2 MB/s eta 0:00:02\r",
      "\u001b[K     |██████▋                         | 5.0 MB 13.2 MB/s eta 0:00:02\r",
      "\u001b[K     |██████▋                         | 5.0 MB 13.2 MB/s eta 0:00:02\r",
      "\u001b[K     |██████▋                         | 5.0 MB 13.2 MB/s eta 0:00:02\r",
      "\u001b[K     |██████▋                         | 5.0 MB 13.2 MB/s eta 0:00:02\r",
      "\u001b[K     |██████▋                         | 5.0 MB 13.2 MB/s eta 0:00:02\r",
      "\u001b[K     |██████▊                         | 5.0 MB 13.2 MB/s eta 0:00:02\r",
      "\u001b[K     |██████▊                         | 5.0 MB 13.2 MB/s eta 0:00:02\r",
      "\u001b[K     |██████▊                         | 5.0 MB 13.2 MB/s eta 0:00:02\r",
      "\u001b[K     |██████▊                         | 5.0 MB 13.2 MB/s eta 0:00:02\r",
      "\u001b[K     |██████▊                         | 5.1 MB 13.2 MB/s eta 0:00:02\r",
      "\u001b[K     |██████▊                         | 5.1 MB 13.2 MB/s eta 0:00:02\r",
      "\u001b[K     |██████▊                         | 5.1 MB 13.2 MB/s eta 0:00:02\r",
      "\u001b[K     |██████▊                         | 5.1 MB 13.2 MB/s eta 0:00:02\r",
      "\u001b[K     |██████▉                         | 5.1 MB 13.2 MB/s eta 0:00:02\r",
      "\u001b[K     |██████▉                         | 5.1 MB 13.2 MB/s eta 0:00:02\r",
      "\u001b[K     |██████▉                         | 5.1 MB 13.2 MB/s eta 0:00:02\r",
      "\u001b[K     |██████▉                         | 5.1 MB 13.2 MB/s eta 0:00:02\r",
      "\u001b[K     |██████▉                         | 5.1 MB 13.2 MB/s eta 0:00:02\r",
      "\u001b[K     |██████▉                         | 5.2 MB 13.2 MB/s eta 0:00:02\r",
      "\u001b[K     |██████▉                         | 5.2 MB 13.2 MB/s eta 0:00:02\r",
      "\u001b[K     |██████▉                         | 5.2 MB 13.2 MB/s eta 0:00:02\r",
      "\u001b[K     |██████▉                         | 5.2 MB 13.2 MB/s eta 0:00:02\r",
      "\u001b[K     |███████                         | 5.2 MB 13.2 MB/s eta 0:00:02\r",
      "\u001b[K     |███████                         | 5.2 MB 13.2 MB/s eta 0:00:02\r",
      "\u001b[K     |███████                         | 5.2 MB 13.2 MB/s eta 0:00:02\r",
      "\u001b[K     |███████                         | 5.2 MB 13.2 MB/s eta 0:00:02\r",
      "\u001b[K     |███████                         | 5.2 MB 13.2 MB/s eta 0:00:02\r",
      "\u001b[K     |███████                         | 5.2 MB 13.2 MB/s eta 0:00:02\r",
      "\u001b[K     |███████                         | 5.3 MB 13.2 MB/s eta 0:00:02\r",
      "\u001b[K     |███████                         | 5.3 MB 13.2 MB/s eta 0:00:02\r",
      "\u001b[K     |███████                         | 5.3 MB 13.2 MB/s eta 0:00:02\r",
      "\u001b[K     |███████                         | 5.3 MB 13.2 MB/s eta 0:00:02\r",
      "\u001b[K     |███████                         | 5.3 MB 13.2 MB/s eta 0:00:02\r",
      "\u001b[K     |███████                         | 5.3 MB 13.2 MB/s eta 0:00:02"
     ]
    },
    {
     "name": "stdout",
     "output_type": "stream",
     "text": [
      "\r",
      "\u001b[K     |███████                         | 5.3 MB 13.2 MB/s eta 0:00:02\r",
      "\u001b[K     |███████                         | 5.3 MB 13.2 MB/s eta 0:00:02\r",
      "\u001b[K     |███████                         | 5.3 MB 13.2 MB/s eta 0:00:02\r",
      "\u001b[K     |███████                         | 5.3 MB 13.2 MB/s eta 0:00:02\r",
      "\u001b[K     |███████▏                        | 5.4 MB 13.2 MB/s eta 0:00:02\r",
      "\u001b[K     |███████▏                        | 5.4 MB 13.2 MB/s eta 0:00:02\r",
      "\u001b[K     |███████▏                        | 5.4 MB 13.2 MB/s eta 0:00:02\r",
      "\u001b[K     |███████▏                        | 5.4 MB 13.2 MB/s eta 0:00:02\r",
      "\u001b[K     |███████▏                        | 5.4 MB 13.2 MB/s eta 0:00:02\r",
      "\u001b[K     |███████▏                        | 5.4 MB 13.2 MB/s eta 0:00:02\r",
      "\u001b[K     |███████▏                        | 5.4 MB 13.2 MB/s eta 0:00:02\r",
      "\u001b[K     |███████▏                        | 5.4 MB 13.2 MB/s eta 0:00:02\r",
      "\u001b[K     |███████▎                        | 5.4 MB 13.2 MB/s eta 0:00:02\r",
      "\u001b[K     |███████▎                        | 5.4 MB 13.2 MB/s eta 0:00:02\r",
      "\u001b[K     |███████▎                        | 5.5 MB 13.2 MB/s eta 0:00:02\r",
      "\u001b[K     |███████▎                        | 5.5 MB 13.2 MB/s eta 0:00:02\r",
      "\u001b[K     |███████▎                        | 5.5 MB 13.2 MB/s eta 0:00:02\r",
      "\u001b[K     |███████▎                        | 5.5 MB 13.2 MB/s eta 0:00:02\r",
      "\u001b[K     |███████▎                        | 5.5 MB 13.2 MB/s eta 0:00:02\r",
      "\u001b[K     |███████▎                        | 5.5 MB 13.2 MB/s eta 0:00:02\r",
      "\u001b[K     |███████▍                        | 5.5 MB 13.2 MB/s eta 0:00:02\r",
      "\u001b[K     |███████▍                        | 5.5 MB 13.2 MB/s eta 0:00:02\r",
      "\u001b[K     |███████▍                        | 5.5 MB 13.2 MB/s eta 0:00:02\r",
      "\u001b[K     |███████▍                        | 5.6 MB 13.2 MB/s eta 0:00:02\r",
      "\u001b[K     |███████▍                        | 5.6 MB 13.2 MB/s eta 0:00:02\r",
      "\u001b[K     |███████▍                        | 5.6 MB 13.2 MB/s eta 0:00:02\r",
      "\u001b[K     |███████▍                        | 5.6 MB 13.2 MB/s eta 0:00:02\r",
      "\u001b[K     |███████▍                        | 5.6 MB 13.2 MB/s eta 0:00:02\r",
      "\u001b[K     |███████▌                        | 5.6 MB 13.2 MB/s eta 0:00:02\r",
      "\u001b[K     |███████▌                        | 5.6 MB 13.2 MB/s eta 0:00:02\r",
      "\u001b[K     |███████▌                        | 5.6 MB 13.2 MB/s eta 0:00:02\r",
      "\u001b[K     |███████▌                        | 5.6 MB 13.2 MB/s eta 0:00:02\r",
      "\u001b[K     |███████▌                        | 5.6 MB 13.2 MB/s eta 0:00:02\r",
      "\u001b[K     |███████▌                        | 5.7 MB 13.2 MB/s eta 0:00:02\r",
      "\u001b[K     |███████▌                        | 5.7 MB 13.2 MB/s eta 0:00:02\r",
      "\u001b[K     |███████▌                        | 5.7 MB 13.2 MB/s eta 0:00:02\r",
      "\u001b[K     |███████▌                        | 5.7 MB 13.2 MB/s eta 0:00:02\r",
      "\u001b[K     |███████▋                        | 5.7 MB 13.2 MB/s eta 0:00:02\r",
      "\u001b[K     |███████▋                        | 5.7 MB 13.2 MB/s eta 0:00:02\r",
      "\u001b[K     |███████▋                        | 5.7 MB 13.2 MB/s eta 0:00:02\r",
      "\u001b[K     |███████▋                        | 5.7 MB 13.2 MB/s eta 0:00:02\r",
      "\u001b[K     |███████▋                        | 5.7 MB 13.2 MB/s eta 0:00:02\r",
      "\u001b[K     |███████▋                        | 5.7 MB 13.2 MB/s eta 0:00:02\r",
      "\u001b[K     |███████▋                        | 5.8 MB 13.2 MB/s eta 0:00:02\r",
      "\u001b[K     |███████▋                        | 5.8 MB 13.2 MB/s eta 0:00:02\r",
      "\u001b[K     |███████▊                        | 5.8 MB 13.2 MB/s eta 0:00:02\r",
      "\u001b[K     |███████▊                        | 5.8 MB 13.2 MB/s eta 0:00:02\r",
      "\u001b[K     |███████▊                        | 5.8 MB 13.2 MB/s eta 0:00:02\r",
      "\u001b[K     |███████▊                        | 5.8 MB 13.2 MB/s eta 0:00:02\r",
      "\u001b[K     |███████▊                        | 5.8 MB 13.2 MB/s eta 0:00:02\r",
      "\u001b[K     |███████▊                        | 5.8 MB 13.2 MB/s eta 0:00:02\r",
      "\u001b[K     |███████▊                        | 5.8 MB 13.2 MB/s eta 0:00:02\r",
      "\u001b[K     |███████▊                        | 5.8 MB 13.2 MB/s eta 0:00:02\r",
      "\u001b[K     |███████▉                        | 5.9 MB 13.2 MB/s eta 0:00:02\r",
      "\u001b[K     |███████▉                        | 5.9 MB 13.2 MB/s eta 0:00:02\r",
      "\u001b[K     |███████▉                        | 5.9 MB 13.2 MB/s eta 0:00:02"
     ]
    },
    {
     "name": "stdout",
     "output_type": "stream",
     "text": [
      "\r",
      "\u001b[K     |███████▉                        | 5.9 MB 13.2 MB/s eta 0:00:02\r",
      "\u001b[K     |███████▉                        | 5.9 MB 13.2 MB/s eta 0:00:02"
     ]
    },
    {
     "name": "stdout",
     "output_type": "stream",
     "text": [
      "\r",
      "\u001b[K     |███████▉                        | 5.9 MB 13.2 MB/s eta 0:00:02\r",
      "\u001b[K     |███████▉                        | 5.9 MB 13.2 MB/s eta 0:00:02\r",
      "\u001b[K     |███████▉                        | 5.9 MB 13.2 MB/s eta 0:00:02\r",
      "\u001b[K     |████████                        | 5.9 MB 13.2 MB/s eta 0:00:02\r",
      "\u001b[K     |████████                        | 5.9 MB 13.2 MB/s eta 0:00:02\r",
      "\u001b[K     |████████                        | 6.0 MB 13.2 MB/s eta 0:00:02\r",
      "\u001b[K     |████████                        | 6.0 MB 13.2 MB/s eta 0:00:02\r",
      "\u001b[K     |████████                        | 6.0 MB 13.2 MB/s eta 0:00:02\r",
      "\u001b[K     |████████                        | 6.0 MB 13.2 MB/s eta 0:00:02\r",
      "\u001b[K     |████████                        | 6.0 MB 13.2 MB/s eta 0:00:02\r",
      "\u001b[K     |████████                        | 6.0 MB 13.2 MB/s eta 0:00:02\r",
      "\u001b[K     |████████                        | 6.0 MB 13.2 MB/s eta 0:00:02\r",
      "\u001b[K     |████████                        | 6.0 MB 13.2 MB/s eta 0:00:02\r",
      "\u001b[K     |████████                        | 6.0 MB 13.2 MB/s eta 0:00:02\r",
      "\u001b[K     |████████                        | 6.1 MB 13.2 MB/s eta 0:00:02\r",
      "\u001b[K     |████████                        | 6.1 MB 13.2 MB/s eta 0:00:02\r",
      "\u001b[K     |████████                        | 6.1 MB 13.2 MB/s eta 0:00:02\r",
      "\u001b[K     |████████                        | 6.1 MB 13.2 MB/s eta 0:00:02\r",
      "\u001b[K     |████████                        | 6.1 MB 13.2 MB/s eta 0:00:02"
     ]
    },
    {
     "name": "stdout",
     "output_type": "stream",
     "text": [
      "\r",
      "\u001b[K     |████████▏                       | 6.1 MB 13.2 MB/s eta 0:00:02\r",
      "\u001b[K     |████████▏                       | 6.1 MB 13.2 MB/s eta 0:00:02\r",
      "\u001b[K     |████████▏                       | 6.1 MB 13.2 MB/s eta 0:00:02\r",
      "\u001b[K     |████████▏                       | 6.1 MB 13.2 MB/s eta 0:00:02\r",
      "\u001b[K     |████████▏                       | 6.1 MB 13.2 MB/s eta 0:00:02\r",
      "\u001b[K     |████████▏                       | 6.2 MB 13.2 MB/s eta 0:00:02\r",
      "\u001b[K     |████████▏                       | 6.2 MB 13.2 MB/s eta 0:00:02\r",
      "\u001b[K     |████████▏                       | 6.2 MB 13.2 MB/s eta 0:00:02\r",
      "\u001b[K     |████████▏                       | 6.2 MB 13.2 MB/s eta 0:00:02\r",
      "\u001b[K     |████████▎                       | 6.2 MB 13.2 MB/s eta 0:00:02\r",
      "\u001b[K     |████████▎                       | 6.2 MB 13.2 MB/s eta 0:00:02\r",
      "\u001b[K     |████████▎                       | 6.2 MB 13.2 MB/s eta 0:00:02\r",
      "\u001b[K     |████████▎                       | 6.2 MB 13.2 MB/s eta 0:00:02\r",
      "\u001b[K     |████████▎                       | 6.2 MB 13.2 MB/s eta 0:00:02\r",
      "\u001b[K     |████████▎                       | 6.2 MB 13.2 MB/s eta 0:00:02\r",
      "\u001b[K     |████████▎                       | 6.3 MB 13.2 MB/s eta 0:00:02\r",
      "\u001b[K     |████████▎                       | 6.3 MB 13.2 MB/s eta 0:00:02\r",
      "\u001b[K     |████████▍                       | 6.3 MB 13.2 MB/s eta 0:00:02\r",
      "\u001b[K     |████████▍                       | 6.3 MB 13.2 MB/s eta 0:00:02\r",
      "\u001b[K     |████████▍                       | 6.3 MB 13.2 MB/s eta 0:00:02\r",
      "\u001b[K     |████████▍                       | 6.3 MB 13.2 MB/s eta 0:00:02\r",
      "\u001b[K     |████████▍                       | 6.3 MB 13.2 MB/s eta 0:00:02\r",
      "\u001b[K     |████████▍                       | 6.3 MB 13.2 MB/s eta 0:00:02\r",
      "\u001b[K     |████████▍                       | 6.3 MB 13.2 MB/s eta 0:00:02\r",
      "\u001b[K     |████████▍                       | 6.3 MB 13.2 MB/s eta 0:00:02\r",
      "\u001b[K     |████████▌                       | 6.4 MB 13.2 MB/s eta 0:00:02\r",
      "\u001b[K     |████████▌                       | 6.4 MB 13.2 MB/s eta 0:00:02\r",
      "\u001b[K     |████████▌                       | 6.4 MB 13.2 MB/s eta 0:00:02\r",
      "\u001b[K     |████████▌                       | 6.4 MB 13.2 MB/s eta 0:00:02\r",
      "\u001b[K     |████████▌                       | 6.4 MB 13.2 MB/s eta 0:00:02\r",
      "\u001b[K     |████████▌                       | 6.4 MB 13.2 MB/s eta 0:00:02\r",
      "\u001b[K     |████████▌                       | 6.4 MB 13.2 MB/s eta 0:00:02\r",
      "\u001b[K     |████████▌                       | 6.4 MB 13.2 MB/s eta 0:00:02\r",
      "\u001b[K     |████████▋                       | 6.4 MB 13.2 MB/s eta 0:00:02\r",
      "\u001b[K     |████████▋                       | 6.5 MB 13.2 MB/s eta 0:00:02\r",
      "\u001b[K     |████████▋                       | 6.5 MB 13.2 MB/s eta 0:00:02\r",
      "\u001b[K     |████████▋                       | 6.5 MB 13.2 MB/s eta 0:00:02\r",
      "\u001b[K     |████████▋                       | 6.5 MB 13.2 MB/s eta 0:00:02\r",
      "\u001b[K     |████████▋                       | 6.5 MB 13.2 MB/s eta 0:00:02\r",
      "\u001b[K     |████████▋                       | 6.5 MB 13.2 MB/s eta 0:00:02\r",
      "\u001b[K     |████████▋                       | 6.5 MB 13.2 MB/s eta 0:00:02\r",
      "\u001b[K     |████████▊                       | 6.5 MB 13.2 MB/s eta 0:00:02\r",
      "\u001b[K     |████████▊                       | 6.5 MB 13.2 MB/s eta 0:00:02\r",
      "\u001b[K     |████████▊                       | 6.5 MB 13.2 MB/s eta 0:00:02\r",
      "\u001b[K     |████████▊                       | 6.6 MB 13.2 MB/s eta 0:00:02"
     ]
    },
    {
     "name": "stdout",
     "output_type": "stream",
     "text": [
      "\r",
      "\u001b[K     |████████▊                       | 6.6 MB 13.2 MB/s eta 0:00:02\r",
      "\u001b[K     |████████▊                       | 6.6 MB 13.2 MB/s eta 0:00:02\r",
      "\u001b[K     |████████▊                       | 6.6 MB 13.2 MB/s eta 0:00:02\r",
      "\u001b[K     |████████▊                       | 6.6 MB 13.2 MB/s eta 0:00:02\r",
      "\u001b[K     |████████▉                       | 6.6 MB 13.2 MB/s eta 0:00:02\r",
      "\u001b[K     |████████▉                       | 6.6 MB 13.2 MB/s eta 0:00:02\r",
      "\u001b[K     |████████▉                       | 6.6 MB 13.2 MB/s eta 0:00:02\r",
      "\u001b[K     |████████▉                       | 6.6 MB 13.2 MB/s eta 0:00:02\r",
      "\u001b[K     |████████▉                       | 6.6 MB 13.2 MB/s eta 0:00:02\r",
      "\u001b[K     |████████▉                       | 6.7 MB 13.2 MB/s eta 0:00:02\r",
      "\u001b[K     |████████▉                       | 6.7 MB 13.2 MB/s eta 0:00:02\r",
      "\u001b[K     |████████▉                       | 6.7 MB 13.2 MB/s eta 0:00:02\r",
      "\u001b[K     |█████████                       | 6.7 MB 13.2 MB/s eta 0:00:02\r",
      "\u001b[K     |█████████                       | 6.7 MB 13.2 MB/s eta 0:00:02\r",
      "\u001b[K     |█████████                       | 6.7 MB 13.2 MB/s eta 0:00:02\r",
      "\u001b[K     |█████████                       | 6.7 MB 13.2 MB/s eta 0:00:02\r",
      "\u001b[K     |█████████                       | 6.7 MB 13.2 MB/s eta 0:00:02\r",
      "\u001b[K     |█████████                       | 6.7 MB 13.2 MB/s eta 0:00:02\r",
      "\u001b[K     |█████████                       | 6.7 MB 13.2 MB/s eta 0:00:02\r",
      "\u001b[K     |█████████                       | 6.8 MB 13.2 MB/s eta 0:00:02\r",
      "\u001b[K     |█████████                       | 6.8 MB 13.2 MB/s eta 0:00:02\r",
      "\u001b[K     |█████████                       | 6.8 MB 13.2 MB/s eta 0:00:02\r",
      "\u001b[K     |█████████                       | 6.8 MB 13.2 MB/s eta 0:00:02\r",
      "\u001b[K     |█████████                       | 6.8 MB 13.2 MB/s eta 0:00:02\r",
      "\u001b[K     |█████████                       | 6.8 MB 13.2 MB/s eta 0:00:02\r",
      "\u001b[K     |█████████                       | 6.8 MB 13.2 MB/s eta 0:00:02"
     ]
    },
    {
     "name": "stdout",
     "output_type": "stream",
     "text": [
      "\r",
      "\u001b[K     |█████████                       | 6.8 MB 13.2 MB/s eta 0:00:02\r",
      "\u001b[K     |█████████                       | 6.8 MB 13.2 MB/s eta 0:00:02\r",
      "\u001b[K     |█████████                       | 6.9 MB 13.2 MB/s eta 0:00:02\r",
      "\u001b[K     |█████████▏                      | 6.9 MB 13.2 MB/s eta 0:00:02\r",
      "\u001b[K     |█████████▏                      | 6.9 MB 13.2 MB/s eta 0:00:02\r",
      "\u001b[K     |█████████▏                      | 6.9 MB 13.2 MB/s eta 0:00:02\r",
      "\u001b[K     |█████████▏                      | 6.9 MB 13.2 MB/s eta 0:00:02\r",
      "\u001b[K     |█████████▏                      | 6.9 MB 13.2 MB/s eta 0:00:02\r",
      "\u001b[K     |█████████▏                      | 6.9 MB 13.2 MB/s eta 0:00:02\r",
      "\u001b[K     |█████████▏                      | 6.9 MB 13.2 MB/s eta 0:00:02\r",
      "\u001b[K     |█████████▏                      | 6.9 MB 13.2 MB/s eta 0:00:02\r",
      "\u001b[K     |█████████▎                      | 6.9 MB 13.2 MB/s eta 0:00:02\r",
      "\u001b[K     |█████████▎                      | 7.0 MB 13.2 MB/s eta 0:00:02\r",
      "\u001b[K     |█████████▎                      | 7.0 MB 13.2 MB/s eta 0:00:02\r",
      "\u001b[K     |█████████▎                      | 7.0 MB 13.2 MB/s eta 0:00:02\r",
      "\u001b[K     |█████████▎                      | 7.0 MB 13.2 MB/s eta 0:00:02\r",
      "\u001b[K     |█████████▎                      | 7.0 MB 13.2 MB/s eta 0:00:02\r",
      "\u001b[K     |█████████▎                      | 7.0 MB 13.2 MB/s eta 0:00:02\r",
      "\u001b[K     |█████████▎                      | 7.0 MB 13.2 MB/s eta 0:00:02\r",
      "\u001b[K     |█████████▍                      | 7.0 MB 13.2 MB/s eta 0:00:02\r",
      "\u001b[K     |█████████▍                      | 7.0 MB 13.2 MB/s eta 0:00:02\r",
      "\u001b[K     |█████████▍                      | 7.0 MB 13.2 MB/s eta 0:00:02\r",
      "\u001b[K     |█████████▍                      | 7.1 MB 13.2 MB/s eta 0:00:02\r",
      "\u001b[K     |█████████▍                      | 7.1 MB 13.2 MB/s eta 0:00:02\r",
      "\u001b[K     |█████████▍                      | 7.1 MB 13.2 MB/s eta 0:00:02\r",
      "\u001b[K     |█████████▍                      | 7.1 MB 13.2 MB/s eta 0:00:02\r",
      "\u001b[K     |█████████▍                      | 7.1 MB 13.2 MB/s eta 0:00:02\r",
      "\u001b[K     |█████████▌                      | 7.1 MB 13.2 MB/s eta 0:00:02\r",
      "\u001b[K     |█████████▌                      | 7.1 MB 13.2 MB/s eta 0:00:02\r",
      "\u001b[K     |█████████▌                      | 7.1 MB 13.2 MB/s eta 0:00:02\r",
      "\u001b[K     |█████████▌                      | 7.1 MB 13.2 MB/s eta 0:00:02\r",
      "\u001b[K     |█████████▌                      | 7.1 MB 13.2 MB/s eta 0:00:02\r",
      "\u001b[K     |█████████▌                      | 7.2 MB 13.2 MB/s eta 0:00:02"
     ]
    },
    {
     "name": "stdout",
     "output_type": "stream",
     "text": [
      "\r",
      "\u001b[K     |█████████▌                      | 7.2 MB 13.2 MB/s eta 0:00:02\r",
      "\u001b[K     |█████████▌                      | 7.2 MB 13.2 MB/s eta 0:00:02\r",
      "\u001b[K     |█████████▋                      | 7.2 MB 13.2 MB/s eta 0:00:02\r",
      "\u001b[K     |█████████▋                      | 7.2 MB 13.2 MB/s eta 0:00:02\r",
      "\u001b[K     |█████████▋                      | 7.2 MB 13.2 MB/s eta 0:00:02\r",
      "\u001b[K     |█████████▋                      | 7.2 MB 13.2 MB/s eta 0:00:02\r",
      "\u001b[K     |█████████▋                      | 7.2 MB 13.2 MB/s eta 0:00:02\r",
      "\u001b[K     |█████████▋                      | 7.2 MB 13.2 MB/s eta 0:00:02\r",
      "\u001b[K     |█████████▋                      | 7.2 MB 13.2 MB/s eta 0:00:02\r",
      "\u001b[K     |█████████▋                      | 7.3 MB 13.2 MB/s eta 0:00:02\r",
      "\u001b[K     |█████████▋                      | 7.3 MB 13.2 MB/s eta 0:00:02\r",
      "\u001b[K     |█████████▊                      | 7.3 MB 13.2 MB/s eta 0:00:02\r",
      "\u001b[K     |█████████▊                      | 7.3 MB 13.2 MB/s eta 0:00:02\r",
      "\u001b[K     |█████████▊                      | 7.3 MB 13.2 MB/s eta 0:00:02\r",
      "\u001b[K     |█████████▊                      | 7.3 MB 13.2 MB/s eta 0:00:02"
     ]
    },
    {
     "name": "stdout",
     "output_type": "stream",
     "text": [
      "\r",
      "\u001b[K     |█████████▊                      | 7.3 MB 13.2 MB/s eta 0:00:02\r",
      "\u001b[K     |█████████▊                      | 7.3 MB 13.2 MB/s eta 0:00:02\r",
      "\u001b[K     |█████████▊                      | 7.3 MB 13.2 MB/s eta 0:00:02\r",
      "\u001b[K     |█████████▊                      | 7.4 MB 13.2 MB/s eta 0:00:02\r",
      "\u001b[K     |█████████▉                      | 7.4 MB 13.2 MB/s eta 0:00:02\r",
      "\u001b[K     |█████████▉                      | 7.4 MB 13.2 MB/s eta 0:00:02\r",
      "\u001b[K     |█████████▉                      | 7.4 MB 13.2 MB/s eta 0:00:02\r",
      "\u001b[K     |█████████▉                      | 7.4 MB 13.2 MB/s eta 0:00:02\r",
      "\u001b[K     |█████████▉                      | 7.4 MB 13.2 MB/s eta 0:00:02\r",
      "\u001b[K     |█████████▉                      | 7.4 MB 13.2 MB/s eta 0:00:02\r",
      "\u001b[K     |█████████▉                      | 7.4 MB 13.2 MB/s eta 0:00:02\r",
      "\u001b[K     |█████████▉                      | 7.4 MB 13.2 MB/s eta 0:00:02\r",
      "\u001b[K     |██████████                      | 7.4 MB 13.2 MB/s eta 0:00:02\r",
      "\u001b[K     |██████████                      | 7.5 MB 13.2 MB/s eta 0:00:02\r",
      "\u001b[K     |██████████                      | 7.5 MB 13.2 MB/s eta 0:00:02\r",
      "\u001b[K     |██████████                      | 7.5 MB 13.2 MB/s eta 0:00:02\r",
      "\u001b[K     |██████████                      | 7.5 MB 13.2 MB/s eta 0:00:02\r",
      "\u001b[K     |██████████                      | 7.5 MB 13.2 MB/s eta 0:00:02\r",
      "\u001b[K     |██████████                      | 7.5 MB 13.2 MB/s eta 0:00:02\r",
      "\u001b[K     |██████████                      | 7.5 MB 13.2 MB/s eta 0:00:02\r",
      "\u001b[K     |██████████                      | 7.5 MB 13.2 MB/s eta 0:00:02\r",
      "\u001b[K     |██████████                      | 7.5 MB 13.2 MB/s eta 0:00:02\r",
      "\u001b[K     |██████████                      | 7.5 MB 13.2 MB/s eta 0:00:02\r",
      "\u001b[K     |██████████                      | 7.6 MB 13.2 MB/s eta 0:00:02\r",
      "\u001b[K     |██████████                      | 7.6 MB 13.2 MB/s eta 0:00:02\r",
      "\u001b[K     |██████████                      | 7.6 MB 13.2 MB/s eta 0:00:02\r",
      "\u001b[K     |██████████                      | 7.6 MB 13.2 MB/s eta 0:00:02\r",
      "\u001b[K     |██████████                      | 7.6 MB 13.2 MB/s eta 0:00:02\r",
      "\u001b[K     |██████████▏                     | 7.6 MB 13.2 MB/s eta 0:00:02\r",
      "\u001b[K     |██████████▏                     | 7.6 MB 13.2 MB/s eta 0:00:02\r",
      "\u001b[K     |██████████▏                     | 7.6 MB 13.2 MB/s eta 0:00:02\r",
      "\u001b[K     |██████████▏                     | 7.6 MB 13.2 MB/s eta 0:00:02"
     ]
    },
    {
     "name": "stdout",
     "output_type": "stream",
     "text": [
      "\r",
      "\u001b[K     |██████████▏                     | 7.6 MB 13.2 MB/s eta 0:00:02\r",
      "\u001b[K     |██████████▏                     | 7.7 MB 13.2 MB/s eta 0:00:02\r",
      "\u001b[K     |██████████▏                     | 7.7 MB 13.2 MB/s eta 0:00:02\r",
      "\u001b[K     |██████████▏                     | 7.7 MB 13.2 MB/s eta 0:00:02\r",
      "\u001b[K     |██████████▎                     | 7.7 MB 13.2 MB/s eta 0:00:02\r",
      "\u001b[K     |██████████▎                     | 7.7 MB 13.2 MB/s eta 0:00:02\r",
      "\u001b[K     |██████████▎                     | 7.7 MB 13.2 MB/s eta 0:00:02\r",
      "\u001b[K     |██████████▎                     | 7.7 MB 13.2 MB/s eta 0:00:02\r",
      "\u001b[K     |██████████▎                     | 7.7 MB 13.2 MB/s eta 0:00:02\r",
      "\u001b[K     |██████████▎                     | 7.7 MB 13.2 MB/s eta 0:00:02\r",
      "\u001b[K     |██████████▎                     | 7.8 MB 13.2 MB/s eta 0:00:02\r",
      "\u001b[K     |██████████▎                     | 7.8 MB 13.2 MB/s eta 0:00:02\r",
      "\u001b[K     |██████████▎                     | 7.8 MB 13.2 MB/s eta 0:00:02\r",
      "\u001b[K     |██████████▍                     | 7.8 MB 13.2 MB/s eta 0:00:02\r",
      "\u001b[K     |██████████▍                     | 7.8 MB 13.2 MB/s eta 0:00:02\r",
      "\u001b[K     |██████████▍                     | 7.8 MB 13.2 MB/s eta 0:00:02\r",
      "\u001b[K     |██████████▍                     | 7.8 MB 13.2 MB/s eta 0:00:02\r",
      "\u001b[K     |██████████▍                     | 7.8 MB 13.2 MB/s eta 0:00:02\r",
      "\u001b[K     |██████████▍                     | 7.8 MB 13.2 MB/s eta 0:00:02\r",
      "\u001b[K     |██████████▍                     | 7.8 MB 13.2 MB/s eta 0:00:02\r",
      "\u001b[K     |██████████▍                     | 7.9 MB 13.2 MB/s eta 0:00:02\r",
      "\u001b[K     |██████████▌                     | 7.9 MB 13.2 MB/s eta 0:00:02\r",
      "\u001b[K     |██████████▌                     | 7.9 MB 13.2 MB/s eta 0:00:02\r",
      "\u001b[K     |██████████▌                     | 7.9 MB 13.2 MB/s eta 0:00:02\r",
      "\u001b[K     |██████████▌                     | 7.9 MB 13.2 MB/s eta 0:00:02\r",
      "\u001b[K     |██████████▌                     | 7.9 MB 13.2 MB/s eta 0:00:02\r",
      "\u001b[K     |██████████▌                     | 7.9 MB 13.2 MB/s eta 0:00:02\r",
      "\u001b[K     |██████████▌                     | 7.9 MB 13.2 MB/s eta 0:00:02\r",
      "\u001b[K     |██████████▌                     | 7.9 MB 13.2 MB/s eta 0:00:02\r",
      "\u001b[K     |██████████▋                     | 7.9 MB 13.2 MB/s eta 0:00:02"
     ]
    },
    {
     "name": "stdout",
     "output_type": "stream",
     "text": [
      "\r",
      "\u001b[K     |██████████▋                     | 8.0 MB 13.2 MB/s eta 0:00:02\r",
      "\u001b[K     |██████████▋                     | 8.0 MB 13.2 MB/s eta 0:00:02\r",
      "\u001b[K     |██████████▋                     | 8.0 MB 13.2 MB/s eta 0:00:02\r",
      "\u001b[K     |██████████▋                     | 8.0 MB 13.2 MB/s eta 0:00:02\r",
      "\u001b[K     |██████████▋                     | 8.0 MB 13.2 MB/s eta 0:00:02\r",
      "\u001b[K     |██████████▋                     | 8.0 MB 13.2 MB/s eta 0:00:02\r",
      "\u001b[K     |██████████▋                     | 8.0 MB 13.2 MB/s eta 0:00:02\r",
      "\u001b[K     |██████████▊                     | 8.0 MB 13.2 MB/s eta 0:00:02\r",
      "\u001b[K     |██████████▊                     | 8.0 MB 13.2 MB/s eta 0:00:02\r",
      "\u001b[K     |██████████▊                     | 8.0 MB 13.2 MB/s eta 0:00:02\r",
      "\u001b[K     |██████████▊                     | 8.1 MB 13.2 MB/s eta 0:00:02\r",
      "\u001b[K     |██████████▊                     | 8.1 MB 13.2 MB/s eta 0:00:02\r",
      "\u001b[K     |██████████▊                     | 8.1 MB 13.2 MB/s eta 0:00:02\r",
      "\u001b[K     |██████████▊                     | 8.1 MB 13.2 MB/s eta 0:00:02\r",
      "\u001b[K     |██████████▊                     | 8.1 MB 13.2 MB/s eta 0:00:02\r",
      "\u001b[K     |██████████▉                     | 8.1 MB 13.2 MB/s eta 0:00:02\r",
      "\u001b[K     |██████████▉                     | 8.1 MB 13.2 MB/s eta 0:00:02\r",
      "\u001b[K     |██████████▉                     | 8.1 MB 13.2 MB/s eta 0:00:02"
     ]
    },
    {
     "name": "stdout",
     "output_type": "stream",
     "text": [
      "\r",
      "\u001b[K     |██████████▉                     | 8.1 MB 13.2 MB/s eta 0:00:02\r",
      "\u001b[K     |██████████▉                     | 8.2 MB 13.2 MB/s eta 0:00:02\r",
      "\u001b[K     |██████████▉                     | 8.2 MB 13.2 MB/s eta 0:00:02\r",
      "\u001b[K     |██████████▉                     | 8.2 MB 13.2 MB/s eta 0:00:02"
     ]
    },
    {
     "name": "stdout",
     "output_type": "stream",
     "text": [
      "\r",
      "\u001b[K     |██████████▉                     | 8.2 MB 13.2 MB/s eta 0:00:02\r",
      "\u001b[K     |███████████                     | 8.2 MB 13.2 MB/s eta 0:00:02\r",
      "\u001b[K     |███████████                     | 8.2 MB 13.2 MB/s eta 0:00:02\r",
      "\u001b[K     |███████████                     | 8.2 MB 13.2 MB/s eta 0:00:02\r",
      "\u001b[K     |███████████                     | 8.2 MB 13.2 MB/s eta 0:00:02\r",
      "\u001b[K     |███████████                     | 8.2 MB 13.2 MB/s eta 0:00:02\r",
      "\u001b[K     |███████████                     | 8.2 MB 13.2 MB/s eta 0:00:02\r",
      "\u001b[K     |███████████                     | 8.3 MB 13.2 MB/s eta 0:00:02\r",
      "\u001b[K     |███████████                     | 8.3 MB 13.2 MB/s eta 0:00:02\r",
      "\u001b[K     |███████████                     | 8.3 MB 13.2 MB/s eta 0:00:02\r",
      "\u001b[K     |███████████                     | 8.3 MB 13.2 MB/s eta 0:00:02\r",
      "\u001b[K     |███████████                     | 8.3 MB 13.2 MB/s eta 0:00:02\r",
      "\u001b[K     |███████████                     | 8.3 MB 13.2 MB/s eta 0:00:02\r",
      "\u001b[K     |███████████                     | 8.3 MB 13.2 MB/s eta 0:00:02\r",
      "\u001b[K     |███████████                     | 8.3 MB 13.2 MB/s eta 0:00:02\r",
      "\u001b[K     |███████████                     | 8.3 MB 13.2 MB/s eta 0:00:02\r",
      "\u001b[K     |███████████                     | 8.3 MB 13.2 MB/s eta 0:00:02\r",
      "\u001b[K     |███████████                     | 8.4 MB 13.2 MB/s eta 0:00:02\r",
      "\u001b[K     |███████████▏                    | 8.4 MB 13.2 MB/s eta 0:00:02\r",
      "\u001b[K     |███████████▏                    | 8.4 MB 13.2 MB/s eta 0:00:02\r",
      "\u001b[K     |███████████▏                    | 8.4 MB 13.2 MB/s eta 0:00:02\r",
      "\u001b[K     |███████████▏                    | 8.4 MB 13.2 MB/s eta 0:00:02\r",
      "\u001b[K     |███████████▏                    | 8.4 MB 13.2 MB/s eta 0:00:02\r",
      "\u001b[K     |███████████▏                    | 8.4 MB 13.2 MB/s eta 0:00:02\r",
      "\u001b[K     |███████████▏                    | 8.4 MB 13.2 MB/s eta 0:00:02\r",
      "\u001b[K     |███████████▏                    | 8.4 MB 13.2 MB/s eta 0:00:02\r",
      "\u001b[K     |███████████▎                    | 8.4 MB 13.2 MB/s eta 0:00:02\r",
      "\u001b[K     |███████████▎                    | 8.5 MB 13.2 MB/s eta 0:00:02\r",
      "\u001b[K     |███████████▎                    | 8.5 MB 13.2 MB/s eta 0:00:02\r",
      "\u001b[K     |███████████▎                    | 8.5 MB 13.2 MB/s eta 0:00:02\r",
      "\u001b[K     |███████████▎                    | 8.5 MB 13.2 MB/s eta 0:00:02\r",
      "\u001b[K     |███████████▎                    | 8.5 MB 13.2 MB/s eta 0:00:02\r",
      "\u001b[K     |███████████▎                    | 8.5 MB 13.2 MB/s eta 0:00:02\r",
      "\u001b[K     |███████████▎                    | 8.5 MB 13.2 MB/s eta 0:00:02\r",
      "\u001b[K     |███████████▍                    | 8.5 MB 13.2 MB/s eta 0:00:02\r",
      "\u001b[K     |███████████▍                    | 8.5 MB 13.2 MB/s eta 0:00:02\r",
      "\u001b[K     |███████████▍                    | 8.6 MB 13.2 MB/s eta 0:00:02\r",
      "\u001b[K     |███████████▍                    | 8.6 MB 13.2 MB/s eta 0:00:02\r",
      "\u001b[K     |███████████▍                    | 8.6 MB 13.2 MB/s eta 0:00:02\r",
      "\u001b[K     |███████████▍                    | 8.6 MB 13.2 MB/s eta 0:00:02"
     ]
    },
    {
     "name": "stdout",
     "output_type": "stream",
     "text": [
      "\r",
      "\u001b[K     |███████████▍                    | 8.6 MB 13.2 MB/s eta 0:00:02\r",
      "\u001b[K     |███████████▍                    | 8.6 MB 13.2 MB/s eta 0:00:02\r",
      "\u001b[K     |███████████▌                    | 8.6 MB 13.2 MB/s eta 0:00:02\r",
      "\u001b[K     |███████████▌                    | 8.6 MB 13.2 MB/s eta 0:00:02\r",
      "\u001b[K     |███████████▌                    | 8.6 MB 13.2 MB/s eta 0:00:02\r",
      "\u001b[K     |███████████▌                    | 8.6 MB 13.2 MB/s eta 0:00:02\r",
      "\u001b[K     |███████████▌                    | 8.7 MB 13.2 MB/s eta 0:00:02\r",
      "\u001b[K     |███████████▌                    | 8.7 MB 13.2 MB/s eta 0:00:02\r",
      "\u001b[K     |███████████▌                    | 8.7 MB 13.2 MB/s eta 0:00:02\r",
      "\u001b[K     |███████████▌                    | 8.7 MB 13.2 MB/s eta 0:00:02\r",
      "\u001b[K     |███████████▋                    | 8.7 MB 13.2 MB/s eta 0:00:02\r",
      "\u001b[K     |███████████▋                    | 8.7 MB 13.2 MB/s eta 0:00:02\r",
      "\u001b[K     |███████████▋                    | 8.7 MB 13.2 MB/s eta 0:00:02\r",
      "\u001b[K     |███████████▋                    | 8.7 MB 13.2 MB/s eta 0:00:02\r",
      "\u001b[K     |███████████▋                    | 8.7 MB 13.2 MB/s eta 0:00:02\r",
      "\u001b[K     |███████████▋                    | 8.7 MB 13.2 MB/s eta 0:00:02\r",
      "\u001b[K     |███████████▋                    | 8.8 MB 13.2 MB/s eta 0:00:02\r",
      "\u001b[K     |███████████▋                    | 8.8 MB 13.2 MB/s eta 0:00:02\r",
      "\u001b[K     |███████████▋                    | 8.8 MB 13.2 MB/s eta 0:00:02\r",
      "\u001b[K     |███████████▊                    | 8.8 MB 13.2 MB/s eta 0:00:02\r",
      "\u001b[K     |███████████▊                    | 8.8 MB 13.2 MB/s eta 0:00:02\r",
      "\u001b[K     |███████████▊                    | 8.8 MB 13.2 MB/s eta 0:00:02\r",
      "\u001b[K     |███████████▊                    | 8.8 MB 13.2 MB/s eta 0:00:02\r",
      "\u001b[K     |███████████▊                    | 8.8 MB 13.2 MB/s eta 0:00:02\r",
      "\u001b[K     |███████████▊                    | 8.8 MB 13.2 MB/s eta 0:00:02\r",
      "\u001b[K     |███████████▊                    | 8.8 MB 13.2 MB/s eta 0:00:02\r",
      "\u001b[K     |███████████▊                    | 8.9 MB 13.2 MB/s eta 0:00:02\r",
      "\u001b[K     |███████████▉                    | 8.9 MB 13.2 MB/s eta 0:00:02\r",
      "\u001b[K     |███████████▉                    | 8.9 MB 13.2 MB/s eta 0:00:02\r",
      "\u001b[K     |███████████▉                    | 8.9 MB 13.2 MB/s eta 0:00:02\r",
      "\u001b[K     |███████████▉                    | 8.9 MB 13.2 MB/s eta 0:00:02\r",
      "\u001b[K     |███████████▉                    | 8.9 MB 13.2 MB/s eta 0:00:02\r",
      "\u001b[K     |███████████▉                    | 8.9 MB 13.2 MB/s eta 0:00:02\r",
      "\u001b[K     |███████████▉                    | 8.9 MB 13.2 MB/s eta 0:00:02\r",
      "\u001b[K     |███████████▉                    | 8.9 MB 13.2 MB/s eta 0:00:02\r",
      "\u001b[K     |████████████                    | 8.9 MB 13.2 MB/s eta 0:00:02\r",
      "\u001b[K     |████████████                    | 9.0 MB 13.2 MB/s eta 0:00:02\r",
      "\u001b[K     |████████████                    | 9.0 MB 13.2 MB/s eta 0:00:02\r",
      "\u001b[K     |████████████                    | 9.0 MB 13.2 MB/s eta 0:00:02\r",
      "\u001b[K     |████████████                    | 9.0 MB 13.2 MB/s eta 0:00:02\r",
      "\u001b[K     |████████████                    | 9.0 MB 13.2 MB/s eta 0:00:02\r",
      "\u001b[K     |████████████                    | 9.0 MB 13.2 MB/s eta 0:00:02\r",
      "\u001b[K     |████████████                    | 9.0 MB 13.2 MB/s eta 0:00:02\r",
      "\u001b[K     |████████████                    | 9.0 MB 13.2 MB/s eta 0:00:02\r",
      "\u001b[K     |████████████                    | 9.0 MB 11.0 MB/s eta 0:00:02\r",
      "\u001b[K     |████████████                    | 9.1 MB 11.0 MB/s eta 0:00:02\r",
      "\u001b[K     |████████████                    | 9.1 MB 11.0 MB/s eta 0:00:02\r",
      "\u001b[K     |████████████                    | 9.1 MB 11.0 MB/s eta 0:00:02"
     ]
    },
    {
     "name": "stdout",
     "output_type": "stream",
     "text": [
      "\r",
      "\u001b[K     |████████████                    | 9.1 MB 11.0 MB/s eta 0:00:02\r",
      "\u001b[K     |████████████                    | 9.1 MB 11.0 MB/s eta 0:00:02\r",
      "\u001b[K     |████████████                    | 9.1 MB 11.0 MB/s eta 0:00:02\r",
      "\u001b[K     |████████████▏                   | 9.1 MB 11.0 MB/s eta 0:00:02\r",
      "\u001b[K     |████████████▏                   | 9.1 MB 11.0 MB/s eta 0:00:02\r",
      "\u001b[K     |████████████▏                   | 9.1 MB 11.0 MB/s eta 0:00:02\r",
      "\u001b[K     |████████████▏                   | 9.1 MB 11.0 MB/s eta 0:00:02\r",
      "\u001b[K     |████████████▏                   | 9.2 MB 11.0 MB/s eta 0:00:02\r",
      "\u001b[K     |████████████▏                   | 9.2 MB 11.0 MB/s eta 0:00:02\r",
      "\u001b[K     |████████████▏                   | 9.2 MB 11.0 MB/s eta 0:00:02\r",
      "\u001b[K     |████████████▏                   | 9.2 MB 11.0 MB/s eta 0:00:02\r",
      "\u001b[K     |████████████▎                   | 9.2 MB 11.0 MB/s eta 0:00:02\r",
      "\u001b[K     |████████████▎                   | 9.2 MB 11.0 MB/s eta 0:00:02\r",
      "\u001b[K     |████████████▎                   | 9.2 MB 11.0 MB/s eta 0:00:02\r",
      "\u001b[K     |████████████▎                   | 9.2 MB 11.0 MB/s eta 0:00:02\r",
      "\u001b[K     |████████████▎                   | 9.2 MB 11.0 MB/s eta 0:00:02\r",
      "\u001b[K     |████████████▎                   | 9.2 MB 11.0 MB/s eta 0:00:02\r",
      "\u001b[K     |████████████▎                   | 9.3 MB 11.0 MB/s eta 0:00:02\r",
      "\u001b[K     |████████████▎                   | 9.3 MB 11.0 MB/s eta 0:00:02\r",
      "\u001b[K     |████████████▎                   | 9.3 MB 11.0 MB/s eta 0:00:02\r",
      "\u001b[K     |████████████▍                   | 9.3 MB 11.0 MB/s eta 0:00:02\r",
      "\u001b[K     |████████████▍                   | 9.3 MB 11.0 MB/s eta 0:00:02\r",
      "\u001b[K     |████████████▍                   | 9.3 MB 11.0 MB/s eta 0:00:02\r",
      "\u001b[K     |████████████▍                   | 9.3 MB 11.0 MB/s eta 0:00:02\r",
      "\u001b[K     |████████████▍                   | 9.3 MB 11.0 MB/s eta 0:00:02\r",
      "\u001b[K     |████████████▍                   | 9.3 MB 11.0 MB/s eta 0:00:02\r",
      "\u001b[K     |████████████▍                   | 9.3 MB 11.0 MB/s eta 0:00:02\r",
      "\u001b[K     |████████████▍                   | 9.4 MB 11.0 MB/s eta 0:00:02\r",
      "\u001b[K     |████████████▌                   | 9.4 MB 11.0 MB/s eta 0:00:02\r",
      "\u001b[K     |████████████▌                   | 9.4 MB 11.0 MB/s eta 0:00:02\r",
      "\u001b[K     |████████████▌                   | 9.4 MB 11.0 MB/s eta 0:00:02\r",
      "\u001b[K     |████████████▌                   | 9.4 MB 11.0 MB/s eta 0:00:02\r",
      "\u001b[K     |████████████▌                   | 9.4 MB 11.0 MB/s eta 0:00:02\r",
      "\u001b[K     |████████████▌                   | 9.4 MB 11.0 MB/s eta 0:00:02\r",
      "\u001b[K     |████████████▌                   | 9.4 MB 11.0 MB/s eta 0:00:02\r",
      "\u001b[K     |████████████▌                   | 9.4 MB 11.0 MB/s eta 0:00:02\r",
      "\u001b[K     |████████████▋                   | 9.5 MB 11.0 MB/s eta 0:00:02\r",
      "\u001b[K     |████████████▋                   | 9.5 MB 11.0 MB/s eta 0:00:02\r",
      "\u001b[K     |████████████▋                   | 9.5 MB 11.0 MB/s eta 0:00:02\r",
      "\u001b[K     |████████████▋                   | 9.5 MB 11.0 MB/s eta 0:00:02\r",
      "\u001b[K     |████████████▋                   | 9.5 MB 11.0 MB/s eta 0:00:02\r",
      "\u001b[K     |████████████▋                   | 9.5 MB 11.0 MB/s eta 0:00:02\r",
      "\u001b[K     |████████████▋                   | 9.5 MB 11.0 MB/s eta 0:00:02\r",
      "\u001b[K     |████████████▋                   | 9.5 MB 11.0 MB/s eta 0:00:02\r",
      "\u001b[K     |████████████▊                   | 9.5 MB 11.0 MB/s eta 0:00:02\r",
      "\u001b[K     |████████████▊                   | 9.5 MB 11.0 MB/s eta 0:00:02\r",
      "\u001b[K     |████████████▊                   | 9.6 MB 11.0 MB/s eta 0:00:02\r",
      "\u001b[K     |████████████▊                   | 9.6 MB 11.0 MB/s eta 0:00:02\r",
      "\u001b[K     |████████████▊                   | 9.6 MB 11.0 MB/s eta 0:00:02\r",
      "\u001b[K     |████████████▊                   | 9.6 MB 11.0 MB/s eta 0:00:02\r",
      "\u001b[K     |████████████▊                   | 9.6 MB 11.0 MB/s eta 0:00:02\r",
      "\u001b[K     |████████████▊                   | 9.6 MB 11.0 MB/s eta 0:00:02\r",
      "\u001b[K     |████████████▉                   | 9.6 MB 11.0 MB/s eta 0:00:02\r",
      "\u001b[K     |████████████▉                   | 9.6 MB 11.0 MB/s eta 0:00:02\r",
      "\u001b[K     |████████████▉                   | 9.6 MB 11.0 MB/s eta 0:00:02\r",
      "\u001b[K     |████████████▉                   | 9.6 MB 11.0 MB/s eta 0:00:02\r",
      "\u001b[K     |████████████▉                   | 9.7 MB 11.0 MB/s eta 0:00:02\r",
      "\u001b[K     |████████████▉                   | 9.7 MB 11.0 MB/s eta 0:00:02\r",
      "\u001b[K     |████████████▉                   | 9.7 MB 11.0 MB/s eta 0:00:02\r",
      "\u001b[K     |████████████▉                   | 9.7 MB 11.0 MB/s eta 0:00:02\r",
      "\u001b[K     |█████████████                   | 9.7 MB 11.0 MB/s eta 0:00:02\r",
      "\u001b[K     |█████████████                   | 9.7 MB 11.0 MB/s eta 0:00:02\r",
      "\u001b[K     |█████████████                   | 9.7 MB 11.0 MB/s eta 0:00:02\r",
      "\u001b[K     |█████████████                   | 9.7 MB 11.0 MB/s eta 0:00:02\r",
      "\u001b[K     |█████████████                   | 9.7 MB 11.0 MB/s eta 0:00:02\r",
      "\u001b[K     |█████████████                   | 9.7 MB 11.0 MB/s eta 0:00:02\r",
      "\u001b[K     |█████████████                   | 9.8 MB 11.0 MB/s eta 0:00:02\r",
      "\u001b[K     |█████████████                   | 9.8 MB 11.0 MB/s eta 0:00:02\r",
      "\u001b[K     |█████████████                   | 9.8 MB 11.0 MB/s eta 0:00:02\r",
      "\u001b[K     |█████████████                   | 9.8 MB 11.0 MB/s eta 0:00:02\r",
      "\u001b[K     |█████████████                   | 9.8 MB 11.0 MB/s eta 0:00:02\r",
      "\u001b[K     |█████████████                   | 9.8 MB 11.0 MB/s eta 0:00:02\r",
      "\u001b[K     |█████████████                   | 9.8 MB 11.0 MB/s eta 0:00:02\r",
      "\u001b[K     |█████████████                   | 9.8 MB 11.0 MB/s eta 0:00:02\r",
      "\u001b[K     |█████████████                   | 9.8 MB 11.0 MB/s eta 0:00:02\r",
      "\u001b[K     |█████████████                   | 9.9 MB 11.0 MB/s eta 0:00:02\r",
      "\u001b[K     |█████████████                   | 9.9 MB 11.0 MB/s eta 0:00:02\r",
      "\u001b[K     |█████████████▏                  | 9.9 MB 11.0 MB/s eta 0:00:02\r",
      "\u001b[K     |█████████████▏                  | 9.9 MB 11.0 MB/s eta 0:00:02\r",
      "\u001b[K     |█████████████▏                  | 9.9 MB 11.0 MB/s eta 0:00:02"
     ]
    },
    {
     "name": "stdout",
     "output_type": "stream",
     "text": [
      "\r",
      "\u001b[K     |█████████████▏                  | 9.9 MB 11.0 MB/s eta 0:00:02\r",
      "\u001b[K     |█████████████▏                  | 9.9 MB 11.0 MB/s eta 0:00:02\r",
      "\u001b[K     |█████████████▏                  | 9.9 MB 11.0 MB/s eta 0:00:02\r",
      "\u001b[K     |█████████████▏                  | 9.9 MB 11.0 MB/s eta 0:00:02\r",
      "\u001b[K     |█████████████▏                  | 9.9 MB 11.0 MB/s eta 0:00:02\r",
      "\u001b[K     |█████████████▎                  | 10.0 MB 11.0 MB/s eta 0:00:02\r",
      "\u001b[K     |█████████████▎                  | 10.0 MB 11.0 MB/s eta 0:00:02\r",
      "\u001b[K     |█████████████▎                  | 10.0 MB 11.0 MB/s eta 0:00:02\r",
      "\u001b[K     |█████████████▎                  | 10.0 MB 11.0 MB/s eta 0:00:02\r",
      "\u001b[K     |█████████████▎                  | 10.0 MB 11.0 MB/s eta 0:00:02\r",
      "\u001b[K     |█████████████▎                  | 10.0 MB 11.0 MB/s eta 0:00:02\r",
      "\u001b[K     |█████████████▎                  | 10.0 MB 11.0 MB/s eta 0:00:02\r",
      "\u001b[K     |█████████████▎                  | 10.0 MB 11.0 MB/s eta 0:00:02\r",
      "\u001b[K     |█████████████▍                  | 10.0 MB 11.0 MB/s eta 0:00:02\r",
      "\u001b[K     |█████████████▍                  | 10.0 MB 11.0 MB/s eta 0:00:02\r",
      "\u001b[K     |█████████████▍                  | 10.1 MB 11.0 MB/s eta 0:00:02\r",
      "\u001b[K     |█████████████▍                  | 10.1 MB 11.0 MB/s eta 0:00:02\r",
      "\u001b[K     |█████████████▍                  | 10.1 MB 11.0 MB/s eta 0:00:02\r",
      "\u001b[K     |█████████████▍                  | 10.1 MB 11.0 MB/s eta 0:00:02\r",
      "\u001b[K     |█████████████▍                  | 10.1 MB 11.0 MB/s eta 0:00:02\r",
      "\u001b[K     |█████████████▍                  | 10.1 MB 11.0 MB/s eta 0:00:02\r",
      "\u001b[K     |█████████████▌                  | 10.1 MB 11.0 MB/s eta 0:00:02\r",
      "\u001b[K     |█████████████▌                  | 10.1 MB 11.0 MB/s eta 0:00:02\r",
      "\u001b[K     |█████████████▌                  | 10.1 MB 11.0 MB/s eta 0:00:02\r",
      "\u001b[K     |█████████████▌                  | 10.1 MB 11.0 MB/s eta 0:00:02\r",
      "\u001b[K     |█████████████▌                  | 10.2 MB 11.0 MB/s eta 0:00:02\r",
      "\u001b[K     |█████████████▌                  | 10.2 MB 11.0 MB/s eta 0:00:02\r",
      "\u001b[K     |█████████████▌                  | 10.2 MB 11.0 MB/s eta 0:00:02\r",
      "\u001b[K     |█████████████▌                  | 10.2 MB 11.0 MB/s eta 0:00:02\r",
      "\u001b[K     |█████████████▋                  | 10.2 MB 11.0 MB/s eta 0:00:02\r",
      "\u001b[K     |█████████████▋                  | 10.2 MB 11.0 MB/s eta 0:00:02\r",
      "\u001b[K     |█████████████▋                  | 10.2 MB 11.0 MB/s eta 0:00:02\r",
      "\u001b[K     |█████████████▋                  | 10.2 MB 11.0 MB/s eta 0:00:02\r",
      "\u001b[K     |█████████████▋                  | 10.2 MB 11.0 MB/s eta 0:00:02\r",
      "\u001b[K     |█████████████▋                  | 10.3 MB 11.0 MB/s eta 0:00:02\r",
      "\u001b[K     |█████████████▋                  | 10.3 MB 11.0 MB/s eta 0:00:02\r",
      "\u001b[K     |█████████████▋                  | 10.3 MB 11.0 MB/s eta 0:00:02\r",
      "\u001b[K     |█████████████▊                  | 10.3 MB 11.0 MB/s eta 0:00:02\r",
      "\u001b[K     |█████████████▊                  | 10.3 MB 11.0 MB/s eta 0:00:02\r",
      "\u001b[K     |█████████████▊                  | 10.3 MB 11.0 MB/s eta 0:00:02\r",
      "\u001b[K     |█████████████▊                  | 10.3 MB 11.0 MB/s eta 0:00:02\r",
      "\u001b[K     |█████████████▊                  | 10.3 MB 11.0 MB/s eta 0:00:02\r",
      "\u001b[K     |█████████████▊                  | 10.3 MB 11.0 MB/s eta 0:00:02\r",
      "\u001b[K     |█████████████▊                  | 10.3 MB 11.0 MB/s eta 0:00:02\r",
      "\u001b[K     |█████████████▊                  | 10.4 MB 11.0 MB/s eta 0:00:02\r",
      "\u001b[K     |█████████████▊                  | 10.4 MB 11.0 MB/s eta 0:00:02\r",
      "\u001b[K     |█████████████▉                  | 10.4 MB 11.0 MB/s eta 0:00:02\r",
      "\u001b[K     |█████████████▉                  | 10.4 MB 11.0 MB/s eta 0:00:02\r",
      "\u001b[K     |█████████████▉                  | 10.4 MB 11.0 MB/s eta 0:00:02\r",
      "\u001b[K     |█████████████▉                  | 10.4 MB 11.0 MB/s eta 0:00:02\r",
      "\u001b[K     |█████████████▉                  | 10.4 MB 11.0 MB/s eta 0:00:02\r",
      "\u001b[K     |█████████████▉                  | 10.4 MB 11.0 MB/s eta 0:00:02\r",
      "\u001b[K     |█████████████▉                  | 10.4 MB 11.0 MB/s eta 0:00:02\r",
      "\u001b[K     |█████████████▉                  | 10.4 MB 11.0 MB/s eta 0:00:02\r",
      "\u001b[K     |██████████████                  | 10.5 MB 11.0 MB/s eta 0:00:02\r",
      "\u001b[K     |██████████████                  | 10.5 MB 11.0 MB/s eta 0:00:02\r",
      "\u001b[K     |██████████████                  | 10.5 MB 11.0 MB/s eta 0:00:02\r",
      "\u001b[K     |██████████████                  | 10.5 MB 11.0 MB/s eta 0:00:02\r",
      "\u001b[K     |██████████████                  | 10.5 MB 11.0 MB/s eta 0:00:02\r",
      "\u001b[K     |██████████████                  | 10.5 MB 11.0 MB/s eta 0:00:02\r",
      "\u001b[K     |██████████████                  | 10.5 MB 11.0 MB/s eta 0:00:02\r",
      "\u001b[K     |██████████████                  | 10.5 MB 11.0 MB/s eta 0:00:02\r",
      "\u001b[K     |██████████████                  | 10.5 MB 11.0 MB/s eta 0:00:02\r",
      "\u001b[K     |██████████████                  | 10.5 MB 11.0 MB/s eta 0:00:02\r",
      "\u001b[K     |██████████████                  | 10.6 MB 11.0 MB/s eta 0:00:02\r",
      "\u001b[K     |██████████████                  | 10.6 MB 11.0 MB/s eta 0:00:02\r",
      "\u001b[K     |██████████████                  | 10.6 MB 11.0 MB/s eta 0:00:02\r",
      "\u001b[K     |██████████████                  | 10.6 MB 11.0 MB/s eta 0:00:02\r",
      "\u001b[K     |██████████████                  | 10.6 MB 11.0 MB/s eta 0:00:02\r",
      "\u001b[K     |██████████████                  | 10.6 MB 11.0 MB/s eta 0:00:02\r",
      "\u001b[K     |██████████████▏                 | 10.6 MB 11.0 MB/s eta 0:00:02\r",
      "\u001b[K     |██████████████▏                 | 10.6 MB 11.0 MB/s eta 0:00:02\r",
      "\u001b[K     |██████████████▏                 | 10.6 MB 11.0 MB/s eta 0:00:02\r",
      "\u001b[K     |██████████████▏                 | 10.6 MB 11.0 MB/s eta 0:00:02\r",
      "\u001b[K     |██████████████▏                 | 10.7 MB 11.0 MB/s eta 0:00:02\r",
      "\u001b[K     |██████████████▏                 | 10.7 MB 11.0 MB/s eta 0:00:02\r",
      "\u001b[K     |██████████████▏                 | 10.7 MB 11.0 MB/s eta 0:00:02\r",
      "\u001b[K     |██████████████▏                 | 10.7 MB 11.0 MB/s eta 0:00:02\r",
      "\u001b[K     |██████████████▎                 | 10.7 MB 11.0 MB/s eta 0:00:02\r",
      "\u001b[K     |██████████████▎                 | 10.7 MB 11.0 MB/s eta 0:00:02\r",
      "\u001b[K     |██████████████▎                 | 10.7 MB 11.0 MB/s eta 0:00:02\r",
      "\u001b[K     |██████████████▎                 | 10.7 MB 11.0 MB/s eta 0:00:02\r",
      "\u001b[K     |██████████████▎                 | 10.7 MB 11.0 MB/s eta 0:00:02\r",
      "\u001b[K     |██████████████▎                 | 10.8 MB 11.0 MB/s eta 0:00:02\r",
      "\u001b[K     |██████████████▎                 | 10.8 MB 11.0 MB/s eta 0:00:02\r",
      "\u001b[K     |██████████████▎                 | 10.8 MB 11.0 MB/s eta 0:00:02\r",
      "\u001b[K     |██████████████▍                 | 10.8 MB 11.0 MB/s eta 0:00:02\r",
      "\u001b[K     |██████████████▍                 | 10.8 MB 11.0 MB/s eta 0:00:02\r",
      "\u001b[K     |██████████████▍                 | 10.8 MB 11.0 MB/s eta 0:00:02\r",
      "\u001b[K     |██████████████▍                 | 10.8 MB 11.0 MB/s eta 0:00:02\r",
      "\u001b[K     |██████████████▍                 | 10.8 MB 11.0 MB/s eta 0:00:02\r",
      "\u001b[K     |██████████████▍                 | 10.8 MB 11.0 MB/s eta 0:00:02\r",
      "\u001b[K     |██████████████▍                 | 10.8 MB 11.0 MB/s eta 0:00:02\r",
      "\u001b[K     |██████████████▍                 | 10.9 MB 11.0 MB/s eta 0:00:02\r",
      "\u001b[K     |██████████████▍                 | 10.9 MB 11.0 MB/s eta 0:00:02\r",
      "\u001b[K     |██████████████▌                 | 10.9 MB 11.0 MB/s eta 0:00:02\r",
      "\u001b[K     |██████████████▌                 | 10.9 MB 11.0 MB/s eta 0:00:02\r",
      "\u001b[K     |██████████████▌                 | 10.9 MB 11.0 MB/s eta 0:00:02\r",
      "\u001b[K     |██████████████▌                 | 10.9 MB 11.0 MB/s eta 0:00:02\r",
      "\u001b[K     |██████████████▌                 | 10.9 MB 11.0 MB/s eta 0:00:02\r",
      "\u001b[K     |██████████████▌                 | 10.9 MB 11.0 MB/s eta 0:00:02\r",
      "\u001b[K     |██████████████▌                 | 10.9 MB 11.0 MB/s eta 0:00:02\r",
      "\u001b[K     |██████████████▌                 | 10.9 MB 11.0 MB/s eta 0:00:02\r",
      "\u001b[K     |██████████████▋                 | 11.0 MB 11.0 MB/s eta 0:00:02\r",
      "\u001b[K     |██████████████▋                 | 11.0 MB 11.0 MB/s eta 0:00:02\r",
      "\u001b[K     |██████████████▋                 | 11.0 MB 11.0 MB/s eta 0:00:02\r",
      "\u001b[K     |██████████████▋                 | 11.0 MB 11.0 MB/s eta 0:00:02\r",
      "\u001b[K     |██████████████▋                 | 11.0 MB 11.0 MB/s eta 0:00:02\r",
      "\u001b[K     |██████████████▋                 | 11.0 MB 11.0 MB/s eta 0:00:02\r",
      "\u001b[K     |██████████████▋                 | 11.0 MB 11.0 MB/s eta 0:00:02\r",
      "\u001b[K     |██████████████▋                 | 11.0 MB 11.0 MB/s eta 0:00:02\r",
      "\u001b[K     |██████████████▊                 | 11.0 MB 11.0 MB/s eta 0:00:02\r",
      "\u001b[K     |██████████████▊                 | 11.0 MB 11.0 MB/s eta 0:00:02\r",
      "\u001b[K     |██████████████▊                 | 11.1 MB 11.0 MB/s eta 0:00:02"
     ]
    },
    {
     "name": "stdout",
     "output_type": "stream",
     "text": [
      "\r",
      "\u001b[K     |██████████████▊                 | 11.1 MB 11.0 MB/s eta 0:00:02\r",
      "\u001b[K     |██████████████▊                 | 11.1 MB 11.0 MB/s eta 0:00:02\r",
      "\u001b[K     |██████████████▊                 | 11.1 MB 11.0 MB/s eta 0:00:02\r",
      "\u001b[K     |██████████████▊                 | 11.1 MB 11.0 MB/s eta 0:00:02\r",
      "\u001b[K     |██████████████▊                 | 11.1 MB 11.0 MB/s eta 0:00:02\r",
      "\u001b[K     |██████████████▉                 | 11.1 MB 11.0 MB/s eta 0:00:02\r",
      "\u001b[K     |██████████████▉                 | 11.1 MB 11.0 MB/s eta 0:00:02\r",
      "\u001b[K     |██████████████▉                 | 11.1 MB 11.0 MB/s eta 0:00:02\r",
      "\u001b[K     |██████████████▉                 | 11.2 MB 11.0 MB/s eta 0:00:02\r",
      "\u001b[K     |██████████████▉                 | 11.2 MB 11.0 MB/s eta 0:00:02\r",
      "\u001b[K     |██████████████▉                 | 11.2 MB 11.0 MB/s eta 0:00:02\r",
      "\u001b[K     |██████████████▉                 | 11.2 MB 11.0 MB/s eta 0:00:02\r",
      "\u001b[K     |██████████████▉                 | 11.2 MB 11.0 MB/s eta 0:00:02\r",
      "\u001b[K     |███████████████                 | 11.2 MB 11.0 MB/s eta 0:00:02\r",
      "\u001b[K     |███████████████                 | 11.2 MB 11.0 MB/s eta 0:00:02\r",
      "\u001b[K     |███████████████                 | 11.2 MB 11.0 MB/s eta 0:00:02\r",
      "\u001b[K     |███████████████                 | 11.2 MB 11.0 MB/s eta 0:00:02\r",
      "\u001b[K     |███████████████                 | 11.2 MB 11.0 MB/s eta 0:00:02\r",
      "\u001b[K     |███████████████                 | 11.3 MB 11.0 MB/s eta 0:00:02\r",
      "\u001b[K     |███████████████                 | 11.3 MB 11.0 MB/s eta 0:00:02\r",
      "\u001b[K     |███████████████                 | 11.3 MB 11.0 MB/s eta 0:00:02\r",
      "\u001b[K     |███████████████                 | 11.3 MB 11.0 MB/s eta 0:00:02\r",
      "\u001b[K     |███████████████                 | 11.3 MB 11.0 MB/s eta 0:00:02\r",
      "\u001b[K     |███████████████                 | 11.3 MB 11.0 MB/s eta 0:00:02\r",
      "\u001b[K     |███████████████                 | 11.3 MB 11.0 MB/s eta 0:00:02\r",
      "\u001b[K     |███████████████                 | 11.3 MB 11.0 MB/s eta 0:00:02\r",
      "\u001b[K     |███████████████                 | 11.3 MB 11.0 MB/s eta 0:00:02\r",
      "\u001b[K     |███████████████                 | 11.3 MB 11.0 MB/s eta 0:00:02\r",
      "\u001b[K     |███████████████                 | 11.4 MB 11.0 MB/s eta 0:00:02\r",
      "\u001b[K     |███████████████                 | 11.4 MB 11.0 MB/s eta 0:00:02\r",
      "\u001b[K     |███████████████▏                | 11.4 MB 11.0 MB/s eta 0:00:02\r",
      "\u001b[K     |███████████████▏                | 11.4 MB 11.0 MB/s eta 0:00:02\r",
      "\u001b[K     |███████████████▏                | 11.4 MB 11.0 MB/s eta 0:00:02\r",
      "\u001b[K     |███████████████▏                | 11.4 MB 11.0 MB/s eta 0:00:02\r",
      "\u001b[K     |███████████████▏                | 11.4 MB 11.0 MB/s eta 0:00:02\r",
      "\u001b[K     |███████████████▏                | 11.4 MB 11.0 MB/s eta 0:00:02\r",
      "\u001b[K     |███████████████▏                | 11.4 MB 11.0 MB/s eta 0:00:02"
     ]
    },
    {
     "name": "stdout",
     "output_type": "stream",
     "text": [
      "\r",
      "\u001b[K     |███████████████▏                | 11.4 MB 11.0 MB/s eta 0:00:02\r",
      "\u001b[K     |███████████████▎                | 11.5 MB 11.0 MB/s eta 0:00:02\r",
      "\u001b[K     |███████████████▎                | 11.5 MB 11.0 MB/s eta 0:00:02\r",
      "\u001b[K     |███████████████▎                | 11.5 MB 11.0 MB/s eta 0:00:02\r",
      "\u001b[K     |███████████████▎                | 11.5 MB 11.0 MB/s eta 0:00:02\r",
      "\u001b[K     |███████████████▎                | 11.5 MB 11.0 MB/s eta 0:00:02\r",
      "\u001b[K     |███████████████▎                | 11.5 MB 11.0 MB/s eta 0:00:02\r",
      "\u001b[K     |███████████████▎                | 11.5 MB 11.0 MB/s eta 0:00:02\r",
      "\u001b[K     |███████████████▎                | 11.5 MB 11.0 MB/s eta 0:00:02\r",
      "\u001b[K     |███████████████▍                | 11.5 MB 11.0 MB/s eta 0:00:02\r",
      "\u001b[K     |███████████████▍                | 11.6 MB 11.0 MB/s eta 0:00:02\r",
      "\u001b[K     |███████████████▍                | 11.6 MB 11.0 MB/s eta 0:00:02\r",
      "\u001b[K     |███████████████▍                | 11.6 MB 11.0 MB/s eta 0:00:02\r",
      "\u001b[K     |███████████████▍                | 11.6 MB 11.0 MB/s eta 0:00:02\r",
      "\u001b[K     |███████████████▍                | 11.6 MB 11.0 MB/s eta 0:00:02\r",
      "\u001b[K     |███████████████▍                | 11.6 MB 11.0 MB/s eta 0:00:02\r",
      "\u001b[K     |███████████████▍                | 11.6 MB 11.0 MB/s eta 0:00:02\r",
      "\u001b[K     |███████████████▌                | 11.6 MB 11.0 MB/s eta 0:00:02\r",
      "\u001b[K     |███████████████▌                | 11.6 MB 11.0 MB/s eta 0:00:02\r",
      "\u001b[K     |███████████████▌                | 11.6 MB 11.0 MB/s eta 0:00:02\r",
      "\u001b[K     |███████████████▌                | 11.7 MB 11.0 MB/s eta 0:00:02\r",
      "\u001b[K     |███████████████▌                | 11.7 MB 11.0 MB/s eta 0:00:02\r",
      "\u001b[K     |███████████████▌                | 11.7 MB 11.0 MB/s eta 0:00:02\r",
      "\u001b[K     |███████████████▌                | 11.7 MB 11.0 MB/s eta 0:00:02\r",
      "\u001b[K     |███████████████▌                | 11.7 MB 11.0 MB/s eta 0:00:02\r",
      "\u001b[K     |███████████████▋                | 11.7 MB 11.0 MB/s eta 0:00:02\r",
      "\u001b[K     |███████████████▋                | 11.7 MB 11.0 MB/s eta 0:00:02\r",
      "\u001b[K     |███████████████▋                | 11.7 MB 11.0 MB/s eta 0:00:02\r",
      "\u001b[K     |███████████████▋                | 11.7 MB 11.0 MB/s eta 0:00:02\r",
      "\u001b[K     |███████████████▋                | 11.7 MB 11.0 MB/s eta 0:00:02\r",
      "\u001b[K     |███████████████▋                | 11.8 MB 11.0 MB/s eta 0:00:02\r",
      "\u001b[K     |███████████████▋                | 11.8 MB 11.0 MB/s eta 0:00:02\r",
      "\u001b[K     |███████████████▋                | 11.8 MB 11.0 MB/s eta 0:00:02\r",
      "\u001b[K     |███████████████▊                | 11.8 MB 11.0 MB/s eta 0:00:02\r",
      "\u001b[K     |███████████████▊                | 11.8 MB 11.0 MB/s eta 0:00:02\r",
      "\u001b[K     |███████████████▊                | 11.8 MB 11.0 MB/s eta 0:00:02\r",
      "\u001b[K     |███████████████▊                | 11.8 MB 11.0 MB/s eta 0:00:02\r",
      "\u001b[K     |███████████████▊                | 11.8 MB 11.0 MB/s eta 0:00:02\r",
      "\u001b[K     |███████████████▊                | 11.8 MB 11.0 MB/s eta 0:00:02\r",
      "\u001b[K     |███████████████▊                | 11.8 MB 11.0 MB/s eta 0:00:02\r",
      "\u001b[K     |███████████████▊                | 11.9 MB 11.0 MB/s eta 0:00:02\r",
      "\u001b[K     |███████████████▊                | 11.9 MB 11.0 MB/s eta 0:00:02\r",
      "\u001b[K     |███████████████▉                | 11.9 MB 11.0 MB/s eta 0:00:02\r",
      "\u001b[K     |███████████████▉                | 11.9 MB 11.0 MB/s eta 0:00:02\r",
      "\u001b[K     |███████████████▉                | 11.9 MB 11.0 MB/s eta 0:00:02\r",
      "\u001b[K     |███████████████▉                | 11.9 MB 11.0 MB/s eta 0:00:02\r",
      "\u001b[K     |███████████████▉                | 11.9 MB 11.0 MB/s eta 0:00:02\r",
      "\u001b[K     |███████████████▉                | 11.9 MB 11.0 MB/s eta 0:00:02\r",
      "\u001b[K     |███████████████▉                | 11.9 MB 11.0 MB/s eta 0:00:02\r",
      "\u001b[K     |███████████████▉                | 12.0 MB 11.0 MB/s eta 0:00:02\r",
      "\u001b[K     |████████████████                | 12.0 MB 11.0 MB/s eta 0:00:02\r",
      "\u001b[K     |████████████████                | 12.0 MB 11.0 MB/s eta 0:00:02\r",
      "\u001b[K     |████████████████                | 12.0 MB 11.0 MB/s eta 0:00:02\r",
      "\u001b[K     |████████████████                | 12.0 MB 11.0 MB/s eta 0:00:02\r",
      "\u001b[K     |████████████████                | 12.0 MB 11.0 MB/s eta 0:00:02\r",
      "\u001b[K     |████████████████                | 12.0 MB 11.0 MB/s eta 0:00:02\r",
      "\u001b[K     |████████████████                | 12.0 MB 11.0 MB/s eta 0:00:02\r",
      "\u001b[K     |████████████████                | 12.0 MB 11.0 MB/s eta 0:00:02\r",
      "\u001b[K     |████████████████                | 12.0 MB 11.0 MB/s eta 0:00:02\r",
      "\u001b[K     |████████████████                | 12.1 MB 11.0 MB/s eta 0:00:02\r",
      "\u001b[K     |████████████████                | 12.1 MB 11.0 MB/s eta 0:00:02"
     ]
    },
    {
     "name": "stdout",
     "output_type": "stream",
     "text": [
      "\r",
      "\u001b[K     |████████████████                | 12.1 MB 11.0 MB/s eta 0:00:02\r",
      "\u001b[K     |████████████████                | 12.1 MB 11.0 MB/s eta 0:00:02\r",
      "\u001b[K     |████████████████                | 12.1 MB 11.0 MB/s eta 0:00:02\r",
      "\u001b[K     |████████████████                | 12.1 MB 11.0 MB/s eta 0:00:02\r",
      "\u001b[K     |████████████████                | 12.1 MB 11.0 MB/s eta 0:00:02\r",
      "\u001b[K     |████████████████▏               | 12.1 MB 11.0 MB/s eta 0:00:02\r",
      "\u001b[K     |████████████████▏               | 12.1 MB 11.0 MB/s eta 0:00:02\r",
      "\u001b[K     |████████████████▏               | 12.1 MB 11.0 MB/s eta 0:00:02\r",
      "\u001b[K     |████████████████▏               | 12.2 MB 11.0 MB/s eta 0:00:02\r",
      "\u001b[K     |████████████████▏               | 12.2 MB 11.0 MB/s eta 0:00:02\r",
      "\u001b[K     |████████████████▏               | 12.2 MB 11.0 MB/s eta 0:00:02\r",
      "\u001b[K     |████████████████▏               | 12.2 MB 11.0 MB/s eta 0:00:02\r",
      "\u001b[K     |████████████████▏               | 12.2 MB 11.0 MB/s eta 0:00:02\r",
      "\u001b[K     |████████████████▎               | 12.2 MB 11.0 MB/s eta 0:00:02\r",
      "\u001b[K     |████████████████▎               | 12.2 MB 11.0 MB/s eta 0:00:02\r",
      "\u001b[K     |████████████████▎               | 12.2 MB 11.0 MB/s eta 0:00:02\r",
      "\u001b[K     |████████████████▎               | 12.2 MB 11.0 MB/s eta 0:00:02\r",
      "\u001b[K     |████████████████▎               | 12.2 MB 11.0 MB/s eta 0:00:02\r",
      "\u001b[K     |████████████████▎               | 12.3 MB 11.0 MB/s eta 0:00:02\r",
      "\u001b[K     |████████████████▎               | 12.3 MB 11.0 MB/s eta 0:00:02\r",
      "\u001b[K     |████████████████▎               | 12.3 MB 11.0 MB/s eta 0:00:02\r",
      "\u001b[K     |████████████████▍               | 12.3 MB 11.0 MB/s eta 0:00:02\r",
      "\u001b[K     |████████████████▍               | 12.3 MB 11.0 MB/s eta 0:00:02\r",
      "\u001b[K     |████████████████▍               | 12.3 MB 11.0 MB/s eta 0:00:02\r",
      "\u001b[K     |████████████████▍               | 12.3 MB 11.0 MB/s eta 0:00:02\r",
      "\u001b[K     |████████████████▍               | 12.3 MB 11.0 MB/s eta 0:00:02\r",
      "\u001b[K     |████████████████▍               | 12.3 MB 11.0 MB/s eta 0:00:02\r",
      "\u001b[K     |████████████████▍               | 12.3 MB 11.0 MB/s eta 0:00:02\r",
      "\u001b[K     |████████████████▍               | 12.4 MB 11.0 MB/s eta 0:00:02\r",
      "\u001b[K     |████████████████▍               | 12.4 MB 11.0 MB/s eta 0:00:02\r",
      "\u001b[K     |████████████████▌               | 12.4 MB 11.0 MB/s eta 0:00:02\r",
      "\u001b[K     |████████████████▌               | 12.4 MB 11.0 MB/s eta 0:00:02\r",
      "\u001b[K     |████████████████▌               | 12.4 MB 11.0 MB/s eta 0:00:02\r",
      "\u001b[K     |████████████████▌               | 12.4 MB 11.0 MB/s eta 0:00:02\r",
      "\u001b[K     |████████████████▌               | 12.4 MB 11.0 MB/s eta 0:00:02\r",
      "\u001b[K     |████████████████▌               | 12.4 MB 11.0 MB/s eta 0:00:02\r",
      "\u001b[K     |████████████████▌               | 12.4 MB 11.0 MB/s eta 0:00:02\r",
      "\u001b[K     |████████████████▌               | 12.5 MB 11.0 MB/s eta 0:00:02\r",
      "\u001b[K     |████████████████▋               | 12.5 MB 11.0 MB/s eta 0:00:02\r",
      "\u001b[K     |████████████████▋               | 12.5 MB 11.0 MB/s eta 0:00:02\r",
      "\u001b[K     |████████████████▋               | 12.5 MB 11.0 MB/s eta 0:00:02\r",
      "\u001b[K     |████████████████▋               | 12.5 MB 11.0 MB/s eta 0:00:02\r",
      "\u001b[K     |████████████████▋               | 12.5 MB 11.0 MB/s eta 0:00:02\r",
      "\u001b[K     |████████████████▋               | 12.5 MB 11.0 MB/s eta 0:00:02\r",
      "\u001b[K     |████████████████▋               | 12.5 MB 11.0 MB/s eta 0:00:02\r",
      "\u001b[K     |████████████████▋               | 12.5 MB 11.0 MB/s eta 0:00:02\r",
      "\u001b[K     |████████████████▊               | 12.5 MB 11.0 MB/s eta 0:00:02\r",
      "\u001b[K     |████████████████▊               | 12.6 MB 11.0 MB/s eta 0:00:02\r",
      "\u001b[K     |████████████████▊               | 12.6 MB 11.0 MB/s eta 0:00:02\r",
      "\u001b[K     |████████████████▊               | 12.6 MB 11.0 MB/s eta 0:00:02\r",
      "\u001b[K     |████████████████▊               | 12.6 MB 11.0 MB/s eta 0:00:02\r",
      "\u001b[K     |████████████████▊               | 12.6 MB 11.0 MB/s eta 0:00:02\r",
      "\u001b[K     |████████████████▊               | 12.6 MB 11.0 MB/s eta 0:00:02\r",
      "\u001b[K     |████████████████▊               | 12.6 MB 11.0 MB/s eta 0:00:02\r",
      "\u001b[K     |████████████████▉               | 12.6 MB 11.0 MB/s eta 0:00:02\r",
      "\u001b[K     |████████████████▉               | 12.6 MB 11.0 MB/s eta 0:00:02\r",
      "\u001b[K     |████████████████▉               | 12.6 MB 11.0 MB/s eta 0:00:02\r",
      "\u001b[K     |████████████████▉               | 12.7 MB 11.0 MB/s eta 0:00:02\r",
      "\u001b[K     |████████████████▉               | 12.7 MB 11.0 MB/s eta 0:00:02\r",
      "\u001b[K     |████████████████▉               | 12.7 MB 11.0 MB/s eta 0:00:02\r",
      "\u001b[K     |████████████████▉               | 12.7 MB 11.0 MB/s eta 0:00:02\r",
      "\u001b[K     |████████████████▉               | 12.7 MB 11.0 MB/s eta 0:00:02\r",
      "\u001b[K     |█████████████████               | 12.7 MB 11.0 MB/s eta 0:00:02\r",
      "\u001b[K     |█████████████████               | 12.7 MB 11.0 MB/s eta 0:00:02\r",
      "\u001b[K     |█████████████████               | 12.7 MB 11.0 MB/s eta 0:00:02\r",
      "\u001b[K     |█████████████████               | 12.7 MB 11.0 MB/s eta 0:00:02\r",
      "\u001b[K     |█████████████████               | 12.7 MB 11.0 MB/s eta 0:00:02\r",
      "\u001b[K     |█████████████████               | 12.8 MB 11.0 MB/s eta 0:00:02\r",
      "\u001b[K     |█████████████████               | 12.8 MB 11.0 MB/s eta 0:00:02\r",
      "\u001b[K     |█████████████████               | 12.8 MB 11.0 MB/s eta 0:00:02\r",
      "\u001b[K     |█████████████████               | 12.8 MB 11.0 MB/s eta 0:00:02\r",
      "\u001b[K     |█████████████████               | 12.8 MB 11.0 MB/s eta 0:00:02\r",
      "\u001b[K     |█████████████████               | 12.8 MB 11.0 MB/s eta 0:00:02"
     ]
    },
    {
     "name": "stdout",
     "output_type": "stream",
     "text": [
      "\r",
      "\u001b[K     |█████████████████               | 12.8 MB 11.0 MB/s eta 0:00:02\r",
      "\u001b[K     |█████████████████               | 12.8 MB 11.0 MB/s eta 0:00:02\r",
      "\u001b[K     |█████████████████               | 12.8 MB 11.0 MB/s eta 0:00:02\r",
      "\u001b[K     |█████████████████               | 12.9 MB 11.0 MB/s eta 0:00:02\r",
      "\u001b[K     |█████████████████               | 12.9 MB 11.0 MB/s eta 0:00:02\r",
      "\u001b[K     |█████████████████▏              | 12.9 MB 11.0 MB/s eta 0:00:02\r",
      "\u001b[K     |█████████████████▏              | 12.9 MB 11.0 MB/s eta 0:00:02\r",
      "\u001b[K     |█████████████████▏              | 12.9 MB 11.0 MB/s eta 0:00:02\r",
      "\u001b[K     |█████████████████▏              | 12.9 MB 11.0 MB/s eta 0:00:02\r",
      "\u001b[K     |█████████████████▏              | 12.9 MB 11.0 MB/s eta 0:00:02\r",
      "\u001b[K     |█████████████████▏              | 12.9 MB 11.0 MB/s eta 0:00:02\r",
      "\u001b[K     |█████████████████▏              | 12.9 MB 11.0 MB/s eta 0:00:02\r",
      "\u001b[K     |█████████████████▏              | 12.9 MB 11.0 MB/s eta 0:00:02\r",
      "\u001b[K     |█████████████████▏              | 13.0 MB 11.0 MB/s eta 0:00:02\r",
      "\u001b[K     |█████████████████▎              | 13.0 MB 11.0 MB/s eta 0:00:02\r",
      "\u001b[K     |█████████████████▎              | 13.0 MB 11.0 MB/s eta 0:00:02\r",
      "\u001b[K     |█████████████████▎              | 13.0 MB 11.0 MB/s eta 0:00:02\r",
      "\u001b[K     |█████████████████▎              | 13.0 MB 11.0 MB/s eta 0:00:02\r",
      "\u001b[K     |█████████████████▎              | 13.0 MB 11.0 MB/s eta 0:00:02\r",
      "\u001b[K     |█████████████████▎              | 13.0 MB 11.0 MB/s eta 0:00:02\r",
      "\u001b[K     |█████████████████▎              | 13.0 MB 11.0 MB/s eta 0:00:02\r",
      "\u001b[K     |█████████████████▎              | 13.0 MB 11.0 MB/s eta 0:00:01\r",
      "\u001b[K     |█████████████████▍              | 13.0 MB 11.0 MB/s eta 0:00:01\r",
      "\u001b[K     |█████████████████▍              | 13.1 MB 11.0 MB/s eta 0:00:01\r",
      "\u001b[K     |█████████████████▍              | 13.1 MB 11.0 MB/s eta 0:00:01\r",
      "\u001b[K     |█████████████████▍              | 13.1 MB 11.0 MB/s eta 0:00:01\r",
      "\u001b[K     |█████████████████▍              | 13.1 MB 11.0 MB/s eta 0:00:01\r",
      "\u001b[K     |█████████████████▍              | 13.1 MB 11.0 MB/s eta 0:00:01\r",
      "\u001b[K     |█████████████████▍              | 13.1 MB 11.0 MB/s eta 0:00:01\r",
      "\u001b[K     |█████████████████▍              | 13.1 MB 11.0 MB/s eta 0:00:01\r",
      "\u001b[K     |█████████████████▌              | 13.1 MB 11.0 MB/s eta 0:00:01\r",
      "\u001b[K     |█████████████████▌              | 13.1 MB 11.0 MB/s eta 0:00:01\r",
      "\u001b[K     |█████████████████▌              | 13.1 MB 11.0 MB/s eta 0:00:01\r",
      "\u001b[K     |█████████████████▌              | 13.2 MB 11.0 MB/s eta 0:00:01\r",
      "\u001b[K     |█████████████████▌              | 13.2 MB 11.0 MB/s eta 0:00:01\r",
      "\u001b[K     |█████████████████▌              | 13.2 MB 11.0 MB/s eta 0:00:01\r",
      "\u001b[K     |█████████████████▌              | 13.2 MB 11.0 MB/s eta 0:00:01\r",
      "\u001b[K     |█████████████████▌              | 13.2 MB 11.0 MB/s eta 0:00:01\r",
      "\u001b[K     |█████████████████▋              | 13.2 MB 11.0 MB/s eta 0:00:01\r",
      "\u001b[K     |█████████████████▋              | 13.2 MB 11.0 MB/s eta 0:00:01\r",
      "\u001b[K     |█████████████████▋              | 13.2 MB 11.0 MB/s eta 0:00:01\r",
      "\u001b[K     |█████████████████▋              | 13.2 MB 11.0 MB/s eta 0:00:01\r",
      "\u001b[K     |█████████████████▋              | 13.3 MB 11.0 MB/s eta 0:00:01\r",
      "\u001b[K     |█████████████████▋              | 13.3 MB 11.0 MB/s eta 0:00:01\r",
      "\u001b[K     |█████████████████▋              | 13.3 MB 11.0 MB/s eta 0:00:01\r",
      "\u001b[K     |█████████████████▋              | 13.3 MB 11.0 MB/s eta 0:00:01\r",
      "\u001b[K     |█████████████████▊              | 13.3 MB 11.0 MB/s eta 0:00:01\r",
      "\u001b[K     |█████████████████▊              | 13.3 MB 11.0 MB/s eta 0:00:01\r",
      "\u001b[K     |█████████████████▊              | 13.3 MB 11.0 MB/s eta 0:00:01\r",
      "\u001b[K     |█████████████████▊              | 13.3 MB 11.0 MB/s eta 0:00:01\r",
      "\u001b[K     |█████████████████▊              | 13.3 MB 11.0 MB/s eta 0:00:01\r",
      "\u001b[K     |█████████████████▊              | 13.3 MB 11.0 MB/s eta 0:00:01\r",
      "\u001b[K     |█████████████████▊              | 13.4 MB 11.0 MB/s eta 0:00:01\r",
      "\u001b[K     |█████████████████▊              | 13.4 MB 11.0 MB/s eta 0:00:01\r",
      "\u001b[K     |█████████████████▉              | 13.4 MB 11.0 MB/s eta 0:00:01\r",
      "\u001b[K     |█████████████████▉              | 13.4 MB 11.0 MB/s eta 0:00:01\r",
      "\u001b[K     |█████████████████▉              | 13.4 MB 11.0 MB/s eta 0:00:01\r",
      "\u001b[K     |█████████████████▉              | 13.4 MB 11.0 MB/s eta 0:00:01\r",
      "\u001b[K     |█████████████████▉              | 13.4 MB 11.0 MB/s eta 0:00:01\r",
      "\u001b[K     |█████████████████▉              | 13.4 MB 11.0 MB/s eta 0:00:01\r",
      "\u001b[K     |█████████████████▉              | 13.4 MB 11.0 MB/s eta 0:00:01\r",
      "\u001b[K     |█████████████████▉              | 13.4 MB 11.0 MB/s eta 0:00:01\r",
      "\u001b[K     |█████████████████▉              | 13.5 MB 11.0 MB/s eta 0:00:01\r",
      "\u001b[K     |██████████████████              | 13.5 MB 11.0 MB/s eta 0:00:01\r",
      "\u001b[K     |██████████████████              | 13.5 MB 11.0 MB/s eta 0:00:01\r",
      "\u001b[K     |██████████████████              | 13.5 MB 11.0 MB/s eta 0:00:01\r",
      "\u001b[K     |██████████████████              | 13.5 MB 11.0 MB/s eta 0:00:01\r",
      "\u001b[K     |██████████████████              | 13.5 MB 11.0 MB/s eta 0:00:01\r",
      "\u001b[K     |██████████████████              | 13.5 MB 11.0 MB/s eta 0:00:01\r",
      "\u001b[K     |██████████████████              | 13.5 MB 11.0 MB/s eta 0:00:01\r",
      "\u001b[K     |██████████████████              | 13.5 MB 11.0 MB/s eta 0:00:01\r",
      "\u001b[K     |██████████████████              | 13.5 MB 11.0 MB/s eta 0:00:01\r",
      "\u001b[K     |██████████████████              | 13.6 MB 11.0 MB/s eta 0:00:01\r",
      "\u001b[K     |██████████████████              | 13.6 MB 11.0 MB/s eta 0:00:01\r",
      "\u001b[K     |██████████████████              | 13.6 MB 11.0 MB/s eta 0:00:01\r",
      "\u001b[K     |██████████████████              | 13.6 MB 11.0 MB/s eta 0:00:01\r",
      "\u001b[K     |██████████████████              | 13.6 MB 11.0 MB/s eta 0:00:01\r",
      "\u001b[K     |██████████████████              | 13.6 MB 11.0 MB/s eta 0:00:01\r",
      "\u001b[K     |██████████████████              | 13.6 MB 11.0 MB/s eta 0:00:01\r",
      "\u001b[K     |██████████████████▏             | 13.6 MB 11.0 MB/s eta 0:00:01\r",
      "\u001b[K     |██████████████████▏             | 13.6 MB 11.0 MB/s eta 0:00:01\r",
      "\u001b[K     |██████████████████▏             | 13.6 MB 11.0 MB/s eta 0:00:01\r",
      "\u001b[K     |██████████████████▏             | 13.7 MB 11.0 MB/s eta 0:00:01\r",
      "\u001b[K     |██████████████████▏             | 13.7 MB 11.0 MB/s eta 0:00:01\r",
      "\u001b[K     |██████████████████▏             | 13.7 MB 11.0 MB/s eta 0:00:01\r",
      "\u001b[K     |██████████████████▏             | 13.7 MB 11.0 MB/s eta 0:00:01\r",
      "\u001b[K     |██████████████████▏             | 13.7 MB 11.0 MB/s eta 0:00:01\r",
      "\u001b[K     |██████████████████▎             | 13.7 MB 11.0 MB/s eta 0:00:01\r",
      "\u001b[K     |██████████████████▎             | 13.7 MB 11.0 MB/s eta 0:00:01\r",
      "\u001b[K     |██████████████████▎             | 13.7 MB 11.0 MB/s eta 0:00:01\r",
      "\u001b[K     |██████████████████▎             | 13.7 MB 11.0 MB/s eta 0:00:01\r",
      "\u001b[K     |██████████████████▎             | 13.8 MB 11.0 MB/s eta 0:00:01\r",
      "\u001b[K     |██████████████████▎             | 13.8 MB 11.0 MB/s eta 0:00:01\r",
      "\u001b[K     |██████████████████▎             | 13.8 MB 11.0 MB/s eta 0:00:01\r",
      "\u001b[K     |██████████████████▎             | 13.8 MB 11.0 MB/s eta 0:00:01\r",
      "\u001b[K     |██████████████████▍             | 13.8 MB 11.0 MB/s eta 0:00:01\r",
      "\u001b[K     |██████████████████▍             | 13.8 MB 11.0 MB/s eta 0:00:01\r",
      "\u001b[K     |██████████████████▍             | 13.8 MB 11.0 MB/s eta 0:00:01\r",
      "\u001b[K     |██████████████████▍             | 13.8 MB 11.0 MB/s eta 0:00:01\r",
      "\u001b[K     |██████████████████▍             | 13.8 MB 11.0 MB/s eta 0:00:01\r",
      "\u001b[K     |██████████████████▍             | 13.8 MB 11.0 MB/s eta 0:00:01"
     ]
    },
    {
     "name": "stdout",
     "output_type": "stream",
     "text": [
      "\r",
      "\u001b[K     |██████████████████▍             | 13.9 MB 11.0 MB/s eta 0:00:01\r",
      "\u001b[K     |██████████████████▍             | 13.9 MB 11.0 MB/s eta 0:00:01\r",
      "\u001b[K     |██████████████████▌             | 13.9 MB 11.0 MB/s eta 0:00:01\r",
      "\u001b[K     |██████████████████▌             | 13.9 MB 11.0 MB/s eta 0:00:01\r",
      "\u001b[K     |██████████████████▌             | 13.9 MB 11.0 MB/s eta 0:00:01\r",
      "\u001b[K     |██████████████████▌             | 13.9 MB 11.0 MB/s eta 0:00:01\r",
      "\u001b[K     |██████████████████▌             | 13.9 MB 11.0 MB/s eta 0:00:01\r",
      "\u001b[K     |██████████████████▌             | 13.9 MB 11.0 MB/s eta 0:00:01\r",
      "\u001b[K     |██████████████████▌             | 13.9 MB 11.0 MB/s eta 0:00:01\r",
      "\u001b[K     |██████████████████▌             | 13.9 MB 11.0 MB/s eta 0:00:01\r",
      "\u001b[K     |██████████████████▌             | 14.0 MB 11.0 MB/s eta 0:00:01\r",
      "\u001b[K     |██████████████████▋             | 14.0 MB 11.0 MB/s eta 0:00:01\r",
      "\u001b[K     |██████████████████▋             | 14.0 MB 11.0 MB/s eta 0:00:01\r",
      "\u001b[K     |██████████████████▋             | 14.0 MB 11.0 MB/s eta 0:00:01\r",
      "\u001b[K     |██████████████████▋             | 14.0 MB 11.0 MB/s eta 0:00:01\r",
      "\u001b[K     |██████████████████▋             | 14.0 MB 11.0 MB/s eta 0:00:01\r",
      "\u001b[K     |██████████████████▋             | 14.0 MB 11.0 MB/s eta 0:00:01\r",
      "\u001b[K     |██████████████████▋             | 14.0 MB 11.0 MB/s eta 0:00:01\r",
      "\u001b[K     |██████████████████▋             | 14.0 MB 11.0 MB/s eta 0:00:01\r",
      "\u001b[K     |██████████████████▊             | 14.0 MB 11.0 MB/s eta 0:00:01\r",
      "\u001b[K     |██████████████████▊             | 14.1 MB 11.0 MB/s eta 0:00:01\r",
      "\u001b[K     |██████████████████▊             | 14.1 MB 11.0 MB/s eta 0:00:01\r",
      "\u001b[K     |██████████████████▊             | 14.1 MB 11.0 MB/s eta 0:00:01\r",
      "\u001b[K     |██████████████████▊             | 14.1 MB 11.0 MB/s eta 0:00:01\r",
      "\u001b[K     |██████████████████▊             | 14.1 MB 11.0 MB/s eta 0:00:01\r",
      "\u001b[K     |██████████████████▊             | 14.1 MB 11.0 MB/s eta 0:00:01\r",
      "\u001b[K     |██████████████████▊             | 14.1 MB 11.0 MB/s eta 0:00:01\r",
      "\u001b[K     |██████████████████▉             | 14.1 MB 11.0 MB/s eta 0:00:01\r",
      "\u001b[K     |██████████████████▉             | 14.1 MB 11.0 MB/s eta 0:00:01\r",
      "\u001b[K     |██████████████████▉             | 14.2 MB 11.0 MB/s eta 0:00:01\r",
      "\u001b[K     |██████████████████▉             | 14.2 MB 11.0 MB/s eta 0:00:01\r",
      "\u001b[K     |██████████████████▉             | 14.2 MB 11.0 MB/s eta 0:00:01\r",
      "\u001b[K     |██████████████████▉             | 14.2 MB 11.0 MB/s eta 0:00:01\r",
      "\u001b[K     |██████████████████▉             | 14.2 MB 11.0 MB/s eta 0:00:01\r",
      "\u001b[K     |██████████████████▉             | 14.2 MB 11.0 MB/s eta 0:00:01\r",
      "\u001b[K     |███████████████████             | 14.2 MB 11.0 MB/s eta 0:00:01\r",
      "\u001b[K     |███████████████████             | 14.2 MB 11.0 MB/s eta 0:00:01\r",
      "\u001b[K     |███████████████████             | 14.2 MB 11.0 MB/s eta 0:00:01\r",
      "\u001b[K     |███████████████████             | 14.2 MB 11.0 MB/s eta 0:00:01\r",
      "\u001b[K     |███████████████████             | 14.3 MB 11.0 MB/s eta 0:00:01\r",
      "\u001b[K     |███████████████████             | 14.3 MB 11.0 MB/s eta 0:00:01\r",
      "\u001b[K     |███████████████████             | 14.3 MB 11.0 MB/s eta 0:00:01\r",
      "\u001b[K     |███████████████████             | 14.3 MB 11.0 MB/s eta 0:00:01\r",
      "\u001b[K     |███████████████████             | 14.3 MB 11.0 MB/s eta 0:00:01\r",
      "\u001b[K     |███████████████████             | 14.3 MB 11.0 MB/s eta 0:00:01\r",
      "\u001b[K     |███████████████████             | 14.3 MB 11.0 MB/s eta 0:00:01\r",
      "\u001b[K     |███████████████████             | 14.3 MB 11.0 MB/s eta 0:00:01\r",
      "\u001b[K     |███████████████████             | 14.3 MB 11.0 MB/s eta 0:00:01\r",
      "\u001b[K     |███████████████████             | 14.3 MB 11.0 MB/s eta 0:00:01\r",
      "\u001b[K     |███████████████████             | 14.4 MB 11.0 MB/s eta 0:00:01\r",
      "\u001b[K     |███████████████████             | 14.4 MB 11.0 MB/s eta 0:00:01\r",
      "\u001b[K     |███████████████████▏            | 14.4 MB 11.0 MB/s eta 0:00:01\r",
      "\u001b[K     |███████████████████▏            | 14.4 MB 11.0 MB/s eta 0:00:01\r",
      "\u001b[K     |███████████████████▏            | 14.4 MB 11.0 MB/s eta 0:00:01\r",
      "\u001b[K     |███████████████████▏            | 14.4 MB 11.0 MB/s eta 0:00:01\r",
      "\u001b[K     |███████████████████▏            | 14.4 MB 11.0 MB/s eta 0:00:01\r",
      "\u001b[K     |███████████████████▏            | 14.4 MB 11.0 MB/s eta 0:00:01\r",
      "\u001b[K     |███████████████████▏            | 14.4 MB 11.0 MB/s eta 0:00:01\r",
      "\u001b[K     |███████████████████▏            | 14.4 MB 11.0 MB/s eta 0:00:01\r",
      "\u001b[K     |███████████████████▏            | 14.5 MB 11.0 MB/s eta 0:00:01\r",
      "\u001b[K     |███████████████████▎            | 14.5 MB 11.0 MB/s eta 0:00:01\r",
      "\u001b[K     |███████████████████▎            | 14.5 MB 11.0 MB/s eta 0:00:01\r",
      "\u001b[K     |███████████████████▎            | 14.5 MB 11.0 MB/s eta 0:00:01\r",
      "\u001b[K     |███████████████████▎            | 14.5 MB 11.0 MB/s eta 0:00:01\r",
      "\u001b[K     |███████████████████▎            | 14.5 MB 11.0 MB/s eta 0:00:01\r",
      "\u001b[K     |███████████████████▎            | 14.5 MB 11.0 MB/s eta 0:00:01\r",
      "\u001b[K     |███████████████████▎            | 14.5 MB 11.0 MB/s eta 0:00:01\r",
      "\u001b[K     |███████████████████▎            | 14.5 MB 11.0 MB/s eta 0:00:01\r",
      "\u001b[K     |███████████████████▍            | 14.6 MB 11.0 MB/s eta 0:00:01\r",
      "\u001b[K     |███████████████████▍            | 14.6 MB 11.0 MB/s eta 0:00:01\r",
      "\u001b[K     |███████████████████▍            | 14.6 MB 11.0 MB/s eta 0:00:01\r",
      "\u001b[K     |███████████████████▍            | 14.6 MB 11.0 MB/s eta 0:00:01\r",
      "\u001b[K     |███████████████████▍            | 14.6 MB 11.0 MB/s eta 0:00:01\r",
      "\u001b[K     |███████████████████▍            | 14.6 MB 11.0 MB/s eta 0:00:01\r",
      "\u001b[K     |███████████████████▍            | 14.6 MB 11.0 MB/s eta 0:00:01\r",
      "\u001b[K     |███████████████████▍            | 14.6 MB 11.0 MB/s eta 0:00:01\r",
      "\u001b[K     |███████████████████▌            | 14.6 MB 11.0 MB/s eta 0:00:01\r",
      "\u001b[K     |███████████████████▌            | 14.6 MB 11.0 MB/s eta 0:00:01\r",
      "\u001b[K     |███████████████████▌            | 14.7 MB 11.0 MB/s eta 0:00:01\r",
      "\u001b[K     |███████████████████▌            | 14.7 MB 11.0 MB/s eta 0:00:01\r",
      "\u001b[K     |███████████████████▌            | 14.7 MB 11.0 MB/s eta 0:00:01\r",
      "\u001b[K     |███████████████████▌            | 14.7 MB 11.0 MB/s eta 0:00:01\r",
      "\u001b[K     |███████████████████▌            | 14.7 MB 11.0 MB/s eta 0:00:01\r",
      "\u001b[K     |███████████████████▌            | 14.7 MB 11.0 MB/s eta 0:00:01\r",
      "\u001b[K     |███████████████████▋            | 14.7 MB 11.0 MB/s eta 0:00:01\r",
      "\u001b[K     |███████████████████▋            | 14.7 MB 11.0 MB/s eta 0:00:01\r",
      "\u001b[K     |███████████████████▋            | 14.7 MB 11.0 MB/s eta 0:00:01\r",
      "\u001b[K     |███████████████████▋            | 14.7 MB 11.0 MB/s eta 0:00:01\r",
      "\u001b[K     |███████████████████▋            | 14.8 MB 11.0 MB/s eta 0:00:01\r",
      "\u001b[K     |███████████████████▋            | 14.8 MB 11.0 MB/s eta 0:00:01\r",
      "\u001b[K     |███████████████████▋            | 14.8 MB 11.0 MB/s eta 0:00:01\r",
      "\u001b[K     |███████████████████▋            | 14.8 MB 11.0 MB/s eta 0:00:01\r",
      "\u001b[K     |███████████████████▊            | 14.8 MB 11.0 MB/s eta 0:00:01\r",
      "\u001b[K     |███████████████████▊            | 14.8 MB 11.0 MB/s eta 0:00:01\r",
      "\u001b[K     |███████████████████▊            | 14.8 MB 11.0 MB/s eta 0:00:01\r",
      "\u001b[K     |███████████████████▊            | 14.8 MB 11.0 MB/s eta 0:00:01\r",
      "\u001b[K     |███████████████████▊            | 14.8 MB 11.0 MB/s eta 0:00:01\r",
      "\u001b[K     |███████████████████▊            | 14.8 MB 11.0 MB/s eta 0:00:01\r",
      "\u001b[K     |███████████████████▊            | 14.9 MB 11.0 MB/s eta 0:00:01\r",
      "\u001b[K     |███████████████████▊            | 14.9 MB 11.0 MB/s eta 0:00:01\r",
      "\u001b[K     |███████████████████▉            | 14.9 MB 11.0 MB/s eta 0:00:01\r",
      "\u001b[K     |███████████████████▉            | 14.9 MB 11.0 MB/s eta 0:00:01\r",
      "\u001b[K     |███████████████████▉            | 14.9 MB 11.0 MB/s eta 0:00:01\r",
      "\u001b[K     |███████████████████▉            | 14.9 MB 11.0 MB/s eta 0:00:01\r",
      "\u001b[K     |███████████████████▉            | 14.9 MB 11.0 MB/s eta 0:00:01\r",
      "\u001b[K     |███████████████████▉            | 14.9 MB 11.0 MB/s eta 0:00:01\r",
      "\u001b[K     |███████████████████▉            | 14.9 MB 11.0 MB/s eta 0:00:01"
     ]
    },
    {
     "name": "stdout",
     "output_type": "stream",
     "text": [
      "\r",
      "\u001b[K     |███████████████████▉            | 15.0 MB 11.0 MB/s eta 0:00:01\r",
      "\u001b[K     |███████████████████▉            | 15.0 MB 11.0 MB/s eta 0:00:01\r",
      "\u001b[K     |████████████████████            | 15.0 MB 11.0 MB/s eta 0:00:01\r",
      "\u001b[K     |████████████████████            | 15.0 MB 11.0 MB/s eta 0:00:01\r",
      "\u001b[K     |████████████████████            | 15.0 MB 11.0 MB/s eta 0:00:01\r",
      "\u001b[K     |████████████████████            | 15.0 MB 11.0 MB/s eta 0:00:01\r",
      "\u001b[K     |████████████████████            | 15.0 MB 11.0 MB/s eta 0:00:01\r",
      "\u001b[K     |████████████████████            | 15.0 MB 11.0 MB/s eta 0:00:01"
     ]
    },
    {
     "name": "stdout",
     "output_type": "stream",
     "text": [
      "\r",
      "\u001b[K     |████████████████████            | 15.0 MB 11.0 MB/s eta 0:00:01\r",
      "\u001b[K     |████████████████████            | 15.0 MB 11.0 MB/s eta 0:00:01\r",
      "\u001b[K     |████████████████████            | 15.1 MB 11.0 MB/s eta 0:00:01\r",
      "\u001b[K     |████████████████████            | 15.1 MB 11.0 MB/s eta 0:00:01\r",
      "\u001b[K     |████████████████████            | 15.1 MB 11.0 MB/s eta 0:00:01\r",
      "\u001b[K     |████████████████████            | 15.1 MB 11.0 MB/s eta 0:00:01\r",
      "\u001b[K     |████████████████████            | 15.1 MB 11.0 MB/s eta 0:00:01\r",
      "\u001b[K     |████████████████████            | 15.1 MB 11.0 MB/s eta 0:00:01\r",
      "\u001b[K     |████████████████████            | 15.1 MB 11.0 MB/s eta 0:00:01\r",
      "\u001b[K     |████████████████████            | 15.1 MB 11.0 MB/s eta 0:00:01\r",
      "\u001b[K     |████████████████████▏           | 15.1 MB 11.0 MB/s eta 0:00:01\r",
      "\u001b[K     |████████████████████▏           | 15.1 MB 11.0 MB/s eta 0:00:01\r",
      "\u001b[K     |████████████████████▏           | 15.2 MB 11.0 MB/s eta 0:00:01\r",
      "\u001b[K     |████████████████████▏           | 15.2 MB 11.0 MB/s eta 0:00:01\r",
      "\u001b[K     |████████████████████▏           | 15.2 MB 11.0 MB/s eta 0:00:01\r",
      "\u001b[K     |████████████████████▏           | 15.2 MB 11.0 MB/s eta 0:00:01\r",
      "\u001b[K     |████████████████████▏           | 15.2 MB 11.0 MB/s eta 0:00:01\r",
      "\u001b[K     |████████████████████▏           | 15.2 MB 11.0 MB/s eta 0:00:01\r",
      "\u001b[K     |████████████████████▎           | 15.2 MB 11.0 MB/s eta 0:00:01\r",
      "\u001b[K     |████████████████████▎           | 15.2 MB 11.0 MB/s eta 0:00:01\r",
      "\u001b[K     |████████████████████▎           | 15.2 MB 11.0 MB/s eta 0:00:01\r",
      "\u001b[K     |████████████████████▎           | 15.2 MB 11.0 MB/s eta 0:00:01\r",
      "\u001b[K     |████████████████████▎           | 15.3 MB 11.0 MB/s eta 0:00:01\r",
      "\u001b[K     |████████████████████▎           | 15.3 MB 11.0 MB/s eta 0:00:01\r",
      "\u001b[K     |████████████████████▎           | 15.3 MB 11.0 MB/s eta 0:00:01\r",
      "\u001b[K     |████████████████████▎           | 15.3 MB 11.0 MB/s eta 0:00:01\r",
      "\u001b[K     |████████████████████▍           | 15.3 MB 11.0 MB/s eta 0:00:01\r",
      "\u001b[K     |████████████████████▍           | 15.3 MB 11.0 MB/s eta 0:00:01\r",
      "\u001b[K     |████████████████████▍           | 15.3 MB 11.0 MB/s eta 0:00:01\r",
      "\u001b[K     |████████████████████▍           | 15.3 MB 11.0 MB/s eta 0:00:01\r",
      "\u001b[K     |████████████████████▍           | 15.3 MB 11.0 MB/s eta 0:00:01\r",
      "\u001b[K     |████████████████████▍           | 15.3 MB 11.0 MB/s eta 0:00:01\r",
      "\u001b[K     |████████████████████▍           | 15.4 MB 11.0 MB/s eta 0:00:01\r",
      "\u001b[K     |████████████████████▍           | 15.4 MB 11.0 MB/s eta 0:00:01\r",
      "\u001b[K     |████████████████████▌           | 15.4 MB 11.0 MB/s eta 0:00:01\r",
      "\u001b[K     |████████████████████▌           | 15.4 MB 11.0 MB/s eta 0:00:01\r",
      "\u001b[K     |████████████████████▌           | 15.4 MB 11.0 MB/s eta 0:00:01\r",
      "\u001b[K     |████████████████████▌           | 15.4 MB 11.0 MB/s eta 0:00:01\r",
      "\u001b[K     |████████████████████▌           | 15.4 MB 11.0 MB/s eta 0:00:01\r",
      "\u001b[K     |████████████████████▌           | 15.4 MB 11.0 MB/s eta 0:00:01\r",
      "\u001b[K     |████████████████████▌           | 15.4 MB 11.0 MB/s eta 0:00:01"
     ]
    },
    {
     "name": "stdout",
     "output_type": "stream",
     "text": [
      "\r",
      "\u001b[K     |████████████████████▌           | 15.5 MB 11.0 MB/s eta 0:00:01\r",
      "\u001b[K     |████████████████████▌           | 15.5 MB 11.0 MB/s eta 0:00:01\r",
      "\u001b[K     |████████████████████▋           | 15.5 MB 11.0 MB/s eta 0:00:01\r",
      "\u001b[K     |████████████████████▋           | 15.5 MB 11.0 MB/s eta 0:00:01\r",
      "\u001b[K     |████████████████████▋           | 15.5 MB 11.0 MB/s eta 0:00:01\r",
      "\u001b[K     |████████████████████▋           | 15.5 MB 11.0 MB/s eta 0:00:01\r",
      "\u001b[K     |████████████████████▋           | 15.5 MB 11.0 MB/s eta 0:00:01\r",
      "\u001b[K     |████████████████████▋           | 15.5 MB 11.0 MB/s eta 0:00:01\r",
      "\u001b[K     |████████████████████▋           | 15.5 MB 11.0 MB/s eta 0:00:01\r",
      "\u001b[K     |████████████████████▋           | 15.5 MB 11.0 MB/s eta 0:00:01\r",
      "\u001b[K     |████████████████████▊           | 15.6 MB 11.0 MB/s eta 0:00:01\r",
      "\u001b[K     |████████████████████▊           | 15.6 MB 11.0 MB/s eta 0:00:01\r",
      "\u001b[K     |████████████████████▊           | 15.6 MB 11.0 MB/s eta 0:00:01\r",
      "\u001b[K     |████████████████████▊           | 15.6 MB 11.0 MB/s eta 0:00:01\r",
      "\u001b[K     |████████████████████▊           | 15.6 MB 11.0 MB/s eta 0:00:01\r",
      "\u001b[K     |████████████████████▊           | 15.6 MB 11.0 MB/s eta 0:00:01\r",
      "\u001b[K     |████████████████████▊           | 15.6 MB 11.0 MB/s eta 0:00:01\r",
      "\u001b[K     |████████████████████▊           | 15.6 MB 11.0 MB/s eta 0:00:01\r",
      "\u001b[K     |████████████████████▉           | 15.6 MB 11.0 MB/s eta 0:00:01\r",
      "\u001b[K     |████████████████████▉           | 15.6 MB 11.0 MB/s eta 0:00:01\r",
      "\u001b[K     |████████████████████▉           | 15.7 MB 11.0 MB/s eta 0:00:01\r",
      "\u001b[K     |████████████████████▉           | 15.7 MB 11.0 MB/s eta 0:00:01\r",
      "\u001b[K     |████████████████████▉           | 15.7 MB 11.0 MB/s eta 0:00:01"
     ]
    },
    {
     "name": "stdout",
     "output_type": "stream",
     "text": [
      "\r",
      "\u001b[K     |████████████████████▉           | 15.7 MB 11.0 MB/s eta 0:00:01\r",
      "\u001b[K     |████████████████████▉           | 15.7 MB 11.0 MB/s eta 0:00:01\r",
      "\u001b[K     |████████████████████▉           | 15.7 MB 11.0 MB/s eta 0:00:01\r",
      "\u001b[K     |█████████████████████           | 15.7 MB 11.0 MB/s eta 0:00:01\r",
      "\u001b[K     |█████████████████████           | 15.7 MB 11.0 MB/s eta 0:00:01\r",
      "\u001b[K     |█████████████████████           | 15.7 MB 11.0 MB/s eta 0:00:01\r",
      "\u001b[K     |█████████████████████           | 15.7 MB 11.0 MB/s eta 0:00:01\r",
      "\u001b[K     |█████████████████████           | 15.8 MB 11.0 MB/s eta 0:00:01\r",
      "\u001b[K     |█████████████████████           | 15.8 MB 11.0 MB/s eta 0:00:01\r",
      "\u001b[K     |█████████████████████           | 15.8 MB 11.0 MB/s eta 0:00:01\r",
      "\u001b[K     |█████████████████████           | 15.8 MB 11.0 MB/s eta 0:00:01\r",
      "\u001b[K     |█████████████████████           | 15.8 MB 11.0 MB/s eta 0:00:01\r",
      "\u001b[K     |█████████████████████           | 15.8 MB 11.0 MB/s eta 0:00:01\r",
      "\u001b[K     |█████████████████████           | 15.8 MB 11.0 MB/s eta 0:00:01\r",
      "\u001b[K     |█████████████████████           | 15.8 MB 11.0 MB/s eta 0:00:01\r",
      "\u001b[K     |█████████████████████           | 15.8 MB 11.0 MB/s eta 0:00:01\r",
      "\u001b[K     |█████████████████████           | 15.9 MB 11.0 MB/s eta 0:00:01\r",
      "\u001b[K     |█████████████████████           | 15.9 MB 11.0 MB/s eta 0:00:01\r",
      "\u001b[K     |█████████████████████           | 15.9 MB 11.0 MB/s eta 0:00:01\r",
      "\u001b[K     |█████████████████████▏          | 15.9 MB 11.0 MB/s eta 0:00:01\r",
      "\u001b[K     |█████████████████████▏          | 15.9 MB 11.0 MB/s eta 0:00:01\r",
      "\u001b[K     |█████████████████████▏          | 15.9 MB 11.0 MB/s eta 0:00:01\r",
      "\u001b[K     |█████████████████████▏          | 15.9 MB 11.0 MB/s eta 0:00:01\r",
      "\u001b[K     |█████████████████████▏          | 15.9 MB 11.0 MB/s eta 0:00:01\r",
      "\u001b[K     |█████████████████████▏          | 15.9 MB 11.0 MB/s eta 0:00:01\r",
      "\u001b[K     |█████████████████████▏          | 15.9 MB 11.0 MB/s eta 0:00:01\r",
      "\u001b[K     |█████████████████████▏          | 16.0 MB 11.0 MB/s eta 0:00:01\r",
      "\u001b[K     |█████████████████████▎          | 16.0 MB 11.0 MB/s eta 0:00:01\r",
      "\u001b[K     |█████████████████████▎          | 16.0 MB 11.0 MB/s eta 0:00:01\r",
      "\u001b[K     |█████████████████████▎          | 16.0 MB 11.0 MB/s eta 0:00:01\r",
      "\u001b[K     |█████████████████████▎          | 16.0 MB 11.0 MB/s eta 0:00:01\r",
      "\u001b[K     |█████████████████████▎          | 16.0 MB 11.0 MB/s eta 0:00:01\r",
      "\u001b[K     |█████████████████████▎          | 16.0 MB 11.0 MB/s eta 0:00:01\r",
      "\u001b[K     |█████████████████████▎          | 16.0 MB 11.0 MB/s eta 0:00:01\r",
      "\u001b[K     |█████████████████████▎          | 16.0 MB 11.0 MB/s eta 0:00:01\r",
      "\u001b[K     |█████████████████████▎          | 16.0 MB 11.0 MB/s eta 0:00:01\r",
      "\u001b[K     |█████████████████████▍          | 16.1 MB 11.0 MB/s eta 0:00:01\r",
      "\u001b[K     |█████████████████████▍          | 16.1 MB 11.0 MB/s eta 0:00:01\r",
      "\u001b[K     |█████████████████████▍          | 16.1 MB 11.0 MB/s eta 0:00:01\r",
      "\u001b[K     |█████████████████████▍          | 16.1 MB 11.0 MB/s eta 0:00:01\r",
      "\u001b[K     |█████████████████████▍          | 16.1 MB 11.0 MB/s eta 0:00:01\r",
      "\u001b[K     |█████████████████████▍          | 16.1 MB 11.0 MB/s eta 0:00:01"
     ]
    },
    {
     "name": "stdout",
     "output_type": "stream",
     "text": [
      "\r",
      "\u001b[K     |█████████████████████▍          | 16.1 MB 11.0 MB/s eta 0:00:01"
     ]
    },
    {
     "name": "stdout",
     "output_type": "stream",
     "text": [
      "\r",
      "\u001b[K     |█████████████████████▍          | 16.1 MB 11.0 MB/s eta 0:00:01\r",
      "\u001b[K     |█████████████████████▌          | 16.1 MB 11.0 MB/s eta 0:00:01\r",
      "\u001b[K     |█████████████████████▌          | 16.1 MB 11.0 MB/s eta 0:00:01\r",
      "\u001b[K     |█████████████████████▌          | 16.2 MB 11.0 MB/s eta 0:00:01\r",
      "\u001b[K     |█████████████████████▌          | 16.2 MB 11.0 MB/s eta 0:00:01\r",
      "\u001b[K     |█████████████████████▌          | 16.2 MB 11.0 MB/s eta 0:00:01\r",
      "\u001b[K     |█████████████████████▌          | 16.2 MB 11.0 MB/s eta 0:00:01\r",
      "\u001b[K     |█████████████████████▌          | 16.2 MB 11.0 MB/s eta 0:00:01\r",
      "\u001b[K     |█████████████████████▌          | 16.2 MB 11.0 MB/s eta 0:00:01\r",
      "\u001b[K     |█████████████████████▋          | 16.2 MB 11.0 MB/s eta 0:00:01\r",
      "\u001b[K     |█████████████████████▋          | 16.2 MB 11.0 MB/s eta 0:00:01\r",
      "\u001b[K     |█████████████████████▋          | 16.2 MB 11.0 MB/s eta 0:00:01"
     ]
    },
    {
     "name": "stdout",
     "output_type": "stream",
     "text": [
      "\r",
      "\u001b[K     |█████████████████████▋          | 16.3 MB 11.0 MB/s eta 0:00:01\r",
      "\u001b[K     |█████████████████████▋          | 16.3 MB 11.0 MB/s eta 0:00:01\r",
      "\u001b[K     |█████████████████████▋          | 16.3 MB 11.0 MB/s eta 0:00:01\r",
      "\u001b[K     |█████████████████████▋          | 16.3 MB 11.0 MB/s eta 0:00:01\r",
      "\u001b[K     |█████████████████████▋          | 16.3 MB 11.0 MB/s eta 0:00:01\r",
      "\u001b[K     |█████████████████████▊          | 16.3 MB 11.0 MB/s eta 0:00:01\r",
      "\u001b[K     |█████████████████████▊          | 16.3 MB 11.0 MB/s eta 0:00:01\r",
      "\u001b[K     |█████████████████████▊          | 16.3 MB 11.0 MB/s eta 0:00:01\r",
      "\u001b[K     |█████████████████████▊          | 16.3 MB 11.0 MB/s eta 0:00:01\r",
      "\u001b[K     |█████████████████████▊          | 16.3 MB 11.0 MB/s eta 0:00:01\r",
      "\u001b[K     |█████████████████████▊          | 16.4 MB 11.0 MB/s eta 0:00:01\r",
      "\u001b[K     |█████████████████████▊          | 16.4 MB 11.0 MB/s eta 0:00:01\r",
      "\u001b[K     |█████████████████████▊          | 16.4 MB 11.0 MB/s eta 0:00:01\r",
      "\u001b[K     |█████████████████████▉          | 16.4 MB 11.0 MB/s eta 0:00:01\r",
      "\u001b[K     |█████████████████████▉          | 16.4 MB 11.0 MB/s eta 0:00:01\r",
      "\u001b[K     |█████████████████████▉          | 16.4 MB 11.0 MB/s eta 0:00:01"
     ]
    },
    {
     "name": "stdout",
     "output_type": "stream",
     "text": [
      "\r",
      "\u001b[K     |█████████████████████▉          | 16.4 MB 11.0 MB/s eta 0:00:01\r",
      "\u001b[K     |█████████████████████▉          | 16.4 MB 11.0 MB/s eta 0:00:01\r",
      "\u001b[K     |█████████████████████▉          | 16.4 MB 11.0 MB/s eta 0:00:01\r",
      "\u001b[K     |█████████████████████▉          | 16.4 MB 11.0 MB/s eta 0:00:01\r",
      "\u001b[K     |█████████████████████▉          | 16.5 MB 11.0 MB/s eta 0:00:01\r",
      "\u001b[K     |██████████████████████          | 16.5 MB 11.0 MB/s eta 0:00:01\r",
      "\u001b[K     |██████████████████████          | 16.5 MB 11.0 MB/s eta 0:00:01\r",
      "\u001b[K     |██████████████████████          | 16.5 MB 11.0 MB/s eta 0:00:01\r",
      "\u001b[K     |██████████████████████          | 16.5 MB 11.0 MB/s eta 0:00:01\r",
      "\u001b[K     |██████████████████████          | 16.5 MB 11.0 MB/s eta 0:00:01\r",
      "\u001b[K     |██████████████████████          | 16.5 MB 11.0 MB/s eta 0:00:01\r",
      "\u001b[K     |██████████████████████          | 16.5 MB 11.0 MB/s eta 0:00:01\r",
      "\u001b[K     |██████████████████████          | 16.5 MB 11.0 MB/s eta 0:00:01\r",
      "\u001b[K     |██████████████████████          | 16.5 MB 11.0 MB/s eta 0:00:01\r",
      "\u001b[K     |██████████████████████          | 16.6 MB 11.0 MB/s eta 0:00:01\r",
      "\u001b[K     |██████████████████████          | 16.6 MB 11.0 MB/s eta 0:00:01\r",
      "\u001b[K     |██████████████████████          | 16.6 MB 11.0 MB/s eta 0:00:01\r",
      "\u001b[K     |██████████████████████          | 16.6 MB 11.0 MB/s eta 0:00:01\r",
      "\u001b[K     |██████████████████████          | 16.6 MB 11.0 MB/s eta 0:00:01\r",
      "\u001b[K     |██████████████████████          | 16.6 MB 11.0 MB/s eta 0:00:01\r",
      "\u001b[K     |██████████████████████          | 16.6 MB 11.0 MB/s eta 0:00:01\r",
      "\u001b[K     |██████████████████████          | 16.6 MB 11.0 MB/s eta 0:00:01\r",
      "\u001b[K     |██████████████████████▏         | 16.6 MB 11.0 MB/s eta 0:00:01\r",
      "\u001b[K     |██████████████████████▏         | 16.7 MB 11.0 MB/s eta 0:00:01\r",
      "\u001b[K     |██████████████████████▏         | 16.7 MB 11.0 MB/s eta 0:00:01\r",
      "\u001b[K     |██████████████████████▏         | 16.7 MB 11.0 MB/s eta 0:00:01\r",
      "\u001b[K     |██████████████████████▏         | 16.7 MB 11.0 MB/s eta 0:00:01\r",
      "\u001b[K     |██████████████████████▏         | 16.7 MB 11.0 MB/s eta 0:00:01\r",
      "\u001b[K     |██████████████████████▏         | 16.7 MB 11.0 MB/s eta 0:00:01\r",
      "\u001b[K     |██████████████████████▏         | 16.7 MB 11.0 MB/s eta 0:00:01\r",
      "\u001b[K     |██████████████████████▎         | 16.7 MB 11.0 MB/s eta 0:00:01\r",
      "\u001b[K     |██████████████████████▎         | 16.7 MB 11.0 MB/s eta 0:00:01"
     ]
    },
    {
     "name": "stdout",
     "output_type": "stream",
     "text": [
      "\r",
      "\u001b[K     |██████████████████████▎         | 16.7 MB 11.0 MB/s eta 0:00:01\r",
      "\u001b[K     |██████████████████████▎         | 16.8 MB 11.0 MB/s eta 0:00:01\r",
      "\u001b[K     |██████████████████████▎         | 16.8 MB 11.0 MB/s eta 0:00:01\r",
      "\u001b[K     |██████████████████████▎         | 16.8 MB 11.0 MB/s eta 0:00:01\r",
      "\u001b[K     |██████████████████████▎         | 16.8 MB 11.0 MB/s eta 0:00:01\r",
      "\u001b[K     |██████████████████████▎         | 16.8 MB 11.0 MB/s eta 0:00:01\r",
      "\u001b[K     |██████████████████████▍         | 16.8 MB 11.0 MB/s eta 0:00:01\r",
      "\u001b[K     |██████████████████████▍         | 16.8 MB 11.0 MB/s eta 0:00:01\r",
      "\u001b[K     |██████████████████████▍         | 16.8 MB 11.0 MB/s eta 0:00:01\r",
      "\u001b[K     |██████████████████████▍         | 16.8 MB 11.0 MB/s eta 0:00:01\r",
      "\u001b[K     |██████████████████████▍         | 16.8 MB 11.0 MB/s eta 0:00:01\r",
      "\u001b[K     |██████████████████████▍         | 16.9 MB 11.0 MB/s eta 0:00:01\r",
      "\u001b[K     |██████████████████████▍         | 16.9 MB 11.0 MB/s eta 0:00:01\r",
      "\u001b[K     |██████████████████████▍         | 16.9 MB 11.0 MB/s eta 0:00:01\r",
      "\u001b[K     |██████████████████████▌         | 16.9 MB 11.0 MB/s eta 0:00:01\r",
      "\u001b[K     |██████████████████████▌         | 16.9 MB 11.0 MB/s eta 0:00:01\r",
      "\u001b[K     |██████████████████████▌         | 16.9 MB 11.0 MB/s eta 0:00:01\r",
      "\u001b[K     |██████████████████████▌         | 16.9 MB 11.0 MB/s eta 0:00:01\r",
      "\u001b[K     |██████████████████████▌         | 16.9 MB 11.0 MB/s eta 0:00:01\r",
      "\u001b[K     |██████████████████████▌         | 16.9 MB 11.0 MB/s eta 0:00:01\r",
      "\u001b[K     |██████████████████████▌         | 16.9 MB 11.0 MB/s eta 0:00:01\r",
      "\u001b[K     |██████████████████████▌         | 17.0 MB 11.0 MB/s eta 0:00:01\r",
      "\u001b[K     |██████████████████████▋         | 17.0 MB 11.0 MB/s eta 0:00:01\r",
      "\u001b[K     |██████████████████████▋         | 17.0 MB 11.0 MB/s eta 0:00:01\r",
      "\u001b[K     |██████████████████████▋         | 17.0 MB 11.0 MB/s eta 0:00:01\r",
      "\u001b[K     |██████████████████████▋         | 17.0 MB 11.0 MB/s eta 0:00:01\r",
      "\u001b[K     |██████████████████████▋         | 17.0 MB 11.0 MB/s eta 0:00:01\r",
      "\u001b[K     |██████████████████████▋         | 17.0 MB 11.0 MB/s eta 0:00:01\r",
      "\u001b[K     |██████████████████████▋         | 17.0 MB 11.0 MB/s eta 0:00:01\r",
      "\u001b[K     |██████████████████████▋         | 17.0 MB 11.0 MB/s eta 0:00:01\r",
      "\u001b[K     |██████████████████████▋         | 17.0 MB 11.0 MB/s eta 0:00:01\r",
      "\u001b[K     |██████████████████████▊         | 17.1 MB 11.0 MB/s eta 0:00:01"
     ]
    },
    {
     "name": "stdout",
     "output_type": "stream",
     "text": [
      "\r",
      "\u001b[K     |██████████████████████▊         | 17.1 MB 11.0 MB/s eta 0:00:01\r",
      "\u001b[K     |██████████████████████▊         | 17.1 MB 11.0 MB/s eta 0:00:01\r",
      "\u001b[K     |██████████████████████▊         | 17.1 MB 11.0 MB/s eta 0:00:01\r",
      "\u001b[K     |██████████████████████▊         | 17.1 MB 11.0 MB/s eta 0:00:01\r",
      "\u001b[K     |██████████████████████▊         | 17.1 MB 11.0 MB/s eta 0:00:01\r",
      "\u001b[K     |██████████████████████▊         | 17.1 MB 11.0 MB/s eta 0:00:01\r",
      "\u001b[K     |██████████████████████▊         | 17.1 MB 11.0 MB/s eta 0:00:01\r",
      "\u001b[K     |██████████████████████▉         | 17.1 MB 11.0 MB/s eta 0:00:01\r",
      "\u001b[K     |██████████████████████▉         | 17.2 MB 11.0 MB/s eta 0:00:01\r",
      "\u001b[K     |██████████████████████▉         | 17.2 MB 11.0 MB/s eta 0:00:01\r",
      "\u001b[K     |██████████████████████▉         | 17.2 MB 11.0 MB/s eta 0:00:01\r",
      "\u001b[K     |██████████████████████▉         | 17.2 MB 11.0 MB/s eta 0:00:01\r",
      "\u001b[K     |██████████████████████▉         | 17.2 MB 11.0 MB/s eta 0:00:01\r",
      "\u001b[K     |██████████████████████▉         | 17.2 MB 11.0 MB/s eta 0:00:01\r",
      "\u001b[K     |██████████████████████▉         | 17.2 MB 11.0 MB/s eta 0:00:01\r",
      "\u001b[K     |███████████████████████         | 17.2 MB 11.0 MB/s eta 0:00:01\r",
      "\u001b[K     |███████████████████████         | 17.2 MB 11.0 MB/s eta 0:00:01\r",
      "\u001b[K     |███████████████████████         | 17.2 MB 11.0 MB/s eta 0:00:01\r",
      "\u001b[K     |███████████████████████         | 17.3 MB 11.0 MB/s eta 0:00:01\r",
      "\u001b[K     |███████████████████████         | 17.3 MB 11.0 MB/s eta 0:00:01\r",
      "\u001b[K     |███████████████████████         | 17.3 MB 11.0 MB/s eta 0:00:01\r",
      "\u001b[K     |███████████████████████         | 17.3 MB 11.0 MB/s eta 0:00:01\r",
      "\u001b[K     |███████████████████████         | 17.3 MB 11.0 MB/s eta 0:00:01\r",
      "\u001b[K     |███████████████████████         | 17.3 MB 11.0 MB/s eta 0:00:01\r",
      "\u001b[K     |███████████████████████         | 17.3 MB 11.0 MB/s eta 0:00:01\r",
      "\u001b[K     |███████████████████████         | 17.3 MB 11.0 MB/s eta 0:00:01\r",
      "\u001b[K     |███████████████████████         | 17.3 MB 11.0 MB/s eta 0:00:01\r",
      "\u001b[K     |███████████████████████         | 17.3 MB 11.0 MB/s eta 0:00:01\r",
      "\u001b[K     |███████████████████████         | 17.4 MB 11.0 MB/s eta 0:00:01\r",
      "\u001b[K     |███████████████████████         | 17.4 MB 11.0 MB/s eta 0:00:01\r",
      "\u001b[K     |███████████████████████         | 17.4 MB 11.0 MB/s eta 0:00:01\r",
      "\u001b[K     |███████████████████████▏        | 17.4 MB 11.0 MB/s eta 0:00:01\r",
      "\u001b[K     |███████████████████████▏        | 17.4 MB 11.0 MB/s eta 0:00:01\r",
      "\u001b[K     |███████████████████████▏        | 17.4 MB 11.0 MB/s eta 0:00:01\r",
      "\u001b[K     |███████████████████████▏        | 17.4 MB 11.0 MB/s eta 0:00:01\r",
      "\u001b[K     |███████████████████████▏        | 17.4 MB 11.0 MB/s eta 0:00:01\r",
      "\u001b[K     |███████████████████████▏        | 17.4 MB 11.0 MB/s eta 0:00:01\r",
      "\u001b[K     |███████████████████████▏        | 17.4 MB 11.0 MB/s eta 0:00:01\r",
      "\u001b[K     |███████████████████████▏        | 17.5 MB 11.0 MB/s eta 0:00:01\r",
      "\u001b[K     |███████████████████████▎        | 17.5 MB 11.0 MB/s eta 0:00:01"
     ]
    },
    {
     "name": "stdout",
     "output_type": "stream",
     "text": [
      "\r",
      "\u001b[K     |███████████████████████▎        | 17.5 MB 11.0 MB/s eta 0:00:01\r",
      "\u001b[K     |███████████████████████▎        | 17.5 MB 11.0 MB/s eta 0:00:01\r",
      "\u001b[K     |███████████████████████▎        | 17.5 MB 11.0 MB/s eta 0:00:01\r",
      "\u001b[K     |███████████████████████▎        | 17.5 MB 11.0 MB/s eta 0:00:01\r",
      "\u001b[K     |███████████████████████▎        | 17.5 MB 11.0 MB/s eta 0:00:01\r",
      "\u001b[K     |███████████████████████▎        | 17.5 MB 11.0 MB/s eta 0:00:01\r",
      "\u001b[K     |███████████████████████▎        | 17.5 MB 11.0 MB/s eta 0:00:01\r",
      "\u001b[K     |███████████████████████▎        | 17.6 MB 11.0 MB/s eta 0:00:01\r",
      "\u001b[K     |███████████████████████▍        | 17.6 MB 11.0 MB/s eta 0:00:01\r",
      "\u001b[K     |███████████████████████▍        | 17.6 MB 11.0 MB/s eta 0:00:01\r",
      "\u001b[K     |███████████████████████▍        | 17.6 MB 11.0 MB/s eta 0:00:01\r",
      "\u001b[K     |███████████████████████▍        | 17.6 MB 11.0 MB/s eta 0:00:01\r",
      "\u001b[K     |███████████████████████▍        | 17.6 MB 11.0 MB/s eta 0:00:01\r",
      "\u001b[K     |███████████████████████▍        | 17.6 MB 11.0 MB/s eta 0:00:01\r",
      "\u001b[K     |███████████████████████▍        | 17.6 MB 11.0 MB/s eta 0:00:01\r",
      "\u001b[K     |███████████████████████▍        | 17.6 MB 11.0 MB/s eta 0:00:01\r",
      "\u001b[K     |███████████████████████▌        | 17.6 MB 11.0 MB/s eta 0:00:01\r",
      "\u001b[K     |███████████████████████▌        | 17.7 MB 11.0 MB/s eta 0:00:01\r",
      "\u001b[K     |███████████████████████▌        | 17.7 MB 11.0 MB/s eta 0:00:01\r",
      "\u001b[K     |███████████████████████▌        | 17.7 MB 11.0 MB/s eta 0:00:01\r",
      "\u001b[K     |███████████████████████▌        | 17.7 MB 11.0 MB/s eta 0:00:01\r",
      "\u001b[K     |███████████████████████▌        | 17.7 MB 11.0 MB/s eta 0:00:01\r",
      "\u001b[K     |███████████████████████▌        | 17.7 MB 11.0 MB/s eta 0:00:01\r",
      "\u001b[K     |███████████████████████▌        | 17.7 MB 11.0 MB/s eta 0:00:01\r",
      "\u001b[K     |███████████████████████▋        | 17.7 MB 11.0 MB/s eta 0:00:01\r",
      "\u001b[K     |███████████████████████▋        | 17.7 MB 11.0 MB/s eta 0:00:01\r",
      "\u001b[K     |███████████████████████▋        | 17.7 MB 11.0 MB/s eta 0:00:01\r",
      "\u001b[K     |███████████████████████▋        | 17.8 MB 11.0 MB/s eta 0:00:01"
     ]
    },
    {
     "name": "stdout",
     "output_type": "stream",
     "text": [
      "\r",
      "\u001b[K     |███████████████████████▋        | 17.8 MB 11.0 MB/s eta 0:00:01\r",
      "\u001b[K     |███████████████████████▋        | 17.8 MB 11.0 MB/s eta 0:00:01\r",
      "\u001b[K     |███████████████████████▋        | 17.8 MB 11.0 MB/s eta 0:00:01\r",
      "\u001b[K     |███████████████████████▋        | 17.8 MB 11.0 MB/s eta 0:00:01\r",
      "\u001b[K     |███████████████████████▊        | 17.8 MB 11.0 MB/s eta 0:00:01\r",
      "\u001b[K     |███████████████████████▊        | 17.8 MB 11.0 MB/s eta 0:00:01\r",
      "\u001b[K     |███████████████████████▊        | 17.8 MB 11.0 MB/s eta 0:00:01\r",
      "\u001b[K     |███████████████████████▊        | 17.8 MB 11.0 MB/s eta 0:00:01\r",
      "\u001b[K     |███████████████████████▊        | 17.8 MB 11.0 MB/s eta 0:00:01\r",
      "\u001b[K     |███████████████████████▊        | 17.9 MB 11.0 MB/s eta 0:00:01"
     ]
    },
    {
     "name": "stdout",
     "output_type": "stream",
     "text": [
      "\r",
      "\u001b[K     |███████████████████████▊        | 17.9 MB 11.0 MB/s eta 0:00:01\r",
      "\u001b[K     |███████████████████████▊        | 17.9 MB 11.0 MB/s eta 0:00:01\r",
      "\u001b[K     |███████████████████████▉        | 17.9 MB 11.0 MB/s eta 0:00:01\r",
      "\u001b[K     |███████████████████████▉        | 17.9 MB 11.0 MB/s eta 0:00:01\r",
      "\u001b[K     |███████████████████████▉        | 17.9 MB 11.0 MB/s eta 0:00:01\r",
      "\u001b[K     |███████████████████████▉        | 17.9 MB 11.0 MB/s eta 0:00:01\r",
      "\u001b[K     |███████████████████████▉        | 17.9 MB 11.0 MB/s eta 0:00:01\r",
      "\u001b[K     |███████████████████████▉        | 17.9 MB 11.0 MB/s eta 0:00:01\r",
      "\u001b[K     |███████████████████████▉        | 18.0 MB 11.0 MB/s eta 0:00:01\r",
      "\u001b[K     |███████████████████████▉        | 18.0 MB 11.0 MB/s eta 0:00:01\r",
      "\u001b[K     |████████████████████████        | 18.0 MB 11.0 MB/s eta 0:00:01\r",
      "\u001b[K     |████████████████████████        | 18.0 MB 11.0 MB/s eta 0:00:01\r",
      "\u001b[K     |████████████████████████        | 18.0 MB 11.0 MB/s eta 0:00:01\r",
      "\u001b[K     |████████████████████████        | 18.0 MB 5.3 MB/s eta 0:00:02\r",
      "\u001b[K     |████████████████████████        | 18.0 MB 5.3 MB/s eta 0:00:02\r",
      "\u001b[K     |████████████████████████        | 18.0 MB 5.3 MB/s eta 0:00:02\r",
      "\u001b[K     |████████████████████████        | 18.0 MB 5.3 MB/s eta 0:00:02\r",
      "\u001b[K     |████████████████████████        | 18.0 MB 5.3 MB/s eta 0:00:02\r",
      "\u001b[K     |████████████████████████        | 18.1 MB 5.3 MB/s eta 0:00:02\r",
      "\u001b[K     |████████████████████████        | 18.1 MB 5.3 MB/s eta 0:00:02\r",
      "\u001b[K     |████████████████████████        | 18.1 MB 5.3 MB/s eta 0:00:02\r",
      "\u001b[K     |████████████████████████        | 18.1 MB 5.3 MB/s eta 0:00:02\r",
      "\u001b[K     |████████████████████████        | 18.1 MB 5.3 MB/s eta 0:00:02\r",
      "\u001b[K     |████████████████████████        | 18.1 MB 5.3 MB/s eta 0:00:02"
     ]
    },
    {
     "name": "stdout",
     "output_type": "stream",
     "text": [
      "\r",
      "\u001b[K     |████████████████████████        | 18.1 MB 5.3 MB/s eta 0:00:02\r",
      "\u001b[K     |████████████████████████        | 18.1 MB 5.3 MB/s eta 0:00:02\r",
      "\u001b[K     |████████████████████████        | 18.1 MB 5.3 MB/s eta 0:00:02\r",
      "\u001b[K     |████████████████████████▏       | 18.1 MB 5.3 MB/s eta 0:00:02\r",
      "\u001b[K     |████████████████████████▏       | 18.2 MB 5.3 MB/s eta 0:00:02\r",
      "\u001b[K     |████████████████████████▏       | 18.2 MB 5.3 MB/s eta 0:00:02"
     ]
    },
    {
     "name": "stdout",
     "output_type": "stream",
     "text": [
      "\r",
      "\u001b[K     |████████████████████████▏       | 18.2 MB 5.3 MB/s eta 0:00:02\r",
      "\u001b[K     |████████████████████████▏       | 18.2 MB 5.3 MB/s eta 0:00:02\r",
      "\u001b[K     |████████████████████████▏       | 18.2 MB 5.3 MB/s eta 0:00:02\r",
      "\u001b[K     |████████████████████████▏       | 18.2 MB 5.3 MB/s eta 0:00:02\r",
      "\u001b[K     |████████████████████████▏       | 18.2 MB 5.3 MB/s eta 0:00:02\r",
      "\u001b[K     |████████████████████████▎       | 18.2 MB 5.3 MB/s eta 0:00:02\r",
      "\u001b[K     |████████████████████████▎       | 18.2 MB 5.3 MB/s eta 0:00:02\r",
      "\u001b[K     |████████████████████████▎       | 18.2 MB 5.3 MB/s eta 0:00:02\r",
      "\u001b[K     |████████████████████████▎       | 18.3 MB 5.3 MB/s eta 0:00:02\r",
      "\u001b[K     |████████████████████████▎       | 18.3 MB 5.3 MB/s eta 0:00:02\r",
      "\u001b[K     |████████████████████████▎       | 18.3 MB 5.3 MB/s eta 0:00:02\r",
      "\u001b[K     |████████████████████████▎       | 18.3 MB 5.3 MB/s eta 0:00:02\r",
      "\u001b[K     |████████████████████████▎       | 18.3 MB 5.3 MB/s eta 0:00:02\r",
      "\u001b[K     |████████████████████████▍       | 18.3 MB 5.3 MB/s eta 0:00:02\r",
      "\u001b[K     |████████████████████████▍       | 18.3 MB 5.3 MB/s eta 0:00:02"
     ]
    },
    {
     "name": "stdout",
     "output_type": "stream",
     "text": [
      "\r",
      "\u001b[K     |████████████████████████▍       | 18.3 MB 5.3 MB/s eta 0:00:02\r",
      "\u001b[K     |████████████████████████▍       | 18.3 MB 5.3 MB/s eta 0:00:02\r",
      "\u001b[K     |████████████████████████▍       | 18.4 MB 5.3 MB/s eta 0:00:02\r",
      "\u001b[K     |████████████████████████▍       | 18.4 MB 5.3 MB/s eta 0:00:02\r",
      "\u001b[K     |████████████████████████▍       | 18.4 MB 5.3 MB/s eta 0:00:02\r",
      "\u001b[K     |████████████████████████▍       | 18.4 MB 5.3 MB/s eta 0:00:02\r",
      "\u001b[K     |████████████████████████▌       | 18.4 MB 5.3 MB/s eta 0:00:02\r",
      "\u001b[K     |████████████████████████▌       | 18.4 MB 5.3 MB/s eta 0:00:02\r",
      "\u001b[K     |████████████████████████▌       | 18.4 MB 5.3 MB/s eta 0:00:02\r",
      "\u001b[K     |████████████████████████▌       | 18.4 MB 5.3 MB/s eta 0:00:02\r",
      "\u001b[K     |████████████████████████▌       | 18.4 MB 5.3 MB/s eta 0:00:02\r",
      "\u001b[K     |████████████████████████▌       | 18.4 MB 5.3 MB/s eta 0:00:02\r",
      "\u001b[K     |████████████████████████▌       | 18.5 MB 5.3 MB/s eta 0:00:02"
     ]
    },
    {
     "name": "stdout",
     "output_type": "stream",
     "text": [
      "\r",
      "\u001b[K     |████████████████████████▌       | 18.5 MB 5.3 MB/s eta 0:00:02\r",
      "\u001b[K     |████████████████████████▋       | 18.5 MB 5.3 MB/s eta 0:00:02\r",
      "\u001b[K     |████████████████████████▋       | 18.5 MB 5.3 MB/s eta 0:00:02\r",
      "\u001b[K     |████████████████████████▋       | 18.5 MB 5.3 MB/s eta 0:00:02\r",
      "\u001b[K     |████████████████████████▋       | 18.5 MB 5.3 MB/s eta 0:00:02\r",
      "\u001b[K     |████████████████████████▋       | 18.5 MB 5.3 MB/s eta 0:00:02\r",
      "\u001b[K     |████████████████████████▋       | 18.5 MB 5.3 MB/s eta 0:00:02\r",
      "\u001b[K     |████████████████████████▋       | 18.5 MB 5.3 MB/s eta 0:00:02\r",
      "\u001b[K     |████████████████████████▋       | 18.5 MB 5.3 MB/s eta 0:00:02"
     ]
    },
    {
     "name": "stdout",
     "output_type": "stream",
     "text": [
      "\r",
      "\u001b[K     |████████████████████████▋       | 18.6 MB 5.3 MB/s eta 0:00:02\r",
      "\u001b[K     |████████████████████████▊       | 18.6 MB 5.3 MB/s eta 0:00:02\r",
      "\u001b[K     |████████████████████████▊       | 18.6 MB 5.3 MB/s eta 0:00:02\r",
      "\u001b[K     |████████████████████████▊       | 18.6 MB 5.3 MB/s eta 0:00:02\r",
      "\u001b[K     |████████████████████████▊       | 18.6 MB 5.3 MB/s eta 0:00:02\r",
      "\u001b[K     |████████████████████████▊       | 18.6 MB 5.3 MB/s eta 0:00:02\r",
      "\u001b[K     |████████████████████████▊       | 18.6 MB 5.3 MB/s eta 0:00:02\r",
      "\u001b[K     |████████████████████████▊       | 18.6 MB 5.3 MB/s eta 0:00:02\r",
      "\u001b[K     |████████████████████████▊       | 18.6 MB 5.3 MB/s eta 0:00:02\r",
      "\u001b[K     |████████████████████████▉       | 18.6 MB 5.3 MB/s eta 0:00:02"
     ]
    },
    {
     "name": "stdout",
     "output_type": "stream",
     "text": [
      "\r",
      "\u001b[K     |████████████████████████▉       | 18.7 MB 5.3 MB/s eta 0:00:02\r",
      "\u001b[K     |████████████████████████▉       | 18.7 MB 5.3 MB/s eta 0:00:02\r",
      "\u001b[K     |████████████████████████▉       | 18.7 MB 5.3 MB/s eta 0:00:02\r",
      "\u001b[K     |████████████████████████▉       | 18.7 MB 5.3 MB/s eta 0:00:02\r",
      "\u001b[K     |████████████████████████▉       | 18.7 MB 5.3 MB/s eta 0:00:02\r",
      "\u001b[K     |████████████████████████▉       | 18.7 MB 5.3 MB/s eta 0:00:02\r",
      "\u001b[K     |████████████████████████▉       | 18.7 MB 5.3 MB/s eta 0:00:02\r",
      "\u001b[K     |█████████████████████████       | 18.7 MB 5.3 MB/s eta 0:00:02"
     ]
    },
    {
     "name": "stdout",
     "output_type": "stream",
     "text": [
      "\r",
      "\u001b[K     |█████████████████████████       | 18.7 MB 5.3 MB/s eta 0:00:02\r",
      "\u001b[K     |█████████████████████████       | 18.7 MB 5.3 MB/s eta 0:00:02\r",
      "\u001b[K     |█████████████████████████       | 18.8 MB 5.3 MB/s eta 0:00:02\r",
      "\u001b[K     |█████████████████████████       | 18.8 MB 5.3 MB/s eta 0:00:02\r",
      "\u001b[K     |█████████████████████████       | 18.8 MB 5.3 MB/s eta 0:00:02\r",
      "\u001b[K     |█████████████████████████       | 18.8 MB 5.3 MB/s eta 0:00:02\r",
      "\u001b[K     |█████████████████████████       | 18.8 MB 5.3 MB/s eta 0:00:02\r",
      "\u001b[K     |█████████████████████████       | 18.8 MB 5.3 MB/s eta 0:00:01"
     ]
    },
    {
     "name": "stdout",
     "output_type": "stream",
     "text": [
      "\r",
      "\u001b[K     |█████████████████████████       | 18.8 MB 5.3 MB/s eta 0:00:01\r",
      "\u001b[K     |█████████████████████████       | 18.8 MB 5.3 MB/s eta 0:00:01\r",
      "\u001b[K     |█████████████████████████       | 18.8 MB 5.3 MB/s eta 0:00:01\r",
      "\u001b[K     |█████████████████████████       | 18.9 MB 5.3 MB/s eta 0:00:01\r",
      "\u001b[K     |█████████████████████████       | 18.9 MB 5.3 MB/s eta 0:00:01\r",
      "\u001b[K     |█████████████████████████       | 18.9 MB 5.3 MB/s eta 0:00:01\r",
      "\u001b[K     |█████████████████████████       | 18.9 MB 5.3 MB/s eta 0:00:01\r",
      "\u001b[K     |█████████████████████████▏      | 18.9 MB 5.3 MB/s eta 0:00:01"
     ]
    },
    {
     "name": "stdout",
     "output_type": "stream",
     "text": [
      "\r",
      "\u001b[K     |█████████████████████████▏      | 18.9 MB 5.3 MB/s eta 0:00:01\r",
      "\u001b[K     |█████████████████████████▏      | 18.9 MB 5.3 MB/s eta 0:00:01\r",
      "\u001b[K     |█████████████████████████▏      | 18.9 MB 5.3 MB/s eta 0:00:01"
     ]
    },
    {
     "name": "stdout",
     "output_type": "stream",
     "text": [
      "\r",
      "\u001b[K     |█████████████████████████▏      | 18.9 MB 5.3 MB/s eta 0:00:01\r",
      "\u001b[K     |█████████████████████████▏      | 18.9 MB 5.3 MB/s eta 0:00:01\r",
      "\u001b[K     |█████████████████████████▏      | 19.0 MB 5.3 MB/s eta 0:00:01\r",
      "\u001b[K     |█████████████████████████▏      | 19.0 MB 5.3 MB/s eta 0:00:01\r",
      "\u001b[K     |█████████████████████████▎      | 19.0 MB 5.3 MB/s eta 0:00:01\r",
      "\u001b[K     |█████████████████████████▎      | 19.0 MB 5.3 MB/s eta 0:00:01"
     ]
    },
    {
     "name": "stdout",
     "output_type": "stream",
     "text": [
      "\r",
      "\u001b[K     |█████████████████████████▎      | 19.0 MB 5.3 MB/s eta 0:00:01\r",
      "\u001b[K     |█████████████████████████▎      | 19.0 MB 5.3 MB/s eta 0:00:01\r",
      "\u001b[K     |█████████████████████████▎      | 19.0 MB 5.3 MB/s eta 0:00:01\r",
      "\u001b[K     |█████████████████████████▎      | 19.0 MB 5.3 MB/s eta 0:00:01\r",
      "\u001b[K     |█████████████████████████▎      | 19.0 MB 5.3 MB/s eta 0:00:01"
     ]
    },
    {
     "name": "stdout",
     "output_type": "stream",
     "text": [
      "\r",
      "\u001b[K     |█████████████████████████▎      | 19.0 MB 5.3 MB/s eta 0:00:01\r",
      "\u001b[K     |█████████████████████████▎      | 19.1 MB 5.3 MB/s eta 0:00:01\r",
      "\u001b[K     |█████████████████████████▍      | 19.1 MB 5.3 MB/s eta 0:00:01\r",
      "\u001b[K     |█████████████████████████▍      | 19.1 MB 5.3 MB/s eta 0:00:01\r",
      "\u001b[K     |█████████████████████████▍      | 19.1 MB 5.3 MB/s eta 0:00:01\r",
      "\u001b[K     |█████████████████████████▍      | 19.1 MB 5.3 MB/s eta 0:00:01\r",
      "\u001b[K     |█████████████████████████▍      | 19.1 MB 5.3 MB/s eta 0:00:01"
     ]
    },
    {
     "name": "stdout",
     "output_type": "stream",
     "text": [
      "\r",
      "\u001b[K     |█████████████████████████▍      | 19.1 MB 5.3 MB/s eta 0:00:01\r",
      "\u001b[K     |█████████████████████████▍      | 19.1 MB 5.3 MB/s eta 0:00:01\r",
      "\u001b[K     |█████████████████████████▍      | 19.1 MB 5.3 MB/s eta 0:00:01\r",
      "\u001b[K     |█████████████████████████▌      | 19.1 MB 5.3 MB/s eta 0:00:01\r",
      "\u001b[K     |█████████████████████████▌      | 19.2 MB 5.3 MB/s eta 0:00:01\r",
      "\u001b[K     |█████████████████████████▌      | 19.2 MB 5.3 MB/s eta 0:00:01\r",
      "\u001b[K     |█████████████████████████▌      | 19.2 MB 5.3 MB/s eta 0:00:01\r",
      "\u001b[K     |█████████████████████████▌      | 19.2 MB 5.3 MB/s eta 0:00:01\r",
      "\u001b[K     |█████████████████████████▌      | 19.2 MB 5.3 MB/s eta 0:00:01\r",
      "\u001b[K     |█████████████████████████▌      | 19.2 MB 5.3 MB/s eta 0:00:01\r",
      "\u001b[K     |█████████████████████████▌      | 19.2 MB 5.3 MB/s eta 0:00:01"
     ]
    },
    {
     "name": "stdout",
     "output_type": "stream",
     "text": [
      "\r",
      "\u001b[K     |█████████████████████████▋      | 19.2 MB 5.3 MB/s eta 0:00:01\r",
      "\u001b[K     |█████████████████████████▋      | 19.2 MB 5.3 MB/s eta 0:00:01\r",
      "\u001b[K     |█████████████████████████▋      | 19.3 MB 5.3 MB/s eta 0:00:01\r",
      "\u001b[K     |█████████████████████████▋      | 19.3 MB 5.3 MB/s eta 0:00:01\r",
      "\u001b[K     |█████████████████████████▋      | 19.3 MB 5.3 MB/s eta 0:00:01\r",
      "\u001b[K     |█████████████████████████▋      | 19.3 MB 5.3 MB/s eta 0:00:01\r",
      "\u001b[K     |█████████████████████████▋      | 19.3 MB 5.3 MB/s eta 0:00:01\r",
      "\u001b[K     |█████████████████████████▋      | 19.3 MB 5.3 MB/s eta 0:00:01\r",
      "\u001b[K     |█████████████████████████▊      | 19.3 MB 5.3 MB/s eta 0:00:01\r",
      "\u001b[K     |█████████████████████████▊      | 19.3 MB 5.3 MB/s eta 0:00:01\r",
      "\u001b[K     |█████████████████████████▊      | 19.3 MB 5.3 MB/s eta 0:00:01\r",
      "\u001b[K     |█████████████████████████▊      | 19.3 MB 5.3 MB/s eta 0:00:01\r",
      "\u001b[K     |█████████████████████████▊      | 19.4 MB 5.3 MB/s eta 0:00:01\r",
      "\u001b[K     |█████████████████████████▊      | 19.4 MB 5.3 MB/s eta 0:00:01\r",
      "\u001b[K     |█████████████████████████▊      | 19.4 MB 5.3 MB/s eta 0:00:01\r",
      "\u001b[K     |█████████████████████████▊      | 19.4 MB 5.3 MB/s eta 0:00:01\r",
      "\u001b[K     |█████████████████████████▉      | 19.4 MB 5.3 MB/s eta 0:00:01"
     ]
    },
    {
     "name": "stdout",
     "output_type": "stream",
     "text": [
      "\r",
      "\u001b[K     |█████████████████████████▉      | 19.4 MB 5.3 MB/s eta 0:00:01\r",
      "\u001b[K     |█████████████████████████▉      | 19.4 MB 5.3 MB/s eta 0:00:01\r",
      "\u001b[K     |█████████████████████████▉      | 19.4 MB 5.3 MB/s eta 0:00:01\r",
      "\u001b[K     |█████████████████████████▉      | 19.4 MB 5.3 MB/s eta 0:00:01\r",
      "\u001b[K     |█████████████████████████▉      | 19.4 MB 5.3 MB/s eta 0:00:01\r",
      "\u001b[K     |█████████████████████████▉      | 19.5 MB 5.3 MB/s eta 0:00:01\r",
      "\u001b[K     |█████████████████████████▉      | 19.5 MB 5.3 MB/s eta 0:00:01\r",
      "\u001b[K     |██████████████████████████      | 19.5 MB 5.3 MB/s eta 0:00:01\r",
      "\u001b[K     |██████████████████████████      | 19.5 MB 5.3 MB/s eta 0:00:01\r",
      "\u001b[K     |██████████████████████████      | 19.5 MB 5.3 MB/s eta 0:00:01\r",
      "\u001b[K     |██████████████████████████      | 19.5 MB 5.3 MB/s eta 0:00:01\r",
      "\u001b[K     |██████████████████████████      | 19.5 MB 5.3 MB/s eta 0:00:01\r",
      "\u001b[K     |██████████████████████████      | 19.5 MB 5.3 MB/s eta 0:00:01\r",
      "\u001b[K     |██████████████████████████      | 19.5 MB 5.3 MB/s eta 0:00:01\r",
      "\u001b[K     |██████████████████████████      | 19.5 MB 5.3 MB/s eta 0:00:01\r",
      "\u001b[K     |██████████████████████████      | 19.6 MB 5.3 MB/s eta 0:00:01\r",
      "\u001b[K     |██████████████████████████      | 19.6 MB 5.3 MB/s eta 0:00:01\r",
      "\u001b[K     |██████████████████████████      | 19.6 MB 5.3 MB/s eta 0:00:01\r",
      "\u001b[K     |██████████████████████████      | 19.6 MB 5.3 MB/s eta 0:00:01\r",
      "\u001b[K     |██████████████████████████      | 19.6 MB 5.3 MB/s eta 0:00:01\r",
      "\u001b[K     |██████████████████████████      | 19.6 MB 5.3 MB/s eta 0:00:01\r",
      "\u001b[K     |██████████████████████████      | 19.6 MB 5.3 MB/s eta 0:00:01\r",
      "\u001b[K     |██████████████████████████      | 19.6 MB 5.3 MB/s eta 0:00:01\r",
      "\u001b[K     |██████████████████████████      | 19.6 MB 5.3 MB/s eta 0:00:01\r",
      "\u001b[K     |██████████████████████████▏     | 19.7 MB 5.3 MB/s eta 0:00:01\r",
      "\u001b[K     |██████████████████████████▏     | 19.7 MB 5.3 MB/s eta 0:00:01\r",
      "\u001b[K     |██████████████████████████▏     | 19.7 MB 5.3 MB/s eta 0:00:01\r",
      "\u001b[K     |██████████████████████████▏     | 19.7 MB 5.3 MB/s eta 0:00:01\r",
      "\u001b[K     |██████████████████████████▏     | 19.7 MB 5.3 MB/s eta 0:00:01\r",
      "\u001b[K     |██████████████████████████▏     | 19.7 MB 5.3 MB/s eta 0:00:01\r",
      "\u001b[K     |██████████████████████████▏     | 19.7 MB 5.3 MB/s eta 0:00:01"
     ]
    },
    {
     "name": "stdout",
     "output_type": "stream",
     "text": [
      "\r",
      "\u001b[K     |██████████████████████████▏     | 19.7 MB 5.3 MB/s eta 0:00:01\r",
      "\u001b[K     |██████████████████████████▎     | 19.7 MB 5.3 MB/s eta 0:00:01\r",
      "\u001b[K     |██████████████████████████▎     | 19.7 MB 5.3 MB/s eta 0:00:01\r",
      "\u001b[K     |██████████████████████████▎     | 19.8 MB 5.3 MB/s eta 0:00:01\r",
      "\u001b[K     |██████████████████████████▎     | 19.8 MB 5.3 MB/s eta 0:00:01\r",
      "\u001b[K     |██████████████████████████▎     | 19.8 MB 5.3 MB/s eta 0:00:01\r",
      "\u001b[K     |██████████████████████████▎     | 19.8 MB 5.3 MB/s eta 0:00:01\r",
      "\u001b[K     |██████████████████████████▎     | 19.8 MB 5.3 MB/s eta 0:00:01\r",
      "\u001b[K     |██████████████████████████▎     | 19.8 MB 5.3 MB/s eta 0:00:01\r",
      "\u001b[K     |██████████████████████████▍     | 19.8 MB 5.3 MB/s eta 0:00:01\r",
      "\u001b[K     |██████████████████████████▍     | 19.8 MB 5.3 MB/s eta 0:00:01\r",
      "\u001b[K     |██████████████████████████▍     | 19.8 MB 5.3 MB/s eta 0:00:01\r",
      "\u001b[K     |██████████████████████████▍     | 19.8 MB 5.3 MB/s eta 0:00:01\r",
      "\u001b[K     |██████████████████████████▍     | 19.9 MB 5.3 MB/s eta 0:00:01\r",
      "\u001b[K     |██████████████████████████▍     | 19.9 MB 5.3 MB/s eta 0:00:01\r",
      "\u001b[K     |██████████████████████████▍     | 19.9 MB 5.3 MB/s eta 0:00:01\r",
      "\u001b[K     |██████████████████████████▍     | 19.9 MB 5.3 MB/s eta 0:00:01\r",
      "\u001b[K     |██████████████████████████▌     | 19.9 MB 5.3 MB/s eta 0:00:01\r",
      "\u001b[K     |██████████████████████████▌     | 19.9 MB 5.3 MB/s eta 0:00:01\r",
      "\u001b[K     |██████████████████████████▌     | 19.9 MB 5.3 MB/s eta 0:00:01\r",
      "\u001b[K     |██████████████████████████▌     | 19.9 MB 5.3 MB/s eta 0:00:01\r",
      "\u001b[K     |██████████████████████████▌     | 19.9 MB 5.3 MB/s eta 0:00:01\r",
      "\u001b[K     |██████████████████████████▌     | 19.9 MB 5.3 MB/s eta 0:00:01\r",
      "\u001b[K     |██████████████████████████▌     | 20.0 MB 5.3 MB/s eta 0:00:01\r",
      "\u001b[K     |██████████████████████████▌     | 20.0 MB 5.3 MB/s eta 0:00:01\r",
      "\u001b[K     |██████████████████████████▋     | 20.0 MB 5.3 MB/s eta 0:00:01\r",
      "\u001b[K     |██████████████████████████▋     | 20.0 MB 5.3 MB/s eta 0:00:01\r",
      "\u001b[K     |██████████████████████████▋     | 20.0 MB 5.3 MB/s eta 0:00:01\r",
      "\u001b[K     |██████████████████████████▋     | 20.0 MB 5.3 MB/s eta 0:00:01\r",
      "\u001b[K     |██████████████████████████▋     | 20.0 MB 5.3 MB/s eta 0:00:01\r",
      "\u001b[K     |██████████████████████████▋     | 20.0 MB 5.3 MB/s eta 0:00:01\r",
      "\u001b[K     |██████████████████████████▋     | 20.0 MB 5.3 MB/s eta 0:00:01"
     ]
    },
    {
     "name": "stdout",
     "output_type": "stream",
     "text": [
      "\r",
      "\u001b[K     |██████████████████████████▋     | 20.0 MB 5.3 MB/s eta 0:00:01\r",
      "\u001b[K     |██████████████████████████▊     | 20.1 MB 5.3 MB/s eta 0:00:01\r",
      "\u001b[K     |██████████████████████████▊     | 20.1 MB 5.3 MB/s eta 0:00:01\r",
      "\u001b[K     |██████████████████████████▊     | 20.1 MB 5.3 MB/s eta 0:00:01\r",
      "\u001b[K     |██████████████████████████▊     | 20.1 MB 5.3 MB/s eta 0:00:01\r",
      "\u001b[K     |██████████████████████████▊     | 20.1 MB 5.3 MB/s eta 0:00:01\r",
      "\u001b[K     |██████████████████████████▊     | 20.1 MB 5.3 MB/s eta 0:00:01\r",
      "\u001b[K     |██████████████████████████▊     | 20.1 MB 5.3 MB/s eta 0:00:01"
     ]
    },
    {
     "name": "stdout",
     "output_type": "stream",
     "text": [
      "\r",
      "\u001b[K     |██████████████████████████▊     | 20.1 MB 5.3 MB/s eta 0:00:01\r",
      "\u001b[K     |██████████████████████████▊     | 20.1 MB 5.3 MB/s eta 0:00:01\r",
      "\u001b[K     |██████████████████████████▉     | 20.2 MB 5.3 MB/s eta 0:00:01\r",
      "\u001b[K     |██████████████████████████▉     | 20.2 MB 5.3 MB/s eta 0:00:01\r",
      "\u001b[K     |██████████████████████████▉     | 20.2 MB 5.3 MB/s eta 0:00:01\r",
      "\u001b[K     |██████████████████████████▉     | 20.2 MB 5.3 MB/s eta 0:00:01\r",
      "\u001b[K     |██████████████████████████▉     | 20.2 MB 5.3 MB/s eta 0:00:01\r",
      "\u001b[K     |██████████████████████████▉     | 20.2 MB 5.3 MB/s eta 0:00:01\r",
      "\u001b[K     |██████████████████████████▉     | 20.2 MB 5.3 MB/s eta 0:00:01\r",
      "\u001b[K     |██████████████████████████▉     | 20.2 MB 5.3 MB/s eta 0:00:01\r",
      "\u001b[K     |███████████████████████████     | 20.2 MB 5.3 MB/s eta 0:00:01"
     ]
    },
    {
     "name": "stdout",
     "output_type": "stream",
     "text": [
      "\r",
      "\u001b[K     |███████████████████████████     | 20.2 MB 5.3 MB/s eta 0:00:01\r",
      "\u001b[K     |███████████████████████████     | 20.3 MB 5.3 MB/s eta 0:00:01\r",
      "\u001b[K     |███████████████████████████     | 20.3 MB 5.3 MB/s eta 0:00:01\r",
      "\u001b[K     |███████████████████████████     | 20.3 MB 5.3 MB/s eta 0:00:01\r",
      "\u001b[K     |███████████████████████████     | 20.3 MB 5.3 MB/s eta 0:00:01\r",
      "\u001b[K     |███████████████████████████     | 20.3 MB 5.3 MB/s eta 0:00:01\r",
      "\u001b[K     |███████████████████████████     | 20.3 MB 5.3 MB/s eta 0:00:01\r",
      "\u001b[K     |███████████████████████████     | 20.3 MB 5.3 MB/s eta 0:00:01\r",
      "\u001b[K     |███████████████████████████     | 20.3 MB 5.3 MB/s eta 0:00:01\r",
      "\u001b[K     |███████████████████████████     | 20.3 MB 5.3 MB/s eta 0:00:01"
     ]
    },
    {
     "name": "stdout",
     "output_type": "stream",
     "text": [
      "\r",
      "\u001b[K     |███████████████████████████     | 20.3 MB 1.2 MB/s eta 0:00:04\r",
      "\u001b[K     |███████████████████████████     | 20.4 MB 1.2 MB/s eta 0:00:04\r",
      "\u001b[K     |███████████████████████████     | 20.4 MB 1.2 MB/s eta 0:00:04\r",
      "\u001b[K     |███████████████████████████     | 20.4 MB 1.2 MB/s eta 0:00:04\r",
      "\u001b[K     |███████████████████████████     | 20.4 MB 1.2 MB/s eta 0:00:04\r",
      "\u001b[K     |███████████████████████████▏    | 20.4 MB 1.2 MB/s eta 0:00:04\r",
      "\u001b[K     |███████████████████████████▏    | 20.4 MB 1.2 MB/s eta 0:00:04\r",
      "\u001b[K     |███████████████████████████▏    | 20.4 MB 1.2 MB/s eta 0:00:04\r",
      "\u001b[K     |███████████████████████████▏    | 20.4 MB 1.2 MB/s eta 0:00:04\r",
      "\u001b[K     |███████████████████████████▏    | 20.4 MB 1.2 MB/s eta 0:00:04\r",
      "\u001b[K     |███████████████████████████▏    | 20.4 MB 1.2 MB/s eta 0:00:04\r",
      "\u001b[K     |███████████████████████████▏    | 20.5 MB 1.2 MB/s eta 0:00:04\r",
      "\u001b[K     |███████████████████████████▏    | 20.5 MB 1.2 MB/s eta 0:00:03\r",
      "\u001b[K     |███████████████████████████▎    | 20.5 MB 1.2 MB/s eta 0:00:03\r",
      "\u001b[K     |███████████████████████████▎    | 20.5 MB 1.2 MB/s eta 0:00:03\r",
      "\u001b[K     |███████████████████████████▎    | 20.5 MB 1.2 MB/s eta 0:00:03\r",
      "\u001b[K     |███████████████████████████▎    | 20.5 MB 1.2 MB/s eta 0:00:03"
     ]
    },
    {
     "name": "stdout",
     "output_type": "stream",
     "text": [
      "\r",
      "\u001b[K     |███████████████████████████▎    | 20.5 MB 1.2 MB/s eta 0:00:03\r",
      "\u001b[K     |███████████████████████████▎    | 20.5 MB 1.2 MB/s eta 0:00:03\r",
      "\u001b[K     |███████████████████████████▎    | 20.5 MB 1.2 MB/s eta 0:00:03\r",
      "\u001b[K     |███████████████████████████▎    | 20.6 MB 1.2 MB/s eta 0:00:03\r",
      "\u001b[K     |███████████████████████████▍    | 20.6 MB 1.2 MB/s eta 0:00:03\r",
      "\u001b[K     |███████████████████████████▍    | 20.6 MB 1.2 MB/s eta 0:00:03\r",
      "\u001b[K     |███████████████████████████▍    | 20.6 MB 1.2 MB/s eta 0:00:03\r",
      "\u001b[K     |███████████████████████████▍    | 20.6 MB 1.2 MB/s eta 0:00:03\r",
      "\u001b[K     |███████████████████████████▍    | 20.6 MB 1.2 MB/s eta 0:00:03\r",
      "\u001b[K     |███████████████████████████▍    | 20.6 MB 1.2 MB/s eta 0:00:03\r",
      "\u001b[K     |███████████████████████████▍    | 20.6 MB 1.2 MB/s eta 0:00:03\r",
      "\u001b[K     |███████████████████████████▍    | 20.6 MB 1.2 MB/s eta 0:00:03\r",
      "\u001b[K     |███████████████████████████▍    | 20.6 MB 1.2 MB/s eta 0:00:03\r",
      "\u001b[K     |███████████████████████████▌    | 20.7 MB 1.2 MB/s eta 0:00:03\r",
      "\u001b[K     |███████████████████████████▌    | 20.7 MB 1.2 MB/s eta 0:00:03\r",
      "\u001b[K     |███████████████████████████▌    | 20.7 MB 1.2 MB/s eta 0:00:03\r",
      "\u001b[K     |███████████████████████████▌    | 20.7 MB 1.2 MB/s eta 0:00:03\r",
      "\u001b[K     |███████████████████████████▌    | 20.7 MB 1.2 MB/s eta 0:00:03\r",
      "\u001b[K     |███████████████████████████▌    | 20.7 MB 1.2 MB/s eta 0:00:03\r",
      "\u001b[K     |███████████████████████████▌    | 20.7 MB 1.2 MB/s eta 0:00:03\r",
      "\u001b[K     |███████████████████████████▌    | 20.7 MB 1.2 MB/s eta 0:00:03\r",
      "\u001b[K     |███████████████████████████▋    | 20.7 MB 1.2 MB/s eta 0:00:03\r",
      "\u001b[K     |███████████████████████████▋    | 20.7 MB 1.2 MB/s eta 0:00:03\r",
      "\u001b[K     |███████████████████████████▋    | 20.8 MB 1.2 MB/s eta 0:00:03\r",
      "\u001b[K     |███████████████████████████▋    | 20.8 MB 1.2 MB/s eta 0:00:03\r",
      "\u001b[K     |███████████████████████████▋    | 20.8 MB 1.2 MB/s eta 0:00:03"
     ]
    },
    {
     "name": "stdout",
     "output_type": "stream",
     "text": [
      "\r",
      "\u001b[K     |███████████████████████████▋    | 20.8 MB 1.2 MB/s eta 0:00:03\r",
      "\u001b[K     |███████████████████████████▋    | 20.8 MB 1.2 MB/s eta 0:00:03\r",
      "\u001b[K     |███████████████████████████▋    | 20.8 MB 1.2 MB/s eta 0:00:03\r",
      "\u001b[K     |███████████████████████████▊    | 20.8 MB 1.2 MB/s eta 0:00:03\r",
      "\u001b[K     |███████████████████████████▊    | 20.8 MB 1.2 MB/s eta 0:00:03\r",
      "\u001b[K     |███████████████████████████▊    | 20.8 MB 1.2 MB/s eta 0:00:03\r",
      "\u001b[K     |███████████████████████████▊    | 20.8 MB 1.2 MB/s eta 0:00:03\r",
      "\u001b[K     |███████████████████████████▊    | 20.9 MB 1.2 MB/s eta 0:00:03\r",
      "\u001b[K     |███████████████████████████▊    | 20.9 MB 1.2 MB/s eta 0:00:03\r",
      "\u001b[K     |███████████████████████████▊    | 20.9 MB 1.2 MB/s eta 0:00:03\r",
      "\u001b[K     |███████████████████████████▊    | 20.9 MB 1.2 MB/s eta 0:00:03\r",
      "\u001b[K     |███████████████████████████▉    | 20.9 MB 1.2 MB/s eta 0:00:03\r",
      "\u001b[K     |███████████████████████████▉    | 20.9 MB 1.2 MB/s eta 0:00:03\r",
      "\u001b[K     |███████████████████████████▉    | 20.9 MB 1.2 MB/s eta 0:00:03\r",
      "\u001b[K     |███████████████████████████▉    | 20.9 MB 1.2 MB/s eta 0:00:03\r",
      "\u001b[K     |███████████████████████████▉    | 20.9 MB 1.2 MB/s eta 0:00:03\r",
      "\u001b[K     |███████████████████████████▉    | 21.0 MB 1.2 MB/s eta 0:00:03\r",
      "\u001b[K     |███████████████████████████▉    | 21.0 MB 1.2 MB/s eta 0:00:03\r",
      "\u001b[K     |███████████████████████████▉    | 21.0 MB 1.2 MB/s eta 0:00:03\r",
      "\u001b[K     |████████████████████████████    | 21.0 MB 1.2 MB/s eta 0:00:03\r",
      "\u001b[K     |████████████████████████████    | 21.0 MB 1.2 MB/s eta 0:00:03\r",
      "\u001b[K     |████████████████████████████    | 21.0 MB 1.2 MB/s eta 0:00:03\r",
      "\u001b[K     |████████████████████████████    | 21.0 MB 1.2 MB/s eta 0:00:03\r",
      "\u001b[K     |████████████████████████████    | 21.0 MB 1.2 MB/s eta 0:00:03\r",
      "\u001b[K     |████████████████████████████    | 21.0 MB 1.2 MB/s eta 0:00:03\r",
      "\u001b[K     |████████████████████████████    | 21.0 MB 1.2 MB/s eta 0:00:03\r",
      "\u001b[K     |████████████████████████████    | 21.1 MB 1.2 MB/s eta 0:00:03\r",
      "\u001b[K     |████████████████████████████    | 21.1 MB 1.2 MB/s eta 0:00:03\r",
      "\u001b[K     |████████████████████████████    | 21.1 MB 1.2 MB/s eta 0:00:03\r",
      "\u001b[K     |████████████████████████████    | 21.1 MB 1.2 MB/s eta 0:00:03\r",
      "\u001b[K     |████████████████████████████    | 21.1 MB 1.2 MB/s eta 0:00:03\r",
      "\u001b[K     |████████████████████████████    | 21.1 MB 1.2 MB/s eta 0:00:03\r",
      "\u001b[K     |████████████████████████████    | 21.1 MB 1.2 MB/s eta 0:00:03\r",
      "\u001b[K     |████████████████████████████    | 21.1 MB 1.2 MB/s eta 0:00:03\r",
      "\u001b[K     |████████████████████████████    | 21.1 MB 1.2 MB/s eta 0:00:03\r",
      "\u001b[K     |████████████████████████████    | 21.1 MB 1.2 MB/s eta 0:00:03\r",
      "\u001b[K     |████████████████████████████▏   | 21.2 MB 1.2 MB/s eta 0:00:03\r",
      "\u001b[K     |████████████████████████████▏   | 21.2 MB 1.2 MB/s eta 0:00:03\r",
      "\u001b[K     |████████████████████████████▏   | 21.2 MB 1.2 MB/s eta 0:00:03\r",
      "\u001b[K     |████████████████████████████▏   | 21.2 MB 1.2 MB/s eta 0:00:03\r",
      "\u001b[K     |████████████████████████████▏   | 21.2 MB 1.2 MB/s eta 0:00:03\r",
      "\u001b[K     |████████████████████████████▏   | 21.2 MB 1.2 MB/s eta 0:00:03\r",
      "\u001b[K     |████████████████████████████▏   | 21.2 MB 1.2 MB/s eta 0:00:03\r",
      "\u001b[K     |████████████████████████████▏   | 21.2 MB 1.2 MB/s eta 0:00:03\r",
      "\u001b[K     |████████████████████████████▎   | 21.2 MB 1.2 MB/s eta 0:00:03\r",
      "\u001b[K     |████████████████████████████▎   | 21.2 MB 1.2 MB/s eta 0:00:03\r",
      "\u001b[K     |████████████████████████████▎   | 21.3 MB 1.2 MB/s eta 0:00:03\r",
      "\u001b[K     |████████████████████████████▎   | 21.3 MB 1.2 MB/s eta 0:00:03\r",
      "\u001b[K     |████████████████████████████▎   | 21.3 MB 1.2 MB/s eta 0:00:03\r",
      "\u001b[K     |████████████████████████████▎   | 21.3 MB 1.2 MB/s eta 0:00:03\r",
      "\u001b[K     |████████████████████████████▎   | 21.3 MB 1.2 MB/s eta 0:00:03\r",
      "\u001b[K     |████████████████████████████▎   | 21.3 MB 1.2 MB/s eta 0:00:03\r",
      "\u001b[K     |████████████████████████████▍   | 21.3 MB 1.2 MB/s eta 0:00:03\r",
      "\u001b[K     |████████████████████████████▍   | 21.3 MB 1.2 MB/s eta 0:00:03\r",
      "\u001b[K     |████████████████████████████▍   | 21.3 MB 1.2 MB/s eta 0:00:03\r",
      "\u001b[K     |████████████████████████████▍   | 21.4 MB 1.2 MB/s eta 0:00:03\r",
      "\u001b[K     |████████████████████████████▍   | 21.4 MB 1.2 MB/s eta 0:00:03\r",
      "\u001b[K     |████████████████████████████▍   | 21.4 MB 1.2 MB/s eta 0:00:03\r",
      "\u001b[K     |████████████████████████████▍   | 21.4 MB 1.2 MB/s eta 0:00:03\r",
      "\u001b[K     |████████████████████████████▍   | 21.4 MB 1.2 MB/s eta 0:00:03\r",
      "\u001b[K     |████████████████████████████▌   | 21.4 MB 1.2 MB/s eta 0:00:03\r",
      "\u001b[K     |████████████████████████████▌   | 21.4 MB 1.2 MB/s eta 0:00:03\r",
      "\u001b[K     |████████████████████████████▌   | 21.4 MB 1.2 MB/s eta 0:00:03\r",
      "\u001b[K     |████████████████████████████▌   | 21.4 MB 1.2 MB/s eta 0:00:03\r",
      "\u001b[K     |████████████████████████████▌   | 21.4 MB 1.2 MB/s eta 0:00:03\r",
      "\u001b[K     |████████████████████████████▌   | 21.5 MB 1.2 MB/s eta 0:00:03\r",
      "\u001b[K     |████████████████████████████▌   | 21.5 MB 1.2 MB/s eta 0:00:03\r",
      "\u001b[K     |████████████████████████████▌   | 21.5 MB 1.2 MB/s eta 0:00:03\r",
      "\u001b[K     |████████████████████████████▋   | 21.5 MB 1.2 MB/s eta 0:00:03\r",
      "\u001b[K     |████████████████████████████▋   | 21.5 MB 1.2 MB/s eta 0:00:03\r",
      "\u001b[K     |████████████████████████████▋   | 21.5 MB 1.2 MB/s eta 0:00:03\r",
      "\u001b[K     |████████████████████████████▋   | 21.5 MB 1.2 MB/s eta 0:00:03\r",
      "\u001b[K     |████████████████████████████▋   | 21.5 MB 1.2 MB/s eta 0:00:03\r",
      "\u001b[K     |████████████████████████████▋   | 21.5 MB 1.2 MB/s eta 0:00:03\r",
      "\u001b[K     |████████████████████████████▋   | 21.5 MB 1.2 MB/s eta 0:00:03\r",
      "\u001b[K     |████████████████████████████▋   | 21.6 MB 1.2 MB/s eta 0:00:03\r",
      "\u001b[K     |████████████████████████████▊   | 21.6 MB 1.2 MB/s eta 0:00:03\r",
      "\u001b[K     |████████████████████████████▊   | 21.6 MB 1.2 MB/s eta 0:00:03\r",
      "\u001b[K     |████████████████████████████▊   | 21.6 MB 1.2 MB/s eta 0:00:03\r",
      "\u001b[K     |████████████████████████████▊   | 21.6 MB 1.2 MB/s eta 0:00:03\r",
      "\u001b[K     |████████████████████████████▊   | 21.6 MB 1.2 MB/s eta 0:00:03"
     ]
    },
    {
     "name": "stdout",
     "output_type": "stream",
     "text": [
      "\r",
      "\u001b[K     |████████████████████████████▊   | 21.6 MB 1.2 MB/s eta 0:00:03\r",
      "\u001b[K     |████████████████████████████▊   | 21.6 MB 1.2 MB/s eta 0:00:03\r",
      "\u001b[K     |████████████████████████████▊   | 21.6 MB 1.2 MB/s eta 0:00:03\r",
      "\u001b[K     |████████████████████████████▊   | 21.6 MB 1.2 MB/s eta 0:00:03\r",
      "\u001b[K     |████████████████████████████▉   | 21.7 MB 1.2 MB/s eta 0:00:03\r",
      "\u001b[K     |████████████████████████████▉   | 21.7 MB 1.2 MB/s eta 0:00:03\r",
      "\u001b[K     |████████████████████████████▉   | 21.7 MB 1.2 MB/s eta 0:00:02\r",
      "\u001b[K     |████████████████████████████▉   | 21.7 MB 1.2 MB/s eta 0:00:02\r",
      "\u001b[K     |████████████████████████████▉   | 21.7 MB 1.2 MB/s eta 0:00:02\r",
      "\u001b[K     |████████████████████████████▉   | 21.7 MB 1.2 MB/s eta 0:00:02\r",
      "\u001b[K     |████████████████████████████▉   | 21.7 MB 1.2 MB/s eta 0:00:02\r",
      "\u001b[K     |████████████████████████████▉   | 21.7 MB 1.2 MB/s eta 0:00:02\r",
      "\u001b[K     |█████████████████████████████   | 21.7 MB 1.2 MB/s eta 0:00:02\r",
      "\u001b[K     |█████████████████████████████   | 21.7 MB 1.2 MB/s eta 0:00:02\r",
      "\u001b[K     |█████████████████████████████   | 21.8 MB 1.2 MB/s eta 0:00:02\r",
      "\u001b[K     |█████████████████████████████   | 21.8 MB 1.2 MB/s eta 0:00:02\r",
      "\u001b[K     |█████████████████████████████   | 21.8 MB 1.2 MB/s eta 0:00:02\r",
      "\u001b[K     |█████████████████████████████   | 21.8 MB 1.2 MB/s eta 0:00:02\r",
      "\u001b[K     |█████████████████████████████   | 21.8 MB 1.2 MB/s eta 0:00:02\r",
      "\u001b[K     |█████████████████████████████   | 21.8 MB 1.2 MB/s eta 0:00:02\r",
      "\u001b[K     |█████████████████████████████   | 21.8 MB 1.2 MB/s eta 0:00:02\r",
      "\u001b[K     |█████████████████████████████   | 21.8 MB 1.2 MB/s eta 0:00:02\r",
      "\u001b[K     |█████████████████████████████   | 21.8 MB 1.2 MB/s eta 0:00:02\r",
      "\u001b[K     |█████████████████████████████   | 21.9 MB 1.2 MB/s eta 0:00:02\r",
      "\u001b[K     |█████████████████████████████   | 21.9 MB 1.2 MB/s eta 0:00:02\r",
      "\u001b[K     |█████████████████████████████   | 21.9 MB 1.2 MB/s eta 0:00:02\r",
      "\u001b[K     |█████████████████████████████   | 21.9 MB 1.2 MB/s eta 0:00:02\r",
      "\u001b[K     |█████████████████████████████   | 21.9 MB 1.2 MB/s eta 0:00:02\r",
      "\u001b[K     |█████████████████████████████▏  | 21.9 MB 1.2 MB/s eta 0:00:02\r",
      "\u001b[K     |█████████████████████████████▏  | 21.9 MB 1.2 MB/s eta 0:00:02\r",
      "\u001b[K     |█████████████████████████████▏  | 21.9 MB 1.2 MB/s eta 0:00:02\r",
      "\u001b[K     |█████████████████████████████▏  | 21.9 MB 1.2 MB/s eta 0:00:02\r",
      "\u001b[K     |█████████████████████████████▏  | 21.9 MB 1.2 MB/s eta 0:00:02\r",
      "\u001b[K     |█████████████████████████████▏  | 22.0 MB 1.2 MB/s eta 0:00:02\r",
      "\u001b[K     |█████████████████████████████▏  | 22.0 MB 1.2 MB/s eta 0:00:02\r",
      "\u001b[K     |█████████████████████████████▏  | 22.0 MB 1.2 MB/s eta 0:00:02\r",
      "\u001b[K     |█████████████████████████████▎  | 22.0 MB 1.2 MB/s eta 0:00:02\r",
      "\u001b[K     |█████████████████████████████▎  | 22.0 MB 1.2 MB/s eta 0:00:02\r",
      "\u001b[K     |█████████████████████████████▎  | 22.0 MB 1.2 MB/s eta 0:00:02\r",
      "\u001b[K     |█████████████████████████████▎  | 22.0 MB 1.2 MB/s eta 0:00:02\r",
      "\u001b[K     |█████████████████████████████▎  | 22.0 MB 1.2 MB/s eta 0:00:02\r",
      "\u001b[K     |█████████████████████████████▎  | 22.0 MB 1.2 MB/s eta 0:00:02\r",
      "\u001b[K     |█████████████████████████████▎  | 22.0 MB 1.2 MB/s eta 0:00:02\r",
      "\u001b[K     |█████████████████████████████▎  | 22.1 MB 1.2 MB/s eta 0:00:02\r",
      "\u001b[K     |█████████████████████████████▍  | 22.1 MB 1.2 MB/s eta 0:00:02\r",
      "\u001b[K     |█████████████████████████████▍  | 22.1 MB 1.2 MB/s eta 0:00:02\r",
      "\u001b[K     |█████████████████████████████▍  | 22.1 MB 1.2 MB/s eta 0:00:02\r",
      "\u001b[K     |█████████████████████████████▍  | 22.1 MB 1.2 MB/s eta 0:00:02"
     ]
    },
    {
     "name": "stdout",
     "output_type": "stream",
     "text": [
      "\r",
      "\u001b[K     |█████████████████████████████▍  | 22.1 MB 1.2 MB/s eta 0:00:02\r",
      "\u001b[K     |█████████████████████████████▍  | 22.1 MB 1.2 MB/s eta 0:00:02\r",
      "\u001b[K     |█████████████████████████████▍  | 22.1 MB 1.2 MB/s eta 0:00:02\r",
      "\u001b[K     |█████████████████████████████▍  | 22.1 MB 1.2 MB/s eta 0:00:02\r",
      "\u001b[K     |█████████████████████████████▍  | 22.1 MB 1.2 MB/s eta 0:00:02\r",
      "\u001b[K     |█████████████████████████████▌  | 22.2 MB 1.2 MB/s eta 0:00:02\r",
      "\u001b[K     |█████████████████████████████▌  | 22.2 MB 1.2 MB/s eta 0:00:02\r",
      "\u001b[K     |█████████████████████████████▌  | 22.2 MB 1.2 MB/s eta 0:00:02\r",
      "\u001b[K     |█████████████████████████████▌  | 22.2 MB 1.2 MB/s eta 0:00:02\r",
      "\u001b[K     |█████████████████████████████▌  | 22.2 MB 1.2 MB/s eta 0:00:02\r",
      "\u001b[K     |█████████████████████████████▌  | 22.2 MB 1.2 MB/s eta 0:00:02\r",
      "\u001b[K     |█████████████████████████████▌  | 22.2 MB 1.2 MB/s eta 0:00:02\r",
      "\u001b[K     |█████████████████████████████▌  | 22.2 MB 1.2 MB/s eta 0:00:02\r",
      "\u001b[K     |█████████████████████████████▋  | 22.2 MB 1.2 MB/s eta 0:00:02\r",
      "\u001b[K     |█████████████████████████████▋  | 22.3 MB 1.2 MB/s eta 0:00:02\r",
      "\u001b[K     |█████████████████████████████▋  | 22.3 MB 1.2 MB/s eta 0:00:02\r",
      "\u001b[K     |█████████████████████████████▋  | 22.3 MB 1.2 MB/s eta 0:00:02\r",
      "\u001b[K     |█████████████████████████████▋  | 22.3 MB 1.2 MB/s eta 0:00:02\r",
      "\u001b[K     |█████████████████████████████▋  | 22.3 MB 1.2 MB/s eta 0:00:02\r",
      "\u001b[K     |█████████████████████████████▋  | 22.3 MB 1.2 MB/s eta 0:00:02"
     ]
    },
    {
     "name": "stdout",
     "output_type": "stream",
     "text": [
      "\r",
      "\u001b[K     |█████████████████████████████▋  | 22.3 MB 1.2 MB/s eta 0:00:02\r",
      "\u001b[K     |█████████████████████████████▊  | 22.3 MB 1.2 MB/s eta 0:00:02\r",
      "\u001b[K     |█████████████████████████████▊  | 22.3 MB 1.2 MB/s eta 0:00:02\r",
      "\u001b[K     |█████████████████████████████▊  | 22.3 MB 1.2 MB/s eta 0:00:02\r",
      "\u001b[K     |█████████████████████████████▊  | 22.4 MB 1.2 MB/s eta 0:00:02\r",
      "\u001b[K     |█████████████████████████████▊  | 22.4 MB 1.2 MB/s eta 0:00:02\r",
      "\u001b[K     |█████████████████████████████▊  | 22.4 MB 1.2 MB/s eta 0:00:02\r",
      "\u001b[K     |█████████████████████████████▊  | 22.4 MB 1.2 MB/s eta 0:00:02\r",
      "\u001b[K     |█████████████████████████████▊  | 22.4 MB 1.2 MB/s eta 0:00:02\r",
      "\u001b[K     |█████████████████████████████▉  | 22.4 MB 1.2 MB/s eta 0:00:02\r",
      "\u001b[K     |█████████████████████████████▉  | 22.4 MB 1.2 MB/s eta 0:00:02\r",
      "\u001b[K     |█████████████████████████████▉  | 22.4 MB 1.2 MB/s eta 0:00:02\r",
      "\u001b[K     |█████████████████████████████▉  | 22.4 MB 1.2 MB/s eta 0:00:02\r",
      "\u001b[K     |█████████████████████████████▉  | 22.4 MB 1.2 MB/s eta 0:00:02\r",
      "\u001b[K     |█████████████████████████████▉  | 22.5 MB 1.2 MB/s eta 0:00:02\r",
      "\u001b[K     |█████████████████████████████▉  | 22.5 MB 1.2 MB/s eta 0:00:02\r",
      "\u001b[K     |█████████████████████████████▉  | 22.5 MB 1.2 MB/s eta 0:00:02\r",
      "\u001b[K     |██████████████████████████████  | 22.5 MB 1.2 MB/s eta 0:00:02\r",
      "\u001b[K     |██████████████████████████████  | 22.5 MB 1.2 MB/s eta 0:00:02\r",
      "\u001b[K     |██████████████████████████████  | 22.5 MB 1.2 MB/s eta 0:00:02\r",
      "\u001b[K     |██████████████████████████████  | 22.5 MB 1.2 MB/s eta 0:00:02\r",
      "\u001b[K     |██████████████████████████████  | 22.5 MB 1.2 MB/s eta 0:00:02\r",
      "\u001b[K     |██████████████████████████████  | 22.5 MB 1.2 MB/s eta 0:00:02\r",
      "\u001b[K     |██████████████████████████████  | 22.5 MB 1.2 MB/s eta 0:00:02\r",
      "\u001b[K     |██████████████████████████████  | 22.6 MB 1.2 MB/s eta 0:00:02\r",
      "\u001b[K     |██████████████████████████████  | 22.6 MB 1.2 MB/s eta 0:00:02\r",
      "\u001b[K     |██████████████████████████████  | 22.6 MB 1.2 MB/s eta 0:00:02\r",
      "\u001b[K     |██████████████████████████████  | 22.6 MB 1.2 MB/s eta 0:00:02\r",
      "\u001b[K     |██████████████████████████████  | 22.6 MB 1.2 MB/s eta 0:00:02\r",
      "\u001b[K     |██████████████████████████████  | 22.6 MB 1.2 MB/s eta 0:00:02\r",
      "\u001b[K     |██████████████████████████████  | 22.6 MB 1.2 MB/s eta 0:00:02\r",
      "\u001b[K     |██████████████████████████████  | 22.6 MB 1.2 MB/s eta 0:00:02\r",
      "\u001b[K     |██████████████████████████████  | 22.6 MB 1.2 MB/s eta 0:00:02\r",
      "\u001b[K     |██████████████████████████████▏ | 22.7 MB 1.2 MB/s eta 0:00:02\r",
      "\u001b[K     |██████████████████████████████▏ | 22.7 MB 1.2 MB/s eta 0:00:02\r",
      "\u001b[K     |██████████████████████████████▏ | 22.7 MB 1.2 MB/s eta 0:00:02\r",
      "\u001b[K     |██████████████████████████████▏ | 22.7 MB 1.2 MB/s eta 0:00:02\r",
      "\u001b[K     |██████████████████████████████▏ | 22.7 MB 1.2 MB/s eta 0:00:02\r",
      "\u001b[K     |██████████████████████████████▏ | 22.7 MB 1.2 MB/s eta 0:00:02\r",
      "\u001b[K     |██████████████████████████████▏ | 22.7 MB 1.2 MB/s eta 0:00:02\r",
      "\u001b[K     |██████████████████████████████▏ | 22.7 MB 1.2 MB/s eta 0:00:02\r",
      "\u001b[K     |██████████████████████████████▏ | 22.7 MB 1.2 MB/s eta 0:00:02\r",
      "\u001b[K     |██████████████████████████████▎ | 22.7 MB 1.2 MB/s eta 0:00:02\r",
      "\u001b[K     |██████████████████████████████▎ | 22.8 MB 1.2 MB/s eta 0:00:02\r",
      "\u001b[K     |██████████████████████████████▎ | 22.8 MB 1.2 MB/s eta 0:00:02\r",
      "\u001b[K     |██████████████████████████████▎ | 22.8 MB 1.2 MB/s eta 0:00:02\r",
      "\u001b[K     |██████████████████████████████▎ | 22.8 MB 1.2 MB/s eta 0:00:02\r",
      "\u001b[K     |██████████████████████████████▎ | 22.8 MB 1.2 MB/s eta 0:00:02\r",
      "\u001b[K     |██████████████████████████████▎ | 22.8 MB 1.2 MB/s eta 0:00:02\r",
      "\u001b[K     |██████████████████████████████▎ | 22.8 MB 1.2 MB/s eta 0:00:02\r",
      "\u001b[K     |██████████████████████████████▍ | 22.8 MB 1.2 MB/s eta 0:00:02\r",
      "\u001b[K     |██████████████████████████████▍ | 22.8 MB 1.2 MB/s eta 0:00:02\r",
      "\u001b[K     |██████████████████████████████▍ | 22.8 MB 1.2 MB/s eta 0:00:02\r",
      "\u001b[K     |██████████████████████████████▍ | 22.9 MB 1.2 MB/s eta 0:00:02\r",
      "\u001b[K     |██████████████████████████████▍ | 22.9 MB 1.2 MB/s eta 0:00:02\r",
      "\u001b[K     |██████████████████████████████▍ | 22.9 MB 1.2 MB/s eta 0:00:01\r",
      "\u001b[K     |██████████████████████████████▍ | 22.9 MB 1.2 MB/s eta 0:00:01\r",
      "\u001b[K     |██████████████████████████████▍ | 22.9 MB 1.2 MB/s eta 0:00:01\r",
      "\u001b[K     |██████████████████████████████▌ | 22.9 MB 1.2 MB/s eta 0:00:01"
     ]
    },
    {
     "name": "stdout",
     "output_type": "stream",
     "text": [
      "\r",
      "\u001b[K     |██████████████████████████████▌ | 22.9 MB 1.2 MB/s eta 0:00:01\r",
      "\u001b[K     |██████████████████████████████▌ | 22.9 MB 1.2 MB/s eta 0:00:01\r",
      "\u001b[K     |██████████████████████████████▌ | 22.9 MB 1.2 MB/s eta 0:00:01\r",
      "\u001b[K     |██████████████████████████████▌ | 22.9 MB 1.2 MB/s eta 0:00:01\r",
      "\u001b[K     |██████████████████████████████▌ | 23.0 MB 1.2 MB/s eta 0:00:01\r",
      "\u001b[K     |██████████████████████████████▌ | 23.0 MB 1.2 MB/s eta 0:00:01\r",
      "\u001b[K     |██████████████████████████████▌ | 23.0 MB 1.2 MB/s eta 0:00:01\r",
      "\u001b[K     |██████████████████████████████▋ | 23.0 MB 1.2 MB/s eta 0:00:01\r",
      "\u001b[K     |██████████████████████████████▋ | 23.0 MB 1.2 MB/s eta 0:00:01\r",
      "\u001b[K     |██████████████████████████████▋ | 23.0 MB 1.2 MB/s eta 0:00:01\r",
      "\u001b[K     |██████████████████████████████▋ | 23.0 MB 1.2 MB/s eta 0:00:01\r",
      "\u001b[K     |██████████████████████████████▋ | 23.0 MB 1.2 MB/s eta 0:00:01\r",
      "\u001b[K     |██████████████████████████████▋ | 23.0 MB 1.2 MB/s eta 0:00:01"
     ]
    },
    {
     "name": "stdout",
     "output_type": "stream",
     "text": [
      "\r",
      "\u001b[K     |██████████████████████████████▋ | 23.1 MB 1.2 MB/s eta 0:00:01\r",
      "\u001b[K     |██████████████████████████████▋ | 23.1 MB 1.2 MB/s eta 0:00:01\r",
      "\u001b[K     |██████████████████████████████▊ | 23.1 MB 1.2 MB/s eta 0:00:01\r",
      "\u001b[K     |██████████████████████████████▊ | 23.1 MB 1.2 MB/s eta 0:00:01\r",
      "\u001b[K     |██████████████████████████████▊ | 23.1 MB 1.2 MB/s eta 0:00:01\r",
      "\u001b[K     |██████████████████████████████▊ | 23.1 MB 1.2 MB/s eta 0:00:01\r",
      "\u001b[K     |██████████████████████████████▊ | 23.1 MB 1.2 MB/s eta 0:00:01\r",
      "\u001b[K     |██████████████████████████████▊ | 23.1 MB 1.2 MB/s eta 0:00:01\r",
      "\u001b[K     |██████████████████████████████▊ | 23.1 MB 1.2 MB/s eta 0:00:01\r",
      "\u001b[K     |██████████████████████████████▊ | 23.1 MB 1.2 MB/s eta 0:00:01\r",
      "\u001b[K     |██████████████████████████████▉ | 23.2 MB 1.2 MB/s eta 0:00:01\r",
      "\u001b[K     |██████████████████████████████▉ | 23.2 MB 1.2 MB/s eta 0:00:01\r",
      "\u001b[K     |██████████████████████████████▉ | 23.2 MB 1.2 MB/s eta 0:00:01\r",
      "\u001b[K     |██████████████████████████████▉ | 23.2 MB 1.2 MB/s eta 0:00:01\r",
      "\u001b[K     |██████████████████████████████▉ | 23.2 MB 1.2 MB/s eta 0:00:01\r",
      "\u001b[K     |██████████████████████████████▉ | 23.2 MB 1.2 MB/s eta 0:00:01"
     ]
    },
    {
     "name": "stdout",
     "output_type": "stream",
     "text": [
      "\r",
      "\u001b[K     |██████████████████████████████▉ | 23.2 MB 1.2 MB/s eta 0:00:01\r",
      "\u001b[K     |██████████████████████████████▉ | 23.2 MB 1.2 MB/s eta 0:00:01\r",
      "\u001b[K     |██████████████████████████████▉ | 23.2 MB 1.2 MB/s eta 0:00:01\r",
      "\u001b[K     |███████████████████████████████ | 23.2 MB 1.2 MB/s eta 0:00:01\r",
      "\u001b[K     |███████████████████████████████ | 23.3 MB 1.2 MB/s eta 0:00:01\r",
      "\u001b[K     |███████████████████████████████ | 23.3 MB 1.2 MB/s eta 0:00:01\r",
      "\u001b[K     |███████████████████████████████ | 23.3 MB 1.2 MB/s eta 0:00:01\r",
      "\u001b[K     |███████████████████████████████ | 23.3 MB 1.2 MB/s eta 0:00:01\r",
      "\u001b[K     |███████████████████████████████ | 23.3 MB 1.2 MB/s eta 0:00:01\r",
      "\u001b[K     |███████████████████████████████ | 23.3 MB 1.2 MB/s eta 0:00:01\r",
      "\u001b[K     |███████████████████████████████ | 23.3 MB 1.2 MB/s eta 0:00:01\r",
      "\u001b[K     |███████████████████████████████ | 23.3 MB 1.2 MB/s eta 0:00:01\r",
      "\u001b[K     |███████████████████████████████ | 23.3 MB 1.2 MB/s eta 0:00:01\r",
      "\u001b[K     |███████████████████████████████ | 23.3 MB 1.2 MB/s eta 0:00:01\r",
      "\u001b[K     |███████████████████████████████ | 23.4 MB 1.2 MB/s eta 0:00:01\r",
      "\u001b[K     |███████████████████████████████ | 23.4 MB 1.2 MB/s eta 0:00:01\r",
      "\u001b[K     |███████████████████████████████ | 23.4 MB 1.2 MB/s eta 0:00:01\r",
      "\u001b[K     |███████████████████████████████ | 23.4 MB 1.2 MB/s eta 0:00:01\r",
      "\u001b[K     |███████████████████████████████ | 23.4 MB 1.2 MB/s eta 0:00:01"
     ]
    },
    {
     "name": "stdout",
     "output_type": "stream",
     "text": [
      "\r",
      "\u001b[K     |███████████████████████████████▏| 23.4 MB 1.2 MB/s eta 0:00:01\r",
      "\u001b[K     |███████████████████████████████▏| 23.4 MB 1.2 MB/s eta 0:00:01\r",
      "\u001b[K     |███████████████████████████████▏| 23.4 MB 1.2 MB/s eta 0:00:01\r",
      "\u001b[K     |███████████████████████████████▏| 23.4 MB 1.2 MB/s eta 0:00:01\r",
      "\u001b[K     |███████████████████████████████▏| 23.4 MB 1.2 MB/s eta 0:00:01\r",
      "\u001b[K     |███████████████████████████████▏| 23.5 MB 1.2 MB/s eta 0:00:01\r",
      "\u001b[K     |███████████████████████████████▏| 23.5 MB 1.2 MB/s eta 0:00:01\r",
      "\u001b[K     |███████████████████████████████▏| 23.5 MB 1.2 MB/s eta 0:00:01"
     ]
    },
    {
     "name": "stdout",
     "output_type": "stream",
     "text": [
      "\r",
      "\u001b[K     |███████████████████████████████▎| 23.5 MB 1.2 MB/s eta 0:00:01\r",
      "\u001b[K     |███████████████████████████████▎| 23.5 MB 1.2 MB/s eta 0:00:01\r",
      "\u001b[K     |███████████████████████████████▎| 23.5 MB 1.2 MB/s eta 0:00:01\r",
      "\u001b[K     |███████████████████████████████▎| 23.5 MB 1.2 MB/s eta 0:00:01\r",
      "\u001b[K     |███████████████████████████████▎| 23.5 MB 1.2 MB/s eta 0:00:01\r",
      "\u001b[K     |███████████████████████████████▎| 23.5 MB 1.2 MB/s eta 0:00:01\r",
      "\u001b[K     |███████████████████████████████▎| 23.6 MB 1.2 MB/s eta 0:00:01\r",
      "\u001b[K     |███████████████████████████████▎| 23.6 MB 1.2 MB/s eta 0:00:01\r",
      "\u001b[K     |███████████████████████████████▍| 23.6 MB 1.2 MB/s eta 0:00:01\r",
      "\u001b[K     |███████████████████████████████▍| 23.6 MB 1.2 MB/s eta 0:00:01\r",
      "\u001b[K     |███████████████████████████████▍| 23.6 MB 1.2 MB/s eta 0:00:01\r",
      "\u001b[K     |███████████████████████████████▍| 23.6 MB 1.2 MB/s eta 0:00:01\r",
      "\u001b[K     |███████████████████████████████▍| 23.6 MB 1.2 MB/s eta 0:00:01\r",
      "\u001b[K     |███████████████████████████████▍| 23.6 MB 1.2 MB/s eta 0:00:01\r",
      "\u001b[K     |███████████████████████████████▍| 23.6 MB 1.2 MB/s eta 0:00:01\r",
      "\u001b[K     |███████████████████████████████▍| 23.6 MB 1.2 MB/s eta 0:00:01"
     ]
    },
    {
     "name": "stdout",
     "output_type": "stream",
     "text": [
      "\r",
      "\u001b[K     |███████████████████████████████▌| 23.7 MB 1.2 MB/s eta 0:00:01\r",
      "\u001b[K     |███████████████████████████████▌| 23.7 MB 1.2 MB/s eta 0:00:01\r",
      "\u001b[K     |███████████████████████████████▌| 23.7 MB 1.2 MB/s eta 0:00:01\r",
      "\u001b[K     |███████████████████████████████▌| 23.7 MB 1.2 MB/s eta 0:00:01\r",
      "\u001b[K     |███████████████████████████████▌| 23.7 MB 1.2 MB/s eta 0:00:01\r",
      "\u001b[K     |███████████████████████████████▌| 23.7 MB 1.2 MB/s eta 0:00:01\r",
      "\u001b[K     |███████████████████████████████▌| 23.7 MB 1.2 MB/s eta 0:00:01\r",
      "\u001b[K     |███████████████████████████████▌| 23.7 MB 1.2 MB/s eta 0:00:01\r",
      "\u001b[K     |███████████████████████████████▌| 23.7 MB 1.2 MB/s eta 0:00:01\r",
      "\u001b[K     |███████████████████████████████▋| 23.7 MB 1.2 MB/s eta 0:00:01\r",
      "\u001b[K     |███████████████████████████████▋| 23.8 MB 1.2 MB/s eta 0:00:01\r",
      "\u001b[K     |███████████████████████████████▋| 23.8 MB 1.2 MB/s eta 0:00:01\r",
      "\u001b[K     |███████████████████████████████▋| 23.8 MB 1.2 MB/s eta 0:00:01"
     ]
    },
    {
     "name": "stdout",
     "output_type": "stream",
     "text": [
      "\r",
      "\u001b[K     |███████████████████████████████▋| 23.8 MB 1.2 MB/s eta 0:00:01\r",
      "\u001b[K     |███████████████████████████████▋| 23.8 MB 1.2 MB/s eta 0:00:01\r",
      "\u001b[K     |███████████████████████████████▋| 23.8 MB 1.2 MB/s eta 0:00:01\r",
      "\u001b[K     |███████████████████████████████▋| 23.8 MB 1.2 MB/s eta 0:00:01\r",
      "\u001b[K     |███████████████████████████████▊| 23.8 MB 1.2 MB/s eta 0:00:01\r",
      "\u001b[K     |███████████████████████████████▊| 23.8 MB 1.2 MB/s eta 0:00:01\r",
      "\u001b[K     |███████████████████████████████▊| 23.8 MB 1.2 MB/s eta 0:00:01\r",
      "\u001b[K     |███████████████████████████████▊| 23.9 MB 1.2 MB/s eta 0:00:01\r",
      "\u001b[K     |███████████████████████████████▊| 23.9 MB 1.2 MB/s eta 0:00:01"
     ]
    },
    {
     "name": "stdout",
     "output_type": "stream",
     "text": [
      "\r",
      "\u001b[K     |███████████████████████████████▊| 23.9 MB 1.2 MB/s eta 0:00:01\r",
      "\u001b[K     |███████████████████████████████▊| 23.9 MB 1.2 MB/s eta 0:00:01\r",
      "\u001b[K     |███████████████████████████████▊| 23.9 MB 1.2 MB/s eta 0:00:01\r",
      "\u001b[K     |███████████████████████████████▉| 23.9 MB 1.2 MB/s eta 0:00:01\r",
      "\u001b[K     |███████████████████████████████▉| 23.9 MB 1.2 MB/s eta 0:00:01\r",
      "\u001b[K     |███████████████████████████████▉| 23.9 MB 1.2 MB/s eta 0:00:01\r",
      "\u001b[K     |███████████████████████████████▉| 23.9 MB 1.2 MB/s eta 0:00:01\r",
      "\u001b[K     |███████████████████████████████▉| 24.0 MB 1.2 MB/s eta 0:00:01\r",
      "\u001b[K     |███████████████████████████████▉| 24.0 MB 1.2 MB/s eta 0:00:01\r",
      "\u001b[K     |███████████████████████████████▉| 24.0 MB 1.2 MB/s eta 0:00:01\r",
      "\u001b[K     |███████████████████████████████▉| 24.0 MB 1.2 MB/s eta 0:00:01\r",
      "\u001b[K     |████████████████████████████████| 24.0 MB 1.2 MB/s eta 0:00:01\r",
      "\u001b[K     |████████████████████████████████| 24.0 MB 1.2 MB/s eta 0:00:01\r",
      "\u001b[K     |████████████████████████████████| 24.0 MB 1.2 MB/s eta 0:00:01\r",
      "\u001b[K     |████████████████████████████████| 24.0 MB 1.2 MB/s eta 0:00:01\r",
      "\u001b[K     |████████████████████████████████| 24.0 MB 1.2 MB/s eta 0:00:01\r",
      "\u001b[K     |████████████████████████████████| 24.0 MB 1.2 MB/s eta 0:00:01\r",
      "\u001b[K     |████████████████████████████████| 24.1 MB 1.2 MB/s eta 0:00:01\r",
      "\u001b[K     |████████████████████████████████| 24.1 MB 1.2 MB/s eta 0:00:01\r",
      "\u001b[K     |████████████████████████████████| 24.1 MB 1.2 MB/s \r\n"
     ]
    },
    {
     "name": "stdout",
     "output_type": "stream",
     "text": [
      "\u001b[?25hRequirement already satisfied: smart-open>=1.8.1 in /opt/conda/lib/python3.8/site-packages (from gensim) (5.2.1)\r\n",
      "Requirement already satisfied: scipy>=0.18.1 in /opt/conda/lib/python3.8/site-packages (from gensim) (1.6.3)\r\n",
      "Requirement already satisfied: numpy>=1.17.0 in /opt/conda/lib/python3.8/site-packages (from gensim) (1.21.2)\r\n"
     ]
    },
    {
     "name": "stdout",
     "output_type": "stream",
     "text": [
      "Installing collected packages: gensim\r\n"
     ]
    },
    {
     "name": "stdout",
     "output_type": "stream",
     "text": [
      "Successfully installed gensim-4.1.2\r\n",
      "\u001b[33mWARNING: Running pip as the 'root' user can result in broken permissions and conflicting behaviour with the system package manager. It is recommended to use a virtual environment instead: https://pip.pypa.io/warnings/venv\u001b[0m\r\n"
     ]
    }
   ],
   "source": [
    "!pip install torchvision \n",
    "!pip install torchmetrics\n",
    "!pip install pymorphy2\n",
    "!pip install pandas\n",
    "!pip install pymystem3\n",
    "!pip install gensim"
   ]
  },
  {
   "cell_type": "code",
   "execution_count": null,
   "metadata": {
    "colab": {
     "base_uri": "https://localhost:8080/"
    },
    "gradient": {
     "editing": false,
     "id": "81bfedd0-55e6-4f56-9784-7f47d2f28c49",
     "kernelId": "d0280aff-ead3-4f02-bcc8-b56694c3ad6e"
    },
    "id": "L5zEZh6e1lk0",
    "outputId": "40d96dd9-39e3-4918-b15e-e3764acd6493"
   },
   "outputs": [],
   "source": [
    "import pandas as pd\n",
    "import nltk\n",
    "nltk.download('punkt')\n",
    "from nltk.tokenize import word_tokenize\n",
    "from pymystem3 import Mystem\n",
    "from sklearn.feature_extraction.text import CountVectorizer\n",
    "import collections\n",
    "from collections import Counter\n",
    "import torch\n",
    "import torchvision\n",
    "from sklearn.model_selection import train_test_split\n",
    "from sklearn.utils import shuffle\n",
    "import torch\n",
    "from torchtext import data\n",
    "import torch.nn as nn\n",
    "import torch.nn.functional as F\n",
    "from torch.utils.data import Dataset, DataLoader, RandomSampler, SequentialSampler\n",
    "from torch.nn.utils.rnn import pad_sequence\n",
    "import torch.optim as optim\n",
    "from torchmetrics import F1\n",
    "from torchmetrics.functional import f1, recall\n",
    "from tqdm import tqdm\n",
    "tqdm.pandas()\n",
    "import pymorphy2\n",
    "morph = pymorphy2.MorphAnalyzer()\n",
    "import matplotlib.pyplot as plt\n",
    "from gensim.models import KeyedVectors\n",
    "import numpy as np"
   ]
  },
  {
   "cell_type": "code",
   "execution_count": null,
   "metadata": {
    "colab": {
     "base_uri": "https://localhost:8080/"
    },
    "gradient": {
     "editing": false,
     "id": "96880ca2-64d5-4565-8251-e86add2599de",
     "kernelId": "d0280aff-ead3-4f02-bcc8-b56694c3ad6e"
    },
    "id": "CAy8sRyE3TIn",
    "outputId": "7c47c688-8a75-43d9-f1db-26fa395e190a"
   },
   "outputs": [
    {
     "name": "stderr",
     "output_type": "stream",
     "text": [
      "[nltk_data] Downloading package punkt to /root/nltk_data...\n"
     ]
    },
    {
     "name": "stderr",
     "output_type": "stream",
     "text": [
      "[nltk_data]   Unzipping tokenizers/punkt.zip.\n"
     ]
    }
   ],
   "source": [
    "DEVICE = torch.device('cuda') if torch.cuda.is_available() else torch.device('cpu')\n",
    "DEVICE"
   ]
  },
  {
   "cell_type": "markdown",
   "metadata": {
    "gradient": {
     "editing": false,
     "id": "e43c1f3a-3a90-4bff-82d4-bdc16200d1c4",
     "kernelId": "d0280aff-ead3-4f02-bcc8-b56694c3ad6e"
    },
    "id": "PK0XE0iaHiri"
   },
   "source": [
    "## Загружаем данные\n",
    "Работает долго"
   ]
  },
  {
   "cell_type": "code",
   "execution_count": null,
   "metadata": {
    "gradient": {
     "editing": false,
     "id": "183ce40e-ce3e-44e0-926a-912436b3e98f",
     "kernelId": "d0280aff-ead3-4f02-bcc8-b56694c3ad6e"
    },
    "id": "YxB_-6pAHbon"
   },
   "outputs": [],
   "source": [
    "# Настраиваем токенизацию\n",
    "def tokenizing(text):\n",
    "    toks = word_tokenize(text)\n",
    "    words = [w.lower() for w in toks if w.isalpha()]\n",
    "    return words"
   ]
  },
  {
   "cell_type": "code",
   "execution_count": null,
   "metadata": {
    "gradient": {
     "editing": false,
     "id": "a7970641-c7f3-4fdd-a0ba-ae4c38788fc1",
     "kernelId": "d0280aff-ead3-4f02-bcc8-b56694c3ad6e"
    },
    "id": "GvDb35JfBbue"
   },
   "outputs": [
    {
     "data": {
      "text/plain": [
       "device(type='cuda')"
      ]
     },
     "execution_count": 8,
     "metadata": {},
     "output_type": "execute_result"
    }
   ],
   "source": [
    "# Загружаем эмбединги\n",
    "w2v = KeyedVectors.load_word2vec_format('./GoogleNews-vectors-negative300.bin.gz', binary=True)"
   ]
  },
  {
   "cell_type": "code",
   "execution_count": null,
   "metadata": {
    "gradient": {
     "editing": false,
     "id": "fb3be8d2-6f95-4632-8478-915fbe047bfb",
     "kernelId": "d0280aff-ead3-4f02-bcc8-b56694c3ad6e"
    },
    "id": "Qh58-qhF3nBt"
   },
   "outputs": [],
   "source": [
    "# Читаем данные\n",
    "news_df = pd.read_csv('./Fake.csv').drop_duplicates().reset_index(drop=True)"
   ]
  },
  {
   "cell_type": "code",
   "execution_count": null,
   "metadata": {
    "colab": {
     "base_uri": "https://localhost:8080/"
    },
    "gradient": {
     "editing": false,
     "id": "ccd46aec-d099-4d7e-b4a6-4a208615b42e",
     "kernelId": "d0280aff-ead3-4f02-bcc8-b56694c3ad6e"
    },
    "id": "nWOSYwZRIH41",
    "outputId": "e37258c5-e162-4519-e2bc-2117de56e581"
   },
   "outputs": [],
   "source": [
    "# По статье надо токенизировать и сделать все буквы строчными\n",
    "news_df['words'] = news_df['text'].progress_apply(lambda x: tokenizing(x))\n",
    "news_df['length'] = news_df['words'].progress_apply(lambda x: len(x))"
   ]
  },
  {
   "cell_type": "code",
   "execution_count": null,
   "metadata": {
    "colab": {
     "base_uri": "https://localhost:8080/"
    },
    "gradient": {
     "editing": false,
     "id": "799d940d-e3cd-4814-bef4-356c658f497e",
     "kernelId": "d0280aff-ead3-4f02-bcc8-b56694c3ad6e"
    },
    "id": "VcRJK-0hbiUN",
    "outputId": "b7deefa8-daee-4e4b-8156-60722334c84c"
   },
   "outputs": [
    {
     "name": "stderr",
     "output_type": "stream",
     "text": [
      "\r",
      "  0%|          | 0/23478 [00:00<?, ?it/s]"
     ]
    },
    {
     "name": "stderr",
     "output_type": "stream",
     "text": [
      "\r",
      "100%|██████████| 23478/23478 [00:00<00:00, 690642.43it/s]"
     ]
    },
    {
     "name": "stderr",
     "output_type": "stream",
     "text": [
      "\n"
     ]
    }
   ],
   "source": [
    "subject_id = {'Government News':0.0, 'Middle-east':1.0, 'News': 2.0, 'US_News': 3.0, 'left-news' : 4.0, 'politics': 5.0}\n",
    "news_df['class'] = news_df['subject'].progress_apply(lambda x: subject_id[x])"
   ]
  },
  {
   "cell_type": "markdown",
   "metadata": {
    "gradient": {
     "editing": false,
     "id": "503dad0a-25d6-449b-916c-ae0a35dc3b35",
     "kernelId": "d0280aff-ead3-4f02-bcc8-b56694c3ad6e"
    },
    "id": "DZSNkNCj2uAv"
   },
   "source": [
    "## Смотрим на данные"
   ]
  },
  {
   "cell_type": "code",
   "execution_count": null,
   "metadata": {
    "colab": {
     "base_uri": "https://localhost:8080/",
     "height": 641
    },
    "gradient": {
     "editing": false,
     "id": "b449d564-ef2b-4599-a557-3275665e5e85",
     "kernelId": "d0280aff-ead3-4f02-bcc8-b56694c3ad6e"
    },
    "id": "f2j2LeH-0W1r",
    "outputId": "fad7abe7-9db7-4dc5-e096-487dd45b44c4"
   },
   "outputs": [
    {
     "data": {
      "text/html": [
       "<div>\n",
       "<style scoped>\n",
       "    .dataframe tbody tr th:only-of-type {\n",
       "        vertical-align: middle;\n",
       "    }\n",
       "\n",
       "    .dataframe tbody tr th {\n",
       "        vertical-align: top;\n",
       "    }\n",
       "\n",
       "    .dataframe thead th {\n",
       "        text-align: right;\n",
       "    }\n",
       "</style>\n",
       "<table border=\"1\" class=\"dataframe\">\n",
       "  <thead>\n",
       "    <tr style=\"text-align: right;\">\n",
       "      <th></th>\n",
       "      <th>title</th>\n",
       "      <th>text</th>\n",
       "      <th>subject</th>\n",
       "      <th>date</th>\n",
       "      <th>words</th>\n",
       "      <th>length</th>\n",
       "      <th>class</th>\n",
       "    </tr>\n",
       "  </thead>\n",
       "  <tbody>\n",
       "    <tr>\n",
       "      <th>0</th>\n",
       "      <td>Donald Trump Sends Out Embarrassing New Year’...</td>\n",
       "      <td>Donald Trump just couldn t wish all Americans ...</td>\n",
       "      <td>News</td>\n",
       "      <td>December 31, 2017</td>\n",
       "      <td>[donald, trump, just, couldn, t, wish, all, am...</td>\n",
       "      <td>447</td>\n",
       "      <td>2.0</td>\n",
       "    </tr>\n",
       "    <tr>\n",
       "      <th>1</th>\n",
       "      <td>Drunk Bragging Trump Staffer Started Russian ...</td>\n",
       "      <td>House Intelligence Committee Chairman Devin Nu...</td>\n",
       "      <td>News</td>\n",
       "      <td>December 31, 2017</td>\n",
       "      <td>[house, intelligence, committee, chairman, dev...</td>\n",
       "      <td>292</td>\n",
       "      <td>2.0</td>\n",
       "    </tr>\n",
       "    <tr>\n",
       "      <th>2</th>\n",
       "      <td>Sheriff David Clarke Becomes An Internet Joke...</td>\n",
       "      <td>On Friday, it was revealed that former Milwauk...</td>\n",
       "      <td>News</td>\n",
       "      <td>December 30, 2017</td>\n",
       "      <td>[on, friday, it, was, revealed, that, former, ...</td>\n",
       "      <td>526</td>\n",
       "      <td>2.0</td>\n",
       "    </tr>\n",
       "    <tr>\n",
       "      <th>3</th>\n",
       "      <td>Trump Is So Obsessed He Even Has Obama’s Name...</td>\n",
       "      <td>On Christmas day, Donald Trump announced that ...</td>\n",
       "      <td>News</td>\n",
       "      <td>December 29, 2017</td>\n",
       "      <td>[on, christmas, day, donald, trump, announced,...</td>\n",
       "      <td>401</td>\n",
       "      <td>2.0</td>\n",
       "    </tr>\n",
       "    <tr>\n",
       "      <th>4</th>\n",
       "      <td>Pope Francis Just Called Out Donald Trump Dur...</td>\n",
       "      <td>Pope Francis used his annual Christmas Day mes...</td>\n",
       "      <td>News</td>\n",
       "      <td>December 25, 2017</td>\n",
       "      <td>[pope, francis, used, his, annual, christmas, ...</td>\n",
       "      <td>418</td>\n",
       "      <td>2.0</td>\n",
       "    </tr>\n",
       "    <tr>\n",
       "      <th>...</th>\n",
       "      <td>...</td>\n",
       "      <td>...</td>\n",
       "      <td>...</td>\n",
       "      <td>...</td>\n",
       "      <td>...</td>\n",
       "      <td>...</td>\n",
       "      <td>...</td>\n",
       "    </tr>\n",
       "    <tr>\n",
       "      <th>23473</th>\n",
       "      <td>McPain: John McCain Furious That Iran Treated ...</td>\n",
       "      <td>21st Century Wire says As 21WIRE reported earl...</td>\n",
       "      <td>Middle-east</td>\n",
       "      <td>January 16, 2016</td>\n",
       "      <td>[century, wire, says, as, reported, earlier, t...</td>\n",
       "      <td>501</td>\n",
       "      <td>1.0</td>\n",
       "    </tr>\n",
       "    <tr>\n",
       "      <th>23474</th>\n",
       "      <td>JUSTICE? Yahoo Settles E-mail Privacy Class-ac...</td>\n",
       "      <td>21st Century Wire says It s a familiar theme. ...</td>\n",
       "      <td>Middle-east</td>\n",
       "      <td>January 16, 2016</td>\n",
       "      <td>[century, wire, says, it, s, a, familiar, them...</td>\n",
       "      <td>284</td>\n",
       "      <td>1.0</td>\n",
       "    </tr>\n",
       "    <tr>\n",
       "      <th>23475</th>\n",
       "      <td>Sunnistan: US and Allied ‘Safe Zone’ Plan to T...</td>\n",
       "      <td>Patrick Henningsen  21st Century WireRemember ...</td>\n",
       "      <td>Middle-east</td>\n",
       "      <td>January 15, 2016</td>\n",
       "      <td>[patrick, henningsen, century, wireremember, w...</td>\n",
       "      <td>4037</td>\n",
       "      <td>1.0</td>\n",
       "    </tr>\n",
       "    <tr>\n",
       "      <th>23476</th>\n",
       "      <td>How to Blow $700 Million: Al Jazeera America F...</td>\n",
       "      <td>21st Century Wire says Al Jazeera America will...</td>\n",
       "      <td>Middle-east</td>\n",
       "      <td>January 14, 2016</td>\n",
       "      <td>[century, wire, says, al, jazeera, america, wi...</td>\n",
       "      <td>430</td>\n",
       "      <td>1.0</td>\n",
       "    </tr>\n",
       "    <tr>\n",
       "      <th>23477</th>\n",
       "      <td>10 U.S. Navy Sailors Held by Iranian Military ...</td>\n",
       "      <td>21st Century Wire says As 21WIRE predicted in ...</td>\n",
       "      <td>Middle-east</td>\n",
       "      <td>January 12, 2016</td>\n",
       "      <td>[century, wire, says, as, predicted, in, its, ...</td>\n",
       "      <td>835</td>\n",
       "      <td>1.0</td>\n",
       "    </tr>\n",
       "  </tbody>\n",
       "</table>\n",
       "<p>23478 rows × 7 columns</p>\n",
       "</div>"
      ],
      "text/plain": [
       "                                                   title  \\\n",
       "0       Donald Trump Sends Out Embarrassing New Year’...   \n",
       "1       Drunk Bragging Trump Staffer Started Russian ...   \n",
       "2       Sheriff David Clarke Becomes An Internet Joke...   \n",
       "3       Trump Is So Obsessed He Even Has Obama’s Name...   \n",
       "4       Pope Francis Just Called Out Donald Trump Dur...   \n",
       "...                                                  ...   \n",
       "23473  McPain: John McCain Furious That Iran Treated ...   \n",
       "23474  JUSTICE? Yahoo Settles E-mail Privacy Class-ac...   \n",
       "23475  Sunnistan: US and Allied ‘Safe Zone’ Plan to T...   \n",
       "23476  How to Blow $700 Million: Al Jazeera America F...   \n",
       "23477  10 U.S. Navy Sailors Held by Iranian Military ...   \n",
       "\n",
       "                                                    text      subject  \\\n",
       "0      Donald Trump just couldn t wish all Americans ...         News   \n",
       "1      House Intelligence Committee Chairman Devin Nu...         News   \n",
       "2      On Friday, it was revealed that former Milwauk...         News   \n",
       "3      On Christmas day, Donald Trump announced that ...         News   \n",
       "4      Pope Francis used his annual Christmas Day mes...         News   \n",
       "...                                                  ...          ...   \n",
       "23473  21st Century Wire says As 21WIRE reported earl...  Middle-east   \n",
       "23474  21st Century Wire says It s a familiar theme. ...  Middle-east   \n",
       "23475  Patrick Henningsen  21st Century WireRemember ...  Middle-east   \n",
       "23476  21st Century Wire says Al Jazeera America will...  Middle-east   \n",
       "23477  21st Century Wire says As 21WIRE predicted in ...  Middle-east   \n",
       "\n",
       "                    date                                              words  \\\n",
       "0      December 31, 2017  [donald, trump, just, couldn, t, wish, all, am...   \n",
       "1      December 31, 2017  [house, intelligence, committee, chairman, dev...   \n",
       "2      December 30, 2017  [on, friday, it, was, revealed, that, former, ...   \n",
       "3      December 29, 2017  [on, christmas, day, donald, trump, announced,...   \n",
       "4      December 25, 2017  [pope, francis, used, his, annual, christmas, ...   \n",
       "...                  ...                                                ...   \n",
       "23473   January 16, 2016  [century, wire, says, as, reported, earlier, t...   \n",
       "23474   January 16, 2016  [century, wire, says, it, s, a, familiar, them...   \n",
       "23475   January 15, 2016  [patrick, henningsen, century, wireremember, w...   \n",
       "23476   January 14, 2016  [century, wire, says, al, jazeera, america, wi...   \n",
       "23477   January 12, 2016  [century, wire, says, as, predicted, in, its, ...   \n",
       "\n",
       "       length  class  \n",
       "0         447    2.0  \n",
       "1         292    2.0  \n",
       "2         526    2.0  \n",
       "3         401    2.0  \n",
       "4         418    2.0  \n",
       "...       ...    ...  \n",
       "23473     501    1.0  \n",
       "23474     284    1.0  \n",
       "23475    4037    1.0  \n",
       "23476     430    1.0  \n",
       "23477     835    1.0  \n",
       "\n",
       "[23478 rows x 7 columns]"
      ]
     },
     "execution_count": 15,
     "metadata": {},
     "output_type": "execute_result"
    }
   ],
   "source": [
    "news_df"
   ]
  },
  {
   "cell_type": "code",
   "execution_count": null,
   "metadata": {
    "colab": {
     "base_uri": "https://localhost:8080/"
    },
    "gradient": {
     "editing": false,
     "id": "d3a7438f-c4d7-4b37-a3f6-da082a5fe734",
     "kernelId": "d0280aff-ead3-4f02-bcc8-b56694c3ad6e"
    },
    "id": "j4ITA9rU1GiS",
    "outputId": "19eb41df-a1ae-4300-b957-c3304e2e7653"
   },
   "outputs": [
    {
     "data": {
      "text/plain": [
       "subject\n",
       "Government News    1570\n",
       "Middle-east         778\n",
       "News               9050\n",
       "US_News             783\n",
       "left-news          4459\n",
       "politics           6838\n",
       "dtype: int64"
      ]
     },
     "execution_count": 16,
     "metadata": {},
     "output_type": "execute_result"
    }
   ],
   "source": [
    "news_df.groupby('subject').size()"
   ]
  },
  {
   "cell_type": "markdown",
   "metadata": {
    "gradient": {
     "editing": false,
     "id": "09335d09-99b1-4414-9cbd-c96c1ff343ed",
     "kernelId": "d0280aff-ead3-4f02-bcc8-b56694c3ad6e"
    },
    "id": "P8y0rSii3Ii_"
   },
   "source": [
    "Классы разные по объёму, лучше бы сбалансировать, добавив искусственных примеров..."
   ]
  },
  {
   "cell_type": "code",
   "execution_count": null,
   "metadata": {
    "colab": {
     "base_uri": "https://localhost:8080/"
    },
    "gradient": {
     "editing": false,
     "id": "822fe6d0-51ec-4c20-9901-065ee6225e99",
     "kernelId": "d0280aff-ead3-4f02-bcc8-b56694c3ad6e"
    },
    "id": "RnXAUmw7DB9S",
    "outputId": "67a8d873-cd67-45a0-991e-bf43265ee766"
   },
   "outputs": [
    {
     "data": {
      "text/plain": [
       "(7815, 489.0, 685.2999999999993, 889.2999999999956)"
      ]
     },
     "execution_count": 17,
     "metadata": {},
     "output_type": "execute_result"
    }
   ],
   "source": [
    "news_df['length'].max(), news_df['length'].quantile(0.75), news_df['length'].quantile(0.9), news_df['length'].quantile(0.95)"
   ]
  },
  {
   "cell_type": "code",
   "execution_count": null,
   "metadata": {
    "gradient": {
     "editing": false,
     "id": "54d21be7-79ff-4192-921d-5ca51f21e24c",
     "kernelId": "d0280aff-ead3-4f02-bcc8-b56694c3ad6e"
    },
    "id": "PfOQCQYnDx3z"
   },
   "outputs": [],
   "source": [
    "# Тексты длиной до 7815 - слишком длинные\n",
    "# Чтобы не тратить память, установим максимальный размер в 512 (между 0.75 и 0.9 квантилями и степень двойки)\n",
    "maxlen = 512\n",
    "\n",
    "# Далее длинные мы обрежем, а к коротким добавим слова \"UNK\" в конце"
   ]
  },
  {
   "cell_type": "markdown",
   "metadata": {
    "gradient": {
     "editing": false,
     "id": "d7be0124-2a9e-4749-ac4f-dad0eb3f7968",
     "kernelId": "d0280aff-ead3-4f02-bcc8-b56694c3ad6e"
    },
    "id": "RJDPhR6h3edP"
   },
   "source": [
    "## Модель из статьи"
   ]
  },
  {
   "cell_type": "markdown",
   "metadata": {
    "gradient": {
     "editing": false,
     "id": "c62b16b6-73f7-4b8d-9ef3-0ef850d57b82",
     "kernelId": "d0280aff-ead3-4f02-bcc8-b56694c3ad6e"
    },
    "id": "2O9FTDgJL9Xo"
   },
   "source": [
    "### Предобрабатываем данные"
   ]
  },
  {
   "cell_type": "code",
   "execution_count": null,
   "metadata": {
    "colab": {
     "base_uri": "https://localhost:8080/",
     "height": 832
    },
    "gradient": {
     "editing": false,
     "id": "28741fcc-69ca-4869-aeb9-700524cb72d1",
     "kernelId": "d0280aff-ead3-4f02-bcc8-b56694c3ad6e"
    },
    "id": "maKoOQD4KkHI",
    "outputId": "094cbfdc-1f43-4c1a-876e-c6d453fe0a68"
   },
   "outputs": [
    {
     "name": "stderr",
     "output_type": "stream",
     "text": [
      "\r",
      "  0%|          | 0/23478 [00:00<?, ?it/s]"
     ]
    },
    {
     "name": "stderr",
     "output_type": "stream",
     "text": [
      "\r",
      " 27%|██▋       | 6266/23478 [00:00<00:00, 38649.62it/s]"
     ]
    },
    {
     "name": "stderr",
     "output_type": "stream",
     "text": [
      "\r",
      " 59%|█████▉    | 13938/23478 [00:00<00:00, 56481.03it/s]"
     ]
    },
    {
     "name": "stderr",
     "output_type": "stream",
     "text": [
      "\r",
      " 85%|████████▌ | 20043/23478 [00:00<00:00, 53589.20it/s]"
     ]
    },
    {
     "name": "stderr",
     "output_type": "stream",
     "text": [
      "\r",
      "100%|██████████| 23478/23478 [00:00<00:00, 49474.76it/s]"
     ]
    },
    {
     "name": "stderr",
     "output_type": "stream",
     "text": [
      "\n"
     ]
    }
   ],
   "source": [
    "#news_df['words'] и news_df['subject']\n",
    "\n",
    "# Делаем все предложения длиной 512\n",
    "# unknown = uniform random vector from [-0.25, 0.25]\n",
    "\n",
    "news_df['full_words'] = news_df['words']\n",
    "news_df['words'] = news_df['words'].progress_apply(lambda x: x[:maxlen])"
   ]
  },
  {
   "cell_type": "code",
   "execution_count": null,
   "metadata": {
    "colab": {
     "base_uri": "https://localhost:8080/",
     "height": 815
    },
    "gradient": {
     "editing": false,
     "id": "b09657c2-1d7d-48a3-9389-5ba5016c4d14",
     "kernelId": "d0280aff-ead3-4f02-bcc8-b56694c3ad6e"
    },
    "id": "g5-YpjWWaVa9",
    "outputId": "c2f798e3-c7a7-43da-bd63-5d054bf2e2fe"
   },
   "outputs": [],
   "source": [
    "news_df = news_df[:3000]"
   ]
  },
  {
   "cell_type": "code",
   "execution_count": null,
   "metadata": {
    "collapsed": false,
    "gradient": {
     "editing": false,
     "id": "15534c23-9881-4c42-861a-8e5e357f0e4d",
     "kernelId": "d0280aff-ead3-4f02-bcc8-b56694c3ad6e",
     "source_hidden": false
    }
   },
   "outputs": [],
   "source": [
    "# Делаем word2id и id2word\n",
    "\n",
    "vocab = Counter()\n",
    "for new in news_df['words']:\n",
    "    for word in new:\n",
    "        vocab[word] +=1\n",
    "print('Всего уникальных символов:', len(vocab))\n",
    "filtered_vocab = set()\n",
    "for word in vocab:\n",
    "    if vocab[word] > 2:\n",
    "        filtered_vocab.add(word)\n",
    "print('Уникальных символов, втретившихся больше 2 раз:', len(filtered_vocab))\n",
    "#создаем словарь с индексами symbol2id, для спецсимвола паддинга дефолтный индекс - 0\n",
    "word2id = {'UNK':0}\n",
    "\n",
    "for word in filtered_vocab:\n",
    "    word2id[word] = len(word2id)\n",
    "#обратный словарь для того, чтобы раскодировать последовательность\n",
    "id2word = {i:word for word, i in word2id.items()}"
   ]
  },
  {
   "cell_type": "code",
   "execution_count": null,
   "metadata": {
    "collapsed": false,
    "gradient": {
     "editing": false,
     "id": "d3a5b1ea-cff0-4a38-9dd5-28713c0074f4",
     "kernelId": "d0280aff-ead3-4f02-bcc8-b56694c3ad6e",
     "source_hidden": false
    }
   },
   "outputs": [
    {
     "name": "stdout",
     "output_type": "stream",
     "text": [
      "Всего уникальных символов: 30972\n",
      "Уникальных символов, втретившихся больше 2 раз: 14566\n"
     ]
    }
   ],
   "source": [
    "class NewsDataset(Dataset):\n",
    "\n",
    "    def __init__(self, dataset, word2id, DEVICE):\n",
    "        self.dataset = dataset['words'].values\n",
    "        self.word2id = word2id\n",
    "        self.length = dataset.shape[0]\n",
    "        self.target = dataset['class'].values\n",
    "        self.device = DEVICE\n",
    "\n",
    "\n",
    "    def __len__(self):\n",
    "        return self.length\n",
    "\n",
    "    def __getitem__(self, index): \n",
    "        words = list(self.dataset[index])\n",
    "        ids = torch.LongTensor([self.word2id[word] for word in words if word in self.word2id])\n",
    "        y = [self.target[index]]\n",
    "        return ids, y\n",
    "\n",
    "    def collate_fn(self, batch): #этот метод можно реализовывать и отдельно,\n",
    "    # он понадобится для DataLoader во время итерации по батчам\n",
    "        ids, y = list(zip(*batch))\n",
    "        padded_ids = pad_sequence(ids, batch_first=True).to(self.device)\n",
    "        y = torch.Tensor(y).to(self.device)\n",
    "        return padded_ids, y"
   ]
  },
  {
   "cell_type": "code",
   "execution_count": null,
   "metadata": {
    "gradient": {
     "editing": false,
     "id": "4f1e8ccc-cef8-42fa-b6a4-8d09bf36c976",
     "kernelId": "d0280aff-ead3-4f02-bcc8-b56694c3ad6e"
    },
    "id": "FTVdJfMrPc1k"
   },
   "outputs": [],
   "source": [
    "# Create train and test data iterators\n",
    "train_data, test_data = train_test_split(news_df[['words','class']], test_size=0.2)\n",
    "\n",
    "train_dataset = NewsDataset(train_data, word2id, DEVICE)\n",
    "train_sampler = RandomSampler(train_dataset)\n",
    "train_iterator = DataLoader(train_dataset, collate_fn = train_dataset.collate_fn,\n",
    "                            sampler=train_sampler, batch_size=100)\n",
    "batch = next(iter(train_iterator))\n",
    "\n",
    "test_dataset = NewsDataset(test_data, word2id, DEVICE)\n",
    "test_sampler = SequentialSampler(test_dataset)\n",
    "test_iterator = DataLoader(test_dataset, collate_fn = test_dataset.collate_fn,\n",
    "                          sampler=test_sampler, batch_size=100)\n",
    "test_batch = next(iter(test_iterator))"
   ]
  },
  {
   "cell_type": "markdown",
   "metadata": {
    "gradient": {
     "editing": false,
     "id": "50a4ca5d-3bcb-4f80-8baf-65cc11a1cd3b",
     "kernelId": "d0280aff-ead3-4f02-bcc8-b56694c3ad6e"
    },
    "id": "eyMuG48dMDog"
   },
   "source": [
    "### Создаем модель"
   ]
  },
  {
   "cell_type": "code",
   "execution_count": null,
   "metadata": {
    "gradient": {
     "editing": false,
     "id": "c5459181-cdbd-4896-be58-14cdb5245eca",
     "kernelId": "d0280aff-ead3-4f02-bcc8-b56694c3ad6e"
    },
    "id": "zceecOEyMYZV"
   },
   "outputs": [],
   "source": [
    "# Делаем эксперименты повторяемыми\n",
    "SEED = 1234\n",
    "\n",
    "torch.manual_seed(SEED)\n",
    "torch.cuda.manual_seed(SEED)\n",
    "torch.backends.cudnn.deterministic = True"
   ]
  },
  {
   "cell_type": "code",
   "execution_count": null,
   "metadata": {
    "gradient": {
     "editing": false,
     "id": "f55f975d-98f7-485d-9985-3ea4258e1a36",
     "kernelId": "d0280aff-ead3-4f02-bcc8-b56694c3ad6e"
    },
    "id": "dKt1edhzWncz"
   },
   "outputs": [],
   "source": [
    "# filters = {2: number_of_filters, 3: number_of_filters , 4: number_of_filters}\n",
    "\n",
    "class C_LSTM(nn.Module):\n",
    "    def __init__(self, vocab_size, embedding_dim, weights, filters,\n",
    "                 memory_dim, output_dim, dropout, when_drop, device):\n",
    "\n",
    "        super().__init__()\n",
    "\n",
    "        self.embedding = nn.Embedding.from_pretrained(torch.Tensor(weights))\n",
    "        self.filters = filters\n",
    "        self.when_drop = when_drop\n",
    "        self.device = device\n",
    "        self.cnn2gr = nn.Conv1d(in_channels=embedding_dim, out_channels=filters[2], kernel_size=(2,))\n",
    "        self.cnn3gr = nn.Conv1d(in_channels=embedding_dim, out_channels=filters[3], kernel_size=(3,))\n",
    "        self.cnn4gr = nn.Conv1d(in_channels=embedding_dim, out_channels=filters[4], kernel_size=(4,))\n",
    "\n",
    "        self.LSTM = torch.nn.LSTM(input_size=filters[2]+filters[3]+filters[4],\n",
    "                                  hidden_size=memory_dim, num_layers=1, batch_first=True)\n",
    "\n",
    "        self.dropout = nn.Dropout(dropout)\n",
    "        self.relu = nn.ReLU()\n",
    "        self.out = nn.Softmax()\n",
    "        self.linear = nn.Linear(memory_dim, output_dim)\n",
    "        \n",
    "    def forward(self, x):\n",
    "\n",
    "        x_emb = self.embedding(x)\n",
    "        x_emb = x_emb.transpose(1, 2)\n",
    "        if self.when_drop[0] == 1:\n",
    "            x_emb = self.dropout(x_emb)\n",
    "\n",
    "        x_cnn = torch.Tensor().to(self.device)\n",
    "        if self.filters[2]>0:\n",
    "            x_cnn2 = self.cnn2gr(x_emb)\n",
    "            x_cnn = torch.cat((x_cnn, x_cnn2), dim=-1)\n",
    "        if self.filters[3]>0:\n",
    "            x_cnn3 = self.cnn3gr(x_emb)\n",
    "            x_cnn = torch.cat((x_cnn, x_cnn3), dim=-1)\n",
    "        if self.filters[4]>0:\n",
    "            x_cnn4 = self.cnn4gr(x_emb)\n",
    "            x_cnn = torch.cat((x_cnn, x_cnn4), dim=-1)\n",
    "\n",
    "        output, (ht, ct) = self.LSTM(x_cnn.transpose(1, 2))\n",
    "\n",
    "        logits = self.linear(ht[-1])\n",
    "        if self.when_drop[1] == 1:\n",
    "            logits = self.dropout(logits)\n",
    "\n",
    "        logits = self.out(logits)\n",
    "        return logits"
   ]
  },
  {
   "cell_type": "code",
   "execution_count": null,
   "metadata": {
    "gradient": {
     "editing": false,
     "id": "db2368cc-2a5b-44ce-a7dd-28660b1ae1d7",
     "kernelId": "d0280aff-ead3-4f02-bcc8-b56694c3ad6e"
    },
    "id": "bYjmeyfVL7e8"
   },
   "outputs": [],
   "source": [
    "# We either apply dropout to word vectors before feeding the sequence of words \n",
    "# into the convolutional layer or to the output of LSTM before the softmax layer.\n",
    "\n",
    "# The L2 regularization is applied to the weight of the softmax layer.\n",
    "\n",
    "# In our final settings, we only use one convolutional layer and one LSTM layer \n",
    "\n",
    "# filter lengths of 2, 3 and 4 in two cases: a) single convolutional layer with \n",
    "# the same filter length, and b) multiple convolutional layers with different lengths of filters in parallel. \n",
    "\n",
    "# We cut the window sequence at the end based on the maximum filter length that gives the shortest number of windows\n",
    "\n",
    "# According to the experiments, we choose a single convolutional layer with filter length 3.\n",
    "\n",
    "# For TREC, the number of filters is set to be 300 and the memory dimension is set to be 300. \n",
    "# The word vector layer and the LSTM layer are dropped out with a probability of 0.5. \n",
    "# We also add L2 regularization with a factor of 0.001 to the weights in the softmax layer."
   ]
  },
  {
   "cell_type": "code",
   "execution_count": null,
   "metadata": {
    "gradient": {
     "editing": false,
     "id": "a6f0e547-3f20-4fb8-8741-9df1f0311f97",
     "kernelId": "d0280aff-ead3-4f02-bcc8-b56694c3ad6e"
    },
    "id": "QUT2wfOuWzcb"
   },
   "outputs": [],
   "source": [
    "def categorical_accuracy(preds, y, device):\n",
    "    max_preds = preds.argmax(dim=1, keepdim=True) # get the index of the max probability\n",
    "    correct = max_preds.squeeze(1).eq(y)\n",
    "    return correct.sum()/torch.FloatTensor([y.shape[0]]).to(device)"
   ]
  },
  {
   "cell_type": "code",
   "execution_count": null,
   "metadata": {
    "gradient": {
     "editing": false,
     "id": "8a1e7150-fbfb-4d3c-a2ac-1d753a402a83",
     "kernelId": "d0280aff-ead3-4f02-bcc8-b56694c3ad6e"
    },
    "id": "mnYITw0WSviD"
   },
   "outputs": [],
   "source": [
    "def train(model, iterator, optimizer, criterion, device):\n",
    "    \n",
    "    epoch_loss = 0\n",
    "    epoch_acc = 0\n",
    "    \n",
    "    model.train()\n",
    "    \n",
    "    for i, (texts, ys) in enumerate(iterator): #итерируемся по батчам\n",
    "        texts = texts.to(device)\n",
    "        ys = ys.to(device)\n",
    "\n",
    "        optimizer.zero_grad()  #обнуляем градиенты\n",
    "        preds = model(texts)  #прогоняем данные через модель\n",
    "        \n",
    "        ys = torch.squeeze(ys).to(torch.int64)\n",
    "        loss = criterion(preds, ys) #считаем значение функции потерь\n",
    "        acc = categorical_accuracy(preds, ys, device)\n",
    "    \n",
    "        loss.backward() #считаем градиенты  \n",
    "        optimizer.step() #обновляем веса\n",
    "\n",
    "        epoch_loss += loss.item() #сохраняем значение функции потерь\n",
    "        epoch_acc += acc.item()\n",
    "        \n",
    "        if not (i + 1) % int(len(iterator)/5):\n",
    "            print(f'Train loss: {epoch_loss/(i+1)}')\n",
    "        \n",
    "    return epoch_loss / len(iterator), epoch_acc / len(iterator)"
   ]
  },
  {
   "cell_type": "code",
   "execution_count": null,
   "metadata": {
    "gradient": {
     "editing": false,
     "id": "0e43bb1b-a87d-49f2-8d8d-566b1159e698",
     "kernelId": "d0280aff-ead3-4f02-bcc8-b56694c3ad6e"
    },
    "id": "FxgeYVAaSz5W"
   },
   "outputs": [],
   "source": [
    "def evaluate(model, iterator, criterion, device):\n",
    "    \n",
    "    epoch_loss = 0\n",
    "    epoch_acc = 0\n",
    "    \n",
    "    model.eval()\n",
    "    \n",
    "    with torch.no_grad():\n",
    "    \n",
    "        for i, (texts, ys) in enumerate(iterator): #итерируемся по батчам\n",
    "            texts = texts.to(device)\n",
    "            ys = ys.to(device)\n",
    "            preds = model(texts)  #прогоняем данные через модель\n",
    "            ys = torch.squeeze(ys).to(torch.int64)\n",
    "            loss = criterion(preds, ys) #считаем значение функции потерь\n",
    "            acc = categorical_accuracy(preds, ys, device)\n",
    "        \n",
    "            loss.backward() #считаем градиенты  \n",
    "\n",
    "            epoch_loss += loss.item() #сохраняем значение функции потерь\n",
    "            epoch_acc += acc.item()\n",
    "            \n",
    "    return epoch_loss / len(iterator), epoch_acc / len(iterator)"
   ]
  },
  {
   "cell_type": "markdown",
   "metadata": {
    "gradient": {
     "editing": false,
     "id": "c5bd74aa-bb6f-4f2a-aec9-a373bd79da97",
     "kernelId": "d0280aff-ead3-4f02-bcc8-b56694c3ad6e"
    },
    "id": "JunYCe25MLzm"
   },
   "source": [
    "### Запускаем эксперименты"
   ]
  },
  {
   "cell_type": "code",
   "execution_count": null,
   "metadata": {
    "gradient": {
     "editing": false,
     "id": "f43cac61-3ef1-4da9-b3c7-fc4c701d5dd2",
     "kernelId": "d0280aff-ead3-4f02-bcc8-b56694c3ad6e"
    },
    "id": "OZQQV43QGrIj"
   },
   "outputs": [],
   "source": [
    "def run_experiment(INPUT_DIM, EMBEDDING_DIM, WEIGHTS, FILTERS,\n",
    "     MEMORY_DIM, OUTPUT_DIM, DROPOUT, WHEN_DROP, criterion, N_EPOCHS, device, train_iterator, test_iterator):\n",
    "  \n",
    "    model = C_LSTM(INPUT_DIM, EMBEDDING_DIM, WEIGHTS, FILTERS,\n",
    "                   MEMORY_DIM, OUTPUT_DIM, DROPOUT, WHEN_DROP, device)\n",
    "    model = model.to(device)\n",
    "    criterion = criterion.to(device)\n",
    "    optimizer = optim.Adam(model.parameters())\n",
    "\n",
    "    for epoch in range(N_EPOCHS):\n",
    "        train_loss, train_acc = train(model, train_iterator, optimizer, criterion, device)\n",
    "        test_loss, test_acc = evaluate(model, test_iterator, criterion, device)\n",
    "        \n",
    "        print(f'| Epoch: {epoch+1:02} | Train Loss: {train_loss:.3f} | Train Acc: {train_acc*100:.2f}% | Val. Loss: {valid_loss:.3f} | Val. Acc: {valid_acc*100:.2f}% |')\n",
    "\n",
    "    torch.save(model, \"c_lstm\")\n",
    "    test_loss, test_acc = evaluate(model, test_iterator, criterion, device)\n",
    "\n",
    "    print(f'| Test Loss: {test_loss:.3f} | Test Acc: {test_acc*100:.2f}% |')\n",
    "    return model, test_loss, test_acc"
   ]
  },
  {
   "cell_type": "code",
   "execution_count": null,
   "metadata": {
    "collapsed": false,
    "gradient": {
     "editing": false,
     "id": "2c8b9ee9-b35d-4784-a08d-9961e450c7a9",
     "kernelId": "d0280aff-ead3-4f02-bcc8-b56694c3ad6e",
     "source_hidden": false
    }
   },
   "outputs": [],
   "source": [
    "# Используем веса w2v\n",
    "WEIGHTS = np.zeros((len(word2id), 300))\n",
    "unk = 0\n",
    "for word, i in word2id.items():\n",
    "    try:\n",
    "        WEIGHTS[i] = w2v[word]    \n",
    "    except KeyError:\n",
    "      unk += 1\n",
    "      WEIGHTS[i] = np.random.uniform(-0.25, 0.25, 300)"
   ]
  },
  {
   "cell_type": "code",
   "execution_count": null,
   "metadata": {
    "colab": {
     "base_uri": "https://localhost:8080/"
    },
    "gradient": {
     "editing": false,
     "id": "a7a3eb59-b08f-4b46-b9c3-33490e319385",
     "kernelId": "d0280aff-ead3-4f02-bcc8-b56694c3ad6e"
    },
    "id": "UM-O_FBHGqJY",
    "outputId": "8f7dba28-e1b9-474b-8261-8f347854e48a"
   },
   "outputs": [
    {
     "name": "stderr",
     "output_type": "stream",
     "text": [
      "/tmp/ipykernel_99/67723988.py:49: UserWarning: Implicit dimension choice for softmax has been deprecated. Change the call to include dim=X as an argument.\n",
      "  logits = self.out(logits)\n"
     ]
    },
    {
     "name": "stdout",
     "output_type": "stream",
     "text": [
      "Train loss: 1.5847049951553345\n"
     ]
    },
    {
     "name": "stdout",
     "output_type": "stream",
     "text": [
      "Train loss: 1.4645196795463562\n"
     ]
    },
    {
     "name": "stdout",
     "output_type": "stream",
     "text": [
      "Train loss: 1.4202500681082408\n"
     ]
    },
    {
     "name": "stdout",
     "output_type": "stream",
     "text": [
      "Train loss: 1.401459351181984\n"
     ]
    },
    {
     "name": "stdout",
     "output_type": "stream",
     "text": [
      "Train loss: 1.3899621605873107\n"
     ]
    },
    {
     "name": "stdout",
     "output_type": "stream",
     "text": [
      "Train loss: 1.3852437138557434\n"
     ]
    },
    {
     "ename": "RuntimeError",
     "evalue": "element 0 of tensors does not require grad and does not have a grad_fn",
     "output_type": "error",
     "traceback": [
      "\u001b[0;31m---------------------------------------------------------------------------\u001b[0m",
      "\u001b[0;31mRuntimeError\u001b[0m                              Traceback (most recent call last)",
      "\u001b[0;32m/tmp/ipykernel_99/2614518444.py\u001b[0m in \u001b[0;36m<module>\u001b[0;34m\u001b[0m\n\u001b[1;32m     14\u001b[0m \u001b[0mN_EPOCHS\u001b[0m \u001b[0;34m=\u001b[0m \u001b[0;36m1\u001b[0m\u001b[0;34m\u001b[0m\u001b[0;34m\u001b[0m\u001b[0m\n\u001b[1;32m     15\u001b[0m \u001b[0;34m\u001b[0m\u001b[0m\n\u001b[0;32m---> 16\u001b[0;31m run_experiment(INPUT_DIM, EMBEDDING_DIM, WEIGHTS, FILTERS, MEMORY_DIM,\n\u001b[0m\u001b[1;32m     17\u001b[0m                OUTPUT_DIM, DROPOUT, WHEN_DROP, criterion, N_EPOCHS, DEVICE, train_iterator, test_iterator)\n",
      "\u001b[0;32m/tmp/ipykernel_99/3830528581.py\u001b[0m in \u001b[0;36mrun_experiment\u001b[0;34m(INPUT_DIM, EMBEDDING_DIM, WEIGHTS, FILTERS, MEMORY_DIM, OUTPUT_DIM, DROPOUT, WHEN_DROP, criterion, N_EPOCHS, device, train_iterator, test_iterator)\u001b[0m\n\u001b[1;32m     10\u001b[0m     \u001b[0;32mfor\u001b[0m \u001b[0mepoch\u001b[0m \u001b[0;32min\u001b[0m \u001b[0mrange\u001b[0m\u001b[0;34m(\u001b[0m\u001b[0mN_EPOCHS\u001b[0m\u001b[0;34m)\u001b[0m\u001b[0;34m:\u001b[0m\u001b[0;34m\u001b[0m\u001b[0;34m\u001b[0m\u001b[0m\n\u001b[1;32m     11\u001b[0m         \u001b[0mtrain_loss\u001b[0m\u001b[0;34m,\u001b[0m \u001b[0mtrain_acc\u001b[0m \u001b[0;34m=\u001b[0m \u001b[0mtrain\u001b[0m\u001b[0;34m(\u001b[0m\u001b[0mmodel\u001b[0m\u001b[0;34m,\u001b[0m \u001b[0mtrain_iterator\u001b[0m\u001b[0;34m,\u001b[0m \u001b[0moptimizer\u001b[0m\u001b[0;34m,\u001b[0m \u001b[0mcriterion\u001b[0m\u001b[0;34m,\u001b[0m \u001b[0mdevice\u001b[0m\u001b[0;34m)\u001b[0m\u001b[0;34m\u001b[0m\u001b[0;34m\u001b[0m\u001b[0m\n\u001b[0;32m---> 12\u001b[0;31m         \u001b[0mtest_loss\u001b[0m\u001b[0;34m,\u001b[0m \u001b[0mtest_acc\u001b[0m \u001b[0;34m=\u001b[0m \u001b[0mevaluate\u001b[0m\u001b[0;34m(\u001b[0m\u001b[0mmodel\u001b[0m\u001b[0;34m,\u001b[0m \u001b[0mtest_iterator\u001b[0m\u001b[0;34m,\u001b[0m \u001b[0mcriterion\u001b[0m\u001b[0;34m,\u001b[0m \u001b[0mdevice\u001b[0m\u001b[0;34m)\u001b[0m\u001b[0;34m\u001b[0m\u001b[0;34m\u001b[0m\u001b[0m\n\u001b[0m\u001b[1;32m     13\u001b[0m \u001b[0;34m\u001b[0m\u001b[0m\n\u001b[1;32m     14\u001b[0m         \u001b[0mprint\u001b[0m\u001b[0;34m(\u001b[0m\u001b[0;34mf'| Epoch: {epoch+1:02} | Train Loss: {train_loss:.3f} | Train Acc: {train_acc*100:.2f}% | Val. Loss: {valid_loss:.3f} | Val. Acc: {valid_acc*100:.2f}% |'\u001b[0m\u001b[0;34m)\u001b[0m\u001b[0;34m\u001b[0m\u001b[0;34m\u001b[0m\u001b[0m\n",
      "\u001b[0;32m/tmp/ipykernel_99/1083671026.py\u001b[0m in \u001b[0;36mevaluate\u001b[0;34m(model, iterator, criterion, device)\u001b[0m\n\u001b[1;32m     16\u001b[0m             \u001b[0macc\u001b[0m \u001b[0;34m=\u001b[0m \u001b[0mcategorical_accuracy\u001b[0m\u001b[0;34m(\u001b[0m\u001b[0mpreds\u001b[0m\u001b[0;34m,\u001b[0m \u001b[0mys\u001b[0m\u001b[0;34m,\u001b[0m \u001b[0mdevice\u001b[0m\u001b[0;34m)\u001b[0m\u001b[0;34m\u001b[0m\u001b[0;34m\u001b[0m\u001b[0m\n\u001b[1;32m     17\u001b[0m \u001b[0;34m\u001b[0m\u001b[0m\n\u001b[0;32m---> 18\u001b[0;31m             \u001b[0mloss\u001b[0m\u001b[0;34m.\u001b[0m\u001b[0mbackward\u001b[0m\u001b[0;34m(\u001b[0m\u001b[0;34m)\u001b[0m \u001b[0;31m#считаем градиенты\u001b[0m\u001b[0;34m\u001b[0m\u001b[0;34m\u001b[0m\u001b[0m\n\u001b[0m\u001b[1;32m     19\u001b[0m \u001b[0;34m\u001b[0m\u001b[0m\n\u001b[1;32m     20\u001b[0m             \u001b[0mepoch_loss\u001b[0m \u001b[0;34m+=\u001b[0m \u001b[0mloss\u001b[0m\u001b[0;34m.\u001b[0m\u001b[0mitem\u001b[0m\u001b[0;34m(\u001b[0m\u001b[0;34m)\u001b[0m \u001b[0;31m#сохраняем значение функции потерь\u001b[0m\u001b[0;34m\u001b[0m\u001b[0;34m\u001b[0m\u001b[0m\n",
      "\u001b[0;32m/opt/conda/lib/python3.8/site-packages/torch/_tensor.py\u001b[0m in \u001b[0;36mbackward\u001b[0;34m(self, gradient, retain_graph, create_graph, inputs)\u001b[0m\n\u001b[1;32m    305\u001b[0m                 \u001b[0mcreate_graph\u001b[0m\u001b[0;34m=\u001b[0m\u001b[0mcreate_graph\u001b[0m\u001b[0;34m,\u001b[0m\u001b[0;34m\u001b[0m\u001b[0;34m\u001b[0m\u001b[0m\n\u001b[1;32m    306\u001b[0m                 inputs=inputs)\n\u001b[0;32m--> 307\u001b[0;31m         \u001b[0mtorch\u001b[0m\u001b[0;34m.\u001b[0m\u001b[0mautograd\u001b[0m\u001b[0;34m.\u001b[0m\u001b[0mbackward\u001b[0m\u001b[0;34m(\u001b[0m\u001b[0mself\u001b[0m\u001b[0;34m,\u001b[0m \u001b[0mgradient\u001b[0m\u001b[0;34m,\u001b[0m \u001b[0mretain_graph\u001b[0m\u001b[0;34m,\u001b[0m \u001b[0mcreate_graph\u001b[0m\u001b[0;34m,\u001b[0m \u001b[0minputs\u001b[0m\u001b[0;34m=\u001b[0m\u001b[0minputs\u001b[0m\u001b[0;34m)\u001b[0m\u001b[0;34m\u001b[0m\u001b[0;34m\u001b[0m\u001b[0m\n\u001b[0m\u001b[1;32m    308\u001b[0m \u001b[0;34m\u001b[0m\u001b[0m\n\u001b[1;32m    309\u001b[0m     \u001b[0;32mdef\u001b[0m \u001b[0mregister_hook\u001b[0m\u001b[0;34m(\u001b[0m\u001b[0mself\u001b[0m\u001b[0;34m,\u001b[0m \u001b[0mhook\u001b[0m\u001b[0;34m)\u001b[0m\u001b[0;34m:\u001b[0m\u001b[0;34m\u001b[0m\u001b[0;34m\u001b[0m\u001b[0m\n",
      "\u001b[0;32m/opt/conda/lib/python3.8/site-packages/torch/autograd/__init__.py\u001b[0m in \u001b[0;36mbackward\u001b[0;34m(tensors, grad_tensors, retain_graph, create_graph, grad_variables, inputs)\u001b[0m\n\u001b[1;32m    152\u001b[0m         \u001b[0mretain_graph\u001b[0m \u001b[0;34m=\u001b[0m \u001b[0mcreate_graph\u001b[0m\u001b[0;34m\u001b[0m\u001b[0;34m\u001b[0m\u001b[0m\n\u001b[1;32m    153\u001b[0m \u001b[0;34m\u001b[0m\u001b[0m\n\u001b[0;32m--> 154\u001b[0;31m     Variable._execution_engine.run_backward(\n\u001b[0m\u001b[1;32m    155\u001b[0m         \u001b[0mtensors\u001b[0m\u001b[0;34m,\u001b[0m \u001b[0mgrad_tensors_\u001b[0m\u001b[0;34m,\u001b[0m \u001b[0mretain_graph\u001b[0m\u001b[0;34m,\u001b[0m \u001b[0mcreate_graph\u001b[0m\u001b[0;34m,\u001b[0m \u001b[0minputs\u001b[0m\u001b[0;34m,\u001b[0m\u001b[0;34m\u001b[0m\u001b[0;34m\u001b[0m\u001b[0m\n\u001b[1;32m    156\u001b[0m         allow_unreachable=True, accumulate_grad=True)  # allow_unreachable flag\n",
      "\u001b[0;31mRuntimeError\u001b[0m: element 0 of tensors does not require grad and does not have a grad_fn"
     ]
    }
   ],
   "source": [
    "# Эксперимент №1\n",
    "\n",
    "INPUT_DIM = len(w2v.key_to_index)\n",
    "EMBEDDING_DIM = w2v.vector_size\n",
    "HIDDEN_DIM = 50\n",
    "MEMORY_DIM = 300\n",
    "FILTERS = {2: 0, 3: 300 , 4: 0}\n",
    "OUTPUT_DIM = len(subject_id)\n",
    "DROPOUT = 0.5\n",
    "WHEN_DROP = (1, 1)\n",
    "\n",
    "criterion = nn.CrossEntropyLoss()\n",
    "\n",
    "N_EPOCHS = 1\n",
    "\n",
    "run_experiment(INPUT_DIM, EMBEDDING_DIM, WEIGHTS, FILTERS, MEMORY_DIM,\n",
    "               OUTPUT_DIM, DROPOUT, WHEN_DROP, criterion, N_EPOCHS, DEVICE, train_iterator, test_iterator)"
   ]
  }
 ],
 "metadata": {
  "accelerator": "GPU",
  "colab": {
   "name": "HW3_tbkazakova_CNN&RNN_news.ipynb",
   "provenance": [],
   "toc_visible": true
  },
  "kernelspec": {
   "display_name": "Python 3",
   "name": "python3"
  },
  "language_info": {
   "name": "python"
  }
 },
 "nbformat": 4,
 "nbformat_minor": 0
}
