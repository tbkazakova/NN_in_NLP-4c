{
 "cells": [
  {
   "cell_type": "markdown",
   "metadata": {
    "gradient": {
     "editing": false,
     "id": "d3c9259b-3cc6-4ca2-8156-cdbf45ffb1d9",
     "kernelId": "407d7b5d-9d7c-4b74-9c76-5aec0e6cb98b"
    },
    "id": "epDxPsihKNfz"
   },
   "source": [
    "# ДЗ 3\n",
    "Таня Казакова"
   ]
  },
  {
   "cell_type": "markdown",
   "metadata": {
    "gradient": {
     "editing": false,
     "id": "876ef12e-ba91-4d03-b280-7e3d8ac7b534",
     "kernelId": "407d7b5d-9d7c-4b74-9c76-5aec0e6cb98b"
    },
    "id": "dOjbMOrtG-UC"
   },
   "source": [
    "## Настраиваем среду"
   ]
  },
  {
   "cell_type": "code",
   "execution_count": null,
   "metadata": {
    "collapsed": false,
    "gradient": {
     "editing": false,
     "id": "fe13dcf0-f7b6-496d-bf68-c3752f37d8f4",
     "kernelId": "407d7b5d-9d7c-4b74-9c76-5aec0e6cb98b",
     "source_hidden": false
    }
   },
   "outputs": [
    {
     "name": "stdout",
     "output_type": "stream",
     "text": [
      "--2022-01-04 20:50:21--  http://-/\r\n",
      "Resolving - (-)... failed: Name or service not known.\r\n",
      "wget: unable to resolve host address ‘-’\r\n",
      "--2022-01-04 20:50:21--  http://c/\r\n",
      "Resolving c (c)... failed: Name or service not known.\r\n",
      "wget: unable to resolve host address ‘c’\r\n",
      "--2022-01-04 20:50:21--  https://s3.amazonaws.com/dl4j-distribution/GoogleNews-vectors-negative300.bin.gz\r\n",
      "Resolving s3.amazonaws.com (s3.amazonaws.com)... "
     ]
    },
    {
     "name": "stdout",
     "output_type": "stream",
     "text": [
      "52.217.96.30\r\n",
      "Connecting to s3.amazonaws.com (s3.amazonaws.com)|52.217.96.30|:443... connected.\r\n",
      "HTTP request sent, awaiting response... "
     ]
    },
    {
     "name": "stdout",
     "output_type": "stream",
     "text": [
      "200 OK\r\n",
      "Length: 1647046227 (1.5G) [application/x-gzip]\r\n",
      "Saving to: ‘GoogleNews-vectors-negative300.bin.gz’\r\n",
      "\r\n",
      "\r",
      "          GoogleNew   0%[                    ]       0  --.-KB/s               "
     ]
    },
    {
     "name": "stdout",
     "output_type": "stream",
     "text": [
      "\r",
      "         GoogleNews   0%[                    ]   2.21M  10.8MB/s               "
     ]
    },
    {
     "name": "stdout",
     "output_type": "stream",
     "text": [
      "\r",
      "        GoogleNews-   0%[                    ]   4.30M  10.4MB/s               "
     ]
    },
    {
     "name": "stdout",
     "output_type": "stream",
     "text": [
      "\r",
      "       GoogleNews-v   0%[                    ]   4.65M  7.52MB/s               "
     ]
    },
    {
     "name": "stdout",
     "output_type": "stream",
     "text": [
      "\r",
      "      GoogleNews-ve   0%[                    ]   5.34M  6.51MB/s               "
     ]
    },
    {
     "name": "stdout",
     "output_type": "stream",
     "text": [
      "\r",
      "     GoogleNews-vec   0%[                    ]   6.41M  6.27MB/s               "
     ]
    },
    {
     "name": "stdout",
     "output_type": "stream",
     "text": [
      "\r",
      "    GoogleNews-vect   0%[                    ]   7.92M  6.48MB/s               "
     ]
    },
    {
     "name": "stdout",
     "output_type": "stream",
     "text": [
      "\r",
      "   GoogleNews-vecto   0%[                    ]   9.74M  6.85MB/s               "
     ]
    },
    {
     "name": "stdout",
     "output_type": "stream",
     "text": [
      "\r",
      "  GoogleNews-vector   0%[                    ]  10.92M  6.73MB/s               "
     ]
    },
    {
     "name": "stdout",
     "output_type": "stream",
     "text": [
      "\r",
      " GoogleNews-vectors   0%[                    ]  11.97M  6.56MB/s               "
     ]
    },
    {
     "name": "stdout",
     "output_type": "stream",
     "text": [
      "\r",
      "GoogleNews-vectors-   0%[                    ]  13.03M  6.42MB/s               "
     ]
    },
    {
     "name": "stdout",
     "output_type": "stream",
     "text": [
      "\r",
      "oogleNews-vectors-n   0%[                    ]  14.03M  6.28MB/s               "
     ]
    },
    {
     "name": "stdout",
     "output_type": "stream",
     "text": [
      "\r",
      "ogleNews-vectors-ne   0%[                    ]  15.44M  6.34MB/s               "
     ]
    },
    {
     "name": "stdout",
     "output_type": "stream",
     "text": [
      "\r",
      "gleNews-vectors-neg   1%[                    ]  17.08M  6.48MB/s               "
     ]
    },
    {
     "name": "stdout",
     "output_type": "stream",
     "text": [
      "\r",
      "leNews-vectors-nega   1%[                    ]  18.64M  6.57MB/s               "
     ]
    },
    {
     "name": "stdout",
     "output_type": "stream",
     "text": [
      "\r",
      "eNews-vectors-negat   1%[                    ]  20.30M  6.68MB/s    eta 3m 52s "
     ]
    },
    {
     "name": "stdout",
     "output_type": "stream",
     "text": [
      "\r",
      "News-vectors-negati   1%[                    ]  21.95M  6.55MB/s    eta 3m 52s "
     ]
    },
    {
     "name": "stdout",
     "output_type": "stream",
     "text": [
      "\r",
      "ews-vectors-negativ   1%[                    ]  23.95M  6.61MB/s    eta 3m 52s "
     ]
    },
    {
     "name": "stdout",
     "output_type": "stream",
     "text": [
      "\r",
      "ws-vectors-negative   1%[                    ]  26.31M  6.87MB/s    eta 3m 52s "
     ]
    },
    {
     "name": "stdout",
     "output_type": "stream",
     "text": [
      "\r",
      "s-vectors-negative3   1%[                    ]  29.13M  7.78MB/s    eta 3m 52s "
     ]
    },
    {
     "name": "stdout",
     "output_type": "stream",
     "text": [
      "\r",
      "-vectors-negative30   1%[                    ]  31.06M  8.07MB/s    eta 3m 21s "
     ]
    },
    {
     "name": "stdout",
     "output_type": "stream",
     "text": [
      "\r",
      "vectors-negative300   2%[                    ]  33.00M  8.26MB/s    eta 3m 21s "
     ]
    },
    {
     "name": "stdout",
     "output_type": "stream",
     "text": [
      "\r",
      "ectors-negative300.   2%[                    ]  35.18M  8.43MB/s    eta 3m 21s "
     ]
    },
    {
     "name": "stdout",
     "output_type": "stream",
     "text": [
      "\r",
      "ctors-negative300.b   2%[                    ]  37.30M  8.57MB/s    eta 3m 21s "
     ]
    },
    {
     "name": "stdout",
     "output_type": "stream",
     "text": [
      "\r",
      "tors-negative300.bi   2%[                    ]  39.48M  8.93MB/s    eta 3m 21s "
     ]
    },
    {
     "name": "stdout",
     "output_type": "stream",
     "text": [
      "\r",
      "ors-negative300.bin   2%[                    ]  42.10M  9.54MB/s    eta 3m 3s  "
     ]
    },
    {
     "name": "stdout",
     "output_type": "stream",
     "text": [
      "\r",
      "rs-negative300.bin.   2%[                    ]  44.24M  9.87MB/s    eta 3m 3s  "
     ]
    },
    {
     "name": "stdout",
     "output_type": "stream",
     "text": [
      "\r",
      "s-negative300.bin.g   2%[                    ]  45.94M  9.98MB/s    eta 3m 3s  "
     ]
    },
    {
     "name": "stdout",
     "output_type": "stream",
     "text": [
      "\r",
      "-negative300.bin.gz   3%[                    ]  48.07M  10.2MB/s    eta 3m 3s  "
     ]
    },
    {
     "name": "stdout",
     "output_type": "stream",
     "text": [
      "\r",
      "negative300.bin.gz    3%[                    ]  50.33M  10.4MB/s    eta 3m 3s  "
     ]
    },
    {
     "name": "stdout",
     "output_type": "stream",
     "text": [
      "\r",
      "egative300.bin.gz     3%[                    ]  52.13M  10.4MB/s    eta 2m 57s "
     ]
    },
    {
     "name": "stdout",
     "output_type": "stream",
     "text": [
      "\r",
      "gative300.bin.gz      3%[                    ]  54.51M  10.8MB/s    eta 2m 57s "
     ]
    },
    {
     "name": "stdout",
     "output_type": "stream",
     "text": [
      "\r",
      "ative300.bin.gz       3%[                    ]  57.12M  11.0MB/s    eta 2m 57s "
     ]
    },
    {
     "name": "stdout",
     "output_type": "stream",
     "text": [
      "\r",
      "tive300.bin.gz        3%[                    ]  60.05M  11.2MB/s    eta 2m 57s "
     ]
    },
    {
     "name": "stdout",
     "output_type": "stream",
     "text": [
      "\r",
      "ive300.bin.gz         3%[                    ]  62.55M  11.1MB/s    eta 2m 57s "
     ]
    },
    {
     "name": "stdout",
     "output_type": "stream",
     "text": [
      "\r",
      "ve300.bin.gz          4%[                    ]  65.51M  11.3MB/s    eta 2m 42s "
     ]
    },
    {
     "name": "stdout",
     "output_type": "stream",
     "text": [
      "\r",
      "e300.bin.gz           4%[                    ]  68.66M  11.7MB/s    eta 2m 42s "
     ]
    },
    {
     "name": "stdout",
     "output_type": "stream",
     "text": [
      "\r",
      "300.bin.gz            4%[                    ]  71.25M  11.9MB/s    eta 2m 42s "
     ]
    },
    {
     "name": "stdout",
     "output_type": "stream",
     "text": [
      "\r",
      "00.bin.gz             4%[                    ]  73.76M  12.0MB/s    eta 2m 42s "
     ]
    },
    {
     "name": "stdout",
     "output_type": "stream",
     "text": [
      "\r",
      "0.bin.gz              4%[                    ]  76.18M  12.1MB/s    eta 2m 42s "
     ]
    },
    {
     "name": "stdout",
     "output_type": "stream",
     "text": [
      "\r",
      ".bin.gz               5%[>                   ]  78.99M  12.3MB/s    eta 2m 32s "
     ]
    },
    {
     "name": "stdout",
     "output_type": "stream",
     "text": [
      "\r",
      "bin.gz                5%[>                   ]  81.89M  12.4MB/s    eta 2m 32s "
     ]
    },
    {
     "name": "stdout",
     "output_type": "stream",
     "text": [
      "\r",
      "in.gz                 5%[>                   ]  83.87M  12.4MB/s    eta 2m 32s "
     ]
    },
    {
     "name": "stdout",
     "output_type": "stream",
     "text": [
      "\r",
      "n.gz                  5%[>                   ]  85.94M  12.5MB/s    eta 2m 32s "
     ]
    },
    {
     "name": "stdout",
     "output_type": "stream",
     "text": [
      "\r",
      ".gz                   5%[>                   ]  88.42M  12.6MB/s    eta 2m 32s "
     ]
    },
    {
     "name": "stdout",
     "output_type": "stream",
     "text": [
      "\r",
      "gz                    5%[>                   ]  91.09M  12.7MB/s    eta 2m 27s "
     ]
    },
    {
     "name": "stdout",
     "output_type": "stream",
     "text": [
      "\r",
      "z                     5%[>                   ]  93.42M  12.9MB/s    eta 2m 27s "
     ]
    },
    {
     "name": "stdout",
     "output_type": "stream",
     "text": [
      "\r",
      "                      6%[>                   ]  96.19M  13.0MB/s    eta 2m 27s "
     ]
    },
    {
     "name": "stdout",
     "output_type": "stream",
     "text": [
      "\r",
      "                  G   6%[>                   ]  99.33M  13.1MB/s    eta 2m 27s "
     ]
    },
    {
     "name": "stdout",
     "output_type": "stream",
     "text": [
      "\r",
      "                 Go   6%[>                   ] 101.75M  13.0MB/s    eta 2m 27s "
     ]
    },
    {
     "name": "stdout",
     "output_type": "stream",
     "text": [
      "\r",
      "                Goo   6%[>                   ] 103.92M  12.8MB/s    eta 2m 22s "
     ]
    },
    {
     "name": "stdout",
     "output_type": "stream",
     "text": [
      "\r",
      "               Goog   6%[>                   ] 106.14M  12.5MB/s    eta 2m 22s "
     ]
    },
    {
     "name": "stdout",
     "output_type": "stream",
     "text": [
      "\r",
      "              Googl   6%[>                   ] 108.16M  12.2MB/s    eta 2m 22s "
     ]
    },
    {
     "name": "stdout",
     "output_type": "stream",
     "text": [
      "\r",
      "             Google   7%[>                   ] 110.28M  12.0MB/s    eta 2m 22s "
     ]
    },
    {
     "name": "stdout",
     "output_type": "stream",
     "text": [
      "\r",
      "            GoogleN   7%[>                   ] 112.27M  11.9MB/s    eta 2m 22s "
     ]
    },
    {
     "name": "stdout",
     "output_type": "stream",
     "text": [
      "\r",
      "           GoogleNe   7%[>                   ] 114.12M  11.6MB/s    eta 2m 22s "
     ]
    },
    {
     "name": "stdout",
     "output_type": "stream",
     "text": [
      "\r",
      "          GoogleNew   7%[>                   ] 116.09M  11.3MB/s    eta 2m 22s "
     ]
    },
    {
     "name": "stdout",
     "output_type": "stream",
     "text": [
      "\r",
      "         GoogleNews   7%[>                   ] 117.79M  11.1MB/s    eta 2m 22s "
     ]
    },
    {
     "name": "stdout",
     "output_type": "stream",
     "text": [
      "\r",
      "        GoogleNews-   7%[>                   ] 119.83M  11.2MB/s    eta 2m 22s "
     ]
    },
    {
     "name": "stdout",
     "output_type": "stream",
     "text": [
      "\r",
      "       GoogleNews-v   7%[>                   ] 122.29M  11.2MB/s    eta 2m 22s "
     ]
    },
    {
     "name": "stdout",
     "output_type": "stream",
     "text": [
      "\r",
      "      GoogleNews-ve   7%[>                   ] 124.14M  11.0MB/s    eta 2m 21s "
     ]
    },
    {
     "name": "stdout",
     "output_type": "stream",
     "text": [
      "\r",
      "     GoogleNews-vec   8%[>                   ] 125.87M  10.7MB/s    eta 2m 21s "
     ]
    },
    {
     "name": "stdout",
     "output_type": "stream",
     "text": [
      "\r",
      "    GoogleNews-vect   8%[>                   ] 128.03M  10.6MB/s    eta 2m 21s "
     ]
    },
    {
     "name": "stdout",
     "output_type": "stream",
     "text": [
      "\r",
      "   GoogleNews-vecto   8%[>                   ] 130.54M  10.5MB/s    eta 2m 21s "
     ]
    },
    {
     "name": "stdout",
     "output_type": "stream",
     "text": [
      "\r",
      "  GoogleNews-vector   8%[>                   ] 132.68M  10.2MB/s    eta 2m 21s "
     ]
    },
    {
     "name": "stdout",
     "output_type": "stream",
     "text": [
      "\r",
      " GoogleNews-vectors   8%[>                   ] 134.79M  10.2MB/s    eta 2m 20s "
     ]
    },
    {
     "name": "stdout",
     "output_type": "stream",
     "text": [
      "\r",
      "GoogleNews-vectors-   8%[>                   ] 137.43M  10.3MB/s    eta 2m 20s "
     ]
    },
    {
     "name": "stdout",
     "output_type": "stream",
     "text": [
      "\r",
      "oogleNews-vectors-n   8%[>                   ] 140.46M  10.7MB/s    eta 2m 20s "
     ]
    },
    {
     "name": "stdout",
     "output_type": "stream",
     "text": [
      "\r",
      "ogleNews-vectors-ne   9%[>                   ] 143.85M  11.1MB/s    eta 2m 20s "
     ]
    },
    {
     "name": "stdout",
     "output_type": "stream",
     "text": [
      "\r",
      "gleNews-vectors-neg   9%[>                   ] 147.59M  11.6MB/s    eta 2m 20s "
     ]
    },
    {
     "name": "stdout",
     "output_type": "stream",
     "text": [
      "\r",
      "leNews-vectors-nega   9%[>                   ] 151.74M  12.4MB/s    eta 2m 12s "
     ]
    },
    {
     "name": "stdout",
     "output_type": "stream",
     "text": [
      "\r",
      "eNews-vectors-negat   9%[>                   ] 155.94M  13.1MB/s    eta 2m 12s "
     ]
    },
    {
     "name": "stdout",
     "output_type": "stream",
     "text": [
      "\r",
      "News-vectors-negati  10%[=>                  ] 159.12M  13.5MB/s    eta 2m 12s "
     ]
    },
    {
     "name": "stdout",
     "output_type": "stream",
     "text": [
      "\r",
      "ews-vectors-negativ  10%[=>                  ] 161.91M  13.9MB/s    eta 2m 12s "
     ]
    },
    {
     "name": "stdout",
     "output_type": "stream",
     "text": [
      "\r",
      "ws-vectors-negative  10%[=>                  ] 165.03M  14.1MB/s    eta 2m 12s "
     ]
    },
    {
     "name": "stdout",
     "output_type": "stream",
     "text": [
      "\r",
      "s-vectors-negative3  10%[=>                  ] 168.54M  14.4MB/s    eta 2m 6s  "
     ]
    },
    {
     "name": "stdout",
     "output_type": "stream",
     "text": [
      "\r",
      "-vectors-negative30  10%[=>                  ] 171.86M  15.2MB/s    eta 2m 6s  "
     ]
    },
    {
     "name": "stdout",
     "output_type": "stream",
     "text": [
      "\r",
      "vectors-negative300  11%[=>                  ] 175.00M  15.5MB/s    eta 2m 6s  "
     ]
    },
    {
     "name": "stdout",
     "output_type": "stream",
     "text": [
      "\r",
      "ectors-negative300.  11%[=>                  ] 177.87M  15.6MB/s    eta 2m 6s  "
     ]
    },
    {
     "name": "stdout",
     "output_type": "stream",
     "text": [
      "\r",
      "ctors-negative300.b  11%[=>                  ] 179.83M  15.6MB/s    eta 2m 6s  "
     ]
    },
    {
     "name": "stdout",
     "output_type": "stream",
     "text": [
      "\r",
      "tors-negative300.bi  11%[=>                  ] 182.17M  15.6MB/s    eta 2m 3s  "
     ]
    },
    {
     "name": "stdout",
     "output_type": "stream",
     "text": [
      "\r",
      "ors-negative300.bin  11%[=>                  ] 184.59M  15.6MB/s    eta 2m 3s  "
     ]
    },
    {
     "name": "stdout",
     "output_type": "stream",
     "text": [
      "\r",
      "rs-negative300.bin.  11%[=>                  ] 186.57M  15.3MB/s    eta 2m 3s  "
     ]
    },
    {
     "name": "stdout",
     "output_type": "stream",
     "text": [
      "\r",
      "s-negative300.bin.g  11%[=>                  ] 188.43M  14.8MB/s    eta 2m 3s  "
     ]
    },
    {
     "name": "stdout",
     "output_type": "stream",
     "text": [
      "\r",
      "-negative300.bin.gz  12%[=>                  ] 190.09M  14.2MB/s    eta 2m 3s  "
     ]
    },
    {
     "name": "stdout",
     "output_type": "stream",
     "text": [
      "\r",
      "negative300.bin.gz   12%[=>                  ] 192.11M  13.4MB/s    eta 2m 3s  "
     ]
    },
    {
     "name": "stdout",
     "output_type": "stream",
     "text": [
      "\r",
      "egative300.bin.gz    12%[=>                  ] 194.52M  12.9MB/s    eta 2m 3s  "
     ]
    },
    {
     "name": "stdout",
     "output_type": "stream",
     "text": [
      "\r",
      "gative300.bin.gz     12%[=>                  ] 197.32M  12.7MB/s    eta 2m 3s  "
     ]
    },
    {
     "name": "stdout",
     "output_type": "stream",
     "text": [
      "\r",
      "ative300.bin.gz      12%[=>                  ] 200.51M  12.8MB/s    eta 2m 3s  "
     ]
    },
    {
     "name": "stdout",
     "output_type": "stream",
     "text": [
      "\r",
      "tive300.bin.gz       12%[=>                  ] 204.01M  13.0MB/s    eta 2m 3s  "
     ]
    },
    {
     "name": "stdout",
     "output_type": "stream",
     "text": [
      "\r",
      "ive300.bin.gz        13%[=>                  ] 206.69M  12.9MB/s    eta 2m 0s  "
     ]
    },
    {
     "name": "stdout",
     "output_type": "stream",
     "text": [
      "\r",
      "ve300.bin.gz         13%[=>                  ] 209.34M  12.4MB/s    eta 2m 0s  "
     ]
    },
    {
     "name": "stdout",
     "output_type": "stream",
     "text": [
      "\r",
      "e300.bin.gz          13%[=>                  ] 211.78M  12.3MB/s    eta 2m 0s  "
     ]
    },
    {
     "name": "stdout",
     "output_type": "stream",
     "text": [
      "\r",
      "300.bin.gz           13%[=>                  ] 213.64M  11.8MB/s    eta 2m 0s  "
     ]
    },
    {
     "name": "stdout",
     "output_type": "stream",
     "text": [
      "\r",
      "00.bin.gz            13%[=>                  ] 215.55M  11.7MB/s    eta 2m 0s  "
     ]
    },
    {
     "name": "stdout",
     "output_type": "stream",
     "text": [
      "\r",
      "0.bin.gz             13%[=>                  ] 218.18M  11.9MB/s    eta 1m 59s "
     ]
    },
    {
     "name": "stdout",
     "output_type": "stream",
     "text": [
      "\r",
      ".bin.gz              14%[=>                  ] 221.08M  12.0MB/s    eta 1m 59s "
     ]
    },
    {
     "name": "stdout",
     "output_type": "stream",
     "text": [
      "\r",
      "bin.gz               14%[=>                  ] 224.28M  12.4MB/s    eta 1m 59s "
     ]
    },
    {
     "name": "stdout",
     "output_type": "stream",
     "text": [
      "\r",
      "in.gz                14%[=>                  ] 227.54M  12.8MB/s    eta 1m 59s "
     ]
    },
    {
     "name": "stdout",
     "output_type": "stream",
     "text": [
      "\r",
      "n.gz                 14%[=>                  ] 230.33M  13.1MB/s    eta 1m 59s "
     ]
    },
    {
     "name": "stdout",
     "output_type": "stream",
     "text": [
      "\r",
      ".gz                  14%[=>                  ] 233.30M  13.6MB/s    eta 1m 56s "
     ]
    },
    {
     "name": "stdout",
     "output_type": "stream",
     "text": [
      "\r",
      "gz                   14%[=>                  ] 234.48M  13.1MB/s    eta 1m 56s "
     ]
    },
    {
     "name": "stdout",
     "output_type": "stream",
     "text": [
      "\r",
      "z                    15%[==>                 ] 236.53M  13.0MB/s    eta 1m 56s "
     ]
    },
    {
     "name": "stdout",
     "output_type": "stream",
     "text": [
      "\r",
      "                     15%[==>                 ] 239.46M  12.9MB/s    eta 1m 56s "
     ]
    },
    {
     "name": "stdout",
     "output_type": "stream",
     "text": [
      "\r",
      "                  G  15%[==>                 ] 242.66M  12.8MB/s    eta 1m 56s "
     ]
    },
    {
     "name": "stdout",
     "output_type": "stream",
     "text": [
      "\r",
      "                 Go  15%[==>                 ] 245.95M  13.0MB/s    eta 1m 54s "
     ]
    },
    {
     "name": "stdout",
     "output_type": "stream",
     "text": [
      "\r",
      "                Goo  15%[==>                 ] 248.90M  13.0MB/s    eta 1m 54s "
     ]
    },
    {
     "name": "stdout",
     "output_type": "stream",
     "text": [
      "\r",
      "               Goog  16%[==>                 ] 252.09M  13.3MB/s    eta 1m 54s "
     ]
    },
    {
     "name": "stdout",
     "output_type": "stream",
     "text": [
      "\r",
      "              Googl  16%[==>                 ] 254.84M  13.3MB/s    eta 1m 54s "
     ]
    },
    {
     "name": "stdout",
     "output_type": "stream",
     "text": [
      "\r",
      "             Google  16%[==>                 ] 257.64M  13.9MB/s    eta 1m 54s "
     ]
    },
    {
     "name": "stdout",
     "output_type": "stream",
     "text": [
      "\r",
      "            GoogleN  16%[==>                 ] 260.34M  14.0MB/s    eta 1m 52s "
     ]
    },
    {
     "name": "stdout",
     "output_type": "stream",
     "text": [
      "\r",
      "           GoogleNe  16%[==>                 ] 262.87M  13.9MB/s    eta 1m 52s "
     ]
    },
    {
     "name": "stdout",
     "output_type": "stream",
     "text": [
      "\r",
      "          GoogleNew  16%[==>                 ] 265.20M  13.6MB/s    eta 1m 52s "
     ]
    },
    {
     "name": "stdout",
     "output_type": "stream",
     "text": [
      "\r",
      "         GoogleNews  17%[==>                 ] 267.58M  13.3MB/s    eta 1m 52s "
     ]
    },
    {
     "name": "stdout",
     "output_type": "stream",
     "text": [
      "\r",
      "        GoogleNews-  17%[==>                 ] 270.44M  13.3MB/s    eta 1m 52s "
     ]
    },
    {
     "name": "stdout",
     "output_type": "stream",
     "text": [
      "\r",
      "       GoogleNews-v  17%[==>                 ] 273.56M  13.4MB/s    eta 1m 50s "
     ]
    },
    {
     "name": "stdout",
     "output_type": "stream",
     "text": [
      "\r",
      "      GoogleNews-ve  17%[==>                 ] 277.08M  13.8MB/s    eta 1m 50s "
     ]
    },
    {
     "name": "stdout",
     "output_type": "stream",
     "text": [
      "\r",
      "     GoogleNews-vec  17%[==>                 ] 279.97M  14.2MB/s    eta 1m 50s "
     ]
    },
    {
     "name": "stdout",
     "output_type": "stream",
     "text": [
      "\r",
      "    GoogleNews-vect  18%[==>                 ] 283.05M  14.5MB/s    eta 1m 50s "
     ]
    },
    {
     "name": "stdout",
     "output_type": "stream",
     "text": [
      "\r",
      "   GoogleNews-vecto  18%[==>                 ] 286.09M  14.5MB/s    eta 1m 50s "
     ]
    },
    {
     "name": "stdout",
     "output_type": "stream",
     "text": [
      "\r",
      "  GoogleNews-vector  18%[==>                 ] 288.62M  14.3MB/s    eta 1m 47s "
     ]
    },
    {
     "name": "stdout",
     "output_type": "stream",
     "text": [
      "\r",
      " GoogleNews-vectors  18%[==>                 ] 290.36M  13.8MB/s    eta 1m 47s "
     ]
    },
    {
     "name": "stdout",
     "output_type": "stream",
     "text": [
      "\r",
      "GoogleNews-vectors-  18%[==>                 ] 292.17M  13.4MB/s    eta 1m 47s "
     ]
    },
    {
     "name": "stdout",
     "output_type": "stream",
     "text": [
      "\r",
      "oogleNews-vectors-n  18%[==>                 ] 293.98M  13.0MB/s    eta 1m 47s "
     ]
    },
    {
     "name": "stdout",
     "output_type": "stream",
     "text": [
      "\r",
      "ogleNews-vectors-ne  18%[==>                 ] 295.01M  12.4MB/s    eta 1m 47s "
     ]
    },
    {
     "name": "stdout",
     "output_type": "stream",
     "text": [
      "\r",
      "gleNews-vectors-neg  18%[==>                 ] 297.02M  12.1MB/s    eta 1m 48s "
     ]
    },
    {
     "name": "stdout",
     "output_type": "stream",
     "text": [
      "\r",
      "leNews-vectors-nega  19%[==>                 ] 299.22M  12.0MB/s    eta 1m 48s "
     ]
    },
    {
     "name": "stdout",
     "output_type": "stream",
     "text": [
      "\r",
      "eNews-vectors-negat  19%[==>                 ] 301.90M  12.1MB/s    eta 1m 48s "
     ]
    },
    {
     "name": "stdout",
     "output_type": "stream",
     "text": [
      "\r",
      "News-vectors-negati  19%[==>                 ] 305.00M  12.4MB/s    eta 1m 48s "
     ]
    },
    {
     "name": "stdout",
     "output_type": "stream",
     "text": [
      "\r",
      "ews-vectors-negativ  19%[==>                 ] 308.52M  12.7MB/s    eta 1m 48s "
     ]
    },
    {
     "name": "stdout",
     "output_type": "stream",
     "text": [
      "\r",
      "ws-vectors-negative  19%[==>                 ] 311.36M  12.7MB/s    eta 1m 46s "
     ]
    },
    {
     "name": "stdout",
     "output_type": "stream",
     "text": [
      "\r",
      "s-vectors-negative3  19%[==>                 ] 313.80M  12.3MB/s    eta 1m 46s "
     ]
    },
    {
     "name": "stdout",
     "output_type": "stream",
     "text": [
      "\r",
      "-vectors-negative30  20%[===>                ] 315.23M  11.7MB/s    eta 1m 46s "
     ]
    },
    {
     "name": "stdout",
     "output_type": "stream",
     "text": [
      "\r",
      "vectors-negative300  20%[===>                ] 316.74M  11.4MB/s    eta 1m 46s "
     ]
    },
    {
     "name": "stdout",
     "output_type": "stream",
     "text": [
      "\r",
      "ectors-negative300.  20%[===>                ] 319.00M  11.0MB/s    eta 1m 46s "
     ]
    },
    {
     "name": "stdout",
     "output_type": "stream",
     "text": [
      "\r",
      "ctors-negative300.b  20%[===>                ] 321.57M  10.8MB/s    eta 1m 46s "
     ]
    },
    {
     "name": "stdout",
     "output_type": "stream",
     "text": [
      "\r",
      "tors-negative300.bi  20%[===>                ] 324.23M  11.0MB/s    eta 1m 46s "
     ]
    },
    {
     "name": "stdout",
     "output_type": "stream",
     "text": [
      "\r",
      "ors-negative300.bin  20%[===>                ] 326.29M  11.2MB/s    eta 1m 46s "
     ]
    },
    {
     "name": "stdout",
     "output_type": "stream",
     "text": [
      "\r",
      "rs-negative300.bin.  20%[===>                ] 328.59M  11.3MB/s    eta 1m 46s "
     ]
    },
    {
     "name": "stdout",
     "output_type": "stream",
     "text": [
      "\r",
      "s-negative300.bin.g  21%[===>                ] 330.82M  11.6MB/s    eta 1m 46s "
     ]
    },
    {
     "name": "stdout",
     "output_type": "stream",
     "text": [
      "\r",
      "-negative300.bin.gz  21%[===>                ] 333.06M  11.9MB/s    eta 1m 45s "
     ]
    },
    {
     "name": "stdout",
     "output_type": "stream",
     "text": [
      "\r",
      "negative300.bin.gz   21%[===>                ] 335.00M  11.8MB/s    eta 1m 45s "
     ]
    },
    {
     "name": "stdout",
     "output_type": "stream",
     "text": [
      "\r",
      "egative300.bin.gz    21%[===>                ] 337.09M  11.7MB/s    eta 1m 45s "
     ]
    },
    {
     "name": "stdout",
     "output_type": "stream",
     "text": [
      "\r",
      "gative300.bin.gz     21%[===>                ] 339.58M  11.5MB/s    eta 1m 45s "
     ]
    },
    {
     "name": "stdout",
     "output_type": "stream",
     "text": [
      "\r",
      "ative300.bin.gz      21%[===>                ] 341.82M  11.2MB/s    eta 1m 45s "
     ]
    },
    {
     "name": "stdout",
     "output_type": "stream",
     "text": [
      "\r",
      "tive300.bin.gz       21%[===>                ] 344.13M  10.9MB/s    eta 1m 44s "
     ]
    },
    {
     "name": "stdout",
     "output_type": "stream",
     "text": [
      "\r",
      "ive300.bin.gz        22%[===>                ] 346.84M  10.9MB/s    eta 1m 44s "
     ]
    },
    {
     "name": "stdout",
     "output_type": "stream",
     "text": [
      "\r",
      "ve300.bin.gz         22%[===>                ] 349.94M  11.3MB/s    eta 1m 44s "
     ]
    },
    {
     "name": "stdout",
     "output_type": "stream",
     "text": [
      "\r",
      "e300.bin.gz          22%[===>                ] 353.39M  12.0MB/s    eta 1m 44s "
     ]
    },
    {
     "name": "stdout",
     "output_type": "stream",
     "text": [
      "\r",
      "300.bin.gz           22%[===>                ] 357.24M  12.7MB/s    eta 1m 44s "
     ]
    },
    {
     "name": "stdout",
     "output_type": "stream",
     "text": [
      "\r",
      "00.bin.gz            22%[===>                ] 360.65M  12.9MB/s    eta 1m 41s "
     ]
    },
    {
     "name": "stdout",
     "output_type": "stream",
     "text": [
      "\r",
      "0.bin.gz             23%[===>                ] 363.14M  12.9MB/s    eta 1m 41s "
     ]
    },
    {
     "name": "stdout",
     "output_type": "stream",
     "text": [
      "\r",
      ".bin.gz              23%[===>                ] 365.76M  13.1MB/s    eta 1m 41s "
     ]
    },
    {
     "name": "stdout",
     "output_type": "stream",
     "text": [
      "\r",
      "bin.gz               23%[===>                ] 368.05M  13.0MB/s    eta 1m 41s "
     ]
    },
    {
     "name": "stdout",
     "output_type": "stream",
     "text": [
      "\r",
      "in.gz                23%[===>                ] 369.86M  12.9MB/s    eta 1m 41s "
     ]
    },
    {
     "name": "stdout",
     "output_type": "stream",
     "text": [
      "\r",
      "n.gz                 23%[===>                ] 371.84M  12.8MB/s    eta 1m 41s "
     ]
    },
    {
     "name": "stdout",
     "output_type": "stream",
     "text": [
      "\r",
      ".gz                  23%[===>                ] 374.18M  12.9MB/s    eta 1m 41s "
     ]
    },
    {
     "name": "stdout",
     "output_type": "stream",
     "text": [
      "\r",
      "gz                   23%[===>                ] 376.75M  13.0MB/s    eta 1m 41s "
     ]
    },
    {
     "name": "stdout",
     "output_type": "stream",
     "text": [
      "\r",
      "z                    24%[===>                ] 379.21M  13.1MB/s    eta 1m 41s "
     ]
    },
    {
     "name": "stdout",
     "output_type": "stream",
     "text": [
      "\r",
      "                     24%[===>                ] 381.85M  13.2MB/s    eta 1m 41s "
     ]
    },
    {
     "name": "stdout",
     "output_type": "stream",
     "text": [
      "\r",
      "                  G  24%[===>                ] 384.16M  13.2MB/s    eta 1m 40s "
     ]
    },
    {
     "name": "stdout",
     "output_type": "stream",
     "text": [
      "\r",
      "                 Go  24%[===>                ] 385.85M  13.0MB/s    eta 1m 40s "
     ]
    },
    {
     "name": "stdout",
     "output_type": "stream",
     "text": [
      "\r",
      "                Goo  24%[===>                ] 387.31M  12.5MB/s    eta 1m 40s "
     ]
    },
    {
     "name": "stdout",
     "output_type": "stream",
     "text": [
      "\r",
      "               Goog  24%[===>                ] 389.14M  12.1MB/s    eta 1m 40s "
     ]
    },
    {
     "name": "stdout",
     "output_type": "stream",
     "text": [
      "\r",
      "              Googl  24%[===>                ] 390.72M  11.2MB/s    eta 1m 40s "
     ]
    },
    {
     "name": "stdout",
     "output_type": "stream",
     "text": [
      "\r",
      "             Google  24%[===>                ] 392.67M  10.7MB/s    eta 1m 40s "
     ]
    },
    {
     "name": "stdout",
     "output_type": "stream",
     "text": [
      "\r",
      "            GoogleN  25%[====>               ] 395.00M  10.6MB/s    eta 1m 40s "
     ]
    },
    {
     "name": "stdout",
     "output_type": "stream",
     "text": [
      "\r",
      "           GoogleNe  25%[====>               ] 397.57M  10.6MB/s    eta 1m 40s "
     ]
    },
    {
     "name": "stdout",
     "output_type": "stream",
     "text": [
      "\r",
      "          GoogleNew  25%[====>               ] 399.53M  10.4MB/s    eta 1m 40s "
     ]
    },
    {
     "name": "stdout",
     "output_type": "stream",
     "text": [
      "\r",
      "         GoogleNews  25%[====>               ] 401.36M  10.4MB/s    eta 1m 40s "
     ]
    },
    {
     "name": "stdout",
     "output_type": "stream",
     "text": [
      "\r",
      "        GoogleNews-  25%[====>               ] 403.58M  10.5MB/s    eta 99s    "
     ]
    },
    {
     "name": "stdout",
     "output_type": "stream",
     "text": [
      "\r",
      "       GoogleNews-v  25%[====>               ] 405.36M  10.4MB/s    eta 99s    "
     ]
    },
    {
     "name": "stdout",
     "output_type": "stream",
     "text": [
      "\r",
      "      GoogleNews-ve  25%[====>               ] 407.10M  10.2MB/s    eta 99s    "
     ]
    },
    {
     "name": "stdout",
     "output_type": "stream",
     "text": [
      "\r",
      "     GoogleNews-vec  26%[====>               ] 409.01M  9.91MB/s    eta 99s    "
     ]
    },
    {
     "name": "stdout",
     "output_type": "stream",
     "text": [
      "\r",
      "    GoogleNews-vect  26%[====>               ] 411.33M  9.88MB/s    eta 99s    "
     ]
    },
    {
     "name": "stdout",
     "output_type": "stream",
     "text": [
      "\r",
      "   GoogleNews-vecto  26%[====>               ] 413.99M  9.93MB/s    eta 99s    "
     ]
    },
    {
     "name": "stdout",
     "output_type": "stream",
     "text": [
      "\r",
      "  GoogleNews-vector  26%[====>               ] 416.98M  10.3MB/s    eta 99s    "
     ]
    },
    {
     "name": "stdout",
     "output_type": "stream",
     "text": [
      "\r",
      " GoogleNews-vectors  26%[====>               ] 420.00M  10.8MB/s    eta 99s    "
     ]
    },
    {
     "name": "stdout",
     "output_type": "stream",
     "text": [
      "\r",
      "GoogleNews-vectors-  26%[====>               ] 422.71M  11.1MB/s    eta 99s    "
     ]
    },
    {
     "name": "stdout",
     "output_type": "stream",
     "text": [
      "\r",
      "oogleNews-vectors-n  27%[====>               ] 425.79M  11.6MB/s    eta 99s    "
     ]
    },
    {
     "name": "stdout",
     "output_type": "stream",
     "text": [
      "\r",
      "ogleNews-vectors-ne  27%[====>               ] 428.43M  11.8MB/s    eta 97s    "
     ]
    },
    {
     "name": "stdout",
     "output_type": "stream",
     "text": [
      "\r",
      "gleNews-vectors-neg  27%[====>               ] 430.59M  11.8MB/s    eta 97s    "
     ]
    },
    {
     "name": "stdout",
     "output_type": "stream",
     "text": [
      "\r",
      "leNews-vectors-nega  27%[====>               ] 432.93M  11.7MB/s    eta 97s    "
     ]
    },
    {
     "name": "stdout",
     "output_type": "stream",
     "text": [
      "\r",
      "eNews-vectors-negat  27%[====>               ] 435.67M  11.9MB/s    eta 97s    "
     ]
    },
    {
     "name": "stdout",
     "output_type": "stream",
     "text": [
      "\r",
      "News-vectors-negati  27%[====>               ] 438.81M  12.3MB/s    eta 97s    "
     ]
    },
    {
     "name": "stdout",
     "output_type": "stream",
     "text": [
      "\r",
      "ews-vectors-negativ  28%[====>               ] 441.34M  12.5MB/s    eta 95s    "
     ]
    },
    {
     "name": "stdout",
     "output_type": "stream",
     "text": [
      "\r",
      "ws-vectors-negative  28%[====>               ] 444.23M  12.8MB/s    eta 95s    "
     ]
    },
    {
     "name": "stdout",
     "output_type": "stream",
     "text": [
      "\r",
      "s-vectors-negative3  28%[====>               ] 447.28M  13.1MB/s    eta 95s    "
     ]
    },
    {
     "name": "stdout",
     "output_type": "stream",
     "text": [
      "\r",
      "-vectors-negative30  28%[====>               ] 449.88M  13.5MB/s    eta 95s    "
     ]
    },
    {
     "name": "stdout",
     "output_type": "stream",
     "text": [
      "\r",
      "vectors-negative300  28%[====>               ] 452.09M  13.5MB/s    eta 95s    "
     ]
    },
    {
     "name": "stdout",
     "output_type": "stream",
     "text": [
      "\r",
      "ectors-negative300.  28%[====>               ] 454.45M  13.4MB/s    eta 94s    "
     ]
    },
    {
     "name": "stdout",
     "output_type": "stream",
     "text": [
      "\r",
      "ctors-negative300.b  29%[====>               ] 456.49M  13.0MB/s    eta 94s    "
     ]
    },
    {
     "name": "stdout",
     "output_type": "stream",
     "text": [
      "\r",
      "tors-negative300.bi  29%[====>               ] 458.45M  12.7MB/s    eta 94s    "
     ]
    },
    {
     "name": "stdout",
     "output_type": "stream",
     "text": [
      "\r",
      "ors-negative300.bin  29%[====>               ] 460.49M  12.5MB/s    eta 94s    "
     ]
    },
    {
     "name": "stdout",
     "output_type": "stream",
     "text": [
      "\r",
      "rs-negative300.bin.  29%[====>               ] 462.83M  12.2MB/s    eta 94s    "
     ]
    },
    {
     "name": "stdout",
     "output_type": "stream",
     "text": [
      "\r",
      "s-negative300.bin.g  29%[====>               ] 465.62M  12.3MB/s    eta 93s    "
     ]
    },
    {
     "name": "stdout",
     "output_type": "stream",
     "text": [
      "\r",
      "-negative300.bin.gz  29%[====>               ] 468.06M  12.3MB/s    eta 93s    "
     ]
    },
    {
     "name": "stdout",
     "output_type": "stream",
     "text": [
      "\r",
      "negative300.bin.gz   29%[====>               ] 470.65M  12.5MB/s    eta 93s    "
     ]
    },
    {
     "name": "stdout",
     "output_type": "stream",
     "text": [
      "\r",
      "egative300.bin.gz    30%[=====>              ] 473.59M  12.6MB/s    eta 93s    "
     ]
    },
    {
     "name": "stdout",
     "output_type": "stream",
     "text": [
      "\r",
      "gative300.bin.gz     30%[=====>              ] 475.58M  12.3MB/s    eta 93s    "
     ]
    },
    {
     "name": "stdout",
     "output_type": "stream",
     "text": [
      "\r",
      "ative300.bin.gz      30%[=====>              ] 477.59M  12.0MB/s    eta 92s    "
     ]
    },
    {
     "name": "stdout",
     "output_type": "stream",
     "text": [
      "\r",
      "tive300.bin.gz       30%[=====>              ] 480.05M  11.9MB/s    eta 92s    "
     ]
    },
    {
     "name": "stdout",
     "output_type": "stream",
     "text": [
      "\r",
      "ive300.bin.gz        30%[=====>              ] 482.46M  11.7MB/s    eta 92s    "
     ]
    },
    {
     "name": "stdout",
     "output_type": "stream",
     "text": [
      "\r",
      "ve300.bin.gz         30%[=====>              ] 484.77M  11.5MB/s    eta 92s    "
     ]
    },
    {
     "name": "stdout",
     "output_type": "stream",
     "text": [
      "\r",
      "e300.bin.gz          31%[=====>              ] 487.42M  11.6MB/s    eta 92s    "
     ]
    },
    {
     "name": "stdout",
     "output_type": "stream",
     "text": [
      "\r",
      "300.bin.gz           31%[=====>              ] 490.52M  11.9MB/s    eta 91s    "
     ]
    },
    {
     "name": "stdout",
     "output_type": "stream",
     "text": [
      "\r",
      "00.bin.gz            31%[=====>              ] 493.93M  12.4MB/s    eta 91s    "
     ]
    },
    {
     "name": "stdout",
     "output_type": "stream",
     "text": [
      "\r",
      "0.bin.gz             31%[=====>              ] 496.58M  12.5MB/s    eta 91s    "
     ]
    },
    {
     "name": "stdout",
     "output_type": "stream",
     "text": [
      "\r",
      ".bin.gz              31%[=====>              ] 499.66M  12.9MB/s    eta 91s    "
     ]
    },
    {
     "name": "stdout",
     "output_type": "stream",
     "text": [
      "\r",
      "bin.gz               31%[=====>              ] 502.31M  13.0MB/s    eta 91s    "
     ]
    },
    {
     "name": "stdout",
     "output_type": "stream",
     "text": [
      "\r",
      "in.gz                32%[=====>              ] 504.39M  12.8MB/s    eta 90s    "
     ]
    },
    {
     "name": "stdout",
     "output_type": "stream",
     "text": [
      "\r",
      "n.gz                 32%[=====>              ] 506.83M  12.7MB/s    eta 90s    "
     ]
    },
    {
     "name": "stdout",
     "output_type": "stream",
     "text": [
      "\r",
      ".gz                  32%[=====>              ] 509.50M  12.8MB/s    eta 90s    "
     ]
    },
    {
     "name": "stdout",
     "output_type": "stream",
     "text": [
      "\r",
      "gz                   32%[=====>              ] 511.76M  12.6MB/s    eta 90s    "
     ]
    },
    {
     "name": "stdout",
     "output_type": "stream",
     "text": [
      "\r",
      "z                    32%[=====>              ] 514.35M  12.6MB/s    eta 90s    "
     ]
    },
    {
     "name": "stdout",
     "output_type": "stream",
     "text": [
      "\r",
      "                     32%[=====>              ] 516.51M  12.9MB/s    eta 88s    "
     ]
    },
    {
     "name": "stdout",
     "output_type": "stream",
     "text": [
      "\r",
      "                  G  33%[=====>              ] 518.91M  12.8MB/s    eta 88s    "
     ]
    },
    {
     "name": "stdout",
     "output_type": "stream",
     "text": [
      "\r",
      "                 Go  33%[=====>              ] 521.14M  12.7MB/s    eta 88s    "
     ]
    },
    {
     "name": "stdout",
     "output_type": "stream",
     "text": [
      "\r",
      "                Goo  33%[=====>              ] 523.40M  12.4MB/s    eta 88s    "
     ]
    },
    {
     "name": "stdout",
     "output_type": "stream",
     "text": [
      "\r",
      "               Goog  33%[=====>              ] 525.32M  12.1MB/s    eta 88s    "
     ]
    },
    {
     "name": "stdout",
     "output_type": "stream",
     "text": [
      "\r",
      "              Googl  33%[=====>              ] 527.36M  11.8MB/s    eta 88s    "
     ]
    },
    {
     "name": "stdout",
     "output_type": "stream",
     "text": [
      "\r",
      "             Google  33%[=====>              ] 529.94M  11.6MB/s    eta 88s    "
     ]
    },
    {
     "name": "stdout",
     "output_type": "stream",
     "text": [
      "\r",
      "            GoogleN  33%[=====>              ] 532.09M  11.2MB/s    eta 88s    "
     ]
    },
    {
     "name": "stdout",
     "output_type": "stream",
     "text": [
      "\r",
      "           GoogleNe  33%[=====>              ] 533.84M  10.9MB/s    eta 88s    "
     ]
    },
    {
     "name": "stdout",
     "output_type": "stream",
     "text": [
      "\r",
      "          GoogleNew  34%[=====>              ] 535.95M  10.7MB/s    eta 88s    "
     ]
    },
    {
     "name": "stdout",
     "output_type": "stream",
     "text": [
      "\r",
      "         GoogleNews  34%[=====>              ] 538.37M  10.8MB/s    eta 87s    "
     ]
    },
    {
     "name": "stdout",
     "output_type": "stream",
     "text": [
      "\r",
      "        GoogleNews-  34%[=====>              ] 540.58M  10.8MB/s    eta 87s    "
     ]
    },
    {
     "name": "stdout",
     "output_type": "stream",
     "text": [
      "\r",
      "       GoogleNews-v  34%[=====>              ] 543.04M  10.7MB/s    eta 87s    "
     ]
    },
    {
     "name": "stdout",
     "output_type": "stream",
     "text": [
      "\r",
      "      GoogleNews-ve  34%[=====>              ] 545.67M  10.8MB/s    eta 87s    "
     ]
    },
    {
     "name": "stdout",
     "output_type": "stream",
     "text": [
      "\r",
      "     GoogleNews-vec  34%[=====>              ] 547.73M  10.7MB/s    eta 87s    "
     ]
    },
    {
     "name": "stdout",
     "output_type": "stream",
     "text": [
      "\r",
      "    GoogleNews-vect  34%[=====>              ] 549.63M  10.6MB/s    eta 86s    "
     ]
    },
    {
     "name": "stdout",
     "output_type": "stream",
     "text": [
      "\r",
      "   GoogleNews-vecto  35%[======>             ] 551.39M  10.4MB/s    eta 86s    "
     ]
    },
    {
     "name": "stdout",
     "output_type": "stream",
     "text": [
      "\r",
      "  GoogleNews-vector  35%[======>             ] 553.10M  10.2MB/s    eta 86s    "
     ]
    },
    {
     "name": "stdout",
     "output_type": "stream",
     "text": [
      "\r",
      " GoogleNews-vectors  35%[======>             ] 554.77M  10.0MB/s    eta 86s    "
     ]
    },
    {
     "name": "stdout",
     "output_type": "stream",
     "text": [
      "\r",
      "GoogleNews-vectors-  35%[======>             ] 556.80M  10.4MB/s    eta 86s    "
     ]
    },
    {
     "name": "stdout",
     "output_type": "stream",
     "text": [
      "\r",
      "oogleNews-vectors-n  35%[======>             ] 559.22M  10.5MB/s    eta 86s    "
     ]
    },
    {
     "name": "stdout",
     "output_type": "stream",
     "text": [
      "\r",
      "ogleNews-vectors-ne  35%[======>             ] 562.01M  10.7MB/s    eta 86s    "
     ]
    },
    {
     "name": "stdout",
     "output_type": "stream",
     "text": [
      "\r",
      "gleNews-vectors-neg  35%[======>             ] 565.03M  10.8MB/s    eta 86s    "
     ]
    },
    {
     "name": "stdout",
     "output_type": "stream",
     "text": [
      "\r",
      "leNews-vectors-nega  36%[======>             ] 567.44M  11.1MB/s    eta 86s    "
     ]
    },
    {
     "name": "stdout",
     "output_type": "stream",
     "text": [
      "\r",
      "eNews-vectors-negat  36%[======>             ] 570.15M  11.2MB/s    eta 86s    "
     ]
    },
    {
     "name": "stdout",
     "output_type": "stream",
     "text": [
      "\r",
      "News-vectors-negati  36%[======>             ] 572.35M  11.2MB/s    eta 85s    "
     ]
    },
    {
     "name": "stdout",
     "output_type": "stream",
     "text": [
      "\r",
      "ews-vectors-negativ  36%[======>             ] 574.33M  11.1MB/s    eta 85s    "
     ]
    },
    {
     "name": "stdout",
     "output_type": "stream",
     "text": [
      "\r",
      "ws-vectors-negative  36%[======>             ] 576.27M  11.0MB/s    eta 85s    "
     ]
    },
    {
     "name": "stdout",
     "output_type": "stream",
     "text": [
      "\r",
      "s-vectors-negative3  36%[======>             ] 577.85M  10.6MB/s    eta 85s    "
     ]
    },
    {
     "name": "stdout",
     "output_type": "stream",
     "text": [
      "\r",
      "-vectors-negative30  36%[======>             ] 579.51M  10.4MB/s    eta 85s    "
     ]
    },
    {
     "name": "stdout",
     "output_type": "stream",
     "text": [
      "\r",
      "vectors-negative300  37%[======>             ] 581.38M  10.4MB/s    eta 84s    "
     ]
    },
    {
     "name": "stdout",
     "output_type": "stream",
     "text": [
      "\r",
      "ectors-negative300.  37%[======>             ] 583.53M  10.6MB/s    eta 84s    "
     ]
    },
    {
     "name": "stdout",
     "output_type": "stream",
     "text": [
      "\r",
      "ctors-negative300.b  37%[======>             ] 586.15M  10.9MB/s    eta 84s    "
     ]
    },
    {
     "name": "stdout",
     "output_type": "stream",
     "text": [
      "\r",
      "tors-negative300.bi  37%[======>             ] 589.22M  11.3MB/s    eta 84s    "
     ]
    },
    {
     "name": "stdout",
     "output_type": "stream",
     "text": [
      "\r",
      "ors-negative300.bin  37%[======>             ] 591.91M  11.6MB/s    eta 84s    "
     ]
    },
    {
     "name": "stdout",
     "output_type": "stream",
     "text": [
      "\r",
      "rs-negative300.bin.  37%[======>             ] 593.99M  11.5MB/s    eta 83s    "
     ]
    },
    {
     "name": "stdout",
     "output_type": "stream",
     "text": [
      "\r",
      "s-negative300.bin.g  37%[======>             ] 595.46M  11.2MB/s    eta 83s    "
     ]
    },
    {
     "name": "stdout",
     "output_type": "stream",
     "text": [
      "\r",
      "-negative300.bin.gz  38%[======>             ] 597.42M  10.8MB/s    eta 83s    "
     ]
    },
    {
     "name": "stdout",
     "output_type": "stream",
     "text": [
      "\r",
      "negative300.bin.gz   38%[======>             ] 599.26M  10.6MB/s    eta 83s    "
     ]
    },
    {
     "name": "stdout",
     "output_type": "stream",
     "text": [
      "\r",
      "egative300.bin.gz    38%[======>             ] 601.27M  10.4MB/s    eta 83s    "
     ]
    },
    {
     "name": "stdout",
     "output_type": "stream",
     "text": [
      "\r",
      "gative300.bin.gz     38%[======>             ] 603.67M  10.4MB/s    eta 83s    "
     ]
    },
    {
     "name": "stdout",
     "output_type": "stream",
     "text": [
      "\r",
      "ative300.bin.gz      38%[======>             ] 605.74M  10.4MB/s    eta 83s    "
     ]
    },
    {
     "name": "stdout",
     "output_type": "stream",
     "text": [
      "\r",
      "tive300.bin.gz       38%[======>             ] 607.93M  10.4MB/s    eta 83s    "
     ]
    },
    {
     "name": "stdout",
     "output_type": "stream",
     "text": [
      "\r",
      "ive300.bin.gz        38%[======>             ] 609.82M  10.4MB/s    eta 83s    "
     ]
    },
    {
     "name": "stdout",
     "output_type": "stream",
     "text": [
      "\r",
      "ve300.bin.gz         38%[======>             ] 611.96M  10.7MB/s    eta 83s    "
     ]
    },
    {
     "name": "stdout",
     "output_type": "stream",
     "text": [
      "\r",
      "e300.bin.gz          39%[======>             ] 613.81M  10.7MB/s    eta 82s    "
     ]
    },
    {
     "name": "stdout",
     "output_type": "stream",
     "text": [
      "\r",
      "300.bin.gz           39%[======>             ] 616.08M  10.8MB/s    eta 82s    "
     ]
    },
    {
     "name": "stdout",
     "output_type": "stream",
     "text": [
      "\r",
      "00.bin.gz            39%[======>             ] 618.74M  10.9MB/s    eta 82s    "
     ]
    },
    {
     "name": "stdout",
     "output_type": "stream",
     "text": [
      "\r",
      "0.bin.gz             39%[======>             ] 621.41M  10.8MB/s    eta 82s    "
     ]
    },
    {
     "name": "stdout",
     "output_type": "stream",
     "text": [
      "\r",
      ".bin.gz              39%[======>             ] 623.88M  10.7MB/s    eta 82s    "
     ]
    },
    {
     "name": "stdout",
     "output_type": "stream",
     "text": [
      "\r",
      "bin.gz               39%[======>             ] 626.11M  10.6MB/s    eta 81s    "
     ]
    },
    {
     "name": "stdout",
     "output_type": "stream",
     "text": [
      "\r",
      "in.gz                39%[======>             ] 628.25M  10.7MB/s    eta 81s    "
     ]
    },
    {
     "name": "stdout",
     "output_type": "stream",
     "text": [
      "\r",
      "n.gz                 40%[=======>            ] 630.16M  10.8MB/s    eta 81s    "
     ]
    },
    {
     "name": "stdout",
     "output_type": "stream",
     "text": [
      "\r",
      ".gz                  40%[=======>            ] 631.74M  10.7MB/s    eta 81s    "
     ]
    },
    {
     "name": "stdout",
     "output_type": "stream",
     "text": [
      "\r",
      "gz                   40%[=======>            ] 633.02M  10.5MB/s    eta 81s    "
     ]
    },
    {
     "name": "stdout",
     "output_type": "stream",
     "text": [
      "\r",
      "z                    40%[=======>            ] 634.69M  10.3MB/s    eta 80s    "
     ]
    },
    {
     "name": "stdout",
     "output_type": "stream",
     "text": [
      "\r",
      "                     40%[=======>            ] 636.70M  10.2MB/s    eta 80s    "
     ]
    },
    {
     "name": "stdout",
     "output_type": "stream",
     "text": [
      "\r",
      "                  G  40%[=======>            ] 639.04M  10.3MB/s    eta 80s    "
     ]
    },
    {
     "name": "stdout",
     "output_type": "stream",
     "text": [
      "\r",
      "                 Go  40%[=======>            ] 641.83M  10.6MB/s    eta 80s    "
     ]
    },
    {
     "name": "stdout",
     "output_type": "stream",
     "text": [
      "\r",
      "                Goo  41%[=======>            ] 644.60M  10.8MB/s    eta 80s    "
     ]
    },
    {
     "name": "stdout",
     "output_type": "stream",
     "text": [
      "\r",
      "               Goog  41%[=======>            ] 646.78M  10.9MB/s    eta 79s    "
     ]
    },
    {
     "name": "stdout",
     "output_type": "stream",
     "text": [
      "\r",
      "              Googl  41%[=======>            ] 648.72M  10.8MB/s    eta 79s    "
     ]
    },
    {
     "name": "stdout",
     "output_type": "stream",
     "text": [
      "\r",
      "             Google  41%[=======>            ] 650.41M  10.5MB/s    eta 79s    "
     ]
    },
    {
     "name": "stdout",
     "output_type": "stream",
     "text": [
      "\r",
      "            GoogleN  41%[=======>            ] 652.52M  10.4MB/s    eta 79s    "
     ]
    },
    {
     "name": "stdout",
     "output_type": "stream",
     "text": [
      "\r",
      "           GoogleNe  41%[=======>            ] 654.73M  10.2MB/s    eta 79s    "
     ]
    },
    {
     "name": "stdout",
     "output_type": "stream",
     "text": [
      "\r",
      "          GoogleNew  41%[=======>            ] 656.51M  10.0MB/s    eta 79s    "
     ]
    },
    {
     "name": "stdout",
     "output_type": "stream",
     "text": [
      "\r",
      "         GoogleNews  41%[=======>            ] 658.83M  10.1MB/s    eta 79s    "
     ]
    },
    {
     "name": "stdout",
     "output_type": "stream",
     "text": [
      "\r",
      "        GoogleNews-  42%[=======>            ] 661.55M  10.4MB/s    eta 79s    "
     ]
    },
    {
     "name": "stdout",
     "output_type": "stream",
     "text": [
      "\r",
      "       GoogleNews-v  42%[=======>            ] 663.71M  10.5MB/s    eta 79s    "
     ]
    },
    {
     "name": "stdout",
     "output_type": "stream",
     "text": [
      "\r",
      "      GoogleNews-ve  42%[=======>            ] 665.34M  10.6MB/s    eta 79s    "
     ]
    },
    {
     "name": "stdout",
     "output_type": "stream",
     "text": [
      "\r",
      "     GoogleNews-vec  42%[=======>            ] 667.15M  10.6MB/s    eta 78s    "
     ]
    },
    {
     "name": "stdout",
     "output_type": "stream",
     "text": [
      "\r",
      "    GoogleNews-vect  42%[=======>            ] 669.61M  10.9MB/s    eta 78s    "
     ]
    },
    {
     "name": "stdout",
     "output_type": "stream",
     "text": [
      "\r",
      "   GoogleNews-vecto  42%[=======>            ] 672.00M  10.9MB/s    eta 78s    "
     ]
    },
    {
     "name": "stdout",
     "output_type": "stream",
     "text": [
      "\r",
      "  GoogleNews-vector  42%[=======>            ] 673.91M  10.8MB/s    eta 78s    "
     ]
    },
    {
     "name": "stdout",
     "output_type": "stream",
     "text": [
      "\r",
      " GoogleNews-vectors  43%[=======>            ] 675.86M  10.3MB/s    eta 78s    "
     ]
    },
    {
     "name": "stdout",
     "output_type": "stream",
     "text": [
      "\r",
      "GoogleNews-vectors-  43%[=======>            ] 678.27M  10.4MB/s    eta 77s    "
     ]
    },
    {
     "name": "stdout",
     "output_type": "stream",
     "text": [
      "\r",
      "oogleNews-vectors-n  43%[=======>            ] 680.76M  10.6MB/s    eta 77s    "
     ]
    },
    {
     "name": "stdout",
     "output_type": "stream",
     "text": [
      "\r",
      "ogleNews-vectors-ne  43%[=======>            ] 682.99M  10.7MB/s    eta 77s    "
     ]
    },
    {
     "name": "stdout",
     "output_type": "stream",
     "text": [
      "\r",
      "gleNews-vectors-neg  43%[=======>            ] 684.88M  10.7MB/s    eta 77s    "
     ]
    },
    {
     "name": "stdout",
     "output_type": "stream",
     "text": [
      "\r",
      "leNews-vectors-nega  43%[=======>            ] 687.05M  10.7MB/s    eta 77s    "
     ]
    },
    {
     "name": "stdout",
     "output_type": "stream",
     "text": [
      "\r",
      "eNews-vectors-negat  43%[=======>            ] 689.67M  10.9MB/s    eta 76s    "
     ]
    },
    {
     "name": "stdout",
     "output_type": "stream",
     "text": [
      "\r",
      "News-vectors-negati  44%[=======>            ] 692.02M  11.0MB/s    eta 76s    "
     ]
    },
    {
     "name": "stdout",
     "output_type": "stream",
     "text": [
      "\r",
      "ews-vectors-negativ  44%[=======>            ] 694.13M  10.9MB/s    eta 76s    "
     ]
    },
    {
     "name": "stdout",
     "output_type": "stream",
     "text": [
      "\r",
      "ws-vectors-negative  44%[=======>            ] 695.65M  10.6MB/s    eta 76s    "
     ]
    },
    {
     "name": "stdout",
     "output_type": "stream",
     "text": [
      "\r",
      "s-vectors-negative3  44%[=======>            ] 697.40M  10.5MB/s    eta 76s    "
     ]
    },
    {
     "name": "stdout",
     "output_type": "stream",
     "text": [
      "\r",
      "-vectors-negative30  44%[=======>            ] 699.62M  10.7MB/s    eta 75s    "
     ]
    },
    {
     "name": "stdout",
     "output_type": "stream",
     "text": [
      "\r",
      "vectors-negative300  44%[=======>            ] 702.21M  10.8MB/s    eta 75s    "
     ]
    },
    {
     "name": "stdout",
     "output_type": "stream",
     "text": [
      "\r",
      "ectors-negative300.  44%[=======>            ] 705.23M  11.0MB/s    eta 75s    "
     ]
    },
    {
     "name": "stdout",
     "output_type": "stream",
     "text": [
      "\r",
      "ctors-negative300.b  45%[========>           ] 708.09M  11.2MB/s    eta 75s    "
     ]
    },
    {
     "name": "stdout",
     "output_type": "stream",
     "text": [
      "\r",
      "tors-negative300.bi  45%[========>           ] 709.95M  11.2MB/s    eta 75s    "
     ]
    },
    {
     "name": "stdout",
     "output_type": "stream",
     "text": [
      "\r",
      "ors-negative300.bin  45%[========>           ] 711.54M  11.0MB/s    eta 74s    "
     ]
    },
    {
     "name": "stdout",
     "output_type": "stream",
     "text": [
      "\r",
      "rs-negative300.bin.  45%[========>           ] 713.45M  10.8MB/s    eta 74s    "
     ]
    },
    {
     "name": "stdout",
     "output_type": "stream",
     "text": [
      "\r",
      "s-negative300.bin.g  45%[========>           ] 715.88M  10.8MB/s    eta 74s    "
     ]
    },
    {
     "name": "stdout",
     "output_type": "stream",
     "text": [
      "\r",
      "-negative300.bin.gz  45%[========>           ] 718.70M  11.1MB/s    eta 74s    "
     ]
    },
    {
     "name": "stdout",
     "output_type": "stream",
     "text": [
      "\r",
      "negative300.bin.gz   45%[========>           ] 720.90M  1.92MB/s    eta 91s    "
     ]
    },
    {
     "name": "stdout",
     "output_type": "stream",
     "text": [
      "\r",
      "egative300.bin.gz    46%[========>           ] 727.15M  2.16MB/s    eta 91s    "
     ]
    },
    {
     "name": "stdout",
     "output_type": "stream",
     "text": [
      "\r",
      "gative300.bin.gz     46%[========>           ] 728.96M  2.16MB/s    eta 91s    "
     ]
    },
    {
     "name": "stdout",
     "output_type": "stream",
     "text": [
      "\r",
      "ative300.bin.gz      46%[========>           ] 731.21M  2.11MB/s    eta 91s    "
     ]
    },
    {
     "name": "stdout",
     "output_type": "stream",
     "text": [
      "\r",
      "tive300.bin.gz       46%[========>           ] 733.24M  2.15MB/s    eta 91s    "
     ]
    },
    {
     "name": "stdout",
     "output_type": "stream",
     "text": [
      "\r",
      "ive300.bin.gz        46%[========>           ] 735.33M  2.20MB/s    eta 89s    "
     ]
    },
    {
     "name": "stdout",
     "output_type": "stream",
     "text": [
      "\r",
      "ve300.bin.gz         46%[========>           ] 736.86M  2.12MB/s    eta 89s    "
     ]
    },
    {
     "name": "stdout",
     "output_type": "stream",
     "text": [
      "\r",
      "e300.bin.gz          47%[========>           ] 738.30M  2.09MB/s    eta 89s    "
     ]
    },
    {
     "name": "stdout",
     "output_type": "stream",
     "text": [
      "\r",
      "300.bin.gz           47%[========>           ] 739.70M  2.04MB/s    eta 89s    "
     ]
    },
    {
     "name": "stdout",
     "output_type": "stream",
     "text": [
      "\r",
      "00.bin.gz            47%[========>           ] 740.88M  1.97MB/s    eta 89s    "
     ]
    },
    {
     "name": "stdout",
     "output_type": "stream",
     "text": [
      "\r",
      "0.bin.gz             47%[========>           ] 742.32M  1.86MB/s    eta 88s    "
     ]
    },
    {
     "name": "stdout",
     "output_type": "stream",
     "text": [
      "\r",
      ".bin.gz              47%[========>           ] 744.20M  1.90MB/s    eta 88s    "
     ]
    },
    {
     "name": "stdout",
     "output_type": "stream",
     "text": [
      "\r",
      "bin.gz               47%[========>           ] 746.40M  1.95MB/s    eta 88s    "
     ]
    },
    {
     "name": "stdout",
     "output_type": "stream",
     "text": [
      "\r",
      "in.gz                47%[========>           ] 748.40M  1.88MB/s    eta 88s    "
     ]
    },
    {
     "name": "stdout",
     "output_type": "stream",
     "text": [
      "\r",
      "n.gz                 47%[========>           ] 750.36M  1.87MB/s    eta 88s    "
     ]
    },
    {
     "name": "stdout",
     "output_type": "stream",
     "text": [
      "\r",
      ".gz                  47%[========>           ] 752.02M  1.84MB/s    eta 87s    "
     ]
    },
    {
     "name": "stdout",
     "output_type": "stream",
     "text": [
      "\r",
      "gz                   48%[========>           ] 754.06M  8.89MB/s    eta 87s    "
     ]
    },
    {
     "name": "stdout",
     "output_type": "stream",
     "text": [
      "\r",
      "z                    48%[========>           ] 756.23M  9.03MB/s    eta 87s    "
     ]
    },
    {
     "name": "stdout",
     "output_type": "stream",
     "text": [
      "\r",
      "                     48%[========>           ] 758.77M  9.22MB/s    eta 87s    "
     ]
    },
    {
     "name": "stdout",
     "output_type": "stream",
     "text": [
      "\r",
      "                  G  48%[========>           ] 761.03M  9.19MB/s    eta 87s    "
     ]
    },
    {
     "name": "stdout",
     "output_type": "stream",
     "text": [
      "\r",
      "                 Go  48%[========>           ] 762.94M  9.20MB/s    eta 86s    "
     ]
    },
    {
     "name": "stdout",
     "output_type": "stream",
     "text": [
      "\r",
      "                Goo  48%[========>           ] 764.35M  8.98MB/s    eta 86s    "
     ]
    },
    {
     "name": "stdout",
     "output_type": "stream",
     "text": [
      "\r",
      "               Goog  48%[========>           ] 766.13M  9.18MB/s    eta 86s    "
     ]
    },
    {
     "name": "stdout",
     "output_type": "stream",
     "text": [
      "\r",
      "              Googl  48%[========>           ] 767.72M  9.18MB/s    eta 86s    "
     ]
    },
    {
     "name": "stdout",
     "output_type": "stream",
     "text": [
      "\r",
      "             Google  48%[========>           ] 769.50M  9.33MB/s    eta 86s    "
     ]
    },
    {
     "name": "stdout",
     "output_type": "stream",
     "text": [
      "\r",
      "            GoogleN  49%[========>           ] 771.66M  9.69MB/s    eta 85s    "
     ]
    },
    {
     "name": "stdout",
     "output_type": "stream",
     "text": [
      "\r",
      "           GoogleNe  49%[========>           ] 773.50M  9.70MB/s    eta 85s    "
     ]
    },
    {
     "name": "stdout",
     "output_type": "stream",
     "text": [
      "\r",
      "          GoogleNew  49%[========>           ] 775.47M  9.70MB/s    eta 85s    "
     ]
    },
    {
     "name": "stdout",
     "output_type": "stream",
     "text": [
      "\r",
      "         GoogleNews  49%[========>           ] 778.05M  9.80MB/s    eta 85s    "
     ]
    },
    {
     "name": "stdout",
     "output_type": "stream",
     "text": [
      "\r",
      "        GoogleNews-  49%[========>           ] 780.59M  9.96MB/s    eta 85s    "
     ]
    },
    {
     "name": "stdout",
     "output_type": "stream",
     "text": [
      "\r",
      "       GoogleNews-v  49%[========>           ] 782.94M  10.2MB/s    eta 83s    "
     ]
    },
    {
     "name": "stdout",
     "output_type": "stream",
     "text": [
      "\r",
      "      GoogleNews-ve  50%[=========>          ] 785.47M  10.4MB/s    eta 83s    "
     ]
    },
    {
     "name": "stdout",
     "output_type": "stream",
     "text": [
      "\r",
      "     GoogleNews-vec  50%[=========>          ] 787.39M  10.3MB/s    eta 83s    "
     ]
    },
    {
     "name": "stdout",
     "output_type": "stream",
     "text": [
      "\r",
      "    GoogleNews-vect  50%[=========>          ] 789.24M  10.2MB/s    eta 83s    "
     ]
    },
    {
     "name": "stdout",
     "output_type": "stream",
     "text": [
      "\r",
      "   GoogleNews-vecto  50%[=========>          ] 791.50M  10.1MB/s    eta 83s    "
     ]
    },
    {
     "name": "stdout",
     "output_type": "stream",
     "text": [
      "\r",
      "  GoogleNews-vector  50%[=========>          ] 794.13M  10.3MB/s    eta 82s    "
     ]
    },
    {
     "name": "stdout",
     "output_type": "stream",
     "text": [
      "\r",
      " GoogleNews-vectors  50%[=========>          ] 797.12M  10.7MB/s    eta 82s    "
     ]
    },
    {
     "name": "stdout",
     "output_type": "stream",
     "text": [
      "\r",
      "GoogleNews-vectors-  50%[=========>          ] 799.91M  11.2MB/s    eta 82s    "
     ]
    },
    {
     "name": "stdout",
     "output_type": "stream",
     "text": [
      "\r",
      "oogleNews-vectors-n  51%[=========>          ] 802.52M  11.4MB/s    eta 82s    "
     ]
    },
    {
     "name": "stdout",
     "output_type": "stream",
     "text": [
      "\r",
      "ogleNews-vectors-ne  51%[=========>          ] 804.38M  11.4MB/s    eta 82s    "
     ]
    },
    {
     "name": "stdout",
     "output_type": "stream",
     "text": [
      "\r",
      "gleNews-vectors-neg  51%[=========>          ] 805.94M  11.4MB/s    eta 81s    "
     ]
    },
    {
     "name": "stdout",
     "output_type": "stream",
     "text": [
      "\r",
      "leNews-vectors-nega  51%[=========>          ] 807.70M  11.3MB/s    eta 81s    "
     ]
    },
    {
     "name": "stdout",
     "output_type": "stream",
     "text": [
      "\r",
      "eNews-vectors-negat  51%[=========>          ] 809.67M  11.3MB/s    eta 81s    "
     ]
    },
    {
     "name": "stdout",
     "output_type": "stream",
     "text": [
      "\r",
      "News-vectors-negati  51%[=========>          ] 811.90M  11.2MB/s    eta 81s    "
     ]
    },
    {
     "name": "stdout",
     "output_type": "stream",
     "text": [
      "\r",
      "ews-vectors-negativ  51%[=========>          ] 814.55M  11.2MB/s    eta 81s    "
     ]
    },
    {
     "name": "stdout",
     "output_type": "stream",
     "text": [
      "\r",
      "ws-vectors-negative  52%[=========>          ] 817.49M  11.5MB/s    eta 79s    "
     ]
    },
    {
     "name": "stdout",
     "output_type": "stream",
     "text": [
      "\r",
      "s-vectors-negative3  52%[=========>          ] 819.90M  11.5MB/s    eta 79s    "
     ]
    },
    {
     "name": "stdout",
     "output_type": "stream",
     "text": [
      "\r",
      "-vectors-negative30  52%[=========>          ] 822.11M  11.4MB/s    eta 79s    "
     ]
    },
    {
     "name": "stdout",
     "output_type": "stream",
     "text": [
      "\r",
      "vectors-negative300  52%[=========>          ] 824.28M  11.5MB/s    eta 79s    "
     ]
    },
    {
     "name": "stdout",
     "output_type": "stream",
     "text": [
      "\r",
      "ectors-negative300.  52%[=========>          ] 826.71M  11.7MB/s    eta 79s    "
     ]
    },
    {
     "name": "stdout",
     "output_type": "stream",
     "text": [
      "\r",
      "ctors-negative300.b  52%[=========>          ] 829.48M  11.8MB/s    eta 78s    "
     ]
    },
    {
     "name": "stdout",
     "output_type": "stream",
     "text": [
      "\r",
      "tors-negative300.bi  52%[=========>          ] 831.39M  11.5MB/s    eta 78s    "
     ]
    },
    {
     "name": "stdout",
     "output_type": "stream",
     "text": [
      "\r",
      "ors-negative300.bin  53%[=========>          ] 833.98M  11.4MB/s    eta 78s    "
     ]
    },
    {
     "name": "stdout",
     "output_type": "stream",
     "text": [
      "\r",
      "rs-negative300.bin.  53%[=========>          ] 836.12M  11.2MB/s    eta 78s    "
     ]
    },
    {
     "name": "stdout",
     "output_type": "stream",
     "text": [
      "\r",
      "s-negative300.bin.g  53%[=========>          ] 838.43M  11.2MB/s    eta 78s    "
     ]
    },
    {
     "name": "stdout",
     "output_type": "stream",
     "text": [
      "\r",
      "-negative300.bin.gz  53%[=========>          ] 841.13M  11.7MB/s    eta 76s    "
     ]
    },
    {
     "name": "stdout",
     "output_type": "stream",
     "text": [
      "\r",
      "negative300.bin.gz   53%[=========>          ] 843.81M  11.9MB/s    eta 76s    "
     ]
    },
    {
     "name": "stdout",
     "output_type": "stream",
     "text": [
      "\r",
      "egative300.bin.gz    53%[=========>          ] 845.92M  12.0MB/s    eta 76s    "
     ]
    },
    {
     "name": "stdout",
     "output_type": "stream",
     "text": [
      "\r",
      "gative300.bin.gz     53%[=========>          ] 848.06M  12.0MB/s    eta 76s    "
     ]
    },
    {
     "name": "stdout",
     "output_type": "stream",
     "text": [
      "\r",
      "ative300.bin.gz      54%[=========>          ] 850.36M  11.9MB/s    eta 76s    "
     ]
    },
    {
     "name": "stdout",
     "output_type": "stream",
     "text": [
      "\r",
      "tive300.bin.gz       54%[=========>          ] 853.05M  11.9MB/s    eta 75s    "
     ]
    },
    {
     "name": "stdout",
     "output_type": "stream",
     "text": [
      "\r",
      "ive300.bin.gz        54%[=========>          ] 856.19M  11.9MB/s    eta 75s    "
     ]
    },
    {
     "name": "stdout",
     "output_type": "stream",
     "text": [
      "\r",
      "ve300.bin.gz         54%[=========>          ] 858.94M  12.1MB/s    eta 75s    "
     ]
    },
    {
     "name": "stdout",
     "output_type": "stream",
     "text": [
      "\r",
      "e300.bin.gz          54%[=========>          ] 861.70M  12.3MB/s    eta 75s    "
     ]
    },
    {
     "name": "stdout",
     "output_type": "stream",
     "text": [
      "\r",
      "300.bin.gz           55%[==========>         ] 864.97M  12.6MB/s    eta 75s    "
     ]
    },
    {
     "name": "stdout",
     "output_type": "stream",
     "text": [
      "\r",
      "00.bin.gz            55%[==========>         ] 867.53M  12.6MB/s    eta 73s    "
     ]
    },
    {
     "name": "stdout",
     "output_type": "stream",
     "text": [
      "\r",
      "0.bin.gz             55%[==========>         ] 870.00M  12.7MB/s    eta 73s    "
     ]
    },
    {
     "name": "stdout",
     "output_type": "stream",
     "text": [
      "\r",
      ".bin.gz              55%[==========>         ] 872.33M  12.7MB/s    eta 73s    "
     ]
    },
    {
     "name": "stdout",
     "output_type": "stream",
     "text": [
      "\r",
      "bin.gz               55%[==========>         ] 874.83M  12.8MB/s    eta 73s    "
     ]
    },
    {
     "name": "stdout",
     "output_type": "stream",
     "text": [
      "\r",
      "in.gz                55%[==========>         ] 877.17M  12.8MB/s    eta 73s    "
     ]
    },
    {
     "name": "stdout",
     "output_type": "stream",
     "text": [
      "\r",
      "n.gz                 56%[==========>         ] 879.65M  12.8MB/s    eta 72s    "
     ]
    },
    {
     "name": "stdout",
     "output_type": "stream",
     "text": [
      "\r",
      ".gz                  56%[==========>         ] 882.62M  12.8MB/s    eta 72s    "
     ]
    },
    {
     "name": "stdout",
     "output_type": "stream",
     "text": [
      "\r",
      "gz                   56%[==========>         ] 884.86M  12.8MB/s    eta 72s    "
     ]
    },
    {
     "name": "stdout",
     "output_type": "stream",
     "text": [
      "\r",
      "z                    56%[==========>         ] 886.82M  12.7MB/s    eta 72s    "
     ]
    },
    {
     "name": "stdout",
     "output_type": "stream",
     "text": [
      "\r",
      "                     56%[==========>         ] 889.13M  12.8MB/s    eta 72s    "
     ]
    },
    {
     "name": "stdout",
     "output_type": "stream",
     "text": [
      "\r",
      "                  G  56%[==========>         ] 891.10M  12.5MB/s    eta 70s    "
     ]
    },
    {
     "name": "stdout",
     "output_type": "stream",
     "text": [
      "\r",
      "                 Go  56%[==========>         ] 893.34M  12.1MB/s    eta 70s    "
     ]
    },
    {
     "name": "stdout",
     "output_type": "stream",
     "text": [
      "\r",
      "                Goo  56%[==========>         ] 895.30M  12.0MB/s    eta 70s    "
     ]
    },
    {
     "name": "stdout",
     "output_type": "stream",
     "text": [
      "\r",
      "               Goog  57%[==========>         ] 897.46M  11.8MB/s    eta 70s    "
     ]
    },
    {
     "name": "stdout",
     "output_type": "stream",
     "text": [
      "\r",
      "              Googl  57%[==========>         ] 900.00M  11.5MB/s    eta 70s    "
     ]
    },
    {
     "name": "stdout",
     "output_type": "stream",
     "text": [
      "\r",
      "             Google  57%[==========>         ] 901.94M  11.3MB/s    eta 69s    "
     ]
    },
    {
     "name": "stdout",
     "output_type": "stream",
     "text": [
      "\r",
      "            GoogleN  57%[==========>         ] 903.75M  11.1MB/s    eta 69s    "
     ]
    },
    {
     "name": "stdout",
     "output_type": "stream",
     "text": [
      "\r",
      "           GoogleNe  57%[==========>         ] 905.93M  11.1MB/s    eta 69s    "
     ]
    },
    {
     "name": "stdout",
     "output_type": "stream",
     "text": [
      "\r",
      "          GoogleNew  57%[==========>         ] 908.39M  10.9MB/s    eta 69s    "
     ]
    },
    {
     "name": "stdout",
     "output_type": "stream",
     "text": [
      "\r",
      "         GoogleNews  57%[==========>         ] 910.48M  10.9MB/s    eta 69s    "
     ]
    },
    {
     "name": "stdout",
     "output_type": "stream",
     "text": [
      "\r",
      "        GoogleNews-  58%[==========>         ] 912.89M  11.0MB/s    eta 68s    "
     ]
    },
    {
     "name": "stdout",
     "output_type": "stream",
     "text": [
      "\r",
      "       GoogleNews-v  58%[==========>         ] 914.93M  10.6MB/s    eta 68s    "
     ]
    },
    {
     "name": "stdout",
     "output_type": "stream",
     "text": [
      "\r",
      "      GoogleNews-ve  58%[==========>         ] 916.60M  10.3MB/s    eta 68s    "
     ]
    },
    {
     "name": "stdout",
     "output_type": "stream",
     "text": [
      "\r",
      "     GoogleNews-vec  58%[==========>         ] 918.46M  10.3MB/s    eta 68s    "
     ]
    },
    {
     "name": "stdout",
     "output_type": "stream",
     "text": [
      "\r",
      "    GoogleNews-vect  58%[==========>         ] 920.85M  10.4MB/s    eta 68s    "
     ]
    },
    {
     "name": "stdout",
     "output_type": "stream",
     "text": [
      "\r",
      "   GoogleNews-vecto  58%[==========>         ] 923.28M  10.5MB/s    eta 67s    "
     ]
    },
    {
     "name": "stdout",
     "output_type": "stream",
     "text": [
      "\r",
      "  GoogleNews-vector  58%[==========>         ] 924.99M  10.4MB/s    eta 67s    "
     ]
    },
    {
     "name": "stdout",
     "output_type": "stream",
     "text": [
      "\r",
      " GoogleNews-vectors  59%[==========>         ] 926.76M  10.3MB/s    eta 67s    "
     ]
    },
    {
     "name": "stdout",
     "output_type": "stream",
     "text": [
      "\r",
      "GoogleNews-vectors-  59%[==========>         ] 928.91M  10.3MB/s    eta 67s    "
     ]
    },
    {
     "name": "stdout",
     "output_type": "stream",
     "text": [
      "\r",
      "oogleNews-vectors-n  59%[==========>         ] 931.53M  10.4MB/s    eta 67s    "
     ]
    },
    {
     "name": "stdout",
     "output_type": "stream",
     "text": [
      "\r",
      "ogleNews-vectors-ne  59%[==========>         ] 933.89M  10.6MB/s    eta 66s    "
     ]
    },
    {
     "name": "stdout",
     "output_type": "stream",
     "text": [
      "\r",
      "gleNews-vectors-neg  59%[==========>         ] 936.11M  10.6MB/s    eta 66s    "
     ]
    },
    {
     "name": "stdout",
     "output_type": "stream",
     "text": [
      "\r",
      "leNews-vectors-nega  59%[==========>         ] 938.00M  10.5MB/s    eta 66s    "
     ]
    },
    {
     "name": "stdout",
     "output_type": "stream",
     "text": [
      "\r",
      "eNews-vectors-negat  59%[==========>         ] 940.39M  10.6MB/s    eta 66s    "
     ]
    },
    {
     "name": "stdout",
     "output_type": "stream",
     "text": [
      "\r",
      "News-vectors-negati  60%[===========>        ] 942.85M  10.6MB/s    eta 66s    "
     ]
    },
    {
     "name": "stdout",
     "output_type": "stream",
     "text": [
      "\r",
      "ews-vectors-negativ  60%[===========>        ] 944.92M  10.6MB/s    eta 64s    "
     ]
    },
    {
     "name": "stdout",
     "output_type": "stream",
     "text": [
      "\r",
      "ws-vectors-negative  60%[===========>        ] 947.37M  10.6MB/s    eta 64s    "
     ]
    },
    {
     "name": "stdout",
     "output_type": "stream",
     "text": [
      "\r",
      "s-vectors-negative3  60%[===========>        ] 949.13M  10.6MB/s    eta 64s    "
     ]
    },
    {
     "name": "stdout",
     "output_type": "stream",
     "text": [
      "\r",
      "-vectors-negative30  60%[===========>        ] 950.99M  10.7MB/s    eta 64s    "
     ]
    },
    {
     "name": "stdout",
     "output_type": "stream",
     "text": [
      "\r",
      "vectors-negative300  60%[===========>        ] 953.23M  10.7MB/s    eta 64s    "
     ]
    },
    {
     "name": "stdout",
     "output_type": "stream",
     "text": [
      "\r",
      "ectors-negative300.  60%[===========>        ] 955.92M  10.8MB/s    eta 63s    "
     ]
    },
    {
     "name": "stdout",
     "output_type": "stream",
     "text": [
      "\r",
      "ctors-negative300.b  61%[===========>        ] 958.61M  11.1MB/s    eta 63s    "
     ]
    },
    {
     "name": "stdout",
     "output_type": "stream",
     "text": [
      "\r",
      "tors-negative300.bi  61%[===========>        ] 960.95M  11.2MB/s    eta 63s    "
     ]
    },
    {
     "name": "stdout",
     "output_type": "stream",
     "text": [
      "\r",
      "ors-negative300.bin  61%[===========>        ] 963.72M  11.5MB/s    eta 63s    "
     ]
    },
    {
     "name": "stdout",
     "output_type": "stream",
     "text": [
      "\r",
      "rs-negative300.bin.  61%[===========>        ] 966.91M  11.7MB/s    eta 63s    "
     ]
    },
    {
     "name": "stdout",
     "output_type": "stream",
     "text": [
      "\r",
      "s-negative300.bin.g  61%[===========>        ] 970.53M  12.1MB/s    eta 61s    "
     ]
    },
    {
     "name": "stdout",
     "output_type": "stream",
     "text": [
      "\r",
      "-negative300.bin.gz  62%[===========>        ] 974.31M  12.5MB/s    eta 61s    "
     ]
    },
    {
     "name": "stdout",
     "output_type": "stream",
     "text": [
      "\r",
      "negative300.bin.gz   62%[===========>        ] 977.88M  13.2MB/s    eta 61s    "
     ]
    },
    {
     "name": "stdout",
     "output_type": "stream",
     "text": [
      "\r",
      "egative300.bin.gz    62%[===========>        ] 981.17M  13.5MB/s    eta 61s    "
     ]
    },
    {
     "name": "stdout",
     "output_type": "stream",
     "text": [
      "\r",
      "gative300.bin.gz     62%[===========>        ] 984.77M  13.8MB/s    eta 61s    "
     ]
    },
    {
     "name": "stdout",
     "output_type": "stream",
     "text": [
      "\r",
      "ative300.bin.gz      62%[===========>        ] 988.29M  14.3MB/s    eta 59s    "
     ]
    },
    {
     "name": "stdout",
     "output_type": "stream",
     "text": [
      "\r",
      "tive300.bin.gz       63%[===========>        ] 991.09M  14.4MB/s    eta 59s    "
     ]
    },
    {
     "name": "stdout",
     "output_type": "stream",
     "text": [
      "\r",
      "ive300.bin.gz        63%[===========>        ] 993.44M  14.4MB/s    eta 59s    "
     ]
    },
    {
     "name": "stdout",
     "output_type": "stream",
     "text": [
      "\r",
      "ve300.bin.gz         63%[===========>        ] 996.27M  15.0MB/s    eta 59s    "
     ]
    },
    {
     "name": "stdout",
     "output_type": "stream",
     "text": [
      "\r",
      "e300.bin.gz          63%[===========>        ] 999.41M  15.3MB/s    eta 59s    "
     ]
    },
    {
     "name": "stdout",
     "output_type": "stream",
     "text": [
      "\r",
      "300.bin.gz           63%[===========>        ]   1002M  15.3MB/s    eta 57s    "
     ]
    },
    {
     "name": "stdout",
     "output_type": "stream",
     "text": [
      "\r",
      "00.bin.gz            63%[===========>        ]   1005M  15.3MB/s    eta 57s    "
     ]
    },
    {
     "name": "stdout",
     "output_type": "stream",
     "text": [
      "\r",
      "0.bin.gz             64%[===========>        ]   1008M  15.7MB/s    eta 57s    "
     ]
    },
    {
     "name": "stdout",
     "output_type": "stream",
     "text": [
      "\r",
      ".bin.gz              64%[===========>        ]   1011M  15.6MB/s    eta 57s    "
     ]
    },
    {
     "name": "stdout",
     "output_type": "stream",
     "text": [
      "\r",
      "bin.gz               64%[===========>        ]   1013M  15.2MB/s    eta 57s    "
     ]
    },
    {
     "name": "stdout",
     "output_type": "stream",
     "text": [
      "\r",
      "in.gz                64%[===========>        ]   1015M  14.9MB/s    eta 56s    "
     ]
    },
    {
     "name": "stdout",
     "output_type": "stream",
     "text": [
      "\r",
      "n.gz                 64%[===========>        ]   1018M  14.6MB/s    eta 56s    "
     ]
    },
    {
     "name": "stdout",
     "output_type": "stream",
     "text": [
      "\r",
      ".gz                  64%[===========>        ]   1020M  13.9MB/s    eta 56s    "
     ]
    },
    {
     "name": "stdout",
     "output_type": "stream",
     "text": [
      "\r",
      "gz                   65%[============>       ]   1022M  13.7MB/s    eta 56s    "
     ]
    },
    {
     "name": "stdout",
     "output_type": "stream",
     "text": [
      "\r",
      "z                    65%[============>       ]   1.00G  13.5MB/s    eta 56s    "
     ]
    },
    {
     "name": "stdout",
     "output_type": "stream",
     "text": [
      "\r",
      "                     65%[============>       ]   1.00G  13.0MB/s    eta 55s    "
     ]
    },
    {
     "name": "stdout",
     "output_type": "stream",
     "text": [
      "\r",
      "                  G  65%[============>       ]   1.00G  12.6MB/s    eta 55s    "
     ]
    },
    {
     "name": "stdout",
     "output_type": "stream",
     "text": [
      "\r",
      "                 Go  65%[============>       ]   1.01G  12.8MB/s    eta 55s    "
     ]
    },
    {
     "name": "stdout",
     "output_type": "stream",
     "text": [
      "\r",
      "                Goo  65%[============>       ]   1.01G  13.1MB/s    eta 55s    "
     ]
    },
    {
     "name": "stdout",
     "output_type": "stream",
     "text": [
      "\r",
      "               Goog  66%[============>       ]   1.01G  13.2MB/s    eta 55s    "
     ]
    },
    {
     "name": "stdout",
     "output_type": "stream",
     "text": [
      "\r",
      "              Googl  66%[============>       ]   1.02G  13.4MB/s    eta 53s    "
     ]
    },
    {
     "name": "stdout",
     "output_type": "stream",
     "text": [
      "\r",
      "             Google  66%[============>       ]   1.02G  13.5MB/s    eta 53s    "
     ]
    },
    {
     "name": "stdout",
     "output_type": "stream",
     "text": [
      "\r",
      "            GoogleN  66%[============>       ]   1.02G  13.3MB/s    eta 53s    "
     ]
    },
    {
     "name": "stdout",
     "output_type": "stream",
     "text": [
      "\r",
      "           GoogleNe  66%[============>       ]   1.03G  12.8MB/s    eta 53s    "
     ]
    },
    {
     "name": "stdout",
     "output_type": "stream",
     "text": [
      "\r",
      "          GoogleNew  66%[============>       ]   1.03G  12.9MB/s    eta 53s    "
     ]
    },
    {
     "name": "stdout",
     "output_type": "stream",
     "text": [
      "\r",
      "         GoogleNews  67%[============>       ]   1.03G  12.8MB/s    eta 51s    "
     ]
    },
    {
     "name": "stdout",
     "output_type": "stream",
     "text": [
      "\r",
      "        GoogleNews-  67%[============>       ]   1.03G  12.9MB/s    eta 51s    "
     ]
    },
    {
     "name": "stdout",
     "output_type": "stream",
     "text": [
      "\r",
      "       GoogleNews-v  67%[============>       ]   1.04G  13.3MB/s    eta 51s    "
     ]
    },
    {
     "name": "stdout",
     "output_type": "stream",
     "text": [
      "\r",
      "      GoogleNews-ve  67%[============>       ]   1.04G  13.6MB/s    eta 51s    "
     ]
    },
    {
     "name": "stdout",
     "output_type": "stream",
     "text": [
      "\r",
      "     GoogleNews-vec  67%[============>       ]   1.04G  13.9MB/s    eta 51s    "
     ]
    },
    {
     "name": "stdout",
     "output_type": "stream",
     "text": [
      "\r",
      "    GoogleNews-vect  68%[============>       ]   1.05G  14.7MB/s    eta 49s    "
     ]
    },
    {
     "name": "stdout",
     "output_type": "stream",
     "text": [
      "\r",
      "   GoogleNews-vecto  68%[============>       ]   1.05G  15.0MB/s    eta 49s    "
     ]
    },
    {
     "name": "stdout",
     "output_type": "stream",
     "text": [
      "\r",
      "  GoogleNews-vector  68%[============>       ]   1.05G  15.3MB/s    eta 49s    "
     ]
    },
    {
     "name": "stdout",
     "output_type": "stream",
     "text": [
      "\r",
      " GoogleNews-vectors  68%[============>       ]   1.06G  15.1MB/s    eta 49s    "
     ]
    },
    {
     "name": "stdout",
     "output_type": "stream",
     "text": [
      "\r",
      "GoogleNews-vectors-  69%[============>       ]   1.06G  15.0MB/s    eta 49s    "
     ]
    },
    {
     "name": "stdout",
     "output_type": "stream",
     "text": [
      "\r",
      "oogleNews-vectors-n  69%[============>       ]   1.06G  14.6MB/s    eta 48s    "
     ]
    },
    {
     "name": "stdout",
     "output_type": "stream",
     "text": [
      "\r",
      "ogleNews-vectors-ne  69%[============>       ]   1.06G  14.3MB/s    eta 48s    "
     ]
    },
    {
     "name": "stdout",
     "output_type": "stream",
     "text": [
      "\r",
      "gleNews-vectors-neg  69%[============>       ]   1.07G  14.2MB/s    eta 48s    "
     ]
    },
    {
     "name": "stdout",
     "output_type": "stream",
     "text": [
      "\r",
      "leNews-vectors-nega  69%[============>       ]   1.07G  14.1MB/s    eta 48s    "
     ]
    },
    {
     "name": "stdout",
     "output_type": "stream",
     "text": [
      "\r",
      "eNews-vectors-negat  69%[============>       ]   1.07G  14.7MB/s    eta 48s    "
     ]
    },
    {
     "name": "stdout",
     "output_type": "stream",
     "text": [
      "\r",
      "News-vectors-negati  69%[============>       ]   1.07G  14.8MB/s    eta 46s    "
     ]
    },
    {
     "name": "stdout",
     "output_type": "stream",
     "text": [
      "\r",
      "ews-vectors-negativ  70%[=============>      ]   1.08G  14.6MB/s    eta 46s    "
     ]
    },
    {
     "name": "stdout",
     "output_type": "stream",
     "text": [
      "\r",
      "ws-vectors-negative  70%[=============>      ]   1.08G  14.3MB/s    eta 46s    "
     ]
    },
    {
     "name": "stdout",
     "output_type": "stream",
     "text": [
      "\r",
      "s-vectors-negative3  70%[=============>      ]   1.08G  13.9MB/s    eta 46s    "
     ]
    },
    {
     "name": "stdout",
     "output_type": "stream",
     "text": [
      "\r",
      "-vectors-negative30  70%[=============>      ]   1.08G  13.6MB/s    eta 46s    "
     ]
    },
    {
     "name": "stdout",
     "output_type": "stream",
     "text": [
      "\r",
      "vectors-negative300  70%[=============>      ]   1.08G  1.87MB/s    eta 52s    "
     ]
    },
    {
     "name": "stdout",
     "output_type": "stream",
     "text": [
      "\r",
      "ectors-negative300.  71%[=============>      ]   1.09G  2.05MB/s    eta 52s    "
     ]
    },
    {
     "name": "stdout",
     "output_type": "stream",
     "text": [
      "\r",
      "ctors-negative300.b  71%[=============>      ]   1.09G  1.98MB/s    eta 52s    "
     ]
    },
    {
     "name": "stdout",
     "output_type": "stream",
     "text": [
      "\r",
      "tors-negative300.bi  71%[=============>      ]   1.09G  1.94MB/s    eta 52s    "
     ]
    },
    {
     "name": "stdout",
     "output_type": "stream",
     "text": [
      "\r",
      "ors-negative300.bin  71%[=============>      ]   1.09G  1.82MB/s    eta 52s    "
     ]
    },
    {
     "name": "stdout",
     "output_type": "stream",
     "text": [
      "\r",
      "rs-negative300.bin.  71%[=============>      ]   1.10G  1.85MB/s    eta 50s    "
     ]
    },
    {
     "name": "stdout",
     "output_type": "stream",
     "text": [
      "\r",
      "s-negative300.bin.g  71%[=============>      ]   1.10G  1.89MB/s    eta 50s    "
     ]
    },
    {
     "name": "stdout",
     "output_type": "stream",
     "text": [
      "\r",
      "-negative300.bin.gz  71%[=============>      ]   1.10G  1.83MB/s    eta 50s    "
     ]
    },
    {
     "name": "stdout",
     "output_type": "stream",
     "text": [
      "\r",
      "negative300.bin.gz   71%[=============>      ]   1.10G  1.86MB/s    eta 50s    "
     ]
    },
    {
     "name": "stdout",
     "output_type": "stream",
     "text": [
      "\r",
      "egative300.bin.gz    72%[=============>      ]   1.11G  1.84MB/s    eta 50s    "
     ]
    },
    {
     "name": "stdout",
     "output_type": "stream",
     "text": [
      "\r",
      "gative300.bin.gz     72%[=============>      ]   1.11G  1.78MB/s    eta 49s    "
     ]
    },
    {
     "name": "stdout",
     "output_type": "stream",
     "text": [
      "\r",
      "ative300.bin.gz      72%[=============>      ]   1.11G  1.77MB/s    eta 49s    "
     ]
    },
    {
     "name": "stdout",
     "output_type": "stream",
     "text": [
      "\r",
      "tive300.bin.gz       72%[=============>      ]   1.11G  1.77MB/s    eta 49s    "
     ]
    },
    {
     "name": "stdout",
     "output_type": "stream",
     "text": [
      "\r",
      "ive300.bin.gz        72%[=============>      ]   1.11G  1.70MB/s    eta 49s    "
     ]
    },
    {
     "name": "stdout",
     "output_type": "stream",
     "text": [
      "\r",
      "ve300.bin.gz         72%[=============>      ]   1.11G  1.68MB/s    eta 49s    "
     ]
    },
    {
     "name": "stdout",
     "output_type": "stream",
     "text": [
      "\r",
      "e300.bin.gz          72%[=============>      ]   1.12G  1.67MB/s    eta 48s    "
     ]
    },
    {
     "name": "stdout",
     "output_type": "stream",
     "text": [
      "\r",
      "300.bin.gz           72%[=============>      ]   1.12G  9.60MB/s    eta 48s    "
     ]
    },
    {
     "name": "stdout",
     "output_type": "stream",
     "text": [
      "\r",
      "00.bin.gz            73%[=============>      ]   1.12G  9.70MB/s    eta 48s    "
     ]
    },
    {
     "name": "stdout",
     "output_type": "stream",
     "text": [
      "\r",
      "0.bin.gz             73%[=============>      ]   1.12G  9.78MB/s    eta 48s    "
     ]
    },
    {
     "name": "stdout",
     "output_type": "stream",
     "text": [
      "\r",
      ".bin.gz              73%[=============>      ]   1.12G  9.96MB/s    eta 48s    "
     ]
    },
    {
     "name": "stdout",
     "output_type": "stream",
     "text": [
      "\r",
      "bin.gz               73%[=============>      ]   1.13G  9.99MB/s    eta 47s    "
     ]
    },
    {
     "name": "stdout",
     "output_type": "stream",
     "text": [
      "\r",
      "in.gz                73%[=============>      ]   1.13G  9.86MB/s    eta 47s    "
     ]
    },
    {
     "name": "stdout",
     "output_type": "stream",
     "text": [
      "\r",
      "n.gz                 73%[=============>      ]   1.13G  9.63MB/s    eta 47s    "
     ]
    },
    {
     "name": "stdout",
     "output_type": "stream",
     "text": [
      "\r",
      ".gz                  73%[=============>      ]   1.13G  9.51MB/s    eta 47s    "
     ]
    },
    {
     "name": "stdout",
     "output_type": "stream",
     "text": [
      "\r",
      "gz                   73%[=============>      ]   1.13G  9.51MB/s    eta 47s    "
     ]
    },
    {
     "name": "stdout",
     "output_type": "stream",
     "text": [
      "\r",
      "z                    74%[=============>      ]   1.14G  9.61MB/s    eta 46s    "
     ]
    },
    {
     "name": "stdout",
     "output_type": "stream",
     "text": [
      "\r",
      "                     74%[=============>      ]   1.14G  9.68MB/s    eta 46s    "
     ]
    },
    {
     "name": "stdout",
     "output_type": "stream",
     "text": [
      "\r",
      "                  G  74%[=============>      ]   1.14G  9.74MB/s    eta 46s    "
     ]
    },
    {
     "name": "stdout",
     "output_type": "stream",
     "text": [
      "\r",
      "                 Go  74%[=============>      ]   1.14G  10.0MB/s    eta 46s    "
     ]
    },
    {
     "name": "stdout",
     "output_type": "stream",
     "text": [
      "\r",
      "                Goo  74%[=============>      ]   1.14G  10.3MB/s    eta 46s    "
     ]
    },
    {
     "name": "stdout",
     "output_type": "stream",
     "text": [
      "\r",
      "               Goog  74%[=============>      ]   1.15G  10.4MB/s    eta 44s    "
     ]
    },
    {
     "name": "stdout",
     "output_type": "stream",
     "text": [
      "\r",
      "              Googl  74%[=============>      ]   1.15G  10.3MB/s    eta 44s    "
     ]
    },
    {
     "name": "stdout",
     "output_type": "stream",
     "text": [
      "\r",
      "             Google  75%[==============>     ]   1.15G  10.1MB/s    eta 44s    "
     ]
    },
    {
     "name": "stdout",
     "output_type": "stream",
     "text": [
      "\r",
      "            GoogleN  75%[==============>     ]   1.15G  10.1MB/s    eta 44s    "
     ]
    },
    {
     "name": "stdout",
     "output_type": "stream",
     "text": [
      "\r",
      "           GoogleNe  75%[==============>     ]   1.15G  10.2MB/s    eta 44s    "
     ]
    },
    {
     "name": "stdout",
     "output_type": "stream",
     "text": [
      "\r",
      "          GoogleNew  75%[==============>     ]   1.16G  10.2MB/s    eta 43s    "
     ]
    },
    {
     "name": "stdout",
     "output_type": "stream",
     "text": [
      "\r",
      "         GoogleNews  75%[==============>     ]   1.16G  10.4MB/s    eta 43s    "
     ]
    },
    {
     "name": "stdout",
     "output_type": "stream",
     "text": [
      "\r",
      "        GoogleNews-  75%[==============>     ]   1.16G  10.6MB/s    eta 43s    "
     ]
    },
    {
     "name": "stdout",
     "output_type": "stream",
     "text": [
      "\r",
      "       GoogleNews-v  75%[==============>     ]   1.16G  10.9MB/s    eta 43s    "
     ]
    },
    {
     "name": "stdout",
     "output_type": "stream",
     "text": [
      "\r",
      "      GoogleNews-ve  76%[==============>     ]   1.17G  11.0MB/s    eta 43s    "
     ]
    },
    {
     "name": "stdout",
     "output_type": "stream",
     "text": [
      "\r",
      "     GoogleNews-vec  76%[==============>     ]   1.17G  11.0MB/s    eta 42s    "
     ]
    },
    {
     "name": "stdout",
     "output_type": "stream",
     "text": [
      "\r",
      "    GoogleNews-vect  76%[==============>     ]   1.17G  11.3MB/s    eta 42s    "
     ]
    },
    {
     "name": "stdout",
     "output_type": "stream",
     "text": [
      "\r",
      "   GoogleNews-vecto  76%[==============>     ]   1.17G  11.6MB/s    eta 42s    "
     ]
    },
    {
     "name": "stdout",
     "output_type": "stream",
     "text": [
      "\r",
      "  GoogleNews-vector  76%[==============>     ]   1.18G  11.7MB/s    eta 42s    "
     ]
    },
    {
     "name": "stdout",
     "output_type": "stream",
     "text": [
      "\r",
      " GoogleNews-vectors  76%[==============>     ]   1.18G  11.3MB/s    eta 42s    "
     ]
    },
    {
     "name": "stdout",
     "output_type": "stream",
     "text": [
      "\r",
      "GoogleNews-vectors-  76%[==============>     ]   1.18G  11.0MB/s    eta 41s    "
     ]
    },
    {
     "name": "stdout",
     "output_type": "stream",
     "text": [
      "\r",
      "oogleNews-vectors-n  77%[==============>     ]   1.18G  11.0MB/s    eta 41s    "
     ]
    },
    {
     "name": "stdout",
     "output_type": "stream",
     "text": [
      "\r",
      "ogleNews-vectors-ne  77%[==============>     ]   1.18G  11.0MB/s    eta 41s    "
     ]
    },
    {
     "name": "stdout",
     "output_type": "stream",
     "text": [
      "\r",
      "gleNews-vectors-neg  77%[==============>     ]   1.19G  11.1MB/s    eta 41s    "
     ]
    },
    {
     "name": "stdout",
     "output_type": "stream",
     "text": [
      "\r",
      "leNews-vectors-nega  77%[==============>     ]   1.19G  11.4MB/s    eta 41s    "
     ]
    },
    {
     "name": "stdout",
     "output_type": "stream",
     "text": [
      "\r",
      "eNews-vectors-negat  77%[==============>     ]   1.19G  11.5MB/s    eta 39s    "
     ]
    },
    {
     "name": "stdout",
     "output_type": "stream",
     "text": [
      "\r",
      "News-vectors-negati  77%[==============>     ]   1.19G  11.6MB/s    eta 39s    "
     ]
    },
    {
     "name": "stdout",
     "output_type": "stream",
     "text": [
      "\r",
      "ews-vectors-negativ  77%[==============>     ]   1.20G  11.5MB/s    eta 39s    "
     ]
    },
    {
     "name": "stdout",
     "output_type": "stream",
     "text": [
      "\r",
      "ws-vectors-negative  78%[==============>     ]   1.20G  11.2MB/s    eta 39s    "
     ]
    },
    {
     "name": "stdout",
     "output_type": "stream",
     "text": [
      "\r",
      "s-vectors-negative3  78%[==============>     ]   1.20G  11.0MB/s    eta 39s    "
     ]
    },
    {
     "name": "stdout",
     "output_type": "stream",
     "text": [
      "\r",
      "-vectors-negative30  78%[==============>     ]   1.20G  10.8MB/s    eta 38s    "
     ]
    },
    {
     "name": "stdout",
     "output_type": "stream",
     "text": [
      "\r",
      "vectors-negative300  78%[==============>     ]   1.20G  10.8MB/s    eta 38s    "
     ]
    },
    {
     "name": "stdout",
     "output_type": "stream",
     "text": [
      "\r",
      "ectors-negative300.  78%[==============>     ]   1.21G  10.8MB/s    eta 38s    "
     ]
    },
    {
     "name": "stdout",
     "output_type": "stream",
     "text": [
      "\r",
      "ctors-negative300.b  78%[==============>     ]   1.21G  10.8MB/s    eta 38s    "
     ]
    },
    {
     "name": "stdout",
     "output_type": "stream",
     "text": [
      "\r",
      "tors-negative300.bi  79%[==============>     ]   1.21G  11.3MB/s    eta 38s    "
     ]
    },
    {
     "name": "stdout",
     "output_type": "stream",
     "text": [
      "\r",
      "ors-negative300.bin  79%[==============>     ]   1.21G  11.6MB/s    eta 36s    "
     ]
    },
    {
     "name": "stdout",
     "output_type": "stream",
     "text": [
      "\r",
      "rs-negative300.bin.  79%[==============>     ]   1.22G  11.8MB/s    eta 36s    "
     ]
    },
    {
     "name": "stdout",
     "output_type": "stream",
     "text": [
      "\r",
      "s-negative300.bin.g  79%[==============>     ]   1.22G  11.8MB/s    eta 36s    "
     ]
    },
    {
     "name": "stdout",
     "output_type": "stream",
     "text": [
      "\r",
      "-negative300.bin.gz  79%[==============>     ]   1.22G  11.8MB/s    eta 36s    "
     ]
    },
    {
     "name": "stdout",
     "output_type": "stream",
     "text": [
      "\r",
      "negative300.bin.gz   79%[==============>     ]   1.22G  11.9MB/s    eta 36s    "
     ]
    },
    {
     "name": "stdout",
     "output_type": "stream",
     "text": [
      "\r",
      "egative300.bin.gz    79%[==============>     ]   1.22G  11.5MB/s    eta 35s    "
     ]
    },
    {
     "name": "stdout",
     "output_type": "stream",
     "text": [
      "\r",
      "gative300.bin.gz     79%[==============>     ]   1.23G  11.2MB/s    eta 35s    "
     ]
    },
    {
     "name": "stdout",
     "output_type": "stream",
     "text": [
      "\r",
      "ative300.bin.gz      80%[===============>    ]   1.23G  11.0MB/s    eta 35s    "
     ]
    },
    {
     "name": "stdout",
     "output_type": "stream",
     "text": [
      "\r",
      "tive300.bin.gz       80%[===============>    ]   1.23G  11.1MB/s    eta 35s    "
     ]
    },
    {
     "name": "stdout",
     "output_type": "stream",
     "text": [
      "\r",
      "ive300.bin.gz        80%[===============>    ]   1.23G  11.2MB/s    eta 35s    "
     ]
    },
    {
     "name": "stdout",
     "output_type": "stream",
     "text": [
      "\r",
      "ve300.bin.gz         80%[===============>    ]   1.23G  11.4MB/s    eta 34s    "
     ]
    },
    {
     "name": "stdout",
     "output_type": "stream",
     "text": [
      "\r",
      "e300.bin.gz          80%[===============>    ]   1.24G  11.5MB/s    eta 34s    "
     ]
    },
    {
     "name": "stdout",
     "output_type": "stream",
     "text": [
      "\r",
      "300.bin.gz           80%[===============>    ]   1.24G  11.2MB/s    eta 34s    "
     ]
    },
    {
     "name": "stdout",
     "output_type": "stream",
     "text": [
      "\r",
      "00.bin.gz            80%[===============>    ]   1.24G  10.6MB/s    eta 34s    "
     ]
    },
    {
     "name": "stdout",
     "output_type": "stream",
     "text": [
      "\r",
      "0.bin.gz             80%[===============>    ]   1.24G  10.1MB/s    eta 34s    "
     ]
    },
    {
     "name": "stdout",
     "output_type": "stream",
     "text": [
      "\r",
      ".bin.gz              81%[===============>    ]   1.24G  9.69MB/s    eta 33s    "
     ]
    },
    {
     "name": "stdout",
     "output_type": "stream",
     "text": [
      "\r",
      "bin.gz               81%[===============>    ]   1.24G  9.39MB/s    eta 33s    "
     ]
    },
    {
     "name": "stdout",
     "output_type": "stream",
     "text": [
      "\r",
      "in.gz                81%[===============>    ]   1.25G  9.47MB/s    eta 33s    "
     ]
    },
    {
     "name": "stdout",
     "output_type": "stream",
     "text": [
      "\r",
      "n.gz                 81%[===============>    ]   1.25G  9.44MB/s    eta 33s    "
     ]
    },
    {
     "name": "stdout",
     "output_type": "stream",
     "text": [
      "\r",
      ".gz                  81%[===============>    ]   1.25G  9.37MB/s    eta 33s    "
     ]
    },
    {
     "name": "stdout",
     "output_type": "stream",
     "text": [
      "\r",
      "gz                   81%[===============>    ]   1.25G  9.29MB/s    eta 32s    "
     ]
    },
    {
     "name": "stdout",
     "output_type": "stream",
     "text": [
      "\r",
      "z                    81%[===============>    ]   1.25G  9.38MB/s    eta 32s    "
     ]
    },
    {
     "name": "stdout",
     "output_type": "stream",
     "text": [
      "\r",
      "                     81%[===============>    ]   1.25G  9.32MB/s    eta 32s    "
     ]
    },
    {
     "name": "stdout",
     "output_type": "stream",
     "text": [
      "\r",
      "                  G  81%[===============>    ]   1.26G  9.31MB/s    eta 32s    "
     ]
    },
    {
     "name": "stdout",
     "output_type": "stream",
     "text": [
      "\r",
      "                 Go  82%[===============>    ]   1.26G  9.34MB/s    eta 32s    "
     ]
    },
    {
     "name": "stdout",
     "output_type": "stream",
     "text": [
      "\r",
      "                Goo  82%[===============>    ]   1.26G  8.90MB/s    eta 31s    "
     ]
    },
    {
     "name": "stdout",
     "output_type": "stream",
     "text": [
      "\r",
      "               Goog  82%[===============>    ]   1.26G  8.62MB/s    eta 31s    "
     ]
    },
    {
     "name": "stdout",
     "output_type": "stream",
     "text": [
      "\r",
      "              Googl  82%[===============>    ]   1.26G  8.60MB/s    eta 31s    "
     ]
    },
    {
     "name": "stdout",
     "output_type": "stream",
     "text": [
      "\r",
      "             Google  82%[===============>    ]   1.27G  8.61MB/s    eta 31s    "
     ]
    },
    {
     "name": "stdout",
     "output_type": "stream",
     "text": [
      "\r",
      "            GoogleN  82%[===============>    ]   1.27G  8.79MB/s    eta 31s    "
     ]
    },
    {
     "name": "stdout",
     "output_type": "stream",
     "text": [
      "\r",
      "           GoogleNe  82%[===============>    ]   1.27G  8.99MB/s    eta 30s    "
     ]
    },
    {
     "name": "stdout",
     "output_type": "stream",
     "text": [
      "\r",
      "          GoogleNew  82%[===============>    ]   1.27G  9.04MB/s    eta 30s    "
     ]
    },
    {
     "name": "stdout",
     "output_type": "stream",
     "text": [
      "\r",
      "         GoogleNews  82%[===============>    ]   1.27G  8.99MB/s    eta 30s    "
     ]
    },
    {
     "name": "stdout",
     "output_type": "stream",
     "text": [
      "\r",
      "        GoogleNews-  83%[===============>    ]   1.27G  8.78MB/s    eta 30s    "
     ]
    },
    {
     "name": "stdout",
     "output_type": "stream",
     "text": [
      "\r",
      "       GoogleNews-v  83%[===============>    ]   1.28G  8.72MB/s    eta 30s    "
     ]
    },
    {
     "name": "stdout",
     "output_type": "stream",
     "text": [
      "\r",
      "      GoogleNews-ve  83%[===============>    ]   1.28G  8.72MB/s    eta 29s    "
     ]
    },
    {
     "name": "stdout",
     "output_type": "stream",
     "text": [
      "\r",
      "     GoogleNews-vec  83%[===============>    ]   1.28G  8.65MB/s    eta 29s    "
     ]
    },
    {
     "name": "stdout",
     "output_type": "stream",
     "text": [
      "\r",
      "    GoogleNews-vect  83%[===============>    ]   1.28G  8.45MB/s    eta 29s    "
     ]
    },
    {
     "name": "stdout",
     "output_type": "stream",
     "text": [
      "\r",
      "   GoogleNews-vecto  83%[===============>    ]   1.28G  8.47MB/s    eta 29s    "
     ]
    },
    {
     "name": "stdout",
     "output_type": "stream",
     "text": [
      "\r",
      "  GoogleNews-vector  83%[===============>    ]   1.28G  8.56MB/s    eta 29s    "
     ]
    },
    {
     "name": "stdout",
     "output_type": "stream",
     "text": [
      "\r",
      " GoogleNews-vectors  83%[===============>    ]   1.29G  8.69MB/s    eta 28s    "
     ]
    },
    {
     "name": "stdout",
     "output_type": "stream",
     "text": [
      "\r",
      "GoogleNews-vectors-  84%[===============>    ]   1.29G  8.91MB/s    eta 28s    "
     ]
    },
    {
     "name": "stdout",
     "output_type": "stream",
     "text": [
      "\r",
      "oogleNews-vectors-n  84%[===============>    ]   1.29G  8.95MB/s    eta 28s    "
     ]
    },
    {
     "name": "stdout",
     "output_type": "stream",
     "text": [
      "\r",
      "ogleNews-vectors-ne  84%[===============>    ]   1.29G  9.08MB/s    eta 28s    "
     ]
    },
    {
     "name": "stdout",
     "output_type": "stream",
     "text": [
      "\r",
      "gleNews-vectors-neg  84%[===============>    ]   1.29G  9.27MB/s    eta 28s    "
     ]
    },
    {
     "name": "stdout",
     "output_type": "stream",
     "text": [
      "\r",
      "leNews-vectors-nega  84%[===============>    ]   1.30G  9.29MB/s    eta 27s    "
     ]
    },
    {
     "name": "stdout",
     "output_type": "stream",
     "text": [
      "\r",
      "eNews-vectors-negat  84%[===============>    ]   1.30G  9.35MB/s    eta 27s    "
     ]
    },
    {
     "name": "stdout",
     "output_type": "stream",
     "text": [
      "\r",
      "News-vectors-negati  84%[===============>    ]   1.30G  9.40MB/s    eta 27s    "
     ]
    },
    {
     "name": "stdout",
     "output_type": "stream",
     "text": [
      "\r",
      "ews-vectors-negativ  84%[===============>    ]   1.30G  9.58MB/s    eta 27s    "
     ]
    },
    {
     "name": "stdout",
     "output_type": "stream",
     "text": [
      "\r",
      "ws-vectors-negative  85%[================>   ]   1.30G  9.76MB/s    eta 27s    "
     ]
    },
    {
     "name": "stdout",
     "output_type": "stream",
     "text": [
      "\r",
      "s-vectors-negative3  85%[================>   ]   1.31G  9.68MB/s    eta 26s    "
     ]
    },
    {
     "name": "stdout",
     "output_type": "stream",
     "text": [
      "\r",
      "-vectors-negative30  85%[================>   ]   1.31G  9.76MB/s    eta 26s    "
     ]
    },
    {
     "name": "stdout",
     "output_type": "stream",
     "text": [
      "\r",
      "vectors-negative300  85%[================>   ]   1.31G  9.93MB/s    eta 26s    "
     ]
    },
    {
     "name": "stdout",
     "output_type": "stream",
     "text": [
      "\r",
      "ectors-negative300.  85%[================>   ]   1.31G  9.96MB/s    eta 26s    "
     ]
    },
    {
     "name": "stdout",
     "output_type": "stream",
     "text": [
      "\r",
      "ctors-negative300.b  85%[================>   ]   1.31G  10.0MB/s    eta 26s    "
     ]
    },
    {
     "name": "stdout",
     "output_type": "stream",
     "text": [
      "\r",
      "tors-negative300.bi  85%[================>   ]   1.32G  10.1MB/s    eta 25s    "
     ]
    },
    {
     "name": "stdout",
     "output_type": "stream",
     "text": [
      "\r",
      "ors-negative300.bin  86%[================>   ]   1.32G  10.4MB/s    eta 25s    "
     ]
    },
    {
     "name": "stdout",
     "output_type": "stream",
     "text": [
      "\r",
      "rs-negative300.bin.  86%[================>   ]   1.32G  10.3MB/s    eta 25s    "
     ]
    },
    {
     "name": "stdout",
     "output_type": "stream",
     "text": [
      "\r",
      "s-negative300.bin.g  86%[================>   ]   1.32G  10.5MB/s    eta 25s    "
     ]
    },
    {
     "name": "stdout",
     "output_type": "stream",
     "text": [
      "\r",
      "-negative300.bin.gz  86%[================>   ]   1.33G  10.8MB/s    eta 25s    "
     ]
    },
    {
     "name": "stdout",
     "output_type": "stream",
     "text": [
      "\r",
      "negative300.bin.gz   86%[================>   ]   1.33G  10.8MB/s    eta 23s    "
     ]
    },
    {
     "name": "stdout",
     "output_type": "stream",
     "text": [
      "\r",
      "egative300.bin.gz    86%[================>   ]   1.33G  10.8MB/s    eta 23s    "
     ]
    },
    {
     "name": "stdout",
     "output_type": "stream",
     "text": [
      "\r",
      "gative300.bin.gz     86%[================>   ]   1.33G  10.7MB/s    eta 23s    "
     ]
    },
    {
     "name": "stdout",
     "output_type": "stream",
     "text": [
      "\r",
      "ative300.bin.gz      87%[================>   ]   1.33G  10.8MB/s    eta 23s    "
     ]
    },
    {
     "name": "stdout",
     "output_type": "stream",
     "text": [
      "\r",
      "tive300.bin.gz       87%[================>   ]   1.34G  10.7MB/s    eta 23s    "
     ]
    },
    {
     "name": "stdout",
     "output_type": "stream",
     "text": [
      "\r",
      "ive300.bin.gz        87%[================>   ]   1.34G  10.6MB/s    eta 22s    "
     ]
    },
    {
     "name": "stdout",
     "output_type": "stream",
     "text": [
      "\r",
      "ve300.bin.gz         87%[================>   ]   1.34G  10.9MB/s    eta 22s    "
     ]
    },
    {
     "name": "stdout",
     "output_type": "stream",
     "text": [
      "\r",
      "e300.bin.gz          87%[================>   ]   1.34G  10.9MB/s    eta 22s    "
     ]
    },
    {
     "name": "stdout",
     "output_type": "stream",
     "text": [
      "\r",
      "300.bin.gz           87%[================>   ]   1.34G  11.1MB/s    eta 22s    "
     ]
    },
    {
     "name": "stdout",
     "output_type": "stream",
     "text": [
      "\r",
      "00.bin.gz            87%[================>   ]   1.35G  11.4MB/s    eta 22s    "
     ]
    },
    {
     "name": "stdout",
     "output_type": "stream",
     "text": [
      "\r",
      "0.bin.gz             88%[================>   ]   1.35G  11.7MB/s    eta 21s    "
     ]
    },
    {
     "name": "stdout",
     "output_type": "stream",
     "text": [
      "\r",
      ".bin.gz              88%[================>   ]   1.35G  11.7MB/s    eta 21s    "
     ]
    },
    {
     "name": "stdout",
     "output_type": "stream",
     "text": [
      "\r",
      "bin.gz               88%[================>   ]   1.36G  11.8MB/s    eta 21s    "
     ]
    },
    {
     "name": "stdout",
     "output_type": "stream",
     "text": [
      "\r",
      "in.gz                88%[================>   ]   1.36G  11.7MB/s    eta 21s    "
     ]
    },
    {
     "name": "stdout",
     "output_type": "stream",
     "text": [
      "\r",
      "n.gz                 88%[================>   ]   1.36G  11.7MB/s    eta 21s    "
     ]
    },
    {
     "name": "stdout",
     "output_type": "stream",
     "text": [
      "\r",
      ".gz                  88%[================>   ]   1.36G  11.3MB/s    eta 19s    "
     ]
    },
    {
     "name": "stdout",
     "output_type": "stream",
     "text": [
      "\r",
      "gz                   88%[================>   ]   1.36G  11.2MB/s    eta 19s    "
     ]
    },
    {
     "name": "stdout",
     "output_type": "stream",
     "text": [
      "\r",
      "z                    89%[================>   ]   1.37G  11.4MB/s    eta 19s    "
     ]
    },
    {
     "name": "stdout",
     "output_type": "stream",
     "text": [
      "\r",
      "                     89%[================>   ]   1.37G  11.6MB/s    eta 19s    "
     ]
    },
    {
     "name": "stdout",
     "output_type": "stream",
     "text": [
      "\r",
      "                  G  89%[================>   ]   1.37G  11.8MB/s    eta 19s    "
     ]
    },
    {
     "name": "stdout",
     "output_type": "stream",
     "text": [
      "\r",
      "                 Go  89%[================>   ]   1.37G  11.9MB/s    eta 18s    "
     ]
    },
    {
     "name": "stdout",
     "output_type": "stream",
     "text": [
      "\r",
      "                Goo  89%[================>   ]   1.38G  11.8MB/s    eta 18s    "
     ]
    },
    {
     "name": "stdout",
     "output_type": "stream",
     "text": [
      "\r",
      "               Goog  89%[================>   ]   1.38G  11.8MB/s    eta 18s    "
     ]
    },
    {
     "name": "stdout",
     "output_type": "stream",
     "text": [
      "\r",
      "              Googl  90%[=================>  ]   1.38G  12.0MB/s    eta 18s    "
     ]
    },
    {
     "name": "stdout",
     "output_type": "stream",
     "text": [
      "\r",
      "             Google  90%[=================>  ]   1.38G  12.0MB/s    eta 18s    "
     ]
    },
    {
     "name": "stdout",
     "output_type": "stream",
     "text": [
      "\r",
      "            GoogleN  90%[=================>  ]   1.38G  11.6MB/s    eta 17s    "
     ]
    },
    {
     "name": "stdout",
     "output_type": "stream",
     "text": [
      "\r",
      "           GoogleNe  90%[=================>  ]   1.39G  10.9MB/s    eta 17s    "
     ]
    },
    {
     "name": "stdout",
     "output_type": "stream",
     "text": [
      "\r",
      "          GoogleNew  90%[=================>  ]   1.39G  10.8MB/s    eta 17s    "
     ]
    },
    {
     "name": "stdout",
     "output_type": "stream",
     "text": [
      "\r",
      "         GoogleNews  90%[=================>  ]   1.39G  10.8MB/s    eta 17s    "
     ]
    },
    {
     "name": "stdout",
     "output_type": "stream",
     "text": [
      "\r",
      "        GoogleNews-  90%[=================>  ]   1.39G  10.8MB/s    eta 17s    "
     ]
    },
    {
     "name": "stdout",
     "output_type": "stream",
     "text": [
      "\r",
      "       GoogleNews-v  90%[=================>  ]   1.39G  10.7MB/s    eta 16s    "
     ]
    },
    {
     "name": "stdout",
     "output_type": "stream",
     "text": [
      "\r",
      "      GoogleNews-ve  91%[=================>  ]   1.40G  10.6MB/s    eta 16s    "
     ]
    },
    {
     "name": "stdout",
     "output_type": "stream",
     "text": [
      "\r",
      "     GoogleNews-vec  91%[=================>  ]   1.40G  10.6MB/s    eta 16s    "
     ]
    },
    {
     "name": "stdout",
     "output_type": "stream",
     "text": [
      "\r",
      "    GoogleNews-vect  91%[=================>  ]   1.40G  10.6MB/s    eta 16s    "
     ]
    },
    {
     "name": "stdout",
     "output_type": "stream",
     "text": [
      "\r",
      "   GoogleNews-vecto  91%[=================>  ]   1.40G  10.2MB/s    eta 16s    "
     ]
    },
    {
     "name": "stdout",
     "output_type": "stream",
     "text": [
      "\r",
      "  GoogleNews-vector  91%[=================>  ]   1.40G  9.97MB/s    eta 15s    "
     ]
    },
    {
     "name": "stdout",
     "output_type": "stream",
     "text": [
      "\r",
      " GoogleNews-vectors  91%[=================>  ]   1.41G  9.99MB/s    eta 15s    "
     ]
    },
    {
     "name": "stdout",
     "output_type": "stream",
     "text": [
      "\r",
      "GoogleNews-vectors-  91%[=================>  ]   1.41G  9.76MB/s    eta 15s    "
     ]
    },
    {
     "name": "stdout",
     "output_type": "stream",
     "text": [
      "\r",
      "oogleNews-vectors-n  91%[=================>  ]   1.41G  9.46MB/s    eta 15s    "
     ]
    },
    {
     "name": "stdout",
     "output_type": "stream",
     "text": [
      "\r",
      "ogleNews-vectors-ne  91%[=================>  ]   1.41G  8.94MB/s    eta 15s    "
     ]
    },
    {
     "name": "stdout",
     "output_type": "stream",
     "text": [
      "\r",
      "gleNews-vectors-neg  92%[=================>  ]   1.41G  9.03MB/s    eta 14s    "
     ]
    },
    {
     "name": "stdout",
     "output_type": "stream",
     "text": [
      "\r",
      "leNews-vectors-nega  92%[=================>  ]   1.41G  9.18MB/s    eta 14s    "
     ]
    },
    {
     "name": "stdout",
     "output_type": "stream",
     "text": [
      "\r",
      "eNews-vectors-negat  92%[=================>  ]   1.42G  9.25MB/s    eta 14s    "
     ]
    },
    {
     "name": "stdout",
     "output_type": "stream",
     "text": [
      "\r",
      "News-vectors-negati  92%[=================>  ]   1.42G  9.07MB/s    eta 14s    "
     ]
    },
    {
     "name": "stdout",
     "output_type": "stream",
     "text": [
      "\r",
      "ews-vectors-negativ  92%[=================>  ]   1.42G  9.04MB/s    eta 14s    "
     ]
    },
    {
     "name": "stdout",
     "output_type": "stream",
     "text": [
      "\r",
      "ws-vectors-negative  92%[=================>  ]   1.42G  8.89MB/s    eta 13s    "
     ]
    },
    {
     "name": "stdout",
     "output_type": "stream",
     "text": [
      "\r",
      "s-vectors-negative3  92%[=================>  ]   1.42G  8.92MB/s    eta 13s    "
     ]
    },
    {
     "name": "stdout",
     "output_type": "stream",
     "text": [
      "\r",
      "-vectors-negative30  92%[=================>  ]   1.42G  9.12MB/s    eta 13s    "
     ]
    },
    {
     "name": "stdout",
     "output_type": "stream",
     "text": [
      "\r",
      "vectors-negative300  93%[=================>  ]   1.43G  9.20MB/s    eta 13s    "
     ]
    },
    {
     "name": "stdout",
     "output_type": "stream",
     "text": [
      "\r",
      "ectors-negative300.  93%[=================>  ]   1.43G  9.40MB/s    eta 13s    "
     ]
    },
    {
     "name": "stdout",
     "output_type": "stream",
     "text": [
      "\r",
      "ctors-negative300.b  93%[=================>  ]   1.43G  9.73MB/s    eta 11s    "
     ]
    },
    {
     "name": "stdout",
     "output_type": "stream",
     "text": [
      "\r",
      "tors-negative300.bi  93%[=================>  ]   1.43G  9.95MB/s    eta 11s    "
     ]
    },
    {
     "name": "stdout",
     "output_type": "stream",
     "text": [
      "\r",
      "ors-negative300.bin  93%[=================>  ]   1.44G  9.97MB/s    eta 11s    "
     ]
    },
    {
     "name": "stdout",
     "output_type": "stream",
     "text": [
      "\r",
      "rs-negative300.bin.  93%[=================>  ]   1.44G  9.94MB/s    eta 11s    "
     ]
    },
    {
     "name": "stdout",
     "output_type": "stream",
     "text": [
      "\r",
      "s-negative300.bin.g  93%[=================>  ]   1.44G  9.96MB/s    eta 11s    "
     ]
    },
    {
     "name": "stdout",
     "output_type": "stream",
     "text": [
      "\r",
      "-negative300.bin.gz  93%[=================>  ]   1.44G  10.0MB/s    eta 10s    "
     ]
    },
    {
     "name": "stdout",
     "output_type": "stream",
     "text": [
      "\r",
      "negative300.bin.gz   94%[=================>  ]   1.44G  10.2MB/s    eta 10s    "
     ]
    },
    {
     "name": "stdout",
     "output_type": "stream",
     "text": [
      "\r",
      "egative300.bin.gz    94%[=================>  ]   1.45G  10.4MB/s    eta 10s    "
     ]
    },
    {
     "name": "stdout",
     "output_type": "stream",
     "text": [
      "\r",
      "gative300.bin.gz     94%[=================>  ]   1.45G  10.6MB/s    eta 10s    "
     ]
    },
    {
     "name": "stdout",
     "output_type": "stream",
     "text": [
      "\r",
      "ative300.bin.gz      94%[=================>  ]   1.45G  10.8MB/s    eta 10s    "
     ]
    },
    {
     "name": "stdout",
     "output_type": "stream",
     "text": [
      "\r",
      "tive300.bin.gz       94%[=================>  ]   1.45G  10.7MB/s    eta 9s     "
     ]
    },
    {
     "name": "stdout",
     "output_type": "stream",
     "text": [
      "\r",
      "ive300.bin.gz        94%[=================>  ]   1.45G  10.7MB/s    eta 9s     "
     ]
    },
    {
     "name": "stdout",
     "output_type": "stream",
     "text": [
      "\r",
      "ve300.bin.gz         94%[=================>  ]   1.46G  10.6MB/s    eta 9s     "
     ]
    },
    {
     "name": "stdout",
     "output_type": "stream",
     "text": [
      "\r",
      "e300.bin.gz          95%[==================> ]   1.46G  10.4MB/s    eta 9s     "
     ]
    },
    {
     "name": "stdout",
     "output_type": "stream",
     "text": [
      "\r",
      "300.bin.gz           95%[==================> ]   1.46G  10.3MB/s    eta 9s     "
     ]
    },
    {
     "name": "stdout",
     "output_type": "stream",
     "text": [
      "\r",
      "00.bin.gz            95%[==================> ]   1.46G  10.4MB/s    eta 8s     "
     ]
    },
    {
     "name": "stdout",
     "output_type": "stream",
     "text": [
      "\r",
      "0.bin.gz             95%[==================> ]   1.46G  10.5MB/s    eta 8s     "
     ]
    },
    {
     "name": "stdout",
     "output_type": "stream",
     "text": [
      "\r",
      ".bin.gz              95%[==================> ]   1.47G  10.6MB/s    eta 8s     "
     ]
    },
    {
     "name": "stdout",
     "output_type": "stream",
     "text": [
      "\r",
      "bin.gz               95%[==================> ]   1.47G  10.9MB/s    eta 8s     "
     ]
    },
    {
     "name": "stdout",
     "output_type": "stream",
     "text": [
      "\r",
      "in.gz                96%[==================> ]   1.47G  11.3MB/s    eta 8s     "
     ]
    },
    {
     "name": "stdout",
     "output_type": "stream",
     "text": [
      "\r",
      "n.gz                 96%[==================> ]   1.47G  11.5MB/s    eta 7s     "
     ]
    },
    {
     "name": "stdout",
     "output_type": "stream",
     "text": [
      "\r",
      ".gz                  96%[==================> ]   1.48G  11.4MB/s    eta 7s     "
     ]
    },
    {
     "name": "stdout",
     "output_type": "stream",
     "text": [
      "\r",
      "gz                   96%[==================> ]   1.48G  11.3MB/s    eta 7s     "
     ]
    },
    {
     "name": "stdout",
     "output_type": "stream",
     "text": [
      "\r",
      "z                    96%[==================> ]   1.48G  11.1MB/s    eta 7s     "
     ]
    },
    {
     "name": "stdout",
     "output_type": "stream",
     "text": [
      "\r",
      "                     96%[==================> ]   1.48G  11.1MB/s    eta 7s     "
     ]
    },
    {
     "name": "stdout",
     "output_type": "stream",
     "text": [
      "\r",
      "                  G  96%[==================> ]   1.49G  11.0MB/s    eta 5s     "
     ]
    },
    {
     "name": "stdout",
     "output_type": "stream",
     "text": [
      "\r",
      "                 Go  96%[==================> ]   1.49G  11.2MB/s    eta 5s     "
     ]
    },
    {
     "name": "stdout",
     "output_type": "stream",
     "text": [
      "\r",
      "                Goo  97%[==================> ]   1.49G  11.2MB/s    eta 5s     "
     ]
    },
    {
     "name": "stdout",
     "output_type": "stream",
     "text": [
      "\r",
      "               Goog  97%[==================> ]   1.49G  11.1MB/s    eta 5s     "
     ]
    },
    {
     "name": "stdout",
     "output_type": "stream",
     "text": [
      "\r",
      "              Googl  97%[==================> ]   1.49G  10.9MB/s    eta 5s     "
     ]
    },
    {
     "name": "stdout",
     "output_type": "stream",
     "text": [
      "\r",
      "             Google  97%[==================> ]   1.49G  10.6MB/s    eta 5s     "
     ]
    },
    {
     "name": "stdout",
     "output_type": "stream",
     "text": [
      "\r",
      "            GoogleN  97%[==================> ]   1.49G  10.3MB/s    eta 5s     "
     ]
    },
    {
     "name": "stdout",
     "output_type": "stream",
     "text": [
      "\r",
      "           GoogleNe  97%[==================> ]   1.50G  10.0MB/s    eta 5s     "
     ]
    },
    {
     "name": "stdout",
     "output_type": "stream",
     "text": [
      "\r",
      "          GoogleNew  97%[==================> ]   1.50G  9.84MB/s    eta 5s     "
     ]
    },
    {
     "name": "stdout",
     "output_type": "stream",
     "text": [
      "\r",
      "         GoogleNews  97%[==================> ]   1.50G  9.77MB/s    eta 5s     "
     ]
    },
    {
     "name": "stdout",
     "output_type": "stream",
     "text": [
      "\r",
      "        GoogleNews-  97%[==================> ]   1.50G  9.54MB/s    eta 3s     "
     ]
    },
    {
     "name": "stdout",
     "output_type": "stream",
     "text": [
      "\r",
      "       GoogleNews-v  98%[==================> ]   1.50G  9.53MB/s    eta 3s     "
     ]
    },
    {
     "name": "stdout",
     "output_type": "stream",
     "text": [
      "\r",
      "      GoogleNews-ve  98%[==================> ]   1.51G  9.72MB/s    eta 3s     "
     ]
    },
    {
     "name": "stdout",
     "output_type": "stream",
     "text": [
      "\r",
      "     GoogleNews-vec  98%[==================> ]   1.51G  9.87MB/s    eta 3s     "
     ]
    },
    {
     "name": "stdout",
     "output_type": "stream",
     "text": [
      "\r",
      "    GoogleNews-vect  98%[==================> ]   1.51G  10.0MB/s    eta 3s     "
     ]
    },
    {
     "name": "stdout",
     "output_type": "stream",
     "text": [
      "\r",
      "   GoogleNews-vecto  98%[==================> ]   1.51G  10.1MB/s    eta 2s     "
     ]
    },
    {
     "name": "stdout",
     "output_type": "stream",
     "text": [
      "\r",
      "  GoogleNews-vector  98%[==================> ]   1.52G  10.1MB/s    eta 2s     "
     ]
    },
    {
     "name": "stdout",
     "output_type": "stream",
     "text": [
      "\r",
      " GoogleNews-vectors  99%[==================> ]   1.52G  10.4MB/s    eta 2s     "
     ]
    },
    {
     "name": "stdout",
     "output_type": "stream",
     "text": [
      "\r",
      "GoogleNews-vectors-  99%[==================> ]   1.52G  10.6MB/s    eta 2s     "
     ]
    },
    {
     "name": "stdout",
     "output_type": "stream",
     "text": [
      "\r",
      "oogleNews-vectors-n  99%[==================> ]   1.52G  10.7MB/s    eta 2s     "
     ]
    },
    {
     "name": "stdout",
     "output_type": "stream",
     "text": [
      "\r",
      "ogleNews-vectors-ne  99%[==================> ]   1.53G  11.0MB/s    eta 1s     "
     ]
    },
    {
     "name": "stdout",
     "output_type": "stream",
     "text": [
      "\r",
      "gleNews-vectors-neg  99%[==================> ]   1.53G  11.3MB/s    eta 1s     "
     ]
    },
    {
     "name": "stdout",
     "output_type": "stream",
     "text": [
      "\r",
      "leNews-vectors-nega  99%[==================> ]   1.53G  11.6MB/s    eta 1s     "
     ]
    },
    {
     "name": "stdout",
     "output_type": "stream",
     "text": [
      "\r",
      "GoogleNews-vectors- 100%[===================>]   1.53G  12.0MB/s    in 2m 50s  \r\n",
      "\r\n",
      "2022-01-04 20:53:11 (9.25 MB/s) - ‘GoogleNews-vectors-negative300.bin.gz’ saved [1647046227/1647046227]\r\n",
      "\r\n",
      "FINISHED --2022-01-04 20:53:11--\r\n",
      "Total wall clock time: 2m 50s\r\n",
      "Downloaded: 1 files, 1.5G in 2m 50s (9.25 MB/s)\r\n"
     ]
    }
   ],
   "source": [
    "!wget - c \"https://s3.amazonaws.com/dl4j-distribution/GoogleNews-vectors-negative300.bin.gz\""
   ]
  },
  {
   "cell_type": "code",
   "execution_count": null,
   "metadata": {
    "colab": {
     "base_uri": "https://localhost:8080/"
    },
    "collapsed": true,
    "gradient": {
     "editing": false,
     "id": "f229be3a-fbb6-413f-8cfc-199434736200",
     "kernelId": "407d7b5d-9d7c-4b74-9c76-5aec0e6cb98b"
    },
    "id": "iFLySjir3dGH",
    "outputId": "d5357eb3-721d-40a6-bfeb-98782ac86cc3"
   },
   "outputs": [
    {
     "ename": "ModuleNotFoundError",
     "evalue": "No module named 'google.colab'",
     "output_type": "error",
     "traceback": [
      "\u001b[0;31m---------------------------------------------------------------------------\u001b[0m",
      "\u001b[0;31mModuleNotFoundError\u001b[0m                       Traceback (most recent call last)",
      "\u001b[0;32m/tmp/ipykernel_230/1408506528.py\u001b[0m in \u001b[0;36m<module>\u001b[0;34m\u001b[0m\n\u001b[0;32m----> 1\u001b[0;31m \u001b[0;32mfrom\u001b[0m \u001b[0mgoogle\u001b[0m\u001b[0;34m.\u001b[0m\u001b[0mcolab\u001b[0m \u001b[0;32mimport\u001b[0m \u001b[0mdrive\u001b[0m\u001b[0;34m\u001b[0m\u001b[0;34m\u001b[0m\u001b[0m\n\u001b[0m\u001b[1;32m      2\u001b[0m \u001b[0mdrive\u001b[0m\u001b[0;34m.\u001b[0m\u001b[0mmount\u001b[0m\u001b[0;34m(\u001b[0m\u001b[0;34m'/content/drive'\u001b[0m\u001b[0;34m)\u001b[0m\u001b[0;34m\u001b[0m\u001b[0;34m\u001b[0m\u001b[0m\n",
      "\u001b[0;31mModuleNotFoundError\u001b[0m: No module named 'google.colab'"
     ]
    }
   ],
   "source": [
    "from google.colab import drive\n",
    "drive.mount('/content/drive')"
   ]
  },
  {
   "cell_type": "code",
   "execution_count": null,
   "metadata": {
    "colab": {
     "base_uri": "https://localhost:8080/"
    },
    "gradient": {
     "editing": false,
     "id": "f47f8888-3758-4850-8449-871520ffc8dc",
     "kernelId": "407d7b5d-9d7c-4b74-9c76-5aec0e6cb98b"
    },
    "id": "4jDru0zW2_0E",
    "outputId": "1955c155-4512-4b0c-e282-970481c55897"
   },
   "outputs": [
    {
     "name": "stdout",
     "output_type": "stream",
     "text": [
      "Looking in indexes: https://pypi.org/simple, https://pypi.ngc.nvidia.com\r\n",
      "Requirement already satisfied: torchvision in /opt/conda/lib/python3.8/site-packages (0.11.0a0)\r\n",
      "Requirement already satisfied: torch==1.10.0a0+0aef44c in /opt/conda/lib/python3.8/site-packages (from torchvision) (1.10.0a0+0aef44c)\r\n",
      "Requirement already satisfied: numpy in /opt/conda/lib/python3.8/site-packages (from torchvision) (1.21.2)\r\n",
      "Requirement already satisfied: pillow!=8.3.0,>=5.3.0 in /opt/conda/lib/python3.8/site-packages (from torchvision) (8.2.0)\r\n",
      "Requirement already satisfied: typing_extensions in /opt/conda/lib/python3.8/site-packages (from torch==1.10.0a0+0aef44c->torchvision) (3.10.0.2)\r\n"
     ]
    },
    {
     "name": "stdout",
     "output_type": "stream",
     "text": [
      "\u001b[33mWARNING: Running pip as the 'root' user can result in broken permissions and conflicting behaviour with the system package manager. It is recommended to use a virtual environment instead: https://pip.pypa.io/warnings/venv\u001b[0m\r\n"
     ]
    },
    {
     "name": "stdout",
     "output_type": "stream",
     "text": [
      "Looking in indexes: https://pypi.org/simple, https://pypi.ngc.nvidia.com\r\n"
     ]
    },
    {
     "name": "stdout",
     "output_type": "stream",
     "text": [
      "Collecting torchmetrics\r\n"
     ]
    },
    {
     "name": "stdout",
     "output_type": "stream",
     "text": [
      "  Downloading torchmetrics-0.6.2-py3-none-any.whl (332 kB)\r\n",
      "\u001b[?25l\r",
      "\u001b[K     |█                               | 10 kB 22.2 MB/s eta 0:00:01\r",
      "\u001b[K     |██                              | 20 kB 29.0 MB/s eta 0:00:01\r",
      "\u001b[K     |███                             | 30 kB 32.7 MB/s eta 0:00:01\r",
      "\u001b[K     |████                            | 40 kB 32.1 MB/s eta 0:00:01\r",
      "\u001b[K     |█████                           | 51 kB 31.4 MB/s eta 0:00:01\r",
      "\u001b[K     |██████                          | 61 kB 31.3 MB/s eta 0:00:01\r",
      "\u001b[K     |███████                         | 71 kB 24.3 MB/s eta 0:00:01\r",
      "\u001b[K     |███████▉                        | 81 kB 25.3 MB/s eta 0:00:01\r",
      "\u001b[K     |████████▉                       | 92 kB 25.5 MB/s eta 0:00:01\r",
      "\u001b[K     |█████████▉                      | 102 kB 24.1 MB/s eta 0:00:01\r",
      "\u001b[K     |██████████▉                     | 112 kB 24.1 MB/s eta 0:00:01\r",
      "\u001b[K     |███████████▉                    | 122 kB 24.1 MB/s eta 0:00:01\r",
      "\u001b[K     |████████████▉                   | 133 kB 24.1 MB/s eta 0:00:01\r",
      "\u001b[K     |█████████████▉                  | 143 kB 24.1 MB/s eta 0:00:01\r",
      "\u001b[K     |██████████████▉                 | 153 kB 24.1 MB/s eta 0:00:01\r",
      "\u001b[K     |███████████████▊                | 163 kB 24.1 MB/s eta 0:00:01\r",
      "\u001b[K     |████████████████▊               | 174 kB 24.1 MB/s eta 0:00:01\r",
      "\u001b[K     |█████████████████▊              | 184 kB 24.1 MB/s eta 0:00:01\r",
      "\u001b[K     |██████████████████▊             | 194 kB 24.1 MB/s eta 0:00:01\r",
      "\u001b[K     |███████████████████▊            | 204 kB 24.1 MB/s eta 0:00:01\r",
      "\u001b[K     |████████████████████▊           | 215 kB 24.1 MB/s eta 0:00:01\r",
      "\u001b[K     |█████████████████████▊          | 225 kB 24.1 MB/s eta 0:00:01\r",
      "\u001b[K     |██████████████████████▋         | 235 kB 24.1 MB/s eta 0:00:01\r",
      "\u001b[K     |███████████████████████▋        | 245 kB 24.1 MB/s eta 0:00:01\r",
      "\u001b[K     |████████████████████████▋       | 256 kB 24.1 MB/s eta 0:00:01\r",
      "\u001b[K     |█████████████████████████▋      | 266 kB 24.1 MB/s eta 0:00:01\r",
      "\u001b[K     |██████████████████████████▋     | 276 kB 24.1 MB/s eta 0:00:01\r",
      "\u001b[K     |███████████████████████████▋    | 286 kB 24.1 MB/s eta 0:00:01\r",
      "\u001b[K     |████████████████████████████▋   | 296 kB 24.1 MB/s eta 0:00:01\r",
      "\u001b[K     |█████████████████████████████▋  | 307 kB 24.1 MB/s eta 0:00:01\r",
      "\u001b[K     |██████████████████████████████▌ | 317 kB 24.1 MB/s eta 0:00:01\r",
      "\u001b[K     |███████████████████████████████▌| 327 kB 24.1 MB/s eta 0:00:01\r",
      "\u001b[K     |████████████████████████████████| 332 kB 24.1 MB/s \r\n"
     ]
    },
    {
     "name": "stdout",
     "output_type": "stream",
     "text": [
      "\u001b[?25hRequirement already satisfied: numpy>=1.17.2 in /opt/conda/lib/python3.8/site-packages (from torchmetrics) (1.21.2)\r\n",
      "Requirement already satisfied: torch>=1.3.1 in /opt/conda/lib/python3.8/site-packages (from torchmetrics) (1.10.0a0+0aef44c)\r\n",
      "Requirement already satisfied: packaging in /opt/conda/lib/python3.8/site-packages (from torchmetrics) (21.0)\r\n",
      "Requirement already satisfied: typing_extensions in /opt/conda/lib/python3.8/site-packages (from torch>=1.3.1->torchmetrics) (3.10.0.2)\r\n",
      "Requirement already satisfied: pyparsing>=2.0.2 in /opt/conda/lib/python3.8/site-packages (from packaging->torchmetrics) (2.4.7)\r\n"
     ]
    },
    {
     "name": "stdout",
     "output_type": "stream",
     "text": [
      "Installing collected packages: torchmetrics\r\n"
     ]
    },
    {
     "name": "stdout",
     "output_type": "stream",
     "text": [
      "Successfully installed torchmetrics-0.6.2\r\n",
      "\u001b[33mWARNING: Running pip as the 'root' user can result in broken permissions and conflicting behaviour with the system package manager. It is recommended to use a virtual environment instead: https://pip.pypa.io/warnings/venv\u001b[0m\r\n"
     ]
    },
    {
     "name": "stdout",
     "output_type": "stream",
     "text": [
      "Looking in indexes: https://pypi.org/simple, https://pypi.ngc.nvidia.com\r\n"
     ]
    },
    {
     "name": "stdout",
     "output_type": "stream",
     "text": [
      "Collecting pymorphy2\r\n"
     ]
    },
    {
     "name": "stdout",
     "output_type": "stream",
     "text": [
      "  Downloading pymorphy2-0.9.1-py3-none-any.whl (55 kB)\r\n",
      "\u001b[?25l\r",
      "\u001b[K     |██████                          | 10 kB 23.0 MB/s eta 0:00:01\r",
      "\u001b[K     |███████████▉                    | 20 kB 27.5 MB/s eta 0:00:01\r",
      "\u001b[K     |█████████████████▊              | 30 kB 32.3 MB/s eta 0:00:01\r",
      "\u001b[K     |███████████████████████▋        | 40 kB 22.0 MB/s eta 0:00:01\r",
      "\u001b[K     |█████████████████████████████▌  | 51 kB 14.8 MB/s eta 0:00:01\r",
      "\u001b[K     |████████████████████████████████| 55 kB 13.4 MB/s \r\n"
     ]
    },
    {
     "name": "stdout",
     "output_type": "stream",
     "text": [
      "\u001b[?25hCollecting dawg-python>=0.7.1\r\n",
      "  Downloading DAWG_Python-0.7.2-py2.py3-none-any.whl (11 kB)\r\n"
     ]
    },
    {
     "name": "stdout",
     "output_type": "stream",
     "text": [
      "Collecting docopt>=0.6\r\n",
      "  Downloading docopt-0.6.2.tar.gz (25 kB)\r\n"
     ]
    },
    {
     "name": "stdout",
     "output_type": "stream",
     "text": [
      "Collecting pymorphy2-dicts-ru<3.0,>=2.4\r\n",
      "  Downloading pymorphy2_dicts_ru-2.4.417127.4579844-py2.py3-none-any.whl (8.2 MB)\r\n",
      "\u001b[?25l\r",
      "\u001b[K     |                                | 10 kB 35.7 MB/s eta 0:00:01\r",
      "\u001b[K     |                                | 20 kB 46.7 MB/s eta 0:00:01\r",
      "\u001b[K     |▏                               | 30 kB 38.2 MB/s eta 0:00:01"
     ]
    },
    {
     "name": "stdout",
     "output_type": "stream",
     "text": [
      "\r",
      "\u001b[K     |▏                               | 40 kB 17.5 MB/s eta 0:00:01\r",
      "\u001b[K     |▏                               | 51 kB 21.0 MB/s eta 0:00:01\r",
      "\u001b[K     |▎                               | 61 kB 15.1 MB/s eta 0:00:01\r",
      "\u001b[K     |▎                               | 71 kB 11.0 MB/s eta 0:00:01\r",
      "\u001b[K     |▎                               | 81 kB 12.4 MB/s eta 0:00:01\r",
      "\u001b[K     |▍                               | 92 kB 10.7 MB/s eta 0:00:01\r",
      "\u001b[K     |▍                               | 102 kB 11.7 MB/s eta 0:00:01\r",
      "\u001b[K     |▍                               | 112 kB 11.7 MB/s eta 0:00:01\r",
      "\u001b[K     |▌                               | 122 kB 11.7 MB/s eta 0:00:01\r",
      "\u001b[K     |▌                               | 133 kB 11.7 MB/s eta 0:00:01\r",
      "\u001b[K     |▋                               | 143 kB 11.7 MB/s eta 0:00:01\r",
      "\u001b[K     |▋                               | 153 kB 11.7 MB/s eta 0:00:01\r",
      "\u001b[K     |▋                               | 163 kB 11.7 MB/s eta 0:00:01\r",
      "\u001b[K     |▊                               | 174 kB 11.7 MB/s eta 0:00:01\r",
      "\u001b[K     |▊                               | 184 kB 11.7 MB/s eta 0:00:01\r",
      "\u001b[K     |▊                               | 194 kB 11.7 MB/s eta 0:00:01\r",
      "\u001b[K     |▉                               | 204 kB 11.7 MB/s eta 0:00:01\r",
      "\u001b[K     |▉                               | 215 kB 11.7 MB/s eta 0:00:01\r",
      "\u001b[K     |▉                               | 225 kB 11.7 MB/s eta 0:00:01\r",
      "\u001b[K     |█                               | 235 kB 11.7 MB/s eta 0:00:01\r",
      "\u001b[K     |█                               | 245 kB 11.7 MB/s eta 0:00:01\r",
      "\u001b[K     |█                               | 256 kB 11.7 MB/s eta 0:00:01\r",
      "\u001b[K     |█                               | 266 kB 11.7 MB/s eta 0:00:01\r",
      "\u001b[K     |█                               | 276 kB 11.7 MB/s eta 0:00:01\r",
      "\u001b[K     |█▏                              | 286 kB 11.7 MB/s eta 0:00:01\r",
      "\u001b[K     |█▏                              | 296 kB 11.7 MB/s eta 0:00:01\r",
      "\u001b[K     |█▏                              | 307 kB 11.7 MB/s eta 0:00:01\r",
      "\u001b[K     |█▎                              | 317 kB 11.7 MB/s eta 0:00:01\r",
      "\u001b[K     |█▎                              | 327 kB 11.7 MB/s eta 0:00:01\r",
      "\u001b[K     |█▎                              | 337 kB 11.7 MB/s eta 0:00:01\r",
      "\u001b[K     |█▍                              | 348 kB 11.7 MB/s eta 0:00:01\r",
      "\u001b[K     |█▍                              | 358 kB 11.7 MB/s eta 0:00:01\r",
      "\u001b[K     |█▍                              | 368 kB 11.7 MB/s eta 0:00:01\r",
      "\u001b[K     |█▌                              | 378 kB 11.7 MB/s eta 0:00:01\r",
      "\u001b[K     |█▌                              | 389 kB 11.7 MB/s eta 0:00:01\r",
      "\u001b[K     |█▋                              | 399 kB 11.7 MB/s eta 0:00:01\r",
      "\u001b[K     |█▋                              | 409 kB 11.7 MB/s eta 0:00:01\r",
      "\u001b[K     |█▋                              | 419 kB 11.7 MB/s eta 0:00:01\r",
      "\u001b[K     |█▊                              | 430 kB 11.7 MB/s eta 0:00:01\r",
      "\u001b[K     |█▊                              | 440 kB 11.7 MB/s eta 0:00:01\r",
      "\u001b[K     |█▊                              | 450 kB 11.7 MB/s eta 0:00:01\r",
      "\u001b[K     |█▉                              | 460 kB 11.7 MB/s eta 0:00:01\r",
      "\u001b[K     |█▉                              | 471 kB 11.7 MB/s eta 0:00:01\r",
      "\u001b[K     |█▉                              | 481 kB 11.7 MB/s eta 0:00:01\r",
      "\u001b[K     |██                              | 491 kB 11.7 MB/s eta 0:00:01\r",
      "\u001b[K     |██                              | 501 kB 11.7 MB/s eta 0:00:01\r",
      "\u001b[K     |██                              | 512 kB 11.7 MB/s eta 0:00:01\r",
      "\u001b[K     |██                              | 522 kB 11.7 MB/s eta 0:00:01\r",
      "\u001b[K     |██                              | 532 kB 11.7 MB/s eta 0:00:01\r",
      "\u001b[K     |██▏                             | 542 kB 11.7 MB/s eta 0:00:01\r",
      "\u001b[K     |██▏                             | 552 kB 11.7 MB/s eta 0:00:01\r",
      "\u001b[K     |██▏                             | 563 kB 11.7 MB/s eta 0:00:01\r",
      "\u001b[K     |██▎                             | 573 kB 11.7 MB/s eta 0:00:01\r",
      "\u001b[K     |██▎                             | 583 kB 11.7 MB/s eta 0:00:01\r",
      "\u001b[K     |██▎                             | 593 kB 11.7 MB/s eta 0:00:01\r",
      "\u001b[K     |██▍                             | 604 kB 11.7 MB/s eta 0:00:01\r",
      "\u001b[K     |██▍                             | 614 kB 11.7 MB/s eta 0:00:01\r",
      "\u001b[K     |██▍                             | 624 kB 11.7 MB/s eta 0:00:01"
     ]
    },
    {
     "name": "stdout",
     "output_type": "stream",
     "text": [
      "\r",
      "\u001b[K     |██▌                             | 634 kB 11.7 MB/s eta 0:00:01\r",
      "\u001b[K     |██▌                             | 645 kB 11.7 MB/s eta 0:00:01\r",
      "\u001b[K     |██▌                             | 655 kB 11.7 MB/s eta 0:00:01\r",
      "\u001b[K     |██▋                             | 665 kB 11.7 MB/s eta 0:00:01\r",
      "\u001b[K     |██▋                             | 675 kB 11.7 MB/s eta 0:00:01\r",
      "\u001b[K     |██▊                             | 686 kB 11.7 MB/s eta 0:00:01\r",
      "\u001b[K     |██▊                             | 696 kB 11.7 MB/s eta 0:00:01\r",
      "\u001b[K     |██▊                             | 706 kB 11.7 MB/s eta 0:00:01\r",
      "\u001b[K     |██▉                             | 716 kB 11.7 MB/s eta 0:00:01\r",
      "\u001b[K     |██▉                             | 727 kB 11.7 MB/s eta 0:00:01\r",
      "\u001b[K     |██▉                             | 737 kB 11.7 MB/s eta 0:00:01\r",
      "\u001b[K     |███                             | 747 kB 11.7 MB/s eta 0:00:01\r",
      "\u001b[K     |███                             | 757 kB 11.7 MB/s eta 0:00:01\r",
      "\u001b[K     |███                             | 768 kB 11.7 MB/s eta 0:00:01\r",
      "\u001b[K     |███                             | 778 kB 11.7 MB/s eta 0:00:01\r",
      "\u001b[K     |███                             | 788 kB 11.7 MB/s eta 0:00:01\r",
      "\u001b[K     |███▏                            | 798 kB 11.7 MB/s eta 0:00:01\r",
      "\u001b[K     |███▏                            | 808 kB 11.7 MB/s eta 0:00:01\r",
      "\u001b[K     |███▏                            | 819 kB 11.7 MB/s eta 0:00:01\r",
      "\u001b[K     |███▎                            | 829 kB 11.7 MB/s eta 0:00:01\r",
      "\u001b[K     |███▎                            | 839 kB 11.7 MB/s eta 0:00:01\r",
      "\u001b[K     |███▎                            | 849 kB 11.7 MB/s eta 0:00:01\r",
      "\u001b[K     |███▍                            | 860 kB 11.7 MB/s eta 0:00:01\r",
      "\u001b[K     |███▍                            | 870 kB 11.7 MB/s eta 0:00:01\r",
      "\u001b[K     |███▍                            | 880 kB 11.7 MB/s eta 0:00:01\r",
      "\u001b[K     |███▌                            | 890 kB 11.7 MB/s eta 0:00:01\r",
      "\u001b[K     |███▌                            | 901 kB 11.7 MB/s eta 0:00:01\r",
      "\u001b[K     |███▌                            | 911 kB 11.7 MB/s eta 0:00:01\r",
      "\u001b[K     |███▋                            | 921 kB 11.7 MB/s eta 0:00:01\r",
      "\u001b[K     |███▋                            | 931 kB 11.7 MB/s eta 0:00:01\r",
      "\u001b[K     |███▊                            | 942 kB 11.7 MB/s eta 0:00:01\r",
      "\u001b[K     |███▊                            | 952 kB 11.7 MB/s eta 0:00:01\r",
      "\u001b[K     |███▊                            | 962 kB 11.7 MB/s eta 0:00:01\r",
      "\u001b[K     |███▉                            | 972 kB 11.7 MB/s eta 0:00:01\r",
      "\u001b[K     |███▉                            | 983 kB 11.7 MB/s eta 0:00:01\r",
      "\u001b[K     |███▉                            | 993 kB 11.7 MB/s eta 0:00:01\r",
      "\u001b[K     |████                            | 1.0 MB 11.7 MB/s eta 0:00:01\r",
      "\u001b[K     |████                            | 1.0 MB 11.7 MB/s eta 0:00:01\r",
      "\u001b[K     |████                            | 1.0 MB 11.7 MB/s eta 0:00:01\r",
      "\u001b[K     |████                            | 1.0 MB 11.7 MB/s eta 0:00:01\r",
      "\u001b[K     |████                            | 1.0 MB 11.7 MB/s eta 0:00:01\r",
      "\u001b[K     |████                            | 1.1 MB 11.7 MB/s eta 0:00:01\r",
      "\u001b[K     |████▏                           | 1.1 MB 11.7 MB/s eta 0:00:01\r",
      "\u001b[K     |████▏                           | 1.1 MB 11.7 MB/s eta 0:00:01\r",
      "\u001b[K     |████▎                           | 1.1 MB 11.7 MB/s eta 0:00:01\r",
      "\u001b[K     |████▎                           | 1.1 MB 11.7 MB/s eta 0:00:01\r",
      "\u001b[K     |████▎                           | 1.1 MB 11.7 MB/s eta 0:00:01\r",
      "\u001b[K     |████▍                           | 1.1 MB 11.7 MB/s eta 0:00:01\r",
      "\u001b[K     |████▍                           | 1.1 MB 11.7 MB/s eta 0:00:01\r",
      "\u001b[K     |████▍                           | 1.1 MB 11.7 MB/s eta 0:00:01\r",
      "\u001b[K     |████▌                           | 1.1 MB 11.7 MB/s eta 0:00:01\r",
      "\u001b[K     |████▌                           | 1.2 MB 11.7 MB/s eta 0:00:01\r",
      "\u001b[K     |████▌                           | 1.2 MB 11.7 MB/s eta 0:00:01\r",
      "\u001b[K     |████▋                           | 1.2 MB 11.7 MB/s eta 0:00:01\r",
      "\u001b[K     |████▋                           | 1.2 MB 11.7 MB/s eta 0:00:01\r",
      "\u001b[K     |████▊                           | 1.2 MB 11.7 MB/s eta 0:00:01\r",
      "\u001b[K     |████▊                           | 1.2 MB 11.7 MB/s eta 0:00:01\r",
      "\u001b[K     |████▊                           | 1.2 MB 11.7 MB/s eta 0:00:01\r",
      "\u001b[K     |████▉                           | 1.2 MB 11.7 MB/s eta 0:00:01\r",
      "\u001b[K     |████▉                           | 1.2 MB 11.7 MB/s eta 0:00:01\r",
      "\u001b[K     |████▉                           | 1.2 MB 11.7 MB/s eta 0:00:01\r",
      "\u001b[K     |█████                           | 1.3 MB 11.7 MB/s eta 0:00:01\r",
      "\u001b[K     |█████                           | 1.3 MB 11.7 MB/s eta 0:00:01\r",
      "\u001b[K     |█████                           | 1.3 MB 11.7 MB/s eta 0:00:01\r",
      "\u001b[K     |█████                           | 1.3 MB 11.7 MB/s eta 0:00:01\r",
      "\u001b[K     |█████                           | 1.3 MB 11.7 MB/s eta 0:00:01\r",
      "\u001b[K     |█████                           | 1.3 MB 11.7 MB/s eta 0:00:01\r",
      "\u001b[K     |█████▏                          | 1.3 MB 11.7 MB/s eta 0:00:01\r",
      "\u001b[K     |█████▏                          | 1.3 MB 11.7 MB/s eta 0:00:01\r",
      "\u001b[K     |█████▎                          | 1.3 MB 11.7 MB/s eta 0:00:01\r",
      "\u001b[K     |█████▎                          | 1.4 MB 11.7 MB/s eta 0:00:01\r",
      "\u001b[K     |█████▎                          | 1.4 MB 11.7 MB/s eta 0:00:01\r",
      "\u001b[K     |█████▍                          | 1.4 MB 11.7 MB/s eta 0:00:01\r",
      "\u001b[K     |█████▍                          | 1.4 MB 11.7 MB/s eta 0:00:01\r",
      "\u001b[K     |█████▍                          | 1.4 MB 11.7 MB/s eta 0:00:01\r",
      "\u001b[K     |█████▌                          | 1.4 MB 11.7 MB/s eta 0:00:01\r",
      "\u001b[K     |█████▌                          | 1.4 MB 11.7 MB/s eta 0:00:01\r",
      "\u001b[K     |█████▌                          | 1.4 MB 11.7 MB/s eta 0:00:01\r",
      "\u001b[K     |█████▋                          | 1.4 MB 11.7 MB/s eta 0:00:01\r",
      "\u001b[K     |█████▋                          | 1.4 MB 11.7 MB/s eta 0:00:01\r",
      "\u001b[K     |█████▋                          | 1.5 MB 11.7 MB/s eta 0:00:01\r",
      "\u001b[K     |█████▊                          | 1.5 MB 11.7 MB/s eta 0:00:01\r",
      "\u001b[K     |█████▊                          | 1.5 MB 11.7 MB/s eta 0:00:01\r",
      "\u001b[K     |█████▉                          | 1.5 MB 11.7 MB/s eta 0:00:01\r",
      "\u001b[K     |█████▉                          | 1.5 MB 11.7 MB/s eta 0:00:01\r",
      "\u001b[K     |█████▉                          | 1.5 MB 11.7 MB/s eta 0:00:01\r",
      "\u001b[K     |██████                          | 1.5 MB 11.7 MB/s eta 0:00:01\r",
      "\u001b[K     |██████                          | 1.5 MB 11.7 MB/s eta 0:00:01\r",
      "\u001b[K     |██████                          | 1.5 MB 11.7 MB/s eta 0:00:01\r",
      "\u001b[K     |██████                          | 1.5 MB 11.7 MB/s eta 0:00:01\r",
      "\u001b[K     |██████                          | 1.6 MB 11.7 MB/s eta 0:00:01\r",
      "\u001b[K     |██████                          | 1.6 MB 11.7 MB/s eta 0:00:01\r",
      "\u001b[K     |██████▏                         | 1.6 MB 11.7 MB/s eta 0:00:01\r",
      "\u001b[K     |██████▏                         | 1.6 MB 11.7 MB/s eta 0:00:01\r",
      "\u001b[K     |██████▎                         | 1.6 MB 11.7 MB/s eta 0:00:01\r",
      "\u001b[K     |██████▎                         | 1.6 MB 11.7 MB/s eta 0:00:01\r",
      "\u001b[K     |██████▎                         | 1.6 MB 11.7 MB/s eta 0:00:01\r",
      "\u001b[K     |██████▍                         | 1.6 MB 11.7 MB/s eta 0:00:01\r",
      "\u001b[K     |██████▍                         | 1.6 MB 11.7 MB/s eta 0:00:01\r",
      "\u001b[K     |██████▍                         | 1.6 MB 11.7 MB/s eta 0:00:01\r",
      "\u001b[K     |██████▌                         | 1.7 MB 11.7 MB/s eta 0:00:01\r",
      "\u001b[K     |██████▌                         | 1.7 MB 11.7 MB/s eta 0:00:01\r",
      "\u001b[K     |██████▌                         | 1.7 MB 11.7 MB/s eta 0:00:01\r",
      "\u001b[K     |██████▋                         | 1.7 MB 11.7 MB/s eta 0:00:01\r",
      "\u001b[K     |██████▋                         | 1.7 MB 11.7 MB/s eta 0:00:01\r",
      "\u001b[K     |██████▋                         | 1.7 MB 11.7 MB/s eta 0:00:01\r",
      "\u001b[K     |██████▊                         | 1.7 MB 11.7 MB/s eta 0:00:01\r",
      "\u001b[K     |██████▊                         | 1.7 MB 11.7 MB/s eta 0:00:01\r",
      "\u001b[K     |██████▉                         | 1.7 MB 11.7 MB/s eta 0:00:01\r",
      "\u001b[K     |██████▉                         | 1.8 MB 11.7 MB/s eta 0:00:01\r",
      "\u001b[K     |██████▉                         | 1.8 MB 11.7 MB/s eta 0:00:01\r",
      "\u001b[K     |███████                         | 1.8 MB 11.7 MB/s eta 0:00:01\r",
      "\u001b[K     |███████                         | 1.8 MB 11.7 MB/s eta 0:00:01\r",
      "\u001b[K     |███████                         | 1.8 MB 11.7 MB/s eta 0:00:01\r",
      "\u001b[K     |███████                         | 1.8 MB 11.7 MB/s eta 0:00:01\r",
      "\u001b[K     |███████                         | 1.8 MB 11.7 MB/s eta 0:00:01\r",
      "\u001b[K     |███████                         | 1.8 MB 11.7 MB/s eta 0:00:01\r",
      "\u001b[K     |███████▏                        | 1.8 MB 11.7 MB/s eta 0:00:01"
     ]
    },
    {
     "name": "stdout",
     "output_type": "stream",
     "text": [
      "\r",
      "\u001b[K     |███████▏                        | 1.8 MB 11.7 MB/s eta 0:00:01\r",
      "\u001b[K     |███████▏                        | 1.9 MB 11.7 MB/s eta 0:00:01\r",
      "\u001b[K     |███████▎                        | 1.9 MB 11.7 MB/s eta 0:00:01\r",
      "\u001b[K     |███████▎                        | 1.9 MB 11.7 MB/s eta 0:00:01\r",
      "\u001b[K     |███████▍                        | 1.9 MB 11.7 MB/s eta 0:00:01\r",
      "\u001b[K     |███████▍                        | 1.9 MB 11.7 MB/s eta 0:00:01\r",
      "\u001b[K     |███████▍                        | 1.9 MB 11.7 MB/s eta 0:00:01\r",
      "\u001b[K     |███████▌                        | 1.9 MB 11.7 MB/s eta 0:00:01\r",
      "\u001b[K     |███████▌                        | 1.9 MB 11.7 MB/s eta 0:00:01\r",
      "\u001b[K     |███████▌                        | 1.9 MB 11.7 MB/s eta 0:00:01\r",
      "\u001b[K     |███████▋                        | 1.9 MB 11.7 MB/s eta 0:00:01\r",
      "\u001b[K     |███████▋                        | 2.0 MB 11.7 MB/s eta 0:00:01\r",
      "\u001b[K     |███████▋                        | 2.0 MB 11.7 MB/s eta 0:00:01\r",
      "\u001b[K     |███████▊                        | 2.0 MB 11.7 MB/s eta 0:00:01\r",
      "\u001b[K     |███████▊                        | 2.0 MB 11.7 MB/s eta 0:00:01\r",
      "\u001b[K     |███████▉                        | 2.0 MB 11.7 MB/s eta 0:00:01\r",
      "\u001b[K     |███████▉                        | 2.0 MB 11.7 MB/s eta 0:00:01\r",
      "\u001b[K     |███████▉                        | 2.0 MB 11.7 MB/s eta 0:00:01\r",
      "\u001b[K     |████████                        | 2.0 MB 11.7 MB/s eta 0:00:01\r",
      "\u001b[K     |████████                        | 2.0 MB 11.7 MB/s eta 0:00:01\r",
      "\u001b[K     |████████                        | 2.0 MB 11.7 MB/s eta 0:00:01\r",
      "\u001b[K     |████████                        | 2.1 MB 11.7 MB/s eta 0:00:01\r",
      "\u001b[K     |████████                        | 2.1 MB 11.7 MB/s eta 0:00:01\r",
      "\u001b[K     |████████                        | 2.1 MB 11.7 MB/s eta 0:00:01\r",
      "\u001b[K     |████████▏                       | 2.1 MB 11.7 MB/s eta 0:00:01\r",
      "\u001b[K     |████████▏                       | 2.1 MB 11.7 MB/s eta 0:00:01\r",
      "\u001b[K     |████████▏                       | 2.1 MB 11.7 MB/s eta 0:00:01\r",
      "\u001b[K     |████████▎                       | 2.1 MB 11.7 MB/s eta 0:00:01\r",
      "\u001b[K     |████████▎                       | 2.1 MB 11.7 MB/s eta 0:00:01\r",
      "\u001b[K     |████████▍                       | 2.1 MB 11.7 MB/s eta 0:00:01\r",
      "\u001b[K     |████████▍                       | 2.2 MB 11.7 MB/s eta 0:00:01\r",
      "\u001b[K     |████████▍                       | 2.2 MB 11.7 MB/s eta 0:00:01\r",
      "\u001b[K     |████████▌                       | 2.2 MB 11.7 MB/s eta 0:00:01\r",
      "\u001b[K     |████████▌                       | 2.2 MB 11.7 MB/s eta 0:00:01\r",
      "\u001b[K     |████████▌                       | 2.2 MB 11.7 MB/s eta 0:00:01\r",
      "\u001b[K     |████████▋                       | 2.2 MB 11.7 MB/s eta 0:00:01\r",
      "\u001b[K     |████████▋                       | 2.2 MB 11.7 MB/s eta 0:00:01\r",
      "\u001b[K     |████████▋                       | 2.2 MB 11.7 MB/s eta 0:00:01\r",
      "\u001b[K     |████████▊                       | 2.2 MB 11.7 MB/s eta 0:00:01\r",
      "\u001b[K     |████████▊                       | 2.2 MB 11.7 MB/s eta 0:00:01\r",
      "\u001b[K     |████████▉                       | 2.3 MB 11.7 MB/s eta 0:00:01\r",
      "\u001b[K     |████████▉                       | 2.3 MB 11.7 MB/s eta 0:00:01\r",
      "\u001b[K     |████████▉                       | 2.3 MB 11.7 MB/s eta 0:00:01\r",
      "\u001b[K     |█████████                       | 2.3 MB 11.7 MB/s eta 0:00:01\r",
      "\u001b[K     |█████████                       | 2.3 MB 11.7 MB/s eta 0:00:01\r",
      "\u001b[K     |█████████                       | 2.3 MB 11.7 MB/s eta 0:00:01\r",
      "\u001b[K     |█████████                       | 2.3 MB 11.7 MB/s eta 0:00:01\r",
      "\u001b[K     |█████████                       | 2.3 MB 11.7 MB/s eta 0:00:01\r",
      "\u001b[K     |█████████                       | 2.3 MB 11.7 MB/s eta 0:00:01\r",
      "\u001b[K     |█████████▏                      | 2.3 MB 11.7 MB/s eta 0:00:01\r",
      "\u001b[K     |█████████▏                      | 2.4 MB 11.7 MB/s eta 0:00:01\r",
      "\u001b[K     |█████████▏                      | 2.4 MB 11.7 MB/s eta 0:00:01\r",
      "\u001b[K     |█████████▎                      | 2.4 MB 11.7 MB/s eta 0:00:01\r",
      "\u001b[K     |█████████▎                      | 2.4 MB 11.7 MB/s eta 0:00:01\r",
      "\u001b[K     |█████████▍                      | 2.4 MB 11.7 MB/s eta 0:00:01\r",
      "\u001b[K     |█████████▍                      | 2.4 MB 11.7 MB/s eta 0:00:01\r",
      "\u001b[K     |█████████▍                      | 2.4 MB 11.7 MB/s eta 0:00:01\r",
      "\u001b[K     |█████████▌                      | 2.4 MB 11.7 MB/s eta 0:00:01\r",
      "\u001b[K     |█████████▌                      | 2.4 MB 11.7 MB/s eta 0:00:01\r",
      "\u001b[K     |█████████▌                      | 2.4 MB 11.7 MB/s eta 0:00:01\r",
      "\u001b[K     |█████████▋                      | 2.5 MB 11.7 MB/s eta 0:00:01\r",
      "\u001b[K     |█████████▋                      | 2.5 MB 11.7 MB/s eta 0:00:01\r",
      "\u001b[K     |█████████▋                      | 2.5 MB 11.7 MB/s eta 0:00:01\r",
      "\u001b[K     |█████████▊                      | 2.5 MB 11.7 MB/s eta 0:00:01\r",
      "\u001b[K     |█████████▊                      | 2.5 MB 11.7 MB/s eta 0:00:01\r",
      "\u001b[K     |█████████▊                      | 2.5 MB 11.7 MB/s eta 0:00:01\r",
      "\u001b[K     |█████████▉                      | 2.5 MB 11.7 MB/s eta 0:00:01\r",
      "\u001b[K     |█████████▉                      | 2.5 MB 11.7 MB/s eta 0:00:01\r",
      "\u001b[K     |██████████                      | 2.5 MB 11.7 MB/s eta 0:00:01\r",
      "\u001b[K     |██████████                      | 2.5 MB 11.7 MB/s eta 0:00:01\r",
      "\u001b[K     |██████████                      | 2.6 MB 11.7 MB/s eta 0:00:01\r",
      "\u001b[K     |██████████                      | 2.6 MB 11.7 MB/s eta 0:00:01\r",
      "\u001b[K     |██████████                      | 2.6 MB 11.7 MB/s eta 0:00:01\r",
      "\u001b[K     |██████████                      | 2.6 MB 11.7 MB/s eta 0:00:01\r",
      "\u001b[K     |██████████▏                     | 2.6 MB 11.7 MB/s eta 0:00:01\r",
      "\u001b[K     |██████████▏                     | 2.6 MB 11.7 MB/s eta 0:00:01\r",
      "\u001b[K     |██████████▏                     | 2.6 MB 11.7 MB/s eta 0:00:01\r",
      "\u001b[K     |██████████▎                     | 2.6 MB 11.7 MB/s eta 0:00:01\r",
      "\u001b[K     |██████████▎                     | 2.6 MB 11.7 MB/s eta 0:00:01\r",
      "\u001b[K     |██████████▍                     | 2.7 MB 11.7 MB/s eta 0:00:01\r",
      "\u001b[K     |██████████▍                     | 2.7 MB 11.7 MB/s eta 0:00:01\r",
      "\u001b[K     |██████████▍                     | 2.7 MB 11.7 MB/s eta 0:00:01\r",
      "\u001b[K     |██████████▌                     | 2.7 MB 11.7 MB/s eta 0:00:01\r",
      "\u001b[K     |██████████▌                     | 2.7 MB 11.7 MB/s eta 0:00:01\r",
      "\u001b[K     |██████████▌                     | 2.7 MB 11.7 MB/s eta 0:00:01\r",
      "\u001b[K     |██████████▋                     | 2.7 MB 11.7 MB/s eta 0:00:01\r",
      "\u001b[K     |██████████▋                     | 2.7 MB 11.7 MB/s eta 0:00:01\r",
      "\u001b[K     |██████████▋                     | 2.7 MB 11.7 MB/s eta 0:00:01\r",
      "\u001b[K     |██████████▊                     | 2.7 MB 11.7 MB/s eta 0:00:01\r",
      "\u001b[K     |██████████▊                     | 2.8 MB 11.7 MB/s eta 0:00:01\r",
      "\u001b[K     |██████████▊                     | 2.8 MB 11.7 MB/s eta 0:00:01\r",
      "\u001b[K     |██████████▉                     | 2.8 MB 11.7 MB/s eta 0:00:01\r",
      "\u001b[K     |██████████▉                     | 2.8 MB 11.7 MB/s eta 0:00:01\r",
      "\u001b[K     |███████████                     | 2.8 MB 11.7 MB/s eta 0:00:01\r",
      "\u001b[K     |███████████                     | 2.8 MB 11.7 MB/s eta 0:00:01\r",
      "\u001b[K     |███████████                     | 2.8 MB 11.7 MB/s eta 0:00:01\r",
      "\u001b[K     |███████████                     | 2.8 MB 11.7 MB/s eta 0:00:01\r",
      "\u001b[K     |███████████                     | 2.8 MB 11.7 MB/s eta 0:00:01\r",
      "\u001b[K     |███████████                     | 2.8 MB 11.7 MB/s eta 0:00:01\r",
      "\u001b[K     |███████████▏                    | 2.9 MB 11.7 MB/s eta 0:00:01\r",
      "\u001b[K     |███████████▏                    | 2.9 MB 11.7 MB/s eta 0:00:01\r",
      "\u001b[K     |███████████▏                    | 2.9 MB 11.7 MB/s eta 0:00:01\r",
      "\u001b[K     |███████████▎                    | 2.9 MB 11.7 MB/s eta 0:00:01\r",
      "\u001b[K     |███████████▎                    | 2.9 MB 11.7 MB/s eta 0:00:01\r",
      "\u001b[K     |███████████▎                    | 2.9 MB 11.7 MB/s eta 0:00:01"
     ]
    },
    {
     "name": "stdout",
     "output_type": "stream",
     "text": [
      "\r",
      "\u001b[K     |███████████▍                    | 2.9 MB 11.7 MB/s eta 0:00:01\r",
      "\u001b[K     |███████████▍                    | 2.9 MB 11.7 MB/s eta 0:00:01\r",
      "\u001b[K     |███████████▌                    | 2.9 MB 11.7 MB/s eta 0:00:01\r",
      "\u001b[K     |███████████▌                    | 2.9 MB 11.7 MB/s eta 0:00:01\r",
      "\u001b[K     |███████████▌                    | 3.0 MB 11.7 MB/s eta 0:00:01\r",
      "\u001b[K     |███████████▋                    | 3.0 MB 11.7 MB/s eta 0:00:01\r",
      "\u001b[K     |███████████▋                    | 3.0 MB 11.7 MB/s eta 0:00:01\r",
      "\u001b[K     |███████████▋                    | 3.0 MB 11.7 MB/s eta 0:00:01\r",
      "\u001b[K     |███████████▊                    | 3.0 MB 11.7 MB/s eta 0:00:01\r",
      "\u001b[K     |███████████▊                    | 3.0 MB 11.7 MB/s eta 0:00:01\r",
      "\u001b[K     |███████████▊                    | 3.0 MB 11.7 MB/s eta 0:00:01\r",
      "\u001b[K     |███████████▉                    | 3.0 MB 11.7 MB/s eta 0:00:01\r",
      "\u001b[K     |███████████▉                    | 3.0 MB 11.7 MB/s eta 0:00:01\r",
      "\u001b[K     |████████████                    | 3.1 MB 11.7 MB/s eta 0:00:01\r",
      "\u001b[K     |████████████                    | 3.1 MB 11.7 MB/s eta 0:00:01\r",
      "\u001b[K     |████████████                    | 3.1 MB 11.7 MB/s eta 0:00:01\r",
      "\u001b[K     |████████████                    | 3.1 MB 11.7 MB/s eta 0:00:01\r",
      "\u001b[K     |████████████                    | 3.1 MB 11.7 MB/s eta 0:00:01\r",
      "\u001b[K     |████████████                    | 3.1 MB 11.7 MB/s eta 0:00:01\r",
      "\u001b[K     |████████████▏                   | 3.1 MB 11.7 MB/s eta 0:00:01\r",
      "\u001b[K     |████████████▏                   | 3.1 MB 11.7 MB/s eta 0:00:01\r",
      "\u001b[K     |████████████▏                   | 3.1 MB 11.7 MB/s eta 0:00:01\r",
      "\u001b[K     |████████████▎                   | 3.1 MB 11.7 MB/s eta 0:00:01\r",
      "\u001b[K     |████████████▎                   | 3.2 MB 11.7 MB/s eta 0:00:01\r",
      "\u001b[K     |████████████▎                   | 3.2 MB 11.7 MB/s eta 0:00:01\r",
      "\u001b[K     |████████████▍                   | 3.2 MB 11.7 MB/s eta 0:00:01\r",
      "\u001b[K     |████████████▍                   | 3.2 MB 11.7 MB/s eta 0:00:01\r",
      "\u001b[K     |████████████▌                   | 3.2 MB 11.7 MB/s eta 0:00:01\r",
      "\u001b[K     |████████████▌                   | 3.2 MB 11.7 MB/s eta 0:00:01\r",
      "\u001b[K     |████████████▌                   | 3.2 MB 11.7 MB/s eta 0:00:01\r",
      "\u001b[K     |████████████▋                   | 3.2 MB 11.7 MB/s eta 0:00:01\r",
      "\u001b[K     |████████████▋                   | 3.2 MB 11.7 MB/s eta 0:00:01\r",
      "\u001b[K     |████████████▋                   | 3.2 MB 11.7 MB/s eta 0:00:01\r",
      "\u001b[K     |████████████▊                   | 3.3 MB 11.7 MB/s eta 0:00:01\r",
      "\u001b[K     |████████████▊                   | 3.3 MB 11.7 MB/s eta 0:00:01\r",
      "\u001b[K     |████████████▊                   | 3.3 MB 11.7 MB/s eta 0:00:01\r",
      "\u001b[K     |████████████▉                   | 3.3 MB 11.7 MB/s eta 0:00:01\r",
      "\u001b[K     |████████████▉                   | 3.3 MB 11.7 MB/s eta 0:00:01\r",
      "\u001b[K     |████████████▉                   | 3.3 MB 11.7 MB/s eta 0:00:01\r",
      "\u001b[K     |█████████████                   | 3.3 MB 11.7 MB/s eta 0:00:01\r",
      "\u001b[K     |█████████████                   | 3.3 MB 11.7 MB/s eta 0:00:01\r",
      "\u001b[K     |█████████████                   | 3.3 MB 11.7 MB/s eta 0:00:01\r",
      "\u001b[K     |█████████████                   | 3.3 MB 11.7 MB/s eta 0:00:01\r",
      "\u001b[K     |█████████████                   | 3.4 MB 11.7 MB/s eta 0:00:01\r",
      "\u001b[K     |█████████████▏                  | 3.4 MB 11.7 MB/s eta 0:00:01\r",
      "\u001b[K     |█████████████▏                  | 3.4 MB 11.7 MB/s eta 0:00:01\r",
      "\u001b[K     |█████████████▏                  | 3.4 MB 11.7 MB/s eta 0:00:01\r",
      "\u001b[K     |█████████████▎                  | 3.4 MB 11.7 MB/s eta 0:00:01\r",
      "\u001b[K     |█████████████▎                  | 3.4 MB 11.7 MB/s eta 0:00:01\r",
      "\u001b[K     |█████████████▎                  | 3.4 MB 11.7 MB/s eta 0:00:01\r",
      "\u001b[K     |█████████████▍                  | 3.4 MB 11.7 MB/s eta 0:00:01\r",
      "\u001b[K     |█████████████▍                  | 3.4 MB 11.7 MB/s eta 0:00:01\r",
      "\u001b[K     |█████████████▌                  | 3.5 MB 11.7 MB/s eta 0:00:01\r",
      "\u001b[K     |█████████████▌                  | 3.5 MB 11.7 MB/s eta 0:00:01\r",
      "\u001b[K     |█████████████▌                  | 3.5 MB 11.7 MB/s eta 0:00:01\r",
      "\u001b[K     |█████████████▋                  | 3.5 MB 11.7 MB/s eta 0:00:01\r",
      "\u001b[K     |█████████████▋                  | 3.5 MB 11.7 MB/s eta 0:00:01\r",
      "\u001b[K     |█████████████▋                  | 3.5 MB 11.7 MB/s eta 0:00:01\r",
      "\u001b[K     |█████████████▊                  | 3.5 MB 11.7 MB/s eta 0:00:01\r",
      "\u001b[K     |█████████████▊                  | 3.5 MB 11.7 MB/s eta 0:00:01\r",
      "\u001b[K     |█████████████▊                  | 3.5 MB 11.7 MB/s eta 0:00:01\r",
      "\u001b[K     |█████████████▉                  | 3.5 MB 11.7 MB/s eta 0:00:01\r",
      "\u001b[K     |█████████████▉                  | 3.6 MB 11.7 MB/s eta 0:00:01\r",
      "\u001b[K     |█████████████▉                  | 3.6 MB 11.7 MB/s eta 0:00:01\r",
      "\u001b[K     |██████████████                  | 3.6 MB 11.7 MB/s eta 0:00:01\r",
      "\u001b[K     |██████████████                  | 3.6 MB 11.7 MB/s eta 0:00:01\r",
      "\u001b[K     |██████████████                  | 3.6 MB 11.7 MB/s eta 0:00:01\r",
      "\u001b[K     |██████████████                  | 3.6 MB 11.7 MB/s eta 0:00:01\r",
      "\u001b[K     |██████████████                  | 3.6 MB 11.7 MB/s eta 0:00:01\r",
      "\u001b[K     |██████████████▏                 | 3.6 MB 11.7 MB/s eta 0:00:01\r",
      "\u001b[K     |██████████████▏                 | 3.6 MB 11.7 MB/s eta 0:00:01\r",
      "\u001b[K     |██████████████▏                 | 3.6 MB 11.7 MB/s eta 0:00:01\r",
      "\u001b[K     |██████████████▎                 | 3.7 MB 11.7 MB/s eta 0:00:01\r",
      "\u001b[K     |██████████████▎                 | 3.7 MB 11.7 MB/s eta 0:00:01\r",
      "\u001b[K     |██████████████▎                 | 3.7 MB 11.7 MB/s eta 0:00:01\r",
      "\u001b[K     |██████████████▍                 | 3.7 MB 11.7 MB/s eta 0:00:01\r",
      "\u001b[K     |██████████████▍                 | 3.7 MB 11.7 MB/s eta 0:00:01\r",
      "\u001b[K     |██████████████▍                 | 3.7 MB 11.7 MB/s eta 0:00:01\r",
      "\u001b[K     |██████████████▌                 | 3.7 MB 11.7 MB/s eta 0:00:01\r",
      "\u001b[K     |██████████████▌                 | 3.7 MB 11.7 MB/s eta 0:00:01\r",
      "\u001b[K     |██████████████▋                 | 3.7 MB 11.7 MB/s eta 0:00:01\r",
      "\u001b[K     |██████████████▋                 | 3.7 MB 11.7 MB/s eta 0:00:01\r",
      "\u001b[K     |██████████████▋                 | 3.8 MB 11.7 MB/s eta 0:00:01\r",
      "\u001b[K     |██████████████▊                 | 3.8 MB 11.7 MB/s eta 0:00:01\r",
      "\u001b[K     |██████████████▊                 | 3.8 MB 11.7 MB/s eta 0:00:01\r",
      "\u001b[K     |██████████████▊                 | 3.8 MB 11.7 MB/s eta 0:00:01\r",
      "\u001b[K     |██████████████▉                 | 3.8 MB 11.7 MB/s eta 0:00:01\r",
      "\u001b[K     |██████████████▉                 | 3.8 MB 11.7 MB/s eta 0:00:01\r",
      "\u001b[K     |██████████████▉                 | 3.8 MB 11.7 MB/s eta 0:00:01\r",
      "\u001b[K     |███████████████                 | 3.8 MB 11.7 MB/s eta 0:00:01\r",
      "\u001b[K     |███████████████                 | 3.8 MB 11.7 MB/s eta 0:00:01\r",
      "\u001b[K     |███████████████                 | 3.9 MB 11.7 MB/s eta 0:00:01\r",
      "\u001b[K     |███████████████                 | 3.9 MB 11.7 MB/s eta 0:00:01\r",
      "\u001b[K     |███████████████                 | 3.9 MB 11.7 MB/s eta 0:00:01\r",
      "\u001b[K     |███████████████▏                | 3.9 MB 11.7 MB/s eta 0:00:01\r",
      "\u001b[K     |███████████████▏                | 3.9 MB 11.7 MB/s eta 0:00:01\r",
      "\u001b[K     |███████████████▏                | 3.9 MB 11.7 MB/s eta 0:00:01\r",
      "\u001b[K     |███████████████▎                | 3.9 MB 11.7 MB/s eta 0:00:01\r",
      "\u001b[K     |███████████████▎                | 3.9 MB 11.7 MB/s eta 0:00:01\r",
      "\u001b[K     |███████████████▎                | 3.9 MB 11.7 MB/s eta 0:00:01\r",
      "\u001b[K     |███████████████▍                | 3.9 MB 11.7 MB/s eta 0:00:01\r",
      "\u001b[K     |███████████████▍                | 4.0 MB 11.7 MB/s eta 0:00:01\r",
      "\u001b[K     |███████████████▍                | 4.0 MB 11.7 MB/s eta 0:00:01\r",
      "\u001b[K     |███████████████▌                | 4.0 MB 11.7 MB/s eta 0:00:01\r",
      "\u001b[K     |███████████████▌                | 4.0 MB 11.7 MB/s eta 0:00:01\r",
      "\u001b[K     |███████████████▋                | 4.0 MB 11.7 MB/s eta 0:00:01\r",
      "\u001b[K     |███████████████▋                | 4.0 MB 11.7 MB/s eta 0:00:01\r",
      "\u001b[K     |███████████████▋                | 4.0 MB 11.7 MB/s eta 0:00:01\r",
      "\u001b[K     |███████████████▊                | 4.0 MB 11.7 MB/s eta 0:00:01\r",
      "\u001b[K     |███████████████▊                | 4.0 MB 11.7 MB/s eta 0:00:01\r",
      "\u001b[K     |███████████████▊                | 4.0 MB 11.7 MB/s eta 0:00:01\r",
      "\u001b[K     |███████████████▉                | 4.1 MB 11.7 MB/s eta 0:00:01\r",
      "\u001b[K     |███████████████▉                | 4.1 MB 11.7 MB/s eta 0:00:01\r",
      "\u001b[K     |███████████████▉                | 4.1 MB 11.7 MB/s eta 0:00:01\r",
      "\u001b[K     |████████████████                | 4.1 MB 11.7 MB/s eta 0:00:01\r",
      "\u001b[K     |████████████████                | 4.1 MB 11.7 MB/s eta 0:00:01\r",
      "\u001b[K     |████████████████                | 4.1 MB 11.7 MB/s eta 0:00:01\r",
      "\u001b[K     |████████████████                | 4.1 MB 11.7 MB/s eta 0:00:01"
     ]
    },
    {
     "name": "stdout",
     "output_type": "stream",
     "text": [
      "\r",
      "\u001b[K     |████████████████                | 4.1 MB 11.7 MB/s eta 0:00:01\r",
      "\u001b[K     |████████████████▏               | 4.1 MB 11.7 MB/s eta 0:00:01\r",
      "\u001b[K     |████████████████▏               | 4.1 MB 11.7 MB/s eta 0:00:01\r",
      "\u001b[K     |████████████████▏               | 4.2 MB 11.7 MB/s eta 0:00:01\r",
      "\u001b[K     |████████████████▎               | 4.2 MB 11.7 MB/s eta 0:00:01\r",
      "\u001b[K     |████████████████▎               | 4.2 MB 11.7 MB/s eta 0:00:01\r",
      "\u001b[K     |████████████████▎               | 4.2 MB 11.7 MB/s eta 0:00:01\r",
      "\u001b[K     |████████████████▍               | 4.2 MB 11.7 MB/s eta 0:00:01\r",
      "\u001b[K     |████████████████▍               | 4.2 MB 11.7 MB/s eta 0:00:01\r",
      "\u001b[K     |████████████████▍               | 4.2 MB 11.7 MB/s eta 0:00:01\r",
      "\u001b[K     |████████████████▌               | 4.2 MB 11.7 MB/s eta 0:00:01\r",
      "\u001b[K     |████████████████▌               | 4.2 MB 11.7 MB/s eta 0:00:01\r",
      "\u001b[K     |████████████████▋               | 4.2 MB 11.7 MB/s eta 0:00:01\r",
      "\u001b[K     |████████████████▋               | 4.3 MB 11.7 MB/s eta 0:00:01\r",
      "\u001b[K     |████████████████▋               | 4.3 MB 11.7 MB/s eta 0:00:01\r",
      "\u001b[K     |████████████████▊               | 4.3 MB 11.7 MB/s eta 0:00:01\r",
      "\u001b[K     |████████████████▊               | 4.3 MB 11.7 MB/s eta 0:00:01\r",
      "\u001b[K     |████████████████▊               | 4.3 MB 11.7 MB/s eta 0:00:01\r",
      "\u001b[K     |████████████████▉               | 4.3 MB 11.7 MB/s eta 0:00:01\r",
      "\u001b[K     |████████████████▉               | 4.3 MB 11.7 MB/s eta 0:00:01\r",
      "\u001b[K     |████████████████▉               | 4.3 MB 11.7 MB/s eta 0:00:01\r",
      "\u001b[K     |█████████████████               | 4.3 MB 11.7 MB/s eta 0:00:01\r",
      "\u001b[K     |█████████████████               | 4.4 MB 11.7 MB/s eta 0:00:01\r",
      "\u001b[K     |█████████████████               | 4.4 MB 11.7 MB/s eta 0:00:01\r",
      "\u001b[K     |█████████████████               | 4.4 MB 11.7 MB/s eta 0:00:01\r",
      "\u001b[K     |█████████████████               | 4.4 MB 11.7 MB/s eta 0:00:01\r",
      "\u001b[K     |█████████████████▏              | 4.4 MB 11.7 MB/s eta 0:00:01\r",
      "\u001b[K     |█████████████████▏              | 4.4 MB 11.7 MB/s eta 0:00:01\r",
      "\u001b[K     |█████████████████▏              | 4.4 MB 11.7 MB/s eta 0:00:01\r",
      "\u001b[K     |█████████████████▎              | 4.4 MB 11.7 MB/s eta 0:00:01\r",
      "\u001b[K     |█████████████████▎              | 4.4 MB 11.7 MB/s eta 0:00:01\r",
      "\u001b[K     |█████████████████▎              | 4.4 MB 11.7 MB/s eta 0:00:01\r",
      "\u001b[K     |█████████████████▍              | 4.5 MB 11.7 MB/s eta 0:00:01\r",
      "\u001b[K     |█████████████████▍              | 4.5 MB 11.7 MB/s eta 0:00:01\r",
      "\u001b[K     |█████████████████▍              | 4.5 MB 11.7 MB/s eta 0:00:01\r",
      "\u001b[K     |█████████████████▌              | 4.5 MB 11.7 MB/s eta 0:00:01\r",
      "\u001b[K     |█████████████████▌              | 4.5 MB 11.7 MB/s eta 0:00:01\r",
      "\u001b[K     |█████████████████▋              | 4.5 MB 11.7 MB/s eta 0:00:01\r",
      "\u001b[K     |█████████████████▋              | 4.5 MB 11.7 MB/s eta 0:00:01\r",
      "\u001b[K     |█████████████████▋              | 4.5 MB 11.7 MB/s eta 0:00:01\r",
      "\u001b[K     |█████████████████▊              | 4.5 MB 11.7 MB/s eta 0:00:01\r",
      "\u001b[K     |█████████████████▊              | 4.5 MB 11.7 MB/s eta 0:00:01\r",
      "\u001b[K     |█████████████████▊              | 4.6 MB 11.7 MB/s eta 0:00:01\r",
      "\u001b[K     |█████████████████▉              | 4.6 MB 11.7 MB/s eta 0:00:01\r",
      "\u001b[K     |█████████████████▉              | 4.6 MB 11.7 MB/s eta 0:00:01\r",
      "\u001b[K     |█████████████████▉              | 4.6 MB 11.7 MB/s eta 0:00:01\r",
      "\u001b[K     |██████████████████              | 4.6 MB 11.7 MB/s eta 0:00:01\r",
      "\u001b[K     |██████████████████              | 4.6 MB 11.7 MB/s eta 0:00:01\r",
      "\u001b[K     |██████████████████              | 4.6 MB 11.7 MB/s eta 0:00:01\r",
      "\u001b[K     |██████████████████              | 4.6 MB 11.7 MB/s eta 0:00:01\r",
      "\u001b[K     |██████████████████              | 4.6 MB 11.7 MB/s eta 0:00:01\r",
      "\u001b[K     |██████████████████▏             | 4.6 MB 11.7 MB/s eta 0:00:01\r",
      "\u001b[K     |██████████████████▏             | 4.7 MB 11.7 MB/s eta 0:00:01\r",
      "\u001b[K     |██████████████████▏             | 4.7 MB 11.7 MB/s eta 0:00:01\r",
      "\u001b[K     |██████████████████▎             | 4.7 MB 11.7 MB/s eta 0:00:01\r",
      "\u001b[K     |██████████████████▎             | 4.7 MB 11.7 MB/s eta 0:00:01\r",
      "\u001b[K     |██████████████████▎             | 4.7 MB 11.7 MB/s eta 0:00:01\r",
      "\u001b[K     |██████████████████▍             | 4.7 MB 11.7 MB/s eta 0:00:01\r",
      "\u001b[K     |██████████████████▍             | 4.7 MB 11.7 MB/s eta 0:00:01\r",
      "\u001b[K     |██████████████████▍             | 4.7 MB 11.7 MB/s eta 0:00:01\r",
      "\u001b[K     |██████████████████▌             | 4.7 MB 11.7 MB/s eta 0:00:01\r",
      "\u001b[K     |██████████████████▌             | 4.8 MB 11.7 MB/s eta 0:00:01\r",
      "\u001b[K     |██████████████████▌             | 4.8 MB 11.7 MB/s eta 0:00:01\r",
      "\u001b[K     |██████████████████▋             | 4.8 MB 11.7 MB/s eta 0:00:01\r",
      "\u001b[K     |██████████████████▋             | 4.8 MB 11.7 MB/s eta 0:00:01\r",
      "\u001b[K     |██████████████████▊             | 4.8 MB 11.7 MB/s eta 0:00:01\r",
      "\u001b[K     |██████████████████▊             | 4.8 MB 11.7 MB/s eta 0:00:01\r",
      "\u001b[K     |██████████████████▊             | 4.8 MB 11.7 MB/s eta 0:00:01\r",
      "\u001b[K     |██████████████████▉             | 4.8 MB 11.7 MB/s eta 0:00:01\r",
      "\u001b[K     |██████████████████▉             | 4.8 MB 11.7 MB/s eta 0:00:01\r",
      "\u001b[K     |██████████████████▉             | 4.8 MB 11.7 MB/s eta 0:00:01\r",
      "\u001b[K     |███████████████████             | 4.9 MB 11.7 MB/s eta 0:00:01\r",
      "\u001b[K     |███████████████████             | 4.9 MB 11.7 MB/s eta 0:00:01\r",
      "\u001b[K     |███████████████████             | 4.9 MB 11.7 MB/s eta 0:00:01\r",
      "\u001b[K     |███████████████████             | 4.9 MB 11.7 MB/s eta 0:00:01\r",
      "\u001b[K     |███████████████████             | 4.9 MB 11.7 MB/s eta 0:00:01\r",
      "\u001b[K     |███████████████████▏            | 4.9 MB 11.7 MB/s eta 0:00:01\r",
      "\u001b[K     |███████████████████▏            | 4.9 MB 11.7 MB/s eta 0:00:01\r",
      "\u001b[K     |███████████████████▏            | 4.9 MB 11.7 MB/s eta 0:00:01\r",
      "\u001b[K     |███████████████████▎            | 4.9 MB 11.7 MB/s eta 0:00:01\r",
      "\u001b[K     |███████████████████▎            | 4.9 MB 11.7 MB/s eta 0:00:01\r",
      "\u001b[K     |███████████████████▎            | 5.0 MB 11.7 MB/s eta 0:00:01\r",
      "\u001b[K     |███████████████████▍            | 5.0 MB 11.7 MB/s eta 0:00:01\r",
      "\u001b[K     |███████████████████▍            | 5.0 MB 11.7 MB/s eta 0:00:01\r",
      "\u001b[K     |███████████████████▍            | 5.0 MB 11.7 MB/s eta 0:00:01\r",
      "\u001b[K     |███████████████████▌            | 5.0 MB 11.7 MB/s eta 0:00:01\r",
      "\u001b[K     |███████████████████▌            | 5.0 MB 11.7 MB/s eta 0:00:01\r",
      "\u001b[K     |███████████████████▌            | 5.0 MB 11.7 MB/s eta 0:00:01\r",
      "\u001b[K     |███████████████████▋            | 5.0 MB 11.7 MB/s eta 0:00:01\r",
      "\u001b[K     |███████████████████▋            | 5.0 MB 11.7 MB/s eta 0:00:01\r",
      "\u001b[K     |███████████████████▊            | 5.0 MB 11.7 MB/s eta 0:00:01\r",
      "\u001b[K     |███████████████████▊            | 5.1 MB 11.7 MB/s eta 0:00:01\r",
      "\u001b[K     |███████████████████▊            | 5.1 MB 11.7 MB/s eta 0:00:01\r",
      "\u001b[K     |███████████████████▉            | 5.1 MB 11.7 MB/s eta 0:00:01\r",
      "\u001b[K     |███████████████████▉            | 5.1 MB 11.7 MB/s eta 0:00:01\r",
      "\u001b[K     |███████████████████▉            | 5.1 MB 11.7 MB/s eta 0:00:01\r",
      "\u001b[K     |████████████████████            | 5.1 MB 11.7 MB/s eta 0:00:01\r",
      "\u001b[K     |████████████████████            | 5.1 MB 11.7 MB/s eta 0:00:01\r",
      "\u001b[K     |████████████████████            | 5.1 MB 11.7 MB/s eta 0:00:01\r",
      "\u001b[K     |████████████████████            | 5.1 MB 11.7 MB/s eta 0:00:01\r",
      "\u001b[K     |████████████████████            | 5.2 MB 11.7 MB/s eta 0:00:01\r",
      "\u001b[K     |████████████████████            | 5.2 MB 11.7 MB/s eta 0:00:01\r",
      "\u001b[K     |████████████████████▏           | 5.2 MB 11.7 MB/s eta 0:00:01\r",
      "\u001b[K     |████████████████████▏           | 5.2 MB 11.7 MB/s eta 0:00:01\r",
      "\u001b[K     |████████████████████▎           | 5.2 MB 11.7 MB/s eta 0:00:01\r",
      "\u001b[K     |████████████████████▎           | 5.2 MB 11.7 MB/s eta 0:00:01\r",
      "\u001b[K     |████████████████████▎           | 5.2 MB 11.7 MB/s eta 0:00:01\r",
      "\u001b[K     |████████████████████▍           | 5.2 MB 11.7 MB/s eta 0:00:01\r",
      "\u001b[K     |████████████████████▍           | 5.2 MB 11.7 MB/s eta 0:00:01\r",
      "\u001b[K     |████████████████████▍           | 5.2 MB 11.7 MB/s eta 0:00:01\r",
      "\u001b[K     |████████████████████▌           | 5.3 MB 11.7 MB/s eta 0:00:01\r",
      "\u001b[K     |████████████████████▌           | 5.3 MB 11.7 MB/s eta 0:00:01\r",
      "\u001b[K     |████████████████████▌           | 5.3 MB 11.7 MB/s eta 0:00:01\r",
      "\u001b[K     |████████████████████▋           | 5.3 MB 11.7 MB/s eta 0:00:01\r",
      "\u001b[K     |████████████████████▋           | 5.3 MB 11.7 MB/s eta 0:00:01\r",
      "\u001b[K     |████████████████████▊           | 5.3 MB 11.7 MB/s eta 0:00:01\r",
      "\u001b[K     |████████████████████▊           | 5.3 MB 11.7 MB/s eta 0:00:01\r",
      "\u001b[K     |████████████████████▊           | 5.3 MB 11.7 MB/s eta 0:00:01"
     ]
    },
    {
     "name": "stdout",
     "output_type": "stream",
     "text": [
      "\r",
      "\u001b[K     |████████████████████▉           | 5.3 MB 11.7 MB/s eta 0:00:01\r",
      "\u001b[K     |████████████████████▉           | 5.3 MB 11.7 MB/s eta 0:00:01\r",
      "\u001b[K     |████████████████████▉           | 5.4 MB 11.7 MB/s eta 0:00:01\r",
      "\u001b[K     |█████████████████████           | 5.4 MB 11.7 MB/s eta 0:00:01\r",
      "\u001b[K     |█████████████████████           | 5.4 MB 11.7 MB/s eta 0:00:01\r",
      "\u001b[K     |█████████████████████           | 5.4 MB 11.7 MB/s eta 0:00:01\r",
      "\u001b[K     |█████████████████████           | 5.4 MB 11.7 MB/s eta 0:00:01\r",
      "\u001b[K     |█████████████████████           | 5.4 MB 11.7 MB/s eta 0:00:01\r",
      "\u001b[K     |█████████████████████           | 5.4 MB 11.7 MB/s eta 0:00:01\r",
      "\u001b[K     |█████████████████████▏          | 5.4 MB 11.7 MB/s eta 0:00:01\r",
      "\u001b[K     |█████████████████████▏          | 5.4 MB 11.7 MB/s eta 0:00:01\r",
      "\u001b[K     |█████████████████████▎          | 5.4 MB 11.7 MB/s eta 0:00:01\r",
      "\u001b[K     |█████████████████████▎          | 5.5 MB 11.7 MB/s eta 0:00:01\r",
      "\u001b[K     |█████████████████████▎          | 5.5 MB 11.7 MB/s eta 0:00:01\r",
      "\u001b[K     |█████████████████████▍          | 5.5 MB 11.7 MB/s eta 0:00:01\r",
      "\u001b[K     |█████████████████████▍          | 5.5 MB 11.7 MB/s eta 0:00:01\r",
      "\u001b[K     |█████████████████████▍          | 5.5 MB 11.7 MB/s eta 0:00:01\r",
      "\u001b[K     |█████████████████████▌          | 5.5 MB 11.7 MB/s eta 0:00:01\r",
      "\u001b[K     |█████████████████████▌          | 5.5 MB 11.7 MB/s eta 0:00:01\r",
      "\u001b[K     |█████████████████████▌          | 5.5 MB 11.7 MB/s eta 0:00:01\r",
      "\u001b[K     |█████████████████████▋          | 5.5 MB 11.7 MB/s eta 0:00:01\r",
      "\u001b[K     |█████████████████████▋          | 5.6 MB 11.7 MB/s eta 0:00:01\r",
      "\u001b[K     |█████████████████████▋          | 5.6 MB 11.7 MB/s eta 0:00:01\r",
      "\u001b[K     |█████████████████████▊          | 5.6 MB 11.7 MB/s eta 0:00:01\r",
      "\u001b[K     |█████████████████████▊          | 5.6 MB 11.7 MB/s eta 0:00:01\r",
      "\u001b[K     |█████████████████████▉          | 5.6 MB 11.7 MB/s eta 0:00:01\r",
      "\u001b[K     |█████████████████████▉          | 5.6 MB 11.7 MB/s eta 0:00:01\r",
      "\u001b[K     |█████████████████████▉          | 5.6 MB 11.7 MB/s eta 0:00:01\r",
      "\u001b[K     |██████████████████████          | 5.6 MB 11.7 MB/s eta 0:00:01\r",
      "\u001b[K     |██████████████████████          | 5.6 MB 11.7 MB/s eta 0:00:01\r",
      "\u001b[K     |██████████████████████          | 5.6 MB 11.7 MB/s eta 0:00:01\r",
      "\u001b[K     |██████████████████████          | 5.7 MB 11.7 MB/s eta 0:00:01\r",
      "\u001b[K     |██████████████████████          | 5.7 MB 11.7 MB/s eta 0:00:01\r",
      "\u001b[K     |██████████████████████          | 5.7 MB 11.7 MB/s eta 0:00:01\r",
      "\u001b[K     |██████████████████████▏         | 5.7 MB 11.7 MB/s eta 0:00:01\r",
      "\u001b[K     |██████████████████████▏         | 5.7 MB 11.7 MB/s eta 0:00:01\r",
      "\u001b[K     |██████████████████████▎         | 5.7 MB 11.7 MB/s eta 0:00:01\r",
      "\u001b[K     |██████████████████████▎         | 5.7 MB 11.7 MB/s eta 0:00:01\r",
      "\u001b[K     |██████████████████████▎         | 5.7 MB 11.7 MB/s eta 0:00:01\r",
      "\u001b[K     |██████████████████████▍         | 5.7 MB 11.7 MB/s eta 0:00:01\r",
      "\u001b[K     |██████████████████████▍         | 5.7 MB 11.7 MB/s eta 0:00:01\r",
      "\u001b[K     |██████████████████████▍         | 5.8 MB 11.7 MB/s eta 0:00:01\r",
      "\u001b[K     |██████████████████████▌         | 5.8 MB 11.7 MB/s eta 0:00:01\r",
      "\u001b[K     |██████████████████████▌         | 5.8 MB 11.7 MB/s eta 0:00:01\r",
      "\u001b[K     |██████████████████████▌         | 5.8 MB 11.7 MB/s eta 0:00:01\r",
      "\u001b[K     |██████████████████████▋         | 5.8 MB 11.7 MB/s eta 0:00:01\r",
      "\u001b[K     |██████████████████████▋         | 5.8 MB 11.7 MB/s eta 0:00:01\r",
      "\u001b[K     |██████████████████████▋         | 5.8 MB 11.7 MB/s eta 0:00:01\r",
      "\u001b[K     |██████████████████████▊         | 5.8 MB 11.7 MB/s eta 0:00:01\r",
      "\u001b[K     |██████████████████████▊         | 5.8 MB 11.7 MB/s eta 0:00:01\r",
      "\u001b[K     |██████████████████████▉         | 5.8 MB 11.7 MB/s eta 0:00:01\r",
      "\u001b[K     |██████████████████████▉         | 5.9 MB 11.7 MB/s eta 0:00:01\r",
      "\u001b[K     |██████████████████████▉         | 5.9 MB 11.7 MB/s eta 0:00:01\r",
      "\u001b[K     |███████████████████████         | 5.9 MB 11.7 MB/s eta 0:00:01\r",
      "\u001b[K     |███████████████████████         | 5.9 MB 11.7 MB/s eta 0:00:01\r",
      "\u001b[K     |███████████████████████         | 5.9 MB 11.7 MB/s eta 0:00:01\r",
      "\u001b[K     |███████████████████████         | 5.9 MB 11.7 MB/s eta 0:00:01\r",
      "\u001b[K     |███████████████████████         | 5.9 MB 11.7 MB/s eta 0:00:01\r",
      "\u001b[K     |███████████████████████         | 5.9 MB 11.7 MB/s eta 0:00:01\r",
      "\u001b[K     |███████████████████████▏        | 5.9 MB 11.7 MB/s eta 0:00:01\r",
      "\u001b[K     |███████████████████████▏        | 5.9 MB 11.7 MB/s eta 0:00:01\r",
      "\u001b[K     |███████████████████████▏        | 6.0 MB 11.7 MB/s eta 0:00:01\r",
      "\u001b[K     |███████████████████████▎        | 6.0 MB 11.7 MB/s eta 0:00:01\r",
      "\u001b[K     |███████████████████████▎        | 6.0 MB 11.7 MB/s eta 0:00:01\r",
      "\u001b[K     |███████████████████████▍        | 6.0 MB 11.7 MB/s eta 0:00:01\r",
      "\u001b[K     |███████████████████████▍        | 6.0 MB 11.7 MB/s eta 0:00:01\r",
      "\u001b[K     |███████████████████████▍        | 6.0 MB 11.7 MB/s eta 0:00:01\r",
      "\u001b[K     |███████████████████████▌        | 6.0 MB 11.7 MB/s eta 0:00:01\r",
      "\u001b[K     |███████████████████████▌        | 6.0 MB 11.7 MB/s eta 0:00:01\r",
      "\u001b[K     |███████████████████████▌        | 6.0 MB 11.7 MB/s eta 0:00:01\r",
      "\u001b[K     |███████████████████████▋        | 6.1 MB 11.7 MB/s eta 0:00:01\r",
      "\u001b[K     |███████████████████████▋        | 6.1 MB 11.7 MB/s eta 0:00:01\r",
      "\u001b[K     |███████████████████████▋        | 6.1 MB 11.7 MB/s eta 0:00:01\r",
      "\u001b[K     |███████████████████████▊        | 6.1 MB 11.7 MB/s eta 0:00:01\r",
      "\u001b[K     |███████████████████████▊        | 6.1 MB 11.7 MB/s eta 0:00:01\r",
      "\u001b[K     |███████████████████████▉        | 6.1 MB 11.7 MB/s eta 0:00:01\r",
      "\u001b[K     |███████████████████████▉        | 6.1 MB 11.7 MB/s eta 0:00:01\r",
      "\u001b[K     |███████████████████████▉        | 6.1 MB 11.7 MB/s eta 0:00:01\r",
      "\u001b[K     |████████████████████████        | 6.1 MB 11.7 MB/s eta 0:00:01\r",
      "\u001b[K     |████████████████████████        | 6.1 MB 11.7 MB/s eta 0:00:01\r",
      "\u001b[K     |████████████████████████        | 6.2 MB 11.7 MB/s eta 0:00:01\r",
      "\u001b[K     |████████████████████████        | 6.2 MB 11.7 MB/s eta 0:00:01\r",
      "\u001b[K     |████████████████████████        | 6.2 MB 11.7 MB/s eta 0:00:01\r",
      "\u001b[K     |████████████████████████        | 6.2 MB 11.7 MB/s eta 0:00:01\r",
      "\u001b[K     |████████████████████████▏       | 6.2 MB 11.7 MB/s eta 0:00:01\r",
      "\u001b[K     |████████████████████████▏       | 6.2 MB 11.7 MB/s eta 0:00:01\r",
      "\u001b[K     |████████████████████████▏       | 6.2 MB 11.7 MB/s eta 0:00:01\r",
      "\u001b[K     |████████████████████████▎       | 6.2 MB 11.7 MB/s eta 0:00:01\r",
      "\u001b[K     |████████████████████████▎       | 6.2 MB 11.7 MB/s eta 0:00:01\r",
      "\u001b[K     |████████████████████████▍       | 6.2 MB 11.7 MB/s eta 0:00:01\r",
      "\u001b[K     |████████████████████████▍       | 6.3 MB 11.7 MB/s eta 0:00:01\r",
      "\u001b[K     |████████████████████████▍       | 6.3 MB 11.7 MB/s eta 0:00:01\r",
      "\u001b[K     |████████████████████████▌       | 6.3 MB 11.7 MB/s eta 0:00:01\r",
      "\u001b[K     |████████████████████████▌       | 6.3 MB 11.7 MB/s eta 0:00:01\r",
      "\u001b[K     |████████████████████████▌       | 6.3 MB 11.7 MB/s eta 0:00:01\r",
      "\u001b[K     |████████████████████████▋       | 6.3 MB 11.7 MB/s eta 0:00:01\r",
      "\u001b[K     |████████████████████████▋       | 6.3 MB 11.7 MB/s eta 0:00:01\r",
      "\u001b[K     |████████████████████████▋       | 6.3 MB 11.7 MB/s eta 0:00:01\r",
      "\u001b[K     |████████████████████████▊       | 6.3 MB 11.7 MB/s eta 0:00:01\r",
      "\u001b[K     |████████████████████████▊       | 6.3 MB 11.7 MB/s eta 0:00:01"
     ]
    },
    {
     "name": "stdout",
     "output_type": "stream",
     "text": [
      "\r",
      "\u001b[K     |████████████████████████▉       | 6.4 MB 11.7 MB/s eta 0:00:01\r",
      "\u001b[K     |████████████████████████▉       | 6.4 MB 11.7 MB/s eta 0:00:01\r",
      "\u001b[K     |████████████████████████▉       | 6.4 MB 11.7 MB/s eta 0:00:01\r",
      "\u001b[K     |█████████████████████████       | 6.4 MB 11.7 MB/s eta 0:00:01\r",
      "\u001b[K     |█████████████████████████       | 6.4 MB 11.7 MB/s eta 0:00:01\r",
      "\u001b[K     |█████████████████████████       | 6.4 MB 11.7 MB/s eta 0:00:01\r",
      "\u001b[K     |█████████████████████████       | 6.4 MB 11.7 MB/s eta 0:00:01\r",
      "\u001b[K     |█████████████████████████       | 6.4 MB 11.7 MB/s eta 0:00:01\r",
      "\u001b[K     |█████████████████████████       | 6.4 MB 11.7 MB/s eta 0:00:01\r",
      "\u001b[K     |█████████████████████████▏      | 6.5 MB 11.7 MB/s eta 0:00:01\r",
      "\u001b[K     |█████████████████████████▏      | 6.5 MB 11.7 MB/s eta 0:00:01\r",
      "\u001b[K     |█████████████████████████▏      | 6.5 MB 11.7 MB/s eta 0:00:01\r",
      "\u001b[K     |█████████████████████████▎      | 6.5 MB 11.7 MB/s eta 0:00:01\r",
      "\u001b[K     |█████████████████████████▎      | 6.5 MB 11.7 MB/s eta 0:00:01\r",
      "\u001b[K     |█████████████████████████▍      | 6.5 MB 11.7 MB/s eta 0:00:01\r",
      "\u001b[K     |█████████████████████████▍      | 6.5 MB 11.7 MB/s eta 0:00:01\r",
      "\u001b[K     |█████████████████████████▍      | 6.5 MB 11.7 MB/s eta 0:00:01\r",
      "\u001b[K     |█████████████████████████▌      | 6.5 MB 11.7 MB/s eta 0:00:01\r",
      "\u001b[K     |█████████████████████████▌      | 6.5 MB 11.7 MB/s eta 0:00:01\r",
      "\u001b[K     |█████████████████████████▌      | 6.6 MB 11.7 MB/s eta 0:00:01\r",
      "\u001b[K     |█████████████████████████▋      | 6.6 MB 11.7 MB/s eta 0:00:01\r",
      "\u001b[K     |█████████████████████████▋      | 6.6 MB 11.7 MB/s eta 0:00:01\r",
      "\u001b[K     |█████████████████████████▋      | 6.6 MB 11.7 MB/s eta 0:00:01\r",
      "\u001b[K     |█████████████████████████▊      | 6.6 MB 11.7 MB/s eta 0:00:01\r",
      "\u001b[K     |█████████████████████████▊      | 6.6 MB 11.7 MB/s eta 0:00:01\r",
      "\u001b[K     |█████████████████████████▊      | 6.6 MB 11.7 MB/s eta 0:00:01\r",
      "\u001b[K     |█████████████████████████▉      | 6.6 MB 11.7 MB/s eta 0:00:01\r",
      "\u001b[K     |█████████████████████████▉      | 6.6 MB 11.7 MB/s eta 0:00:01\r",
      "\u001b[K     |██████████████████████████      | 6.6 MB 11.7 MB/s eta 0:00:01\r",
      "\u001b[K     |██████████████████████████      | 6.7 MB 11.7 MB/s eta 0:00:01\r",
      "\u001b[K     |██████████████████████████      | 6.7 MB 11.7 MB/s eta 0:00:01\r",
      "\u001b[K     |██████████████████████████      | 6.7 MB 11.7 MB/s eta 0:00:01\r",
      "\u001b[K     |██████████████████████████      | 6.7 MB 11.7 MB/s eta 0:00:01\r",
      "\u001b[K     |██████████████████████████      | 6.7 MB 11.7 MB/s eta 0:00:01\r",
      "\u001b[K     |██████████████████████████▏     | 6.7 MB 11.7 MB/s eta 0:00:01\r",
      "\u001b[K     |██████████████████████████▏     | 6.7 MB 11.7 MB/s eta 0:00:01\r",
      "\u001b[K     |██████████████████████████▏     | 6.7 MB 11.7 MB/s eta 0:00:01\r",
      "\u001b[K     |██████████████████████████▎     | 6.7 MB 11.7 MB/s eta 0:00:01\r",
      "\u001b[K     |██████████████████████████▎     | 6.7 MB 11.7 MB/s eta 0:00:01\r",
      "\u001b[K     |██████████████████████████▍     | 6.8 MB 11.7 MB/s eta 0:00:01\r",
      "\u001b[K     |██████████████████████████▍     | 6.8 MB 11.7 MB/s eta 0:00:01\r",
      "\u001b[K     |██████████████████████████▍     | 6.8 MB 11.7 MB/s eta 0:00:01\r",
      "\u001b[K     |██████████████████████████▌     | 6.8 MB 11.7 MB/s eta 0:00:01\r",
      "\u001b[K     |██████████████████████████▌     | 6.8 MB 11.7 MB/s eta 0:00:01\r",
      "\u001b[K     |██████████████████████████▌     | 6.8 MB 11.7 MB/s eta 0:00:01\r",
      "\u001b[K     |██████████████████████████▋     | 6.8 MB 11.7 MB/s eta 0:00:01\r",
      "\u001b[K     |██████████████████████████▋     | 6.8 MB 11.7 MB/s eta 0:00:01\r",
      "\u001b[K     |██████████████████████████▋     | 6.8 MB 11.7 MB/s eta 0:00:01\r",
      "\u001b[K     |██████████████████████████▊     | 6.9 MB 11.7 MB/s eta 0:00:01\r",
      "\u001b[K     |██████████████████████████▊     | 6.9 MB 11.7 MB/s eta 0:00:01\r",
      "\u001b[K     |██████████████████████████▊     | 6.9 MB 11.7 MB/s eta 0:00:01\r",
      "\u001b[K     |██████████████████████████▉     | 6.9 MB 11.7 MB/s eta 0:00:01\r",
      "\u001b[K     |██████████████████████████▉     | 6.9 MB 11.7 MB/s eta 0:00:01\r",
      "\u001b[K     |███████████████████████████     | 6.9 MB 11.7 MB/s eta 0:00:01\r",
      "\u001b[K     |███████████████████████████     | 6.9 MB 11.7 MB/s eta 0:00:01\r",
      "\u001b[K     |███████████████████████████     | 6.9 MB 11.7 MB/s eta 0:00:01\r",
      "\u001b[K     |███████████████████████████     | 6.9 MB 11.7 MB/s eta 0:00:01\r",
      "\u001b[K     |███████████████████████████     | 6.9 MB 11.7 MB/s eta 0:00:01\r",
      "\u001b[K     |███████████████████████████     | 7.0 MB 11.7 MB/s eta 0:00:01\r",
      "\u001b[K     |███████████████████████████▏    | 7.0 MB 11.7 MB/s eta 0:00:01\r",
      "\u001b[K     |███████████████████████████▏    | 7.0 MB 11.7 MB/s eta 0:00:01\r",
      "\u001b[K     |███████████████████████████▏    | 7.0 MB 11.7 MB/s eta 0:00:01\r",
      "\u001b[K     |███████████████████████████▎    | 7.0 MB 11.7 MB/s eta 0:00:01\r",
      "\u001b[K     |███████████████████████████▎    | 7.0 MB 11.7 MB/s eta 0:00:01\r",
      "\u001b[K     |███████████████████████████▎    | 7.0 MB 11.7 MB/s eta 0:00:01\r",
      "\u001b[K     |███████████████████████████▍    | 7.0 MB 11.7 MB/s eta 0:00:01\r",
      "\u001b[K     |███████████████████████████▍    | 7.0 MB 11.7 MB/s eta 0:00:01\r",
      "\u001b[K     |███████████████████████████▌    | 7.0 MB 11.7 MB/s eta 0:00:01\r",
      "\u001b[K     |███████████████████████████▌    | 7.1 MB 11.7 MB/s eta 0:00:01\r",
      "\u001b[K     |███████████████████████████▌    | 7.1 MB 11.7 MB/s eta 0:00:01\r",
      "\u001b[K     |███████████████████████████▋    | 7.1 MB 11.7 MB/s eta 0:00:01\r",
      "\u001b[K     |███████████████████████████▋    | 7.1 MB 11.7 MB/s eta 0:00:01\r",
      "\u001b[K     |███████████████████████████▋    | 7.1 MB 11.7 MB/s eta 0:00:01\r",
      "\u001b[K     |███████████████████████████▊    | 7.1 MB 11.7 MB/s eta 0:00:01\r",
      "\u001b[K     |███████████████████████████▊    | 7.1 MB 11.7 MB/s eta 0:00:01\r",
      "\u001b[K     |███████████████████████████▊    | 7.1 MB 11.7 MB/s eta 0:00:01\r",
      "\u001b[K     |███████████████████████████▉    | 7.1 MB 11.7 MB/s eta 0:00:01\r",
      "\u001b[K     |███████████████████████████▉    | 7.1 MB 11.7 MB/s eta 0:00:01\r",
      "\u001b[K     |████████████████████████████    | 7.2 MB 11.7 MB/s eta 0:00:01\r",
      "\u001b[K     |████████████████████████████    | 7.2 MB 11.7 MB/s eta 0:00:01\r",
      "\u001b[K     |████████████████████████████    | 7.2 MB 11.7 MB/s eta 0:00:01\r",
      "\u001b[K     |████████████████████████████    | 7.2 MB 11.7 MB/s eta 0:00:01\r",
      "\u001b[K     |████████████████████████████    | 7.2 MB 11.7 MB/s eta 0:00:01\r",
      "\u001b[K     |████████████████████████████    | 7.2 MB 11.7 MB/s eta 0:00:01\r",
      "\u001b[K     |████████████████████████████▏   | 7.2 MB 11.7 MB/s eta 0:00:01\r",
      "\u001b[K     |████████████████████████████▏   | 7.2 MB 11.7 MB/s eta 0:00:01\r",
      "\u001b[K     |████████████████████████████▏   | 7.2 MB 11.7 MB/s eta 0:00:01\r",
      "\u001b[K     |████████████████████████████▎   | 7.2 MB 11.7 MB/s eta 0:00:01\r",
      "\u001b[K     |████████████████████████████▎   | 7.3 MB 11.7 MB/s eta 0:00:01\r",
      "\u001b[K     |████████████████████████████▎   | 7.3 MB 11.7 MB/s eta 0:00:01\r",
      "\u001b[K     |████████████████████████████▍   | 7.3 MB 11.7 MB/s eta 0:00:01\r",
      "\u001b[K     |████████████████████████████▍   | 7.3 MB 11.7 MB/s eta 0:00:01\r",
      "\u001b[K     |████████████████████████████▌   | 7.3 MB 11.7 MB/s eta 0:00:01\r",
      "\u001b[K     |████████████████████████████▌   | 7.3 MB 11.7 MB/s eta 0:00:01\r",
      "\u001b[K     |████████████████████████████▌   | 7.3 MB 11.7 MB/s eta 0:00:01\r",
      "\u001b[K     |████████████████████████████▋   | 7.3 MB 11.7 MB/s eta 0:00:01\r",
      "\u001b[K     |████████████████████████████▋   | 7.3 MB 11.7 MB/s eta 0:00:01\r",
      "\u001b[K     |████████████████████████████▋   | 7.4 MB 11.7 MB/s eta 0:00:01\r",
      "\u001b[K     |████████████████████████████▊   | 7.4 MB 11.7 MB/s eta 0:00:01\r",
      "\u001b[K     |████████████████████████████▊   | 7.4 MB 11.7 MB/s eta 0:00:01\r",
      "\u001b[K     |████████████████████████████▊   | 7.4 MB 11.7 MB/s eta 0:00:01\r",
      "\u001b[K     |████████████████████████████▉   | 7.4 MB 11.7 MB/s eta 0:00:01\r",
      "\u001b[K     |████████████████████████████▉   | 7.4 MB 11.7 MB/s eta 0:00:01\r",
      "\u001b[K     |████████████████████████████▉   | 7.4 MB 11.7 MB/s eta 0:00:01\r",
      "\u001b[K     |█████████████████████████████   | 7.4 MB 11.7 MB/s eta 0:00:01\r",
      "\u001b[K     |█████████████████████████████   | 7.4 MB 11.7 MB/s eta 0:00:01\r",
      "\u001b[K     |█████████████████████████████   | 7.4 MB 11.7 MB/s eta 0:00:01\r",
      "\u001b[K     |█████████████████████████████   | 7.5 MB 11.7 MB/s eta 0:00:01\r",
      "\u001b[K     |█████████████████████████████   | 7.5 MB 11.7 MB/s eta 0:00:01\r",
      "\u001b[K     |█████████████████████████████▏  | 7.5 MB 11.7 MB/s eta 0:00:01\r",
      "\u001b[K     |█████████████████████████████▏  | 7.5 MB 11.7 MB/s eta 0:00:01\r",
      "\u001b[K     |█████████████████████████████▏  | 7.5 MB 11.7 MB/s eta 0:00:01\r",
      "\u001b[K     |█████████████████████████████▎  | 7.5 MB 11.7 MB/s eta 0:00:01\r",
      "\u001b[K     |█████████████████████████████▎  | 7.5 MB 11.7 MB/s eta 0:00:01\r",
      "\u001b[K     |█████████████████████████████▎  | 7.5 MB 11.7 MB/s eta 0:00:01\r",
      "\u001b[K     |█████████████████████████████▍  | 7.5 MB 11.7 MB/s eta 0:00:01\r",
      "\u001b[K     |█████████████████████████████▍  | 7.5 MB 11.7 MB/s eta 0:00:01\r",
      "\u001b[K     |█████████████████████████████▌  | 7.6 MB 11.7 MB/s eta 0:00:01"
     ]
    },
    {
     "name": "stdout",
     "output_type": "stream",
     "text": [
      "\r",
      "\u001b[K     |█████████████████████████████▌  | 7.6 MB 11.7 MB/s eta 0:00:01\r",
      "\u001b[K     |█████████████████████████████▌  | 7.6 MB 11.7 MB/s eta 0:00:01\r",
      "\u001b[K     |█████████████████████████████▋  | 7.6 MB 11.7 MB/s eta 0:00:01\r",
      "\u001b[K     |█████████████████████████████▋  | 7.6 MB 11.7 MB/s eta 0:00:01\r",
      "\u001b[K     |█████████████████████████████▋  | 7.6 MB 11.7 MB/s eta 0:00:01\r",
      "\u001b[K     |█████████████████████████████▊  | 7.6 MB 11.7 MB/s eta 0:00:01\r",
      "\u001b[K     |█████████████████████████████▊  | 7.6 MB 11.7 MB/s eta 0:00:01\r",
      "\u001b[K     |█████████████████████████████▊  | 7.6 MB 11.7 MB/s eta 0:00:01\r",
      "\u001b[K     |█████████████████████████████▉  | 7.6 MB 11.7 MB/s eta 0:00:01\r",
      "\u001b[K     |█████████████████████████████▉  | 7.7 MB 11.7 MB/s eta 0:00:01\r",
      "\u001b[K     |█████████████████████████████▉  | 7.7 MB 11.7 MB/s eta 0:00:01\r",
      "\u001b[K     |██████████████████████████████  | 7.7 MB 11.7 MB/s eta 0:00:01\r",
      "\u001b[K     |██████████████████████████████  | 7.7 MB 11.7 MB/s eta 0:00:01\r",
      "\u001b[K     |██████████████████████████████  | 7.7 MB 11.7 MB/s eta 0:00:01\r",
      "\u001b[K     |██████████████████████████████  | 7.7 MB 11.7 MB/s eta 0:00:01\r",
      "\u001b[K     |██████████████████████████████  | 7.7 MB 11.7 MB/s eta 0:00:01\r",
      "\u001b[K     |██████████████████████████████▏ | 7.7 MB 11.7 MB/s eta 0:00:01\r",
      "\u001b[K     |██████████████████████████████▏ | 7.7 MB 11.7 MB/s eta 0:00:01\r",
      "\u001b[K     |██████████████████████████████▏ | 7.8 MB 11.7 MB/s eta 0:00:01\r",
      "\u001b[K     |██████████████████████████████▎ | 7.8 MB 11.7 MB/s eta 0:00:01\r",
      "\u001b[K     |██████████████████████████████▎ | 7.8 MB 11.7 MB/s eta 0:00:01\r",
      "\u001b[K     |██████████████████████████████▎ | 7.8 MB 11.7 MB/s eta 0:00:01\r",
      "\u001b[K     |██████████████████████████████▍ | 7.8 MB 11.7 MB/s eta 0:00:01\r",
      "\u001b[K     |██████████████████████████████▍ | 7.8 MB 11.7 MB/s eta 0:00:01\r",
      "\u001b[K     |██████████████████████████████▍ | 7.8 MB 11.7 MB/s eta 0:00:01\r",
      "\u001b[K     |██████████████████████████████▌ | 7.8 MB 11.7 MB/s eta 0:00:01\r",
      "\u001b[K     |██████████████████████████████▌ | 7.8 MB 11.7 MB/s eta 0:00:01\r",
      "\u001b[K     |██████████████████████████████▋ | 7.8 MB 11.7 MB/s eta 0:00:01\r",
      "\u001b[K     |██████████████████████████████▋ | 7.9 MB 11.7 MB/s eta 0:00:01\r",
      "\u001b[K     |██████████████████████████████▋ | 7.9 MB 11.7 MB/s eta 0:00:01\r",
      "\u001b[K     |██████████████████████████████▊ | 7.9 MB 11.7 MB/s eta 0:00:01\r",
      "\u001b[K     |██████████████████████████████▊ | 7.9 MB 11.7 MB/s eta 0:00:01\r",
      "\u001b[K     |██████████████████████████████▊ | 7.9 MB 11.7 MB/s eta 0:00:01\r",
      "\u001b[K     |██████████████████████████████▉ | 7.9 MB 11.7 MB/s eta 0:00:01\r",
      "\u001b[K     |██████████████████████████████▉ | 7.9 MB 11.7 MB/s eta 0:00:01\r",
      "\u001b[K     |██████████████████████████████▉ | 7.9 MB 11.7 MB/s eta 0:00:01\r",
      "\u001b[K     |███████████████████████████████ | 7.9 MB 11.7 MB/s eta 0:00:01\r",
      "\u001b[K     |███████████████████████████████ | 7.9 MB 11.7 MB/s eta 0:00:01\r",
      "\u001b[K     |███████████████████████████████ | 8.0 MB 11.7 MB/s eta 0:00:01\r",
      "\u001b[K     |███████████████████████████████ | 8.0 MB 11.7 MB/s eta 0:00:01\r",
      "\u001b[K     |███████████████████████████████ | 8.0 MB 11.7 MB/s eta 0:00:01\r",
      "\u001b[K     |███████████████████████████████▏| 8.0 MB 11.7 MB/s eta 0:00:01\r",
      "\u001b[K     |███████████████████████████████▏| 8.0 MB 11.7 MB/s eta 0:00:01\r",
      "\u001b[K     |███████████████████████████████▏| 8.0 MB 11.7 MB/s eta 0:00:01\r",
      "\u001b[K     |███████████████████████████████▎| 8.0 MB 11.7 MB/s eta 0:00:01\r",
      "\u001b[K     |███████████████████████████████▎| 8.0 MB 11.7 MB/s eta 0:00:01\r",
      "\u001b[K     |███████████████████████████████▎| 8.0 MB 11.7 MB/s eta 0:00:01\r",
      "\u001b[K     |███████████████████████████████▍| 8.0 MB 11.7 MB/s eta 0:00:01\r",
      "\u001b[K     |███████████████████████████████▍| 8.1 MB 11.7 MB/s eta 0:00:01\r",
      "\u001b[K     |███████████████████████████████▍| 8.1 MB 11.7 MB/s eta 0:00:01\r",
      "\u001b[K     |███████████████████████████████▌| 8.1 MB 11.7 MB/s eta 0:00:01\r",
      "\u001b[K     |███████████████████████████████▌| 8.1 MB 11.7 MB/s eta 0:00:01\r",
      "\u001b[K     |███████████████████████████████▋| 8.1 MB 11.7 MB/s eta 0:00:01\r",
      "\u001b[K     |███████████████████████████████▋| 8.1 MB 11.7 MB/s eta 0:00:01\r",
      "\u001b[K     |███████████████████████████████▋| 8.1 MB 11.7 MB/s eta 0:00:01\r",
      "\u001b[K     |███████████████████████████████▊| 8.1 MB 11.7 MB/s eta 0:00:01\r",
      "\u001b[K     |███████████████████████████████▊| 8.1 MB 11.7 MB/s eta 0:00:01\r",
      "\u001b[K     |███████████████████████████████▊| 8.2 MB 11.7 MB/s eta 0:00:01\r",
      "\u001b[K     |███████████████████████████████▉| 8.2 MB 11.7 MB/s eta 0:00:01\r",
      "\u001b[K     |███████████████████████████████▉| 8.2 MB 11.7 MB/s eta 0:00:01\r",
      "\u001b[K     |███████████████████████████████▉| 8.2 MB 11.7 MB/s eta 0:00:01\r",
      "\u001b[K     |████████████████████████████████| 8.2 MB 11.7 MB/s eta 0:00:01\r",
      "\u001b[K     |████████████████████████████████| 8.2 MB 11.7 MB/s eta 0:00:01\r",
      "\u001b[K     |████████████████████████████████| 8.2 MB 11.7 MB/s \r\n"
     ]
    },
    {
     "name": "stdout",
     "output_type": "stream",
     "text": [
      "\u001b[?25hBuilding wheels for collected packages: docopt\r\n"
     ]
    },
    {
     "name": "stdout",
     "output_type": "stream",
     "text": [
      "  Building wheel for docopt (setup.py) ... \u001b[?25l-"
     ]
    },
    {
     "name": "stdout",
     "output_type": "stream",
     "text": [
      "\b \bdone\r\n",
      "\u001b[?25h  Created wheel for docopt: filename=docopt-0.6.2-py2.py3-none-any.whl size=13724 sha256=22a27cf3af0f967d7838783eb6f03b460cc0bf368aeaaac33966f3d9fdf71b61\r\n",
      "  Stored in directory: /tmp/pip-ephem-wheel-cache-knyn9dvy/wheels/56/ea/58/ead137b087d9e326852a851351d1debf4ada529b6ac0ec4e8c\r\n",
      "Successfully built docopt\r\n"
     ]
    },
    {
     "name": "stdout",
     "output_type": "stream",
     "text": [
      "Installing collected packages: pymorphy2-dicts-ru, docopt, dawg-python, pymorphy2\r\n"
     ]
    },
    {
     "name": "stdout",
     "output_type": "stream",
     "text": [
      "Successfully installed dawg-python-0.7.2 docopt-0.6.2 pymorphy2-0.9.1 pymorphy2-dicts-ru-2.4.417127.4579844\r\n",
      "\u001b[33mWARNING: Running pip as the 'root' user can result in broken permissions and conflicting behaviour with the system package manager. It is recommended to use a virtual environment instead: https://pip.pypa.io/warnings/venv\u001b[0m\r\n"
     ]
    },
    {
     "name": "stdout",
     "output_type": "stream",
     "text": [
      "Looking in indexes: https://pypi.org/simple, https://pypi.ngc.nvidia.com\r\n"
     ]
    },
    {
     "name": "stdout",
     "output_type": "stream",
     "text": [
      "Collecting pandas\r\n",
      "  Downloading pandas-1.3.5-cp38-cp38-manylinux_2_17_x86_64.manylinux2014_x86_64.whl (11.5 MB)\r\n",
      "\u001b[?25l\r",
      "\u001b[K     |                                | 10 kB 5.0 MB/s eta 0:00:03\r",
      "\u001b[K     |                                | 20 kB 8.6 MB/s eta 0:00:02\r",
      "\u001b[K     |                                | 30 kB 10.2 MB/s eta 0:00:02\r",
      "\u001b[K     |▏                               | 40 kB 10.1 MB/s eta 0:00:02\r",
      "\u001b[K     |▏                               | 51 kB 10.8 MB/s eta 0:00:02\r",
      "\u001b[K     |▏                               | 61 kB 12.3 MB/s eta 0:00:01\r",
      "\u001b[K     |▏                               | 71 kB 12.1 MB/s eta 0:00:01\r",
      "\u001b[K     |▎                               | 81 kB 13.5 MB/s eta 0:00:01\r",
      "\u001b[K     |▎                               | 92 kB 14.0 MB/s eta 0:00:01\r",
      "\u001b[K     |▎                               | 102 kB 14.3 MB/s eta 0:00:01\r",
      "\u001b[K     |▎                               | 112 kB 14.3 MB/s eta 0:00:01\r",
      "\u001b[K     |▍                               | 122 kB 14.3 MB/s eta 0:00:01\r",
      "\u001b[K     |▍                               | 133 kB 14.3 MB/s eta 0:00:01\r",
      "\u001b[K     |▍                               | 143 kB 14.3 MB/s eta 0:00:01\r",
      "\u001b[K     |▍                               | 153 kB 14.3 MB/s eta 0:00:01\r",
      "\u001b[K     |▌                               | 163 kB 14.3 MB/s eta 0:00:01\r",
      "\u001b[K     |▌                               | 174 kB 14.3 MB/s eta 0:00:01\r",
      "\u001b[K     |▌                               | 184 kB 14.3 MB/s eta 0:00:01"
     ]
    },
    {
     "name": "stdout",
     "output_type": "stream",
     "text": [
      "\r",
      "\u001b[K     |▌                               | 194 kB 14.3 MB/s eta 0:00:01\r",
      "\u001b[K     |▋                               | 204 kB 14.3 MB/s eta 0:00:01\r",
      "\u001b[K     |▋                               | 215 kB 14.3 MB/s eta 0:00:01\r",
      "\u001b[K     |▋                               | 225 kB 14.3 MB/s eta 0:00:01\r",
      "\u001b[K     |▋                               | 235 kB 14.3 MB/s eta 0:00:01\r",
      "\u001b[K     |▊                               | 245 kB 14.3 MB/s eta 0:00:01\r",
      "\u001b[K     |▊                               | 256 kB 14.3 MB/s eta 0:00:01\r",
      "\u001b[K     |▊                               | 266 kB 14.3 MB/s eta 0:00:01\r",
      "\u001b[K     |▊                               | 276 kB 14.3 MB/s eta 0:00:01\r",
      "\u001b[K     |▉                               | 286 kB 14.3 MB/s eta 0:00:01\r",
      "\u001b[K     |▉                               | 296 kB 14.3 MB/s eta 0:00:01\r",
      "\u001b[K     |▉                               | 307 kB 14.3 MB/s eta 0:00:01\r",
      "\u001b[K     |▉                               | 317 kB 14.3 MB/s eta 0:00:01\r",
      "\u001b[K     |█                               | 327 kB 14.3 MB/s eta 0:00:01\r",
      "\u001b[K     |█                               | 337 kB 14.3 MB/s eta 0:00:01\r",
      "\u001b[K     |█                               | 348 kB 14.3 MB/s eta 0:00:01\r",
      "\u001b[K     |█                               | 358 kB 14.3 MB/s eta 0:00:01\r",
      "\u001b[K     |█                               | 368 kB 14.3 MB/s eta 0:00:01\r",
      "\u001b[K     |█                               | 378 kB 14.3 MB/s eta 0:00:01\r",
      "\u001b[K     |█                               | 389 kB 14.3 MB/s eta 0:00:01\r",
      "\u001b[K     |█                               | 399 kB 14.3 MB/s eta 0:00:01\r",
      "\u001b[K     |█▏                              | 409 kB 14.3 MB/s eta 0:00:01\r",
      "\u001b[K     |█▏                              | 419 kB 14.3 MB/s eta 0:00:01\r",
      "\u001b[K     |█▏                              | 430 kB 14.3 MB/s eta 0:00:01\r",
      "\u001b[K     |█▏                              | 440 kB 14.3 MB/s eta 0:00:01\r",
      "\u001b[K     |█▎                              | 450 kB 14.3 MB/s eta 0:00:01\r",
      "\u001b[K     |█▎                              | 460 kB 14.3 MB/s eta 0:00:01\r",
      "\u001b[K     |█▎                              | 471 kB 14.3 MB/s eta 0:00:01\r",
      "\u001b[K     |█▍                              | 481 kB 14.3 MB/s eta 0:00:01\r",
      "\u001b[K     |█▍                              | 491 kB 14.3 MB/s eta 0:00:01\r",
      "\u001b[K     |█▍                              | 501 kB 14.3 MB/s eta 0:00:01\r",
      "\u001b[K     |█▍                              | 512 kB 14.3 MB/s eta 0:00:01\r",
      "\u001b[K     |█▌                              | 522 kB 14.3 MB/s eta 0:00:01\r",
      "\u001b[K     |█▌                              | 532 kB 14.3 MB/s eta 0:00:01\r",
      "\u001b[K     |█▌                              | 542 kB 14.3 MB/s eta 0:00:01\r",
      "\u001b[K     |█▌                              | 552 kB 14.3 MB/s eta 0:00:01\r",
      "\u001b[K     |█▋                              | 563 kB 14.3 MB/s eta 0:00:01\r",
      "\u001b[K     |█▋                              | 573 kB 14.3 MB/s eta 0:00:01\r",
      "\u001b[K     |█▋                              | 583 kB 14.3 MB/s eta 0:00:01\r",
      "\u001b[K     |█▋                              | 593 kB 14.3 MB/s eta 0:00:01\r",
      "\u001b[K     |█▊                              | 604 kB 14.3 MB/s eta 0:00:01\r",
      "\u001b[K     |█▊                              | 614 kB 14.3 MB/s eta 0:00:01\r",
      "\u001b[K     |█▊                              | 624 kB 14.3 MB/s eta 0:00:01\r",
      "\u001b[K     |█▊                              | 634 kB 14.3 MB/s eta 0:00:01\r",
      "\u001b[K     |█▉                              | 645 kB 14.3 MB/s eta 0:00:01\r",
      "\u001b[K     |█▉                              | 655 kB 14.3 MB/s eta 0:00:01\r",
      "\u001b[K     |█▉                              | 665 kB 14.3 MB/s eta 0:00:01\r",
      "\u001b[K     |█▉                              | 675 kB 14.3 MB/s eta 0:00:01\r",
      "\u001b[K     |██                              | 686 kB 14.3 MB/s eta 0:00:01\r",
      "\u001b[K     |██                              | 696 kB 14.3 MB/s eta 0:00:01\r",
      "\u001b[K     |██                              | 706 kB 14.3 MB/s eta 0:00:01\r",
      "\u001b[K     |██                              | 716 kB 14.3 MB/s eta 0:00:01\r",
      "\u001b[K     |██                              | 727 kB 14.3 MB/s eta 0:00:01\r",
      "\u001b[K     |██                              | 737 kB 14.3 MB/s eta 0:00:01\r",
      "\u001b[K     |██                              | 747 kB 14.3 MB/s eta 0:00:01\r",
      "\u001b[K     |██                              | 757 kB 14.3 MB/s eta 0:00:01\r",
      "\u001b[K     |██▏                             | 768 kB 14.3 MB/s eta 0:00:01\r",
      "\u001b[K     |██▏                             | 778 kB 14.3 MB/s eta 0:00:01\r",
      "\u001b[K     |██▏                             | 788 kB 14.3 MB/s eta 0:00:01\r",
      "\u001b[K     |██▏                             | 798 kB 14.3 MB/s eta 0:00:01\r",
      "\u001b[K     |██▎                             | 808 kB 14.3 MB/s eta 0:00:01\r",
      "\u001b[K     |██▎                             | 819 kB 14.3 MB/s eta 0:00:01\r",
      "\u001b[K     |██▎                             | 829 kB 14.3 MB/s eta 0:00:01\r",
      "\u001b[K     |██▎                             | 839 kB 14.3 MB/s eta 0:00:01\r",
      "\u001b[K     |██▍                             | 849 kB 14.3 MB/s eta 0:00:01\r",
      "\u001b[K     |██▍                             | 860 kB 14.3 MB/s eta 0:00:01\r",
      "\u001b[K     |██▍                             | 870 kB 14.3 MB/s eta 0:00:01\r",
      "\u001b[K     |██▍                             | 880 kB 14.3 MB/s eta 0:00:01\r",
      "\u001b[K     |██▌                             | 890 kB 14.3 MB/s eta 0:00:01\r",
      "\u001b[K     |██▌                             | 901 kB 14.3 MB/s eta 0:00:01\r",
      "\u001b[K     |██▌                             | 911 kB 14.3 MB/s eta 0:00:01\r",
      "\u001b[K     |██▋                             | 921 kB 14.3 MB/s eta 0:00:01\r",
      "\u001b[K     |██▋                             | 931 kB 14.3 MB/s eta 0:00:01\r",
      "\u001b[K     |██▋                             | 942 kB 14.3 MB/s eta 0:00:01\r",
      "\u001b[K     |██▋                             | 952 kB 14.3 MB/s eta 0:00:01\r",
      "\u001b[K     |██▊                             | 962 kB 14.3 MB/s eta 0:00:01\r",
      "\u001b[K     |██▊                             | 972 kB 14.3 MB/s eta 0:00:01\r",
      "\u001b[K     |██▊                             | 983 kB 14.3 MB/s eta 0:00:01\r",
      "\u001b[K     |██▊                             | 993 kB 14.3 MB/s eta 0:00:01\r",
      "\u001b[K     |██▉                             | 1.0 MB 14.3 MB/s eta 0:00:01\r",
      "\u001b[K     |██▉                             | 1.0 MB 14.3 MB/s eta 0:00:01\r",
      "\u001b[K     |██▉                             | 1.0 MB 14.3 MB/s eta 0:00:01\r",
      "\u001b[K     |██▉                             | 1.0 MB 14.3 MB/s eta 0:00:01\r",
      "\u001b[K     |███                             | 1.0 MB 14.3 MB/s eta 0:00:01\r",
      "\u001b[K     |███                             | 1.1 MB 14.3 MB/s eta 0:00:01\r",
      "\u001b[K     |███                             | 1.1 MB 14.3 MB/s eta 0:00:01\r",
      "\u001b[K     |███                             | 1.1 MB 14.3 MB/s eta 0:00:01\r",
      "\u001b[K     |███                             | 1.1 MB 14.3 MB/s eta 0:00:01\r",
      "\u001b[K     |███                             | 1.1 MB 14.3 MB/s eta 0:00:01\r",
      "\u001b[K     |███                             | 1.1 MB 14.3 MB/s eta 0:00:01\r",
      "\u001b[K     |███                             | 1.1 MB 14.3 MB/s eta 0:00:01\r",
      "\u001b[K     |███▏                            | 1.1 MB 14.3 MB/s eta 0:00:01\r",
      "\u001b[K     |███▏                            | 1.1 MB 14.3 MB/s eta 0:00:01\r",
      "\u001b[K     |███▏                            | 1.1 MB 14.3 MB/s eta 0:00:01\r",
      "\u001b[K     |███▏                            | 1.2 MB 14.3 MB/s eta 0:00:01\r",
      "\u001b[K     |███▎                            | 1.2 MB 14.3 MB/s eta 0:00:01\r",
      "\u001b[K     |███▎                            | 1.2 MB 14.3 MB/s eta 0:00:01\r",
      "\u001b[K     |███▎                            | 1.2 MB 14.3 MB/s eta 0:00:01\r",
      "\u001b[K     |███▎                            | 1.2 MB 14.3 MB/s eta 0:00:01\r",
      "\u001b[K     |███▍                            | 1.2 MB 14.3 MB/s eta 0:00:01\r",
      "\u001b[K     |███▍                            | 1.2 MB 14.3 MB/s eta 0:00:01\r",
      "\u001b[K     |███▍                            | 1.2 MB 14.3 MB/s eta 0:00:01\r",
      "\u001b[K     |███▍                            | 1.2 MB 14.3 MB/s eta 0:00:01\r",
      "\u001b[K     |███▌                            | 1.2 MB 14.3 MB/s eta 0:00:01\r",
      "\u001b[K     |███▌                            | 1.3 MB 14.3 MB/s eta 0:00:01\r",
      "\u001b[K     |███▌                            | 1.3 MB 14.3 MB/s eta 0:00:01\r",
      "\u001b[K     |███▌                            | 1.3 MB 14.3 MB/s eta 0:00:01\r",
      "\u001b[K     |███▋                            | 1.3 MB 14.3 MB/s eta 0:00:01\r",
      "\u001b[K     |███▋                            | 1.3 MB 14.3 MB/s eta 0:00:01\r",
      "\u001b[K     |███▋                            | 1.3 MB 14.3 MB/s eta 0:00:01\r",
      "\u001b[K     |███▋                            | 1.3 MB 14.3 MB/s eta 0:00:01\r",
      "\u001b[K     |███▊                            | 1.3 MB 14.3 MB/s eta 0:00:01\r",
      "\u001b[K     |███▊                            | 1.3 MB 14.3 MB/s eta 0:00:01\r",
      "\u001b[K     |███▊                            | 1.4 MB 14.3 MB/s eta 0:00:01\r",
      "\u001b[K     |███▉                            | 1.4 MB 14.3 MB/s eta 0:00:01\r",
      "\u001b[K     |███▉                            | 1.4 MB 14.3 MB/s eta 0:00:01\r",
      "\u001b[K     |███▉                            | 1.4 MB 14.3 MB/s eta 0:00:01\r",
      "\u001b[K     |███▉                            | 1.4 MB 14.3 MB/s eta 0:00:01\r",
      "\u001b[K     |████                            | 1.4 MB 14.3 MB/s eta 0:00:01"
     ]
    },
    {
     "name": "stdout",
     "output_type": "stream",
     "text": [
      "\r",
      "\u001b[K     |████                            | 1.4 MB 14.3 MB/s eta 0:00:01\r",
      "\u001b[K     |████                            | 1.4 MB 14.3 MB/s eta 0:00:01\r",
      "\u001b[K     |████                            | 1.4 MB 14.3 MB/s eta 0:00:01\r",
      "\u001b[K     |████                            | 1.4 MB 14.3 MB/s eta 0:00:01\r",
      "\u001b[K     |████                            | 1.5 MB 14.3 MB/s eta 0:00:01\r",
      "\u001b[K     |████                            | 1.5 MB 14.3 MB/s eta 0:00:01\r",
      "\u001b[K     |████                            | 1.5 MB 14.3 MB/s eta 0:00:01\r",
      "\u001b[K     |████▏                           | 1.5 MB 14.3 MB/s eta 0:00:01\r",
      "\u001b[K     |████▏                           | 1.5 MB 14.3 MB/s eta 0:00:01\r",
      "\u001b[K     |████▏                           | 1.5 MB 14.3 MB/s eta 0:00:01\r",
      "\u001b[K     |████▏                           | 1.5 MB 14.3 MB/s eta 0:00:01\r",
      "\u001b[K     |████▎                           | 1.5 MB 14.3 MB/s eta 0:00:01\r",
      "\u001b[K     |████▎                           | 1.5 MB 14.3 MB/s eta 0:00:01\r",
      "\u001b[K     |████▎                           | 1.5 MB 14.3 MB/s eta 0:00:01\r",
      "\u001b[K     |████▎                           | 1.6 MB 14.3 MB/s eta 0:00:01\r",
      "\u001b[K     |████▍                           | 1.6 MB 14.3 MB/s eta 0:00:01\r",
      "\u001b[K     |████▍                           | 1.6 MB 14.3 MB/s eta 0:00:01\r",
      "\u001b[K     |████▍                           | 1.6 MB 14.3 MB/s eta 0:00:01\r",
      "\u001b[K     |████▍                           | 1.6 MB 14.3 MB/s eta 0:00:01\r",
      "\u001b[K     |████▌                           | 1.6 MB 14.3 MB/s eta 0:00:01\r",
      "\u001b[K     |████▌                           | 1.6 MB 14.3 MB/s eta 0:00:01\r",
      "\u001b[K     |████▌                           | 1.6 MB 14.3 MB/s eta 0:00:01\r",
      "\u001b[K     |████▌                           | 1.6 MB 14.3 MB/s eta 0:00:01\r",
      "\u001b[K     |████▋                           | 1.6 MB 14.3 MB/s eta 0:00:01\r",
      "\u001b[K     |████▋                           | 1.7 MB 14.3 MB/s eta 0:00:01\r",
      "\u001b[K     |████▋                           | 1.7 MB 14.3 MB/s eta 0:00:01\r",
      "\u001b[K     |████▋                           | 1.7 MB 14.3 MB/s eta 0:00:01\r",
      "\u001b[K     |████▊                           | 1.7 MB 14.3 MB/s eta 0:00:01\r",
      "\u001b[K     |████▊                           | 1.7 MB 14.3 MB/s eta 0:00:01\r",
      "\u001b[K     |████▊                           | 1.7 MB 14.3 MB/s eta 0:00:01\r",
      "\u001b[K     |████▊                           | 1.7 MB 14.3 MB/s eta 0:00:01\r",
      "\u001b[K     |████▉                           | 1.7 MB 14.3 MB/s eta 0:00:01\r",
      "\u001b[K     |████▉                           | 1.7 MB 14.3 MB/s eta 0:00:01\r",
      "\u001b[K     |████▉                           | 1.8 MB 14.3 MB/s eta 0:00:01\r",
      "\u001b[K     |████▉                           | 1.8 MB 14.3 MB/s eta 0:00:01\r",
      "\u001b[K     |█████                           | 1.8 MB 14.3 MB/s eta 0:00:01\r",
      "\u001b[K     |█████                           | 1.8 MB 14.3 MB/s eta 0:00:01\r",
      "\u001b[K     |█████                           | 1.8 MB 14.3 MB/s eta 0:00:01\r",
      "\u001b[K     |█████                           | 1.8 MB 14.3 MB/s eta 0:00:01\r",
      "\u001b[K     |█████                           | 1.8 MB 14.3 MB/s eta 0:00:01\r",
      "\u001b[K     |█████                           | 1.8 MB 14.3 MB/s eta 0:00:01\r",
      "\u001b[K     |█████                           | 1.8 MB 14.3 MB/s eta 0:00:01\r",
      "\u001b[K     |█████▏                          | 1.8 MB 14.3 MB/s eta 0:00:01\r",
      "\u001b[K     |█████▏                          | 1.9 MB 14.3 MB/s eta 0:00:01\r",
      "\u001b[K     |█████▏                          | 1.9 MB 14.3 MB/s eta 0:00:01\r",
      "\u001b[K     |█████▏                          | 1.9 MB 14.3 MB/s eta 0:00:01\r",
      "\u001b[K     |█████▎                          | 1.9 MB 14.3 MB/s eta 0:00:01\r",
      "\u001b[K     |█████▎                          | 1.9 MB 14.3 MB/s eta 0:00:01\r",
      "\u001b[K     |█████▎                          | 1.9 MB 14.3 MB/s eta 0:00:01\r",
      "\u001b[K     |█████▎                          | 1.9 MB 14.3 MB/s eta 0:00:01\r",
      "\u001b[K     |█████▍                          | 1.9 MB 14.3 MB/s eta 0:00:01\r",
      "\u001b[K     |█████▍                          | 1.9 MB 14.3 MB/s eta 0:00:01\r",
      "\u001b[K     |█████▍                          | 1.9 MB 14.3 MB/s eta 0:00:01\r",
      "\u001b[K     |█████▍                          | 2.0 MB 14.3 MB/s eta 0:00:01\r",
      "\u001b[K     |█████▌                          | 2.0 MB 14.3 MB/s eta 0:00:01\r",
      "\u001b[K     |█████▌                          | 2.0 MB 14.3 MB/s eta 0:00:01\r",
      "\u001b[K     |█████▌                          | 2.0 MB 14.3 MB/s eta 0:00:01\r",
      "\u001b[K     |█████▌                          | 2.0 MB 14.3 MB/s eta 0:00:01\r",
      "\u001b[K     |█████▋                          | 2.0 MB 14.3 MB/s eta 0:00:01\r",
      "\u001b[K     |█████▋                          | 2.0 MB 14.3 MB/s eta 0:00:01\r",
      "\u001b[K     |█████▋                          | 2.0 MB 14.3 MB/s eta 0:00:01\r",
      "\u001b[K     |█████▋                          | 2.0 MB 14.3 MB/s eta 0:00:01\r",
      "\u001b[K     |█████▊                          | 2.0 MB 14.3 MB/s eta 0:00:01\r",
      "\u001b[K     |█████▊                          | 2.1 MB 14.3 MB/s eta 0:00:01\r",
      "\u001b[K     |█████▊                          | 2.1 MB 14.3 MB/s eta 0:00:01\r",
      "\u001b[K     |█████▊                          | 2.1 MB 14.3 MB/s eta 0:00:01\r",
      "\u001b[K     |█████▉                          | 2.1 MB 14.3 MB/s eta 0:00:01\r",
      "\u001b[K     |█████▉                          | 2.1 MB 14.3 MB/s eta 0:00:01\r",
      "\u001b[K     |█████▉                          | 2.1 MB 14.3 MB/s eta 0:00:01\r",
      "\u001b[K     |█████▉                          | 2.1 MB 14.3 MB/s eta 0:00:01\r",
      "\u001b[K     |██████                          | 2.1 MB 14.3 MB/s eta 0:00:01\r",
      "\u001b[K     |██████                          | 2.1 MB 14.3 MB/s eta 0:00:01\r",
      "\u001b[K     |██████                          | 2.2 MB 14.3 MB/s eta 0:00:01\r",
      "\u001b[K     |██████                          | 2.2 MB 14.3 MB/s eta 0:00:01\r",
      "\u001b[K     |██████                          | 2.2 MB 14.3 MB/s eta 0:00:01\r",
      "\u001b[K     |██████                          | 2.2 MB 14.3 MB/s eta 0:00:01\r",
      "\u001b[K     |██████                          | 2.2 MB 14.3 MB/s eta 0:00:01\r",
      "\u001b[K     |██████                          | 2.2 MB 14.3 MB/s eta 0:00:01\r",
      "\u001b[K     |██████▏                         | 2.2 MB 14.3 MB/s eta 0:00:01\r",
      "\u001b[K     |██████▏                         | 2.2 MB 14.3 MB/s eta 0:00:01\r",
      "\u001b[K     |██████▏                         | 2.2 MB 14.3 MB/s eta 0:00:01\r",
      "\u001b[K     |██████▏                         | 2.2 MB 14.3 MB/s eta 0:00:01\r",
      "\u001b[K     |██████▎                         | 2.3 MB 14.3 MB/s eta 0:00:01\r",
      "\u001b[K     |██████▎                         | 2.3 MB 14.3 MB/s eta 0:00:01\r",
      "\u001b[K     |██████▎                         | 2.3 MB 14.3 MB/s eta 0:00:01\r",
      "\u001b[K     |██████▍                         | 2.3 MB 14.3 MB/s eta 0:00:01\r",
      "\u001b[K     |██████▍                         | 2.3 MB 14.3 MB/s eta 0:00:01\r",
      "\u001b[K     |██████▍                         | 2.3 MB 14.3 MB/s eta 0:00:01\r",
      "\u001b[K     |██████▍                         | 2.3 MB 14.3 MB/s eta 0:00:01\r",
      "\u001b[K     |██████▌                         | 2.3 MB 14.3 MB/s eta 0:00:01\r",
      "\u001b[K     |██████▌                         | 2.3 MB 14.3 MB/s eta 0:00:01\r",
      "\u001b[K     |██████▌                         | 2.3 MB 14.3 MB/s eta 0:00:01\r",
      "\u001b[K     |██████▌                         | 2.4 MB 14.3 MB/s eta 0:00:01\r",
      "\u001b[K     |██████▋                         | 2.4 MB 14.3 MB/s eta 0:00:01\r",
      "\u001b[K     |██████▋                         | 2.4 MB 14.3 MB/s eta 0:00:01\r",
      "\u001b[K     |██████▋                         | 2.4 MB 14.3 MB/s eta 0:00:01\r",
      "\u001b[K     |██████▋                         | 2.4 MB 14.3 MB/s eta 0:00:01\r",
      "\u001b[K     |██████▊                         | 2.4 MB 14.3 MB/s eta 0:00:01\r",
      "\u001b[K     |██████▊                         | 2.4 MB 14.3 MB/s eta 0:00:01\r",
      "\u001b[K     |██████▊                         | 2.4 MB 14.3 MB/s eta 0:00:01\r",
      "\u001b[K     |██████▊                         | 2.4 MB 14.3 MB/s eta 0:00:01\r",
      "\u001b[K     |██████▉                         | 2.4 MB 14.3 MB/s eta 0:00:01\r",
      "\u001b[K     |██████▉                         | 2.5 MB 14.3 MB/s eta 0:00:01\r",
      "\u001b[K     |██████▉                         | 2.5 MB 14.3 MB/s eta 0:00:01\r",
      "\u001b[K     |██████▉                         | 2.5 MB 14.3 MB/s eta 0:00:01\r",
      "\u001b[K     |███████                         | 2.5 MB 14.3 MB/s eta 0:00:01\r",
      "\u001b[K     |███████                         | 2.5 MB 14.3 MB/s eta 0:00:01\r",
      "\u001b[K     |███████                         | 2.5 MB 14.3 MB/s eta 0:00:01\r",
      "\u001b[K     |███████                         | 2.5 MB 14.3 MB/s eta 0:00:01\r",
      "\u001b[K     |███████                         | 2.5 MB 14.3 MB/s eta 0:00:01\r",
      "\u001b[K     |███████                         | 2.5 MB 14.3 MB/s eta 0:00:01\r",
      "\u001b[K     |███████                         | 2.5 MB 14.3 MB/s eta 0:00:01\r",
      "\u001b[K     |███████                         | 2.6 MB 14.3 MB/s eta 0:00:01\r",
      "\u001b[K     |███████▏                        | 2.6 MB 14.3 MB/s eta 0:00:01\r",
      "\u001b[K     |███████▏                        | 2.6 MB 14.3 MB/s eta 0:00:01\r",
      "\u001b[K     |███████▏                        | 2.6 MB 14.3 MB/s eta 0:00:01\r",
      "\u001b[K     |███████▏                        | 2.6 MB 14.3 MB/s eta 0:00:01"
     ]
    },
    {
     "name": "stdout",
     "output_type": "stream",
     "text": [
      "\r",
      "\u001b[K     |███████▎                        | 2.6 MB 14.3 MB/s eta 0:00:01\r",
      "\u001b[K     |███████▎                        | 2.6 MB 14.3 MB/s eta 0:00:01\r",
      "\u001b[K     |███████▎                        | 2.6 MB 14.3 MB/s eta 0:00:01\r",
      "\u001b[K     |███████▎                        | 2.6 MB 14.3 MB/s eta 0:00:01\r",
      "\u001b[K     |███████▍                        | 2.7 MB 14.3 MB/s eta 0:00:01\r",
      "\u001b[K     |███████▍                        | 2.7 MB 14.3 MB/s eta 0:00:01\r",
      "\u001b[K     |███████▍                        | 2.7 MB 14.3 MB/s eta 0:00:01\r",
      "\u001b[K     |███████▍                        | 2.7 MB 14.3 MB/s eta 0:00:01\r",
      "\u001b[K     |███████▌                        | 2.7 MB 14.3 MB/s eta 0:00:01\r",
      "\u001b[K     |███████▌                        | 2.7 MB 14.3 MB/s eta 0:00:01\r",
      "\u001b[K     |███████▌                        | 2.7 MB 14.3 MB/s eta 0:00:01\r",
      "\u001b[K     |███████▋                        | 2.7 MB 14.3 MB/s eta 0:00:01\r",
      "\u001b[K     |███████▋                        | 2.7 MB 14.3 MB/s eta 0:00:01\r",
      "\u001b[K     |███████▋                        | 2.7 MB 14.3 MB/s eta 0:00:01\r",
      "\u001b[K     |███████▋                        | 2.8 MB 14.3 MB/s eta 0:00:01\r",
      "\u001b[K     |███████▊                        | 2.8 MB 14.3 MB/s eta 0:00:01\r",
      "\u001b[K     |███████▊                        | 2.8 MB 14.3 MB/s eta 0:00:01\r",
      "\u001b[K     |███████▊                        | 2.8 MB 14.3 MB/s eta 0:00:01\r",
      "\u001b[K     |███████▊                        | 2.8 MB 14.3 MB/s eta 0:00:01\r",
      "\u001b[K     |███████▉                        | 2.8 MB 14.3 MB/s eta 0:00:01\r",
      "\u001b[K     |███████▉                        | 2.8 MB 14.3 MB/s eta 0:00:01\r",
      "\u001b[K     |███████▉                        | 2.8 MB 14.3 MB/s eta 0:00:01\r",
      "\u001b[K     |███████▉                        | 2.8 MB 14.3 MB/s eta 0:00:01\r",
      "\u001b[K     |████████                        | 2.8 MB 14.3 MB/s eta 0:00:01\r",
      "\u001b[K     |████████                        | 2.9 MB 14.3 MB/s eta 0:00:01\r",
      "\u001b[K     |████████                        | 2.9 MB 14.3 MB/s eta 0:00:01\r",
      "\u001b[K     |████████                        | 2.9 MB 14.3 MB/s eta 0:00:01\r",
      "\u001b[K     |████████                        | 2.9 MB 14.3 MB/s eta 0:00:01\r",
      "\u001b[K     |████████                        | 2.9 MB 14.3 MB/s eta 0:00:01\r",
      "\u001b[K     |████████                        | 2.9 MB 14.3 MB/s eta 0:00:01\r",
      "\u001b[K     |████████                        | 2.9 MB 14.3 MB/s eta 0:00:01\r",
      "\u001b[K     |████████▏                       | 2.9 MB 14.3 MB/s eta 0:00:01\r",
      "\u001b[K     |████████▏                       | 2.9 MB 14.3 MB/s eta 0:00:01\r",
      "\u001b[K     |████████▏                       | 2.9 MB 14.3 MB/s eta 0:00:01\r",
      "\u001b[K     |████████▏                       | 3.0 MB 14.3 MB/s eta 0:00:01\r",
      "\u001b[K     |████████▎                       | 3.0 MB 14.3 MB/s eta 0:00:01\r",
      "\u001b[K     |████████▎                       | 3.0 MB 14.3 MB/s eta 0:00:01\r",
      "\u001b[K     |████████▎                       | 3.0 MB 14.3 MB/s eta 0:00:01\r",
      "\u001b[K     |████████▎                       | 3.0 MB 14.3 MB/s eta 0:00:01\r",
      "\u001b[K     |████████▍                       | 3.0 MB 14.3 MB/s eta 0:00:01\r",
      "\u001b[K     |████████▍                       | 3.0 MB 14.3 MB/s eta 0:00:01\r",
      "\u001b[K     |████████▍                       | 3.0 MB 14.3 MB/s eta 0:00:01\r",
      "\u001b[K     |████████▍                       | 3.0 MB 14.3 MB/s eta 0:00:01\r",
      "\u001b[K     |████████▌                       | 3.1 MB 14.3 MB/s eta 0:00:01\r",
      "\u001b[K     |████████▌                       | 3.1 MB 14.3 MB/s eta 0:00:01\r",
      "\u001b[K     |████████▌                       | 3.1 MB 14.3 MB/s eta 0:00:01\r",
      "\u001b[K     |████████▌                       | 3.1 MB 14.3 MB/s eta 0:00:01\r",
      "\u001b[K     |████████▋                       | 3.1 MB 14.3 MB/s eta 0:00:01\r",
      "\u001b[K     |████████▋                       | 3.1 MB 14.3 MB/s eta 0:00:01\r",
      "\u001b[K     |████████▋                       | 3.1 MB 14.3 MB/s eta 0:00:01\r",
      "\u001b[K     |████████▋                       | 3.1 MB 14.3 MB/s eta 0:00:01\r",
      "\u001b[K     |████████▊                       | 3.1 MB 14.3 MB/s eta 0:00:01\r",
      "\u001b[K     |████████▊                       | 3.1 MB 14.3 MB/s eta 0:00:01\r",
      "\u001b[K     |████████▊                       | 3.2 MB 14.3 MB/s eta 0:00:01\r",
      "\u001b[K     |████████▉                       | 3.2 MB 14.3 MB/s eta 0:00:01\r",
      "\u001b[K     |████████▉                       | 3.2 MB 14.3 MB/s eta 0:00:01\r",
      "\u001b[K     |████████▉                       | 3.2 MB 14.3 MB/s eta 0:00:01\r",
      "\u001b[K     |████████▉                       | 3.2 MB 14.3 MB/s eta 0:00:01\r",
      "\u001b[K     |█████████                       | 3.2 MB 14.3 MB/s eta 0:00:01\r",
      "\u001b[K     |█████████                       | 3.2 MB 14.3 MB/s eta 0:00:01\r",
      "\u001b[K     |█████████                       | 3.2 MB 14.3 MB/s eta 0:00:01\r",
      "\u001b[K     |█████████                       | 3.2 MB 14.3 MB/s eta 0:00:01\r",
      "\u001b[K     |█████████                       | 3.2 MB 14.3 MB/s eta 0:00:01\r",
      "\u001b[K     |█████████                       | 3.3 MB 14.3 MB/s eta 0:00:01\r",
      "\u001b[K     |█████████                       | 3.3 MB 14.3 MB/s eta 0:00:01\r",
      "\u001b[K     |█████████                       | 3.3 MB 14.3 MB/s eta 0:00:01\r",
      "\u001b[K     |█████████▏                      | 3.3 MB 14.3 MB/s eta 0:00:01\r",
      "\u001b[K     |█████████▏                      | 3.3 MB 14.3 MB/s eta 0:00:01\r",
      "\u001b[K     |█████████▏                      | 3.3 MB 14.3 MB/s eta 0:00:01\r",
      "\u001b[K     |█████████▏                      | 3.3 MB 14.3 MB/s eta 0:00:01\r",
      "\u001b[K     |█████████▎                      | 3.3 MB 14.3 MB/s eta 0:00:01\r",
      "\u001b[K     |█████████▎                      | 3.3 MB 14.3 MB/s eta 0:00:01\r",
      "\u001b[K     |█████████▎                      | 3.3 MB 14.3 MB/s eta 0:00:01\r",
      "\u001b[K     |█████████▎                      | 3.4 MB 14.3 MB/s eta 0:00:01\r",
      "\u001b[K     |█████████▍                      | 3.4 MB 14.3 MB/s eta 0:00:01\r",
      "\u001b[K     |█████████▍                      | 3.4 MB 14.3 MB/s eta 0:00:01\r",
      "\u001b[K     |█████████▍                      | 3.4 MB 14.3 MB/s eta 0:00:01\r",
      "\u001b[K     |█████████▍                      | 3.4 MB 14.3 MB/s eta 0:00:01\r",
      "\u001b[K     |█████████▌                      | 3.4 MB 14.3 MB/s eta 0:00:01\r",
      "\u001b[K     |█████████▌                      | 3.4 MB 14.3 MB/s eta 0:00:01\r",
      "\u001b[K     |█████████▌                      | 3.4 MB 14.3 MB/s eta 0:00:01\r",
      "\u001b[K     |█████████▌                      | 3.4 MB 14.3 MB/s eta 0:00:01\r",
      "\u001b[K     |█████████▋                      | 3.5 MB 14.3 MB/s eta 0:00:01\r",
      "\u001b[K     |█████████▋                      | 3.5 MB 14.3 MB/s eta 0:00:01\r",
      "\u001b[K     |█████████▋                      | 3.5 MB 14.3 MB/s eta 0:00:01\r",
      "\u001b[K     |█████████▋                      | 3.5 MB 14.3 MB/s eta 0:00:01\r",
      "\u001b[K     |█████████▊                      | 3.5 MB 14.3 MB/s eta 0:00:01\r",
      "\u001b[K     |█████████▊                      | 3.5 MB 14.3 MB/s eta 0:00:01\r",
      "\u001b[K     |█████████▊                      | 3.5 MB 14.3 MB/s eta 0:00:01\r",
      "\u001b[K     |█████████▊                      | 3.5 MB 14.3 MB/s eta 0:00:01\r",
      "\u001b[K     |█████████▉                      | 3.5 MB 14.3 MB/s eta 0:00:01\r",
      "\u001b[K     |█████████▉                      | 3.5 MB 14.3 MB/s eta 0:00:01\r",
      "\u001b[K     |█████████▉                      | 3.6 MB 14.3 MB/s eta 0:00:01\r",
      "\u001b[K     |█████████▉                      | 3.6 MB 14.3 MB/s eta 0:00:01\r",
      "\u001b[K     |██████████                      | 3.6 MB 14.3 MB/s eta 0:00:01\r",
      "\u001b[K     |██████████                      | 3.6 MB 14.3 MB/s eta 0:00:01\r",
      "\u001b[K     |██████████                      | 3.6 MB 14.3 MB/s eta 0:00:01\r",
      "\u001b[K     |██████████                      | 3.6 MB 14.3 MB/s eta 0:00:01\r",
      "\u001b[K     |██████████                      | 3.6 MB 14.3 MB/s eta 0:00:01\r",
      "\u001b[K     |██████████                      | 3.6 MB 14.3 MB/s eta 0:00:01\r",
      "\u001b[K     |██████████                      | 3.6 MB 14.3 MB/s eta 0:00:01\r",
      "\u001b[K     |██████████▏                     | 3.6 MB 14.3 MB/s eta 0:00:01\r",
      "\u001b[K     |██████████▏                     | 3.7 MB 14.3 MB/s eta 0:00:01\r",
      "\u001b[K     |██████████▏                     | 3.7 MB 14.3 MB/s eta 0:00:01\r",
      "\u001b[K     |██████████▏                     | 3.7 MB 14.3 MB/s eta 0:00:01\r",
      "\u001b[K     |██████████▎                     | 3.7 MB 14.3 MB/s eta 0:00:01\r",
      "\u001b[K     |██████████▎                     | 3.7 MB 14.3 MB/s eta 0:00:01\r",
      "\u001b[K     |██████████▎                     | 3.7 MB 14.3 MB/s eta 0:00:01\r",
      "\u001b[K     |██████████▎                     | 3.7 MB 14.3 MB/s eta 0:00:01"
     ]
    },
    {
     "name": "stdout",
     "output_type": "stream",
     "text": [
      "\r",
      "\u001b[K     |██████████▍                     | 3.7 MB 14.3 MB/s eta 0:00:01\r",
      "\u001b[K     |██████████▍                     | 3.7 MB 14.3 MB/s eta 0:00:01\r",
      "\u001b[K     |██████████▍                     | 3.7 MB 14.3 MB/s eta 0:00:01\r",
      "\u001b[K     |██████████▍                     | 3.8 MB 14.3 MB/s eta 0:00:01\r",
      "\u001b[K     |██████████▌                     | 3.8 MB 14.3 MB/s eta 0:00:01\r",
      "\u001b[K     |██████████▌                     | 3.8 MB 14.3 MB/s eta 0:00:01\r",
      "\u001b[K     |██████████▌                     | 3.8 MB 14.3 MB/s eta 0:00:01\r",
      "\u001b[K     |██████████▌                     | 3.8 MB 14.3 MB/s eta 0:00:01\r",
      "\u001b[K     |██████████▋                     | 3.8 MB 14.3 MB/s eta 0:00:01\r",
      "\u001b[K     |██████████▋                     | 3.8 MB 14.3 MB/s eta 0:00:01\r",
      "\u001b[K     |██████████▋                     | 3.8 MB 14.3 MB/s eta 0:00:01\r",
      "\u001b[K     |██████████▋                     | 3.8 MB 14.3 MB/s eta 0:00:01\r",
      "\u001b[K     |██████████▊                     | 3.9 MB 14.3 MB/s eta 0:00:01\r",
      "\u001b[K     |██████████▊                     | 3.9 MB 14.3 MB/s eta 0:00:01\r",
      "\u001b[K     |██████████▊                     | 3.9 MB 14.3 MB/s eta 0:00:01\r",
      "\u001b[K     |██████████▊                     | 3.9 MB 14.3 MB/s eta 0:00:01\r",
      "\u001b[K     |██████████▉                     | 3.9 MB 14.3 MB/s eta 0:00:01\r",
      "\u001b[K     |██████████▉                     | 3.9 MB 14.3 MB/s eta 0:00:01\r",
      "\u001b[K     |██████████▉                     | 3.9 MB 14.3 MB/s eta 0:00:01\r",
      "\u001b[K     |██████████▉                     | 3.9 MB 14.3 MB/s eta 0:00:01\r",
      "\u001b[K     |███████████                     | 3.9 MB 14.3 MB/s eta 0:00:01\r",
      "\u001b[K     |███████████                     | 3.9 MB 14.3 MB/s eta 0:00:01\r",
      "\u001b[K     |███████████                     | 4.0 MB 14.3 MB/s eta 0:00:01\r",
      "\u001b[K     |███████████                     | 4.0 MB 14.3 MB/s eta 0:00:01\r",
      "\u001b[K     |███████████                     | 4.0 MB 14.3 MB/s eta 0:00:01\r",
      "\u001b[K     |███████████                     | 4.0 MB 14.3 MB/s eta 0:00:01\r",
      "\u001b[K     |███████████                     | 4.0 MB 14.3 MB/s eta 0:00:01\r",
      "\u001b[K     |███████████                     | 4.0 MB 14.3 MB/s eta 0:00:01\r",
      "\u001b[K     |███████████▏                    | 4.0 MB 14.3 MB/s eta 0:00:01\r",
      "\u001b[K     |███████████▏                    | 4.0 MB 14.3 MB/s eta 0:00:01\r",
      "\u001b[K     |███████████▏                    | 4.0 MB 14.3 MB/s eta 0:00:01\r",
      "\u001b[K     |███████████▎                    | 4.0 MB 14.3 MB/s eta 0:00:01\r",
      "\u001b[K     |███████████▎                    | 4.1 MB 14.3 MB/s eta 0:00:01\r",
      "\u001b[K     |███████████▎                    | 4.1 MB 14.3 MB/s eta 0:00:01\r",
      "\u001b[K     |███████████▎                    | 4.1 MB 14.3 MB/s eta 0:00:01\r",
      "\u001b[K     |███████████▍                    | 4.1 MB 14.3 MB/s eta 0:00:01\r",
      "\u001b[K     |███████████▍                    | 4.1 MB 14.3 MB/s eta 0:00:01\r",
      "\u001b[K     |███████████▍                    | 4.1 MB 14.3 MB/s eta 0:00:01\r",
      "\u001b[K     |███████████▍                    | 4.1 MB 14.3 MB/s eta 0:00:01\r",
      "\u001b[K     |███████████▌                    | 4.1 MB 14.3 MB/s eta 0:00:01\r",
      "\u001b[K     |███████████▌                    | 4.1 MB 14.3 MB/s eta 0:00:01\r",
      "\u001b[K     |███████████▌                    | 4.1 MB 14.3 MB/s eta 0:00:01\r",
      "\u001b[K     |███████████▌                    | 4.2 MB 14.3 MB/s eta 0:00:01\r",
      "\u001b[K     |███████████▋                    | 4.2 MB 14.3 MB/s eta 0:00:01\r",
      "\u001b[K     |███████████▋                    | 4.2 MB 14.3 MB/s eta 0:00:01\r",
      "\u001b[K     |███████████▋                    | 4.2 MB 14.3 MB/s eta 0:00:01\r",
      "\u001b[K     |███████████▋                    | 4.2 MB 14.3 MB/s eta 0:00:01\r",
      "\u001b[K     |███████████▊                    | 4.2 MB 14.3 MB/s eta 0:00:01\r",
      "\u001b[K     |███████████▊                    | 4.2 MB 14.3 MB/s eta 0:00:01\r",
      "\u001b[K     |███████████▊                    | 4.2 MB 14.3 MB/s eta 0:00:01\r",
      "\u001b[K     |███████████▊                    | 4.2 MB 14.3 MB/s eta 0:00:01\r",
      "\u001b[K     |███████████▉                    | 4.2 MB 14.3 MB/s eta 0:00:01\r",
      "\u001b[K     |███████████▉                    | 4.3 MB 14.3 MB/s eta 0:00:01\r",
      "\u001b[K     |███████████▉                    | 4.3 MB 14.3 MB/s eta 0:00:01\r",
      "\u001b[K     |███████████▉                    | 4.3 MB 14.3 MB/s eta 0:00:01\r",
      "\u001b[K     |████████████                    | 4.3 MB 14.3 MB/s eta 0:00:01\r",
      "\u001b[K     |████████████                    | 4.3 MB 14.3 MB/s eta 0:00:01\r",
      "\u001b[K     |████████████                    | 4.3 MB 14.3 MB/s eta 0:00:01\r",
      "\u001b[K     |████████████                    | 4.3 MB 14.3 MB/s eta 0:00:01\r",
      "\u001b[K     |████████████                    | 4.3 MB 14.3 MB/s eta 0:00:01\r",
      "\u001b[K     |████████████                    | 4.3 MB 14.3 MB/s eta 0:00:01\r",
      "\u001b[K     |████████████                    | 4.4 MB 14.3 MB/s eta 0:00:01\r",
      "\u001b[K     |████████████                    | 4.4 MB 14.3 MB/s eta 0:00:01\r",
      "\u001b[K     |████████████▏                   | 4.4 MB 14.3 MB/s eta 0:00:01\r",
      "\u001b[K     |████████████▏                   | 4.4 MB 14.3 MB/s eta 0:00:01\r",
      "\u001b[K     |████████████▏                   | 4.4 MB 14.3 MB/s eta 0:00:01\r",
      "\u001b[K     |████████████▏                   | 4.4 MB 14.3 MB/s eta 0:00:01\r",
      "\u001b[K     |████████████▎                   | 4.4 MB 14.3 MB/s eta 0:00:01\r",
      "\u001b[K     |████████████▎                   | 4.4 MB 14.3 MB/s eta 0:00:01\r",
      "\u001b[K     |████████████▎                   | 4.4 MB 14.3 MB/s eta 0:00:01\r",
      "\u001b[K     |████████████▎                   | 4.4 MB 14.3 MB/s eta 0:00:01\r",
      "\u001b[K     |████████████▍                   | 4.5 MB 14.3 MB/s eta 0:00:01\r",
      "\u001b[K     |████████████▍                   | 4.5 MB 14.3 MB/s eta 0:00:01\r",
      "\u001b[K     |████████████▍                   | 4.5 MB 14.3 MB/s eta 0:00:01\r",
      "\u001b[K     |████████████▍                   | 4.5 MB 14.3 MB/s eta 0:00:01\r",
      "\u001b[K     |████████████▌                   | 4.5 MB 14.3 MB/s eta 0:00:01\r",
      "\u001b[K     |████████████▌                   | 4.5 MB 14.3 MB/s eta 0:00:01\r",
      "\u001b[K     |████████████▌                   | 4.5 MB 14.3 MB/s eta 0:00:01\r",
      "\u001b[K     |████████████▋                   | 4.5 MB 14.3 MB/s eta 0:00:01\r",
      "\u001b[K     |████████████▋                   | 4.5 MB 14.3 MB/s eta 0:00:01\r",
      "\u001b[K     |████████████▋                   | 4.5 MB 14.3 MB/s eta 0:00:01\r",
      "\u001b[K     |████████████▋                   | 4.6 MB 14.3 MB/s eta 0:00:01\r",
      "\u001b[K     |████████████▊                   | 4.6 MB 14.3 MB/s eta 0:00:01\r",
      "\u001b[K     |████████████▊                   | 4.6 MB 14.3 MB/s eta 0:00:01\r",
      "\u001b[K     |████████████▊                   | 4.6 MB 14.3 MB/s eta 0:00:01\r",
      "\u001b[K     |████████████▊                   | 4.6 MB 14.3 MB/s eta 0:00:01\r",
      "\u001b[K     |████████████▉                   | 4.6 MB 14.3 MB/s eta 0:00:01\r",
      "\u001b[K     |████████████▉                   | 4.6 MB 14.3 MB/s eta 0:00:01\r",
      "\u001b[K     |████████████▉                   | 4.6 MB 14.3 MB/s eta 0:00:01\r",
      "\u001b[K     |████████████▉                   | 4.6 MB 14.3 MB/s eta 0:00:01\r",
      "\u001b[K     |█████████████                   | 4.6 MB 14.3 MB/s eta 0:00:01\r",
      "\u001b[K     |█████████████                   | 4.7 MB 14.3 MB/s eta 0:00:01\r",
      "\u001b[K     |█████████████                   | 4.7 MB 14.3 MB/s eta 0:00:01\r",
      "\u001b[K     |█████████████                   | 4.7 MB 14.3 MB/s eta 0:00:01\r",
      "\u001b[K     |█████████████                   | 4.7 MB 14.3 MB/s eta 0:00:01\r",
      "\u001b[K     |█████████████                   | 4.7 MB 14.3 MB/s eta 0:00:01\r",
      "\u001b[K     |█████████████                   | 4.7 MB 14.3 MB/s eta 0:00:01\r",
      "\u001b[K     |█████████████                   | 4.7 MB 14.3 MB/s eta 0:00:01\r",
      "\u001b[K     |█████████████▏                  | 4.7 MB 14.3 MB/s eta 0:00:01\r",
      "\u001b[K     |█████████████▏                  | 4.7 MB 14.3 MB/s eta 0:00:01\r",
      "\u001b[K     |█████████████▏                  | 4.8 MB 14.3 MB/s eta 0:00:01\r",
      "\u001b[K     |█████████████▏                  | 4.8 MB 14.3 MB/s eta 0:00:01\r",
      "\u001b[K     |█████████████▎                  | 4.8 MB 14.3 MB/s eta 0:00:01\r",
      "\u001b[K     |█████████████▎                  | 4.8 MB 14.3 MB/s eta 0:00:01\r",
      "\u001b[K     |█████████████▎                  | 4.8 MB 14.3 MB/s eta 0:00:01\r",
      "\u001b[K     |█████████████▎                  | 4.8 MB 14.3 MB/s eta 0:00:01\r",
      "\u001b[K     |█████████████▍                  | 4.8 MB 14.3 MB/s eta 0:00:01\r",
      "\u001b[K     |█████████████▍                  | 4.8 MB 14.3 MB/s eta 0:00:01\r",
      "\u001b[K     |█████████████▍                  | 4.8 MB 14.3 MB/s eta 0:00:01\r",
      "\u001b[K     |█████████████▍                  | 4.8 MB 14.3 MB/s eta 0:00:01\r",
      "\u001b[K     |█████████████▌                  | 4.9 MB 14.3 MB/s eta 0:00:01\r",
      "\u001b[K     |█████████████▌                  | 4.9 MB 14.3 MB/s eta 0:00:01\r",
      "\u001b[K     |█████████████▌                  | 4.9 MB 14.3 MB/s eta 0:00:01\r",
      "\u001b[K     |█████████████▌                  | 4.9 MB 14.3 MB/s eta 0:00:01\r",
      "\u001b[K     |█████████████▋                  | 4.9 MB 14.3 MB/s eta 0:00:01\r",
      "\u001b[K     |█████████████▋                  | 4.9 MB 14.3 MB/s eta 0:00:01\r",
      "\u001b[K     |█████████████▋                  | 4.9 MB 14.3 MB/s eta 0:00:01\r",
      "\u001b[K     |█████████████▋                  | 4.9 MB 14.3 MB/s eta 0:00:01\r",
      "\u001b[K     |█████████████▊                  | 4.9 MB 14.3 MB/s eta 0:00:01\r",
      "\u001b[K     |█████████████▊                  | 4.9 MB 14.3 MB/s eta 0:00:01\r",
      "\u001b[K     |█████████████▊                  | 5.0 MB 14.3 MB/s eta 0:00:01\r",
      "\u001b[K     |█████████████▉                  | 5.0 MB 14.3 MB/s eta 0:00:01\r",
      "\u001b[K     |█████████████▉                  | 5.0 MB 14.3 MB/s eta 0:00:01\r",
      "\u001b[K     |█████████████▉                  | 5.0 MB 14.3 MB/s eta 0:00:01\r",
      "\u001b[K     |█████████████▉                  | 5.0 MB 14.3 MB/s eta 0:00:01\r",
      "\u001b[K     |██████████████                  | 5.0 MB 14.3 MB/s eta 0:00:01\r",
      "\u001b[K     |██████████████                  | 5.0 MB 14.3 MB/s eta 0:00:01\r",
      "\u001b[K     |██████████████                  | 5.0 MB 14.3 MB/s eta 0:00:01\r",
      "\u001b[K     |██████████████                  | 5.0 MB 14.3 MB/s eta 0:00:01\r",
      "\u001b[K     |██████████████                  | 5.0 MB 14.3 MB/s eta 0:00:01\r",
      "\u001b[K     |██████████████                  | 5.1 MB 14.3 MB/s eta 0:00:01\r",
      "\u001b[K     |██████████████                  | 5.1 MB 14.3 MB/s eta 0:00:01\r",
      "\u001b[K     |██████████████                  | 5.1 MB 14.3 MB/s eta 0:00:01"
     ]
    },
    {
     "name": "stdout",
     "output_type": "stream",
     "text": [
      "\r",
      "\u001b[K     |██████████████▏                 | 5.1 MB 14.3 MB/s eta 0:00:01\r",
      "\u001b[K     |██████████████▏                 | 5.1 MB 14.3 MB/s eta 0:00:01\r",
      "\u001b[K     |██████████████▏                 | 5.1 MB 14.3 MB/s eta 0:00:01\r",
      "\u001b[K     |██████████████▏                 | 5.1 MB 14.3 MB/s eta 0:00:01\r",
      "\u001b[K     |██████████████▎                 | 5.1 MB 14.3 MB/s eta 0:00:01\r",
      "\u001b[K     |██████████████▎                 | 5.1 MB 14.3 MB/s eta 0:00:01\r",
      "\u001b[K     |██████████████▎                 | 5.2 MB 14.3 MB/s eta 0:00:01\r",
      "\u001b[K     |██████████████▎                 | 5.2 MB 14.3 MB/s eta 0:00:01\r",
      "\u001b[K     |██████████████▍                 | 5.2 MB 14.3 MB/s eta 0:00:01\r",
      "\u001b[K     |██████████████▍                 | 5.2 MB 14.3 MB/s eta 0:00:01\r",
      "\u001b[K     |██████████████▍                 | 5.2 MB 14.3 MB/s eta 0:00:01\r",
      "\u001b[K     |██████████████▍                 | 5.2 MB 14.3 MB/s eta 0:00:01\r",
      "\u001b[K     |██████████████▌                 | 5.2 MB 14.3 MB/s eta 0:00:01\r",
      "\u001b[K     |██████████████▌                 | 5.2 MB 14.3 MB/s eta 0:00:01\r",
      "\u001b[K     |██████████████▌                 | 5.2 MB 14.3 MB/s eta 0:00:01\r",
      "\u001b[K     |██████████████▌                 | 5.2 MB 14.3 MB/s eta 0:00:01\r",
      "\u001b[K     |██████████████▋                 | 5.3 MB 14.3 MB/s eta 0:00:01\r",
      "\u001b[K     |██████████████▋                 | 5.3 MB 14.3 MB/s eta 0:00:01\r",
      "\u001b[K     |██████████████▋                 | 5.3 MB 14.3 MB/s eta 0:00:01\r",
      "\u001b[K     |██████████████▋                 | 5.3 MB 14.3 MB/s eta 0:00:01\r",
      "\u001b[K     |██████████████▊                 | 5.3 MB 14.3 MB/s eta 0:00:01\r",
      "\u001b[K     |██████████████▊                 | 5.3 MB 14.3 MB/s eta 0:00:01\r",
      "\u001b[K     |██████████████▊                 | 5.3 MB 14.3 MB/s eta 0:00:01\r",
      "\u001b[K     |██████████████▊                 | 5.3 MB 14.3 MB/s eta 0:00:01\r",
      "\u001b[K     |██████████████▉                 | 5.3 MB 14.3 MB/s eta 0:00:01\r",
      "\u001b[K     |██████████████▉                 | 5.3 MB 14.3 MB/s eta 0:00:01\r",
      "\u001b[K     |██████████████▉                 | 5.4 MB 14.3 MB/s eta 0:00:01\r",
      "\u001b[K     |██████████████▉                 | 5.4 MB 14.3 MB/s eta 0:00:01\r",
      "\u001b[K     |███████████████                 | 5.4 MB 14.3 MB/s eta 0:00:01\r",
      "\u001b[K     |███████████████                 | 5.4 MB 14.3 MB/s eta 0:00:01\r",
      "\u001b[K     |███████████████                 | 5.4 MB 14.3 MB/s eta 0:00:01\r",
      "\u001b[K     |███████████████                 | 5.4 MB 14.3 MB/s eta 0:00:01\r",
      "\u001b[K     |███████████████                 | 5.4 MB 14.3 MB/s eta 0:00:01\r",
      "\u001b[K     |███████████████                 | 5.4 MB 14.3 MB/s eta 0:00:01\r",
      "\u001b[K     |███████████████                 | 5.4 MB 14.3 MB/s eta 0:00:01\r",
      "\u001b[K     |███████████████▏                | 5.4 MB 14.3 MB/s eta 0:00:01\r",
      "\u001b[K     |███████████████▏                | 5.5 MB 14.3 MB/s eta 0:00:01\r",
      "\u001b[K     |███████████████▏                | 5.5 MB 14.3 MB/s eta 0:00:01\r",
      "\u001b[K     |███████████████▏                | 5.5 MB 14.3 MB/s eta 0:00:01\r",
      "\u001b[K     |███████████████▎                | 5.5 MB 14.3 MB/s eta 0:00:01\r",
      "\u001b[K     |███████████████▎                | 5.5 MB 14.3 MB/s eta 0:00:01\r",
      "\u001b[K     |███████████████▎                | 5.5 MB 14.3 MB/s eta 0:00:01\r",
      "\u001b[K     |███████████████▎                | 5.5 MB 14.3 MB/s eta 0:00:01\r",
      "\u001b[K     |███████████████▍                | 5.5 MB 14.3 MB/s eta 0:00:01\r",
      "\u001b[K     |███████████████▍                | 5.5 MB 14.3 MB/s eta 0:00:01\r",
      "\u001b[K     |███████████████▍                | 5.6 MB 14.3 MB/s eta 0:00:01\r",
      "\u001b[K     |███████████████▍                | 5.6 MB 14.3 MB/s eta 0:00:01\r",
      "\u001b[K     |███████████████▌                | 5.6 MB 14.3 MB/s eta 0:00:01\r",
      "\u001b[K     |███████████████▌                | 5.6 MB 14.3 MB/s eta 0:00:01\r",
      "\u001b[K     |███████████████▌                | 5.6 MB 14.3 MB/s eta 0:00:01\r",
      "\u001b[K     |███████████████▌                | 5.6 MB 14.3 MB/s eta 0:00:01\r",
      "\u001b[K     |███████████████▋                | 5.6 MB 14.3 MB/s eta 0:00:01\r",
      "\u001b[K     |███████████████▋                | 5.6 MB 14.3 MB/s eta 0:00:01\r",
      "\u001b[K     |███████████████▋                | 5.6 MB 14.3 MB/s eta 0:00:01\r",
      "\u001b[K     |███████████████▋                | 5.6 MB 14.3 MB/s eta 0:00:01\r",
      "\u001b[K     |███████████████▊                | 5.7 MB 14.3 MB/s eta 0:00:01\r",
      "\u001b[K     |███████████████▊                | 5.7 MB 14.3 MB/s eta 0:00:01\r",
      "\u001b[K     |███████████████▊                | 5.7 MB 14.3 MB/s eta 0:00:01\r",
      "\u001b[K     |███████████████▊                | 5.7 MB 14.3 MB/s eta 0:00:01\r",
      "\u001b[K     |███████████████▉                | 5.7 MB 14.3 MB/s eta 0:00:01\r",
      "\u001b[K     |███████████████▉                | 5.7 MB 14.3 MB/s eta 0:00:01\r",
      "\u001b[K     |███████████████▉                | 5.7 MB 14.3 MB/s eta 0:00:01\r",
      "\u001b[K     |███████████████▉                | 5.7 MB 14.3 MB/s eta 0:00:01\r",
      "\u001b[K     |████████████████                | 5.7 MB 14.3 MB/s eta 0:00:01\r",
      "\u001b[K     |████████████████                | 5.7 MB 14.3 MB/s eta 0:00:01\r",
      "\u001b[K     |████████████████                | 5.8 MB 14.3 MB/s eta 0:00:01\r",
      "\u001b[K     |████████████████                | 5.8 MB 14.3 MB/s eta 0:00:01\r",
      "\u001b[K     |████████████████                | 5.8 MB 14.3 MB/s eta 0:00:01\r",
      "\u001b[K     |████████████████                | 5.8 MB 14.3 MB/s eta 0:00:01\r",
      "\u001b[K     |████████████████                | 5.8 MB 14.3 MB/s eta 0:00:01\r",
      "\u001b[K     |████████████████                | 5.8 MB 14.3 MB/s eta 0:00:01\r",
      "\u001b[K     |████████████████▏               | 5.8 MB 14.3 MB/s eta 0:00:01\r",
      "\u001b[K     |████████████████▏               | 5.8 MB 14.3 MB/s eta 0:00:01\r",
      "\u001b[K     |████████████████▏               | 5.8 MB 14.3 MB/s eta 0:00:01\r",
      "\u001b[K     |████████████████▎               | 5.8 MB 14.3 MB/s eta 0:00:01\r",
      "\u001b[K     |████████████████▎               | 5.9 MB 14.3 MB/s eta 0:00:01\r",
      "\u001b[K     |████████████████▎               | 5.9 MB 14.3 MB/s eta 0:00:01\r",
      "\u001b[K     |████████████████▎               | 5.9 MB 14.3 MB/s eta 0:00:01\r",
      "\u001b[K     |████████████████▍               | 5.9 MB 14.3 MB/s eta 0:00:01\r",
      "\u001b[K     |████████████████▍               | 5.9 MB 14.3 MB/s eta 0:00:01\r",
      "\u001b[K     |████████████████▍               | 5.9 MB 14.3 MB/s eta 0:00:01\r",
      "\u001b[K     |████████████████▍               | 5.9 MB 14.3 MB/s eta 0:00:01\r",
      "\u001b[K     |████████████████▌               | 5.9 MB 14.3 MB/s eta 0:00:01\r",
      "\u001b[K     |████████████████▌               | 5.9 MB 14.3 MB/s eta 0:00:01\r",
      "\u001b[K     |████████████████▌               | 5.9 MB 14.3 MB/s eta 0:00:01\r",
      "\u001b[K     |████████████████▌               | 6.0 MB 14.3 MB/s eta 0:00:01\r",
      "\u001b[K     |████████████████▋               | 6.0 MB 14.3 MB/s eta 0:00:01\r",
      "\u001b[K     |████████████████▋               | 6.0 MB 14.3 MB/s eta 0:00:01\r",
      "\u001b[K     |████████████████▋               | 6.0 MB 14.3 MB/s eta 0:00:01\r",
      "\u001b[K     |████████████████▋               | 6.0 MB 14.3 MB/s eta 0:00:01\r",
      "\u001b[K     |████████████████▊               | 6.0 MB 14.3 MB/s eta 0:00:01\r",
      "\u001b[K     |████████████████▊               | 6.0 MB 14.3 MB/s eta 0:00:01\r",
      "\u001b[K     |████████████████▊               | 6.0 MB 14.3 MB/s eta 0:00:01\r",
      "\u001b[K     |████████████████▊               | 6.0 MB 14.3 MB/s eta 0:00:01\r",
      "\u001b[K     |████████████████▉               | 6.1 MB 14.3 MB/s eta 0:00:01\r",
      "\u001b[K     |████████████████▉               | 6.1 MB 14.3 MB/s eta 0:00:01\r",
      "\u001b[K     |████████████████▉               | 6.1 MB 14.3 MB/s eta 0:00:01\r",
      "\u001b[K     |████████████████▉               | 6.1 MB 14.3 MB/s eta 0:00:01\r",
      "\u001b[K     |█████████████████               | 6.1 MB 14.3 MB/s eta 0:00:01\r",
      "\u001b[K     |█████████████████               | 6.1 MB 14.3 MB/s eta 0:00:01\r",
      "\u001b[K     |█████████████████               | 6.1 MB 14.3 MB/s eta 0:00:01\r",
      "\u001b[K     |█████████████████               | 6.1 MB 14.3 MB/s eta 0:00:01\r",
      "\u001b[K     |█████████████████               | 6.1 MB 14.3 MB/s eta 0:00:01\r",
      "\u001b[K     |█████████████████               | 6.1 MB 14.3 MB/s eta 0:00:01\r",
      "\u001b[K     |█████████████████               | 6.2 MB 14.3 MB/s eta 0:00:01\r",
      "\u001b[K     |█████████████████               | 6.2 MB 14.3 MB/s eta 0:00:01\r",
      "\u001b[K     |█████████████████▏              | 6.2 MB 14.3 MB/s eta 0:00:01\r",
      "\u001b[K     |█████████████████▏              | 6.2 MB 14.3 MB/s eta 0:00:01\r",
      "\u001b[K     |█████████████████▏              | 6.2 MB 14.3 MB/s eta 0:00:01\r",
      "\u001b[K     |█████████████████▏              | 6.2 MB 14.3 MB/s eta 0:00:01\r",
      "\u001b[K     |█████████████████▎              | 6.2 MB 14.3 MB/s eta 0:00:01\r",
      "\u001b[K     |█████████████████▎              | 6.2 MB 14.3 MB/s eta 0:00:01\r",
      "\u001b[K     |█████████████████▎              | 6.2 MB 14.3 MB/s eta 0:00:01\r",
      "\u001b[K     |█████████████████▎              | 6.2 MB 14.3 MB/s eta 0:00:01\r",
      "\u001b[K     |█████████████████▍              | 6.3 MB 14.3 MB/s eta 0:00:01\r",
      "\u001b[K     |█████████████████▍              | 6.3 MB 14.3 MB/s eta 0:00:01\r",
      "\u001b[K     |█████████████████▍              | 6.3 MB 14.3 MB/s eta 0:00:01\r",
      "\u001b[K     |█████████████████▍              | 6.3 MB 14.3 MB/s eta 0:00:01\r",
      "\u001b[K     |█████████████████▌              | 6.3 MB 14.3 MB/s eta 0:00:01\r",
      "\u001b[K     |█████████████████▌              | 6.3 MB 14.3 MB/s eta 0:00:01\r",
      "\u001b[K     |█████████████████▌              | 6.3 MB 14.3 MB/s eta 0:00:01"
     ]
    },
    {
     "name": "stdout",
     "output_type": "stream",
     "text": [
      "\r",
      "\u001b[K     |█████████████████▋              | 6.3 MB 14.3 MB/s eta 0:00:01\r",
      "\u001b[K     |█████████████████▋              | 6.3 MB 14.3 MB/s eta 0:00:01\r",
      "\u001b[K     |█████████████████▋              | 6.3 MB 14.3 MB/s eta 0:00:01\r",
      "\u001b[K     |█████████████████▋              | 6.4 MB 14.3 MB/s eta 0:00:01\r",
      "\u001b[K     |█████████████████▊              | 6.4 MB 14.3 MB/s eta 0:00:01\r",
      "\u001b[K     |█████████████████▊              | 6.4 MB 14.3 MB/s eta 0:00:01\r",
      "\u001b[K     |█████████████████▊              | 6.4 MB 14.3 MB/s eta 0:00:01\r",
      "\u001b[K     |█████████████████▊              | 6.4 MB 14.3 MB/s eta 0:00:01\r",
      "\u001b[K     |█████████████████▉              | 6.4 MB 14.3 MB/s eta 0:00:01\r",
      "\u001b[K     |█████████████████▉              | 6.4 MB 14.3 MB/s eta 0:00:01\r",
      "\u001b[K     |█████████████████▉              | 6.4 MB 14.3 MB/s eta 0:00:01\r",
      "\u001b[K     |█████████████████▉              | 6.4 MB 14.3 MB/s eta 0:00:01\r",
      "\u001b[K     |██████████████████              | 6.5 MB 14.3 MB/s eta 0:00:01\r",
      "\u001b[K     |██████████████████              | 6.5 MB 14.3 MB/s eta 0:00:01\r",
      "\u001b[K     |██████████████████              | 6.5 MB 14.3 MB/s eta 0:00:01\r",
      "\u001b[K     |██████████████████              | 6.5 MB 14.3 MB/s eta 0:00:01\r",
      "\u001b[K     |██████████████████              | 6.5 MB 14.3 MB/s eta 0:00:01\r",
      "\u001b[K     |██████████████████              | 6.5 MB 14.3 MB/s eta 0:00:01\r",
      "\u001b[K     |██████████████████              | 6.5 MB 14.3 MB/s eta 0:00:01\r",
      "\u001b[K     |██████████████████              | 6.5 MB 14.3 MB/s eta 0:00:01\r",
      "\u001b[K     |██████████████████▏             | 6.5 MB 14.3 MB/s eta 0:00:01\r",
      "\u001b[K     |██████████████████▏             | 6.5 MB 14.3 MB/s eta 0:00:01\r",
      "\u001b[K     |██████████████████▏             | 6.6 MB 14.3 MB/s eta 0:00:01\r",
      "\u001b[K     |██████████████████▏             | 6.6 MB 14.3 MB/s eta 0:00:01\r",
      "\u001b[K     |██████████████████▎             | 6.6 MB 14.3 MB/s eta 0:00:01\r",
      "\u001b[K     |██████████████████▎             | 6.6 MB 14.3 MB/s eta 0:00:01\r",
      "\u001b[K     |██████████████████▎             | 6.6 MB 14.3 MB/s eta 0:00:01\r",
      "\u001b[K     |██████████████████▎             | 6.6 MB 14.3 MB/s eta 0:00:01\r",
      "\u001b[K     |██████████████████▍             | 6.6 MB 14.3 MB/s eta 0:00:01\r",
      "\u001b[K     |██████████████████▍             | 6.6 MB 14.3 MB/s eta 0:00:01\r",
      "\u001b[K     |██████████████████▍             | 6.6 MB 14.3 MB/s eta 0:00:01\r",
      "\u001b[K     |██████████████████▍             | 6.6 MB 14.3 MB/s eta 0:00:01\r",
      "\u001b[K     |██████████████████▌             | 6.7 MB 14.3 MB/s eta 0:00:01\r",
      "\u001b[K     |██████████████████▌             | 6.7 MB 14.3 MB/s eta 0:00:01\r",
      "\u001b[K     |██████████████████▌             | 6.7 MB 14.3 MB/s eta 0:00:01\r",
      "\u001b[K     |██████████████████▌             | 6.7 MB 14.3 MB/s eta 0:00:01\r",
      "\u001b[K     |██████████████████▋             | 6.7 MB 14.3 MB/s eta 0:00:01\r",
      "\u001b[K     |██████████████████▋             | 6.7 MB 14.3 MB/s eta 0:00:01\r",
      "\u001b[K     |██████████████████▋             | 6.7 MB 14.3 MB/s eta 0:00:01\r",
      "\u001b[K     |██████████████████▋             | 6.7 MB 14.3 MB/s eta 0:00:01\r",
      "\u001b[K     |██████████████████▊             | 6.7 MB 14.3 MB/s eta 0:00:01\r",
      "\u001b[K     |██████████████████▊             | 6.7 MB 14.3 MB/s eta 0:00:01\r",
      "\u001b[K     |██████████████████▊             | 6.8 MB 14.3 MB/s eta 0:00:01\r",
      "\u001b[K     |██████████████████▉             | 6.8 MB 14.3 MB/s eta 0:00:01\r",
      "\u001b[K     |██████████████████▉             | 6.8 MB 14.3 MB/s eta 0:00:01\r",
      "\u001b[K     |██████████████████▉             | 6.8 MB 14.3 MB/s eta 0:00:01\r",
      "\u001b[K     |██████████████████▉             | 6.8 MB 14.3 MB/s eta 0:00:01\r",
      "\u001b[K     |███████████████████             | 6.8 MB 14.3 MB/s eta 0:00:01\r",
      "\u001b[K     |███████████████████             | 6.8 MB 14.3 MB/s eta 0:00:01\r",
      "\u001b[K     |███████████████████             | 6.8 MB 14.3 MB/s eta 0:00:01\r",
      "\u001b[K     |███████████████████             | 6.8 MB 14.3 MB/s eta 0:00:01\r",
      "\u001b[K     |███████████████████             | 6.9 MB 14.3 MB/s eta 0:00:01\r",
      "\u001b[K     |███████████████████             | 6.9 MB 14.3 MB/s eta 0:00:01\r",
      "\u001b[K     |███████████████████             | 6.9 MB 14.3 MB/s eta 0:00:01\r",
      "\u001b[K     |███████████████████             | 6.9 MB 14.3 MB/s eta 0:00:01\r",
      "\u001b[K     |███████████████████▏            | 6.9 MB 14.3 MB/s eta 0:00:01\r",
      "\u001b[K     |███████████████████▏            | 6.9 MB 14.3 MB/s eta 0:00:01\r",
      "\u001b[K     |███████████████████▏            | 6.9 MB 14.3 MB/s eta 0:00:01\r",
      "\u001b[K     |███████████████████▏            | 6.9 MB 14.3 MB/s eta 0:00:01\r",
      "\u001b[K     |███████████████████▎            | 6.9 MB 14.3 MB/s eta 0:00:01\r",
      "\u001b[K     |███████████████████▎            | 6.9 MB 14.3 MB/s eta 0:00:01\r",
      "\u001b[K     |███████████████████▎            | 7.0 MB 14.3 MB/s eta 0:00:01\r",
      "\u001b[K     |███████████████████▎            | 7.0 MB 14.3 MB/s eta 0:00:01\r",
      "\u001b[K     |███████████████████▍            | 7.0 MB 14.3 MB/s eta 0:00:01\r",
      "\u001b[K     |███████████████████▍            | 7.0 MB 14.3 MB/s eta 0:00:01\r",
      "\u001b[K     |███████████████████▍            | 7.0 MB 14.3 MB/s eta 0:00:01\r",
      "\u001b[K     |███████████████████▍            | 7.0 MB 14.3 MB/s eta 0:00:01\r",
      "\u001b[K     |███████████████████▌            | 7.0 MB 14.3 MB/s eta 0:00:01\r",
      "\u001b[K     |███████████████████▌            | 7.0 MB 14.3 MB/s eta 0:00:01\r",
      "\u001b[K     |███████████████████▌            | 7.0 MB 14.3 MB/s eta 0:00:01\r",
      "\u001b[K     |███████████████████▌            | 7.0 MB 14.3 MB/s eta 0:00:01\r",
      "\u001b[K     |███████████████████▋            | 7.1 MB 14.3 MB/s eta 0:00:01\r",
      "\u001b[K     |███████████████████▋            | 7.1 MB 14.3 MB/s eta 0:00:01\r",
      "\u001b[K     |███████████████████▋            | 7.1 MB 14.3 MB/s eta 0:00:01\r",
      "\u001b[K     |███████████████████▋            | 7.1 MB 14.3 MB/s eta 0:00:01\r",
      "\u001b[K     |███████████████████▊            | 7.1 MB 14.3 MB/s eta 0:00:01\r",
      "\u001b[K     |███████████████████▊            | 7.1 MB 14.3 MB/s eta 0:00:01\r",
      "\u001b[K     |███████████████████▊            | 7.1 MB 14.3 MB/s eta 0:00:01\r",
      "\u001b[K     |███████████████████▊            | 7.1 MB 14.3 MB/s eta 0:00:01\r",
      "\u001b[K     |███████████████████▉            | 7.1 MB 14.3 MB/s eta 0:00:01\r",
      "\u001b[K     |███████████████████▉            | 7.1 MB 14.3 MB/s eta 0:00:01\r",
      "\u001b[K     |███████████████████▉            | 7.2 MB 14.3 MB/s eta 0:00:01\r",
      "\u001b[K     |███████████████████▉            | 7.2 MB 14.3 MB/s eta 0:00:01\r",
      "\u001b[K     |████████████████████            | 7.2 MB 14.3 MB/s eta 0:00:01\r",
      "\u001b[K     |████████████████████            | 7.2 MB 14.3 MB/s eta 0:00:01\r",
      "\u001b[K     |████████████████████            | 7.2 MB 14.3 MB/s eta 0:00:01\r",
      "\u001b[K     |████████████████████            | 7.2 MB 14.3 MB/s eta 0:00:01\r",
      "\u001b[K     |████████████████████            | 7.2 MB 14.3 MB/s eta 0:00:01\r",
      "\u001b[K     |████████████████████            | 7.2 MB 14.3 MB/s eta 0:00:01\r",
      "\u001b[K     |████████████████████            | 7.2 MB 14.3 MB/s eta 0:00:01\r",
      "\u001b[K     |████████████████████▏           | 7.2 MB 14.3 MB/s eta 0:00:01\r",
      "\u001b[K     |████████████████████▏           | 7.3 MB 14.3 MB/s eta 0:00:01\r",
      "\u001b[K     |████████████████████▏           | 7.3 MB 14.3 MB/s eta 0:00:01\r",
      "\u001b[K     |████████████████████▏           | 7.3 MB 14.3 MB/s eta 0:00:01\r",
      "\u001b[K     |████████████████████▎           | 7.3 MB 14.3 MB/s eta 0:00:01\r",
      "\u001b[K     |████████████████████▎           | 7.3 MB 14.3 MB/s eta 0:00:01\r",
      "\u001b[K     |████████████████████▎           | 7.3 MB 14.3 MB/s eta 0:00:01\r",
      "\u001b[K     |████████████████████▎           | 7.3 MB 14.3 MB/s eta 0:00:01\r",
      "\u001b[K     |████████████████████▍           | 7.3 MB 14.3 MB/s eta 0:00:01\r",
      "\u001b[K     |████████████████████▍           | 7.3 MB 14.3 MB/s eta 0:00:01\r",
      "\u001b[K     |████████████████████▍           | 7.4 MB 14.3 MB/s eta 0:00:01\r",
      "\u001b[K     |████████████████████▍           | 7.4 MB 14.3 MB/s eta 0:00:01\r",
      "\u001b[K     |████████████████████▌           | 7.4 MB 14.3 MB/s eta 0:00:01\r",
      "\u001b[K     |████████████████████▌           | 7.4 MB 14.3 MB/s eta 0:00:01\r",
      "\u001b[K     |████████████████████▌           | 7.4 MB 14.3 MB/s eta 0:00:01\r",
      "\u001b[K     |████████████████████▌           | 7.4 MB 14.3 MB/s eta 0:00:01\r",
      "\u001b[K     |████████████████████▋           | 7.4 MB 14.3 MB/s eta 0:00:01\r",
      "\u001b[K     |████████████████████▋           | 7.4 MB 14.3 MB/s eta 0:00:01\r",
      "\u001b[K     |████████████████████▋           | 7.4 MB 14.3 MB/s eta 0:00:01\r",
      "\u001b[K     |████████████████████▋           | 7.4 MB 14.3 MB/s eta 0:00:01\r",
      "\u001b[K     |████████████████████▊           | 7.5 MB 14.3 MB/s eta 0:00:01\r",
      "\u001b[K     |████████████████████▊           | 7.5 MB 14.3 MB/s eta 0:00:01\r",
      "\u001b[K     |████████████████████▊           | 7.5 MB 14.3 MB/s eta 0:00:01\r",
      "\u001b[K     |████████████████████▊           | 7.5 MB 14.3 MB/s eta 0:00:01\r",
      "\u001b[K     |████████████████████▉           | 7.5 MB 14.3 MB/s eta 0:00:01\r",
      "\u001b[K     |████████████████████▉           | 7.5 MB 14.3 MB/s eta 0:00:01\r",
      "\u001b[K     |████████████████████▉           | 7.5 MB 14.3 MB/s eta 0:00:01\r",
      "\u001b[K     |████████████████████▉           | 7.5 MB 14.3 MB/s eta 0:00:01\r",
      "\u001b[K     |█████████████████████           | 7.5 MB 14.3 MB/s eta 0:00:01\r",
      "\u001b[K     |█████████████████████           | 7.5 MB 14.3 MB/s eta 0:00:01\r",
      "\u001b[K     |█████████████████████           | 7.6 MB 14.3 MB/s eta 0:00:01\r",
      "\u001b[K     |█████████████████████           | 7.6 MB 14.3 MB/s eta 0:00:01"
     ]
    },
    {
     "name": "stdout",
     "output_type": "stream",
     "text": [
      "\r",
      "\u001b[K     |█████████████████████           | 7.6 MB 14.3 MB/s eta 0:00:01\r",
      "\u001b[K     |█████████████████████           | 7.6 MB 14.3 MB/s eta 0:00:01\r",
      "\u001b[K     |█████████████████████           | 7.6 MB 14.3 MB/s eta 0:00:01\r",
      "\u001b[K     |█████████████████████           | 7.6 MB 14.3 MB/s eta 0:00:01\r",
      "\u001b[K     |█████████████████████▏          | 7.6 MB 14.3 MB/s eta 0:00:01\r",
      "\u001b[K     |█████████████████████▏          | 7.6 MB 14.3 MB/s eta 0:00:01\r",
      "\u001b[K     |█████████████████████▏          | 7.6 MB 14.3 MB/s eta 0:00:01\r",
      "\u001b[K     |█████████████████████▎          | 7.6 MB 14.3 MB/s eta 0:00:01\r",
      "\u001b[K     |█████████████████████▎          | 7.7 MB 14.3 MB/s eta 0:00:01\r",
      "\u001b[K     |█████████████████████▎          | 7.7 MB 14.3 MB/s eta 0:00:01\r",
      "\u001b[K     |█████████████████████▎          | 7.7 MB 14.3 MB/s eta 0:00:01\r",
      "\u001b[K     |█████████████████████▍          | 7.7 MB 14.3 MB/s eta 0:00:01\r",
      "\u001b[K     |█████████████████████▍          | 7.7 MB 14.3 MB/s eta 0:00:01\r",
      "\u001b[K     |█████████████████████▍          | 7.7 MB 14.3 MB/s eta 0:00:01\r",
      "\u001b[K     |█████████████████████▍          | 7.7 MB 14.3 MB/s eta 0:00:01\r",
      "\u001b[K     |█████████████████████▌          | 7.7 MB 14.3 MB/s eta 0:00:01\r",
      "\u001b[K     |█████████████████████▌          | 7.7 MB 14.3 MB/s eta 0:00:01\r",
      "\u001b[K     |█████████████████████▌          | 7.8 MB 14.3 MB/s eta 0:00:01\r",
      "\u001b[K     |█████████████████████▌          | 7.8 MB 14.3 MB/s eta 0:00:01\r",
      "\u001b[K     |█████████████████████▋          | 7.8 MB 14.3 MB/s eta 0:00:01\r",
      "\u001b[K     |█████████████████████▋          | 7.8 MB 14.3 MB/s eta 0:00:01\r",
      "\u001b[K     |█████████████████████▋          | 7.8 MB 14.3 MB/s eta 0:00:01\r",
      "\u001b[K     |█████████████████████▋          | 7.8 MB 14.3 MB/s eta 0:00:01\r",
      "\u001b[K     |█████████████████████▊          | 7.8 MB 14.3 MB/s eta 0:00:01\r",
      "\u001b[K     |█████████████████████▊          | 7.8 MB 14.3 MB/s eta 0:00:01\r",
      "\u001b[K     |█████████████████████▊          | 7.8 MB 14.3 MB/s eta 0:00:01\r",
      "\u001b[K     |█████████████████████▊          | 7.8 MB 14.3 MB/s eta 0:00:01\r",
      "\u001b[K     |█████████████████████▉          | 7.9 MB 14.3 MB/s eta 0:00:01\r",
      "\u001b[K     |█████████████████████▉          | 7.9 MB 14.3 MB/s eta 0:00:01\r",
      "\u001b[K     |█████████████████████▉          | 7.9 MB 14.3 MB/s eta 0:00:01\r",
      "\u001b[K     |█████████████████████▉          | 7.9 MB 14.3 MB/s eta 0:00:01\r",
      "\u001b[K     |██████████████████████          | 7.9 MB 14.3 MB/s eta 0:00:01\r",
      "\u001b[K     |██████████████████████          | 7.9 MB 14.3 MB/s eta 0:00:01\r",
      "\u001b[K     |██████████████████████          | 7.9 MB 14.3 MB/s eta 0:00:01\r",
      "\u001b[K     |██████████████████████          | 7.9 MB 14.3 MB/s eta 0:00:01\r",
      "\u001b[K     |██████████████████████          | 7.9 MB 14.3 MB/s eta 0:00:01\r",
      "\u001b[K     |██████████████████████          | 7.9 MB 14.3 MB/s eta 0:00:01\r",
      "\u001b[K     |██████████████████████          | 8.0 MB 14.3 MB/s eta 0:00:01\r",
      "\u001b[K     |██████████████████████          | 8.0 MB 14.3 MB/s eta 0:00:01\r",
      "\u001b[K     |██████████████████████▏         | 8.0 MB 14.3 MB/s eta 0:00:01\r",
      "\u001b[K     |██████████████████████▏         | 8.0 MB 14.3 MB/s eta 0:00:01\r",
      "\u001b[K     |██████████████████████▏         | 8.0 MB 14.3 MB/s eta 0:00:01\r",
      "\u001b[K     |██████████████████████▏         | 8.0 MB 14.3 MB/s eta 0:00:01\r",
      "\u001b[K     |██████████████████████▎         | 8.0 MB 14.3 MB/s eta 0:00:01\r",
      "\u001b[K     |██████████████████████▎         | 8.0 MB 14.3 MB/s eta 0:00:01\r",
      "\u001b[K     |██████████████████████▎         | 8.0 MB 14.3 MB/s eta 0:00:01\r",
      "\u001b[K     |██████████████████████▎         | 8.0 MB 14.3 MB/s eta 0:00:01\r",
      "\u001b[K     |██████████████████████▍         | 8.1 MB 14.3 MB/s eta 0:00:01\r",
      "\u001b[K     |██████████████████████▍         | 8.1 MB 14.3 MB/s eta 0:00:01\r",
      "\u001b[K     |██████████████████████▍         | 8.1 MB 14.3 MB/s eta 0:00:01\r",
      "\u001b[K     |██████████████████████▌         | 8.1 MB 14.3 MB/s eta 0:00:01\r",
      "\u001b[K     |██████████████████████▌         | 8.1 MB 14.3 MB/s eta 0:00:01\r",
      "\u001b[K     |██████████████████████▌         | 8.1 MB 14.3 MB/s eta 0:00:01\r",
      "\u001b[K     |██████████████████████▌         | 8.1 MB 14.3 MB/s eta 0:00:01\r",
      "\u001b[K     |██████████████████████▋         | 8.1 MB 14.3 MB/s eta 0:00:01\r",
      "\u001b[K     |██████████████████████▋         | 8.1 MB 14.3 MB/s eta 0:00:01\r",
      "\u001b[K     |██████████████████████▋         | 8.2 MB 14.3 MB/s eta 0:00:01\r",
      "\u001b[K     |██████████████████████▋         | 8.2 MB 14.3 MB/s eta 0:00:01\r",
      "\u001b[K     |██████████████████████▊         | 8.2 MB 14.3 MB/s eta 0:00:01\r",
      "\u001b[K     |██████████████████████▊         | 8.2 MB 14.3 MB/s eta 0:00:01\r",
      "\u001b[K     |██████████████████████▊         | 8.2 MB 14.3 MB/s eta 0:00:01\r",
      "\u001b[K     |██████████████████████▊         | 8.2 MB 14.3 MB/s eta 0:00:01\r",
      "\u001b[K     |██████████████████████▉         | 8.2 MB 14.3 MB/s eta 0:00:01\r",
      "\u001b[K     |██████████████████████▉         | 8.2 MB 14.3 MB/s eta 0:00:01\r",
      "\u001b[K     |██████████████████████▉         | 8.2 MB 14.3 MB/s eta 0:00:01\r",
      "\u001b[K     |██████████████████████▉         | 8.2 MB 14.3 MB/s eta 0:00:01\r",
      "\u001b[K     |███████████████████████         | 8.3 MB 14.3 MB/s eta 0:00:01\r",
      "\u001b[K     |███████████████████████         | 8.3 MB 14.3 MB/s eta 0:00:01\r",
      "\u001b[K     |███████████████████████         | 8.3 MB 14.3 MB/s eta 0:00:01\r",
      "\u001b[K     |███████████████████████         | 8.3 MB 14.3 MB/s eta 0:00:01\r",
      "\u001b[K     |███████████████████████         | 8.3 MB 14.3 MB/s eta 0:00:01\r",
      "\u001b[K     |███████████████████████         | 8.3 MB 14.3 MB/s eta 0:00:01\r",
      "\u001b[K     |███████████████████████         | 8.3 MB 14.3 MB/s eta 0:00:01\r",
      "\u001b[K     |███████████████████████         | 8.3 MB 14.3 MB/s eta 0:00:01\r",
      "\u001b[K     |███████████████████████▏        | 8.3 MB 14.3 MB/s eta 0:00:01\r",
      "\u001b[K     |███████████████████████▏        | 8.3 MB 14.3 MB/s eta 0:00:01\r",
      "\u001b[K     |███████████████████████▏        | 8.4 MB 14.3 MB/s eta 0:00:01\r",
      "\u001b[K     |███████████████████████▏        | 8.4 MB 14.3 MB/s eta 0:00:01\r",
      "\u001b[K     |███████████████████████▎        | 8.4 MB 14.3 MB/s eta 0:00:01\r",
      "\u001b[K     |███████████████████████▎        | 8.4 MB 14.3 MB/s eta 0:00:01\r",
      "\u001b[K     |███████████████████████▎        | 8.4 MB 14.3 MB/s eta 0:00:01\r",
      "\u001b[K     |███████████████████████▎        | 8.4 MB 14.3 MB/s eta 0:00:01\r",
      "\u001b[K     |███████████████████████▍        | 8.4 MB 14.3 MB/s eta 0:00:01"
     ]
    },
    {
     "name": "stdout",
     "output_type": "stream",
     "text": [
      "\r",
      "\u001b[K     |███████████████████████▍        | 8.4 MB 14.3 MB/s eta 0:00:01\r",
      "\u001b[K     |███████████████████████▍        | 8.4 MB 14.3 MB/s eta 0:00:01\r",
      "\u001b[K     |███████████████████████▍        | 8.4 MB 14.3 MB/s eta 0:00:01\r",
      "\u001b[K     |███████████████████████▌        | 8.5 MB 14.3 MB/s eta 0:00:01\r",
      "\u001b[K     |███████████████████████▌        | 8.5 MB 14.3 MB/s eta 0:00:01\r",
      "\u001b[K     |███████████████████████▌        | 8.5 MB 14.3 MB/s eta 0:00:01\r",
      "\u001b[K     |███████████████████████▌        | 8.5 MB 14.3 MB/s eta 0:00:01\r",
      "\u001b[K     |███████████████████████▋        | 8.5 MB 14.3 MB/s eta 0:00:01\r",
      "\u001b[K     |███████████████████████▋        | 8.5 MB 14.3 MB/s eta 0:00:01\r",
      "\u001b[K     |███████████████████████▋        | 8.5 MB 14.3 MB/s eta 0:00:01\r",
      "\u001b[K     |███████████████████████▋        | 8.5 MB 14.3 MB/s eta 0:00:01\r",
      "\u001b[K     |███████████████████████▊        | 8.5 MB 14.3 MB/s eta 0:00:01\r",
      "\u001b[K     |███████████████████████▊        | 8.6 MB 14.3 MB/s eta 0:00:01\r",
      "\u001b[K     |███████████████████████▊        | 8.6 MB 14.3 MB/s eta 0:00:01\r",
      "\u001b[K     |███████████████████████▉        | 8.6 MB 14.3 MB/s eta 0:00:01\r",
      "\u001b[K     |███████████████████████▉        | 8.6 MB 14.3 MB/s eta 0:00:01\r",
      "\u001b[K     |███████████████████████▉        | 8.6 MB 14.3 MB/s eta 0:00:01\r",
      "\u001b[K     |███████████████████████▉        | 8.6 MB 14.3 MB/s eta 0:00:01\r",
      "\u001b[K     |████████████████████████        | 8.6 MB 14.3 MB/s eta 0:00:01\r",
      "\u001b[K     |████████████████████████        | 8.6 MB 14.3 MB/s eta 0:00:01\r",
      "\u001b[K     |████████████████████████        | 8.6 MB 14.3 MB/s eta 0:00:01\r",
      "\u001b[K     |████████████████████████        | 8.6 MB 14.3 MB/s eta 0:00:01\r",
      "\u001b[K     |████████████████████████        | 8.7 MB 14.3 MB/s eta 0:00:01\r",
      "\u001b[K     |████████████████████████        | 8.7 MB 14.3 MB/s eta 0:00:01\r",
      "\u001b[K     |████████████████████████        | 8.7 MB 14.3 MB/s eta 0:00:01\r",
      "\u001b[K     |████████████████████████        | 8.7 MB 14.3 MB/s eta 0:00:01\r",
      "\u001b[K     |████████████████████████▏       | 8.7 MB 14.3 MB/s eta 0:00:01\r",
      "\u001b[K     |████████████████████████▏       | 8.7 MB 14.3 MB/s eta 0:00:01\r",
      "\u001b[K     |████████████████████████▏       | 8.7 MB 14.3 MB/s eta 0:00:01\r",
      "\u001b[K     |████████████████████████▏       | 8.7 MB 14.3 MB/s eta 0:00:01\r",
      "\u001b[K     |████████████████████████▎       | 8.7 MB 14.3 MB/s eta 0:00:01\r",
      "\u001b[K     |████████████████████████▎       | 8.7 MB 14.3 MB/s eta 0:00:01\r",
      "\u001b[K     |████████████████████████▎       | 8.8 MB 14.3 MB/s eta 0:00:01\r",
      "\u001b[K     |████████████████████████▎       | 8.8 MB 14.3 MB/s eta 0:00:01\r",
      "\u001b[K     |████████████████████████▍       | 8.8 MB 14.3 MB/s eta 0:00:01\r",
      "\u001b[K     |████████████████████████▍       | 8.8 MB 14.3 MB/s eta 0:00:01\r",
      "\u001b[K     |████████████████████████▍       | 8.8 MB 14.3 MB/s eta 0:00:01\r",
      "\u001b[K     |████████████████████████▍       | 8.8 MB 14.3 MB/s eta 0:00:01\r",
      "\u001b[K     |████████████████████████▌       | 8.8 MB 14.3 MB/s eta 0:00:01\r",
      "\u001b[K     |████████████████████████▌       | 8.8 MB 14.3 MB/s eta 0:00:01\r",
      "\u001b[K     |████████████████████████▌       | 8.8 MB 14.3 MB/s eta 0:00:01\r",
      "\u001b[K     |████████████████████████▌       | 8.8 MB 14.3 MB/s eta 0:00:01\r",
      "\u001b[K     |████████████████████████▋       | 8.9 MB 14.3 MB/s eta 0:00:01\r",
      "\u001b[K     |████████████████████████▋       | 8.9 MB 14.3 MB/s eta 0:00:01\r",
      "\u001b[K     |████████████████████████▋       | 8.9 MB 14.3 MB/s eta 0:00:01\r",
      "\u001b[K     |████████████████████████▋       | 8.9 MB 14.3 MB/s eta 0:00:01\r",
      "\u001b[K     |████████████████████████▊       | 8.9 MB 14.3 MB/s eta 0:00:01\r",
      "\u001b[K     |████████████████████████▊       | 8.9 MB 14.3 MB/s eta 0:00:01\r",
      "\u001b[K     |████████████████████████▊       | 8.9 MB 14.3 MB/s eta 0:00:01\r",
      "\u001b[K     |████████████████████████▊       | 8.9 MB 14.3 MB/s eta 0:00:01\r",
      "\u001b[K     |████████████████████████▉       | 8.9 MB 14.3 MB/s eta 0:00:01\r",
      "\u001b[K     |████████████████████████▉       | 8.9 MB 14.3 MB/s eta 0:00:01\r",
      "\u001b[K     |████████████████████████▉       | 9.0 MB 14.3 MB/s eta 0:00:01\r",
      "\u001b[K     |████████████████████████▉       | 9.0 MB 14.3 MB/s eta 0:00:01\r",
      "\u001b[K     |█████████████████████████       | 9.0 MB 14.3 MB/s eta 0:00:01\r",
      "\u001b[K     |█████████████████████████       | 9.0 MB 14.3 MB/s eta 0:00:01\r",
      "\u001b[K     |█████████████████████████       | 9.0 MB 14.3 MB/s eta 0:00:01\r",
      "\u001b[K     |█████████████████████████       | 9.0 MB 14.3 MB/s eta 0:00:01\r",
      "\u001b[K     |█████████████████████████       | 9.0 MB 14.3 MB/s eta 0:00:01\r",
      "\u001b[K     |█████████████████████████       | 9.0 MB 14.3 MB/s eta 0:00:01\r",
      "\u001b[K     |█████████████████████████       | 9.0 MB 14.3 MB/s eta 0:00:01\r",
      "\u001b[K     |█████████████████████████▏      | 9.1 MB 14.3 MB/s eta 0:00:01\r",
      "\u001b[K     |█████████████████████████▏      | 9.1 MB 14.3 MB/s eta 0:00:01\r",
      "\u001b[K     |█████████████████████████▏      | 9.1 MB 14.3 MB/s eta 0:00:01\r",
      "\u001b[K     |█████████████████████████▏      | 9.1 MB 14.3 MB/s eta 0:00:01\r",
      "\u001b[K     |█████████████████████████▎      | 9.1 MB 14.3 MB/s eta 0:00:01\r",
      "\u001b[K     |█████████████████████████▎      | 9.1 MB 14.3 MB/s eta 0:00:01\r",
      "\u001b[K     |█████████████████████████▎      | 9.1 MB 14.3 MB/s eta 0:00:01\r",
      "\u001b[K     |█████████████████████████▎      | 9.1 MB 14.3 MB/s eta 0:00:01\r",
      "\u001b[K     |█████████████████████████▍      | 9.1 MB 14.3 MB/s eta 0:00:01\r",
      "\u001b[K     |█████████████████████████▍      | 9.1 MB 14.3 MB/s eta 0:00:01\r",
      "\u001b[K     |█████████████████████████▍      | 9.2 MB 14.3 MB/s eta 0:00:01\r",
      "\u001b[K     |█████████████████████████▍      | 9.2 MB 14.3 MB/s eta 0:00:01\r",
      "\u001b[K     |█████████████████████████▌      | 9.2 MB 14.3 MB/s eta 0:00:01\r",
      "\u001b[K     |█████████████████████████▌      | 9.2 MB 14.3 MB/s eta 0:00:01\r",
      "\u001b[K     |█████████████████████████▌      | 9.2 MB 14.3 MB/s eta 0:00:01\r",
      "\u001b[K     |█████████████████████████▌      | 9.2 MB 14.3 MB/s eta 0:00:01\r",
      "\u001b[K     |█████████████████████████▋      | 9.2 MB 14.3 MB/s eta 0:00:01\r",
      "\u001b[K     |█████████████████████████▋      | 9.2 MB 14.3 MB/s eta 0:00:01\r",
      "\u001b[K     |█████████████████████████▋      | 9.2 MB 14.3 MB/s eta 0:00:01\r",
      "\u001b[K     |█████████████████████████▋      | 9.2 MB 14.3 MB/s eta 0:00:01\r",
      "\u001b[K     |█████████████████████████▊      | 9.3 MB 14.3 MB/s eta 0:00:01\r",
      "\u001b[K     |█████████████████████████▊      | 9.3 MB 14.3 MB/s eta 0:00:01\r",
      "\u001b[K     |█████████████████████████▊      | 9.3 MB 14.3 MB/s eta 0:00:01\r",
      "\u001b[K     |█████████████████████████▊      | 9.3 MB 14.3 MB/s eta 0:00:01\r",
      "\u001b[K     |█████████████████████████▉      | 9.3 MB 14.3 MB/s eta 0:00:01\r",
      "\u001b[K     |█████████████████████████▉      | 9.3 MB 14.3 MB/s eta 0:00:01\r",
      "\u001b[K     |█████████████████████████▉      | 9.3 MB 14.3 MB/s eta 0:00:01\r",
      "\u001b[K     |█████████████████████████▉      | 9.3 MB 14.3 MB/s eta 0:00:01\r",
      "\u001b[K     |██████████████████████████      | 9.3 MB 14.3 MB/s eta 0:00:01\r",
      "\u001b[K     |██████████████████████████      | 9.3 MB 14.3 MB/s eta 0:00:01\r",
      "\u001b[K     |██████████████████████████      | 9.4 MB 14.3 MB/s eta 0:00:01\r",
      "\u001b[K     |██████████████████████████      | 9.4 MB 14.3 MB/s eta 0:00:01\r",
      "\u001b[K     |██████████████████████████      | 9.4 MB 14.3 MB/s eta 0:00:01\r",
      "\u001b[K     |██████████████████████████      | 9.4 MB 14.3 MB/s eta 0:00:01\r",
      "\u001b[K     |██████████████████████████      | 9.4 MB 14.3 MB/s eta 0:00:01\r",
      "\u001b[K     |██████████████████████████      | 9.4 MB 14.3 MB/s eta 0:00:01\r",
      "\u001b[K     |██████████████████████████▏     | 9.4 MB 14.3 MB/s eta 0:00:01\r",
      "\u001b[K     |██████████████████████████▏     | 9.4 MB 14.3 MB/s eta 0:00:01\r",
      "\u001b[K     |██████████████████████████▏     | 9.4 MB 14.3 MB/s eta 0:00:01\r",
      "\u001b[K     |██████████████████████████▎     | 9.5 MB 14.3 MB/s eta 0:00:01\r",
      "\u001b[K     |██████████████████████████▎     | 9.5 MB 14.3 MB/s eta 0:00:01\r",
      "\u001b[K     |██████████████████████████▎     | 9.5 MB 14.3 MB/s eta 0:00:01\r",
      "\u001b[K     |██████████████████████████▎     | 9.5 MB 14.3 MB/s eta 0:00:01\r",
      "\u001b[K     |██████████████████████████▍     | 9.5 MB 14.3 MB/s eta 0:00:01\r",
      "\u001b[K     |██████████████████████████▍     | 9.5 MB 14.3 MB/s eta 0:00:01\r",
      "\u001b[K     |██████████████████████████▍     | 9.5 MB 14.3 MB/s eta 0:00:01\r",
      "\u001b[K     |██████████████████████████▍     | 9.5 MB 14.3 MB/s eta 0:00:01\r",
      "\u001b[K     |██████████████████████████▌     | 9.5 MB 14.3 MB/s eta 0:00:01\r",
      "\u001b[K     |██████████████████████████▌     | 9.5 MB 14.3 MB/s eta 0:00:01\r",
      "\u001b[K     |██████████████████████████▌     | 9.6 MB 14.3 MB/s eta 0:00:01\r",
      "\u001b[K     |██████████████████████████▌     | 9.6 MB 14.3 MB/s eta 0:00:01\r",
      "\u001b[K     |██████████████████████████▋     | 9.6 MB 14.3 MB/s eta 0:00:01\r",
      "\u001b[K     |██████████████████████████▋     | 9.6 MB 14.3 MB/s eta 0:00:01\r",
      "\u001b[K     |██████████████████████████▋     | 9.6 MB 14.3 MB/s eta 0:00:01\r",
      "\u001b[K     |██████████████████████████▋     | 9.6 MB 14.3 MB/s eta 0:00:01\r",
      "\u001b[K     |██████████████████████████▊     | 9.6 MB 14.3 MB/s eta 0:00:01\r",
      "\u001b[K     |██████████████████████████▊     | 9.6 MB 14.3 MB/s eta 0:00:01\r",
      "\u001b[K     |██████████████████████████▊     | 9.6 MB 14.3 MB/s eta 0:00:01\r",
      "\u001b[K     |██████████████████████████▊     | 9.6 MB 14.3 MB/s eta 0:00:01\r",
      "\u001b[K     |██████████████████████████▉     | 9.7 MB 14.3 MB/s eta 0:00:01\r",
      "\u001b[K     |██████████████████████████▉     | 9.7 MB 14.3 MB/s eta 0:00:01\r",
      "\u001b[K     |██████████████████████████▉     | 9.7 MB 14.3 MB/s eta 0:00:01\r",
      "\u001b[K     |██████████████████████████▉     | 9.7 MB 14.3 MB/s eta 0:00:01\r",
      "\u001b[K     |███████████████████████████     | 9.7 MB 14.3 MB/s eta 0:00:01\r",
      "\u001b[K     |███████████████████████████     | 9.7 MB 14.3 MB/s eta 0:00:01\r",
      "\u001b[K     |███████████████████████████     | 9.7 MB 14.3 MB/s eta 0:00:01\r",
      "\u001b[K     |███████████████████████████     | 9.7 MB 14.3 MB/s eta 0:00:01\r",
      "\u001b[K     |███████████████████████████     | 9.7 MB 14.3 MB/s eta 0:00:01\r",
      "\u001b[K     |███████████████████████████     | 9.7 MB 14.3 MB/s eta 0:00:01\r",
      "\u001b[K     |███████████████████████████     | 9.8 MB 14.3 MB/s eta 0:00:01\r",
      "\u001b[K     |███████████████████████████     | 9.8 MB 14.3 MB/s eta 0:00:01\r",
      "\u001b[K     |███████████████████████████▏    | 9.8 MB 14.3 MB/s eta 0:00:01\r",
      "\u001b[K     |███████████████████████████▏    | 9.8 MB 14.3 MB/s eta 0:00:01\r",
      "\u001b[K     |███████████████████████████▏    | 9.8 MB 14.3 MB/s eta 0:00:01\r",
      "\u001b[K     |███████████████████████████▏    | 9.8 MB 14.3 MB/s eta 0:00:01\r",
      "\u001b[K     |███████████████████████████▎    | 9.8 MB 14.3 MB/s eta 0:00:01"
     ]
    },
    {
     "name": "stdout",
     "output_type": "stream",
     "text": [
      "\r",
      "\u001b[K     |███████████████████████████▎    | 9.8 MB 14.3 MB/s eta 0:00:01\r",
      "\u001b[K     |███████████████████████████▎    | 9.8 MB 14.3 MB/s eta 0:00:01\r",
      "\u001b[K     |███████████████████████████▎    | 9.9 MB 14.3 MB/s eta 0:00:01\r",
      "\u001b[K     |███████████████████████████▍    | 9.9 MB 14.3 MB/s eta 0:00:01\r",
      "\u001b[K     |███████████████████████████▍    | 9.9 MB 14.3 MB/s eta 0:00:01\r",
      "\u001b[K     |███████████████████████████▍    | 9.9 MB 14.3 MB/s eta 0:00:01\r",
      "\u001b[K     |███████████████████████████▌    | 9.9 MB 14.3 MB/s eta 0:00:01\r",
      "\u001b[K     |███████████████████████████▌    | 9.9 MB 14.3 MB/s eta 0:00:01\r",
      "\u001b[K     |███████████████████████████▌    | 9.9 MB 14.3 MB/s eta 0:00:01\r",
      "\u001b[K     |███████████████████████████▌    | 9.9 MB 14.3 MB/s eta 0:00:01\r",
      "\u001b[K     |███████████████████████████▋    | 9.9 MB 14.3 MB/s eta 0:00:01\r",
      "\u001b[K     |███████████████████████████▋    | 9.9 MB 14.3 MB/s eta 0:00:01\r",
      "\u001b[K     |███████████████████████████▋    | 10.0 MB 14.3 MB/s eta 0:00:01\r",
      "\u001b[K     |███████████████████████████▋    | 10.0 MB 14.3 MB/s eta 0:00:01\r",
      "\u001b[K     |███████████████████████████▊    | 10.0 MB 14.3 MB/s eta 0:00:01\r",
      "\u001b[K     |███████████████████████████▊    | 10.0 MB 14.3 MB/s eta 0:00:01\r",
      "\u001b[K     |███████████████████████████▊    | 10.0 MB 14.3 MB/s eta 0:00:01\r",
      "\u001b[K     |███████████████████████████▊    | 10.0 MB 14.3 MB/s eta 0:00:01\r",
      "\u001b[K     |███████████████████████████▉    | 10.0 MB 14.3 MB/s eta 0:00:01\r",
      "\u001b[K     |███████████████████████████▉    | 10.0 MB 14.3 MB/s eta 0:00:01\r",
      "\u001b[K     |███████████████████████████▉    | 10.0 MB 14.3 MB/s eta 0:00:01\r",
      "\u001b[K     |███████████████████████████▉    | 10.0 MB 14.3 MB/s eta 0:00:01\r",
      "\u001b[K     |████████████████████████████    | 10.1 MB 14.3 MB/s eta 0:00:01\r",
      "\u001b[K     |████████████████████████████    | 10.1 MB 14.3 MB/s eta 0:00:01\r",
      "\u001b[K     |████████████████████████████    | 10.1 MB 14.3 MB/s eta 0:00:01\r",
      "\u001b[K     |████████████████████████████    | 10.1 MB 14.3 MB/s eta 0:00:01\r",
      "\u001b[K     |████████████████████████████    | 10.1 MB 14.3 MB/s eta 0:00:01\r",
      "\u001b[K     |████████████████████████████    | 10.1 MB 14.3 MB/s eta 0:00:01\r",
      "\u001b[K     |████████████████████████████    | 10.1 MB 14.3 MB/s eta 0:00:01\r",
      "\u001b[K     |████████████████████████████    | 10.1 MB 14.3 MB/s eta 0:00:01\r",
      "\u001b[K     |████████████████████████████▏   | 10.1 MB 14.3 MB/s eta 0:00:01\r",
      "\u001b[K     |████████████████████████████▏   | 10.1 MB 14.3 MB/s eta 0:00:01\r",
      "\u001b[K     |████████████████████████████▏   | 10.2 MB 14.3 MB/s eta 0:00:01\r",
      "\u001b[K     |████████████████████████████▏   | 10.2 MB 14.3 MB/s eta 0:00:01\r",
      "\u001b[K     |████████████████████████████▎   | 10.2 MB 14.3 MB/s eta 0:00:01\r",
      "\u001b[K     |████████████████████████████▎   | 10.2 MB 14.3 MB/s eta 0:00:01\r",
      "\u001b[K     |████████████████████████████▎   | 10.2 MB 14.3 MB/s eta 0:00:01\r",
      "\u001b[K     |████████████████████████████▎   | 10.2 MB 14.3 MB/s eta 0:00:01\r",
      "\u001b[K     |████████████████████████████▍   | 10.2 MB 14.3 MB/s eta 0:00:01\r",
      "\u001b[K     |████████████████████████████▍   | 10.2 MB 14.3 MB/s eta 0:00:01\r",
      "\u001b[K     |████████████████████████████▍   | 10.2 MB 14.3 MB/s eta 0:00:01\r",
      "\u001b[K     |████████████████████████████▍   | 10.3 MB 14.3 MB/s eta 0:00:01\r",
      "\u001b[K     |████████████████████████████▌   | 10.3 MB 14.3 MB/s eta 0:00:01\r",
      "\u001b[K     |████████████████████████████▌   | 10.3 MB 14.3 MB/s eta 0:00:01\r",
      "\u001b[K     |████████████████████████████▌   | 10.3 MB 14.3 MB/s eta 0:00:01\r",
      "\u001b[K     |████████████████████████████▌   | 10.3 MB 14.3 MB/s eta 0:00:01\r",
      "\u001b[K     |████████████████████████████▋   | 10.3 MB 14.3 MB/s eta 0:00:01\r",
      "\u001b[K     |████████████████████████████▋   | 10.3 MB 14.3 MB/s eta 0:00:01\r",
      "\u001b[K     |████████████████████████████▋   | 10.3 MB 14.3 MB/s eta 0:00:01\r",
      "\u001b[K     |████████████████████████████▋   | 10.3 MB 14.3 MB/s eta 0:00:01\r",
      "\u001b[K     |████████████████████████████▊   | 10.3 MB 14.3 MB/s eta 0:00:01\r",
      "\u001b[K     |████████████████████████████▊   | 10.4 MB 14.3 MB/s eta 0:00:01\r",
      "\u001b[K     |████████████████████████████▊   | 10.4 MB 14.3 MB/s eta 0:00:01\r",
      "\u001b[K     |████████████████████████████▉   | 10.4 MB 14.3 MB/s eta 0:00:01\r",
      "\u001b[K     |████████████████████████████▉   | 10.4 MB 14.3 MB/s eta 0:00:01\r",
      "\u001b[K     |████████████████████████████▉   | 10.4 MB 14.3 MB/s eta 0:00:01\r",
      "\u001b[K     |████████████████████████████▉   | 10.4 MB 14.3 MB/s eta 0:00:01\r",
      "\u001b[K     |█████████████████████████████   | 10.4 MB 14.3 MB/s eta 0:00:01\r",
      "\u001b[K     |█████████████████████████████   | 10.4 MB 14.3 MB/s eta 0:00:01\r",
      "\u001b[K     |█████████████████████████████   | 10.4 MB 14.3 MB/s eta 0:00:01\r",
      "\u001b[K     |█████████████████████████████   | 10.4 MB 14.3 MB/s eta 0:00:01\r",
      "\u001b[K     |█████████████████████████████   | 10.5 MB 14.3 MB/s eta 0:00:01\r",
      "\u001b[K     |█████████████████████████████   | 10.5 MB 14.3 MB/s eta 0:00:01\r",
      "\u001b[K     |█████████████████████████████   | 10.5 MB 14.3 MB/s eta 0:00:01\r",
      "\u001b[K     |█████████████████████████████   | 10.5 MB 14.3 MB/s eta 0:00:01\r",
      "\u001b[K     |█████████████████████████████▏  | 10.5 MB 14.3 MB/s eta 0:00:01\r",
      "\u001b[K     |█████████████████████████████▏  | 10.5 MB 14.3 MB/s eta 0:00:01\r",
      "\u001b[K     |█████████████████████████████▏  | 10.5 MB 14.3 MB/s eta 0:00:01\r",
      "\u001b[K     |█████████████████████████████▏  | 10.5 MB 14.3 MB/s eta 0:00:01\r",
      "\u001b[K     |█████████████████████████████▎  | 10.5 MB 14.3 MB/s eta 0:00:01\r",
      "\u001b[K     |█████████████████████████████▎  | 10.5 MB 14.3 MB/s eta 0:00:01\r",
      "\u001b[K     |█████████████████████████████▎  | 10.6 MB 14.3 MB/s eta 0:00:01\r",
      "\u001b[K     |█████████████████████████████▎  | 10.6 MB 14.3 MB/s eta 0:00:01\r",
      "\u001b[K     |█████████████████████████████▍  | 10.6 MB 14.3 MB/s eta 0:00:01\r",
      "\u001b[K     |█████████████████████████████▍  | 10.6 MB 14.3 MB/s eta 0:00:01\r",
      "\u001b[K     |█████████████████████████████▍  | 10.6 MB 14.3 MB/s eta 0:00:01\r",
      "\u001b[K     |█████████████████████████████▍  | 10.6 MB 14.3 MB/s eta 0:00:01\r",
      "\u001b[K     |█████████████████████████████▌  | 10.6 MB 14.3 MB/s eta 0:00:01\r",
      "\u001b[K     |█████████████████████████████▌  | 10.6 MB 14.3 MB/s eta 0:00:01\r",
      "\u001b[K     |█████████████████████████████▌  | 10.6 MB 14.3 MB/s eta 0:00:01\r",
      "\u001b[K     |█████████████████████████████▌  | 10.6 MB 14.3 MB/s eta 0:00:01\r",
      "\u001b[K     |█████████████████████████████▋  | 10.7 MB 14.3 MB/s eta 0:00:01\r",
      "\u001b[K     |█████████████████████████████▋  | 10.7 MB 14.3 MB/s eta 0:00:01\r",
      "\u001b[K     |█████████████████████████████▋  | 10.7 MB 14.3 MB/s eta 0:00:01\r",
      "\u001b[K     |█████████████████████████████▋  | 10.7 MB 14.3 MB/s eta 0:00:01\r",
      "\u001b[K     |█████████████████████████████▊  | 10.7 MB 14.3 MB/s eta 0:00:01\r",
      "\u001b[K     |█████████████████████████████▊  | 10.7 MB 14.3 MB/s eta 0:00:01\r",
      "\u001b[K     |█████████████████████████████▊  | 10.7 MB 14.3 MB/s eta 0:00:01\r",
      "\u001b[K     |█████████████████████████████▊  | 10.7 MB 14.3 MB/s eta 0:00:01\r",
      "\u001b[K     |█████████████████████████████▉  | 10.7 MB 14.3 MB/s eta 0:00:01\r",
      "\u001b[K     |█████████████████████████████▉  | 10.8 MB 14.3 MB/s eta 0:00:01\r",
      "\u001b[K     |█████████████████████████████▉  | 10.8 MB 14.3 MB/s eta 0:00:01\r",
      "\u001b[K     |█████████████████████████████▉  | 10.8 MB 14.3 MB/s eta 0:00:01\r",
      "\u001b[K     |██████████████████████████████  | 10.8 MB 14.3 MB/s eta 0:00:01\r",
      "\u001b[K     |██████████████████████████████  | 10.8 MB 14.3 MB/s eta 0:00:01\r",
      "\u001b[K     |██████████████████████████████  | 10.8 MB 14.3 MB/s eta 0:00:01\r",
      "\u001b[K     |██████████████████████████████  | 10.8 MB 14.3 MB/s eta 0:00:01\r",
      "\u001b[K     |██████████████████████████████  | 10.8 MB 14.3 MB/s eta 0:00:01\r",
      "\u001b[K     |██████████████████████████████  | 10.8 MB 14.3 MB/s eta 0:00:01\r",
      "\u001b[K     |██████████████████████████████  | 10.8 MB 14.3 MB/s eta 0:00:01\r",
      "\u001b[K     |██████████████████████████████▏ | 10.9 MB 14.3 MB/s eta 0:00:01\r",
      "\u001b[K     |██████████████████████████████▏ | 10.9 MB 14.3 MB/s eta 0:00:01\r",
      "\u001b[K     |██████████████████████████████▏ | 10.9 MB 14.3 MB/s eta 0:00:01\r",
      "\u001b[K     |██████████████████████████████▏ | 10.9 MB 14.3 MB/s eta 0:00:01\r",
      "\u001b[K     |██████████████████████████████▎ | 10.9 MB 14.3 MB/s eta 0:00:01\r",
      "\u001b[K     |██████████████████████████████▎ | 10.9 MB 14.3 MB/s eta 0:00:01\r",
      "\u001b[K     |██████████████████████████████▎ | 10.9 MB 14.3 MB/s eta 0:00:01\r",
      "\u001b[K     |██████████████████████████████▎ | 10.9 MB 14.3 MB/s eta 0:00:01\r",
      "\u001b[K     |██████████████████████████████▍ | 10.9 MB 14.3 MB/s eta 0:00:01"
     ]
    },
    {
     "name": "stdout",
     "output_type": "stream",
     "text": [
      "\r",
      "\u001b[K     |██████████████████████████████▍ | 10.9 MB 14.3 MB/s eta 0:00:01\r",
      "\u001b[K     |██████████████████████████████▍ | 11.0 MB 14.3 MB/s eta 0:00:01\r",
      "\u001b[K     |██████████████████████████████▍ | 11.0 MB 14.3 MB/s eta 0:00:01\r",
      "\u001b[K     |██████████████████████████████▌ | 11.0 MB 14.3 MB/s eta 0:00:01\r",
      "\u001b[K     |██████████████████████████████▌ | 11.0 MB 14.3 MB/s eta 0:00:01\r",
      "\u001b[K     |██████████████████████████████▌ | 11.0 MB 14.3 MB/s eta 0:00:01\r",
      "\u001b[K     |██████████████████████████████▌ | 11.0 MB 14.3 MB/s eta 0:00:01\r",
      "\u001b[K     |██████████████████████████████▋ | 11.0 MB 14.3 MB/s eta 0:00:01\r",
      "\u001b[K     |██████████████████████████████▋ | 11.0 MB 14.3 MB/s eta 0:00:01\r",
      "\u001b[K     |██████████████████████████████▋ | 11.0 MB 14.3 MB/s eta 0:00:01\r",
      "\u001b[K     |██████████████████████████████▋ | 11.0 MB 14.3 MB/s eta 0:00:01\r",
      "\u001b[K     |██████████████████████████████▊ | 11.1 MB 14.3 MB/s eta 0:00:01\r",
      "\u001b[K     |██████████████████████████████▊ | 11.1 MB 14.3 MB/s eta 0:00:01\r",
      "\u001b[K     |██████████████████████████████▊ | 11.1 MB 14.3 MB/s eta 0:00:01\r",
      "\u001b[K     |██████████████████████████████▊ | 11.1 MB 14.3 MB/s eta 0:00:01\r",
      "\u001b[K     |██████████████████████████████▉ | 11.1 MB 14.3 MB/s eta 0:00:01\r",
      "\u001b[K     |██████████████████████████████▉ | 11.1 MB 14.3 MB/s eta 0:00:01\r",
      "\u001b[K     |██████████████████████████████▉ | 11.1 MB 14.3 MB/s eta 0:00:01\r",
      "\u001b[K     |██████████████████████████████▉ | 11.1 MB 14.3 MB/s eta 0:00:01\r",
      "\u001b[K     |███████████████████████████████ | 11.1 MB 14.3 MB/s eta 0:00:01\r",
      "\u001b[K     |███████████████████████████████ | 11.2 MB 14.3 MB/s eta 0:00:01\r",
      "\u001b[K     |███████████████████████████████ | 11.2 MB 14.3 MB/s eta 0:00:01\r",
      "\u001b[K     |███████████████████████████████ | 11.2 MB 14.3 MB/s eta 0:00:01\r",
      "\u001b[K     |███████████████████████████████ | 11.2 MB 14.3 MB/s eta 0:00:01\r",
      "\u001b[K     |███████████████████████████████ | 11.2 MB 14.3 MB/s eta 0:00:01\r",
      "\u001b[K     |███████████████████████████████ | 11.2 MB 14.3 MB/s eta 0:00:01\r",
      "\u001b[K     |███████████████████████████████ | 11.2 MB 14.3 MB/s eta 0:00:01\r",
      "\u001b[K     |███████████████████████████████▏| 11.2 MB 14.3 MB/s eta 0:00:01\r",
      "\u001b[K     |███████████████████████████████▏| 11.2 MB 14.3 MB/s eta 0:00:01\r",
      "\u001b[K     |███████████████████████████████▏| 11.2 MB 14.3 MB/s eta 0:00:01\r",
      "\u001b[K     |███████████████████████████████▎| 11.3 MB 14.3 MB/s eta 0:00:01\r",
      "\u001b[K     |███████████████████████████████▎| 11.3 MB 14.3 MB/s eta 0:00:01\r",
      "\u001b[K     |███████████████████████████████▎| 11.3 MB 14.3 MB/s eta 0:00:01\r",
      "\u001b[K     |███████████████████████████████▎| 11.3 MB 14.3 MB/s eta 0:00:01\r",
      "\u001b[K     |███████████████████████████████▍| 11.3 MB 14.3 MB/s eta 0:00:01\r",
      "\u001b[K     |███████████████████████████████▍| 11.3 MB 14.3 MB/s eta 0:00:01\r",
      "\u001b[K     |███████████████████████████████▍| 11.3 MB 14.3 MB/s eta 0:00:01\r",
      "\u001b[K     |███████████████████████████████▍| 11.3 MB 14.3 MB/s eta 0:00:01\r",
      "\u001b[K     |███████████████████████████████▌| 11.3 MB 14.3 MB/s eta 0:00:01\r",
      "\u001b[K     |███████████████████████████████▌| 11.3 MB 14.3 MB/s eta 0:00:01\r",
      "\u001b[K     |███████████████████████████████▌| 11.4 MB 14.3 MB/s eta 0:00:01\r",
      "\u001b[K     |███████████████████████████████▌| 11.4 MB 14.3 MB/s eta 0:00:01\r",
      "\u001b[K     |███████████████████████████████▋| 11.4 MB 14.3 MB/s eta 0:00:01\r",
      "\u001b[K     |███████████████████████████████▋| 11.4 MB 14.3 MB/s eta 0:00:01\r",
      "\u001b[K     |███████████████████████████████▋| 11.4 MB 14.3 MB/s eta 0:00:01\r",
      "\u001b[K     |███████████████████████████████▋| 11.4 MB 14.3 MB/s eta 0:00:01\r",
      "\u001b[K     |███████████████████████████████▊| 11.4 MB 14.3 MB/s eta 0:00:01\r",
      "\u001b[K     |███████████████████████████████▊| 11.4 MB 14.3 MB/s eta 0:00:01\r",
      "\u001b[K     |███████████████████████████████▊| 11.4 MB 14.3 MB/s eta 0:00:01\r",
      "\u001b[K     |███████████████████████████████▊| 11.4 MB 14.3 MB/s eta 0:00:01\r",
      "\u001b[K     |███████████████████████████████▉| 11.5 MB 14.3 MB/s eta 0:00:01\r",
      "\u001b[K     |███████████████████████████████▉| 11.5 MB 14.3 MB/s eta 0:00:01\r",
      "\u001b[K     |███████████████████████████████▉| 11.5 MB 14.3 MB/s eta 0:00:01\r",
      "\u001b[K     |███████████████████████████████▉| 11.5 MB 14.3 MB/s eta 0:00:01\r",
      "\u001b[K     |████████████████████████████████| 11.5 MB 14.3 MB/s eta 0:00:01\r",
      "\u001b[K     |████████████████████████████████| 11.5 MB 14.3 MB/s eta 0:00:01\r",
      "\u001b[K     |████████████████████████████████| 11.5 MB 14.3 MB/s eta 0:00:01\r",
      "\u001b[K     |████████████████████████████████| 11.5 MB 14.3 MB/s eta 0:00:01\r",
      "\u001b[K     |████████████████████████████████| 11.5 MB 14.3 MB/s \r\n"
     ]
    },
    {
     "name": "stdout",
     "output_type": "stream",
     "text": [
      "\u001b[?25hRequirement already satisfied: pytz>=2017.3 in /opt/conda/lib/python3.8/site-packages (from pandas) (2021.3)\r\n",
      "Requirement already satisfied: numpy>=1.17.3 in /opt/conda/lib/python3.8/site-packages (from pandas) (1.21.2)\r\n",
      "Requirement already satisfied: python-dateutil>=2.7.3 in /opt/conda/lib/python3.8/site-packages (from pandas) (2.8.2)\r\n",
      "Requirement already satisfied: six>=1.5 in /opt/conda/lib/python3.8/site-packages (from python-dateutil>=2.7.3->pandas) (1.16.0)\r\n"
     ]
    },
    {
     "name": "stdout",
     "output_type": "stream",
     "text": [
      "Installing collected packages: pandas\r\n"
     ]
    },
    {
     "name": "stdout",
     "output_type": "stream",
     "text": [
      "Successfully installed pandas-1.3.5\r\n",
      "\u001b[33mWARNING: Running pip as the 'root' user can result in broken permissions and conflicting behaviour with the system package manager. It is recommended to use a virtual environment instead: https://pip.pypa.io/warnings/venv\u001b[0m\r\n"
     ]
    },
    {
     "name": "stdout",
     "output_type": "stream",
     "text": [
      "Looking in indexes: https://pypi.org/simple, https://pypi.ngc.nvidia.com\r\n"
     ]
    },
    {
     "name": "stdout",
     "output_type": "stream",
     "text": [
      "Collecting pymystem3\r\n"
     ]
    },
    {
     "name": "stdout",
     "output_type": "stream",
     "text": [
      "  Downloading pymystem3-0.2.0-py3-none-any.whl (10 kB)\r\n",
      "Requirement already satisfied: requests in /opt/conda/lib/python3.8/site-packages (from pymystem3) (2.26.0)\r\n",
      "Requirement already satisfied: idna<4,>=2.5 in /opt/conda/lib/python3.8/site-packages (from requests->pymystem3) (3.1)\r\n",
      "Requirement already satisfied: certifi>=2017.4.17 in /opt/conda/lib/python3.8/site-packages (from requests->pymystem3) (2021.5.30)\r\n",
      "Requirement already satisfied: charset-normalizer~=2.0.0 in /opt/conda/lib/python3.8/site-packages (from requests->pymystem3) (2.0.0)\r\n",
      "Requirement already satisfied: urllib3<1.27,>=1.21.1 in /opt/conda/lib/python3.8/site-packages (from requests->pymystem3) (1.26.7)\r\n"
     ]
    },
    {
     "name": "stdout",
     "output_type": "stream",
     "text": [
      "Installing collected packages: pymystem3\r\n"
     ]
    },
    {
     "name": "stdout",
     "output_type": "stream",
     "text": [
      "Successfully installed pymystem3-0.2.0\r\n",
      "\u001b[33mWARNING: Running pip as the 'root' user can result in broken permissions and conflicting behaviour with the system package manager. It is recommended to use a virtual environment instead: https://pip.pypa.io/warnings/venv\u001b[0m\r\n"
     ]
    },
    {
     "name": "stdout",
     "output_type": "stream",
     "text": [
      "Looking in indexes: https://pypi.org/simple, https://pypi.ngc.nvidia.com\r\n"
     ]
    },
    {
     "name": "stdout",
     "output_type": "stream",
     "text": [
      "Collecting gensim\r\n",
      "  Downloading gensim-4.1.2-cp38-cp38-manylinux_2_12_x86_64.manylinux2010_x86_64.whl (24.1 MB)\r\n",
      "\u001b[?25l\r",
      "\u001b[K     |                                | 10 kB 4.0 MB/s eta 0:00:07\r",
      "\u001b[K     |                                | 20 kB 6.3 MB/s eta 0:00:04\r",
      "\u001b[K     |                                | 30 kB 9.0 MB/s eta 0:00:03\r",
      "\u001b[K     |                                | 40 kB 9.5 MB/s eta 0:00:03\r",
      "\u001b[K     |                                | 51 kB 9.5 MB/s eta 0:00:03\r",
      "\u001b[K     |                                | 61 kB 10.9 MB/s eta 0:00:03\r",
      "\u001b[K     |                                | 71 kB 11.3 MB/s eta 0:00:03\r",
      "\u001b[K     |                                | 81 kB 11.6 MB/s eta 0:00:03\r",
      "\u001b[K     |▏                               | 92 kB 12.8 MB/s eta 0:00:02\r",
      "\u001b[K     |▏                               | 102 kB 13.3 MB/s eta 0:00:02\r",
      "\u001b[K     |▏                               | 112 kB 13.3 MB/s eta 0:00:02\r",
      "\u001b[K     |▏                               | 122 kB 13.3 MB/s eta 0:00:02\r",
      "\u001b[K     |▏                               | 133 kB 13.3 MB/s eta 0:00:02\r",
      "\u001b[K     |▏                               | 143 kB 13.3 MB/s eta 0:00:02"
     ]
    },
    {
     "name": "stdout",
     "output_type": "stream",
     "text": [
      "\r",
      "\u001b[K     |▏                               | 153 kB 13.3 MB/s eta 0:00:02\r",
      "\u001b[K     |▏                               | 163 kB 13.3 MB/s eta 0:00:02\r",
      "\u001b[K     |▎                               | 174 kB 13.3 MB/s eta 0:00:02\r",
      "\u001b[K     |▎                               | 184 kB 13.3 MB/s eta 0:00:02\r",
      "\u001b[K     |▎                               | 194 kB 13.3 MB/s eta 0:00:02\r",
      "\u001b[K     |▎                               | 204 kB 13.3 MB/s eta 0:00:02\r",
      "\u001b[K     |▎                               | 215 kB 13.3 MB/s eta 0:00:02\r",
      "\u001b[K     |▎                               | 225 kB 13.3 MB/s eta 0:00:02\r",
      "\u001b[K     |▎                               | 235 kB 13.3 MB/s eta 0:00:02\r",
      "\u001b[K     |▎                               | 245 kB 13.3 MB/s eta 0:00:02\r",
      "\u001b[K     |▍                               | 256 kB 13.3 MB/s eta 0:00:02\r",
      "\u001b[K     |▍                               | 266 kB 13.3 MB/s eta 0:00:02\r",
      "\u001b[K     |▍                               | 276 kB 13.3 MB/s eta 0:00:02\r",
      "\u001b[K     |▍                               | 286 kB 13.3 MB/s eta 0:00:02\r",
      "\u001b[K     |▍                               | 296 kB 13.3 MB/s eta 0:00:02\r",
      "\u001b[K     |▍                               | 307 kB 13.3 MB/s eta 0:00:02\r",
      "\u001b[K     |▍                               | 317 kB 13.3 MB/s eta 0:00:02\r",
      "\u001b[K     |▍                               | 327 kB 13.3 MB/s eta 0:00:02\r",
      "\u001b[K     |▌                               | 337 kB 13.3 MB/s eta 0:00:02\r",
      "\u001b[K     |▌                               | 348 kB 13.3 MB/s eta 0:00:02\r",
      "\u001b[K     |▌                               | 358 kB 13.3 MB/s eta 0:00:02\r",
      "\u001b[K     |▌                               | 368 kB 13.3 MB/s eta 0:00:02\r",
      "\u001b[K     |▌                               | 378 kB 13.3 MB/s eta 0:00:02\r",
      "\u001b[K     |▌                               | 389 kB 13.3 MB/s eta 0:00:02\r",
      "\u001b[K     |▌                               | 399 kB 13.3 MB/s eta 0:00:02\r",
      "\u001b[K     |▌                               | 409 kB 13.3 MB/s eta 0:00:02\r",
      "\u001b[K     |▋                               | 419 kB 13.3 MB/s eta 0:00:02\r",
      "\u001b[K     |▋                               | 430 kB 13.3 MB/s eta 0:00:02\r",
      "\u001b[K     |▋                               | 440 kB 13.3 MB/s eta 0:00:02\r",
      "\u001b[K     |▋                               | 450 kB 13.3 MB/s eta 0:00:02\r",
      "\u001b[K     |▋                               | 460 kB 13.3 MB/s eta 0:00:02\r",
      "\u001b[K     |▋                               | 471 kB 13.3 MB/s eta 0:00:02\r",
      "\u001b[K     |▋                               | 481 kB 13.3 MB/s eta 0:00:02\r",
      "\u001b[K     |▋                               | 491 kB 13.3 MB/s eta 0:00:02\r",
      "\u001b[K     |▊                               | 501 kB 13.3 MB/s eta 0:00:02\r",
      "\u001b[K     |▊                               | 512 kB 13.3 MB/s eta 0:00:02\r",
      "\u001b[K     |▊                               | 522 kB 13.3 MB/s eta 0:00:02\r",
      "\u001b[K     |▊                               | 532 kB 13.3 MB/s eta 0:00:02\r",
      "\u001b[K     |▊                               | 542 kB 13.3 MB/s eta 0:00:02\r",
      "\u001b[K     |▊                               | 552 kB 13.3 MB/s eta 0:00:02\r",
      "\u001b[K     |▊                               | 563 kB 13.3 MB/s eta 0:00:02\r",
      "\u001b[K     |▊                               | 573 kB 13.3 MB/s eta 0:00:02\r",
      "\u001b[K     |▊                               | 583 kB 13.3 MB/s eta 0:00:02\r",
      "\u001b[K     |▉                               | 593 kB 13.3 MB/s eta 0:00:02\r",
      "\u001b[K     |▉                               | 604 kB 13.3 MB/s eta 0:00:02\r",
      "\u001b[K     |▉                               | 614 kB 13.3 MB/s eta 0:00:02\r",
      "\u001b[K     |▉                               | 624 kB 13.3 MB/s eta 0:00:02\r",
      "\u001b[K     |▉                               | 634 kB 13.3 MB/s eta 0:00:02\r",
      "\u001b[K     |▉                               | 645 kB 13.3 MB/s eta 0:00:02\r",
      "\u001b[K     |▉                               | 655 kB 13.3 MB/s eta 0:00:02\r",
      "\u001b[K     |▉                               | 665 kB 13.3 MB/s eta 0:00:02\r",
      "\u001b[K     |█                               | 675 kB 13.3 MB/s eta 0:00:02\r",
      "\u001b[K     |█                               | 686 kB 13.3 MB/s eta 0:00:02\r",
      "\u001b[K     |█                               | 696 kB 13.3 MB/s eta 0:00:02\r",
      "\u001b[K     |█                               | 706 kB 13.3 MB/s eta 0:00:02\r",
      "\u001b[K     |█                               | 716 kB 13.3 MB/s eta 0:00:02\r",
      "\u001b[K     |█                               | 727 kB 13.3 MB/s eta 0:00:02\r",
      "\u001b[K     |█                               | 737 kB 13.3 MB/s eta 0:00:02\r",
      "\u001b[K     |█                               | 747 kB 13.3 MB/s eta 0:00:02\r",
      "\u001b[K     |█                               | 757 kB 13.3 MB/s eta 0:00:02\r",
      "\u001b[K     |█                               | 768 kB 13.3 MB/s eta 0:00:02\r",
      "\u001b[K     |█                               | 778 kB 13.3 MB/s eta 0:00:02\r",
      "\u001b[K     |█                               | 788 kB 13.3 MB/s eta 0:00:02\r",
      "\u001b[K     |█                               | 798 kB 13.3 MB/s eta 0:00:02\r",
      "\u001b[K     |█                               | 808 kB 13.3 MB/s eta 0:00:02\r",
      "\u001b[K     |█                               | 819 kB 13.3 MB/s eta 0:00:02\r",
      "\u001b[K     |█                               | 829 kB 13.3 MB/s eta 0:00:02\r",
      "\u001b[K     |█▏                              | 839 kB 13.3 MB/s eta 0:00:02\r",
      "\u001b[K     |█▏                              | 849 kB 13.3 MB/s eta 0:00:02\r",
      "\u001b[K     |█▏                              | 860 kB 13.3 MB/s eta 0:00:02\r",
      "\u001b[K     |█▏                              | 870 kB 13.3 MB/s eta 0:00:02\r",
      "\u001b[K     |█▏                              | 880 kB 13.3 MB/s eta 0:00:02\r",
      "\u001b[K     |█▏                              | 890 kB 13.3 MB/s eta 0:00:02\r",
      "\u001b[K     |█▏                              | 901 kB 13.3 MB/s eta 0:00:02\r",
      "\u001b[K     |█▏                              | 911 kB 13.3 MB/s eta 0:00:02\r",
      "\u001b[K     |█▎                              | 921 kB 13.3 MB/s eta 0:00:02\r",
      "\u001b[K     |█▎                              | 931 kB 13.3 MB/s eta 0:00:02\r",
      "\u001b[K     |█▎                              | 942 kB 13.3 MB/s eta 0:00:02\r",
      "\u001b[K     |█▎                              | 952 kB 13.3 MB/s eta 0:00:02\r",
      "\u001b[K     |█▎                              | 962 kB 13.3 MB/s eta 0:00:02\r",
      "\u001b[K     |█▎                              | 972 kB 13.3 MB/s eta 0:00:02\r",
      "\u001b[K     |█▎                              | 983 kB 13.3 MB/s eta 0:00:02\r",
      "\u001b[K     |█▎                              | 993 kB 13.3 MB/s eta 0:00:02\r",
      "\u001b[K     |█▍                              | 1.0 MB 13.3 MB/s eta 0:00:02\r",
      "\u001b[K     |█▍                              | 1.0 MB 13.3 MB/s eta 0:00:02\r",
      "\u001b[K     |█▍                              | 1.0 MB 13.3 MB/s eta 0:00:02\r",
      "\u001b[K     |█▍                              | 1.0 MB 13.3 MB/s eta 0:00:02\r",
      "\u001b[K     |█▍                              | 1.0 MB 13.3 MB/s eta 0:00:02\r",
      "\u001b[K     |█▍                              | 1.1 MB 13.3 MB/s eta 0:00:02\r",
      "\u001b[K     |█▍                              | 1.1 MB 13.3 MB/s eta 0:00:02\r",
      "\u001b[K     |█▍                              | 1.1 MB 13.3 MB/s eta 0:00:02\r",
      "\u001b[K     |█▍                              | 1.1 MB 13.3 MB/s eta 0:00:02\r",
      "\u001b[K     |█▌                              | 1.1 MB 13.3 MB/s eta 0:00:02\r",
      "\u001b[K     |█▌                              | 1.1 MB 13.3 MB/s eta 0:00:02\r",
      "\u001b[K     |█▌                              | 1.1 MB 13.3 MB/s eta 0:00:02\r",
      "\u001b[K     |█▌                              | 1.1 MB 13.3 MB/s eta 0:00:02\r",
      "\u001b[K     |█▌                              | 1.1 MB 13.3 MB/s eta 0:00:02\r",
      "\u001b[K     |█▌                              | 1.1 MB 13.3 MB/s eta 0:00:02\r",
      "\u001b[K     |█▌                              | 1.2 MB 13.3 MB/s eta 0:00:02\r",
      "\u001b[K     |█▌                              | 1.2 MB 13.3 MB/s eta 0:00:02\r",
      "\u001b[K     |█▋                              | 1.2 MB 13.3 MB/s eta 0:00:02\r",
      "\u001b[K     |█▋                              | 1.2 MB 13.3 MB/s eta 0:00:02\r",
      "\u001b[K     |█▋                              | 1.2 MB 13.3 MB/s eta 0:00:02\r",
      "\u001b[K     |█▋                              | 1.2 MB 13.3 MB/s eta 0:00:02\r",
      "\u001b[K     |█▋                              | 1.2 MB 13.3 MB/s eta 0:00:02\r",
      "\u001b[K     |█▋                              | 1.2 MB 13.3 MB/s eta 0:00:02\r",
      "\u001b[K     |█▋                              | 1.2 MB 13.3 MB/s eta 0:00:02\r",
      "\u001b[K     |█▋                              | 1.2 MB 13.3 MB/s eta 0:00:02\r",
      "\u001b[K     |█▊                              | 1.3 MB 13.3 MB/s eta 0:00:02\r",
      "\u001b[K     |█▊                              | 1.3 MB 13.3 MB/s eta 0:00:02\r",
      "\u001b[K     |█▊                              | 1.3 MB 13.3 MB/s eta 0:00:02\r",
      "\u001b[K     |█▊                              | 1.3 MB 13.3 MB/s eta 0:00:02\r",
      "\u001b[K     |█▊                              | 1.3 MB 13.3 MB/s eta 0:00:02\r",
      "\u001b[K     |█▊                              | 1.3 MB 13.3 MB/s eta 0:00:02\r",
      "\u001b[K     |█▊                              | 1.3 MB 13.3 MB/s eta 0:00:02\r",
      "\u001b[K     |█▊                              | 1.3 MB 13.3 MB/s eta 0:00:02\r",
      "\u001b[K     |█▉                              | 1.3 MB 13.3 MB/s eta 0:00:02\r",
      "\u001b[K     |█▉                              | 1.4 MB 13.3 MB/s eta 0:00:02"
     ]
    },
    {
     "name": "stdout",
     "output_type": "stream",
     "text": [
      "\r",
      "\u001b[K     |█▉                              | 1.4 MB 13.3 MB/s eta 0:00:02\r",
      "\u001b[K     |█▉                              | 1.4 MB 13.3 MB/s eta 0:00:02\r",
      "\u001b[K     |█▉                              | 1.4 MB 13.3 MB/s eta 0:00:02\r",
      "\u001b[K     |█▉                              | 1.4 MB 13.3 MB/s eta 0:00:02\r",
      "\u001b[K     |█▉                              | 1.4 MB 13.3 MB/s eta 0:00:02\r",
      "\u001b[K     |█▉                              | 1.4 MB 13.3 MB/s eta 0:00:02\r",
      "\u001b[K     |██                              | 1.4 MB 13.3 MB/s eta 0:00:02\r",
      "\u001b[K     |██                              | 1.4 MB 13.3 MB/s eta 0:00:02\r",
      "\u001b[K     |██                              | 1.4 MB 13.3 MB/s eta 0:00:02\r",
      "\u001b[K     |██                              | 1.5 MB 13.3 MB/s eta 0:00:02\r",
      "\u001b[K     |██                              | 1.5 MB 13.3 MB/s eta 0:00:02\r",
      "\u001b[K     |██                              | 1.5 MB 13.3 MB/s eta 0:00:02\r",
      "\u001b[K     |██                              | 1.5 MB 13.3 MB/s eta 0:00:02\r",
      "\u001b[K     |██                              | 1.5 MB 13.3 MB/s eta 0:00:02\r",
      "\u001b[K     |██                              | 1.5 MB 13.3 MB/s eta 0:00:02\r",
      "\u001b[K     |██                              | 1.5 MB 13.3 MB/s eta 0:00:02\r",
      "\u001b[K     |██                              | 1.5 MB 13.3 MB/s eta 0:00:02\r",
      "\u001b[K     |██                              | 1.5 MB 13.3 MB/s eta 0:00:02\r",
      "\u001b[K     |██                              | 1.5 MB 13.3 MB/s eta 0:00:02\r",
      "\u001b[K     |██                              | 1.6 MB 13.3 MB/s eta 0:00:02\r",
      "\u001b[K     |██                              | 1.6 MB 13.3 MB/s eta 0:00:02\r",
      "\u001b[K     |██                              | 1.6 MB 13.3 MB/s eta 0:00:02\r",
      "\u001b[K     |██                              | 1.6 MB 13.3 MB/s eta 0:00:02\r",
      "\u001b[K     |██▏                             | 1.6 MB 13.3 MB/s eta 0:00:02\r",
      "\u001b[K     |██▏                             | 1.6 MB 13.3 MB/s eta 0:00:02\r",
      "\u001b[K     |██▏                             | 1.6 MB 13.3 MB/s eta 0:00:02\r",
      "\u001b[K     |██▏                             | 1.6 MB 13.3 MB/s eta 0:00:02\r",
      "\u001b[K     |██▏                             | 1.6 MB 13.3 MB/s eta 0:00:02\r",
      "\u001b[K     |██▏                             | 1.6 MB 13.3 MB/s eta 0:00:02\r",
      "\u001b[K     |██▏                             | 1.7 MB 13.3 MB/s eta 0:00:02\r",
      "\u001b[K     |██▏                             | 1.7 MB 13.3 MB/s eta 0:00:02\r",
      "\u001b[K     |██▎                             | 1.7 MB 13.3 MB/s eta 0:00:02\r",
      "\u001b[K     |██▎                             | 1.7 MB 13.3 MB/s eta 0:00:02\r",
      "\u001b[K     |██▎                             | 1.7 MB 13.3 MB/s eta 0:00:02\r",
      "\u001b[K     |██▎                             | 1.7 MB 13.3 MB/s eta 0:00:02\r",
      "\u001b[K     |██▎                             | 1.7 MB 13.3 MB/s eta 0:00:02\r",
      "\u001b[K     |██▎                             | 1.7 MB 13.3 MB/s eta 0:00:02\r",
      "\u001b[K     |██▎                             | 1.7 MB 13.3 MB/s eta 0:00:02\r",
      "\u001b[K     |██▎                             | 1.8 MB 13.3 MB/s eta 0:00:02\r",
      "\u001b[K     |██▍                             | 1.8 MB 13.3 MB/s eta 0:00:02\r",
      "\u001b[K     |██▍                             | 1.8 MB 13.3 MB/s eta 0:00:02\r",
      "\u001b[K     |██▍                             | 1.8 MB 13.3 MB/s eta 0:00:02\r",
      "\u001b[K     |██▍                             | 1.8 MB 13.3 MB/s eta 0:00:02\r",
      "\u001b[K     |██▍                             | 1.8 MB 13.3 MB/s eta 0:00:02\r",
      "\u001b[K     |██▍                             | 1.8 MB 13.3 MB/s eta 0:00:02\r",
      "\u001b[K     |██▍                             | 1.8 MB 13.3 MB/s eta 0:00:02\r",
      "\u001b[K     |██▍                             | 1.8 MB 13.3 MB/s eta 0:00:02\r",
      "\u001b[K     |██▌                             | 1.8 MB 13.3 MB/s eta 0:00:02\r",
      "\u001b[K     |██▌                             | 1.9 MB 13.3 MB/s eta 0:00:02\r",
      "\u001b[K     |██▌                             | 1.9 MB 13.3 MB/s eta 0:00:02\r",
      "\u001b[K     |██▌                             | 1.9 MB 13.3 MB/s eta 0:00:02\r",
      "\u001b[K     |██▌                             | 1.9 MB 13.3 MB/s eta 0:00:02\r",
      "\u001b[K     |██▌                             | 1.9 MB 13.3 MB/s eta 0:00:02\r",
      "\u001b[K     |██▌                             | 1.9 MB 13.3 MB/s eta 0:00:02\r",
      "\u001b[K     |██▌                             | 1.9 MB 13.3 MB/s eta 0:00:02\r",
      "\u001b[K     |██▋                             | 1.9 MB 13.3 MB/s eta 0:00:02\r",
      "\u001b[K     |██▋                             | 1.9 MB 13.3 MB/s eta 0:00:02\r",
      "\u001b[K     |██▋                             | 1.9 MB 13.3 MB/s eta 0:00:02\r",
      "\u001b[K     |██▋                             | 2.0 MB 13.3 MB/s eta 0:00:02\r",
      "\u001b[K     |██▋                             | 2.0 MB 13.3 MB/s eta 0:00:02\r",
      "\u001b[K     |██▋                             | 2.0 MB 13.3 MB/s eta 0:00:02\r",
      "\u001b[K     |██▋                             | 2.0 MB 13.3 MB/s eta 0:00:02\r",
      "\u001b[K     |██▋                             | 2.0 MB 13.3 MB/s eta 0:00:02\r",
      "\u001b[K     |██▊                             | 2.0 MB 13.3 MB/s eta 0:00:02\r",
      "\u001b[K     |██▊                             | 2.0 MB 13.3 MB/s eta 0:00:02\r",
      "\u001b[K     |██▊                             | 2.0 MB 13.3 MB/s eta 0:00:02\r",
      "\u001b[K     |██▊                             | 2.0 MB 13.3 MB/s eta 0:00:02\r",
      "\u001b[K     |██▊                             | 2.0 MB 13.3 MB/s eta 0:00:02\r",
      "\u001b[K     |██▊                             | 2.1 MB 13.3 MB/s eta 0:00:02\r",
      "\u001b[K     |██▊                             | 2.1 MB 13.3 MB/s eta 0:00:02\r",
      "\u001b[K     |██▊                             | 2.1 MB 13.3 MB/s eta 0:00:02\r",
      "\u001b[K     |██▊                             | 2.1 MB 13.3 MB/s eta 0:00:02\r",
      "\u001b[K     |██▉                             | 2.1 MB 13.3 MB/s eta 0:00:02\r",
      "\u001b[K     |██▉                             | 2.1 MB 13.3 MB/s eta 0:00:02\r",
      "\u001b[K     |██▉                             | 2.1 MB 13.3 MB/s eta 0:00:02\r",
      "\u001b[K     |██▉                             | 2.1 MB 13.3 MB/s eta 0:00:02\r",
      "\u001b[K     |██▉                             | 2.1 MB 13.3 MB/s eta 0:00:02\r",
      "\u001b[K     |██▉                             | 2.2 MB 13.3 MB/s eta 0:00:02\r",
      "\u001b[K     |██▉                             | 2.2 MB 13.3 MB/s eta 0:00:02\r",
      "\u001b[K     |██▉                             | 2.2 MB 13.3 MB/s eta 0:00:02\r",
      "\u001b[K     |███                             | 2.2 MB 13.3 MB/s eta 0:00:02\r",
      "\u001b[K     |███                             | 2.2 MB 13.3 MB/s eta 0:00:02\r",
      "\u001b[K     |███                             | 2.2 MB 13.3 MB/s eta 0:00:02\r",
      "\u001b[K     |███                             | 2.2 MB 13.3 MB/s eta 0:00:02\r",
      "\u001b[K     |███                             | 2.2 MB 13.3 MB/s eta 0:00:02\r",
      "\u001b[K     |███                             | 2.2 MB 13.3 MB/s eta 0:00:02\r",
      "\u001b[K     |███                             | 2.2 MB 13.3 MB/s eta 0:00:02\r",
      "\u001b[K     |███                             | 2.3 MB 13.3 MB/s eta 0:00:02\r",
      "\u001b[K     |███                             | 2.3 MB 13.3 MB/s eta 0:00:02\r",
      "\u001b[K     |███                             | 2.3 MB 13.3 MB/s eta 0:00:02\r",
      "\u001b[K     |███                             | 2.3 MB 13.3 MB/s eta 0:00:02\r",
      "\u001b[K     |███                             | 2.3 MB 13.3 MB/s eta 0:00:02\r",
      "\u001b[K     |███                             | 2.3 MB 13.3 MB/s eta 0:00:02\r",
      "\u001b[K     |███                             | 2.3 MB 13.3 MB/s eta 0:00:02\r",
      "\u001b[K     |███                             | 2.3 MB 13.3 MB/s eta 0:00:02\r",
      "\u001b[K     |███                             | 2.3 MB 13.3 MB/s eta 0:00:02\r",
      "\u001b[K     |███▏                            | 2.3 MB 13.3 MB/s eta 0:00:02\r",
      "\u001b[K     |███▏                            | 2.4 MB 13.3 MB/s eta 0:00:02\r",
      "\u001b[K     |███▏                            | 2.4 MB 13.3 MB/s eta 0:00:02\r",
      "\u001b[K     |███▏                            | 2.4 MB 13.3 MB/s eta 0:00:02\r",
      "\u001b[K     |███▏                            | 2.4 MB 13.3 MB/s eta 0:00:02\r",
      "\u001b[K     |███▏                            | 2.4 MB 13.3 MB/s eta 0:00:02\r",
      "\u001b[K     |███▏                            | 2.4 MB 13.3 MB/s eta 0:00:02\r",
      "\u001b[K     |███▏                            | 2.4 MB 13.3 MB/s eta 0:00:02\r",
      "\u001b[K     |███▎                            | 2.4 MB 13.3 MB/s eta 0:00:02\r",
      "\u001b[K     |███▎                            | 2.4 MB 13.3 MB/s eta 0:00:02\r",
      "\u001b[K     |███▎                            | 2.4 MB 13.3 MB/s eta 0:00:02\r",
      "\u001b[K     |███▎                            | 2.5 MB 13.3 MB/s eta 0:00:02\r",
      "\u001b[K     |███▎                            | 2.5 MB 13.3 MB/s eta 0:00:02\r",
      "\u001b[K     |███▎                            | 2.5 MB 13.3 MB/s eta 0:00:02\r",
      "\u001b[K     |███▎                            | 2.5 MB 13.3 MB/s eta 0:00:02\r",
      "\u001b[K     |███▎                            | 2.5 MB 13.3 MB/s eta 0:00:02\r",
      "\u001b[K     |███▍                            | 2.5 MB 13.3 MB/s eta 0:00:02\r",
      "\u001b[K     |███▍                            | 2.5 MB 13.3 MB/s eta 0:00:02\r",
      "\u001b[K     |███▍                            | 2.5 MB 13.3 MB/s eta 0:00:02\r",
      "\u001b[K     |███▍                            | 2.5 MB 13.3 MB/s eta 0:00:02\r",
      "\u001b[K     |███▍                            | 2.5 MB 13.3 MB/s eta 0:00:02\r",
      "\u001b[K     |███▍                            | 2.6 MB 13.3 MB/s eta 0:00:02\r",
      "\u001b[K     |███▍                            | 2.6 MB 13.3 MB/s eta 0:00:02\r",
      "\u001b[K     |███▍                            | 2.6 MB 13.3 MB/s eta 0:00:02\r",
      "\u001b[K     |███▍                            | 2.6 MB 13.3 MB/s eta 0:00:02"
     ]
    },
    {
     "name": "stdout",
     "output_type": "stream",
     "text": [
      "\r",
      "\u001b[K     |███▌                            | 2.6 MB 13.3 MB/s eta 0:00:02\r",
      "\u001b[K     |███▌                            | 2.6 MB 13.3 MB/s eta 0:00:02\r",
      "\u001b[K     |███▌                            | 2.6 MB 13.3 MB/s eta 0:00:02\r",
      "\u001b[K     |███▌                            | 2.6 MB 13.3 MB/s eta 0:00:02\r",
      "\u001b[K     |███▌                            | 2.6 MB 13.3 MB/s eta 0:00:02\r",
      "\u001b[K     |███▌                            | 2.7 MB 13.3 MB/s eta 0:00:02\r",
      "\u001b[K     |███▌                            | 2.7 MB 13.3 MB/s eta 0:00:02\r",
      "\u001b[K     |███▌                            | 2.7 MB 13.3 MB/s eta 0:00:02\r",
      "\u001b[K     |███▋                            | 2.7 MB 13.3 MB/s eta 0:00:02\r",
      "\u001b[K     |███▋                            | 2.7 MB 13.3 MB/s eta 0:00:02\r",
      "\u001b[K     |███▋                            | 2.7 MB 13.3 MB/s eta 0:00:02\r",
      "\u001b[K     |███▋                            | 2.7 MB 13.3 MB/s eta 0:00:02\r",
      "\u001b[K     |███▋                            | 2.7 MB 13.3 MB/s eta 0:00:02\r",
      "\u001b[K     |███▋                            | 2.7 MB 13.3 MB/s eta 0:00:02\r",
      "\u001b[K     |███▋                            | 2.7 MB 13.3 MB/s eta 0:00:02\r",
      "\u001b[K     |███▋                            | 2.8 MB 13.3 MB/s eta 0:00:02\r",
      "\u001b[K     |███▊                            | 2.8 MB 13.3 MB/s eta 0:00:02\r",
      "\u001b[K     |███▊                            | 2.8 MB 13.3 MB/s eta 0:00:02\r",
      "\u001b[K     |███▊                            | 2.8 MB 13.3 MB/s eta 0:00:02\r",
      "\u001b[K     |███▊                            | 2.8 MB 13.3 MB/s eta 0:00:02\r",
      "\u001b[K     |███▊                            | 2.8 MB 13.3 MB/s eta 0:00:02\r",
      "\u001b[K     |███▊                            | 2.8 MB 13.3 MB/s eta 0:00:02\r",
      "\u001b[K     |███▊                            | 2.8 MB 13.3 MB/s eta 0:00:02\r",
      "\u001b[K     |███▊                            | 2.8 MB 13.3 MB/s eta 0:00:02\r",
      "\u001b[K     |███▉                            | 2.8 MB 13.3 MB/s eta 0:00:02\r",
      "\u001b[K     |███▉                            | 2.9 MB 13.3 MB/s eta 0:00:02\r",
      "\u001b[K     |███▉                            | 2.9 MB 13.3 MB/s eta 0:00:02\r",
      "\u001b[K     |███▉                            | 2.9 MB 13.3 MB/s eta 0:00:02\r",
      "\u001b[K     |███▉                            | 2.9 MB 13.3 MB/s eta 0:00:02\r",
      "\u001b[K     |███▉                            | 2.9 MB 13.3 MB/s eta 0:00:02\r",
      "\u001b[K     |███▉                            | 2.9 MB 13.3 MB/s eta 0:00:02\r",
      "\u001b[K     |███▉                            | 2.9 MB 13.3 MB/s eta 0:00:02\r",
      "\u001b[K     |████                            | 2.9 MB 13.3 MB/s eta 0:00:02\r",
      "\u001b[K     |████                            | 2.9 MB 13.3 MB/s eta 0:00:02\r",
      "\u001b[K     |████                            | 2.9 MB 13.3 MB/s eta 0:00:02\r",
      "\u001b[K     |████                            | 3.0 MB 13.3 MB/s eta 0:00:02\r",
      "\u001b[K     |████                            | 3.0 MB 13.3 MB/s eta 0:00:02\r",
      "\u001b[K     |████                            | 3.0 MB 13.3 MB/s eta 0:00:02\r",
      "\u001b[K     |████                            | 3.0 MB 13.3 MB/s eta 0:00:02\r",
      "\u001b[K     |████                            | 3.0 MB 13.3 MB/s eta 0:00:02\r",
      "\u001b[K     |████                            | 3.0 MB 13.3 MB/s eta 0:00:02\r",
      "\u001b[K     |████                            | 3.0 MB 13.3 MB/s eta 0:00:02\r",
      "\u001b[K     |████                            | 3.0 MB 13.3 MB/s eta 0:00:02\r",
      "\u001b[K     |████                            | 3.0 MB 13.3 MB/s eta 0:00:02\r",
      "\u001b[K     |████                            | 3.1 MB 13.3 MB/s eta 0:00:02\r",
      "\u001b[K     |████                            | 3.1 MB 13.3 MB/s eta 0:00:02\r",
      "\u001b[K     |████                            | 3.1 MB 13.3 MB/s eta 0:00:02\r",
      "\u001b[K     |████                            | 3.1 MB 13.3 MB/s eta 0:00:02\r",
      "\u001b[K     |████                            | 3.1 MB 13.3 MB/s eta 0:00:02\r",
      "\u001b[K     |████▏                           | 3.1 MB 13.3 MB/s eta 0:00:02\r",
      "\u001b[K     |████▏                           | 3.1 MB 13.3 MB/s eta 0:00:02\r",
      "\u001b[K     |████▏                           | 3.1 MB 13.3 MB/s eta 0:00:02\r",
      "\u001b[K     |████▏                           | 3.1 MB 13.3 MB/s eta 0:00:02\r",
      "\u001b[K     |████▏                           | 3.1 MB 13.3 MB/s eta 0:00:02\r",
      "\u001b[K     |████▏                           | 3.2 MB 13.3 MB/s eta 0:00:02\r",
      "\u001b[K     |████▏                           | 3.2 MB 13.3 MB/s eta 0:00:02\r",
      "\u001b[K     |████▏                           | 3.2 MB 13.3 MB/s eta 0:00:02\r",
      "\u001b[K     |████▎                           | 3.2 MB 13.3 MB/s eta 0:00:02\r",
      "\u001b[K     |████▎                           | 3.2 MB 13.3 MB/s eta 0:00:02\r",
      "\u001b[K     |████▎                           | 3.2 MB 13.3 MB/s eta 0:00:02\r",
      "\u001b[K     |████▎                           | 3.2 MB 13.3 MB/s eta 0:00:02\r",
      "\u001b[K     |████▎                           | 3.2 MB 13.3 MB/s eta 0:00:02\r",
      "\u001b[K     |████▎                           | 3.2 MB 13.3 MB/s eta 0:00:02\r",
      "\u001b[K     |████▎                           | 3.2 MB 13.3 MB/s eta 0:00:02\r",
      "\u001b[K     |████▎                           | 3.3 MB 13.3 MB/s eta 0:00:02\r",
      "\u001b[K     |████▍                           | 3.3 MB 13.3 MB/s eta 0:00:02\r",
      "\u001b[K     |████▍                           | 3.3 MB 13.3 MB/s eta 0:00:02\r",
      "\u001b[K     |████▍                           | 3.3 MB 13.3 MB/s eta 0:00:02\r",
      "\u001b[K     |████▍                           | 3.3 MB 13.3 MB/s eta 0:00:02\r",
      "\u001b[K     |████▍                           | 3.3 MB 13.3 MB/s eta 0:00:02\r",
      "\u001b[K     |████▍                           | 3.3 MB 13.3 MB/s eta 0:00:02\r",
      "\u001b[K     |████▍                           | 3.3 MB 13.3 MB/s eta 0:00:02\r",
      "\u001b[K     |████▍                           | 3.3 MB 13.3 MB/s eta 0:00:02\r",
      "\u001b[K     |████▌                           | 3.3 MB 13.3 MB/s eta 0:00:02\r",
      "\u001b[K     |████▌                           | 3.4 MB 13.3 MB/s eta 0:00:02\r",
      "\u001b[K     |████▌                           | 3.4 MB 13.3 MB/s eta 0:00:02\r",
      "\u001b[K     |████▌                           | 3.4 MB 13.3 MB/s eta 0:00:02\r",
      "\u001b[K     |████▌                           | 3.4 MB 13.3 MB/s eta 0:00:02\r",
      "\u001b[K     |████▌                           | 3.4 MB 13.3 MB/s eta 0:00:02\r",
      "\u001b[K     |████▌                           | 3.4 MB 13.3 MB/s eta 0:00:02\r",
      "\u001b[K     |████▌                           | 3.4 MB 13.3 MB/s eta 0:00:02\r",
      "\u001b[K     |████▋                           | 3.4 MB 13.3 MB/s eta 0:00:02\r",
      "\u001b[K     |████▋                           | 3.4 MB 13.3 MB/s eta 0:00:02\r",
      "\u001b[K     |████▋                           | 3.5 MB 13.3 MB/s eta 0:00:02\r",
      "\u001b[K     |████▋                           | 3.5 MB 13.3 MB/s eta 0:00:02\r",
      "\u001b[K     |████▋                           | 3.5 MB 13.3 MB/s eta 0:00:02\r",
      "\u001b[K     |████▋                           | 3.5 MB 13.3 MB/s eta 0:00:02\r",
      "\u001b[K     |████▋                           | 3.5 MB 13.3 MB/s eta 0:00:02\r",
      "\u001b[K     |████▋                           | 3.5 MB 13.3 MB/s eta 0:00:02\r",
      "\u001b[K     |████▊                           | 3.5 MB 13.3 MB/s eta 0:00:02\r",
      "\u001b[K     |████▊                           | 3.5 MB 13.3 MB/s eta 0:00:02\r",
      "\u001b[K     |████▊                           | 3.5 MB 13.3 MB/s eta 0:00:02\r",
      "\u001b[K     |████▊                           | 3.5 MB 13.3 MB/s eta 0:00:02\r",
      "\u001b[K     |████▊                           | 3.6 MB 13.3 MB/s eta 0:00:02\r",
      "\u001b[K     |████▊                           | 3.6 MB 13.3 MB/s eta 0:00:02\r",
      "\u001b[K     |████▊                           | 3.6 MB 13.3 MB/s eta 0:00:02\r",
      "\u001b[K     |████▊                           | 3.6 MB 13.3 MB/s eta 0:00:02\r",
      "\u001b[K     |████▉                           | 3.6 MB 13.3 MB/s eta 0:00:02\r",
      "\u001b[K     |████▉                           | 3.6 MB 13.3 MB/s eta 0:00:02\r",
      "\u001b[K     |████▉                           | 3.6 MB 13.3 MB/s eta 0:00:02\r",
      "\u001b[K     |████▉                           | 3.6 MB 13.3 MB/s eta 0:00:02\r",
      "\u001b[K     |████▉                           | 3.6 MB 13.3 MB/s eta 0:00:02\r",
      "\u001b[K     |████▉                           | 3.6 MB 13.3 MB/s eta 0:00:02\r",
      "\u001b[K     |████▉                           | 3.7 MB 13.3 MB/s eta 0:00:02\r",
      "\u001b[K     |████▉                           | 3.7 MB 13.3 MB/s eta 0:00:02\r",
      "\u001b[K     |████▉                           | 3.7 MB 13.3 MB/s eta 0:00:02\r",
      "\u001b[K     |█████                           | 3.7 MB 13.3 MB/s eta 0:00:02\r",
      "\u001b[K     |█████                           | 3.7 MB 13.3 MB/s eta 0:00:02\r",
      "\u001b[K     |█████                           | 3.7 MB 13.3 MB/s eta 0:00:02\r",
      "\u001b[K     |█████                           | 3.7 MB 13.3 MB/s eta 0:00:02\r",
      "\u001b[K     |█████                           | 3.7 MB 13.3 MB/s eta 0:00:02\r",
      "\u001b[K     |█████                           | 3.7 MB 13.3 MB/s eta 0:00:02\r",
      "\u001b[K     |█████                           | 3.7 MB 13.3 MB/s eta 0:00:02\r",
      "\u001b[K     |█████                           | 3.8 MB 13.3 MB/s eta 0:00:02\r",
      "\u001b[K     |█████                           | 3.8 MB 13.3 MB/s eta 0:00:02\r",
      "\u001b[K     |█████                           | 3.8 MB 13.3 MB/s eta 0:00:02\r",
      "\u001b[K     |█████                           | 3.8 MB 13.3 MB/s eta 0:00:02\r",
      "\u001b[K     |█████                           | 3.8 MB 13.3 MB/s eta 0:00:02\r",
      "\u001b[K     |█████                           | 3.8 MB 13.3 MB/s eta 0:00:02\r",
      "\u001b[K     |█████                           | 3.8 MB 13.3 MB/s eta 0:00:02"
     ]
    },
    {
     "name": "stdout",
     "output_type": "stream",
     "text": [
      "\r",
      "\u001b[K     |█████                           | 3.8 MB 13.3 MB/s eta 0:00:02\r",
      "\u001b[K     |█████                           | 3.8 MB 13.3 MB/s eta 0:00:02\r",
      "\u001b[K     |█████▏                          | 3.9 MB 13.3 MB/s eta 0:00:02\r",
      "\u001b[K     |█████▏                          | 3.9 MB 13.3 MB/s eta 0:00:02\r",
      "\u001b[K     |█████▏                          | 3.9 MB 13.3 MB/s eta 0:00:02\r",
      "\u001b[K     |█████▏                          | 3.9 MB 13.3 MB/s eta 0:00:02\r",
      "\u001b[K     |█████▏                          | 3.9 MB 13.3 MB/s eta 0:00:02\r",
      "\u001b[K     |█████▏                          | 3.9 MB 13.3 MB/s eta 0:00:02\r",
      "\u001b[K     |█████▏                          | 3.9 MB 13.3 MB/s eta 0:00:02\r",
      "\u001b[K     |█████▏                          | 3.9 MB 13.3 MB/s eta 0:00:02\r",
      "\u001b[K     |█████▎                          | 3.9 MB 13.3 MB/s eta 0:00:02\r",
      "\u001b[K     |█████▎                          | 3.9 MB 13.3 MB/s eta 0:00:02\r",
      "\u001b[K     |█████▎                          | 4.0 MB 13.3 MB/s eta 0:00:02\r",
      "\u001b[K     |█████▎                          | 4.0 MB 13.3 MB/s eta 0:00:02\r",
      "\u001b[K     |█████▎                          | 4.0 MB 13.3 MB/s eta 0:00:02\r",
      "\u001b[K     |█████▎                          | 4.0 MB 13.3 MB/s eta 0:00:02\r",
      "\u001b[K     |█████▎                          | 4.0 MB 13.3 MB/s eta 0:00:02\r",
      "\u001b[K     |█████▎                          | 4.0 MB 13.3 MB/s eta 0:00:02\r",
      "\u001b[K     |█████▍                          | 4.0 MB 13.3 MB/s eta 0:00:02\r",
      "\u001b[K     |█████▍                          | 4.0 MB 13.3 MB/s eta 0:00:02\r",
      "\u001b[K     |█████▍                          | 4.0 MB 13.3 MB/s eta 0:00:02\r",
      "\u001b[K     |█████▍                          | 4.0 MB 13.3 MB/s eta 0:00:02\r",
      "\u001b[K     |█████▍                          | 4.1 MB 13.3 MB/s eta 0:00:02\r",
      "\u001b[K     |█████▍                          | 4.1 MB 13.3 MB/s eta 0:00:02\r",
      "\u001b[K     |█████▍                          | 4.1 MB 13.3 MB/s eta 0:00:02\r",
      "\u001b[K     |█████▍                          | 4.1 MB 13.3 MB/s eta 0:00:02\r",
      "\u001b[K     |█████▌                          | 4.1 MB 13.3 MB/s eta 0:00:02\r",
      "\u001b[K     |█████▌                          | 4.1 MB 13.3 MB/s eta 0:00:02\r",
      "\u001b[K     |█████▌                          | 4.1 MB 13.3 MB/s eta 0:00:02\r",
      "\u001b[K     |█████▌                          | 4.1 MB 13.3 MB/s eta 0:00:02\r",
      "\u001b[K     |█████▌                          | 4.1 MB 13.3 MB/s eta 0:00:02\r",
      "\u001b[K     |█████▌                          | 4.1 MB 13.3 MB/s eta 0:00:02\r",
      "\u001b[K     |█████▌                          | 4.2 MB 13.3 MB/s eta 0:00:02\r",
      "\u001b[K     |█████▌                          | 4.2 MB 13.3 MB/s eta 0:00:02\r",
      "\u001b[K     |█████▌                          | 4.2 MB 13.3 MB/s eta 0:00:02\r",
      "\u001b[K     |█████▋                          | 4.2 MB 13.3 MB/s eta 0:00:02\r",
      "\u001b[K     |█████▋                          | 4.2 MB 13.3 MB/s eta 0:00:02\r",
      "\u001b[K     |█████▋                          | 4.2 MB 13.3 MB/s eta 0:00:02\r",
      "\u001b[K     |█████▋                          | 4.2 MB 13.3 MB/s eta 0:00:02\r",
      "\u001b[K     |█████▋                          | 4.2 MB 13.3 MB/s eta 0:00:02\r",
      "\u001b[K     |█████▋                          | 4.2 MB 13.3 MB/s eta 0:00:02\r",
      "\u001b[K     |█████▋                          | 4.2 MB 13.3 MB/s eta 0:00:02\r",
      "\u001b[K     |█████▋                          | 4.3 MB 13.3 MB/s eta 0:00:02\r",
      "\u001b[K     |█████▊                          | 4.3 MB 13.3 MB/s eta 0:00:02\r",
      "\u001b[K     |█████▊                          | 4.3 MB 13.3 MB/s eta 0:00:02\r",
      "\u001b[K     |█████▊                          | 4.3 MB 13.3 MB/s eta 0:00:02\r",
      "\u001b[K     |█████▊                          | 4.3 MB 13.3 MB/s eta 0:00:02\r",
      "\u001b[K     |█████▊                          | 4.3 MB 13.3 MB/s eta 0:00:02\r",
      "\u001b[K     |█████▊                          | 4.3 MB 13.3 MB/s eta 0:00:02\r",
      "\u001b[K     |█████▊                          | 4.3 MB 13.3 MB/s eta 0:00:02\r",
      "\u001b[K     |█████▊                          | 4.3 MB 13.3 MB/s eta 0:00:02\r",
      "\u001b[K     |█████▉                          | 4.4 MB 13.3 MB/s eta 0:00:02\r",
      "\u001b[K     |█████▉                          | 4.4 MB 13.3 MB/s eta 0:00:02\r",
      "\u001b[K     |█████▉                          | 4.4 MB 13.3 MB/s eta 0:00:02\r",
      "\u001b[K     |█████▉                          | 4.4 MB 13.3 MB/s eta 0:00:02\r",
      "\u001b[K     |█████▉                          | 4.4 MB 13.3 MB/s eta 0:00:02\r",
      "\u001b[K     |█████▉                          | 4.4 MB 13.3 MB/s eta 0:00:02\r",
      "\u001b[K     |█████▉                          | 4.4 MB 13.3 MB/s eta 0:00:02\r",
      "\u001b[K     |█████▉                          | 4.4 MB 13.3 MB/s eta 0:00:02\r",
      "\u001b[K     |██████                          | 4.4 MB 13.3 MB/s eta 0:00:02\r",
      "\u001b[K     |██████                          | 4.4 MB 13.3 MB/s eta 0:00:02\r",
      "\u001b[K     |██████                          | 4.5 MB 13.3 MB/s eta 0:00:02\r",
      "\u001b[K     |██████                          | 4.5 MB 13.3 MB/s eta 0:00:02\r",
      "\u001b[K     |██████                          | 4.5 MB 13.3 MB/s eta 0:00:02\r",
      "\u001b[K     |██████                          | 4.5 MB 13.3 MB/s eta 0:00:02\r",
      "\u001b[K     |██████                          | 4.5 MB 13.3 MB/s eta 0:00:02\r",
      "\u001b[K     |██████                          | 4.5 MB 13.3 MB/s eta 0:00:02\r",
      "\u001b[K     |██████                          | 4.5 MB 13.3 MB/s eta 0:00:02\r",
      "\u001b[K     |██████                          | 4.5 MB 13.3 MB/s eta 0:00:02\r",
      "\u001b[K     |██████                          | 4.5 MB 13.3 MB/s eta 0:00:02\r",
      "\u001b[K     |██████                          | 4.5 MB 13.3 MB/s eta 0:00:02\r",
      "\u001b[K     |██████                          | 4.6 MB 13.3 MB/s eta 0:00:02\r",
      "\u001b[K     |██████                          | 4.6 MB 13.3 MB/s eta 0:00:02\r",
      "\u001b[K     |██████                          | 4.6 MB 13.3 MB/s eta 0:00:02\r",
      "\u001b[K     |██████                          | 4.6 MB 13.3 MB/s eta 0:00:02\r",
      "\u001b[K     |██████▏                         | 4.6 MB 13.3 MB/s eta 0:00:02\r",
      "\u001b[K     |██████▏                         | 4.6 MB 13.3 MB/s eta 0:00:02\r",
      "\u001b[K     |██████▏                         | 4.6 MB 13.3 MB/s eta 0:00:02\r",
      "\u001b[K     |██████▏                         | 4.6 MB 13.3 MB/s eta 0:00:02\r",
      "\u001b[K     |██████▏                         | 4.6 MB 13.3 MB/s eta 0:00:02\r",
      "\u001b[K     |██████▏                         | 4.6 MB 13.3 MB/s eta 0:00:02\r",
      "\u001b[K     |██████▏                         | 4.7 MB 13.3 MB/s eta 0:00:02\r",
      "\u001b[K     |██████▏                         | 4.7 MB 13.3 MB/s eta 0:00:02\r",
      "\u001b[K     |██████▏                         | 4.7 MB 13.3 MB/s eta 0:00:02\r",
      "\u001b[K     |██████▎                         | 4.7 MB 13.3 MB/s eta 0:00:02\r",
      "\u001b[K     |██████▎                         | 4.7 MB 13.3 MB/s eta 0:00:02\r",
      "\u001b[K     |██████▎                         | 4.7 MB 13.3 MB/s eta 0:00:02\r",
      "\u001b[K     |██████▎                         | 4.7 MB 13.3 MB/s eta 0:00:02\r",
      "\u001b[K     |██████▎                         | 4.7 MB 13.3 MB/s eta 0:00:02\r",
      "\u001b[K     |██████▎                         | 4.7 MB 13.3 MB/s eta 0:00:02\r",
      "\u001b[K     |██████▎                         | 4.8 MB 13.3 MB/s eta 0:00:02\r",
      "\u001b[K     |██████▎                         | 4.8 MB 13.3 MB/s eta 0:00:02\r",
      "\u001b[K     |██████▍                         | 4.8 MB 13.3 MB/s eta 0:00:02\r",
      "\u001b[K     |██████▍                         | 4.8 MB 13.3 MB/s eta 0:00:02\r",
      "\u001b[K     |██████▍                         | 4.8 MB 13.3 MB/s eta 0:00:02\r",
      "\u001b[K     |██████▍                         | 4.8 MB 13.3 MB/s eta 0:00:02\r",
      "\u001b[K     |██████▍                         | 4.8 MB 13.3 MB/s eta 0:00:02\r",
      "\u001b[K     |██████▍                         | 4.8 MB 13.3 MB/s eta 0:00:02\r",
      "\u001b[K     |██████▍                         | 4.8 MB 13.3 MB/s eta 0:00:02\r",
      "\u001b[K     |██████▍                         | 4.8 MB 13.3 MB/s eta 0:00:02\r",
      "\u001b[K     |██████▌                         | 4.9 MB 13.3 MB/s eta 0:00:02\r",
      "\u001b[K     |██████▌                         | 4.9 MB 13.3 MB/s eta 0:00:02\r",
      "\u001b[K     |██████▌                         | 4.9 MB 13.3 MB/s eta 0:00:02\r",
      "\u001b[K     |██████▌                         | 4.9 MB 13.3 MB/s eta 0:00:02\r",
      "\u001b[K     |██████▌                         | 4.9 MB 13.3 MB/s eta 0:00:02\r",
      "\u001b[K     |██████▌                         | 4.9 MB 13.3 MB/s eta 0:00:02\r",
      "\u001b[K     |██████▌                         | 4.9 MB 13.3 MB/s eta 0:00:02\r",
      "\u001b[K     |██████▌                         | 4.9 MB 13.3 MB/s eta 0:00:02\r",
      "\u001b[K     |██████▋                         | 4.9 MB 13.3 MB/s eta 0:00:02\r",
      "\u001b[K     |██████▋                         | 4.9 MB 13.3 MB/s eta 0:00:02\r",
      "\u001b[K     |██████▋                         | 5.0 MB 13.3 MB/s eta 0:00:02\r",
      "\u001b[K     |██████▋                         | 5.0 MB 13.3 MB/s eta 0:00:02\r",
      "\u001b[K     |██████▋                         | 5.0 MB 13.3 MB/s eta 0:00:02\r",
      "\u001b[K     |██████▋                         | 5.0 MB 13.3 MB/s eta 0:00:02\r",
      "\u001b[K     |██████▋                         | 5.0 MB 13.3 MB/s eta 0:00:02\r",
      "\u001b[K     |██████▋                         | 5.0 MB 13.3 MB/s eta 0:00:02\r",
      "\u001b[K     |██████▊                         | 5.0 MB 13.3 MB/s eta 0:00:02\r",
      "\u001b[K     |██████▊                         | 5.0 MB 13.3 MB/s eta 0:00:02\r",
      "\u001b[K     |██████▊                         | 5.0 MB 13.3 MB/s eta 0:00:02\r",
      "\u001b[K     |██████▊                         | 5.0 MB 13.3 MB/s eta 0:00:02"
     ]
    },
    {
     "name": "stdout",
     "output_type": "stream",
     "text": [
      "\r",
      "\u001b[K     |██████▊                         | 5.1 MB 13.3 MB/s eta 0:00:02\r",
      "\u001b[K     |██████▊                         | 5.1 MB 13.3 MB/s eta 0:00:02\r",
      "\u001b[K     |██████▊                         | 5.1 MB 13.3 MB/s eta 0:00:02\r",
      "\u001b[K     |██████▊                         | 5.1 MB 13.3 MB/s eta 0:00:02\r",
      "\u001b[K     |██████▉                         | 5.1 MB 13.3 MB/s eta 0:00:02\r",
      "\u001b[K     |██████▉                         | 5.1 MB 13.3 MB/s eta 0:00:02\r",
      "\u001b[K     |██████▉                         | 5.1 MB 13.3 MB/s eta 0:00:02\r",
      "\u001b[K     |██████▉                         | 5.1 MB 13.3 MB/s eta 0:00:02\r",
      "\u001b[K     |██████▉                         | 5.1 MB 13.3 MB/s eta 0:00:02\r",
      "\u001b[K     |██████▉                         | 5.2 MB 13.3 MB/s eta 0:00:02\r",
      "\u001b[K     |██████▉                         | 5.2 MB 13.3 MB/s eta 0:00:02\r",
      "\u001b[K     |██████▉                         | 5.2 MB 13.3 MB/s eta 0:00:02\r",
      "\u001b[K     |██████▉                         | 5.2 MB 13.3 MB/s eta 0:00:02\r",
      "\u001b[K     |███████                         | 5.2 MB 13.3 MB/s eta 0:00:02\r",
      "\u001b[K     |███████                         | 5.2 MB 13.3 MB/s eta 0:00:02\r",
      "\u001b[K     |███████                         | 5.2 MB 13.3 MB/s eta 0:00:02\r",
      "\u001b[K     |███████                         | 5.2 MB 13.3 MB/s eta 0:00:02\r",
      "\u001b[K     |███████                         | 5.2 MB 13.3 MB/s eta 0:00:02\r",
      "\u001b[K     |███████                         | 5.2 MB 13.3 MB/s eta 0:00:02\r",
      "\u001b[K     |███████                         | 5.3 MB 13.3 MB/s eta 0:00:02\r",
      "\u001b[K     |███████                         | 5.3 MB 13.3 MB/s eta 0:00:02\r",
      "\u001b[K     |███████                         | 5.3 MB 13.3 MB/s eta 0:00:02\r",
      "\u001b[K     |███████                         | 5.3 MB 13.3 MB/s eta 0:00:02\r",
      "\u001b[K     |███████                         | 5.3 MB 13.3 MB/s eta 0:00:02\r",
      "\u001b[K     |███████                         | 5.3 MB 13.3 MB/s eta 0:00:02\r",
      "\u001b[K     |███████                         | 5.3 MB 13.3 MB/s eta 0:00:02\r",
      "\u001b[K     |███████                         | 5.3 MB 13.3 MB/s eta 0:00:02\r",
      "\u001b[K     |███████                         | 5.3 MB 13.3 MB/s eta 0:00:02\r",
      "\u001b[K     |███████                         | 5.3 MB 13.3 MB/s eta 0:00:02\r",
      "\u001b[K     |███████▏                        | 5.4 MB 13.3 MB/s eta 0:00:02\r",
      "\u001b[K     |███████▏                        | 5.4 MB 13.3 MB/s eta 0:00:02\r",
      "\u001b[K     |███████▏                        | 5.4 MB 13.3 MB/s eta 0:00:02\r",
      "\u001b[K     |███████▏                        | 5.4 MB 13.3 MB/s eta 0:00:02\r",
      "\u001b[K     |███████▏                        | 5.4 MB 13.3 MB/s eta 0:00:02\r",
      "\u001b[K     |███████▏                        | 5.4 MB 13.3 MB/s eta 0:00:02\r",
      "\u001b[K     |███████▏                        | 5.4 MB 13.3 MB/s eta 0:00:02\r",
      "\u001b[K     |███████▏                        | 5.4 MB 13.3 MB/s eta 0:00:02\r",
      "\u001b[K     |███████▎                        | 5.4 MB 13.3 MB/s eta 0:00:02\r",
      "\u001b[K     |███████▎                        | 5.4 MB 13.3 MB/s eta 0:00:02\r",
      "\u001b[K     |███████▎                        | 5.5 MB 13.3 MB/s eta 0:00:02\r",
      "\u001b[K     |███████▎                        | 5.5 MB 13.3 MB/s eta 0:00:02\r",
      "\u001b[K     |███████▎                        | 5.5 MB 13.3 MB/s eta 0:00:02\r",
      "\u001b[K     |███████▎                        | 5.5 MB 13.3 MB/s eta 0:00:02\r",
      "\u001b[K     |███████▎                        | 5.5 MB 13.3 MB/s eta 0:00:02\r",
      "\u001b[K     |███████▎                        | 5.5 MB 13.3 MB/s eta 0:00:02\r",
      "\u001b[K     |███████▍                        | 5.5 MB 13.3 MB/s eta 0:00:02\r",
      "\u001b[K     |███████▍                        | 5.5 MB 13.3 MB/s eta 0:00:02\r",
      "\u001b[K     |███████▍                        | 5.5 MB 13.3 MB/s eta 0:00:02\r",
      "\u001b[K     |███████▍                        | 5.6 MB 13.3 MB/s eta 0:00:02\r",
      "\u001b[K     |███████▍                        | 5.6 MB 13.3 MB/s eta 0:00:02\r",
      "\u001b[K     |███████▍                        | 5.6 MB 13.3 MB/s eta 0:00:02\r",
      "\u001b[K     |███████▍                        | 5.6 MB 13.3 MB/s eta 0:00:02\r",
      "\u001b[K     |███████▍                        | 5.6 MB 13.3 MB/s eta 0:00:02\r",
      "\u001b[K     |███████▌                        | 5.6 MB 13.3 MB/s eta 0:00:02\r",
      "\u001b[K     |███████▌                        | 5.6 MB 13.3 MB/s eta 0:00:02\r",
      "\u001b[K     |███████▌                        | 5.6 MB 13.3 MB/s eta 0:00:02\r",
      "\u001b[K     |███████▌                        | 5.6 MB 13.3 MB/s eta 0:00:02\r",
      "\u001b[K     |███████▌                        | 5.6 MB 13.3 MB/s eta 0:00:02\r",
      "\u001b[K     |███████▌                        | 5.7 MB 13.3 MB/s eta 0:00:02\r",
      "\u001b[K     |███████▌                        | 5.7 MB 13.3 MB/s eta 0:00:02\r",
      "\u001b[K     |███████▌                        | 5.7 MB 13.3 MB/s eta 0:00:02\r",
      "\u001b[K     |███████▌                        | 5.7 MB 13.3 MB/s eta 0:00:02\r",
      "\u001b[K     |███████▋                        | 5.7 MB 13.3 MB/s eta 0:00:02\r",
      "\u001b[K     |███████▋                        | 5.7 MB 13.3 MB/s eta 0:00:02\r",
      "\u001b[K     |███████▋                        | 5.7 MB 13.3 MB/s eta 0:00:02\r",
      "\u001b[K     |███████▋                        | 5.7 MB 13.3 MB/s eta 0:00:02\r",
      "\u001b[K     |███████▋                        | 5.7 MB 13.3 MB/s eta 0:00:02\r",
      "\u001b[K     |███████▋                        | 5.7 MB 13.3 MB/s eta 0:00:02\r",
      "\u001b[K     |███████▋                        | 5.8 MB 13.3 MB/s eta 0:00:02\r",
      "\u001b[K     |███████▋                        | 5.8 MB 13.3 MB/s eta 0:00:02\r",
      "\u001b[K     |███████▊                        | 5.8 MB 13.3 MB/s eta 0:00:02\r",
      "\u001b[K     |███████▊                        | 5.8 MB 13.3 MB/s eta 0:00:02\r",
      "\u001b[K     |███████▊                        | 5.8 MB 13.3 MB/s eta 0:00:02\r",
      "\u001b[K     |███████▊                        | 5.8 MB 13.3 MB/s eta 0:00:02\r",
      "\u001b[K     |███████▊                        | 5.8 MB 13.3 MB/s eta 0:00:02\r",
      "\u001b[K     |███████▊                        | 5.8 MB 13.3 MB/s eta 0:00:02\r",
      "\u001b[K     |███████▊                        | 5.8 MB 13.3 MB/s eta 0:00:02\r",
      "\u001b[K     |███████▊                        | 5.8 MB 13.3 MB/s eta 0:00:02\r",
      "\u001b[K     |███████▉                        | 5.9 MB 13.3 MB/s eta 0:00:02\r",
      "\u001b[K     |███████▉                        | 5.9 MB 13.3 MB/s eta 0:00:02\r",
      "\u001b[K     |███████▉                        | 5.9 MB 13.3 MB/s eta 0:00:02\r",
      "\u001b[K     |███████▉                        | 5.9 MB 13.3 MB/s eta 0:00:02\r",
      "\u001b[K     |███████▉                        | 5.9 MB 13.3 MB/s eta 0:00:02\r",
      "\u001b[K     |███████▉                        | 5.9 MB 13.3 MB/s eta 0:00:02\r",
      "\u001b[K     |███████▉                        | 5.9 MB 13.3 MB/s eta 0:00:02\r",
      "\u001b[K     |███████▉                        | 5.9 MB 13.3 MB/s eta 0:00:02\r",
      "\u001b[K     |████████                        | 5.9 MB 13.3 MB/s eta 0:00:02\r",
      "\u001b[K     |████████                        | 5.9 MB 13.3 MB/s eta 0:00:02\r",
      "\u001b[K     |████████                        | 6.0 MB 13.3 MB/s eta 0:00:02\r",
      "\u001b[K     |████████                        | 6.0 MB 13.3 MB/s eta 0:00:02\r",
      "\u001b[K     |████████                        | 6.0 MB 13.3 MB/s eta 0:00:02\r",
      "\u001b[K     |████████                        | 6.0 MB 13.3 MB/s eta 0:00:02\r",
      "\u001b[K     |████████                        | 6.0 MB 13.3 MB/s eta 0:00:02\r",
      "\u001b[K     |████████                        | 6.0 MB 13.3 MB/s eta 0:00:02\r",
      "\u001b[K     |████████                        | 6.0 MB 13.3 MB/s eta 0:00:02\r",
      "\u001b[K     |████████                        | 6.0 MB 13.3 MB/s eta 0:00:02\r",
      "\u001b[K     |████████                        | 6.0 MB 13.3 MB/s eta 0:00:02\r",
      "\u001b[K     |████████                        | 6.1 MB 13.3 MB/s eta 0:00:02\r",
      "\u001b[K     |████████                        | 6.1 MB 13.3 MB/s eta 0:00:02\r",
      "\u001b[K     |████████                        | 6.1 MB 13.3 MB/s eta 0:00:02\r",
      "\u001b[K     |████████                        | 6.1 MB 13.3 MB/s eta 0:00:02\r",
      "\u001b[K     |████████                        | 6.1 MB 13.3 MB/s eta 0:00:02\r",
      "\u001b[K     |████████▏                       | 6.1 MB 13.3 MB/s eta 0:00:02\r",
      "\u001b[K     |████████▏                       | 6.1 MB 13.3 MB/s eta 0:00:02\r",
      "\u001b[K     |████████▏                       | 6.1 MB 13.3 MB/s eta 0:00:02\r",
      "\u001b[K     |████████▏                       | 6.1 MB 13.3 MB/s eta 0:00:02\r",
      "\u001b[K     |████████▏                       | 6.1 MB 13.3 MB/s eta 0:00:02\r",
      "\u001b[K     |████████▏                       | 6.2 MB 13.3 MB/s eta 0:00:02\r",
      "\u001b[K     |████████▏                       | 6.2 MB 13.3 MB/s eta 0:00:02\r",
      "\u001b[K     |████████▏                       | 6.2 MB 13.3 MB/s eta 0:00:02\r",
      "\u001b[K     |████████▏                       | 6.2 MB 13.3 MB/s eta 0:00:02\r",
      "\u001b[K     |████████▎                       | 6.2 MB 13.3 MB/s eta 0:00:02\r",
      "\u001b[K     |████████▎                       | 6.2 MB 13.3 MB/s eta 0:00:02\r",
      "\u001b[K     |████████▎                       | 6.2 MB 13.3 MB/s eta 0:00:02\r",
      "\u001b[K     |████████▎                       | 6.2 MB 13.3 MB/s eta 0:00:02\r",
      "\u001b[K     |████████▎                       | 6.2 MB 13.3 MB/s eta 0:00:02\r",
      "\u001b[K     |████████▎                       | 6.2 MB 13.3 MB/s eta 0:00:02\r",
      "\u001b[K     |████████▎                       | 6.3 MB 13.3 MB/s eta 0:00:02\r",
      "\u001b[K     |████████▎                       | 6.3 MB 13.3 MB/s eta 0:00:02"
     ]
    },
    {
     "name": "stdout",
     "output_type": "stream",
     "text": [
      "\r",
      "\u001b[K     |████████▍                       | 6.3 MB 13.3 MB/s eta 0:00:02\r",
      "\u001b[K     |████████▍                       | 6.3 MB 13.3 MB/s eta 0:00:02\r",
      "\u001b[K     |████████▍                       | 6.3 MB 13.3 MB/s eta 0:00:02\r",
      "\u001b[K     |████████▍                       | 6.3 MB 13.3 MB/s eta 0:00:02\r",
      "\u001b[K     |████████▍                       | 6.3 MB 13.3 MB/s eta 0:00:02\r",
      "\u001b[K     |████████▍                       | 6.3 MB 13.3 MB/s eta 0:00:02\r",
      "\u001b[K     |████████▍                       | 6.3 MB 13.3 MB/s eta 0:00:02\r",
      "\u001b[K     |████████▍                       | 6.3 MB 13.3 MB/s eta 0:00:02\r",
      "\u001b[K     |████████▌                       | 6.4 MB 13.3 MB/s eta 0:00:02\r",
      "\u001b[K     |████████▌                       | 6.4 MB 13.3 MB/s eta 0:00:02\r",
      "\u001b[K     |████████▌                       | 6.4 MB 13.3 MB/s eta 0:00:02\r",
      "\u001b[K     |████████▌                       | 6.4 MB 13.3 MB/s eta 0:00:02\r",
      "\u001b[K     |████████▌                       | 6.4 MB 13.3 MB/s eta 0:00:02\r",
      "\u001b[K     |████████▌                       | 6.4 MB 13.3 MB/s eta 0:00:02\r",
      "\u001b[K     |████████▌                       | 6.4 MB 13.3 MB/s eta 0:00:02\r",
      "\u001b[K     |████████▌                       | 6.4 MB 13.3 MB/s eta 0:00:02\r",
      "\u001b[K     |████████▋                       | 6.4 MB 13.3 MB/s eta 0:00:02\r",
      "\u001b[K     |████████▋                       | 6.5 MB 13.3 MB/s eta 0:00:02\r",
      "\u001b[K     |████████▋                       | 6.5 MB 13.3 MB/s eta 0:00:02\r",
      "\u001b[K     |████████▋                       | 6.5 MB 13.3 MB/s eta 0:00:02\r",
      "\u001b[K     |████████▋                       | 6.5 MB 13.3 MB/s eta 0:00:02\r",
      "\u001b[K     |████████▋                       | 6.5 MB 13.3 MB/s eta 0:00:02\r",
      "\u001b[K     |████████▋                       | 6.5 MB 13.3 MB/s eta 0:00:02\r",
      "\u001b[K     |████████▋                       | 6.5 MB 13.3 MB/s eta 0:00:02\r",
      "\u001b[K     |████████▊                       | 6.5 MB 13.3 MB/s eta 0:00:02\r",
      "\u001b[K     |████████▊                       | 6.5 MB 13.3 MB/s eta 0:00:02\r",
      "\u001b[K     |████████▊                       | 6.5 MB 13.3 MB/s eta 0:00:02\r",
      "\u001b[K     |████████▊                       | 6.6 MB 13.3 MB/s eta 0:00:02\r",
      "\u001b[K     |████████▊                       | 6.6 MB 13.3 MB/s eta 0:00:02\r",
      "\u001b[K     |████████▊                       | 6.6 MB 13.3 MB/s eta 0:00:02\r",
      "\u001b[K     |████████▊                       | 6.6 MB 13.3 MB/s eta 0:00:02\r",
      "\u001b[K     |████████▊                       | 6.6 MB 13.3 MB/s eta 0:00:02\r",
      "\u001b[K     |████████▉                       | 6.6 MB 13.3 MB/s eta 0:00:02\r",
      "\u001b[K     |████████▉                       | 6.6 MB 13.3 MB/s eta 0:00:02\r",
      "\u001b[K     |████████▉                       | 6.6 MB 13.3 MB/s eta 0:00:02\r",
      "\u001b[K     |████████▉                       | 6.6 MB 13.3 MB/s eta 0:00:02\r",
      "\u001b[K     |████████▉                       | 6.6 MB 13.3 MB/s eta 0:00:02\r",
      "\u001b[K     |████████▉                       | 6.7 MB 13.3 MB/s eta 0:00:02\r",
      "\u001b[K     |████████▉                       | 6.7 MB 13.3 MB/s eta 0:00:02\r",
      "\u001b[K     |████████▉                       | 6.7 MB 13.3 MB/s eta 0:00:02\r",
      "\u001b[K     |█████████                       | 6.7 MB 13.3 MB/s eta 0:00:02\r",
      "\u001b[K     |█████████                       | 6.7 MB 13.3 MB/s eta 0:00:02\r",
      "\u001b[K     |█████████                       | 6.7 MB 13.3 MB/s eta 0:00:02\r",
      "\u001b[K     |█████████                       | 6.7 MB 13.3 MB/s eta 0:00:02\r",
      "\u001b[K     |█████████                       | 6.7 MB 13.3 MB/s eta 0:00:02\r",
      "\u001b[K     |█████████                       | 6.7 MB 13.3 MB/s eta 0:00:02\r",
      "\u001b[K     |█████████                       | 6.7 MB 13.3 MB/s eta 0:00:02\r",
      "\u001b[K     |█████████                       | 6.8 MB 13.3 MB/s eta 0:00:02\r",
      "\u001b[K     |█████████                       | 6.8 MB 13.3 MB/s eta 0:00:02\r",
      "\u001b[K     |█████████                       | 6.8 MB 13.3 MB/s eta 0:00:02\r",
      "\u001b[K     |█████████                       | 6.8 MB 13.3 MB/s eta 0:00:02\r",
      "\u001b[K     |█████████                       | 6.8 MB 13.3 MB/s eta 0:00:02\r",
      "\u001b[K     |█████████                       | 6.8 MB 13.3 MB/s eta 0:00:02\r",
      "\u001b[K     |█████████                       | 6.8 MB 13.3 MB/s eta 0:00:02\r",
      "\u001b[K     |█████████                       | 6.8 MB 13.3 MB/s eta 0:00:02\r",
      "\u001b[K     |█████████                       | 6.8 MB 13.3 MB/s eta 0:00:02\r",
      "\u001b[K     |█████████                       | 6.9 MB 13.3 MB/s eta 0:00:02\r",
      "\u001b[K     |█████████▏                      | 6.9 MB 13.3 MB/s eta 0:00:02\r",
      "\u001b[K     |█████████▏                      | 6.9 MB 13.3 MB/s eta 0:00:02\r",
      "\u001b[K     |█████████▏                      | 6.9 MB 13.3 MB/s eta 0:00:02\r",
      "\u001b[K     |█████████▏                      | 6.9 MB 13.3 MB/s eta 0:00:02\r",
      "\u001b[K     |█████████▏                      | 6.9 MB 13.3 MB/s eta 0:00:02\r",
      "\u001b[K     |█████████▏                      | 6.9 MB 13.3 MB/s eta 0:00:02\r",
      "\u001b[K     |█████████▏                      | 6.9 MB 13.3 MB/s eta 0:00:02\r",
      "\u001b[K     |█████████▏                      | 6.9 MB 13.3 MB/s eta 0:00:02\r",
      "\u001b[K     |█████████▎                      | 6.9 MB 13.3 MB/s eta 0:00:02\r",
      "\u001b[K     |█████████▎                      | 7.0 MB 13.3 MB/s eta 0:00:02\r",
      "\u001b[K     |█████████▎                      | 7.0 MB 13.3 MB/s eta 0:00:02\r",
      "\u001b[K     |█████████▎                      | 7.0 MB 13.3 MB/s eta 0:00:02\r",
      "\u001b[K     |█████████▎                      | 7.0 MB 13.3 MB/s eta 0:00:02\r",
      "\u001b[K     |█████████▎                      | 7.0 MB 13.3 MB/s eta 0:00:02\r",
      "\u001b[K     |█████████▎                      | 7.0 MB 13.3 MB/s eta 0:00:02\r",
      "\u001b[K     |█████████▎                      | 7.0 MB 13.3 MB/s eta 0:00:02\r",
      "\u001b[K     |█████████▍                      | 7.0 MB 13.3 MB/s eta 0:00:02\r",
      "\u001b[K     |█████████▍                      | 7.0 MB 13.3 MB/s eta 0:00:02\r",
      "\u001b[K     |█████████▍                      | 7.0 MB 13.3 MB/s eta 0:00:02\r",
      "\u001b[K     |█████████▍                      | 7.1 MB 13.3 MB/s eta 0:00:02\r",
      "\u001b[K     |█████████▍                      | 7.1 MB 13.3 MB/s eta 0:00:02\r",
      "\u001b[K     |█████████▍                      | 7.1 MB 13.3 MB/s eta 0:00:02\r",
      "\u001b[K     |█████████▍                      | 7.1 MB 13.3 MB/s eta 0:00:02\r",
      "\u001b[K     |█████████▍                      | 7.1 MB 13.3 MB/s eta 0:00:02\r",
      "\u001b[K     |█████████▌                      | 7.1 MB 13.3 MB/s eta 0:00:02\r",
      "\u001b[K     |█████████▌                      | 7.1 MB 13.3 MB/s eta 0:00:02\r",
      "\u001b[K     |█████████▌                      | 7.1 MB 13.3 MB/s eta 0:00:02\r",
      "\u001b[K     |█████████▌                      | 7.1 MB 13.3 MB/s eta 0:00:02\r",
      "\u001b[K     |█████████▌                      | 7.1 MB 13.3 MB/s eta 0:00:02\r",
      "\u001b[K     |█████████▌                      | 7.2 MB 13.3 MB/s eta 0:00:02\r",
      "\u001b[K     |█████████▌                      | 7.2 MB 13.3 MB/s eta 0:00:02\r",
      "\u001b[K     |█████████▌                      | 7.2 MB 13.3 MB/s eta 0:00:02\r",
      "\u001b[K     |█████████▋                      | 7.2 MB 13.3 MB/s eta 0:00:02\r",
      "\u001b[K     |█████████▋                      | 7.2 MB 13.3 MB/s eta 0:00:02\r",
      "\u001b[K     |█████████▋                      | 7.2 MB 13.3 MB/s eta 0:00:02\r",
      "\u001b[K     |█████████▋                      | 7.2 MB 13.3 MB/s eta 0:00:02\r",
      "\u001b[K     |█████████▋                      | 7.2 MB 13.3 MB/s eta 0:00:02\r",
      "\u001b[K     |█████████▋                      | 7.2 MB 13.3 MB/s eta 0:00:02\r",
      "\u001b[K     |█████████▋                      | 7.2 MB 13.3 MB/s eta 0:00:02\r",
      "\u001b[K     |█████████▋                      | 7.3 MB 13.3 MB/s eta 0:00:02\r",
      "\u001b[K     |█████████▋                      | 7.3 MB 13.3 MB/s eta 0:00:02\r",
      "\u001b[K     |█████████▊                      | 7.3 MB 13.3 MB/s eta 0:00:02\r",
      "\u001b[K     |█████████▊                      | 7.3 MB 13.3 MB/s eta 0:00:02\r",
      "\u001b[K     |█████████▊                      | 7.3 MB 13.3 MB/s eta 0:00:02\r",
      "\u001b[K     |█████████▊                      | 7.3 MB 13.3 MB/s eta 0:00:02\r",
      "\u001b[K     |█████████▊                      | 7.3 MB 13.3 MB/s eta 0:00:02\r",
      "\u001b[K     |█████████▊                      | 7.3 MB 13.3 MB/s eta 0:00:02\r",
      "\u001b[K     |█████████▊                      | 7.3 MB 13.3 MB/s eta 0:00:02\r",
      "\u001b[K     |█████████▊                      | 7.4 MB 13.3 MB/s eta 0:00:02"
     ]
    },
    {
     "name": "stdout",
     "output_type": "stream",
     "text": [
      "\r",
      "\u001b[K     |█████████▉                      | 7.4 MB 13.3 MB/s eta 0:00:02\r",
      "\u001b[K     |█████████▉                      | 7.4 MB 13.3 MB/s eta 0:00:02\r",
      "\u001b[K     |█████████▉                      | 7.4 MB 13.3 MB/s eta 0:00:02\r",
      "\u001b[K     |█████████▉                      | 7.4 MB 13.3 MB/s eta 0:00:02\r",
      "\u001b[K     |█████████▉                      | 7.4 MB 13.3 MB/s eta 0:00:02\r",
      "\u001b[K     |█████████▉                      | 7.4 MB 13.3 MB/s eta 0:00:02\r",
      "\u001b[K     |█████████▉                      | 7.4 MB 13.3 MB/s eta 0:00:02\r",
      "\u001b[K     |█████████▉                      | 7.4 MB 13.3 MB/s eta 0:00:02\r",
      "\u001b[K     |██████████                      | 7.4 MB 13.3 MB/s eta 0:00:02\r",
      "\u001b[K     |██████████                      | 7.5 MB 13.3 MB/s eta 0:00:02\r",
      "\u001b[K     |██████████                      | 7.5 MB 13.3 MB/s eta 0:00:02\r",
      "\u001b[K     |██████████                      | 7.5 MB 13.3 MB/s eta 0:00:02\r",
      "\u001b[K     |██████████                      | 7.5 MB 13.3 MB/s eta 0:00:02\r",
      "\u001b[K     |██████████                      | 7.5 MB 13.3 MB/s eta 0:00:02\r",
      "\u001b[K     |██████████                      | 7.5 MB 13.3 MB/s eta 0:00:02\r",
      "\u001b[K     |██████████                      | 7.5 MB 13.3 MB/s eta 0:00:02\r",
      "\u001b[K     |██████████                      | 7.5 MB 13.3 MB/s eta 0:00:02\r",
      "\u001b[K     |██████████                      | 7.5 MB 13.3 MB/s eta 0:00:02\r",
      "\u001b[K     |██████████                      | 7.5 MB 13.3 MB/s eta 0:00:02\r",
      "\u001b[K     |██████████                      | 7.6 MB 13.3 MB/s eta 0:00:02\r",
      "\u001b[K     |██████████                      | 7.6 MB 13.3 MB/s eta 0:00:02\r",
      "\u001b[K     |██████████                      | 7.6 MB 13.3 MB/s eta 0:00:02\r",
      "\u001b[K     |██████████                      | 7.6 MB 13.3 MB/s eta 0:00:02\r",
      "\u001b[K     |██████████                      | 7.6 MB 13.3 MB/s eta 0:00:02\r",
      "\u001b[K     |██████████▏                     | 7.6 MB 13.3 MB/s eta 0:00:02\r",
      "\u001b[K     |██████████▏                     | 7.6 MB 13.3 MB/s eta 0:00:02\r",
      "\u001b[K     |██████████▏                     | 7.6 MB 13.3 MB/s eta 0:00:02\r",
      "\u001b[K     |██████████▏                     | 7.6 MB 13.3 MB/s eta 0:00:02\r",
      "\u001b[K     |██████████▏                     | 7.6 MB 13.3 MB/s eta 0:00:02\r",
      "\u001b[K     |██████████▏                     | 7.7 MB 13.3 MB/s eta 0:00:02\r",
      "\u001b[K     |██████████▏                     | 7.7 MB 13.3 MB/s eta 0:00:02\r",
      "\u001b[K     |██████████▏                     | 7.7 MB 13.3 MB/s eta 0:00:02\r",
      "\u001b[K     |██████████▎                     | 7.7 MB 13.3 MB/s eta 0:00:02\r",
      "\u001b[K     |██████████▎                     | 7.7 MB 13.3 MB/s eta 0:00:02\r",
      "\u001b[K     |██████████▎                     | 7.7 MB 13.3 MB/s eta 0:00:02\r",
      "\u001b[K     |██████████▎                     | 7.7 MB 13.3 MB/s eta 0:00:02\r",
      "\u001b[K     |██████████▎                     | 7.7 MB 13.3 MB/s eta 0:00:02\r",
      "\u001b[K     |██████████▎                     | 7.7 MB 13.3 MB/s eta 0:00:02\r",
      "\u001b[K     |██████████▎                     | 7.8 MB 13.3 MB/s eta 0:00:02\r",
      "\u001b[K     |██████████▎                     | 7.8 MB 13.3 MB/s eta 0:00:02\r",
      "\u001b[K     |██████████▎                     | 7.8 MB 13.3 MB/s eta 0:00:02\r",
      "\u001b[K     |██████████▍                     | 7.8 MB 13.3 MB/s eta 0:00:02\r",
      "\u001b[K     |██████████▍                     | 7.8 MB 13.3 MB/s eta 0:00:02\r",
      "\u001b[K     |██████████▍                     | 7.8 MB 13.3 MB/s eta 0:00:02\r",
      "\u001b[K     |██████████▍                     | 7.8 MB 13.3 MB/s eta 0:00:02\r",
      "\u001b[K     |██████████▍                     | 7.8 MB 13.3 MB/s eta 0:00:02\r",
      "\u001b[K     |██████████▍                     | 7.8 MB 13.3 MB/s eta 0:00:02\r",
      "\u001b[K     |██████████▍                     | 7.8 MB 13.3 MB/s eta 0:00:02\r",
      "\u001b[K     |██████████▍                     | 7.9 MB 13.3 MB/s eta 0:00:02\r",
      "\u001b[K     |██████████▌                     | 7.9 MB 13.3 MB/s eta 0:00:02\r",
      "\u001b[K     |██████████▌                     | 7.9 MB 13.3 MB/s eta 0:00:02\r",
      "\u001b[K     |██████████▌                     | 7.9 MB 13.3 MB/s eta 0:00:02\r",
      "\u001b[K     |██████████▌                     | 7.9 MB 13.3 MB/s eta 0:00:02\r",
      "\u001b[K     |██████████▌                     | 7.9 MB 13.3 MB/s eta 0:00:02\r",
      "\u001b[K     |██████████▌                     | 7.9 MB 13.3 MB/s eta 0:00:02\r",
      "\u001b[K     |██████████▌                     | 7.9 MB 13.3 MB/s eta 0:00:02\r",
      "\u001b[K     |██████████▌                     | 7.9 MB 13.3 MB/s eta 0:00:02\r",
      "\u001b[K     |██████████▋                     | 7.9 MB 13.3 MB/s eta 0:00:02\r",
      "\u001b[K     |██████████▋                     | 8.0 MB 13.3 MB/s eta 0:00:02\r",
      "\u001b[K     |██████████▋                     | 8.0 MB 13.3 MB/s eta 0:00:02\r",
      "\u001b[K     |██████████▋                     | 8.0 MB 13.3 MB/s eta 0:00:02\r",
      "\u001b[K     |██████████▋                     | 8.0 MB 13.3 MB/s eta 0:00:02\r",
      "\u001b[K     |██████████▋                     | 8.0 MB 13.3 MB/s eta 0:00:02\r",
      "\u001b[K     |██████████▋                     | 8.0 MB 13.3 MB/s eta 0:00:02\r",
      "\u001b[K     |██████████▋                     | 8.0 MB 13.3 MB/s eta 0:00:02\r",
      "\u001b[K     |██████████▊                     | 8.0 MB 13.3 MB/s eta 0:00:02\r",
      "\u001b[K     |██████████▊                     | 8.0 MB 13.3 MB/s eta 0:00:02\r",
      "\u001b[K     |██████████▊                     | 8.0 MB 13.3 MB/s eta 0:00:02\r",
      "\u001b[K     |██████████▊                     | 8.1 MB 13.3 MB/s eta 0:00:02\r",
      "\u001b[K     |██████████▊                     | 8.1 MB 13.3 MB/s eta 0:00:02\r",
      "\u001b[K     |██████████▊                     | 8.1 MB 13.3 MB/s eta 0:00:02\r",
      "\u001b[K     |██████████▊                     | 8.1 MB 13.3 MB/s eta 0:00:02\r",
      "\u001b[K     |██████████▊                     | 8.1 MB 13.3 MB/s eta 0:00:02\r",
      "\u001b[K     |██████████▉                     | 8.1 MB 13.3 MB/s eta 0:00:02\r",
      "\u001b[K     |██████████▉                     | 8.1 MB 13.3 MB/s eta 0:00:02\r",
      "\u001b[K     |██████████▉                     | 8.1 MB 13.3 MB/s eta 0:00:02\r",
      "\u001b[K     |██████████▉                     | 8.1 MB 13.3 MB/s eta 0:00:02\r",
      "\u001b[K     |██████████▉                     | 8.2 MB 13.3 MB/s eta 0:00:02\r",
      "\u001b[K     |██████████▉                     | 8.2 MB 13.3 MB/s eta 0:00:02\r",
      "\u001b[K     |██████████▉                     | 8.2 MB 13.3 MB/s eta 0:00:02\r",
      "\u001b[K     |██████████▉                     | 8.2 MB 13.3 MB/s eta 0:00:02\r",
      "\u001b[K     |███████████                     | 8.2 MB 13.3 MB/s eta 0:00:02\r",
      "\u001b[K     |███████████                     | 8.2 MB 13.3 MB/s eta 0:00:02\r",
      "\u001b[K     |███████████                     | 8.2 MB 13.3 MB/s eta 0:00:02\r",
      "\u001b[K     |███████████                     | 8.2 MB 13.3 MB/s eta 0:00:02\r",
      "\u001b[K     |███████████                     | 8.2 MB 13.3 MB/s eta 0:00:02\r",
      "\u001b[K     |███████████                     | 8.2 MB 13.3 MB/s eta 0:00:02\r",
      "\u001b[K     |███████████                     | 8.3 MB 13.3 MB/s eta 0:00:02\r",
      "\u001b[K     |███████████                     | 8.3 MB 13.3 MB/s eta 0:00:02\r",
      "\u001b[K     |███████████                     | 8.3 MB 13.3 MB/s eta 0:00:02\r",
      "\u001b[K     |███████████                     | 8.3 MB 13.3 MB/s eta 0:00:02\r",
      "\u001b[K     |███████████                     | 8.3 MB 13.3 MB/s eta 0:00:02\r",
      "\u001b[K     |███████████                     | 8.3 MB 13.3 MB/s eta 0:00:02\r",
      "\u001b[K     |███████████                     | 8.3 MB 13.3 MB/s eta 0:00:02\r",
      "\u001b[K     |███████████                     | 8.3 MB 13.3 MB/s eta 0:00:02\r",
      "\u001b[K     |███████████                     | 8.3 MB 13.3 MB/s eta 0:00:02\r",
      "\u001b[K     |███████████                     | 8.3 MB 13.3 MB/s eta 0:00:02\r",
      "\u001b[K     |███████████                     | 8.4 MB 13.3 MB/s eta 0:00:02\r",
      "\u001b[K     |███████████▏                    | 8.4 MB 13.3 MB/s eta 0:00:02\r",
      "\u001b[K     |███████████▏                    | 8.4 MB 13.3 MB/s eta 0:00:02\r",
      "\u001b[K     |███████████▏                    | 8.4 MB 13.3 MB/s eta 0:00:02\r",
      "\u001b[K     |███████████▏                    | 8.4 MB 13.3 MB/s eta 0:00:02\r",
      "\u001b[K     |███████████▏                    | 8.4 MB 13.3 MB/s eta 0:00:02\r",
      "\u001b[K     |███████████▏                    | 8.4 MB 13.3 MB/s eta 0:00:02\r",
      "\u001b[K     |███████████▏                    | 8.4 MB 13.3 MB/s eta 0:00:02\r",
      "\u001b[K     |███████████▏                    | 8.4 MB 13.3 MB/s eta 0:00:02\r",
      "\u001b[K     |███████████▎                    | 8.4 MB 13.3 MB/s eta 0:00:02\r",
      "\u001b[K     |███████████▎                    | 8.5 MB 13.3 MB/s eta 0:00:02\r",
      "\u001b[K     |███████████▎                    | 8.5 MB 13.3 MB/s eta 0:00:02\r",
      "\u001b[K     |███████████▎                    | 8.5 MB 13.3 MB/s eta 0:00:02\r",
      "\u001b[K     |███████████▎                    | 8.5 MB 13.3 MB/s eta 0:00:02\r",
      "\u001b[K     |███████████▎                    | 8.5 MB 13.3 MB/s eta 0:00:02\r",
      "\u001b[K     |███████████▎                    | 8.5 MB 13.3 MB/s eta 0:00:02\r",
      "\u001b[K     |███████████▎                    | 8.5 MB 13.3 MB/s eta 0:00:02\r",
      "\u001b[K     |███████████▍                    | 8.5 MB 13.3 MB/s eta 0:00:02\r",
      "\u001b[K     |███████████▍                    | 8.5 MB 13.3 MB/s eta 0:00:02\r",
      "\u001b[K     |███████████▍                    | 8.6 MB 13.3 MB/s eta 0:00:02\r",
      "\u001b[K     |███████████▍                    | 8.6 MB 13.3 MB/s eta 0:00:02\r",
      "\u001b[K     |███████████▍                    | 8.6 MB 13.3 MB/s eta 0:00:02\r",
      "\u001b[K     |███████████▍                    | 8.6 MB 13.3 MB/s eta 0:00:02\r",
      "\u001b[K     |███████████▍                    | 8.6 MB 13.3 MB/s eta 0:00:02\r",
      "\u001b[K     |███████████▍                    | 8.6 MB 13.3 MB/s eta 0:00:02\r",
      "\u001b[K     |███████████▌                    | 8.6 MB 13.3 MB/s eta 0:00:02\r",
      "\u001b[K     |███████████▌                    | 8.6 MB 13.3 MB/s eta 0:00:02\r",
      "\u001b[K     |███████████▌                    | 8.6 MB 13.3 MB/s eta 0:00:02\r",
      "\u001b[K     |███████████▌                    | 8.6 MB 13.3 MB/s eta 0:00:02\r",
      "\u001b[K     |███████████▌                    | 8.7 MB 13.3 MB/s eta 0:00:02\r",
      "\u001b[K     |███████████▌                    | 8.7 MB 13.3 MB/s eta 0:00:02\r",
      "\u001b[K     |███████████▌                    | 8.7 MB 13.3 MB/s eta 0:00:02\r",
      "\u001b[K     |███████████▌                    | 8.7 MB 13.3 MB/s eta 0:00:02\r",
      "\u001b[K     |███████████▋                    | 8.7 MB 13.3 MB/s eta 0:00:02\r",
      "\u001b[K     |███████████▋                    | 8.7 MB 13.3 MB/s eta 0:00:02\r",
      "\u001b[K     |███████████▋                    | 8.7 MB 13.3 MB/s eta 0:00:02"
     ]
    },
    {
     "name": "stdout",
     "output_type": "stream",
     "text": [
      "\r",
      "\u001b[K     |███████████▋                    | 8.7 MB 13.3 MB/s eta 0:00:02\r",
      "\u001b[K     |███████████▋                    | 8.7 MB 13.3 MB/s eta 0:00:02\r",
      "\u001b[K     |███████████▋                    | 8.7 MB 13.3 MB/s eta 0:00:02\r",
      "\u001b[K     |███████████▋                    | 8.8 MB 13.3 MB/s eta 0:00:02\r",
      "\u001b[K     |███████████▋                    | 8.8 MB 13.3 MB/s eta 0:00:02\r",
      "\u001b[K     |███████████▋                    | 8.8 MB 13.3 MB/s eta 0:00:02\r",
      "\u001b[K     |███████████▊                    | 8.8 MB 13.3 MB/s eta 0:00:02\r",
      "\u001b[K     |███████████▊                    | 8.8 MB 13.3 MB/s eta 0:00:02\r",
      "\u001b[K     |███████████▊                    | 8.8 MB 13.3 MB/s eta 0:00:02\r",
      "\u001b[K     |███████████▊                    | 8.8 MB 13.3 MB/s eta 0:00:02\r",
      "\u001b[K     |███████████▊                    | 8.8 MB 13.3 MB/s eta 0:00:02\r",
      "\u001b[K     |███████████▊                    | 8.8 MB 13.3 MB/s eta 0:00:02\r",
      "\u001b[K     |███████████▊                    | 8.8 MB 13.3 MB/s eta 0:00:02\r",
      "\u001b[K     |███████████▊                    | 8.9 MB 13.3 MB/s eta 0:00:02\r",
      "\u001b[K     |███████████▉                    | 8.9 MB 13.3 MB/s eta 0:00:02\r",
      "\u001b[K     |███████████▉                    | 8.9 MB 13.3 MB/s eta 0:00:02\r",
      "\u001b[K     |███████████▉                    | 8.9 MB 13.3 MB/s eta 0:00:02\r",
      "\u001b[K     |███████████▉                    | 8.9 MB 13.3 MB/s eta 0:00:02\r",
      "\u001b[K     |███████████▉                    | 8.9 MB 13.3 MB/s eta 0:00:02\r",
      "\u001b[K     |███████████▉                    | 8.9 MB 13.3 MB/s eta 0:00:02\r",
      "\u001b[K     |███████████▉                    | 8.9 MB 13.3 MB/s eta 0:00:02\r",
      "\u001b[K     |███████████▉                    | 8.9 MB 13.3 MB/s eta 0:00:02\r",
      "\u001b[K     |████████████                    | 8.9 MB 13.3 MB/s eta 0:00:02\r",
      "\u001b[K     |████████████                    | 9.0 MB 13.3 MB/s eta 0:00:02\r",
      "\u001b[K     |████████████                    | 9.0 MB 13.3 MB/s eta 0:00:02\r",
      "\u001b[K     |████████████                    | 9.0 MB 13.3 MB/s eta 0:00:02\r",
      "\u001b[K     |████████████                    | 9.0 MB 13.3 MB/s eta 0:00:02\r",
      "\u001b[K     |████████████                    | 9.0 MB 13.3 MB/s eta 0:00:02\r",
      "\u001b[K     |████████████                    | 9.0 MB 13.3 MB/s eta 0:00:02\r",
      "\u001b[K     |████████████                    | 9.0 MB 13.3 MB/s eta 0:00:02\r",
      "\u001b[K     |████████████                    | 9.0 MB 13.3 MB/s eta 0:00:02\r",
      "\u001b[K     |████████████                    | 9.0 MB 13.3 MB/s eta 0:00:02\r",
      "\u001b[K     |████████████                    | 9.1 MB 13.3 MB/s eta 0:00:02\r",
      "\u001b[K     |████████████                    | 9.1 MB 13.3 MB/s eta 0:00:02\r",
      "\u001b[K     |████████████                    | 9.1 MB 13.3 MB/s eta 0:00:02\r",
      "\u001b[K     |████████████                    | 9.1 MB 13.3 MB/s eta 0:00:02\r",
      "\u001b[K     |████████████                    | 9.1 MB 13.3 MB/s eta 0:00:02\r",
      "\u001b[K     |████████████                    | 9.1 MB 13.3 MB/s eta 0:00:02\r",
      "\u001b[K     |████████████▏                   | 9.1 MB 13.3 MB/s eta 0:00:02\r",
      "\u001b[K     |████████████▏                   | 9.1 MB 13.3 MB/s eta 0:00:02\r",
      "\u001b[K     |████████████▏                   | 9.1 MB 13.3 MB/s eta 0:00:02\r",
      "\u001b[K     |████████████▏                   | 9.1 MB 13.3 MB/s eta 0:00:02\r",
      "\u001b[K     |████████████▏                   | 9.2 MB 13.3 MB/s eta 0:00:02\r",
      "\u001b[K     |████████████▏                   | 9.2 MB 13.3 MB/s eta 0:00:02\r",
      "\u001b[K     |████████████▏                   | 9.2 MB 13.3 MB/s eta 0:00:02\r",
      "\u001b[K     |████████████▏                   | 9.2 MB 13.3 MB/s eta 0:00:02\r",
      "\u001b[K     |████████████▎                   | 9.2 MB 13.3 MB/s eta 0:00:02\r",
      "\u001b[K     |████████████▎                   | 9.2 MB 13.3 MB/s eta 0:00:02\r",
      "\u001b[K     |████████████▎                   | 9.2 MB 13.3 MB/s eta 0:00:02\r",
      "\u001b[K     |████████████▎                   | 9.2 MB 13.3 MB/s eta 0:00:02\r",
      "\u001b[K     |████████████▎                   | 9.2 MB 13.3 MB/s eta 0:00:02\r",
      "\u001b[K     |████████████▎                   | 9.2 MB 13.3 MB/s eta 0:00:02\r",
      "\u001b[K     |████████████▎                   | 9.3 MB 13.3 MB/s eta 0:00:02\r",
      "\u001b[K     |████████████▎                   | 9.3 MB 13.3 MB/s eta 0:00:02\r",
      "\u001b[K     |████████████▎                   | 9.3 MB 13.3 MB/s eta 0:00:02\r",
      "\u001b[K     |████████████▍                   | 9.3 MB 13.3 MB/s eta 0:00:02\r",
      "\u001b[K     |████████████▍                   | 9.3 MB 13.3 MB/s eta 0:00:02\r",
      "\u001b[K     |████████████▍                   | 9.3 MB 13.3 MB/s eta 0:00:02\r",
      "\u001b[K     |████████████▍                   | 9.3 MB 13.3 MB/s eta 0:00:02\r",
      "\u001b[K     |████████████▍                   | 9.3 MB 13.3 MB/s eta 0:00:02\r",
      "\u001b[K     |████████████▍                   | 9.3 MB 13.3 MB/s eta 0:00:02\r",
      "\u001b[K     |████████████▍                   | 9.3 MB 13.3 MB/s eta 0:00:02\r",
      "\u001b[K     |████████████▍                   | 9.4 MB 13.3 MB/s eta 0:00:02\r",
      "\u001b[K     |████████████▌                   | 9.4 MB 13.3 MB/s eta 0:00:02\r",
      "\u001b[K     |████████████▌                   | 9.4 MB 13.3 MB/s eta 0:00:02\r",
      "\u001b[K     |████████████▌                   | 9.4 MB 13.3 MB/s eta 0:00:02\r",
      "\u001b[K     |████████████▌                   | 9.4 MB 13.3 MB/s eta 0:00:02\r",
      "\u001b[K     |████████████▌                   | 9.4 MB 13.3 MB/s eta 0:00:02\r",
      "\u001b[K     |████████████▌                   | 9.4 MB 13.3 MB/s eta 0:00:02\r",
      "\u001b[K     |████████████▌                   | 9.4 MB 13.3 MB/s eta 0:00:02\r",
      "\u001b[K     |████████████▌                   | 9.4 MB 13.3 MB/s eta 0:00:02\r",
      "\u001b[K     |████████████▋                   | 9.5 MB 13.3 MB/s eta 0:00:02\r",
      "\u001b[K     |████████████▋                   | 9.5 MB 13.3 MB/s eta 0:00:02\r",
      "\u001b[K     |████████████▋                   | 9.5 MB 13.3 MB/s eta 0:00:02\r",
      "\u001b[K     |████████████▋                   | 9.5 MB 13.3 MB/s eta 0:00:02\r",
      "\u001b[K     |████████████▋                   | 9.5 MB 13.3 MB/s eta 0:00:02\r",
      "\u001b[K     |████████████▋                   | 9.5 MB 13.3 MB/s eta 0:00:02\r",
      "\u001b[K     |████████████▋                   | 9.5 MB 13.3 MB/s eta 0:00:02\r",
      "\u001b[K     |████████████▋                   | 9.5 MB 13.3 MB/s eta 0:00:02\r",
      "\u001b[K     |████████████▊                   | 9.5 MB 13.3 MB/s eta 0:00:02\r",
      "\u001b[K     |████████████▊                   | 9.5 MB 13.3 MB/s eta 0:00:02\r",
      "\u001b[K     |████████████▊                   | 9.6 MB 13.3 MB/s eta 0:00:02\r",
      "\u001b[K     |████████████▊                   | 9.6 MB 13.3 MB/s eta 0:00:02\r",
      "\u001b[K     |████████████▊                   | 9.6 MB 13.3 MB/s eta 0:00:02\r",
      "\u001b[K     |████████████▊                   | 9.6 MB 13.3 MB/s eta 0:00:02\r",
      "\u001b[K     |████████████▊                   | 9.6 MB 13.3 MB/s eta 0:00:02\r",
      "\u001b[K     |████████████▊                   | 9.6 MB 13.3 MB/s eta 0:00:02\r",
      "\u001b[K     |████████████▉                   | 9.6 MB 13.3 MB/s eta 0:00:02\r",
      "\u001b[K     |████████████▉                   | 9.6 MB 13.3 MB/s eta 0:00:02\r",
      "\u001b[K     |████████████▉                   | 9.6 MB 13.3 MB/s eta 0:00:02\r",
      "\u001b[K     |████████████▉                   | 9.6 MB 13.3 MB/s eta 0:00:02\r",
      "\u001b[K     |████████████▉                   | 9.7 MB 13.3 MB/s eta 0:00:02\r",
      "\u001b[K     |████████████▉                   | 9.7 MB 13.3 MB/s eta 0:00:02\r",
      "\u001b[K     |████████████▉                   | 9.7 MB 13.3 MB/s eta 0:00:02\r",
      "\u001b[K     |████████████▉                   | 9.7 MB 13.3 MB/s eta 0:00:02\r",
      "\u001b[K     |█████████████                   | 9.7 MB 13.3 MB/s eta 0:00:02\r",
      "\u001b[K     |█████████████                   | 9.7 MB 13.3 MB/s eta 0:00:02\r",
      "\u001b[K     |█████████████                   | 9.7 MB 13.3 MB/s eta 0:00:02\r",
      "\u001b[K     |█████████████                   | 9.7 MB 13.3 MB/s eta 0:00:02\r",
      "\u001b[K     |█████████████                   | 9.7 MB 13.3 MB/s eta 0:00:02\r",
      "\u001b[K     |█████████████                   | 9.7 MB 13.3 MB/s eta 0:00:02\r",
      "\u001b[K     |█████████████                   | 9.8 MB 13.3 MB/s eta 0:00:02\r",
      "\u001b[K     |█████████████                   | 9.8 MB 13.3 MB/s eta 0:00:02"
     ]
    },
    {
     "name": "stdout",
     "output_type": "stream",
     "text": [
      "\r",
      "\u001b[K     |█████████████                   | 9.8 MB 13.3 MB/s eta 0:00:02\r",
      "\u001b[K     |█████████████                   | 9.8 MB 13.3 MB/s eta 0:00:02\r",
      "\u001b[K     |█████████████                   | 9.8 MB 13.3 MB/s eta 0:00:02\r",
      "\u001b[K     |█████████████                   | 9.8 MB 13.3 MB/s eta 0:00:02\r",
      "\u001b[K     |█████████████                   | 9.8 MB 13.3 MB/s eta 0:00:02\r",
      "\u001b[K     |█████████████                   | 9.8 MB 13.3 MB/s eta 0:00:02\r",
      "\u001b[K     |█████████████                   | 9.8 MB 13.3 MB/s eta 0:00:02\r",
      "\u001b[K     |█████████████                   | 9.9 MB 13.3 MB/s eta 0:00:02\r",
      "\u001b[K     |█████████████                   | 9.9 MB 13.3 MB/s eta 0:00:02\r",
      "\u001b[K     |█████████████▏                  | 9.9 MB 13.3 MB/s eta 0:00:02\r",
      "\u001b[K     |█████████████▏                  | 9.9 MB 13.3 MB/s eta 0:00:02\r",
      "\u001b[K     |█████████████▏                  | 9.9 MB 13.3 MB/s eta 0:00:02\r",
      "\u001b[K     |█████████████▏                  | 9.9 MB 13.3 MB/s eta 0:00:02\r",
      "\u001b[K     |█████████████▏                  | 9.9 MB 13.3 MB/s eta 0:00:02\r",
      "\u001b[K     |█████████████▏                  | 9.9 MB 13.3 MB/s eta 0:00:02\r",
      "\u001b[K     |█████████████▏                  | 9.9 MB 13.3 MB/s eta 0:00:02\r",
      "\u001b[K     |█████████████▏                  | 9.9 MB 13.3 MB/s eta 0:00:02\r",
      "\u001b[K     |█████████████▎                  | 10.0 MB 13.3 MB/s eta 0:00:02\r",
      "\u001b[K     |█████████████▎                  | 10.0 MB 13.3 MB/s eta 0:00:02\r",
      "\u001b[K     |█████████████▎                  | 10.0 MB 13.3 MB/s eta 0:00:02\r",
      "\u001b[K     |█████████████▎                  | 10.0 MB 13.3 MB/s eta 0:00:02\r",
      "\u001b[K     |█████████████▎                  | 10.0 MB 13.3 MB/s eta 0:00:02\r",
      "\u001b[K     |█████████████▎                  | 10.0 MB 13.3 MB/s eta 0:00:02\r",
      "\u001b[K     |█████████████▎                  | 10.0 MB 13.3 MB/s eta 0:00:02\r",
      "\u001b[K     |█████████████▎                  | 10.0 MB 13.3 MB/s eta 0:00:02\r",
      "\u001b[K     |█████████████▍                  | 10.0 MB 13.3 MB/s eta 0:00:02\r",
      "\u001b[K     |█████████████▍                  | 10.0 MB 13.3 MB/s eta 0:00:02\r",
      "\u001b[K     |█████████████▍                  | 10.1 MB 13.3 MB/s eta 0:00:02\r",
      "\u001b[K     |█████████████▍                  | 10.1 MB 13.3 MB/s eta 0:00:02\r",
      "\u001b[K     |█████████████▍                  | 10.1 MB 13.3 MB/s eta 0:00:02\r",
      "\u001b[K     |█████████████▍                  | 10.1 MB 13.3 MB/s eta 0:00:02\r",
      "\u001b[K     |█████████████▍                  | 10.1 MB 13.3 MB/s eta 0:00:02\r",
      "\u001b[K     |█████████████▍                  | 10.1 MB 13.3 MB/s eta 0:00:02\r",
      "\u001b[K     |█████████████▌                  | 10.1 MB 13.3 MB/s eta 0:00:02\r",
      "\u001b[K     |█████████████▌                  | 10.1 MB 13.3 MB/s eta 0:00:02\r",
      "\u001b[K     |█████████████▌                  | 10.1 MB 13.3 MB/s eta 0:00:02\r",
      "\u001b[K     |█████████████▌                  | 10.1 MB 13.3 MB/s eta 0:00:02\r",
      "\u001b[K     |█████████████▌                  | 10.2 MB 13.3 MB/s eta 0:00:02\r",
      "\u001b[K     |█████████████▌                  | 10.2 MB 13.3 MB/s eta 0:00:02\r",
      "\u001b[K     |█████████████▌                  | 10.2 MB 13.3 MB/s eta 0:00:02\r",
      "\u001b[K     |█████████████▌                  | 10.2 MB 13.3 MB/s eta 0:00:02\r",
      "\u001b[K     |█████████████▋                  | 10.2 MB 13.3 MB/s eta 0:00:02\r",
      "\u001b[K     |█████████████▋                  | 10.2 MB 13.3 MB/s eta 0:00:02\r",
      "\u001b[K     |█████████████▋                  | 10.2 MB 13.3 MB/s eta 0:00:02\r",
      "\u001b[K     |█████████████▋                  | 10.2 MB 13.3 MB/s eta 0:00:02\r",
      "\u001b[K     |█████████████▋                  | 10.2 MB 13.3 MB/s eta 0:00:02\r",
      "\u001b[K     |█████████████▋                  | 10.3 MB 13.3 MB/s eta 0:00:02\r",
      "\u001b[K     |█████████████▋                  | 10.3 MB 13.3 MB/s eta 0:00:02\r",
      "\u001b[K     |█████████████▋                  | 10.3 MB 13.3 MB/s eta 0:00:02\r",
      "\u001b[K     |█████████████▊                  | 10.3 MB 13.3 MB/s eta 0:00:02\r",
      "\u001b[K     |█████████████▊                  | 10.3 MB 13.3 MB/s eta 0:00:02\r",
      "\u001b[K     |█████████████▊                  | 10.3 MB 13.3 MB/s eta 0:00:02\r",
      "\u001b[K     |█████████████▊                  | 10.3 MB 13.3 MB/s eta 0:00:02\r",
      "\u001b[K     |█████████████▊                  | 10.3 MB 13.3 MB/s eta 0:00:02\r",
      "\u001b[K     |█████████████▊                  | 10.3 MB 13.3 MB/s eta 0:00:02\r",
      "\u001b[K     |█████████████▊                  | 10.3 MB 13.3 MB/s eta 0:00:02\r",
      "\u001b[K     |█████████████▊                  | 10.4 MB 13.3 MB/s eta 0:00:02\r",
      "\u001b[K     |█████████████▊                  | 10.4 MB 13.3 MB/s eta 0:00:02\r",
      "\u001b[K     |█████████████▉                  | 10.4 MB 13.3 MB/s eta 0:00:02\r",
      "\u001b[K     |█████████████▉                  | 10.4 MB 13.3 MB/s eta 0:00:02\r",
      "\u001b[K     |█████████████▉                  | 10.4 MB 13.3 MB/s eta 0:00:02\r",
      "\u001b[K     |█████████████▉                  | 10.4 MB 13.3 MB/s eta 0:00:02\r",
      "\u001b[K     |█████████████▉                  | 10.4 MB 13.3 MB/s eta 0:00:02\r",
      "\u001b[K     |█████████████▉                  | 10.4 MB 13.3 MB/s eta 0:00:02\r",
      "\u001b[K     |█████████████▉                  | 10.4 MB 13.3 MB/s eta 0:00:02\r",
      "\u001b[K     |█████████████▉                  | 10.4 MB 13.3 MB/s eta 0:00:02\r",
      "\u001b[K     |██████████████                  | 10.5 MB 13.3 MB/s eta 0:00:02\r",
      "\u001b[K     |██████████████                  | 10.5 MB 13.3 MB/s eta 0:00:02\r",
      "\u001b[K     |██████████████                  | 10.5 MB 13.3 MB/s eta 0:00:02\r",
      "\u001b[K     |██████████████                  | 10.5 MB 13.3 MB/s eta 0:00:02\r",
      "\u001b[K     |██████████████                  | 10.5 MB 13.3 MB/s eta 0:00:02\r",
      "\u001b[K     |██████████████                  | 10.5 MB 13.3 MB/s eta 0:00:02\r",
      "\u001b[K     |██████████████                  | 10.5 MB 13.3 MB/s eta 0:00:02\r",
      "\u001b[K     |██████████████                  | 10.5 MB 13.3 MB/s eta 0:00:02\r",
      "\u001b[K     |██████████████                  | 10.5 MB 13.3 MB/s eta 0:00:02\r",
      "\u001b[K     |██████████████                  | 10.5 MB 13.3 MB/s eta 0:00:02\r",
      "\u001b[K     |██████████████                  | 10.6 MB 13.3 MB/s eta 0:00:02\r",
      "\u001b[K     |██████████████                  | 10.6 MB 13.3 MB/s eta 0:00:02\r",
      "\u001b[K     |██████████████                  | 10.6 MB 13.3 MB/s eta 0:00:02\r",
      "\u001b[K     |██████████████                  | 10.6 MB 13.3 MB/s eta 0:00:02\r",
      "\u001b[K     |██████████████                  | 10.6 MB 13.3 MB/s eta 0:00:02\r",
      "\u001b[K     |██████████████                  | 10.6 MB 13.3 MB/s eta 0:00:02\r",
      "\u001b[K     |██████████████▏                 | 10.6 MB 13.3 MB/s eta 0:00:02\r",
      "\u001b[K     |██████████████▏                 | 10.6 MB 13.3 MB/s eta 0:00:02\r",
      "\u001b[K     |██████████████▏                 | 10.6 MB 13.3 MB/s eta 0:00:02\r",
      "\u001b[K     |██████████████▏                 | 10.6 MB 13.3 MB/s eta 0:00:02\r",
      "\u001b[K     |██████████████▏                 | 10.7 MB 13.3 MB/s eta 0:00:02\r",
      "\u001b[K     |██████████████▏                 | 10.7 MB 13.3 MB/s eta 0:00:02\r",
      "\u001b[K     |██████████████▏                 | 10.7 MB 13.3 MB/s eta 0:00:02\r",
      "\u001b[K     |██████████████▏                 | 10.7 MB 13.3 MB/s eta 0:00:02\r",
      "\u001b[K     |██████████████▎                 | 10.7 MB 13.3 MB/s eta 0:00:02\r",
      "\u001b[K     |██████████████▎                 | 10.7 MB 13.3 MB/s eta 0:00:02\r",
      "\u001b[K     |██████████████▎                 | 10.7 MB 13.3 MB/s eta 0:00:02\r",
      "\u001b[K     |██████████████▎                 | 10.7 MB 13.3 MB/s eta 0:00:02\r",
      "\u001b[K     |██████████████▎                 | 10.7 MB 13.3 MB/s eta 0:00:01\r",
      "\u001b[K     |██████████████▎                 | 10.8 MB 13.3 MB/s eta 0:00:01\r",
      "\u001b[K     |██████████████▎                 | 10.8 MB 13.3 MB/s eta 0:00:01\r",
      "\u001b[K     |██████████████▎                 | 10.8 MB 13.3 MB/s eta 0:00:01\r",
      "\u001b[K     |██████████████▍                 | 10.8 MB 13.3 MB/s eta 0:00:01\r",
      "\u001b[K     |██████████████▍                 | 10.8 MB 13.3 MB/s eta 0:00:01\r",
      "\u001b[K     |██████████████▍                 | 10.8 MB 13.3 MB/s eta 0:00:01\r",
      "\u001b[K     |██████████████▍                 | 10.8 MB 13.3 MB/s eta 0:00:01\r",
      "\u001b[K     |██████████████▍                 | 10.8 MB 13.3 MB/s eta 0:00:01\r",
      "\u001b[K     |██████████████▍                 | 10.8 MB 13.3 MB/s eta 0:00:01\r",
      "\u001b[K     |██████████████▍                 | 10.8 MB 13.3 MB/s eta 0:00:01\r",
      "\u001b[K     |██████████████▍                 | 10.9 MB 13.3 MB/s eta 0:00:01\r",
      "\u001b[K     |██████████████▍                 | 10.9 MB 13.3 MB/s eta 0:00:01\r",
      "\u001b[K     |██████████████▌                 | 10.9 MB 13.3 MB/s eta 0:00:01\r",
      "\u001b[K     |██████████████▌                 | 10.9 MB 13.3 MB/s eta 0:00:01\r",
      "\u001b[K     |██████████████▌                 | 10.9 MB 13.3 MB/s eta 0:00:01\r",
      "\u001b[K     |██████████████▌                 | 10.9 MB 13.3 MB/s eta 0:00:01\r",
      "\u001b[K     |██████████████▌                 | 10.9 MB 13.3 MB/s eta 0:00:01\r",
      "\u001b[K     |██████████████▌                 | 10.9 MB 13.3 MB/s eta 0:00:01\r",
      "\u001b[K     |██████████████▌                 | 10.9 MB 13.3 MB/s eta 0:00:01\r",
      "\u001b[K     |██████████████▌                 | 10.9 MB 13.3 MB/s eta 0:00:01\r",
      "\u001b[K     |██████████████▋                 | 11.0 MB 13.3 MB/s eta 0:00:01\r",
      "\u001b[K     |██████████████▋                 | 11.0 MB 13.3 MB/s eta 0:00:01\r",
      "\u001b[K     |██████████████▋                 | 11.0 MB 13.3 MB/s eta 0:00:01\r",
      "\u001b[K     |██████████████▋                 | 11.0 MB 13.3 MB/s eta 0:00:01\r",
      "\u001b[K     |██████████████▋                 | 11.0 MB 13.3 MB/s eta 0:00:01\r",
      "\u001b[K     |██████████████▋                 | 11.0 MB 13.3 MB/s eta 0:00:01\r",
      "\u001b[K     |██████████████▋                 | 11.0 MB 13.3 MB/s eta 0:00:01\r",
      "\u001b[K     |██████████████▋                 | 11.0 MB 13.3 MB/s eta 0:00:01\r",
      "\u001b[K     |██████████████▊                 | 11.0 MB 13.3 MB/s eta 0:00:01\r",
      "\u001b[K     |██████████████▊                 | 11.0 MB 13.3 MB/s eta 0:00:01\r",
      "\u001b[K     |██████████████▊                 | 11.1 MB 13.3 MB/s eta 0:00:01\r",
      "\u001b[K     |██████████████▊                 | 11.1 MB 13.3 MB/s eta 0:00:01\r",
      "\u001b[K     |██████████████▊                 | 11.1 MB 13.3 MB/s eta 0:00:01\r",
      "\u001b[K     |██████████████▊                 | 11.1 MB 13.3 MB/s eta 0:00:01\r",
      "\u001b[K     |██████████████▊                 | 11.1 MB 13.3 MB/s eta 0:00:01\r",
      "\u001b[K     |██████████████▊                 | 11.1 MB 13.3 MB/s eta 0:00:01\r",
      "\u001b[K     |██████████████▉                 | 11.1 MB 13.3 MB/s eta 0:00:01\r",
      "\u001b[K     |██████████████▉                 | 11.1 MB 13.3 MB/s eta 0:00:01\r",
      "\u001b[K     |██████████████▉                 | 11.1 MB 13.3 MB/s eta 0:00:01\r",
      "\u001b[K     |██████████████▉                 | 11.2 MB 13.3 MB/s eta 0:00:01\r",
      "\u001b[K     |██████████████▉                 | 11.2 MB 13.3 MB/s eta 0:00:01\r",
      "\u001b[K     |██████████████▉                 | 11.2 MB 13.3 MB/s eta 0:00:01\r",
      "\u001b[K     |██████████████▉                 | 11.2 MB 13.3 MB/s eta 0:00:01\r",
      "\u001b[K     |██████████████▉                 | 11.2 MB 13.3 MB/s eta 0:00:01\r",
      "\u001b[K     |███████████████                 | 11.2 MB 13.3 MB/s eta 0:00:01\r",
      "\u001b[K     |███████████████                 | 11.2 MB 13.3 MB/s eta 0:00:01\r",
      "\u001b[K     |███████████████                 | 11.2 MB 13.3 MB/s eta 0:00:01\r",
      "\u001b[K     |███████████████                 | 11.2 MB 13.3 MB/s eta 0:00:01\r",
      "\u001b[K     |███████████████                 | 11.2 MB 13.3 MB/s eta 0:00:01\r",
      "\u001b[K     |███████████████                 | 11.3 MB 13.3 MB/s eta 0:00:01"
     ]
    },
    {
     "name": "stdout",
     "output_type": "stream",
     "text": [
      "\r",
      "\u001b[K     |███████████████                 | 11.3 MB 13.3 MB/s eta 0:00:01\r",
      "\u001b[K     |███████████████                 | 11.3 MB 13.3 MB/s eta 0:00:01\r",
      "\u001b[K     |███████████████                 | 11.3 MB 13.3 MB/s eta 0:00:01\r",
      "\u001b[K     |███████████████                 | 11.3 MB 13.3 MB/s eta 0:00:01\r",
      "\u001b[K     |███████████████                 | 11.3 MB 13.3 MB/s eta 0:00:01\r",
      "\u001b[K     |███████████████                 | 11.3 MB 13.3 MB/s eta 0:00:01\r",
      "\u001b[K     |███████████████                 | 11.3 MB 13.3 MB/s eta 0:00:01\r",
      "\u001b[K     |███████████████                 | 11.3 MB 13.3 MB/s eta 0:00:01\r",
      "\u001b[K     |███████████████                 | 11.3 MB 13.3 MB/s eta 0:00:01\r",
      "\u001b[K     |███████████████                 | 11.4 MB 13.3 MB/s eta 0:00:01\r",
      "\u001b[K     |███████████████                 | 11.4 MB 13.3 MB/s eta 0:00:01\r",
      "\u001b[K     |███████████████▏                | 11.4 MB 13.3 MB/s eta 0:00:01\r",
      "\u001b[K     |███████████████▏                | 11.4 MB 13.3 MB/s eta 0:00:01\r",
      "\u001b[K     |███████████████▏                | 11.4 MB 13.3 MB/s eta 0:00:01\r",
      "\u001b[K     |███████████████▏                | 11.4 MB 13.3 MB/s eta 0:00:01\r",
      "\u001b[K     |███████████████▏                | 11.4 MB 13.3 MB/s eta 0:00:01\r",
      "\u001b[K     |███████████████▏                | 11.4 MB 13.3 MB/s eta 0:00:01\r",
      "\u001b[K     |███████████████▏                | 11.4 MB 13.3 MB/s eta 0:00:01\r",
      "\u001b[K     |███████████████▏                | 11.4 MB 13.3 MB/s eta 0:00:01\r",
      "\u001b[K     |███████████████▎                | 11.5 MB 13.3 MB/s eta 0:00:01\r",
      "\u001b[K     |███████████████▎                | 11.5 MB 13.3 MB/s eta 0:00:01\r",
      "\u001b[K     |███████████████▎                | 11.5 MB 13.3 MB/s eta 0:00:01\r",
      "\u001b[K     |███████████████▎                | 11.5 MB 13.3 MB/s eta 0:00:01\r",
      "\u001b[K     |███████████████▎                | 11.5 MB 13.3 MB/s eta 0:00:01\r",
      "\u001b[K     |███████████████▎                | 11.5 MB 13.3 MB/s eta 0:00:01\r",
      "\u001b[K     |███████████████▎                | 11.5 MB 13.3 MB/s eta 0:00:01\r",
      "\u001b[K     |███████████████▎                | 11.5 MB 13.3 MB/s eta 0:00:01\r",
      "\u001b[K     |███████████████▍                | 11.5 MB 13.3 MB/s eta 0:00:01\r",
      "\u001b[K     |███████████████▍                | 11.6 MB 13.3 MB/s eta 0:00:01\r",
      "\u001b[K     |███████████████▍                | 11.6 MB 13.3 MB/s eta 0:00:01\r",
      "\u001b[K     |███████████████▍                | 11.6 MB 13.3 MB/s eta 0:00:01\r",
      "\u001b[K     |███████████████▍                | 11.6 MB 13.3 MB/s eta 0:00:01\r",
      "\u001b[K     |███████████████▍                | 11.6 MB 13.3 MB/s eta 0:00:01\r",
      "\u001b[K     |███████████████▍                | 11.6 MB 13.3 MB/s eta 0:00:01\r",
      "\u001b[K     |███████████████▍                | 11.6 MB 13.3 MB/s eta 0:00:01\r",
      "\u001b[K     |███████████████▌                | 11.6 MB 13.3 MB/s eta 0:00:01\r",
      "\u001b[K     |███████████████▌                | 11.6 MB 13.3 MB/s eta 0:00:01\r",
      "\u001b[K     |███████████████▌                | 11.6 MB 13.3 MB/s eta 0:00:01\r",
      "\u001b[K     |███████████████▌                | 11.7 MB 13.3 MB/s eta 0:00:01\r",
      "\u001b[K     |███████████████▌                | 11.7 MB 13.3 MB/s eta 0:00:01\r",
      "\u001b[K     |███████████████▌                | 11.7 MB 13.3 MB/s eta 0:00:01\r",
      "\u001b[K     |███████████████▌                | 11.7 MB 13.3 MB/s eta 0:00:01\r",
      "\u001b[K     |███████████████▌                | 11.7 MB 13.3 MB/s eta 0:00:01\r",
      "\u001b[K     |███████████████▋                | 11.7 MB 13.3 MB/s eta 0:00:01\r",
      "\u001b[K     |███████████████▋                | 11.7 MB 13.3 MB/s eta 0:00:01\r",
      "\u001b[K     |███████████████▋                | 11.7 MB 13.3 MB/s eta 0:00:01\r",
      "\u001b[K     |███████████████▋                | 11.7 MB 13.3 MB/s eta 0:00:01\r",
      "\u001b[K     |███████████████▋                | 11.7 MB 13.3 MB/s eta 0:00:01\r",
      "\u001b[K     |███████████████▋                | 11.8 MB 13.3 MB/s eta 0:00:01\r",
      "\u001b[K     |███████████████▋                | 11.8 MB 13.3 MB/s eta 0:00:01\r",
      "\u001b[K     |███████████████▋                | 11.8 MB 13.3 MB/s eta 0:00:01\r",
      "\u001b[K     |███████████████▊                | 11.8 MB 13.3 MB/s eta 0:00:01\r",
      "\u001b[K     |███████████████▊                | 11.8 MB 13.3 MB/s eta 0:00:01\r",
      "\u001b[K     |███████████████▊                | 11.8 MB 13.3 MB/s eta 0:00:01\r",
      "\u001b[K     |███████████████▊                | 11.8 MB 13.3 MB/s eta 0:00:01\r",
      "\u001b[K     |███████████████▊                | 11.8 MB 13.3 MB/s eta 0:00:01\r",
      "\u001b[K     |███████████████▊                | 11.8 MB 13.3 MB/s eta 0:00:01\r",
      "\u001b[K     |███████████████▊                | 11.8 MB 13.3 MB/s eta 0:00:01\r",
      "\u001b[K     |███████████████▊                | 11.9 MB 13.3 MB/s eta 0:00:01\r",
      "\u001b[K     |███████████████▊                | 11.9 MB 13.3 MB/s eta 0:00:01\r",
      "\u001b[K     |███████████████▉                | 11.9 MB 13.3 MB/s eta 0:00:01\r",
      "\u001b[K     |███████████████▉                | 11.9 MB 13.3 MB/s eta 0:00:01\r",
      "\u001b[K     |███████████████▉                | 11.9 MB 13.3 MB/s eta 0:00:01\r",
      "\u001b[K     |███████████████▉                | 11.9 MB 13.3 MB/s eta 0:00:01\r",
      "\u001b[K     |███████████████▉                | 11.9 MB 13.3 MB/s eta 0:00:01\r",
      "\u001b[K     |███████████████▉                | 11.9 MB 13.3 MB/s eta 0:00:01\r",
      "\u001b[K     |███████████████▉                | 11.9 MB 13.3 MB/s eta 0:00:01\r",
      "\u001b[K     |███████████████▉                | 12.0 MB 13.3 MB/s eta 0:00:01\r",
      "\u001b[K     |████████████████                | 12.0 MB 13.3 MB/s eta 0:00:01\r",
      "\u001b[K     |████████████████                | 12.0 MB 13.3 MB/s eta 0:00:01\r",
      "\u001b[K     |████████████████                | 12.0 MB 13.3 MB/s eta 0:00:01\r",
      "\u001b[K     |████████████████                | 12.0 MB 13.3 MB/s eta 0:00:01\r",
      "\u001b[K     |████████████████                | 12.0 MB 13.3 MB/s eta 0:00:01\r",
      "\u001b[K     |████████████████                | 12.0 MB 13.3 MB/s eta 0:00:01\r",
      "\u001b[K     |████████████████                | 12.0 MB 13.3 MB/s eta 0:00:01\r",
      "\u001b[K     |████████████████                | 12.0 MB 13.3 MB/s eta 0:00:01\r",
      "\u001b[K     |████████████████                | 12.0 MB 13.3 MB/s eta 0:00:01\r",
      "\u001b[K     |████████████████                | 12.1 MB 13.3 MB/s eta 0:00:01\r",
      "\u001b[K     |████████████████                | 12.1 MB 13.3 MB/s eta 0:00:01\r",
      "\u001b[K     |████████████████                | 12.1 MB 13.3 MB/s eta 0:00:01\r",
      "\u001b[K     |████████████████                | 12.1 MB 13.3 MB/s eta 0:00:01\r",
      "\u001b[K     |████████████████                | 12.1 MB 13.3 MB/s eta 0:00:01\r",
      "\u001b[K     |████████████████                | 12.1 MB 13.3 MB/s eta 0:00:01\r",
      "\u001b[K     |████████████████                | 12.1 MB 13.3 MB/s eta 0:00:01\r",
      "\u001b[K     |████████████████▏               | 12.1 MB 13.3 MB/s eta 0:00:01\r",
      "\u001b[K     |████████████████▏               | 12.1 MB 13.3 MB/s eta 0:00:01\r",
      "\u001b[K     |████████████████▏               | 12.1 MB 13.3 MB/s eta 0:00:01\r",
      "\u001b[K     |████████████████▏               | 12.2 MB 13.3 MB/s eta 0:00:01\r",
      "\u001b[K     |████████████████▏               | 12.2 MB 13.3 MB/s eta 0:00:01\r",
      "\u001b[K     |████████████████▏               | 12.2 MB 13.3 MB/s eta 0:00:01\r",
      "\u001b[K     |████████████████▏               | 12.2 MB 13.3 MB/s eta 0:00:01\r",
      "\u001b[K     |████████████████▏               | 12.2 MB 13.3 MB/s eta 0:00:01\r",
      "\u001b[K     |████████████████▎               | 12.2 MB 13.3 MB/s eta 0:00:01\r",
      "\u001b[K     |████████████████▎               | 12.2 MB 13.3 MB/s eta 0:00:01\r",
      "\u001b[K     |████████████████▎               | 12.2 MB 13.3 MB/s eta 0:00:01\r",
      "\u001b[K     |████████████████▎               | 12.2 MB 13.3 MB/s eta 0:00:01\r",
      "\u001b[K     |████████████████▎               | 12.2 MB 13.3 MB/s eta 0:00:01\r",
      "\u001b[K     |████████████████▎               | 12.3 MB 13.3 MB/s eta 0:00:01\r",
      "\u001b[K     |████████████████▎               | 12.3 MB 13.3 MB/s eta 0:00:01\r",
      "\u001b[K     |████████████████▎               | 12.3 MB 13.3 MB/s eta 0:00:01\r",
      "\u001b[K     |████████████████▍               | 12.3 MB 13.3 MB/s eta 0:00:01\r",
      "\u001b[K     |████████████████▍               | 12.3 MB 13.3 MB/s eta 0:00:01\r",
      "\u001b[K     |████████████████▍               | 12.3 MB 13.3 MB/s eta 0:00:01\r",
      "\u001b[K     |████████████████▍               | 12.3 MB 13.3 MB/s eta 0:00:01\r",
      "\u001b[K     |████████████████▍               | 12.3 MB 13.3 MB/s eta 0:00:01\r",
      "\u001b[K     |████████████████▍               | 12.3 MB 13.3 MB/s eta 0:00:01\r",
      "\u001b[K     |████████████████▍               | 12.3 MB 13.3 MB/s eta 0:00:01\r",
      "\u001b[K     |████████████████▍               | 12.4 MB 13.3 MB/s eta 0:00:01\r",
      "\u001b[K     |████████████████▍               | 12.4 MB 13.3 MB/s eta 0:00:01\r",
      "\u001b[K     |████████████████▌               | 12.4 MB 13.3 MB/s eta 0:00:01\r",
      "\u001b[K     |████████████████▌               | 12.4 MB 13.3 MB/s eta 0:00:01\r",
      "\u001b[K     |████████████████▌               | 12.4 MB 13.3 MB/s eta 0:00:01\r",
      "\u001b[K     |████████████████▌               | 12.4 MB 13.3 MB/s eta 0:00:01\r",
      "\u001b[K     |████████████████▌               | 12.4 MB 13.3 MB/s eta 0:00:01\r",
      "\u001b[K     |████████████████▌               | 12.4 MB 13.3 MB/s eta 0:00:01\r",
      "\u001b[K     |████████████████▌               | 12.4 MB 13.3 MB/s eta 0:00:01\r",
      "\u001b[K     |████████████████▌               | 12.5 MB 13.3 MB/s eta 0:00:01\r",
      "\u001b[K     |████████████████▋               | 12.5 MB 13.3 MB/s eta 0:00:01\r",
      "\u001b[K     |████████████████▋               | 12.5 MB 13.3 MB/s eta 0:00:01\r",
      "\u001b[K     |████████████████▋               | 12.5 MB 13.3 MB/s eta 0:00:01"
     ]
    },
    {
     "name": "stdout",
     "output_type": "stream",
     "text": [
      "\r",
      "\u001b[K     |████████████████▋               | 12.5 MB 13.3 MB/s eta 0:00:01\r",
      "\u001b[K     |████████████████▋               | 12.5 MB 13.3 MB/s eta 0:00:01\r",
      "\u001b[K     |████████████████▋               | 12.5 MB 13.3 MB/s eta 0:00:01\r",
      "\u001b[K     |████████████████▋               | 12.5 MB 13.3 MB/s eta 0:00:01\r",
      "\u001b[K     |████████████████▋               | 12.5 MB 13.3 MB/s eta 0:00:01\r",
      "\u001b[K     |████████████████▊               | 12.5 MB 13.3 MB/s eta 0:00:01\r",
      "\u001b[K     |████████████████▊               | 12.6 MB 13.3 MB/s eta 0:00:01\r",
      "\u001b[K     |████████████████▊               | 12.6 MB 13.3 MB/s eta 0:00:01\r",
      "\u001b[K     |████████████████▊               | 12.6 MB 13.3 MB/s eta 0:00:01\r",
      "\u001b[K     |████████████████▊               | 12.6 MB 13.3 MB/s eta 0:00:01\r",
      "\u001b[K     |████████████████▊               | 12.6 MB 13.3 MB/s eta 0:00:01\r",
      "\u001b[K     |████████████████▊               | 12.6 MB 13.3 MB/s eta 0:00:01\r",
      "\u001b[K     |████████████████▊               | 12.6 MB 13.3 MB/s eta 0:00:01\r",
      "\u001b[K     |████████████████▉               | 12.6 MB 13.3 MB/s eta 0:00:01\r",
      "\u001b[K     |████████████████▉               | 12.6 MB 13.3 MB/s eta 0:00:01\r",
      "\u001b[K     |████████████████▉               | 12.6 MB 13.3 MB/s eta 0:00:01\r",
      "\u001b[K     |████████████████▉               | 12.7 MB 13.3 MB/s eta 0:00:01\r",
      "\u001b[K     |████████████████▉               | 12.7 MB 13.3 MB/s eta 0:00:01\r",
      "\u001b[K     |████████████████▉               | 12.7 MB 13.3 MB/s eta 0:00:01\r",
      "\u001b[K     |████████████████▉               | 12.7 MB 13.3 MB/s eta 0:00:01\r",
      "\u001b[K     |████████████████▉               | 12.7 MB 13.3 MB/s eta 0:00:01\r",
      "\u001b[K     |█████████████████               | 12.7 MB 13.3 MB/s eta 0:00:01\r",
      "\u001b[K     |█████████████████               | 12.7 MB 13.3 MB/s eta 0:00:01\r",
      "\u001b[K     |█████████████████               | 12.7 MB 13.3 MB/s eta 0:00:01\r",
      "\u001b[K     |█████████████████               | 12.7 MB 13.3 MB/s eta 0:00:01\r",
      "\u001b[K     |█████████████████               | 12.7 MB 13.3 MB/s eta 0:00:01\r",
      "\u001b[K     |█████████████████               | 12.8 MB 13.3 MB/s eta 0:00:01\r",
      "\u001b[K     |█████████████████               | 12.8 MB 13.3 MB/s eta 0:00:01\r",
      "\u001b[K     |█████████████████               | 12.8 MB 13.3 MB/s eta 0:00:01\r",
      "\u001b[K     |█████████████████               | 12.8 MB 13.3 MB/s eta 0:00:01\r",
      "\u001b[K     |█████████████████               | 12.8 MB 13.3 MB/s eta 0:00:01\r",
      "\u001b[K     |█████████████████               | 12.8 MB 13.3 MB/s eta 0:00:01\r",
      "\u001b[K     |█████████████████               | 12.8 MB 13.3 MB/s eta 0:00:01\r",
      "\u001b[K     |█████████████████               | 12.8 MB 13.3 MB/s eta 0:00:01\r",
      "\u001b[K     |█████████████████               | 12.8 MB 13.3 MB/s eta 0:00:01\r",
      "\u001b[K     |█████████████████               | 12.9 MB 13.3 MB/s eta 0:00:01\r",
      "\u001b[K     |█████████████████               | 12.9 MB 13.3 MB/s eta 0:00:01\r",
      "\u001b[K     |█████████████████▏              | 12.9 MB 13.3 MB/s eta 0:00:01\r",
      "\u001b[K     |█████████████████▏              | 12.9 MB 13.3 MB/s eta 0:00:01\r",
      "\u001b[K     |█████████████████▏              | 12.9 MB 13.3 MB/s eta 0:00:01\r",
      "\u001b[K     |█████████████████▏              | 12.9 MB 13.3 MB/s eta 0:00:01\r",
      "\u001b[K     |█████████████████▏              | 12.9 MB 13.3 MB/s eta 0:00:01\r",
      "\u001b[K     |█████████████████▏              | 12.9 MB 13.3 MB/s eta 0:00:01\r",
      "\u001b[K     |█████████████████▏              | 12.9 MB 13.3 MB/s eta 0:00:01\r",
      "\u001b[K     |█████████████████▏              | 12.9 MB 13.3 MB/s eta 0:00:01\r",
      "\u001b[K     |█████████████████▏              | 13.0 MB 13.3 MB/s eta 0:00:01\r",
      "\u001b[K     |█████████████████▎              | 13.0 MB 13.3 MB/s eta 0:00:01\r",
      "\u001b[K     |█████████████████▎              | 13.0 MB 13.3 MB/s eta 0:00:01\r",
      "\u001b[K     |█████████████████▎              | 13.0 MB 13.3 MB/s eta 0:00:01\r",
      "\u001b[K     |█████████████████▎              | 13.0 MB 13.3 MB/s eta 0:00:01\r",
      "\u001b[K     |█████████████████▎              | 13.0 MB 13.3 MB/s eta 0:00:01\r",
      "\u001b[K     |█████████████████▎              | 13.0 MB 13.3 MB/s eta 0:00:01\r",
      "\u001b[K     |█████████████████▎              | 13.0 MB 13.3 MB/s eta 0:00:01\r",
      "\u001b[K     |█████████████████▎              | 13.0 MB 13.3 MB/s eta 0:00:01\r",
      "\u001b[K     |█████████████████▍              | 13.0 MB 13.3 MB/s eta 0:00:01\r",
      "\u001b[K     |█████████████████▍              | 13.1 MB 13.3 MB/s eta 0:00:01\r",
      "\u001b[K     |█████████████████▍              | 13.1 MB 13.3 MB/s eta 0:00:01\r",
      "\u001b[K     |█████████████████▍              | 13.1 MB 13.3 MB/s eta 0:00:01\r",
      "\u001b[K     |█████████████████▍              | 13.1 MB 13.3 MB/s eta 0:00:01\r",
      "\u001b[K     |█████████████████▍              | 13.1 MB 13.3 MB/s eta 0:00:01\r",
      "\u001b[K     |█████████████████▍              | 13.1 MB 13.3 MB/s eta 0:00:01\r",
      "\u001b[K     |█████████████████▍              | 13.1 MB 13.3 MB/s eta 0:00:01\r",
      "\u001b[K     |█████████████████▌              | 13.1 MB 13.3 MB/s eta 0:00:01\r",
      "\u001b[K     |█████████████████▌              | 13.1 MB 13.3 MB/s eta 0:00:01\r",
      "\u001b[K     |█████████████████▌              | 13.1 MB 13.3 MB/s eta 0:00:01\r",
      "\u001b[K     |█████████████████▌              | 13.2 MB 13.3 MB/s eta 0:00:01\r",
      "\u001b[K     |█████████████████▌              | 13.2 MB 13.3 MB/s eta 0:00:01\r",
      "\u001b[K     |█████████████████▌              | 13.2 MB 13.3 MB/s eta 0:00:01\r",
      "\u001b[K     |█████████████████▌              | 13.2 MB 13.3 MB/s eta 0:00:01\r",
      "\u001b[K     |█████████████████▌              | 13.2 MB 13.3 MB/s eta 0:00:01\r",
      "\u001b[K     |█████████████████▋              | 13.2 MB 13.3 MB/s eta 0:00:01\r",
      "\u001b[K     |█████████████████▋              | 13.2 MB 13.3 MB/s eta 0:00:01\r",
      "\u001b[K     |█████████████████▋              | 13.2 MB 13.3 MB/s eta 0:00:01\r",
      "\u001b[K     |█████████████████▋              | 13.2 MB 13.3 MB/s eta 0:00:01\r",
      "\u001b[K     |█████████████████▋              | 13.3 MB 13.3 MB/s eta 0:00:01\r",
      "\u001b[K     |█████████████████▋              | 13.3 MB 13.3 MB/s eta 0:00:01\r",
      "\u001b[K     |█████████████████▋              | 13.3 MB 13.3 MB/s eta 0:00:01\r",
      "\u001b[K     |█████████████████▋              | 13.3 MB 13.3 MB/s eta 0:00:01\r",
      "\u001b[K     |█████████████████▊              | 13.3 MB 13.3 MB/s eta 0:00:01\r",
      "\u001b[K     |█████████████████▊              | 13.3 MB 13.3 MB/s eta 0:00:01\r",
      "\u001b[K     |█████████████████▊              | 13.3 MB 13.3 MB/s eta 0:00:01\r",
      "\u001b[K     |█████████████████▊              | 13.3 MB 13.3 MB/s eta 0:00:01\r",
      "\u001b[K     |█████████████████▊              | 13.3 MB 13.3 MB/s eta 0:00:01\r",
      "\u001b[K     |█████████████████▊              | 13.3 MB 13.3 MB/s eta 0:00:01\r",
      "\u001b[K     |█████████████████▊              | 13.4 MB 13.3 MB/s eta 0:00:01\r",
      "\u001b[K     |█████████████████▊              | 13.4 MB 13.3 MB/s eta 0:00:01\r",
      "\u001b[K     |█████████████████▉              | 13.4 MB 13.3 MB/s eta 0:00:01\r",
      "\u001b[K     |█████████████████▉              | 13.4 MB 13.3 MB/s eta 0:00:01\r",
      "\u001b[K     |█████████████████▉              | 13.4 MB 13.3 MB/s eta 0:00:01\r",
      "\u001b[K     |█████████████████▉              | 13.4 MB 13.3 MB/s eta 0:00:01\r",
      "\u001b[K     |█████████████████▉              | 13.4 MB 13.3 MB/s eta 0:00:01\r",
      "\u001b[K     |█████████████████▉              | 13.4 MB 13.3 MB/s eta 0:00:01\r",
      "\u001b[K     |█████████████████▉              | 13.4 MB 13.3 MB/s eta 0:00:01\r",
      "\u001b[K     |█████████████████▉              | 13.4 MB 13.3 MB/s eta 0:00:01\r",
      "\u001b[K     |█████████████████▉              | 13.5 MB 13.3 MB/s eta 0:00:01\r",
      "\u001b[K     |██████████████████              | 13.5 MB 13.3 MB/s eta 0:00:01\r",
      "\u001b[K     |██████████████████              | 13.5 MB 13.3 MB/s eta 0:00:01\r",
      "\u001b[K     |██████████████████              | 13.5 MB 13.3 MB/s eta 0:00:01\r",
      "\u001b[K     |██████████████████              | 13.5 MB 13.3 MB/s eta 0:00:01\r",
      "\u001b[K     |██████████████████              | 13.5 MB 13.3 MB/s eta 0:00:01\r",
      "\u001b[K     |██████████████████              | 13.5 MB 13.3 MB/s eta 0:00:01\r",
      "\u001b[K     |██████████████████              | 13.5 MB 13.3 MB/s eta 0:00:01\r",
      "\u001b[K     |██████████████████              | 13.5 MB 13.3 MB/s eta 0:00:01\r",
      "\u001b[K     |██████████████████              | 13.5 MB 13.3 MB/s eta 0:00:01\r",
      "\u001b[K     |██████████████████              | 13.6 MB 13.3 MB/s eta 0:00:01\r",
      "\u001b[K     |██████████████████              | 13.6 MB 13.3 MB/s eta 0:00:01\r",
      "\u001b[K     |██████████████████              | 13.6 MB 13.3 MB/s eta 0:00:01\r",
      "\u001b[K     |██████████████████              | 13.6 MB 13.3 MB/s eta 0:00:01\r",
      "\u001b[K     |██████████████████              | 13.6 MB 13.3 MB/s eta 0:00:01\r",
      "\u001b[K     |██████████████████              | 13.6 MB 13.3 MB/s eta 0:00:01\r",
      "\u001b[K     |██████████████████              | 13.6 MB 13.3 MB/s eta 0:00:01\r",
      "\u001b[K     |██████████████████▏             | 13.6 MB 13.3 MB/s eta 0:00:01\r",
      "\u001b[K     |██████████████████▏             | 13.6 MB 13.3 MB/s eta 0:00:01\r",
      "\u001b[K     |██████████████████▏             | 13.6 MB 13.3 MB/s eta 0:00:01\r",
      "\u001b[K     |██████████████████▏             | 13.7 MB 13.3 MB/s eta 0:00:01\r",
      "\u001b[K     |██████████████████▏             | 13.7 MB 13.3 MB/s eta 0:00:01\r",
      "\u001b[K     |██████████████████▏             | 13.7 MB 13.3 MB/s eta 0:00:01"
     ]
    },
    {
     "name": "stdout",
     "output_type": "stream",
     "text": [
      "\r",
      "\u001b[K     |██████████████████▏             | 13.7 MB 13.3 MB/s eta 0:00:01\r",
      "\u001b[K     |██████████████████▏             | 13.7 MB 13.3 MB/s eta 0:00:01\r",
      "\u001b[K     |██████████████████▎             | 13.7 MB 13.3 MB/s eta 0:00:01\r",
      "\u001b[K     |██████████████████▎             | 13.7 MB 13.3 MB/s eta 0:00:01\r",
      "\u001b[K     |██████████████████▎             | 13.7 MB 13.3 MB/s eta 0:00:01\r",
      "\u001b[K     |██████████████████▎             | 13.7 MB 13.3 MB/s eta 0:00:01\r",
      "\u001b[K     |██████████████████▎             | 13.8 MB 13.3 MB/s eta 0:00:01\r",
      "\u001b[K     |██████████████████▎             | 13.8 MB 13.3 MB/s eta 0:00:01\r",
      "\u001b[K     |██████████████████▎             | 13.8 MB 13.3 MB/s eta 0:00:01\r",
      "\u001b[K     |██████████████████▎             | 13.8 MB 13.3 MB/s eta 0:00:01\r",
      "\u001b[K     |██████████████████▍             | 13.8 MB 13.3 MB/s eta 0:00:01\r",
      "\u001b[K     |██████████████████▍             | 13.8 MB 13.3 MB/s eta 0:00:01\r",
      "\u001b[K     |██████████████████▍             | 13.8 MB 13.3 MB/s eta 0:00:01\r",
      "\u001b[K     |██████████████████▍             | 13.8 MB 13.3 MB/s eta 0:00:01\r",
      "\u001b[K     |██████████████████▍             | 13.8 MB 13.3 MB/s eta 0:00:01\r",
      "\u001b[K     |██████████████████▍             | 13.8 MB 13.3 MB/s eta 0:00:01\r",
      "\u001b[K     |██████████████████▍             | 13.9 MB 13.3 MB/s eta 0:00:01\r",
      "\u001b[K     |██████████████████▍             | 13.9 MB 13.3 MB/s eta 0:00:01\r",
      "\u001b[K     |██████████████████▌             | 13.9 MB 13.3 MB/s eta 0:00:01\r",
      "\u001b[K     |██████████████████▌             | 13.9 MB 13.3 MB/s eta 0:00:01\r",
      "\u001b[K     |██████████████████▌             | 13.9 MB 13.3 MB/s eta 0:00:01\r",
      "\u001b[K     |██████████████████▌             | 13.9 MB 13.3 MB/s eta 0:00:01\r",
      "\u001b[K     |██████████████████▌             | 13.9 MB 13.3 MB/s eta 0:00:01\r",
      "\u001b[K     |██████████████████▌             | 13.9 MB 13.3 MB/s eta 0:00:01\r",
      "\u001b[K     |██████████████████▌             | 13.9 MB 13.3 MB/s eta 0:00:01\r",
      "\u001b[K     |██████████████████▌             | 13.9 MB 13.3 MB/s eta 0:00:01\r",
      "\u001b[K     |██████████████████▌             | 14.0 MB 13.3 MB/s eta 0:00:01\r",
      "\u001b[K     |██████████████████▋             | 14.0 MB 13.3 MB/s eta 0:00:01\r",
      "\u001b[K     |██████████████████▋             | 14.0 MB 13.3 MB/s eta 0:00:01\r",
      "\u001b[K     |██████████████████▋             | 14.0 MB 13.3 MB/s eta 0:00:01\r",
      "\u001b[K     |██████████████████▋             | 14.0 MB 13.3 MB/s eta 0:00:01\r",
      "\u001b[K     |██████████████████▋             | 14.0 MB 13.3 MB/s eta 0:00:01\r",
      "\u001b[K     |██████████████████▋             | 14.0 MB 13.3 MB/s eta 0:00:01\r",
      "\u001b[K     |██████████████████▋             | 14.0 MB 13.3 MB/s eta 0:00:01\r",
      "\u001b[K     |██████████████████▋             | 14.0 MB 13.3 MB/s eta 0:00:01\r",
      "\u001b[K     |██████████████████▊             | 14.0 MB 13.3 MB/s eta 0:00:01\r",
      "\u001b[K     |██████████████████▊             | 14.1 MB 13.3 MB/s eta 0:00:01\r",
      "\u001b[K     |██████████████████▊             | 14.1 MB 13.3 MB/s eta 0:00:01\r",
      "\u001b[K     |██████████████████▊             | 14.1 MB 13.3 MB/s eta 0:00:01\r",
      "\u001b[K     |██████████████████▊             | 14.1 MB 13.3 MB/s eta 0:00:01\r",
      "\u001b[K     |██████████████████▊             | 14.1 MB 13.3 MB/s eta 0:00:01\r",
      "\u001b[K     |██████████████████▊             | 14.1 MB 13.3 MB/s eta 0:00:01\r",
      "\u001b[K     |██████████████████▊             | 14.1 MB 13.3 MB/s eta 0:00:01\r",
      "\u001b[K     |██████████████████▉             | 14.1 MB 13.3 MB/s eta 0:00:01\r",
      "\u001b[K     |██████████████████▉             | 14.1 MB 13.3 MB/s eta 0:00:01\r",
      "\u001b[K     |██████████████████▉             | 14.2 MB 13.3 MB/s eta 0:00:01\r",
      "\u001b[K     |██████████████████▉             | 14.2 MB 13.3 MB/s eta 0:00:01\r",
      "\u001b[K     |██████████████████▉             | 14.2 MB 13.3 MB/s eta 0:00:01\r",
      "\u001b[K     |██████████████████▉             | 14.2 MB 13.3 MB/s eta 0:00:01\r",
      "\u001b[K     |██████████████████▉             | 14.2 MB 13.3 MB/s eta 0:00:01\r",
      "\u001b[K     |██████████████████▉             | 14.2 MB 13.3 MB/s eta 0:00:01\r",
      "\u001b[K     |███████████████████             | 14.2 MB 13.3 MB/s eta 0:00:01\r",
      "\u001b[K     |███████████████████             | 14.2 MB 13.3 MB/s eta 0:00:01\r",
      "\u001b[K     |███████████████████             | 14.2 MB 13.3 MB/s eta 0:00:01\r",
      "\u001b[K     |███████████████████             | 14.2 MB 13.3 MB/s eta 0:00:01\r",
      "\u001b[K     |███████████████████             | 14.3 MB 13.3 MB/s eta 0:00:01\r",
      "\u001b[K     |███████████████████             | 14.3 MB 13.3 MB/s eta 0:00:01\r",
      "\u001b[K     |███████████████████             | 14.3 MB 13.3 MB/s eta 0:00:01\r",
      "\u001b[K     |███████████████████             | 14.3 MB 13.3 MB/s eta 0:00:01\r",
      "\u001b[K     |███████████████████             | 14.3 MB 13.3 MB/s eta 0:00:01\r",
      "\u001b[K     |███████████████████             | 14.3 MB 13.3 MB/s eta 0:00:01\r",
      "\u001b[K     |███████████████████             | 14.3 MB 13.3 MB/s eta 0:00:01\r",
      "\u001b[K     |███████████████████             | 14.3 MB 13.3 MB/s eta 0:00:01\r",
      "\u001b[K     |███████████████████             | 14.3 MB 13.3 MB/s eta 0:00:01\r",
      "\u001b[K     |███████████████████             | 14.3 MB 13.3 MB/s eta 0:00:01\r",
      "\u001b[K     |███████████████████             | 14.4 MB 13.3 MB/s eta 0:00:01\r",
      "\u001b[K     |███████████████████             | 14.4 MB 13.3 MB/s eta 0:00:01\r",
      "\u001b[K     |███████████████████▏            | 14.4 MB 13.3 MB/s eta 0:00:01\r",
      "\u001b[K     |███████████████████▏            | 14.4 MB 13.3 MB/s eta 0:00:01\r",
      "\u001b[K     |███████████████████▏            | 14.4 MB 13.3 MB/s eta 0:00:01\r",
      "\u001b[K     |███████████████████▏            | 14.4 MB 13.3 MB/s eta 0:00:01\r",
      "\u001b[K     |███████████████████▏            | 14.4 MB 13.3 MB/s eta 0:00:01\r",
      "\u001b[K     |███████████████████▏            | 14.4 MB 13.3 MB/s eta 0:00:01\r",
      "\u001b[K     |███████████████████▏            | 14.4 MB 13.3 MB/s eta 0:00:01\r",
      "\u001b[K     |███████████████████▏            | 14.4 MB 13.3 MB/s eta 0:00:01\r",
      "\u001b[K     |███████████████████▏            | 14.5 MB 13.3 MB/s eta 0:00:01\r",
      "\u001b[K     |███████████████████▎            | 14.5 MB 13.3 MB/s eta 0:00:01\r",
      "\u001b[K     |███████████████████▎            | 14.5 MB 13.3 MB/s eta 0:00:01\r",
      "\u001b[K     |███████████████████▎            | 14.5 MB 13.3 MB/s eta 0:00:01\r",
      "\u001b[K     |███████████████████▎            | 14.5 MB 13.3 MB/s eta 0:00:01\r",
      "\u001b[K     |███████████████████▎            | 14.5 MB 13.3 MB/s eta 0:00:01\r",
      "\u001b[K     |███████████████████▎            | 14.5 MB 13.3 MB/s eta 0:00:01\r",
      "\u001b[K     |███████████████████▎            | 14.5 MB 13.3 MB/s eta 0:00:01\r",
      "\u001b[K     |███████████████████▎            | 14.5 MB 13.3 MB/s eta 0:00:01\r",
      "\u001b[K     |███████████████████▍            | 14.6 MB 13.3 MB/s eta 0:00:01\r",
      "\u001b[K     |███████████████████▍            | 14.6 MB 13.3 MB/s eta 0:00:01\r",
      "\u001b[K     |███████████████████▍            | 14.6 MB 13.3 MB/s eta 0:00:01\r",
      "\u001b[K     |███████████████████▍            | 14.6 MB 13.3 MB/s eta 0:00:01\r",
      "\u001b[K     |███████████████████▍            | 14.6 MB 13.3 MB/s eta 0:00:01\r",
      "\u001b[K     |███████████████████▍            | 14.6 MB 13.3 MB/s eta 0:00:01\r",
      "\u001b[K     |███████████████████▍            | 14.6 MB 13.3 MB/s eta 0:00:01\r",
      "\u001b[K     |███████████████████▍            | 14.6 MB 13.3 MB/s eta 0:00:01\r",
      "\u001b[K     |███████████████████▌            | 14.6 MB 13.3 MB/s eta 0:00:01\r",
      "\u001b[K     |███████████████████▌            | 14.6 MB 13.3 MB/s eta 0:00:01\r",
      "\u001b[K     |███████████████████▌            | 14.7 MB 13.3 MB/s eta 0:00:01\r",
      "\u001b[K     |███████████████████▌            | 14.7 MB 13.3 MB/s eta 0:00:01\r",
      "\u001b[K     |███████████████████▌            | 14.7 MB 13.3 MB/s eta 0:00:01\r",
      "\u001b[K     |███████████████████▌            | 14.7 MB 13.3 MB/s eta 0:00:01\r",
      "\u001b[K     |███████████████████▌            | 14.7 MB 13.3 MB/s eta 0:00:01\r",
      "\u001b[K     |███████████████████▌            | 14.7 MB 13.3 MB/s eta 0:00:01\r",
      "\u001b[K     |███████████████████▋            | 14.7 MB 13.3 MB/s eta 0:00:01\r",
      "\u001b[K     |███████████████████▋            | 14.7 MB 13.3 MB/s eta 0:00:01\r",
      "\u001b[K     |███████████████████▋            | 14.7 MB 13.3 MB/s eta 0:00:01\r",
      "\u001b[K     |███████████████████▋            | 14.7 MB 13.3 MB/s eta 0:00:01\r",
      "\u001b[K     |███████████████████▋            | 14.8 MB 13.3 MB/s eta 0:00:01\r",
      "\u001b[K     |███████████████████▋            | 14.8 MB 13.3 MB/s eta 0:00:01\r",
      "\u001b[K     |███████████████████▋            | 14.8 MB 13.3 MB/s eta 0:00:01\r",
      "\u001b[K     |███████████████████▋            | 14.8 MB 13.3 MB/s eta 0:00:01\r",
      "\u001b[K     |███████████████████▊            | 14.8 MB 13.3 MB/s eta 0:00:01\r",
      "\u001b[K     |███████████████████▊            | 14.8 MB 13.3 MB/s eta 0:00:01\r",
      "\u001b[K     |███████████████████▊            | 14.8 MB 13.3 MB/s eta 0:00:01\r",
      "\u001b[K     |███████████████████▊            | 14.8 MB 13.3 MB/s eta 0:00:01\r",
      "\u001b[K     |███████████████████▊            | 14.8 MB 13.3 MB/s eta 0:00:01\r",
      "\u001b[K     |███████████████████▊            | 14.8 MB 13.3 MB/s eta 0:00:01\r",
      "\u001b[K     |███████████████████▊            | 14.9 MB 13.3 MB/s eta 0:00:01\r",
      "\u001b[K     |███████████████████▊            | 14.9 MB 13.3 MB/s eta 0:00:01\r",
      "\u001b[K     |███████████████████▉            | 14.9 MB 13.3 MB/s eta 0:00:01\r",
      "\u001b[K     |███████████████████▉            | 14.9 MB 13.3 MB/s eta 0:00:01\r",
      "\u001b[K     |███████████████████▉            | 14.9 MB 13.3 MB/s eta 0:00:01\r",
      "\u001b[K     |███████████████████▉            | 14.9 MB 13.3 MB/s eta 0:00:01\r",
      "\u001b[K     |███████████████████▉            | 14.9 MB 13.3 MB/s eta 0:00:01\r",
      "\u001b[K     |███████████████████▉            | 14.9 MB 13.3 MB/s eta 0:00:01\r",
      "\u001b[K     |███████████████████▉            | 14.9 MB 13.3 MB/s eta 0:00:01"
     ]
    },
    {
     "name": "stdout",
     "output_type": "stream",
     "text": [
      "\r",
      "\u001b[K     |███████████████████▉            | 15.0 MB 13.3 MB/s eta 0:00:01\r",
      "\u001b[K     |███████████████████▉            | 15.0 MB 13.3 MB/s eta 0:00:01\r",
      "\u001b[K     |████████████████████            | 15.0 MB 13.3 MB/s eta 0:00:01\r",
      "\u001b[K     |████████████████████            | 15.0 MB 13.3 MB/s eta 0:00:01\r",
      "\u001b[K     |████████████████████            | 15.0 MB 13.3 MB/s eta 0:00:01\r",
      "\u001b[K     |████████████████████            | 15.0 MB 13.3 MB/s eta 0:00:01\r",
      "\u001b[K     |████████████████████            | 15.0 MB 13.3 MB/s eta 0:00:01\r",
      "\u001b[K     |████████████████████            | 15.0 MB 13.3 MB/s eta 0:00:01\r",
      "\u001b[K     |████████████████████            | 15.0 MB 13.3 MB/s eta 0:00:01\r",
      "\u001b[K     |████████████████████            | 15.0 MB 13.3 MB/s eta 0:00:01\r",
      "\u001b[K     |████████████████████            | 15.1 MB 13.3 MB/s eta 0:00:01\r",
      "\u001b[K     |████████████████████            | 15.1 MB 13.3 MB/s eta 0:00:01\r",
      "\u001b[K     |████████████████████            | 15.1 MB 13.3 MB/s eta 0:00:01\r",
      "\u001b[K     |████████████████████            | 15.1 MB 13.3 MB/s eta 0:00:01\r",
      "\u001b[K     |████████████████████            | 15.1 MB 13.3 MB/s eta 0:00:01\r",
      "\u001b[K     |████████████████████            | 15.1 MB 13.3 MB/s eta 0:00:01\r",
      "\u001b[K     |████████████████████            | 15.1 MB 13.3 MB/s eta 0:00:01\r",
      "\u001b[K     |████████████████████            | 15.1 MB 13.3 MB/s eta 0:00:01\r",
      "\u001b[K     |████████████████████▏           | 15.1 MB 13.3 MB/s eta 0:00:01\r",
      "\u001b[K     |████████████████████▏           | 15.1 MB 13.3 MB/s eta 0:00:01\r",
      "\u001b[K     |████████████████████▏           | 15.2 MB 13.3 MB/s eta 0:00:01\r",
      "\u001b[K     |████████████████████▏           | 15.2 MB 13.3 MB/s eta 0:00:01\r",
      "\u001b[K     |████████████████████▏           | 15.2 MB 13.3 MB/s eta 0:00:01\r",
      "\u001b[K     |████████████████████▏           | 15.2 MB 13.3 MB/s eta 0:00:01\r",
      "\u001b[K     |████████████████████▏           | 15.2 MB 13.3 MB/s eta 0:00:01\r",
      "\u001b[K     |████████████████████▏           | 15.2 MB 13.3 MB/s eta 0:00:01\r",
      "\u001b[K     |████████████████████▎           | 15.2 MB 13.3 MB/s eta 0:00:01\r",
      "\u001b[K     |████████████████████▎           | 15.2 MB 13.3 MB/s eta 0:00:01\r",
      "\u001b[K     |████████████████████▎           | 15.2 MB 13.3 MB/s eta 0:00:01\r",
      "\u001b[K     |████████████████████▎           | 15.2 MB 13.3 MB/s eta 0:00:01\r",
      "\u001b[K     |████████████████████▎           | 15.3 MB 13.3 MB/s eta 0:00:01\r",
      "\u001b[K     |████████████████████▎           | 15.3 MB 13.3 MB/s eta 0:00:01\r",
      "\u001b[K     |████████████████████▎           | 15.3 MB 13.3 MB/s eta 0:00:01\r",
      "\u001b[K     |████████████████████▎           | 15.3 MB 13.3 MB/s eta 0:00:01\r",
      "\u001b[K     |████████████████████▍           | 15.3 MB 13.3 MB/s eta 0:00:01\r",
      "\u001b[K     |████████████████████▍           | 15.3 MB 13.3 MB/s eta 0:00:01\r",
      "\u001b[K     |████████████████████▍           | 15.3 MB 13.3 MB/s eta 0:00:01\r",
      "\u001b[K     |████████████████████▍           | 15.3 MB 13.3 MB/s eta 0:00:01\r",
      "\u001b[K     |████████████████████▍           | 15.3 MB 13.3 MB/s eta 0:00:01\r",
      "\u001b[K     |████████████████████▍           | 15.3 MB 13.3 MB/s eta 0:00:01\r",
      "\u001b[K     |████████████████████▍           | 15.4 MB 13.3 MB/s eta 0:00:01\r",
      "\u001b[K     |████████████████████▍           | 15.4 MB 13.3 MB/s eta 0:00:01\r",
      "\u001b[K     |████████████████████▌           | 15.4 MB 13.3 MB/s eta 0:00:01\r",
      "\u001b[K     |████████████████████▌           | 15.4 MB 13.3 MB/s eta 0:00:01\r",
      "\u001b[K     |████████████████████▌           | 15.4 MB 13.3 MB/s eta 0:00:01\r",
      "\u001b[K     |████████████████████▌           | 15.4 MB 13.3 MB/s eta 0:00:01\r",
      "\u001b[K     |████████████████████▌           | 15.4 MB 13.3 MB/s eta 0:00:01\r",
      "\u001b[K     |████████████████████▌           | 15.4 MB 13.3 MB/s eta 0:00:01\r",
      "\u001b[K     |████████████████████▌           | 15.4 MB 13.3 MB/s eta 0:00:01\r",
      "\u001b[K     |████████████████████▌           | 15.5 MB 13.3 MB/s eta 0:00:01\r",
      "\u001b[K     |████████████████████▌           | 15.5 MB 13.3 MB/s eta 0:00:01\r",
      "\u001b[K     |████████████████████▋           | 15.5 MB 13.3 MB/s eta 0:00:01\r",
      "\u001b[K     |████████████████████▋           | 15.5 MB 13.3 MB/s eta 0:00:01\r",
      "\u001b[K     |████████████████████▋           | 15.5 MB 13.3 MB/s eta 0:00:01\r",
      "\u001b[K     |████████████████████▋           | 15.5 MB 13.3 MB/s eta 0:00:01\r",
      "\u001b[K     |████████████████████▋           | 15.5 MB 13.3 MB/s eta 0:00:01\r",
      "\u001b[K     |████████████████████▋           | 15.5 MB 13.3 MB/s eta 0:00:01\r",
      "\u001b[K     |████████████████████▋           | 15.5 MB 13.3 MB/s eta 0:00:01\r",
      "\u001b[K     |████████████████████▋           | 15.5 MB 13.3 MB/s eta 0:00:01\r",
      "\u001b[K     |████████████████████▊           | 15.6 MB 13.3 MB/s eta 0:00:01\r",
      "\u001b[K     |████████████████████▊           | 15.6 MB 13.3 MB/s eta 0:00:01\r",
      "\u001b[K     |████████████████████▊           | 15.6 MB 13.3 MB/s eta 0:00:01\r",
      "\u001b[K     |████████████████████▊           | 15.6 MB 13.3 MB/s eta 0:00:01\r",
      "\u001b[K     |████████████████████▊           | 15.6 MB 13.3 MB/s eta 0:00:01\r",
      "\u001b[K     |████████████████████▊           | 15.6 MB 13.3 MB/s eta 0:00:01\r",
      "\u001b[K     |████████████████████▊           | 15.6 MB 13.3 MB/s eta 0:00:01\r",
      "\u001b[K     |████████████████████▊           | 15.6 MB 13.3 MB/s eta 0:00:01\r",
      "\u001b[K     |████████████████████▉           | 15.6 MB 13.3 MB/s eta 0:00:01\r",
      "\u001b[K     |████████████████████▉           | 15.6 MB 13.3 MB/s eta 0:00:01\r",
      "\u001b[K     |████████████████████▉           | 15.7 MB 13.3 MB/s eta 0:00:01\r",
      "\u001b[K     |████████████████████▉           | 15.7 MB 13.3 MB/s eta 0:00:01\r",
      "\u001b[K     |████████████████████▉           | 15.7 MB 13.3 MB/s eta 0:00:01\r",
      "\u001b[K     |████████████████████▉           | 15.7 MB 13.3 MB/s eta 0:00:01\r",
      "\u001b[K     |████████████████████▉           | 15.7 MB 13.3 MB/s eta 0:00:01\r",
      "\u001b[K     |████████████████████▉           | 15.7 MB 13.3 MB/s eta 0:00:01\r",
      "\u001b[K     |█████████████████████           | 15.7 MB 13.3 MB/s eta 0:00:01\r",
      "\u001b[K     |█████████████████████           | 15.7 MB 13.3 MB/s eta 0:00:01\r",
      "\u001b[K     |█████████████████████           | 15.7 MB 13.3 MB/s eta 0:00:01\r",
      "\u001b[K     |█████████████████████           | 15.7 MB 13.3 MB/s eta 0:00:01\r",
      "\u001b[K     |█████████████████████           | 15.8 MB 13.3 MB/s eta 0:00:01\r",
      "\u001b[K     |█████████████████████           | 15.8 MB 13.3 MB/s eta 0:00:01\r",
      "\u001b[K     |█████████████████████           | 15.8 MB 13.3 MB/s eta 0:00:01\r",
      "\u001b[K     |█████████████████████           | 15.8 MB 13.3 MB/s eta 0:00:01\r",
      "\u001b[K     |█████████████████████           | 15.8 MB 13.3 MB/s eta 0:00:01\r",
      "\u001b[K     |█████████████████████           | 15.8 MB 13.3 MB/s eta 0:00:01\r",
      "\u001b[K     |█████████████████████           | 15.8 MB 13.3 MB/s eta 0:00:01\r",
      "\u001b[K     |█████████████████████           | 15.8 MB 13.3 MB/s eta 0:00:01\r",
      "\u001b[K     |█████████████████████           | 15.8 MB 13.3 MB/s eta 0:00:01\r",
      "\u001b[K     |█████████████████████           | 15.9 MB 13.3 MB/s eta 0:00:01\r",
      "\u001b[K     |█████████████████████           | 15.9 MB 13.3 MB/s eta 0:00:01\r",
      "\u001b[K     |█████████████████████           | 15.9 MB 13.3 MB/s eta 0:00:01\r",
      "\u001b[K     |█████████████████████▏          | 15.9 MB 13.3 MB/s eta 0:00:01\r",
      "\u001b[K     |█████████████████████▏          | 15.9 MB 13.3 MB/s eta 0:00:01\r",
      "\u001b[K     |█████████████████████▏          | 15.9 MB 13.3 MB/s eta 0:00:01\r",
      "\u001b[K     |█████████████████████▏          | 15.9 MB 13.3 MB/s eta 0:00:01\r",
      "\u001b[K     |█████████████████████▏          | 15.9 MB 13.3 MB/s eta 0:00:01\r",
      "\u001b[K     |█████████████████████▏          | 15.9 MB 13.3 MB/s eta 0:00:01\r",
      "\u001b[K     |█████████████████████▏          | 15.9 MB 13.3 MB/s eta 0:00:01\r",
      "\u001b[K     |█████████████████████▏          | 16.0 MB 13.3 MB/s eta 0:00:01\r",
      "\u001b[K     |█████████████████████▎          | 16.0 MB 13.3 MB/s eta 0:00:01\r",
      "\u001b[K     |█████████████████████▎          | 16.0 MB 13.3 MB/s eta 0:00:01\r",
      "\u001b[K     |█████████████████████▎          | 16.0 MB 13.3 MB/s eta 0:00:01\r",
      "\u001b[K     |█████████████████████▎          | 16.0 MB 13.3 MB/s eta 0:00:01\r",
      "\u001b[K     |█████████████████████▎          | 16.0 MB 13.3 MB/s eta 0:00:01\r",
      "\u001b[K     |█████████████████████▎          | 16.0 MB 13.3 MB/s eta 0:00:01\r",
      "\u001b[K     |█████████████████████▎          | 16.0 MB 13.3 MB/s eta 0:00:01\r",
      "\u001b[K     |█████████████████████▎          | 16.0 MB 13.3 MB/s eta 0:00:01\r",
      "\u001b[K     |█████████████████████▎          | 16.0 MB 13.3 MB/s eta 0:00:01\r",
      "\u001b[K     |█████████████████████▍          | 16.1 MB 13.3 MB/s eta 0:00:01\r",
      "\u001b[K     |█████████████████████▍          | 16.1 MB 13.3 MB/s eta 0:00:01\r",
      "\u001b[K     |█████████████████████▍          | 16.1 MB 13.3 MB/s eta 0:00:01\r",
      "\u001b[K     |█████████████████████▍          | 16.1 MB 13.3 MB/s eta 0:00:01\r",
      "\u001b[K     |█████████████████████▍          | 16.1 MB 13.3 MB/s eta 0:00:01\r",
      "\u001b[K     |█████████████████████▍          | 16.1 MB 13.3 MB/s eta 0:00:01\r",
      "\u001b[K     |█████████████████████▍          | 16.1 MB 13.3 MB/s eta 0:00:01\r",
      "\u001b[K     |█████████████████████▍          | 16.1 MB 13.3 MB/s eta 0:00:01\r",
      "\u001b[K     |█████████████████████▌          | 16.1 MB 13.3 MB/s eta 0:00:01\r",
      "\u001b[K     |█████████████████████▌          | 16.1 MB 13.3 MB/s eta 0:00:01\r",
      "\u001b[K     |█████████████████████▌          | 16.2 MB 13.3 MB/s eta 0:00:01"
     ]
    },
    {
     "name": "stdout",
     "output_type": "stream",
     "text": [
      "\r",
      "\u001b[K     |█████████████████████▌          | 16.2 MB 13.3 MB/s eta 0:00:01\r",
      "\u001b[K     |█████████████████████▌          | 16.2 MB 13.3 MB/s eta 0:00:01\r",
      "\u001b[K     |█████████████████████▌          | 16.2 MB 13.3 MB/s eta 0:00:01\r",
      "\u001b[K     |█████████████████████▌          | 16.2 MB 13.3 MB/s eta 0:00:01\r",
      "\u001b[K     |█████████████████████▌          | 16.2 MB 13.3 MB/s eta 0:00:01\r",
      "\u001b[K     |█████████████████████▋          | 16.2 MB 13.3 MB/s eta 0:00:01\r",
      "\u001b[K     |█████████████████████▋          | 16.2 MB 13.3 MB/s eta 0:00:01\r",
      "\u001b[K     |█████████████████████▋          | 16.2 MB 13.3 MB/s eta 0:00:01\r",
      "\u001b[K     |█████████████████████▋          | 16.3 MB 13.3 MB/s eta 0:00:01\r",
      "\u001b[K     |█████████████████████▋          | 16.3 MB 13.3 MB/s eta 0:00:01\r",
      "\u001b[K     |█████████████████████▋          | 16.3 MB 13.3 MB/s eta 0:00:01\r",
      "\u001b[K     |█████████████████████▋          | 16.3 MB 13.3 MB/s eta 0:00:01\r",
      "\u001b[K     |█████████████████████▋          | 16.3 MB 13.3 MB/s eta 0:00:01\r",
      "\u001b[K     |█████████████████████▊          | 16.3 MB 13.3 MB/s eta 0:00:01\r",
      "\u001b[K     |█████████████████████▊          | 16.3 MB 13.3 MB/s eta 0:00:01\r",
      "\u001b[K     |█████████████████████▊          | 16.3 MB 13.3 MB/s eta 0:00:01\r",
      "\u001b[K     |█████████████████████▊          | 16.3 MB 13.3 MB/s eta 0:00:01\r",
      "\u001b[K     |█████████████████████▊          | 16.3 MB 13.3 MB/s eta 0:00:01\r",
      "\u001b[K     |█████████████████████▊          | 16.4 MB 13.3 MB/s eta 0:00:01\r",
      "\u001b[K     |█████████████████████▊          | 16.4 MB 13.3 MB/s eta 0:00:01\r",
      "\u001b[K     |█████████████████████▊          | 16.4 MB 13.3 MB/s eta 0:00:01\r",
      "\u001b[K     |█████████████████████▉          | 16.4 MB 13.3 MB/s eta 0:00:01\r",
      "\u001b[K     |█████████████████████▉          | 16.4 MB 13.3 MB/s eta 0:00:01\r",
      "\u001b[K     |█████████████████████▉          | 16.4 MB 13.3 MB/s eta 0:00:01\r",
      "\u001b[K     |█████████████████████▉          | 16.4 MB 13.3 MB/s eta 0:00:01\r",
      "\u001b[K     |█████████████████████▉          | 16.4 MB 13.3 MB/s eta 0:00:01\r",
      "\u001b[K     |█████████████████████▉          | 16.4 MB 13.3 MB/s eta 0:00:01\r",
      "\u001b[K     |█████████████████████▉          | 16.4 MB 13.3 MB/s eta 0:00:01\r",
      "\u001b[K     |█████████████████████▉          | 16.5 MB 13.3 MB/s eta 0:00:01\r",
      "\u001b[K     |██████████████████████          | 16.5 MB 13.3 MB/s eta 0:00:01\r",
      "\u001b[K     |██████████████████████          | 16.5 MB 13.3 MB/s eta 0:00:01\r",
      "\u001b[K     |██████████████████████          | 16.5 MB 13.3 MB/s eta 0:00:01\r",
      "\u001b[K     |██████████████████████          | 16.5 MB 13.3 MB/s eta 0:00:01\r",
      "\u001b[K     |██████████████████████          | 16.5 MB 13.3 MB/s eta 0:00:01\r",
      "\u001b[K     |██████████████████████          | 16.5 MB 13.3 MB/s eta 0:00:01\r",
      "\u001b[K     |██████████████████████          | 16.5 MB 13.3 MB/s eta 0:00:01\r",
      "\u001b[K     |██████████████████████          | 16.5 MB 13.3 MB/s eta 0:00:01\r",
      "\u001b[K     |██████████████████████          | 16.5 MB 13.3 MB/s eta 0:00:01\r",
      "\u001b[K     |██████████████████████          | 16.6 MB 13.3 MB/s eta 0:00:01\r",
      "\u001b[K     |██████████████████████          | 16.6 MB 13.3 MB/s eta 0:00:01\r",
      "\u001b[K     |██████████████████████          | 16.6 MB 13.3 MB/s eta 0:00:01\r",
      "\u001b[K     |██████████████████████          | 16.6 MB 13.3 MB/s eta 0:00:01\r",
      "\u001b[K     |██████████████████████          | 16.6 MB 13.3 MB/s eta 0:00:01\r",
      "\u001b[K     |██████████████████████          | 16.6 MB 13.3 MB/s eta 0:00:01\r",
      "\u001b[K     |██████████████████████          | 16.6 MB 13.3 MB/s eta 0:00:01\r",
      "\u001b[K     |██████████████████████          | 16.6 MB 13.3 MB/s eta 0:00:01\r",
      "\u001b[K     |██████████████████████▏         | 16.6 MB 13.3 MB/s eta 0:00:01\r",
      "\u001b[K     |██████████████████████▏         | 16.7 MB 13.3 MB/s eta 0:00:01\r",
      "\u001b[K     |██████████████████████▏         | 16.7 MB 13.3 MB/s eta 0:00:01\r",
      "\u001b[K     |██████████████████████▏         | 16.7 MB 13.3 MB/s eta 0:00:01\r",
      "\u001b[K     |██████████████████████▏         | 16.7 MB 13.3 MB/s eta 0:00:01\r",
      "\u001b[K     |██████████████████████▏         | 16.7 MB 13.3 MB/s eta 0:00:01\r",
      "\u001b[K     |██████████████████████▏         | 16.7 MB 13.3 MB/s eta 0:00:01\r",
      "\u001b[K     |██████████████████████▏         | 16.7 MB 13.3 MB/s eta 0:00:01\r",
      "\u001b[K     |██████████████████████▎         | 16.7 MB 13.3 MB/s eta 0:00:01\r",
      "\u001b[K     |██████████████████████▎         | 16.7 MB 13.3 MB/s eta 0:00:01\r",
      "\u001b[K     |██████████████████████▎         | 16.7 MB 13.3 MB/s eta 0:00:01\r",
      "\u001b[K     |██████████████████████▎         | 16.8 MB 13.3 MB/s eta 0:00:01\r",
      "\u001b[K     |██████████████████████▎         | 16.8 MB 13.3 MB/s eta 0:00:01\r",
      "\u001b[K     |██████████████████████▎         | 16.8 MB 13.3 MB/s eta 0:00:01\r",
      "\u001b[K     |██████████████████████▎         | 16.8 MB 13.3 MB/s eta 0:00:01\r",
      "\u001b[K     |██████████████████████▎         | 16.8 MB 13.3 MB/s eta 0:00:01\r",
      "\u001b[K     |██████████████████████▍         | 16.8 MB 13.3 MB/s eta 0:00:01\r",
      "\u001b[K     |██████████████████████▍         | 16.8 MB 13.3 MB/s eta 0:00:01\r",
      "\u001b[K     |██████████████████████▍         | 16.8 MB 13.3 MB/s eta 0:00:01\r",
      "\u001b[K     |██████████████████████▍         | 16.8 MB 13.3 MB/s eta 0:00:01\r",
      "\u001b[K     |██████████████████████▍         | 16.8 MB 13.3 MB/s eta 0:00:01\r",
      "\u001b[K     |██████████████████████▍         | 16.9 MB 13.3 MB/s eta 0:00:01\r",
      "\u001b[K     |██████████████████████▍         | 16.9 MB 13.3 MB/s eta 0:00:01\r",
      "\u001b[K     |██████████████████████▍         | 16.9 MB 13.3 MB/s eta 0:00:01\r",
      "\u001b[K     |██████████████████████▌         | 16.9 MB 13.3 MB/s eta 0:00:01\r",
      "\u001b[K     |██████████████████████▌         | 16.9 MB 13.3 MB/s eta 0:00:01\r",
      "\u001b[K     |██████████████████████▌         | 16.9 MB 13.3 MB/s eta 0:00:01\r",
      "\u001b[K     |██████████████████████▌         | 16.9 MB 13.3 MB/s eta 0:00:01\r",
      "\u001b[K     |██████████████████████▌         | 16.9 MB 13.3 MB/s eta 0:00:01\r",
      "\u001b[K     |██████████████████████▌         | 16.9 MB 13.3 MB/s eta 0:00:01\r",
      "\u001b[K     |██████████████████████▌         | 16.9 MB 13.3 MB/s eta 0:00:01\r",
      "\u001b[K     |██████████████████████▌         | 17.0 MB 13.3 MB/s eta 0:00:01\r",
      "\u001b[K     |██████████████████████▋         | 17.0 MB 13.3 MB/s eta 0:00:01\r",
      "\u001b[K     |██████████████████████▋         | 17.0 MB 13.3 MB/s eta 0:00:01\r",
      "\u001b[K     |██████████████████████▋         | 17.0 MB 13.3 MB/s eta 0:00:01\r",
      "\u001b[K     |██████████████████████▋         | 17.0 MB 13.3 MB/s eta 0:00:01\r",
      "\u001b[K     |██████████████████████▋         | 17.0 MB 13.3 MB/s eta 0:00:01\r",
      "\u001b[K     |██████████████████████▋         | 17.0 MB 13.3 MB/s eta 0:00:01\r",
      "\u001b[K     |██████████████████████▋         | 17.0 MB 13.3 MB/s eta 0:00:01\r",
      "\u001b[K     |██████████████████████▋         | 17.0 MB 13.3 MB/s eta 0:00:01\r",
      "\u001b[K     |██████████████████████▋         | 17.0 MB 13.3 MB/s eta 0:00:01\r",
      "\u001b[K     |██████████████████████▊         | 17.1 MB 13.3 MB/s eta 0:00:01\r",
      "\u001b[K     |██████████████████████▊         | 17.1 MB 13.3 MB/s eta 0:00:01\r",
      "\u001b[K     |██████████████████████▊         | 17.1 MB 13.3 MB/s eta 0:00:01\r",
      "\u001b[K     |██████████████████████▊         | 17.1 MB 13.3 MB/s eta 0:00:01\r",
      "\u001b[K     |██████████████████████▊         | 17.1 MB 13.3 MB/s eta 0:00:01\r",
      "\u001b[K     |██████████████████████▊         | 17.1 MB 13.3 MB/s eta 0:00:01\r",
      "\u001b[K     |██████████████████████▊         | 17.1 MB 13.3 MB/s eta 0:00:01\r",
      "\u001b[K     |██████████████████████▊         | 17.1 MB 13.3 MB/s eta 0:00:01\r",
      "\u001b[K     |██████████████████████▉         | 17.1 MB 13.3 MB/s eta 0:00:01\r",
      "\u001b[K     |██████████████████████▉         | 17.2 MB 13.3 MB/s eta 0:00:01"
     ]
    },
    {
     "name": "stdout",
     "output_type": "stream",
     "text": [
      "\r",
      "\u001b[K     |██████████████████████▉         | 17.2 MB 13.3 MB/s eta 0:00:01\r",
      "\u001b[K     |██████████████████████▉         | 17.2 MB 13.3 MB/s eta 0:00:01\r",
      "\u001b[K     |██████████████████████▉         | 17.2 MB 13.3 MB/s eta 0:00:01\r",
      "\u001b[K     |██████████████████████▉         | 17.2 MB 13.3 MB/s eta 0:00:01\r",
      "\u001b[K     |██████████████████████▉         | 17.2 MB 13.3 MB/s eta 0:00:01\r",
      "\u001b[K     |██████████████████████▉         | 17.2 MB 13.3 MB/s eta 0:00:01\r",
      "\u001b[K     |███████████████████████         | 17.2 MB 13.3 MB/s eta 0:00:01\r",
      "\u001b[K     |███████████████████████         | 17.2 MB 13.3 MB/s eta 0:00:01\r",
      "\u001b[K     |███████████████████████         | 17.2 MB 13.3 MB/s eta 0:00:01\r",
      "\u001b[K     |███████████████████████         | 17.3 MB 13.3 MB/s eta 0:00:01\r",
      "\u001b[K     |███████████████████████         | 17.3 MB 13.3 MB/s eta 0:00:01\r",
      "\u001b[K     |███████████████████████         | 17.3 MB 13.3 MB/s eta 0:00:01\r",
      "\u001b[K     |███████████████████████         | 17.3 MB 13.3 MB/s eta 0:00:01\r",
      "\u001b[K     |███████████████████████         | 17.3 MB 13.3 MB/s eta 0:00:01\r",
      "\u001b[K     |███████████████████████         | 17.3 MB 13.3 MB/s eta 0:00:01\r",
      "\u001b[K     |███████████████████████         | 17.3 MB 13.3 MB/s eta 0:00:01\r",
      "\u001b[K     |███████████████████████         | 17.3 MB 13.3 MB/s eta 0:00:01\r",
      "\u001b[K     |███████████████████████         | 17.3 MB 13.3 MB/s eta 0:00:01\r",
      "\u001b[K     |███████████████████████         | 17.3 MB 13.3 MB/s eta 0:00:01\r",
      "\u001b[K     |███████████████████████         | 17.4 MB 13.3 MB/s eta 0:00:01\r",
      "\u001b[K     |███████████████████████         | 17.4 MB 13.3 MB/s eta 0:00:01\r",
      "\u001b[K     |███████████████████████         | 17.4 MB 13.3 MB/s eta 0:00:01\r",
      "\u001b[K     |███████████████████████▏        | 17.4 MB 13.3 MB/s eta 0:00:01\r",
      "\u001b[K     |███████████████████████▏        | 17.4 MB 13.3 MB/s eta 0:00:01\r",
      "\u001b[K     |███████████████████████▏        | 17.4 MB 13.3 MB/s eta 0:00:01\r",
      "\u001b[K     |███████████████████████▏        | 17.4 MB 13.3 MB/s eta 0:00:01\r",
      "\u001b[K     |███████████████████████▏        | 17.4 MB 13.3 MB/s eta 0:00:01\r",
      "\u001b[K     |███████████████████████▏        | 17.4 MB 13.3 MB/s eta 0:00:01\r",
      "\u001b[K     |███████████████████████▏        | 17.4 MB 13.3 MB/s eta 0:00:01\r",
      "\u001b[K     |███████████████████████▏        | 17.5 MB 13.3 MB/s eta 0:00:01\r",
      "\u001b[K     |███████████████████████▎        | 17.5 MB 13.3 MB/s eta 0:00:01\r",
      "\u001b[K     |███████████████████████▎        | 17.5 MB 13.3 MB/s eta 0:00:01\r",
      "\u001b[K     |███████████████████████▎        | 17.5 MB 13.3 MB/s eta 0:00:01\r",
      "\u001b[K     |███████████████████████▎        | 17.5 MB 13.3 MB/s eta 0:00:01\r",
      "\u001b[K     |███████████████████████▎        | 17.5 MB 13.3 MB/s eta 0:00:01\r",
      "\u001b[K     |███████████████████████▎        | 17.5 MB 13.3 MB/s eta 0:00:01\r",
      "\u001b[K     |███████████████████████▎        | 17.5 MB 13.3 MB/s eta 0:00:01\r",
      "\u001b[K     |███████████████████████▎        | 17.5 MB 13.3 MB/s eta 0:00:01\r",
      "\u001b[K     |███████████████████████▎        | 17.6 MB 13.3 MB/s eta 0:00:01\r",
      "\u001b[K     |███████████████████████▍        | 17.6 MB 13.3 MB/s eta 0:00:01\r",
      "\u001b[K     |███████████████████████▍        | 17.6 MB 13.3 MB/s eta 0:00:01\r",
      "\u001b[K     |███████████████████████▍        | 17.6 MB 13.3 MB/s eta 0:00:01\r",
      "\u001b[K     |███████████████████████▍        | 17.6 MB 13.3 MB/s eta 0:00:01\r",
      "\u001b[K     |███████████████████████▍        | 17.6 MB 13.3 MB/s eta 0:00:01\r",
      "\u001b[K     |███████████████████████▍        | 17.6 MB 13.3 MB/s eta 0:00:01\r",
      "\u001b[K     |███████████████████████▍        | 17.6 MB 13.3 MB/s eta 0:00:01\r",
      "\u001b[K     |███████████████████████▍        | 17.6 MB 13.3 MB/s eta 0:00:01\r",
      "\u001b[K     |███████████████████████▌        | 17.6 MB 13.3 MB/s eta 0:00:01\r",
      "\u001b[K     |███████████████████████▌        | 17.7 MB 13.3 MB/s eta 0:00:01\r",
      "\u001b[K     |███████████████████████▌        | 17.7 MB 13.3 MB/s eta 0:00:01\r",
      "\u001b[K     |███████████████████████▌        | 17.7 MB 13.3 MB/s eta 0:00:01\r",
      "\u001b[K     |███████████████████████▌        | 17.7 MB 13.3 MB/s eta 0:00:01\r",
      "\u001b[K     |███████████████████████▌        | 17.7 MB 13.3 MB/s eta 0:00:01\r",
      "\u001b[K     |███████████████████████▌        | 17.7 MB 13.3 MB/s eta 0:00:01\r",
      "\u001b[K     |███████████████████████▌        | 17.7 MB 13.3 MB/s eta 0:00:01\r",
      "\u001b[K     |███████████████████████▋        | 17.7 MB 13.3 MB/s eta 0:00:01\r",
      "\u001b[K     |███████████████████████▋        | 17.7 MB 13.3 MB/s eta 0:00:01\r",
      "\u001b[K     |███████████████████████▋        | 17.7 MB 13.3 MB/s eta 0:00:01\r",
      "\u001b[K     |███████████████████████▋        | 17.8 MB 13.3 MB/s eta 0:00:01\r",
      "\u001b[K     |███████████████████████▋        | 17.8 MB 13.3 MB/s eta 0:00:01\r",
      "\u001b[K     |███████████████████████▋        | 17.8 MB 13.3 MB/s eta 0:00:01\r",
      "\u001b[K     |███████████████████████▋        | 17.8 MB 13.3 MB/s eta 0:00:01\r",
      "\u001b[K     |███████████████████████▋        | 17.8 MB 13.3 MB/s eta 0:00:01\r",
      "\u001b[K     |███████████████████████▊        | 17.8 MB 13.3 MB/s eta 0:00:01\r",
      "\u001b[K     |███████████████████████▊        | 17.8 MB 13.3 MB/s eta 0:00:01\r",
      "\u001b[K     |███████████████████████▊        | 17.8 MB 13.3 MB/s eta 0:00:01\r",
      "\u001b[K     |███████████████████████▊        | 17.8 MB 13.3 MB/s eta 0:00:01\r",
      "\u001b[K     |███████████████████████▊        | 17.8 MB 13.3 MB/s eta 0:00:01\r",
      "\u001b[K     |███████████████████████▊        | 17.9 MB 13.3 MB/s eta 0:00:01\r",
      "\u001b[K     |███████████████████████▊        | 17.9 MB 13.3 MB/s eta 0:00:01\r",
      "\u001b[K     |███████████████████████▊        | 17.9 MB 13.3 MB/s eta 0:00:01\r",
      "\u001b[K     |███████████████████████▉        | 17.9 MB 13.3 MB/s eta 0:00:01\r",
      "\u001b[K     |███████████████████████▉        | 17.9 MB 13.3 MB/s eta 0:00:01\r",
      "\u001b[K     |███████████████████████▉        | 17.9 MB 13.3 MB/s eta 0:00:01\r",
      "\u001b[K     |███████████████████████▉        | 17.9 MB 13.3 MB/s eta 0:00:01\r",
      "\u001b[K     |███████████████████████▉        | 17.9 MB 13.3 MB/s eta 0:00:01\r",
      "\u001b[K     |███████████████████████▉        | 17.9 MB 13.3 MB/s eta 0:00:01\r",
      "\u001b[K     |███████████████████████▉        | 18.0 MB 13.3 MB/s eta 0:00:01\r",
      "\u001b[K     |███████████████████████▉        | 18.0 MB 13.3 MB/s eta 0:00:01\r",
      "\u001b[K     |████████████████████████        | 18.0 MB 13.3 MB/s eta 0:00:01\r",
      "\u001b[K     |████████████████████████        | 18.0 MB 13.3 MB/s eta 0:00:01\r",
      "\u001b[K     |████████████████████████        | 18.0 MB 13.3 MB/s eta 0:00:01\r",
      "\u001b[K     |████████████████████████        | 18.0 MB 13.3 MB/s eta 0:00:01\r",
      "\u001b[K     |████████████████████████        | 18.0 MB 13.3 MB/s eta 0:00:01\r",
      "\u001b[K     |████████████████████████        | 18.0 MB 13.3 MB/s eta 0:00:01\r",
      "\u001b[K     |████████████████████████        | 18.0 MB 13.3 MB/s eta 0:00:01\r",
      "\u001b[K     |████████████████████████        | 18.0 MB 13.3 MB/s eta 0:00:01\r",
      "\u001b[K     |████████████████████████        | 18.1 MB 13.3 MB/s eta 0:00:01\r",
      "\u001b[K     |████████████████████████        | 18.1 MB 13.3 MB/s eta 0:00:01\r",
      "\u001b[K     |████████████████████████        | 18.1 MB 13.3 MB/s eta 0:00:01\r",
      "\u001b[K     |████████████████████████        | 18.1 MB 13.3 MB/s eta 0:00:01\r",
      "\u001b[K     |████████████████████████        | 18.1 MB 13.3 MB/s eta 0:00:01\r",
      "\u001b[K     |████████████████████████        | 18.1 MB 13.3 MB/s eta 0:00:01\r",
      "\u001b[K     |████████████████████████        | 18.1 MB 13.3 MB/s eta 0:00:01\r",
      "\u001b[K     |████████████████████████        | 18.1 MB 13.3 MB/s eta 0:00:01\r",
      "\u001b[K     |████████████████████████        | 18.1 MB 13.3 MB/s eta 0:00:01\r",
      "\u001b[K     |████████████████████████▏       | 18.1 MB 13.3 MB/s eta 0:00:01\r",
      "\u001b[K     |████████████████████████▏       | 18.2 MB 13.3 MB/s eta 0:00:01\r",
      "\u001b[K     |████████████████████████▏       | 18.2 MB 13.3 MB/s eta 0:00:01\r",
      "\u001b[K     |████████████████████████▏       | 18.2 MB 13.3 MB/s eta 0:00:01\r",
      "\u001b[K     |████████████████████████▏       | 18.2 MB 13.3 MB/s eta 0:00:01\r",
      "\u001b[K     |████████████████████████▏       | 18.2 MB 13.3 MB/s eta 0:00:01\r",
      "\u001b[K     |████████████████████████▏       | 18.2 MB 13.3 MB/s eta 0:00:01\r",
      "\u001b[K     |████████████████████████▏       | 18.2 MB 13.3 MB/s eta 0:00:01\r",
      "\u001b[K     |████████████████████████▎       | 18.2 MB 13.3 MB/s eta 0:00:01\r",
      "\u001b[K     |████████████████████████▎       | 18.2 MB 13.3 MB/s eta 0:00:01\r",
      "\u001b[K     |████████████████████████▎       | 18.2 MB 13.3 MB/s eta 0:00:01\r",
      "\u001b[K     |████████████████████████▎       | 18.3 MB 13.3 MB/s eta 0:00:01\r",
      "\u001b[K     |████████████████████████▎       | 18.3 MB 13.3 MB/s eta 0:00:01\r",
      "\u001b[K     |████████████████████████▎       | 18.3 MB 13.3 MB/s eta 0:00:01\r",
      "\u001b[K     |████████████████████████▎       | 18.3 MB 13.3 MB/s eta 0:00:01\r",
      "\u001b[K     |████████████████████████▎       | 18.3 MB 13.3 MB/s eta 0:00:01\r",
      "\u001b[K     |████████████████████████▍       | 18.3 MB 13.3 MB/s eta 0:00:01\r",
      "\u001b[K     |████████████████████████▍       | 18.3 MB 13.3 MB/s eta 0:00:01\r",
      "\u001b[K     |████████████████████████▍       | 18.3 MB 13.3 MB/s eta 0:00:01\r",
      "\u001b[K     |████████████████████████▍       | 18.3 MB 13.3 MB/s eta 0:00:01\r",
      "\u001b[K     |████████████████████████▍       | 18.4 MB 13.3 MB/s eta 0:00:01\r",
      "\u001b[K     |████████████████████████▍       | 18.4 MB 13.3 MB/s eta 0:00:01\r",
      "\u001b[K     |████████████████████████▍       | 18.4 MB 13.3 MB/s eta 0:00:01\r",
      "\u001b[K     |████████████████████████▍       | 18.4 MB 13.3 MB/s eta 0:00:01\r",
      "\u001b[K     |████████████████████████▌       | 18.4 MB 13.3 MB/s eta 0:00:01\r",
      "\u001b[K     |████████████████████████▌       | 18.4 MB 13.3 MB/s eta 0:00:01\r",
      "\u001b[K     |████████████████████████▌       | 18.4 MB 13.3 MB/s eta 0:00:01\r",
      "\u001b[K     |████████████████████████▌       | 18.4 MB 13.3 MB/s eta 0:00:01\r",
      "\u001b[K     |████████████████████████▌       | 18.4 MB 13.3 MB/s eta 0:00:01\r",
      "\u001b[K     |████████████████████████▌       | 18.4 MB 13.3 MB/s eta 0:00:01\r",
      "\u001b[K     |████████████████████████▌       | 18.5 MB 13.3 MB/s eta 0:00:01\r",
      "\u001b[K     |████████████████████████▌       | 18.5 MB 13.3 MB/s eta 0:00:01\r",
      "\u001b[K     |████████████████████████▋       | 18.5 MB 13.3 MB/s eta 0:00:01\r",
      "\u001b[K     |████████████████████████▋       | 18.5 MB 13.3 MB/s eta 0:00:01\r",
      "\u001b[K     |████████████████████████▋       | 18.5 MB 13.3 MB/s eta 0:00:01\r",
      "\u001b[K     |████████████████████████▋       | 18.5 MB 13.3 MB/s eta 0:00:01\r",
      "\u001b[K     |████████████████████████▋       | 18.5 MB 13.3 MB/s eta 0:00:01\r",
      "\u001b[K     |████████████████████████▋       | 18.5 MB 13.3 MB/s eta 0:00:01\r",
      "\u001b[K     |████████████████████████▋       | 18.5 MB 13.3 MB/s eta 0:00:01\r",
      "\u001b[K     |████████████████████████▋       | 18.5 MB 13.3 MB/s eta 0:00:01\r",
      "\u001b[K     |████████████████████████▋       | 18.6 MB 13.3 MB/s eta 0:00:01\r",
      "\u001b[K     |████████████████████████▊       | 18.6 MB 13.3 MB/s eta 0:00:01\r",
      "\u001b[K     |████████████████████████▊       | 18.6 MB 13.3 MB/s eta 0:00:01\r",
      "\u001b[K     |████████████████████████▊       | 18.6 MB 13.3 MB/s eta 0:00:01"
     ]
    },
    {
     "name": "stdout",
     "output_type": "stream",
     "text": [
      "\r",
      "\u001b[K     |████████████████████████▊       | 18.6 MB 13.3 MB/s eta 0:00:01\r",
      "\u001b[K     |████████████████████████▊       | 18.6 MB 13.3 MB/s eta 0:00:01\r",
      "\u001b[K     |████████████████████████▊       | 18.6 MB 13.3 MB/s eta 0:00:01\r",
      "\u001b[K     |████████████████████████▊       | 18.6 MB 13.3 MB/s eta 0:00:01\r",
      "\u001b[K     |████████████████████████▊       | 18.6 MB 13.3 MB/s eta 0:00:01\r",
      "\u001b[K     |████████████████████████▉       | 18.6 MB 13.3 MB/s eta 0:00:01\r",
      "\u001b[K     |████████████████████████▉       | 18.7 MB 13.3 MB/s eta 0:00:01\r",
      "\u001b[K     |████████████████████████▉       | 18.7 MB 13.3 MB/s eta 0:00:01\r",
      "\u001b[K     |████████████████████████▉       | 18.7 MB 13.3 MB/s eta 0:00:01\r",
      "\u001b[K     |████████████████████████▉       | 18.7 MB 13.3 MB/s eta 0:00:01\r",
      "\u001b[K     |████████████████████████▉       | 18.7 MB 13.3 MB/s eta 0:00:01\r",
      "\u001b[K     |████████████████████████▉       | 18.7 MB 13.3 MB/s eta 0:00:01\r",
      "\u001b[K     |████████████████████████▉       | 18.7 MB 13.3 MB/s eta 0:00:01\r",
      "\u001b[K     |█████████████████████████       | 18.7 MB 13.3 MB/s eta 0:00:01\r",
      "\u001b[K     |█████████████████████████       | 18.7 MB 13.3 MB/s eta 0:00:01\r",
      "\u001b[K     |█████████████████████████       | 18.7 MB 13.3 MB/s eta 0:00:01\r",
      "\u001b[K     |█████████████████████████       | 18.8 MB 13.3 MB/s eta 0:00:01\r",
      "\u001b[K     |█████████████████████████       | 18.8 MB 13.3 MB/s eta 0:00:01\r",
      "\u001b[K     |█████████████████████████       | 18.8 MB 13.3 MB/s eta 0:00:01\r",
      "\u001b[K     |█████████████████████████       | 18.8 MB 13.3 MB/s eta 0:00:01\r",
      "\u001b[K     |█████████████████████████       | 18.8 MB 13.3 MB/s eta 0:00:01\r",
      "\u001b[K     |█████████████████████████       | 18.8 MB 13.3 MB/s eta 0:00:01\r",
      "\u001b[K     |█████████████████████████       | 18.8 MB 13.3 MB/s eta 0:00:01\r",
      "\u001b[K     |█████████████████████████       | 18.8 MB 13.3 MB/s eta 0:00:01\r",
      "\u001b[K     |█████████████████████████       | 18.8 MB 13.3 MB/s eta 0:00:01\r",
      "\u001b[K     |█████████████████████████       | 18.9 MB 13.3 MB/s eta 0:00:01\r",
      "\u001b[K     |█████████████████████████       | 18.9 MB 13.3 MB/s eta 0:00:01\r",
      "\u001b[K     |█████████████████████████       | 18.9 MB 13.3 MB/s eta 0:00:01\r",
      "\u001b[K     |█████████████████████████       | 18.9 MB 13.3 MB/s eta 0:00:01\r",
      "\u001b[K     |█████████████████████████▏      | 18.9 MB 13.3 MB/s eta 0:00:01\r",
      "\u001b[K     |█████████████████████████▏      | 18.9 MB 13.3 MB/s eta 0:00:01\r",
      "\u001b[K     |█████████████████████████▏      | 18.9 MB 13.3 MB/s eta 0:00:01\r",
      "\u001b[K     |█████████████████████████▏      | 18.9 MB 13.3 MB/s eta 0:00:01\r",
      "\u001b[K     |█████████████████████████▏      | 18.9 MB 13.3 MB/s eta 0:00:01\r",
      "\u001b[K     |█████████████████████████▏      | 18.9 MB 13.3 MB/s eta 0:00:01\r",
      "\u001b[K     |█████████████████████████▏      | 19.0 MB 13.3 MB/s eta 0:00:01\r",
      "\u001b[K     |█████████████████████████▏      | 19.0 MB 13.3 MB/s eta 0:00:01\r",
      "\u001b[K     |█████████████████████████▎      | 19.0 MB 13.3 MB/s eta 0:00:01\r",
      "\u001b[K     |█████████████████████████▎      | 19.0 MB 13.3 MB/s eta 0:00:01\r",
      "\u001b[K     |█████████████████████████▎      | 19.0 MB 13.3 MB/s eta 0:00:01\r",
      "\u001b[K     |█████████████████████████▎      | 19.0 MB 13.3 MB/s eta 0:00:01\r",
      "\u001b[K     |█████████████████████████▎      | 19.0 MB 13.3 MB/s eta 0:00:01\r",
      "\u001b[K     |█████████████████████████▎      | 19.0 MB 13.3 MB/s eta 0:00:01\r",
      "\u001b[K     |█████████████████████████▎      | 19.0 MB 13.3 MB/s eta 0:00:01\r",
      "\u001b[K     |█████████████████████████▎      | 19.0 MB 13.3 MB/s eta 0:00:01\r",
      "\u001b[K     |█████████████████████████▎      | 19.1 MB 13.3 MB/s eta 0:00:01\r",
      "\u001b[K     |█████████████████████████▍      | 19.1 MB 13.3 MB/s eta 0:00:01\r",
      "\u001b[K     |█████████████████████████▍      | 19.1 MB 13.3 MB/s eta 0:00:01\r",
      "\u001b[K     |█████████████████████████▍      | 19.1 MB 13.3 MB/s eta 0:00:01\r",
      "\u001b[K     |█████████████████████████▍      | 19.1 MB 13.3 MB/s eta 0:00:01\r",
      "\u001b[K     |█████████████████████████▍      | 19.1 MB 13.3 MB/s eta 0:00:01\r",
      "\u001b[K     |█████████████████████████▍      | 19.1 MB 13.3 MB/s eta 0:00:01\r",
      "\u001b[K     |█████████████████████████▍      | 19.1 MB 13.3 MB/s eta 0:00:01\r",
      "\u001b[K     |█████████████████████████▍      | 19.1 MB 13.3 MB/s eta 0:00:01\r",
      "\u001b[K     |█████████████████████████▌      | 19.1 MB 13.3 MB/s eta 0:00:01\r",
      "\u001b[K     |█████████████████████████▌      | 19.2 MB 13.3 MB/s eta 0:00:01\r",
      "\u001b[K     |█████████████████████████▌      | 19.2 MB 13.3 MB/s eta 0:00:01\r",
      "\u001b[K     |█████████████████████████▌      | 19.2 MB 13.3 MB/s eta 0:00:01\r",
      "\u001b[K     |█████████████████████████▌      | 19.2 MB 13.3 MB/s eta 0:00:01\r",
      "\u001b[K     |█████████████████████████▌      | 19.2 MB 13.3 MB/s eta 0:00:01\r",
      "\u001b[K     |█████████████████████████▌      | 19.2 MB 13.3 MB/s eta 0:00:01\r",
      "\u001b[K     |█████████████████████████▌      | 19.2 MB 13.3 MB/s eta 0:00:01\r",
      "\u001b[K     |█████████████████████████▋      | 19.2 MB 13.3 MB/s eta 0:00:01\r",
      "\u001b[K     |█████████████████████████▋      | 19.2 MB 13.3 MB/s eta 0:00:01\r",
      "\u001b[K     |█████████████████████████▋      | 19.3 MB 13.3 MB/s eta 0:00:01\r",
      "\u001b[K     |█████████████████████████▋      | 19.3 MB 13.3 MB/s eta 0:00:01\r",
      "\u001b[K     |█████████████████████████▋      | 19.3 MB 13.3 MB/s eta 0:00:01\r",
      "\u001b[K     |█████████████████████████▋      | 19.3 MB 13.3 MB/s eta 0:00:01\r",
      "\u001b[K     |█████████████████████████▋      | 19.3 MB 13.3 MB/s eta 0:00:01\r",
      "\u001b[K     |█████████████████████████▋      | 19.3 MB 13.3 MB/s eta 0:00:01\r",
      "\u001b[K     |█████████████████████████▊      | 19.3 MB 13.3 MB/s eta 0:00:01\r",
      "\u001b[K     |█████████████████████████▊      | 19.3 MB 13.3 MB/s eta 0:00:01\r",
      "\u001b[K     |█████████████████████████▊      | 19.3 MB 13.3 MB/s eta 0:00:01\r",
      "\u001b[K     |█████████████████████████▊      | 19.3 MB 13.3 MB/s eta 0:00:01\r",
      "\u001b[K     |█████████████████████████▊      | 19.4 MB 13.3 MB/s eta 0:00:01\r",
      "\u001b[K     |█████████████████████████▊      | 19.4 MB 13.3 MB/s eta 0:00:01\r",
      "\u001b[K     |█████████████████████████▊      | 19.4 MB 13.3 MB/s eta 0:00:01\r",
      "\u001b[K     |█████████████████████████▊      | 19.4 MB 13.3 MB/s eta 0:00:01\r",
      "\u001b[K     |█████████████████████████▉      | 19.4 MB 13.3 MB/s eta 0:00:01\r",
      "\u001b[K     |█████████████████████████▉      | 19.4 MB 13.3 MB/s eta 0:00:01\r",
      "\u001b[K     |█████████████████████████▉      | 19.4 MB 13.3 MB/s eta 0:00:01\r",
      "\u001b[K     |█████████████████████████▉      | 19.4 MB 13.3 MB/s eta 0:00:01\r",
      "\u001b[K     |█████████████████████████▉      | 19.4 MB 13.3 MB/s eta 0:00:01\r",
      "\u001b[K     |█████████████████████████▉      | 19.4 MB 13.3 MB/s eta 0:00:01\r",
      "\u001b[K     |█████████████████████████▉      | 19.5 MB 13.3 MB/s eta 0:00:01\r",
      "\u001b[K     |█████████████████████████▉      | 19.5 MB 13.3 MB/s eta 0:00:01\r",
      "\u001b[K     |██████████████████████████      | 19.5 MB 13.3 MB/s eta 0:00:01\r",
      "\u001b[K     |██████████████████████████      | 19.5 MB 13.3 MB/s eta 0:00:01\r",
      "\u001b[K     |██████████████████████████      | 19.5 MB 13.3 MB/s eta 0:00:01\r",
      "\u001b[K     |██████████████████████████      | 19.5 MB 13.3 MB/s eta 0:00:01\r",
      "\u001b[K     |██████████████████████████      | 19.5 MB 13.3 MB/s eta 0:00:01\r",
      "\u001b[K     |██████████████████████████      | 19.5 MB 13.3 MB/s eta 0:00:01\r",
      "\u001b[K     |██████████████████████████      | 19.5 MB 13.3 MB/s eta 0:00:01\r",
      "\u001b[K     |██████████████████████████      | 19.5 MB 13.3 MB/s eta 0:00:01\r",
      "\u001b[K     |██████████████████████████      | 19.6 MB 13.3 MB/s eta 0:00:01\r",
      "\u001b[K     |██████████████████████████      | 19.6 MB 13.3 MB/s eta 0:00:01\r",
      "\u001b[K     |██████████████████████████      | 19.6 MB 13.3 MB/s eta 0:00:01\r",
      "\u001b[K     |██████████████████████████      | 19.6 MB 13.3 MB/s eta 0:00:01\r",
      "\u001b[K     |██████████████████████████      | 19.6 MB 13.3 MB/s eta 0:00:01\r",
      "\u001b[K     |██████████████████████████      | 19.6 MB 13.3 MB/s eta 0:00:01\r",
      "\u001b[K     |██████████████████████████      | 19.6 MB 13.3 MB/s eta 0:00:01\r",
      "\u001b[K     |██████████████████████████      | 19.6 MB 13.3 MB/s eta 0:00:01\r",
      "\u001b[K     |██████████████████████████      | 19.6 MB 13.3 MB/s eta 0:00:01\r",
      "\u001b[K     |██████████████████████████▏     | 19.7 MB 13.3 MB/s eta 0:00:01\r",
      "\u001b[K     |██████████████████████████▏     | 19.7 MB 13.3 MB/s eta 0:00:01\r",
      "\u001b[K     |██████████████████████████▏     | 19.7 MB 13.3 MB/s eta 0:00:01\r",
      "\u001b[K     |██████████████████████████▏     | 19.7 MB 13.3 MB/s eta 0:00:01\r",
      "\u001b[K     |██████████████████████████▏     | 19.7 MB 13.3 MB/s eta 0:00:01\r",
      "\u001b[K     |██████████████████████████▏     | 19.7 MB 13.3 MB/s eta 0:00:01\r",
      "\u001b[K     |██████████████████████████▏     | 19.7 MB 13.3 MB/s eta 0:00:01\r",
      "\u001b[K     |██████████████████████████▏     | 19.7 MB 13.3 MB/s eta 0:00:01\r",
      "\u001b[K     |██████████████████████████▎     | 19.7 MB 13.3 MB/s eta 0:00:01\r",
      "\u001b[K     |██████████████████████████▎     | 19.7 MB 13.3 MB/s eta 0:00:01\r",
      "\u001b[K     |██████████████████████████▎     | 19.8 MB 13.3 MB/s eta 0:00:01\r",
      "\u001b[K     |██████████████████████████▎     | 19.8 MB 13.3 MB/s eta 0:00:01\r",
      "\u001b[K     |██████████████████████████▎     | 19.8 MB 13.3 MB/s eta 0:00:01\r",
      "\u001b[K     |██████████████████████████▎     | 19.8 MB 13.3 MB/s eta 0:00:01\r",
      "\u001b[K     |██████████████████████████▎     | 19.8 MB 13.3 MB/s eta 0:00:01\r",
      "\u001b[K     |██████████████████████████▎     | 19.8 MB 13.3 MB/s eta 0:00:01"
     ]
    },
    {
     "name": "stdout",
     "output_type": "stream",
     "text": [
      "\r",
      "\u001b[K     |██████████████████████████▍     | 19.8 MB 13.3 MB/s eta 0:00:01\r",
      "\u001b[K     |██████████████████████████▍     | 19.8 MB 13.3 MB/s eta 0:00:01\r",
      "\u001b[K     |██████████████████████████▍     | 19.8 MB 13.3 MB/s eta 0:00:01\r",
      "\u001b[K     |██████████████████████████▍     | 19.8 MB 13.3 MB/s eta 0:00:01\r",
      "\u001b[K     |██████████████████████████▍     | 19.9 MB 13.3 MB/s eta 0:00:01\r",
      "\u001b[K     |██████████████████████████▍     | 19.9 MB 13.3 MB/s eta 0:00:01\r",
      "\u001b[K     |██████████████████████████▍     | 19.9 MB 13.3 MB/s eta 0:00:01\r",
      "\u001b[K     |██████████████████████████▍     | 19.9 MB 13.3 MB/s eta 0:00:01\r",
      "\u001b[K     |██████████████████████████▌     | 19.9 MB 13.3 MB/s eta 0:00:01\r",
      "\u001b[K     |██████████████████████████▌     | 19.9 MB 13.3 MB/s eta 0:00:01\r",
      "\u001b[K     |██████████████████████████▌     | 19.9 MB 13.3 MB/s eta 0:00:01\r",
      "\u001b[K     |██████████████████████████▌     | 19.9 MB 13.3 MB/s eta 0:00:01\r",
      "\u001b[K     |██████████████████████████▌     | 19.9 MB 13.3 MB/s eta 0:00:01\r",
      "\u001b[K     |██████████████████████████▌     | 19.9 MB 13.3 MB/s eta 0:00:01\r",
      "\u001b[K     |██████████████████████████▌     | 20.0 MB 13.3 MB/s eta 0:00:01\r",
      "\u001b[K     |██████████████████████████▌     | 20.0 MB 13.3 MB/s eta 0:00:01\r",
      "\u001b[K     |██████████████████████████▋     | 20.0 MB 13.3 MB/s eta 0:00:01\r",
      "\u001b[K     |██████████████████████████▋     | 20.0 MB 13.3 MB/s eta 0:00:01\r",
      "\u001b[K     |██████████████████████████▋     | 20.0 MB 13.3 MB/s eta 0:00:01\r",
      "\u001b[K     |██████████████████████████▋     | 20.0 MB 13.3 MB/s eta 0:00:01\r",
      "\u001b[K     |██████████████████████████▋     | 20.0 MB 13.3 MB/s eta 0:00:01\r",
      "\u001b[K     |██████████████████████████▋     | 20.0 MB 13.3 MB/s eta 0:00:01\r",
      "\u001b[K     |██████████████████████████▋     | 20.0 MB 13.3 MB/s eta 0:00:01\r",
      "\u001b[K     |██████████████████████████▋     | 20.0 MB 13.3 MB/s eta 0:00:01\r",
      "\u001b[K     |██████████████████████████▊     | 20.1 MB 13.3 MB/s eta 0:00:01\r",
      "\u001b[K     |██████████████████████████▊     | 20.1 MB 13.3 MB/s eta 0:00:01\r",
      "\u001b[K     |██████████████████████████▊     | 20.1 MB 13.3 MB/s eta 0:00:01\r",
      "\u001b[K     |██████████████████████████▊     | 20.1 MB 13.3 MB/s eta 0:00:01\r",
      "\u001b[K     |██████████████████████████▊     | 20.1 MB 13.3 MB/s eta 0:00:01\r",
      "\u001b[K     |██████████████████████████▊     | 20.1 MB 13.3 MB/s eta 0:00:01\r",
      "\u001b[K     |██████████████████████████▊     | 20.1 MB 13.3 MB/s eta 0:00:01\r",
      "\u001b[K     |██████████████████████████▊     | 20.1 MB 13.3 MB/s eta 0:00:01\r",
      "\u001b[K     |██████████████████████████▊     | 20.1 MB 13.3 MB/s eta 0:00:01\r",
      "\u001b[K     |██████████████████████████▉     | 20.2 MB 13.3 MB/s eta 0:00:01\r",
      "\u001b[K     |██████████████████████████▉     | 20.2 MB 13.3 MB/s eta 0:00:01\r",
      "\u001b[K     |██████████████████████████▉     | 20.2 MB 13.3 MB/s eta 0:00:01\r",
      "\u001b[K     |██████████████████████████▉     | 20.2 MB 13.3 MB/s eta 0:00:01\r",
      "\u001b[K     |██████████████████████████▉     | 20.2 MB 13.3 MB/s eta 0:00:01\r",
      "\u001b[K     |██████████████████████████▉     | 20.2 MB 13.3 MB/s eta 0:00:01\r",
      "\u001b[K     |██████████████████████████▉     | 20.2 MB 13.3 MB/s eta 0:00:01\r",
      "\u001b[K     |██████████████████████████▉     | 20.2 MB 13.3 MB/s eta 0:00:01\r",
      "\u001b[K     |███████████████████████████     | 20.2 MB 13.3 MB/s eta 0:00:01\r",
      "\u001b[K     |███████████████████████████     | 20.2 MB 13.3 MB/s eta 0:00:01\r",
      "\u001b[K     |███████████████████████████     | 20.3 MB 13.3 MB/s eta 0:00:01\r",
      "\u001b[K     |███████████████████████████     | 20.3 MB 13.3 MB/s eta 0:00:01\r",
      "\u001b[K     |███████████████████████████     | 20.3 MB 13.3 MB/s eta 0:00:01\r",
      "\u001b[K     |███████████████████████████     | 20.3 MB 13.3 MB/s eta 0:00:01\r",
      "\u001b[K     |███████████████████████████     | 20.3 MB 13.3 MB/s eta 0:00:01\r",
      "\u001b[K     |███████████████████████████     | 20.3 MB 13.3 MB/s eta 0:00:01\r",
      "\u001b[K     |███████████████████████████     | 20.3 MB 13.3 MB/s eta 0:00:01\r",
      "\u001b[K     |███████████████████████████     | 20.3 MB 13.3 MB/s eta 0:00:01\r",
      "\u001b[K     |███████████████████████████     | 20.3 MB 13.3 MB/s eta 0:00:01\r",
      "\u001b[K     |███████████████████████████     | 20.3 MB 13.3 MB/s eta 0:00:01\r",
      "\u001b[K     |███████████████████████████     | 20.4 MB 13.3 MB/s eta 0:00:01\r",
      "\u001b[K     |███████████████████████████     | 20.4 MB 13.3 MB/s eta 0:00:01\r",
      "\u001b[K     |███████████████████████████     | 20.4 MB 13.3 MB/s eta 0:00:01\r",
      "\u001b[K     |███████████████████████████     | 20.4 MB 13.3 MB/s eta 0:00:01\r",
      "\u001b[K     |███████████████████████████▏    | 20.4 MB 13.3 MB/s eta 0:00:01\r",
      "\u001b[K     |███████████████████████████▏    | 20.4 MB 13.3 MB/s eta 0:00:01\r",
      "\u001b[K     |███████████████████████████▏    | 20.4 MB 13.3 MB/s eta 0:00:01\r",
      "\u001b[K     |███████████████████████████▏    | 20.4 MB 13.3 MB/s eta 0:00:01\r",
      "\u001b[K     |███████████████████████████▏    | 20.4 MB 13.3 MB/s eta 0:00:01\r",
      "\u001b[K     |███████████████████████████▏    | 20.4 MB 13.3 MB/s eta 0:00:01\r",
      "\u001b[K     |███████████████████████████▏    | 20.5 MB 13.3 MB/s eta 0:00:01\r",
      "\u001b[K     |███████████████████████████▏    | 20.5 MB 13.3 MB/s eta 0:00:01\r",
      "\u001b[K     |███████████████████████████▎    | 20.5 MB 13.3 MB/s eta 0:00:01\r",
      "\u001b[K     |███████████████████████████▎    | 20.5 MB 13.3 MB/s eta 0:00:01\r",
      "\u001b[K     |███████████████████████████▎    | 20.5 MB 13.3 MB/s eta 0:00:01\r",
      "\u001b[K     |███████████████████████████▎    | 20.5 MB 13.3 MB/s eta 0:00:01\r",
      "\u001b[K     |███████████████████████████▎    | 20.5 MB 13.3 MB/s eta 0:00:01\r",
      "\u001b[K     |███████████████████████████▎    | 20.5 MB 13.3 MB/s eta 0:00:01\r",
      "\u001b[K     |███████████████████████████▎    | 20.5 MB 13.3 MB/s eta 0:00:01\r",
      "\u001b[K     |███████████████████████████▎    | 20.6 MB 13.3 MB/s eta 0:00:01\r",
      "\u001b[K     |███████████████████████████▍    | 20.6 MB 13.3 MB/s eta 0:00:01\r",
      "\u001b[K     |███████████████████████████▍    | 20.6 MB 13.3 MB/s eta 0:00:01\r",
      "\u001b[K     |███████████████████████████▍    | 20.6 MB 13.3 MB/s eta 0:00:01\r",
      "\u001b[K     |███████████████████████████▍    | 20.6 MB 13.3 MB/s eta 0:00:01\r",
      "\u001b[K     |███████████████████████████▍    | 20.6 MB 13.3 MB/s eta 0:00:01\r",
      "\u001b[K     |███████████████████████████▍    | 20.6 MB 13.3 MB/s eta 0:00:01\r",
      "\u001b[K     |███████████████████████████▍    | 20.6 MB 13.3 MB/s eta 0:00:01\r",
      "\u001b[K     |███████████████████████████▍    | 20.6 MB 13.3 MB/s eta 0:00:01\r",
      "\u001b[K     |███████████████████████████▍    | 20.6 MB 13.3 MB/s eta 0:00:01\r",
      "\u001b[K     |███████████████████████████▌    | 20.7 MB 13.3 MB/s eta 0:00:01\r",
      "\u001b[K     |███████████████████████████▌    | 20.7 MB 13.3 MB/s eta 0:00:01\r",
      "\u001b[K     |███████████████████████████▌    | 20.7 MB 13.3 MB/s eta 0:00:01\r",
      "\u001b[K     |███████████████████████████▌    | 20.7 MB 13.3 MB/s eta 0:00:01\r",
      "\u001b[K     |███████████████████████████▌    | 20.7 MB 13.3 MB/s eta 0:00:01\r",
      "\u001b[K     |███████████████████████████▌    | 20.7 MB 13.3 MB/s eta 0:00:01\r",
      "\u001b[K     |███████████████████████████▌    | 20.7 MB 13.3 MB/s eta 0:00:01\r",
      "\u001b[K     |███████████████████████████▌    | 20.7 MB 13.3 MB/s eta 0:00:01\r",
      "\u001b[K     |███████████████████████████▋    | 20.7 MB 13.3 MB/s eta 0:00:01\r",
      "\u001b[K     |███████████████████████████▋    | 20.7 MB 13.3 MB/s eta 0:00:01\r",
      "\u001b[K     |███████████████████████████▋    | 20.8 MB 13.3 MB/s eta 0:00:01\r",
      "\u001b[K     |███████████████████████████▋    | 20.8 MB 13.3 MB/s eta 0:00:01\r",
      "\u001b[K     |███████████████████████████▋    | 20.8 MB 13.3 MB/s eta 0:00:01\r",
      "\u001b[K     |███████████████████████████▋    | 20.8 MB 13.3 MB/s eta 0:00:01\r",
      "\u001b[K     |███████████████████████████▋    | 20.8 MB 13.3 MB/s eta 0:00:01\r",
      "\u001b[K     |███████████████████████████▋    | 20.8 MB 13.3 MB/s eta 0:00:01\r",
      "\u001b[K     |███████████████████████████▊    | 20.8 MB 13.3 MB/s eta 0:00:01\r",
      "\u001b[K     |███████████████████████████▊    | 20.8 MB 13.3 MB/s eta 0:00:01\r",
      "\u001b[K     |███████████████████████████▊    | 20.8 MB 13.3 MB/s eta 0:00:01\r",
      "\u001b[K     |███████████████████████████▊    | 20.8 MB 13.3 MB/s eta 0:00:01\r",
      "\u001b[K     |███████████████████████████▊    | 20.9 MB 13.3 MB/s eta 0:00:01\r",
      "\u001b[K     |███████████████████████████▊    | 20.9 MB 13.3 MB/s eta 0:00:01\r",
      "\u001b[K     |███████████████████████████▊    | 20.9 MB 13.3 MB/s eta 0:00:01\r",
      "\u001b[K     |███████████████████████████▊    | 20.9 MB 13.3 MB/s eta 0:00:01\r",
      "\u001b[K     |███████████████████████████▉    | 20.9 MB 13.3 MB/s eta 0:00:01\r",
      "\u001b[K     |███████████████████████████▉    | 20.9 MB 13.3 MB/s eta 0:00:01\r",
      "\u001b[K     |███████████████████████████▉    | 20.9 MB 13.3 MB/s eta 0:00:01\r",
      "\u001b[K     |███████████████████████████▉    | 20.9 MB 13.3 MB/s eta 0:00:01\r",
      "\u001b[K     |███████████████████████████▉    | 20.9 MB 13.3 MB/s eta 0:00:01\r",
      "\u001b[K     |███████████████████████████▉    | 21.0 MB 13.3 MB/s eta 0:00:01\r",
      "\u001b[K     |███████████████████████████▉    | 21.0 MB 13.3 MB/s eta 0:00:01\r",
      "\u001b[K     |███████████████████████████▉    | 21.0 MB 13.3 MB/s eta 0:00:01\r",
      "\u001b[K     |████████████████████████████    | 21.0 MB 13.3 MB/s eta 0:00:01\r",
      "\u001b[K     |████████████████████████████    | 21.0 MB 13.3 MB/s eta 0:00:01\r",
      "\u001b[K     |████████████████████████████    | 21.0 MB 13.3 MB/s eta 0:00:01"
     ]
    },
    {
     "name": "stdout",
     "output_type": "stream",
     "text": [
      "\r",
      "\u001b[K     |████████████████████████████    | 21.0 MB 13.3 MB/s eta 0:00:01\r",
      "\u001b[K     |████████████████████████████    | 21.0 MB 13.3 MB/s eta 0:00:01\r",
      "\u001b[K     |████████████████████████████    | 21.0 MB 13.3 MB/s eta 0:00:01\r",
      "\u001b[K     |████████████████████████████    | 21.0 MB 13.3 MB/s eta 0:00:01\r",
      "\u001b[K     |████████████████████████████    | 21.1 MB 13.3 MB/s eta 0:00:01\r",
      "\u001b[K     |████████████████████████████    | 21.1 MB 13.3 MB/s eta 0:00:01\r",
      "\u001b[K     |████████████████████████████    | 21.1 MB 13.3 MB/s eta 0:00:01\r",
      "\u001b[K     |████████████████████████████    | 21.1 MB 13.3 MB/s eta 0:00:01\r",
      "\u001b[K     |████████████████████████████    | 21.1 MB 13.3 MB/s eta 0:00:01\r",
      "\u001b[K     |████████████████████████████    | 21.1 MB 13.3 MB/s eta 0:00:01\r",
      "\u001b[K     |████████████████████████████    | 21.1 MB 13.3 MB/s eta 0:00:01\r",
      "\u001b[K     |████████████████████████████    | 21.1 MB 13.3 MB/s eta 0:00:01\r",
      "\u001b[K     |████████████████████████████    | 21.1 MB 13.3 MB/s eta 0:00:01\r",
      "\u001b[K     |████████████████████████████    | 21.1 MB 13.3 MB/s eta 0:00:01\r",
      "\u001b[K     |████████████████████████████▏   | 21.2 MB 13.3 MB/s eta 0:00:01\r",
      "\u001b[K     |████████████████████████████▏   | 21.2 MB 13.3 MB/s eta 0:00:01\r",
      "\u001b[K     |████████████████████████████▏   | 21.2 MB 13.3 MB/s eta 0:00:01\r",
      "\u001b[K     |████████████████████████████▏   | 21.2 MB 13.3 MB/s eta 0:00:01\r",
      "\u001b[K     |████████████████████████████▏   | 21.2 MB 13.3 MB/s eta 0:00:01\r",
      "\u001b[K     |████████████████████████████▏   | 21.2 MB 13.3 MB/s eta 0:00:01\r",
      "\u001b[K     |████████████████████████████▏   | 21.2 MB 13.3 MB/s eta 0:00:01\r",
      "\u001b[K     |████████████████████████████▏   | 21.2 MB 13.3 MB/s eta 0:00:01\r",
      "\u001b[K     |████████████████████████████▎   | 21.2 MB 13.3 MB/s eta 0:00:01\r",
      "\u001b[K     |████████████████████████████▎   | 21.2 MB 13.3 MB/s eta 0:00:01\r",
      "\u001b[K     |████████████████████████████▎   | 21.3 MB 13.3 MB/s eta 0:00:01\r",
      "\u001b[K     |████████████████████████████▎   | 21.3 MB 13.3 MB/s eta 0:00:01\r",
      "\u001b[K     |████████████████████████████▎   | 21.3 MB 13.3 MB/s eta 0:00:01\r",
      "\u001b[K     |████████████████████████████▎   | 21.3 MB 13.3 MB/s eta 0:00:01\r",
      "\u001b[K     |████████████████████████████▎   | 21.3 MB 13.3 MB/s eta 0:00:01\r",
      "\u001b[K     |████████████████████████████▎   | 21.3 MB 13.3 MB/s eta 0:00:01\r",
      "\u001b[K     |████████████████████████████▍   | 21.3 MB 13.3 MB/s eta 0:00:01\r",
      "\u001b[K     |████████████████████████████▍   | 21.3 MB 13.3 MB/s eta 0:00:01\r",
      "\u001b[K     |████████████████████████████▍   | 21.3 MB 13.3 MB/s eta 0:00:01\r",
      "\u001b[K     |████████████████████████████▍   | 21.4 MB 13.3 MB/s eta 0:00:01\r",
      "\u001b[K     |████████████████████████████▍   | 21.4 MB 13.3 MB/s eta 0:00:01\r",
      "\u001b[K     |████████████████████████████▍   | 21.4 MB 13.3 MB/s eta 0:00:01\r",
      "\u001b[K     |████████████████████████████▍   | 21.4 MB 13.3 MB/s eta 0:00:01\r",
      "\u001b[K     |████████████████████████████▍   | 21.4 MB 13.3 MB/s eta 0:00:01\r",
      "\u001b[K     |████████████████████████████▌   | 21.4 MB 13.3 MB/s eta 0:00:01\r",
      "\u001b[K     |████████████████████████████▌   | 21.4 MB 13.3 MB/s eta 0:00:01\r",
      "\u001b[K     |████████████████████████████▌   | 21.4 MB 13.3 MB/s eta 0:00:01\r",
      "\u001b[K     |████████████████████████████▌   | 21.4 MB 13.3 MB/s eta 0:00:01\r",
      "\u001b[K     |████████████████████████████▌   | 21.4 MB 13.3 MB/s eta 0:00:01\r",
      "\u001b[K     |████████████████████████████▌   | 21.5 MB 13.3 MB/s eta 0:00:01\r",
      "\u001b[K     |████████████████████████████▌   | 21.5 MB 13.3 MB/s eta 0:00:01\r",
      "\u001b[K     |████████████████████████████▌   | 21.5 MB 13.3 MB/s eta 0:00:01\r",
      "\u001b[K     |████████████████████████████▋   | 21.5 MB 13.3 MB/s eta 0:00:01\r",
      "\u001b[K     |████████████████████████████▋   | 21.5 MB 13.3 MB/s eta 0:00:01\r",
      "\u001b[K     |████████████████████████████▋   | 21.5 MB 13.3 MB/s eta 0:00:01\r",
      "\u001b[K     |████████████████████████████▋   | 21.5 MB 13.3 MB/s eta 0:00:01\r",
      "\u001b[K     |████████████████████████████▋   | 21.5 MB 13.3 MB/s eta 0:00:01\r",
      "\u001b[K     |████████████████████████████▋   | 21.5 MB 13.3 MB/s eta 0:00:01\r",
      "\u001b[K     |████████████████████████████▋   | 21.5 MB 13.3 MB/s eta 0:00:01\r",
      "\u001b[K     |████████████████████████████▋   | 21.6 MB 13.3 MB/s eta 0:00:01\r",
      "\u001b[K     |████████████████████████████▊   | 21.6 MB 13.3 MB/s eta 0:00:01\r",
      "\u001b[K     |████████████████████████████▊   | 21.6 MB 13.3 MB/s eta 0:00:01\r",
      "\u001b[K     |████████████████████████████▊   | 21.6 MB 13.3 MB/s eta 0:00:01\r",
      "\u001b[K     |████████████████████████████▊   | 21.6 MB 13.3 MB/s eta 0:00:01\r",
      "\u001b[K     |████████████████████████████▊   | 21.6 MB 13.3 MB/s eta 0:00:01\r",
      "\u001b[K     |████████████████████████████▊   | 21.6 MB 13.3 MB/s eta 0:00:01\r",
      "\u001b[K     |████████████████████████████▊   | 21.6 MB 13.3 MB/s eta 0:00:01\r",
      "\u001b[K     |████████████████████████████▊   | 21.6 MB 13.3 MB/s eta 0:00:01\r",
      "\u001b[K     |████████████████████████████▊   | 21.6 MB 13.3 MB/s eta 0:00:01\r",
      "\u001b[K     |████████████████████████████▉   | 21.7 MB 13.3 MB/s eta 0:00:01\r",
      "\u001b[K     |████████████████████████████▉   | 21.7 MB 13.3 MB/s eta 0:00:01\r",
      "\u001b[K     |████████████████████████████▉   | 21.7 MB 13.3 MB/s eta 0:00:01\r",
      "\u001b[K     |████████████████████████████▉   | 21.7 MB 13.3 MB/s eta 0:00:01\r",
      "\u001b[K     |████████████████████████████▉   | 21.7 MB 13.3 MB/s eta 0:00:01\r",
      "\u001b[K     |████████████████████████████▉   | 21.7 MB 13.3 MB/s eta 0:00:01\r",
      "\u001b[K     |████████████████████████████▉   | 21.7 MB 13.3 MB/s eta 0:00:01\r",
      "\u001b[K     |████████████████████████████▉   | 21.7 MB 13.3 MB/s eta 0:00:01\r",
      "\u001b[K     |█████████████████████████████   | 21.7 MB 13.3 MB/s eta 0:00:01\r",
      "\u001b[K     |█████████████████████████████   | 21.7 MB 13.3 MB/s eta 0:00:01\r",
      "\u001b[K     |█████████████████████████████   | 21.8 MB 13.3 MB/s eta 0:00:01\r",
      "\u001b[K     |█████████████████████████████   | 21.8 MB 13.3 MB/s eta 0:00:01\r",
      "\u001b[K     |█████████████████████████████   | 21.8 MB 13.3 MB/s eta 0:00:01\r",
      "\u001b[K     |█████████████████████████████   | 21.8 MB 13.3 MB/s eta 0:00:01\r",
      "\u001b[K     |█████████████████████████████   | 21.8 MB 13.3 MB/s eta 0:00:01\r",
      "\u001b[K     |█████████████████████████████   | 21.8 MB 13.3 MB/s eta 0:00:01\r",
      "\u001b[K     |█████████████████████████████   | 21.8 MB 13.3 MB/s eta 0:00:01\r",
      "\u001b[K     |█████████████████████████████   | 21.8 MB 13.3 MB/s eta 0:00:01\r",
      "\u001b[K     |█████████████████████████████   | 21.8 MB 13.3 MB/s eta 0:00:01\r",
      "\u001b[K     |█████████████████████████████   | 21.9 MB 13.3 MB/s eta 0:00:01\r",
      "\u001b[K     |█████████████████████████████   | 21.9 MB 13.3 MB/s eta 0:00:01\r",
      "\u001b[K     |█████████████████████████████   | 21.9 MB 13.3 MB/s eta 0:00:01\r",
      "\u001b[K     |█████████████████████████████   | 21.9 MB 13.3 MB/s eta 0:00:01\r",
      "\u001b[K     |█████████████████████████████   | 21.9 MB 13.3 MB/s eta 0:00:01\r",
      "\u001b[K     |█████████████████████████████▏  | 21.9 MB 13.3 MB/s eta 0:00:01\r",
      "\u001b[K     |█████████████████████████████▏  | 21.9 MB 13.3 MB/s eta 0:00:01\r",
      "\u001b[K     |█████████████████████████████▏  | 21.9 MB 13.3 MB/s eta 0:00:01\r",
      "\u001b[K     |█████████████████████████████▏  | 21.9 MB 13.3 MB/s eta 0:00:01\r",
      "\u001b[K     |█████████████████████████████▏  | 21.9 MB 13.3 MB/s eta 0:00:01\r",
      "\u001b[K     |█████████████████████████████▏  | 22.0 MB 13.3 MB/s eta 0:00:01\r",
      "\u001b[K     |█████████████████████████████▏  | 22.0 MB 13.3 MB/s eta 0:00:01\r",
      "\u001b[K     |█████████████████████████████▏  | 22.0 MB 13.3 MB/s eta 0:00:01\r",
      "\u001b[K     |█████████████████████████████▎  | 22.0 MB 13.3 MB/s eta 0:00:01\r",
      "\u001b[K     |█████████████████████████████▎  | 22.0 MB 13.3 MB/s eta 0:00:01\r",
      "\u001b[K     |█████████████████████████████▎  | 22.0 MB 13.3 MB/s eta 0:00:01\r",
      "\u001b[K     |█████████████████████████████▎  | 22.0 MB 13.3 MB/s eta 0:00:01\r",
      "\u001b[K     |█████████████████████████████▎  | 22.0 MB 13.3 MB/s eta 0:00:01\r",
      "\u001b[K     |█████████████████████████████▎  | 22.0 MB 13.3 MB/s eta 0:00:01\r",
      "\u001b[K     |█████████████████████████████▎  | 22.0 MB 13.3 MB/s eta 0:00:01\r",
      "\u001b[K     |█████████████████████████████▎  | 22.1 MB 13.3 MB/s eta 0:00:01\r",
      "\u001b[K     |█████████████████████████████▍  | 22.1 MB 13.3 MB/s eta 0:00:01\r",
      "\u001b[K     |█████████████████████████████▍  | 22.1 MB 13.3 MB/s eta 0:00:01\r",
      "\u001b[K     |█████████████████████████████▍  | 22.1 MB 13.3 MB/s eta 0:00:01\r",
      "\u001b[K     |█████████████████████████████▍  | 22.1 MB 13.3 MB/s eta 0:00:01\r",
      "\u001b[K     |█████████████████████████████▍  | 22.1 MB 13.3 MB/s eta 0:00:01\r",
      "\u001b[K     |█████████████████████████████▍  | 22.1 MB 13.3 MB/s eta 0:00:01\r",
      "\u001b[K     |█████████████████████████████▍  | 22.1 MB 13.3 MB/s eta 0:00:01\r",
      "\u001b[K     |█████████████████████████████▍  | 22.1 MB 13.3 MB/s eta 0:00:01\r",
      "\u001b[K     |█████████████████████████████▍  | 22.1 MB 13.3 MB/s eta 0:00:01\r",
      "\u001b[K     |█████████████████████████████▌  | 22.2 MB 13.3 MB/s eta 0:00:01\r",
      "\u001b[K     |█████████████████████████████▌  | 22.2 MB 13.3 MB/s eta 0:00:01\r",
      "\u001b[K     |█████████████████████████████▌  | 22.2 MB 13.3 MB/s eta 0:00:01"
     ]
    },
    {
     "name": "stdout",
     "output_type": "stream",
     "text": [
      "\r",
      "\u001b[K     |█████████████████████████████▌  | 22.2 MB 13.3 MB/s eta 0:00:01\r",
      "\u001b[K     |█████████████████████████████▌  | 22.2 MB 13.3 MB/s eta 0:00:01\r",
      "\u001b[K     |█████████████████████████████▌  | 22.2 MB 13.3 MB/s eta 0:00:01\r",
      "\u001b[K     |█████████████████████████████▌  | 22.2 MB 13.3 MB/s eta 0:00:01\r",
      "\u001b[K     |█████████████████████████████▌  | 22.2 MB 13.3 MB/s eta 0:00:01\r",
      "\u001b[K     |█████████████████████████████▋  | 22.2 MB 13.3 MB/s eta 0:00:01\r",
      "\u001b[K     |█████████████████████████████▋  | 22.3 MB 13.3 MB/s eta 0:00:01\r",
      "\u001b[K     |█████████████████████████████▋  | 22.3 MB 13.3 MB/s eta 0:00:01\r",
      "\u001b[K     |█████████████████████████████▋  | 22.3 MB 13.3 MB/s eta 0:00:01\r",
      "\u001b[K     |█████████████████████████████▋  | 22.3 MB 13.3 MB/s eta 0:00:01\r",
      "\u001b[K     |█████████████████████████████▋  | 22.3 MB 13.3 MB/s eta 0:00:01\r",
      "\u001b[K     |█████████████████████████████▋  | 22.3 MB 13.3 MB/s eta 0:00:01\r",
      "\u001b[K     |█████████████████████████████▋  | 22.3 MB 13.3 MB/s eta 0:00:01\r",
      "\u001b[K     |█████████████████████████████▊  | 22.3 MB 13.3 MB/s eta 0:00:01\r",
      "\u001b[K     |█████████████████████████████▊  | 22.3 MB 13.3 MB/s eta 0:00:01\r",
      "\u001b[K     |█████████████████████████████▊  | 22.3 MB 13.3 MB/s eta 0:00:01\r",
      "\u001b[K     |█████████████████████████████▊  | 22.4 MB 13.3 MB/s eta 0:00:01\r",
      "\u001b[K     |█████████████████████████████▊  | 22.4 MB 13.3 MB/s eta 0:00:01\r",
      "\u001b[K     |█████████████████████████████▊  | 22.4 MB 13.3 MB/s eta 0:00:01\r",
      "\u001b[K     |█████████████████████████████▊  | 22.4 MB 13.3 MB/s eta 0:00:01\r",
      "\u001b[K     |█████████████████████████████▊  | 22.4 MB 13.3 MB/s eta 0:00:01\r",
      "\u001b[K     |█████████████████████████████▉  | 22.4 MB 13.3 MB/s eta 0:00:01\r",
      "\u001b[K     |█████████████████████████████▉  | 22.4 MB 13.3 MB/s eta 0:00:01\r",
      "\u001b[K     |█████████████████████████████▉  | 22.4 MB 13.3 MB/s eta 0:00:01\r",
      "\u001b[K     |█████████████████████████████▉  | 22.4 MB 13.3 MB/s eta 0:00:01\r",
      "\u001b[K     |█████████████████████████████▉  | 22.4 MB 13.3 MB/s eta 0:00:01\r",
      "\u001b[K     |█████████████████████████████▉  | 22.5 MB 13.3 MB/s eta 0:00:01\r",
      "\u001b[K     |█████████████████████████████▉  | 22.5 MB 13.3 MB/s eta 0:00:01\r",
      "\u001b[K     |█████████████████████████████▉  | 22.5 MB 13.3 MB/s eta 0:00:01\r",
      "\u001b[K     |██████████████████████████████  | 22.5 MB 13.3 MB/s eta 0:00:01\r",
      "\u001b[K     |██████████████████████████████  | 22.5 MB 13.3 MB/s eta 0:00:01\r",
      "\u001b[K     |██████████████████████████████  | 22.5 MB 13.3 MB/s eta 0:00:01\r",
      "\u001b[K     |██████████████████████████████  | 22.5 MB 13.3 MB/s eta 0:00:01\r",
      "\u001b[K     |██████████████████████████████  | 22.5 MB 13.3 MB/s eta 0:00:01\r",
      "\u001b[K     |██████████████████████████████  | 22.5 MB 13.3 MB/s eta 0:00:01\r",
      "\u001b[K     |██████████████████████████████  | 22.5 MB 13.3 MB/s eta 0:00:01\r",
      "\u001b[K     |██████████████████████████████  | 22.6 MB 13.3 MB/s eta 0:00:01\r",
      "\u001b[K     |██████████████████████████████  | 22.6 MB 13.3 MB/s eta 0:00:01\r",
      "\u001b[K     |██████████████████████████████  | 22.6 MB 13.3 MB/s eta 0:00:01\r",
      "\u001b[K     |██████████████████████████████  | 22.6 MB 13.3 MB/s eta 0:00:01\r",
      "\u001b[K     |██████████████████████████████  | 22.6 MB 13.3 MB/s eta 0:00:01\r",
      "\u001b[K     |██████████████████████████████  | 22.6 MB 13.3 MB/s eta 0:00:01\r",
      "\u001b[K     |██████████████████████████████  | 22.6 MB 13.3 MB/s eta 0:00:01\r",
      "\u001b[K     |██████████████████████████████  | 22.6 MB 13.3 MB/s eta 0:00:01\r",
      "\u001b[K     |██████████████████████████████  | 22.6 MB 13.3 MB/s eta 0:00:01\r",
      "\u001b[K     |██████████████████████████████▏ | 22.7 MB 13.3 MB/s eta 0:00:01\r",
      "\u001b[K     |██████████████████████████████▏ | 22.7 MB 13.3 MB/s eta 0:00:01\r",
      "\u001b[K     |██████████████████████████████▏ | 22.7 MB 13.3 MB/s eta 0:00:01\r",
      "\u001b[K     |██████████████████████████████▏ | 22.7 MB 13.3 MB/s eta 0:00:01\r",
      "\u001b[K     |██████████████████████████████▏ | 22.7 MB 13.3 MB/s eta 0:00:01\r",
      "\u001b[K     |██████████████████████████████▏ | 22.7 MB 13.3 MB/s eta 0:00:01\r",
      "\u001b[K     |██████████████████████████████▏ | 22.7 MB 13.3 MB/s eta 0:00:01\r",
      "\u001b[K     |██████████████████████████████▏ | 22.7 MB 13.3 MB/s eta 0:00:01\r",
      "\u001b[K     |██████████████████████████████▏ | 22.7 MB 13.3 MB/s eta 0:00:01\r",
      "\u001b[K     |██████████████████████████████▎ | 22.7 MB 13.3 MB/s eta 0:00:01\r",
      "\u001b[K     |██████████████████████████████▎ | 22.8 MB 13.3 MB/s eta 0:00:01\r",
      "\u001b[K     |██████████████████████████████▎ | 22.8 MB 13.3 MB/s eta 0:00:01\r",
      "\u001b[K     |██████████████████████████████▎ | 22.8 MB 13.3 MB/s eta 0:00:01\r",
      "\u001b[K     |██████████████████████████████▎ | 22.8 MB 13.3 MB/s eta 0:00:01\r",
      "\u001b[K     |██████████████████████████████▎ | 22.8 MB 13.3 MB/s eta 0:00:01\r",
      "\u001b[K     |██████████████████████████████▎ | 22.8 MB 13.3 MB/s eta 0:00:01\r",
      "\u001b[K     |██████████████████████████████▎ | 22.8 MB 13.3 MB/s eta 0:00:01\r",
      "\u001b[K     |██████████████████████████████▍ | 22.8 MB 13.3 MB/s eta 0:00:01\r",
      "\u001b[K     |██████████████████████████████▍ | 22.8 MB 13.3 MB/s eta 0:00:01\r",
      "\u001b[K     |██████████████████████████████▍ | 22.8 MB 13.3 MB/s eta 0:00:01\r",
      "\u001b[K     |██████████████████████████████▍ | 22.9 MB 13.3 MB/s eta 0:00:01\r",
      "\u001b[K     |██████████████████████████████▍ | 22.9 MB 13.3 MB/s eta 0:00:01\r",
      "\u001b[K     |██████████████████████████████▍ | 22.9 MB 13.3 MB/s eta 0:00:01\r",
      "\u001b[K     |██████████████████████████████▍ | 22.9 MB 13.3 MB/s eta 0:00:01\r",
      "\u001b[K     |██████████████████████████████▍ | 22.9 MB 13.3 MB/s eta 0:00:01\r",
      "\u001b[K     |██████████████████████████████▌ | 22.9 MB 13.3 MB/s eta 0:00:01\r",
      "\u001b[K     |██████████████████████████████▌ | 22.9 MB 13.3 MB/s eta 0:00:01\r",
      "\u001b[K     |██████████████████████████████▌ | 22.9 MB 13.3 MB/s eta 0:00:01\r",
      "\u001b[K     |██████████████████████████████▌ | 22.9 MB 13.3 MB/s eta 0:00:01\r",
      "\u001b[K     |██████████████████████████████▌ | 22.9 MB 13.3 MB/s eta 0:00:01\r",
      "\u001b[K     |██████████████████████████████▌ | 23.0 MB 13.3 MB/s eta 0:00:01\r",
      "\u001b[K     |██████████████████████████████▌ | 23.0 MB 13.3 MB/s eta 0:00:01\r",
      "\u001b[K     |██████████████████████████████▌ | 23.0 MB 13.3 MB/s eta 0:00:01\r",
      "\u001b[K     |██████████████████████████████▋ | 23.0 MB 13.3 MB/s eta 0:00:01\r",
      "\u001b[K     |██████████████████████████████▋ | 23.0 MB 13.3 MB/s eta 0:00:01\r",
      "\u001b[K     |██████████████████████████████▋ | 23.0 MB 13.3 MB/s eta 0:00:01\r",
      "\u001b[K     |██████████████████████████████▋ | 23.0 MB 13.3 MB/s eta 0:00:01\r",
      "\u001b[K     |██████████████████████████████▋ | 23.0 MB 13.3 MB/s eta 0:00:01\r",
      "\u001b[K     |██████████████████████████████▋ | 23.0 MB 13.3 MB/s eta 0:00:01\r",
      "\u001b[K     |██████████████████████████████▋ | 23.1 MB 13.3 MB/s eta 0:00:01\r",
      "\u001b[K     |██████████████████████████████▋ | 23.1 MB 13.3 MB/s eta 0:00:01\r",
      "\u001b[K     |██████████████████████████████▊ | 23.1 MB 13.3 MB/s eta 0:00:01\r",
      "\u001b[K     |██████████████████████████████▊ | 23.1 MB 13.3 MB/s eta 0:00:01\r",
      "\u001b[K     |██████████████████████████████▊ | 23.1 MB 13.3 MB/s eta 0:00:01\r",
      "\u001b[K     |██████████████████████████████▊ | 23.1 MB 13.3 MB/s eta 0:00:01\r",
      "\u001b[K     |██████████████████████████████▊ | 23.1 MB 13.3 MB/s eta 0:00:01\r",
      "\u001b[K     |██████████████████████████████▊ | 23.1 MB 13.3 MB/s eta 0:00:01\r",
      "\u001b[K     |██████████████████████████████▊ | 23.1 MB 13.3 MB/s eta 0:00:01\r",
      "\u001b[K     |██████████████████████████████▊ | 23.1 MB 13.3 MB/s eta 0:00:01\r",
      "\u001b[K     |██████████████████████████████▉ | 23.2 MB 13.3 MB/s eta 0:00:01\r",
      "\u001b[K     |██████████████████████████████▉ | 23.2 MB 13.3 MB/s eta 0:00:01\r",
      "\u001b[K     |██████████████████████████████▉ | 23.2 MB 13.3 MB/s eta 0:00:01\r",
      "\u001b[K     |██████████████████████████████▉ | 23.2 MB 13.3 MB/s eta 0:00:01\r",
      "\u001b[K     |██████████████████████████████▉ | 23.2 MB 13.3 MB/s eta 0:00:01\r",
      "\u001b[K     |██████████████████████████████▉ | 23.2 MB 13.3 MB/s eta 0:00:01\r",
      "\u001b[K     |██████████████████████████████▉ | 23.2 MB 13.3 MB/s eta 0:00:01\r",
      "\u001b[K     |██████████████████████████████▉ | 23.2 MB 13.3 MB/s eta 0:00:01\r",
      "\u001b[K     |██████████████████████████████▉ | 23.2 MB 13.3 MB/s eta 0:00:01\r",
      "\u001b[K     |███████████████████████████████ | 23.2 MB 13.3 MB/s eta 0:00:01\r",
      "\u001b[K     |███████████████████████████████ | 23.3 MB 13.3 MB/s eta 0:00:01\r",
      "\u001b[K     |███████████████████████████████ | 23.3 MB 13.3 MB/s eta 0:00:01\r",
      "\u001b[K     |███████████████████████████████ | 23.3 MB 13.3 MB/s eta 0:00:01\r",
      "\u001b[K     |███████████████████████████████ | 23.3 MB 13.3 MB/s eta 0:00:01\r",
      "\u001b[K     |███████████████████████████████ | 23.3 MB 13.3 MB/s eta 0:00:01\r",
      "\u001b[K     |███████████████████████████████ | 23.3 MB 13.3 MB/s eta 0:00:01\r",
      "\u001b[K     |███████████████████████████████ | 23.3 MB 13.3 MB/s eta 0:00:01\r",
      "\u001b[K     |███████████████████████████████ | 23.3 MB 13.3 MB/s eta 0:00:01\r",
      "\u001b[K     |███████████████████████████████ | 23.3 MB 13.3 MB/s eta 0:00:01\r",
      "\u001b[K     |███████████████████████████████ | 23.3 MB 13.3 MB/s eta 0:00:01\r",
      "\u001b[K     |███████████████████████████████ | 23.4 MB 13.3 MB/s eta 0:00:01\r",
      "\u001b[K     |███████████████████████████████ | 23.4 MB 13.3 MB/s eta 0:00:01"
     ]
    },
    {
     "name": "stdout",
     "output_type": "stream",
     "text": [
      "\r",
      "\u001b[K     |███████████████████████████████ | 23.4 MB 13.3 MB/s eta 0:00:01\r",
      "\u001b[K     |███████████████████████████████ | 23.4 MB 13.3 MB/s eta 0:00:01\r",
      "\u001b[K     |███████████████████████████████ | 23.4 MB 13.3 MB/s eta 0:00:01\r",
      "\u001b[K     |███████████████████████████████▏| 23.4 MB 13.3 MB/s eta 0:00:01\r",
      "\u001b[K     |███████████████████████████████▏| 23.4 MB 13.3 MB/s eta 0:00:01\r",
      "\u001b[K     |███████████████████████████████▏| 23.4 MB 13.3 MB/s eta 0:00:01\r",
      "\u001b[K     |███████████████████████████████▏| 23.4 MB 13.3 MB/s eta 0:00:01\r",
      "\u001b[K     |███████████████████████████████▏| 23.4 MB 13.3 MB/s eta 0:00:01\r",
      "\u001b[K     |███████████████████████████████▏| 23.5 MB 13.3 MB/s eta 0:00:01\r",
      "\u001b[K     |███████████████████████████████▏| 23.5 MB 13.3 MB/s eta 0:00:01\r",
      "\u001b[K     |███████████████████████████████▏| 23.5 MB 13.3 MB/s eta 0:00:01\r",
      "\u001b[K     |███████████████████████████████▎| 23.5 MB 13.3 MB/s eta 0:00:01\r",
      "\u001b[K     |███████████████████████████████▎| 23.5 MB 13.3 MB/s eta 0:00:01\r",
      "\u001b[K     |███████████████████████████████▎| 23.5 MB 13.3 MB/s eta 0:00:01\r",
      "\u001b[K     |███████████████████████████████▎| 23.5 MB 6.3 MB/s eta 0:00:01\r",
      "\u001b[K     |███████████████████████████████▎| 23.5 MB 6.3 MB/s eta 0:00:01\r",
      "\u001b[K     |███████████████████████████████▎| 23.5 MB 6.3 MB/s eta 0:00:01\r",
      "\u001b[K     |███████████████████████████████▎| 23.6 MB 6.3 MB/s eta 0:00:01\r",
      "\u001b[K     |███████████████████████████████▎| 23.6 MB 6.3 MB/s eta 0:00:01\r",
      "\u001b[K     |███████████████████████████████▍| 23.6 MB 6.3 MB/s eta 0:00:01\r",
      "\u001b[K     |███████████████████████████████▍| 23.6 MB 6.3 MB/s eta 0:00:01\r",
      "\u001b[K     |███████████████████████████████▍| 23.6 MB 6.3 MB/s eta 0:00:01\r",
      "\u001b[K     |███████████████████████████████▍| 23.6 MB 6.3 MB/s eta 0:00:01\r",
      "\u001b[K     |███████████████████████████████▍| 23.6 MB 6.3 MB/s eta 0:00:01\r",
      "\u001b[K     |███████████████████████████████▍| 23.6 MB 6.3 MB/s eta 0:00:01\r",
      "\u001b[K     |███████████████████████████████▍| 23.6 MB 6.3 MB/s eta 0:00:01\r",
      "\u001b[K     |███████████████████████████████▍| 23.6 MB 6.3 MB/s eta 0:00:01\r",
      "\u001b[K     |███████████████████████████████▌| 23.7 MB 6.3 MB/s eta 0:00:01\r",
      "\u001b[K     |███████████████████████████████▌| 23.7 MB 6.3 MB/s eta 0:00:01\r",
      "\u001b[K     |███████████████████████████████▌| 23.7 MB 6.3 MB/s eta 0:00:01\r",
      "\u001b[K     |███████████████████████████████▌| 23.7 MB 6.3 MB/s eta 0:00:01\r",
      "\u001b[K     |███████████████████████████████▌| 23.7 MB 6.3 MB/s eta 0:00:01\r",
      "\u001b[K     |███████████████████████████████▌| 23.7 MB 6.3 MB/s eta 0:00:01\r",
      "\u001b[K     |███████████████████████████████▌| 23.7 MB 6.3 MB/s eta 0:00:01\r",
      "\u001b[K     |███████████████████████████████▌| 23.7 MB 6.3 MB/s eta 0:00:01\r",
      "\u001b[K     |███████████████████████████████▌| 23.7 MB 6.3 MB/s eta 0:00:01\r",
      "\u001b[K     |███████████████████████████████▋| 23.7 MB 6.3 MB/s eta 0:00:01\r",
      "\u001b[K     |███████████████████████████████▋| 23.8 MB 6.3 MB/s eta 0:00:01\r",
      "\u001b[K     |███████████████████████████████▋| 23.8 MB 6.3 MB/s eta 0:00:01\r",
      "\u001b[K     |███████████████████████████████▋| 23.8 MB 6.3 MB/s eta 0:00:01\r",
      "\u001b[K     |███████████████████████████████▋| 23.8 MB 6.3 MB/s eta 0:00:01\r",
      "\u001b[K     |███████████████████████████████▋| 23.8 MB 6.3 MB/s eta 0:00:01\r",
      "\u001b[K     |███████████████████████████████▋| 23.8 MB 6.3 MB/s eta 0:00:01\r",
      "\u001b[K     |███████████████████████████████▋| 23.8 MB 6.3 MB/s eta 0:00:01\r",
      "\u001b[K     |███████████████████████████████▊| 23.8 MB 6.3 MB/s eta 0:00:01\r",
      "\u001b[K     |███████████████████████████████▊| 23.8 MB 6.3 MB/s eta 0:00:01\r",
      "\u001b[K     |███████████████████████████████▊| 23.8 MB 6.3 MB/s eta 0:00:01\r",
      "\u001b[K     |███████████████████████████████▊| 23.9 MB 6.3 MB/s eta 0:00:01\r",
      "\u001b[K     |███████████████████████████████▊| 23.9 MB 6.3 MB/s eta 0:00:01\r",
      "\u001b[K     |███████████████████████████████▊| 23.9 MB 6.3 MB/s eta 0:00:01\r",
      "\u001b[K     |███████████████████████████████▊| 23.9 MB 6.3 MB/s eta 0:00:01\r",
      "\u001b[K     |███████████████████████████████▊| 23.9 MB 6.3 MB/s eta 0:00:01\r",
      "\u001b[K     |███████████████████████████████▉| 23.9 MB 6.3 MB/s eta 0:00:01\r",
      "\u001b[K     |███████████████████████████████▉| 23.9 MB 6.3 MB/s eta 0:00:01\r",
      "\u001b[K     |███████████████████████████████▉| 23.9 MB 6.3 MB/s eta 0:00:01\r",
      "\u001b[K     |███████████████████████████████▉| 23.9 MB 6.3 MB/s eta 0:00:01\r",
      "\u001b[K     |███████████████████████████████▉| 24.0 MB 6.3 MB/s eta 0:00:01\r",
      "\u001b[K     |███████████████████████████████▉| 24.0 MB 6.3 MB/s eta 0:00:01\r",
      "\u001b[K     |███████████████████████████████▉| 24.0 MB 6.3 MB/s eta 0:00:01\r",
      "\u001b[K     |███████████████████████████████▉| 24.0 MB 6.3 MB/s eta 0:00:01\r",
      "\u001b[K     |████████████████████████████████| 24.0 MB 6.3 MB/s eta 0:00:01\r",
      "\u001b[K     |████████████████████████████████| 24.0 MB 6.3 MB/s eta 0:00:01\r",
      "\u001b[K     |████████████████████████████████| 24.0 MB 6.3 MB/s eta 0:00:01\r",
      "\u001b[K     |████████████████████████████████| 24.0 MB 6.3 MB/s eta 0:00:01\r",
      "\u001b[K     |████████████████████████████████| 24.0 MB 6.3 MB/s eta 0:00:01\r",
      "\u001b[K     |████████████████████████████████| 24.0 MB 6.3 MB/s eta 0:00:01\r",
      "\u001b[K     |████████████████████████████████| 24.1 MB 6.3 MB/s eta 0:00:01\r",
      "\u001b[K     |████████████████████████████████| 24.1 MB 6.3 MB/s eta 0:00:01\r",
      "\u001b[K     |████████████████████████████████| 24.1 MB 6.3 MB/s \r\n"
     ]
    },
    {
     "name": "stdout",
     "output_type": "stream",
     "text": [
      "\u001b[?25hRequirement already satisfied: numpy>=1.17.0 in /opt/conda/lib/python3.8/site-packages (from gensim) (1.21.2)\r\n",
      "Requirement already satisfied: scipy>=0.18.1 in /opt/conda/lib/python3.8/site-packages (from gensim) (1.6.3)\r\n",
      "Requirement already satisfied: smart-open>=1.8.1 in /opt/conda/lib/python3.8/site-packages (from gensim) (5.2.1)\r\n"
     ]
    },
    {
     "name": "stdout",
     "output_type": "stream",
     "text": [
      "Installing collected packages: gensim\r\n"
     ]
    },
    {
     "name": "stdout",
     "output_type": "stream",
     "text": [
      "Successfully installed gensim-4.1.2\r\n",
      "\u001b[33mWARNING: Running pip as the 'root' user can result in broken permissions and conflicting behaviour with the system package manager. It is recommended to use a virtual environment instead: https://pip.pypa.io/warnings/venv\u001b[0m\r\n"
     ]
    }
   ],
   "source": [
    "!pip install torchvision \n",
    "!pip install torchmetrics\n",
    "!pip install pymorphy2\n",
    "!pip install pandas\n",
    "!pip install pymystem3\n",
    "!pip install gensim"
   ]
  },
  {
   "cell_type": "code",
   "execution_count": null,
   "metadata": {
    "colab": {
     "base_uri": "https://localhost:8080/"
    },
    "gradient": {
     "editing": false,
     "id": "81bfedd0-55e6-4f56-9784-7f47d2f28c49",
     "kernelId": "407d7b5d-9d7c-4b74-9c76-5aec0e6cb98b"
    },
    "id": "L5zEZh6e1lk0",
    "outputId": "40d96dd9-39e3-4918-b15e-e3764acd6493"
   },
   "outputs": [
    {
     "name": "stderr",
     "output_type": "stream",
     "text": [
      "[nltk_data] Downloading package punkt to /root/nltk_data...\n"
     ]
    },
    {
     "name": "stderr",
     "output_type": "stream",
     "text": [
      "[nltk_data]   Unzipping tokenizers/punkt.zip.\n"
     ]
    }
   ],
   "source": [
    "import pandas as pd\n",
    "import nltk\n",
    "nltk.download('punkt')\n",
    "from nltk.tokenize import word_tokenize\n",
    "from pymystem3 import Mystem\n",
    "from sklearn.feature_extraction.text import CountVectorizer\n",
    "import collections\n",
    "from collections import Counter\n",
    "import torch\n",
    "import torchvision\n",
    "from sklearn.model_selection import train_test_split\n",
    "from sklearn.utils import shuffle\n",
    "import torch\n",
    "from torchtext import data\n",
    "import torch.nn as nn\n",
    "import torch.nn.functional as F\n",
    "from torch.utils.data import Dataset, DataLoader, RandomSampler, SequentialSampler\n",
    "from torch.nn.utils.rnn import pad_sequence\n",
    "import torch.optim as optim\n",
    "from torchmetrics import F1\n",
    "from torchmetrics.functional import f1, recall\n",
    "from tqdm import tqdm\n",
    "tqdm.pandas()\n",
    "import pymorphy2\n",
    "morph = pymorphy2.MorphAnalyzer()\n",
    "import matplotlib.pyplot as plt\n",
    "from gensim.models import KeyedVectors\n",
    "import numpy as np"
   ]
  },
  {
   "cell_type": "code",
   "execution_count": null,
   "metadata": {
    "colab": {
     "base_uri": "https://localhost:8080/"
    },
    "gradient": {
     "editing": false,
     "id": "96880ca2-64d5-4565-8251-e86add2599de",
     "kernelId": "407d7b5d-9d7c-4b74-9c76-5aec0e6cb98b"
    },
    "id": "CAy8sRyE3TIn",
    "outputId": "7c47c688-8a75-43d9-f1db-26fa395e190a"
   },
   "outputs": [
    {
     "data": {
      "text/plain": [
       "device(type='cuda')"
      ]
     },
     "execution_count": 4,
     "metadata": {},
     "output_type": "execute_result"
    }
   ],
   "source": [
    "DEVICE = torch.device('cuda') if torch.cuda.is_available() else torch.device('cpu')\n",
    "DEVICE"
   ]
  },
  {
   "cell_type": "markdown",
   "metadata": {
    "gradient": {
     "editing": false,
     "id": "e43c1f3a-3a90-4bff-82d4-bdc16200d1c4",
     "kernelId": "407d7b5d-9d7c-4b74-9c76-5aec0e6cb98b"
    },
    "id": "PK0XE0iaHiri"
   },
   "source": [
    "## Загружаем данные\n",
    "Работает долго"
   ]
  },
  {
   "cell_type": "code",
   "execution_count": null,
   "metadata": {
    "gradient": {
     "editing": false,
     "id": "183ce40e-ce3e-44e0-926a-912436b3e98f",
     "kernelId": "407d7b5d-9d7c-4b74-9c76-5aec0e6cb98b"
    },
    "id": "YxB_-6pAHbon"
   },
   "outputs": [],
   "source": [
    "# Настраиваем токенизацию\n",
    "def tokenizing(text):\n",
    "    toks = word_tokenize(text)\n",
    "    words = [w.lower() for w in toks if w.isalpha()]\n",
    "    return words"
   ]
  },
  {
   "cell_type": "code",
   "execution_count": null,
   "metadata": {
    "gradient": {
     "editing": false,
     "id": "a7970641-c7f3-4fdd-a0ba-ae4c38788fc1",
     "kernelId": "407d7b5d-9d7c-4b74-9c76-5aec0e6cb98b"
    },
    "id": "GvDb35JfBbue"
   },
   "outputs": [],
   "source": [
    "# Загружаем эмбединги\n",
    "w2v = KeyedVectors.load_word2vec_format('./GoogleNews-vectors-negative300.bin.gz', binary=True)"
   ]
  },
  {
   "cell_type": "code",
   "execution_count": null,
   "metadata": {
    "gradient": {
     "editing": false,
     "id": "fb3be8d2-6f95-4632-8478-915fbe047bfb",
     "kernelId": "407d7b5d-9d7c-4b74-9c76-5aec0e6cb98b"
    },
    "id": "Qh58-qhF3nBt"
   },
   "outputs": [],
   "source": [
    "# Читаем данные\n",
    "news_df = pd.read_csv('./Fake.csv').drop_duplicates().reset_index(drop=True)"
   ]
  },
  {
   "cell_type": "code",
   "execution_count": null,
   "metadata": {
    "colab": {
     "base_uri": "https://localhost:8080/"
    },
    "gradient": {
     "editing": false,
     "id": "ccd46aec-d099-4d7e-b4a6-4a208615b42e",
     "kernelId": "407d7b5d-9d7c-4b74-9c76-5aec0e6cb98b"
    },
    "id": "nWOSYwZRIH41",
    "outputId": "e37258c5-e162-4519-e2bc-2117de56e581"
   },
   "outputs": [
    {
     "name": "stderr",
     "output_type": "stream",
     "text": [
      "\r",
      "  0%|          | 0/23478 [00:00<?, ?it/s]"
     ]
    },
    {
     "name": "stderr",
     "output_type": "stream",
     "text": [
      "\r",
      "  0%|          | 35/23478 [00:00<01:07, 346.65it/s]"
     ]
    },
    {
     "name": "stderr",
     "output_type": "stream",
     "text": [
      "\r",
      "  0%|          | 70/23478 [00:00<01:11, 328.71it/s]"
     ]
    },
    {
     "name": "stderr",
     "output_type": "stream",
     "text": [
      "\r",
      "  0%|          | 103/23478 [00:00<01:12, 321.80it/s]"
     ]
    },
    {
     "name": "stderr",
     "output_type": "stream",
     "text": [
      "\r",
      "  1%|          | 137/23478 [00:00<01:11, 324.64it/s]"
     ]
    },
    {
     "name": "stderr",
     "output_type": "stream",
     "text": [
      "\r",
      "  1%|          | 174/23478 [00:00<01:08, 339.46it/s]"
     ]
    },
    {
     "name": "stderr",
     "output_type": "stream",
     "text": [
      "\r",
      "  1%|          | 209/23478 [00:00<01:08, 340.51it/s]"
     ]
    },
    {
     "name": "stderr",
     "output_type": "stream",
     "text": [
      "\r",
      "  1%|          | 245/23478 [00:00<01:07, 345.94it/s]"
     ]
    },
    {
     "name": "stderr",
     "output_type": "stream",
     "text": [
      "\r",
      "  1%|          | 280/23478 [00:00<01:08, 340.65it/s]"
     ]
    },
    {
     "name": "stderr",
     "output_type": "stream",
     "text": [
      "\r",
      "  1%|▏         | 315/23478 [00:00<01:09, 335.34it/s]"
     ]
    },
    {
     "name": "stderr",
     "output_type": "stream",
     "text": [
      "\r",
      "  1%|▏         | 349/23478 [00:01<01:09, 331.89it/s]"
     ]
    },
    {
     "name": "stderr",
     "output_type": "stream",
     "text": [
      "\r",
      "  2%|▏         | 383/23478 [00:01<01:09, 332.11it/s]"
     ]
    },
    {
     "name": "stderr",
     "output_type": "stream",
     "text": [
      "\r",
      "  2%|▏         | 417/23478 [00:01<01:09, 332.98it/s]"
     ]
    },
    {
     "name": "stderr",
     "output_type": "stream",
     "text": [
      "\r",
      "  2%|▏         | 453/23478 [00:01<01:07, 338.72it/s]"
     ]
    },
    {
     "name": "stderr",
     "output_type": "stream",
     "text": [
      "\r",
      "  2%|▏         | 490/23478 [00:01<01:07, 341.58it/s]"
     ]
    },
    {
     "name": "stderr",
     "output_type": "stream",
     "text": [
      "\r",
      "  2%|▏         | 525/23478 [00:01<01:07, 338.03it/s]"
     ]
    },
    {
     "name": "stderr",
     "output_type": "stream",
     "text": [
      "\r",
      "  2%|▏         | 561/23478 [00:01<01:06, 343.47it/s]"
     ]
    },
    {
     "name": "stderr",
     "output_type": "stream",
     "text": [
      "\r",
      "  3%|▎         | 597/23478 [00:01<01:06, 344.96it/s]"
     ]
    },
    {
     "name": "stderr",
     "output_type": "stream",
     "text": [
      "\r",
      "  3%|▎         | 632/23478 [00:01<01:06, 341.87it/s]"
     ]
    },
    {
     "name": "stderr",
     "output_type": "stream",
     "text": [
      "\r",
      "  3%|▎         | 668/23478 [00:01<01:05, 346.39it/s]"
     ]
    },
    {
     "name": "stderr",
     "output_type": "stream",
     "text": [
      "\r",
      "  3%|▎         | 703/23478 [00:02<01:06, 340.49it/s]"
     ]
    },
    {
     "name": "stderr",
     "output_type": "stream",
     "text": [
      "\r",
      "  3%|▎         | 739/23478 [00:02<01:06, 343.93it/s]"
     ]
    },
    {
     "name": "stderr",
     "output_type": "stream",
     "text": [
      "\r",
      "  3%|▎         | 774/23478 [00:02<01:06, 342.98it/s]"
     ]
    },
    {
     "name": "stderr",
     "output_type": "stream",
     "text": [
      "\r",
      "  3%|▎         | 809/23478 [00:02<01:09, 324.94it/s]"
     ]
    },
    {
     "name": "stderr",
     "output_type": "stream",
     "text": [
      "\r",
      "  4%|▎         | 842/23478 [00:02<01:09, 324.01it/s]"
     ]
    },
    {
     "name": "stderr",
     "output_type": "stream",
     "text": [
      "\r",
      "  4%|▎         | 875/23478 [00:02<01:11, 316.47it/s]"
     ]
    },
    {
     "name": "stderr",
     "output_type": "stream",
     "text": [
      "\r",
      "  4%|▍         | 907/23478 [00:02<01:11, 316.70it/s]"
     ]
    },
    {
     "name": "stderr",
     "output_type": "stream",
     "text": [
      "\r",
      "  4%|▍         | 939/23478 [00:02<01:12, 312.74it/s]"
     ]
    },
    {
     "name": "stderr",
     "output_type": "stream",
     "text": [
      "\r",
      "  4%|▍         | 971/23478 [00:02<01:15, 299.10it/s]"
     ]
    },
    {
     "name": "stderr",
     "output_type": "stream",
     "text": [
      "\r",
      "  4%|▍         | 1007/23478 [00:03<01:11, 313.16it/s]"
     ]
    },
    {
     "name": "stderr",
     "output_type": "stream",
     "text": [
      "\r",
      "  4%|▍         | 1039/23478 [00:03<01:13, 303.42it/s]"
     ]
    },
    {
     "name": "stderr",
     "output_type": "stream",
     "text": [
      "\r",
      "  5%|▍         | 1072/23478 [00:03<01:12, 310.34it/s]"
     ]
    },
    {
     "name": "stderr",
     "output_type": "stream",
     "text": [
      "\r",
      "  5%|▍         | 1106/23478 [00:03<01:10, 318.03it/s]"
     ]
    },
    {
     "name": "stderr",
     "output_type": "stream",
     "text": [
      "\r",
      "  5%|▍         | 1144/23478 [00:03<01:07, 332.40it/s]"
     ]
    },
    {
     "name": "stderr",
     "output_type": "stream",
     "text": [
      "\r",
      "  5%|▌         | 1179/23478 [00:03<01:06, 335.23it/s]"
     ]
    },
    {
     "name": "stderr",
     "output_type": "stream",
     "text": [
      "\r",
      "  5%|▌         | 1215/23478 [00:03<01:05, 340.82it/s]"
     ]
    },
    {
     "name": "stderr",
     "output_type": "stream",
     "text": [
      "\r",
      "  5%|▌         | 1250/23478 [00:03<01:04, 342.78it/s]"
     ]
    },
    {
     "name": "stderr",
     "output_type": "stream",
     "text": [
      "\r",
      "  5%|▌         | 1285/23478 [00:03<01:04, 342.74it/s]"
     ]
    },
    {
     "name": "stderr",
     "output_type": "stream",
     "text": [
      "\r",
      "  6%|▌         | 1320/23478 [00:03<01:04, 344.40it/s]"
     ]
    },
    {
     "name": "stderr",
     "output_type": "stream",
     "text": [
      "\r",
      "  6%|▌         | 1355/23478 [00:04<01:05, 336.78it/s]"
     ]
    },
    {
     "name": "stderr",
     "output_type": "stream",
     "text": [
      "\r",
      "  6%|▌         | 1392/23478 [00:04<01:03, 345.33it/s]"
     ]
    },
    {
     "name": "stderr",
     "output_type": "stream",
     "text": [
      "\r",
      "  6%|▌         | 1432/23478 [00:04<01:01, 360.85it/s]"
     ]
    },
    {
     "name": "stderr",
     "output_type": "stream",
     "text": [
      "\r",
      "  6%|▋         | 1469/23478 [00:04<01:01, 360.54it/s]"
     ]
    },
    {
     "name": "stderr",
     "output_type": "stream",
     "text": [
      "\r",
      "  6%|▋         | 1506/23478 [00:04<01:02, 350.90it/s]"
     ]
    },
    {
     "name": "stderr",
     "output_type": "stream",
     "text": [
      "\r",
      "  7%|▋         | 1544/23478 [00:04<01:01, 357.47it/s]"
     ]
    },
    {
     "name": "stderr",
     "output_type": "stream",
     "text": [
      "\r",
      "  7%|▋         | 1580/23478 [00:04<01:03, 343.19it/s]"
     ]
    },
    {
     "name": "stderr",
     "output_type": "stream",
     "text": [
      "\r",
      "  7%|▋         | 1615/23478 [00:04<01:03, 344.47it/s]"
     ]
    },
    {
     "name": "stderr",
     "output_type": "stream",
     "text": [
      "\r",
      "  7%|▋         | 1650/23478 [00:04<01:03, 343.89it/s]"
     ]
    },
    {
     "name": "stderr",
     "output_type": "stream",
     "text": [
      "\r",
      "  7%|▋         | 1685/23478 [00:05<01:03, 344.18it/s]"
     ]
    },
    {
     "name": "stderr",
     "output_type": "stream",
     "text": [
      "\r",
      "  7%|▋         | 1720/23478 [00:05<01:05, 333.12it/s]"
     ]
    },
    {
     "name": "stderr",
     "output_type": "stream",
     "text": [
      "\r",
      "  7%|▋         | 1754/23478 [00:05<01:05, 330.05it/s]"
     ]
    },
    {
     "name": "stderr",
     "output_type": "stream",
     "text": [
      "\r",
      "  8%|▊         | 1790/23478 [00:05<01:04, 337.24it/s]"
     ]
    },
    {
     "name": "stderr",
     "output_type": "stream",
     "text": [
      "\r",
      "  8%|▊         | 1828/23478 [00:05<01:02, 347.82it/s]"
     ]
    },
    {
     "name": "stderr",
     "output_type": "stream",
     "text": [
      "\r",
      "  8%|▊         | 1864/23478 [00:05<01:01, 349.20it/s]"
     ]
    },
    {
     "name": "stderr",
     "output_type": "stream",
     "text": [
      "\r",
      "  8%|▊         | 1899/23478 [00:05<01:02, 343.58it/s]"
     ]
    },
    {
     "name": "stderr",
     "output_type": "stream",
     "text": [
      "\r",
      "  8%|▊         | 1934/23478 [00:05<01:03, 341.15it/s]"
     ]
    },
    {
     "name": "stderr",
     "output_type": "stream",
     "text": [
      "\r",
      "  8%|▊         | 1974/23478 [00:05<01:00, 354.53it/s]"
     ]
    },
    {
     "name": "stderr",
     "output_type": "stream",
     "text": [
      "\r",
      "  9%|▊         | 2010/23478 [00:05<01:02, 341.50it/s]"
     ]
    },
    {
     "name": "stderr",
     "output_type": "stream",
     "text": [
      "\r",
      "  9%|▊         | 2045/23478 [00:06<01:04, 331.19it/s]"
     ]
    },
    {
     "name": "stderr",
     "output_type": "stream",
     "text": [
      "\r",
      "  9%|▉         | 2079/23478 [00:06<01:04, 330.67it/s]"
     ]
    },
    {
     "name": "stderr",
     "output_type": "stream",
     "text": [
      "\r",
      "  9%|▉         | 2113/23478 [00:06<01:05, 327.27it/s]"
     ]
    },
    {
     "name": "stderr",
     "output_type": "stream",
     "text": [
      "\r",
      "  9%|▉         | 2147/23478 [00:06<01:04, 330.58it/s]"
     ]
    },
    {
     "name": "stderr",
     "output_type": "stream",
     "text": [
      "\r",
      "  9%|▉         | 2181/23478 [00:06<01:06, 321.14it/s]"
     ]
    },
    {
     "name": "stderr",
     "output_type": "stream",
     "text": [
      "\r",
      "  9%|▉         | 2216/23478 [00:06<01:04, 327.36it/s]"
     ]
    },
    {
     "name": "stderr",
     "output_type": "stream",
     "text": [
      "\r",
      " 10%|▉         | 2249/23478 [00:06<01:04, 327.36it/s]"
     ]
    },
    {
     "name": "stderr",
     "output_type": "stream",
     "text": [
      "\r",
      " 10%|▉         | 2282/23478 [00:06<01:04, 327.28it/s]"
     ]
    },
    {
     "name": "stderr",
     "output_type": "stream",
     "text": [
      "\r",
      " 10%|▉         | 2315/23478 [00:06<01:07, 313.50it/s]"
     ]
    },
    {
     "name": "stderr",
     "output_type": "stream",
     "text": [
      "\r",
      " 10%|█         | 2353/23478 [00:07<01:03, 332.16it/s]"
     ]
    },
    {
     "name": "stderr",
     "output_type": "stream",
     "text": [
      "\r",
      " 10%|█         | 2387/23478 [00:07<01:04, 328.81it/s]"
     ]
    },
    {
     "name": "stderr",
     "output_type": "stream",
     "text": [
      "\r",
      " 10%|█         | 2421/23478 [00:07<01:05, 322.25it/s]"
     ]
    },
    {
     "name": "stderr",
     "output_type": "stream",
     "text": [
      "\r",
      " 10%|█         | 2454/23478 [00:07<01:05, 321.17it/s]"
     ]
    },
    {
     "name": "stderr",
     "output_type": "stream",
     "text": [
      "\r",
      " 11%|█         | 2487/23478 [00:07<01:05, 321.79it/s]"
     ]
    },
    {
     "name": "stderr",
     "output_type": "stream",
     "text": [
      "\r",
      " 11%|█         | 2520/23478 [00:07<01:07, 308.50it/s]"
     ]
    },
    {
     "name": "stderr",
     "output_type": "stream",
     "text": [
      "\r",
      " 11%|█         | 2552/23478 [00:07<01:07, 309.39it/s]"
     ]
    },
    {
     "name": "stderr",
     "output_type": "stream",
     "text": [
      "\r",
      " 11%|█         | 2585/23478 [00:07<01:06, 314.74it/s]"
     ]
    },
    {
     "name": "stderr",
     "output_type": "stream",
     "text": [
      "\r",
      " 11%|█         | 2617/23478 [00:07<01:10, 295.99it/s]"
     ]
    },
    {
     "name": "stderr",
     "output_type": "stream",
     "text": [
      "\r",
      " 11%|█▏        | 2647/23478 [00:08<01:11, 290.76it/s]"
     ]
    },
    {
     "name": "stderr",
     "output_type": "stream",
     "text": [
      "\r",
      " 11%|█▏        | 2678/23478 [00:08<01:10, 295.81it/s]"
     ]
    },
    {
     "name": "stderr",
     "output_type": "stream",
     "text": [
      "\r",
      " 12%|█▏        | 2708/23478 [00:08<01:11, 289.98it/s]"
     ]
    },
    {
     "name": "stderr",
     "output_type": "stream",
     "text": [
      "\r",
      " 12%|█▏        | 2738/23478 [00:08<01:12, 286.10it/s]"
     ]
    },
    {
     "name": "stderr",
     "output_type": "stream",
     "text": [
      "\r",
      " 12%|█▏        | 2769/23478 [00:08<01:10, 292.67it/s]"
     ]
    },
    {
     "name": "stderr",
     "output_type": "stream",
     "text": [
      "\r",
      " 12%|█▏        | 2799/23478 [00:08<01:10, 291.64it/s]"
     ]
    },
    {
     "name": "stderr",
     "output_type": "stream",
     "text": [
      "\r",
      " 12%|█▏        | 2831/23478 [00:08<01:08, 299.50it/s]"
     ]
    },
    {
     "name": "stderr",
     "output_type": "stream",
     "text": [
      "\r",
      " 12%|█▏        | 2863/23478 [00:08<01:08, 301.72it/s]"
     ]
    },
    {
     "name": "stderr",
     "output_type": "stream",
     "text": [
      "\r",
      " 12%|█▏        | 2894/23478 [00:08<01:09, 296.82it/s]"
     ]
    },
    {
     "name": "stderr",
     "output_type": "stream",
     "text": [
      "\r",
      " 12%|█▏        | 2924/23478 [00:08<01:12, 283.41it/s]"
     ]
    },
    {
     "name": "stderr",
     "output_type": "stream",
     "text": [
      "\r",
      " 13%|█▎        | 2954/23478 [00:09<01:11, 288.02it/s]"
     ]
    },
    {
     "name": "stderr",
     "output_type": "stream",
     "text": [
      "\r",
      " 13%|█▎        | 2986/23478 [00:09<01:09, 294.95it/s]"
     ]
    },
    {
     "name": "stderr",
     "output_type": "stream",
     "text": [
      "\r",
      " 13%|█▎        | 3016/23478 [00:09<01:11, 285.39it/s]"
     ]
    },
    {
     "name": "stderr",
     "output_type": "stream",
     "text": [
      "\r",
      " 13%|█▎        | 3047/23478 [00:09<01:10, 287.89it/s]"
     ]
    },
    {
     "name": "stderr",
     "output_type": "stream",
     "text": [
      "\r",
      " 13%|█▎        | 3076/23478 [00:09<01:11, 283.57it/s]"
     ]
    },
    {
     "name": "stderr",
     "output_type": "stream",
     "text": [
      "\r",
      " 13%|█▎        | 3105/23478 [00:09<01:12, 280.76it/s]"
     ]
    },
    {
     "name": "stderr",
     "output_type": "stream",
     "text": [
      "\r",
      " 13%|█▎        | 3134/23478 [00:09<01:14, 274.72it/s]"
     ]
    },
    {
     "name": "stderr",
     "output_type": "stream",
     "text": [
      "\r",
      " 13%|█▎        | 3162/23478 [00:09<01:15, 269.64it/s]"
     ]
    },
    {
     "name": "stderr",
     "output_type": "stream",
     "text": [
      "\r",
      " 14%|█▎        | 3192/23478 [00:09<01:13, 276.88it/s]"
     ]
    },
    {
     "name": "stderr",
     "output_type": "stream",
     "text": [
      "\r",
      " 14%|█▎        | 3220/23478 [00:10<01:19, 254.93it/s]"
     ]
    },
    {
     "name": "stderr",
     "output_type": "stream",
     "text": [
      "\r",
      " 14%|█▍        | 3246/23478 [00:10<01:35, 212.68it/s]"
     ]
    },
    {
     "name": "stderr",
     "output_type": "stream",
     "text": [
      "\r",
      " 14%|█▍        | 3269/23478 [00:10<01:41, 198.76it/s]"
     ]
    },
    {
     "name": "stderr",
     "output_type": "stream",
     "text": [
      "\r",
      " 14%|█▍        | 3301/23478 [00:10<01:28, 227.45it/s]"
     ]
    },
    {
     "name": "stderr",
     "output_type": "stream",
     "text": [
      "\r",
      " 14%|█▍        | 3334/23478 [00:10<01:20, 250.04it/s]"
     ]
    },
    {
     "name": "stderr",
     "output_type": "stream",
     "text": [
      "\r",
      " 14%|█▍        | 3366/23478 [00:10<01:14, 268.60it/s]"
     ]
    },
    {
     "name": "stderr",
     "output_type": "stream",
     "text": [
      "\r",
      " 14%|█▍        | 3394/23478 [00:10<01:13, 271.59it/s]"
     ]
    },
    {
     "name": "stderr",
     "output_type": "stream",
     "text": [
      "\r",
      " 15%|█▍        | 3427/23478 [00:10<01:10, 286.08it/s]"
     ]
    },
    {
     "name": "stderr",
     "output_type": "stream",
     "text": [
      "\r",
      " 15%|█▍        | 3457/23478 [00:10<01:09, 289.20it/s]"
     ]
    },
    {
     "name": "stderr",
     "output_type": "stream",
     "text": [
      "\r",
      " 15%|█▍        | 3491/23478 [00:11<01:05, 303.34it/s]"
     ]
    },
    {
     "name": "stderr",
     "output_type": "stream",
     "text": [
      "\r",
      " 15%|█▌        | 3523/23478 [00:11<01:05, 304.27it/s]"
     ]
    },
    {
     "name": "stderr",
     "output_type": "stream",
     "text": [
      "\r",
      " 15%|█▌        | 3558/23478 [00:11<01:03, 315.27it/s]"
     ]
    },
    {
     "name": "stderr",
     "output_type": "stream",
     "text": [
      "\r",
      " 15%|█▌        | 3590/23478 [00:11<01:05, 303.56it/s]"
     ]
    },
    {
     "name": "stderr",
     "output_type": "stream",
     "text": [
      "\r",
      " 15%|█▌        | 3625/23478 [00:11<01:02, 315.49it/s]"
     ]
    },
    {
     "name": "stderr",
     "output_type": "stream",
     "text": [
      "\r",
      " 16%|█▌        | 3661/23478 [00:11<01:00, 327.17it/s]"
     ]
    },
    {
     "name": "stderr",
     "output_type": "stream",
     "text": [
      "\r",
      " 16%|█▌        | 3694/23478 [00:11<01:01, 320.67it/s]"
     ]
    },
    {
     "name": "stderr",
     "output_type": "stream",
     "text": [
      "\r",
      " 16%|█▌        | 3729/23478 [00:11<01:00, 328.09it/s]"
     ]
    },
    {
     "name": "stderr",
     "output_type": "stream",
     "text": [
      "\r",
      " 16%|█▌        | 3764/23478 [00:11<00:59, 333.69it/s]"
     ]
    },
    {
     "name": "stderr",
     "output_type": "stream",
     "text": [
      "\r",
      " 16%|█▌        | 3801/23478 [00:11<00:57, 344.32it/s]"
     ]
    },
    {
     "name": "stderr",
     "output_type": "stream",
     "text": [
      "\r",
      " 16%|█▋        | 3836/23478 [00:12<01:00, 326.81it/s]"
     ]
    },
    {
     "name": "stderr",
     "output_type": "stream",
     "text": [
      "\r",
      " 16%|█▋        | 3869/23478 [00:12<01:01, 318.99it/s]"
     ]
    },
    {
     "name": "stderr",
     "output_type": "stream",
     "text": [
      "\r",
      " 17%|█▋        | 3904/23478 [00:12<00:59, 326.89it/s]"
     ]
    },
    {
     "name": "stderr",
     "output_type": "stream",
     "text": [
      "\r",
      " 17%|█▋        | 3938/23478 [00:12<00:59, 329.15it/s]"
     ]
    },
    {
     "name": "stderr",
     "output_type": "stream",
     "text": [
      "\r",
      " 17%|█▋        | 3978/23478 [00:12<00:55, 348.56it/s]"
     ]
    },
    {
     "name": "stderr",
     "output_type": "stream",
     "text": [
      "\r",
      " 17%|█▋        | 4013/23478 [00:12<00:58, 331.43it/s]"
     ]
    },
    {
     "name": "stderr",
     "output_type": "stream",
     "text": [
      "\r",
      " 17%|█▋        | 4047/23478 [00:12<00:58, 329.78it/s]"
     ]
    },
    {
     "name": "stderr",
     "output_type": "stream",
     "text": [
      "\r",
      " 17%|█▋        | 4086/23478 [00:12<00:56, 346.20it/s]"
     ]
    },
    {
     "name": "stderr",
     "output_type": "stream",
     "text": [
      "\r",
      " 18%|█▊        | 4121/23478 [00:12<00:57, 334.16it/s]"
     ]
    },
    {
     "name": "stderr",
     "output_type": "stream",
     "text": [
      "\r",
      " 18%|█▊        | 4155/23478 [00:13<01:00, 320.24it/s]"
     ]
    },
    {
     "name": "stderr",
     "output_type": "stream",
     "text": [
      "\r",
      " 18%|█▊        | 4188/23478 [00:13<01:00, 318.26it/s]"
     ]
    },
    {
     "name": "stderr",
     "output_type": "stream",
     "text": [
      "\r",
      " 18%|█▊        | 4222/23478 [00:13<00:59, 323.68it/s]"
     ]
    },
    {
     "name": "stderr",
     "output_type": "stream",
     "text": [
      "\r",
      " 18%|█▊        | 4255/23478 [00:13<00:59, 321.09it/s]"
     ]
    },
    {
     "name": "stderr",
     "output_type": "stream",
     "text": [
      "\r",
      " 18%|█▊        | 4292/23478 [00:13<00:57, 332.78it/s]"
     ]
    },
    {
     "name": "stderr",
     "output_type": "stream",
     "text": [
      "\r",
      " 18%|█▊        | 4326/23478 [00:13<00:58, 329.20it/s]"
     ]
    },
    {
     "name": "stderr",
     "output_type": "stream",
     "text": [
      "\r",
      " 19%|█▊        | 4359/23478 [00:13<00:58, 325.52it/s]"
     ]
    },
    {
     "name": "stderr",
     "output_type": "stream",
     "text": [
      "\r",
      " 19%|█▊        | 4392/23478 [00:13<01:02, 307.49it/s]"
     ]
    },
    {
     "name": "stderr",
     "output_type": "stream",
     "text": [
      "\r",
      " 19%|█▉        | 4426/23478 [00:13<01:00, 316.08it/s]"
     ]
    },
    {
     "name": "stderr",
     "output_type": "stream",
     "text": [
      "\r",
      " 19%|█▉        | 4467/23478 [00:14<00:55, 342.66it/s]"
     ]
    },
    {
     "name": "stderr",
     "output_type": "stream",
     "text": [
      "\r",
      " 19%|█▉        | 4502/23478 [00:14<00:59, 318.65it/s]"
     ]
    },
    {
     "name": "stderr",
     "output_type": "stream",
     "text": [
      "\r",
      " 19%|█▉        | 4540/23478 [00:14<00:56, 334.33it/s]"
     ]
    },
    {
     "name": "stderr",
     "output_type": "stream",
     "text": [
      "\r",
      " 19%|█▉        | 4574/23478 [00:14<00:56, 332.42it/s]"
     ]
    },
    {
     "name": "stderr",
     "output_type": "stream",
     "text": [
      "\r",
      " 20%|█▉        | 4610/23478 [00:14<00:55, 337.79it/s]"
     ]
    },
    {
     "name": "stderr",
     "output_type": "stream",
     "text": [
      "\r",
      " 20%|█▉        | 4645/23478 [00:14<00:56, 332.19it/s]"
     ]
    },
    {
     "name": "stderr",
     "output_type": "stream",
     "text": [
      "\r",
      " 20%|█▉        | 4679/23478 [00:14<00:56, 331.53it/s]"
     ]
    },
    {
     "name": "stderr",
     "output_type": "stream",
     "text": [
      "\r",
      " 20%|██        | 4713/23478 [00:14<00:56, 333.00it/s]"
     ]
    },
    {
     "name": "stderr",
     "output_type": "stream",
     "text": [
      "\r",
      " 20%|██        | 4747/23478 [00:14<00:57, 327.40it/s]"
     ]
    },
    {
     "name": "stderr",
     "output_type": "stream",
     "text": [
      "\r",
      " 20%|██        | 4780/23478 [00:14<00:57, 326.65it/s]"
     ]
    },
    {
     "name": "stderr",
     "output_type": "stream",
     "text": [
      "\r",
      " 21%|██        | 4816/23478 [00:15<00:55, 335.33it/s]"
     ]
    },
    {
     "name": "stderr",
     "output_type": "stream",
     "text": [
      "\r",
      " 21%|██        | 4850/23478 [00:15<00:56, 332.15it/s]"
     ]
    },
    {
     "name": "stderr",
     "output_type": "stream",
     "text": [
      "\r",
      " 21%|██        | 4884/23478 [00:15<00:57, 325.33it/s]"
     ]
    },
    {
     "name": "stderr",
     "output_type": "stream",
     "text": [
      "\r",
      " 21%|██        | 4917/23478 [00:15<00:57, 322.17it/s]"
     ]
    },
    {
     "name": "stderr",
     "output_type": "stream",
     "text": [
      "\r",
      " 21%|██        | 4950/23478 [00:15<00:59, 309.16it/s]"
     ]
    },
    {
     "name": "stderr",
     "output_type": "stream",
     "text": [
      "\r",
      " 21%|██        | 4984/23478 [00:15<00:58, 317.68it/s]"
     ]
    },
    {
     "name": "stderr",
     "output_type": "stream",
     "text": [
      "\r",
      " 21%|██▏       | 5016/23478 [00:15<00:58, 318.19it/s]"
     ]
    },
    {
     "name": "stderr",
     "output_type": "stream",
     "text": [
      "\r",
      " 22%|██▏       | 5048/23478 [00:15<00:58, 313.92it/s]"
     ]
    },
    {
     "name": "stderr",
     "output_type": "stream",
     "text": [
      "\r",
      " 22%|██▏       | 5083/23478 [00:15<00:56, 323.41it/s]"
     ]
    },
    {
     "name": "stderr",
     "output_type": "stream",
     "text": [
      "\r",
      " 22%|██▏       | 5119/23478 [00:16<00:55, 331.39it/s]"
     ]
    },
    {
     "name": "stderr",
     "output_type": "stream",
     "text": [
      "\r",
      " 22%|██▏       | 5153/23478 [00:16<00:56, 327.01it/s]"
     ]
    },
    {
     "name": "stderr",
     "output_type": "stream",
     "text": [
      "\r",
      " 22%|██▏       | 5186/23478 [00:16<00:57, 315.63it/s]"
     ]
    },
    {
     "name": "stderr",
     "output_type": "stream",
     "text": [
      "\r",
      " 22%|██▏       | 5219/23478 [00:16<00:57, 319.31it/s]"
     ]
    },
    {
     "name": "stderr",
     "output_type": "stream",
     "text": [
      "\r",
      " 22%|██▏       | 5255/23478 [00:16<00:55, 330.42it/s]"
     ]
    },
    {
     "name": "stderr",
     "output_type": "stream",
     "text": [
      "\r",
      " 23%|██▎       | 5289/23478 [00:16<00:55, 326.35it/s]"
     ]
    },
    {
     "name": "stderr",
     "output_type": "stream",
     "text": [
      "\r",
      " 23%|██▎       | 5324/23478 [00:16<00:55, 329.37it/s]"
     ]
    },
    {
     "name": "stderr",
     "output_type": "stream",
     "text": [
      "\r",
      " 23%|██▎       | 5358/23478 [00:16<00:55, 328.58it/s]"
     ]
    },
    {
     "name": "stderr",
     "output_type": "stream",
     "text": [
      "\r",
      " 23%|██▎       | 5391/23478 [00:16<00:57, 312.24it/s]"
     ]
    },
    {
     "name": "stderr",
     "output_type": "stream",
     "text": [
      "\r",
      " 23%|██▎       | 5426/23478 [00:16<00:55, 322.55it/s]"
     ]
    },
    {
     "name": "stderr",
     "output_type": "stream",
     "text": [
      "\r",
      " 23%|██▎       | 5464/23478 [00:17<00:53, 337.96it/s]"
     ]
    },
    {
     "name": "stderr",
     "output_type": "stream",
     "text": [
      "\r",
      " 23%|██▎       | 5499/23478 [00:17<00:53, 338.85it/s]"
     ]
    },
    {
     "name": "stderr",
     "output_type": "stream",
     "text": [
      "\r",
      " 24%|██▎       | 5534/23478 [00:17<00:52, 341.00it/s]"
     ]
    },
    {
     "name": "stderr",
     "output_type": "stream",
     "text": [
      "\r",
      " 24%|██▎       | 5569/23478 [00:17<00:52, 339.64it/s]"
     ]
    },
    {
     "name": "stderr",
     "output_type": "stream",
     "text": [
      "\r",
      " 24%|██▍       | 5605/23478 [00:17<00:52, 343.41it/s]"
     ]
    },
    {
     "name": "stderr",
     "output_type": "stream",
     "text": [
      "\r",
      " 24%|██▍       | 5640/23478 [00:17<00:55, 321.83it/s]"
     ]
    },
    {
     "name": "stderr",
     "output_type": "stream",
     "text": [
      "\r",
      " 24%|██▍       | 5673/23478 [00:17<00:54, 323.76it/s]"
     ]
    },
    {
     "name": "stderr",
     "output_type": "stream",
     "text": [
      "\r",
      " 24%|██▍       | 5706/23478 [00:17<01:11, 247.83it/s]"
     ]
    },
    {
     "name": "stderr",
     "output_type": "stream",
     "text": [
      "\r",
      " 24%|██▍       | 5742/23478 [00:18<01:04, 273.76it/s]"
     ]
    },
    {
     "name": "stderr",
     "output_type": "stream",
     "text": [
      "\r",
      " 25%|██▍       | 5774/23478 [00:18<01:02, 284.77it/s]"
     ]
    },
    {
     "name": "stderr",
     "output_type": "stream",
     "text": [
      "\r",
      " 25%|██▍       | 5806/23478 [00:18<01:00, 293.35it/s]"
     ]
    },
    {
     "name": "stderr",
     "output_type": "stream",
     "text": [
      "\r",
      " 25%|██▍       | 5838/23478 [00:18<00:58, 300.32it/s]"
     ]
    },
    {
     "name": "stderr",
     "output_type": "stream",
     "text": [
      "\r",
      " 25%|██▌       | 5870/23478 [00:18<00:58, 300.09it/s]"
     ]
    },
    {
     "name": "stderr",
     "output_type": "stream",
     "text": [
      "\r",
      " 25%|██▌       | 5902/23478 [00:18<00:57, 305.30it/s]"
     ]
    },
    {
     "name": "stderr",
     "output_type": "stream",
     "text": [
      "\r",
      " 25%|██▌       | 5934/23478 [00:18<00:56, 308.37it/s]"
     ]
    },
    {
     "name": "stderr",
     "output_type": "stream",
     "text": [
      "\r",
      " 25%|██▌       | 5966/23478 [00:18<01:02, 280.50it/s]"
     ]
    },
    {
     "name": "stderr",
     "output_type": "stream",
     "text": [
      "\r",
      " 26%|██▌       | 6005/23478 [00:18<00:56, 307.27it/s]"
     ]
    },
    {
     "name": "stderr",
     "output_type": "stream",
     "text": [
      "\r",
      " 26%|██▌       | 6037/23478 [00:19<01:05, 267.20it/s]"
     ]
    },
    {
     "name": "stderr",
     "output_type": "stream",
     "text": [
      "\r",
      " 26%|██▌       | 6066/23478 [00:19<01:11, 243.99it/s]"
     ]
    },
    {
     "name": "stderr",
     "output_type": "stream",
     "text": [
      "\r",
      " 26%|██▌       | 6101/23478 [00:19<01:04, 268.63it/s]"
     ]
    },
    {
     "name": "stderr",
     "output_type": "stream",
     "text": [
      "\r",
      " 26%|██▌       | 6138/23478 [00:19<00:59, 293.59it/s]"
     ]
    },
    {
     "name": "stderr",
     "output_type": "stream",
     "text": [
      "\r",
      " 26%|██▋       | 6172/23478 [00:19<00:57, 302.85it/s]"
     ]
    },
    {
     "name": "stderr",
     "output_type": "stream",
     "text": [
      "\r",
      " 26%|██▋       | 6204/23478 [00:19<00:57, 299.55it/s]"
     ]
    },
    {
     "name": "stderr",
     "output_type": "stream",
     "text": [
      "\r",
      " 27%|██▋       | 6238/23478 [00:19<00:55, 309.49it/s]"
     ]
    },
    {
     "name": "stderr",
     "output_type": "stream",
     "text": [
      "\r",
      " 27%|██▋       | 6274/23478 [00:19<00:53, 322.78it/s]"
     ]
    },
    {
     "name": "stderr",
     "output_type": "stream",
     "text": [
      "\r",
      " 27%|██▋       | 6312/23478 [00:19<00:50, 338.06it/s]"
     ]
    },
    {
     "name": "stderr",
     "output_type": "stream",
     "text": [
      "\r",
      " 27%|██▋       | 6347/23478 [00:20<00:50, 336.09it/s]"
     ]
    },
    {
     "name": "stderr",
     "output_type": "stream",
     "text": [
      "\r",
      " 27%|██▋       | 6383/23478 [00:20<00:50, 340.99it/s]"
     ]
    },
    {
     "name": "stderr",
     "output_type": "stream",
     "text": [
      "\r",
      " 27%|██▋       | 6418/23478 [00:20<00:50, 337.51it/s]"
     ]
    },
    {
     "name": "stderr",
     "output_type": "stream",
     "text": [
      "\r",
      " 27%|██▋       | 6452/23478 [00:20<00:51, 327.53it/s]"
     ]
    },
    {
     "name": "stderr",
     "output_type": "stream",
     "text": [
      "\r",
      " 28%|██▊       | 6491/23478 [00:20<00:49, 344.29it/s]"
     ]
    },
    {
     "name": "stderr",
     "output_type": "stream",
     "text": [
      "\r",
      " 28%|██▊       | 6526/23478 [00:20<00:49, 343.26it/s]"
     ]
    },
    {
     "name": "stderr",
     "output_type": "stream",
     "text": [
      "\r",
      " 28%|██▊       | 6561/23478 [00:20<00:50, 335.87it/s]"
     ]
    },
    {
     "name": "stderr",
     "output_type": "stream",
     "text": [
      "\r",
      " 28%|██▊       | 6595/23478 [00:20<00:50, 332.53it/s]"
     ]
    },
    {
     "name": "stderr",
     "output_type": "stream",
     "text": [
      "\r",
      " 28%|██▊       | 6629/23478 [00:20<00:50, 333.84it/s]"
     ]
    },
    {
     "name": "stderr",
     "output_type": "stream",
     "text": [
      "\r",
      " 28%|██▊       | 6663/23478 [00:20<00:51, 329.35it/s]"
     ]
    },
    {
     "name": "stderr",
     "output_type": "stream",
     "text": [
      "\r",
      " 29%|██▊       | 6701/23478 [00:21<00:49, 340.88it/s]"
     ]
    },
    {
     "name": "stderr",
     "output_type": "stream",
     "text": [
      "\r",
      " 29%|██▊       | 6736/23478 [00:21<00:49, 336.07it/s]"
     ]
    },
    {
     "name": "stderr",
     "output_type": "stream",
     "text": [
      "\r",
      " 29%|██▉       | 6771/23478 [00:21<00:49, 337.29it/s]"
     ]
    },
    {
     "name": "stderr",
     "output_type": "stream",
     "text": [
      "\r",
      " 29%|██▉       | 6805/23478 [00:21<00:49, 337.91it/s]"
     ]
    },
    {
     "name": "stderr",
     "output_type": "stream",
     "text": [
      "\r",
      " 29%|██▉       | 6842/23478 [00:21<00:48, 346.27it/s]"
     ]
    },
    {
     "name": "stderr",
     "output_type": "stream",
     "text": [
      "\r",
      " 29%|██▉       | 6878/23478 [00:21<00:47, 347.07it/s]"
     ]
    },
    {
     "name": "stderr",
     "output_type": "stream",
     "text": [
      "\r",
      " 29%|██▉       | 6913/23478 [00:21<00:49, 333.14it/s]"
     ]
    },
    {
     "name": "stderr",
     "output_type": "stream",
     "text": [
      "\r",
      " 30%|██▉       | 6950/23478 [00:21<00:48, 341.15it/s]"
     ]
    },
    {
     "name": "stderr",
     "output_type": "stream",
     "text": [
      "\r",
      " 30%|██▉       | 6986/23478 [00:21<00:47, 344.93it/s]"
     ]
    },
    {
     "name": "stderr",
     "output_type": "stream",
     "text": [
      "\r",
      " 30%|██▉       | 7022/23478 [00:22<00:47, 348.23it/s]"
     ]
    },
    {
     "name": "stderr",
     "output_type": "stream",
     "text": [
      "\r",
      " 30%|███       | 7057/23478 [00:22<00:47, 345.97it/s]"
     ]
    },
    {
     "name": "stderr",
     "output_type": "stream",
     "text": [
      "\r",
      " 30%|███       | 7092/23478 [00:22<00:48, 336.77it/s]"
     ]
    },
    {
     "name": "stderr",
     "output_type": "stream",
     "text": [
      "\r",
      " 30%|███       | 7127/23478 [00:22<00:48, 337.80it/s]"
     ]
    },
    {
     "name": "stderr",
     "output_type": "stream",
     "text": [
      "\r",
      " 31%|███       | 7161/23478 [00:22<00:48, 336.48it/s]"
     ]
    },
    {
     "name": "stderr",
     "output_type": "stream",
     "text": [
      "\r",
      " 31%|███       | 7195/23478 [00:22<00:49, 332.08it/s]"
     ]
    },
    {
     "name": "stderr",
     "output_type": "stream",
     "text": [
      "\r",
      " 31%|███       | 7229/23478 [00:22<00:49, 329.51it/s]"
     ]
    },
    {
     "name": "stderr",
     "output_type": "stream",
     "text": [
      "\r",
      " 31%|███       | 7262/23478 [00:22<00:49, 328.31it/s]"
     ]
    },
    {
     "name": "stderr",
     "output_type": "stream",
     "text": [
      "\r",
      " 31%|███       | 7295/23478 [00:22<00:50, 322.58it/s]"
     ]
    },
    {
     "name": "stderr",
     "output_type": "stream",
     "text": [
      "\r",
      " 31%|███       | 7328/23478 [00:22<00:51, 314.17it/s]"
     ]
    },
    {
     "name": "stderr",
     "output_type": "stream",
     "text": [
      "\r",
      " 31%|███▏      | 7363/23478 [00:23<00:49, 324.21it/s]"
     ]
    },
    {
     "name": "stderr",
     "output_type": "stream",
     "text": [
      "\r",
      " 32%|███▏      | 7396/23478 [00:23<00:49, 322.95it/s]"
     ]
    },
    {
     "name": "stderr",
     "output_type": "stream",
     "text": [
      "\r",
      " 32%|███▏      | 7429/23478 [00:23<00:50, 319.98it/s]"
     ]
    },
    {
     "name": "stderr",
     "output_type": "stream",
     "text": [
      "\r",
      " 32%|███▏      | 7464/23478 [00:23<00:48, 327.47it/s]"
     ]
    },
    {
     "name": "stderr",
     "output_type": "stream",
     "text": [
      "\r",
      " 32%|███▏      | 7501/23478 [00:23<00:47, 337.18it/s]"
     ]
    },
    {
     "name": "stderr",
     "output_type": "stream",
     "text": [
      "\r",
      " 32%|███▏      | 7535/23478 [00:23<00:47, 335.68it/s]"
     ]
    },
    {
     "name": "stderr",
     "output_type": "stream",
     "text": [
      "\r",
      " 32%|███▏      | 7569/23478 [00:23<00:48, 327.22it/s]"
     ]
    },
    {
     "name": "stderr",
     "output_type": "stream",
     "text": [
      "\r",
      " 32%|███▏      | 7607/23478 [00:23<00:46, 341.34it/s]"
     ]
    },
    {
     "name": "stderr",
     "output_type": "stream",
     "text": [
      "\r",
      " 33%|███▎      | 7642/23478 [00:23<00:46, 338.48it/s]"
     ]
    },
    {
     "name": "stderr",
     "output_type": "stream",
     "text": [
      "\r",
      " 33%|███▎      | 7678/23478 [00:23<00:46, 342.52it/s]"
     ]
    },
    {
     "name": "stderr",
     "output_type": "stream",
     "text": [
      "\r",
      " 33%|███▎      | 7713/23478 [00:24<00:47, 330.80it/s]"
     ]
    },
    {
     "name": "stderr",
     "output_type": "stream",
     "text": [
      "\r",
      " 33%|███▎      | 7747/23478 [00:24<00:55, 281.50it/s]"
     ]
    },
    {
     "name": "stderr",
     "output_type": "stream",
     "text": [
      "\r",
      " 33%|███▎      | 7777/23478 [00:24<00:56, 279.45it/s]"
     ]
    },
    {
     "name": "stderr",
     "output_type": "stream",
     "text": [
      "\r",
      " 33%|███▎      | 7809/23478 [00:24<00:54, 288.72it/s]"
     ]
    },
    {
     "name": "stderr",
     "output_type": "stream",
     "text": [
      "\r",
      " 33%|███▎      | 7842/23478 [00:24<00:52, 299.74it/s]"
     ]
    },
    {
     "name": "stderr",
     "output_type": "stream",
     "text": [
      "\r",
      " 34%|███▎      | 7875/23478 [00:24<00:50, 307.18it/s]"
     ]
    },
    {
     "name": "stderr",
     "output_type": "stream",
     "text": [
      "\r",
      " 34%|███▎      | 7910/23478 [00:24<00:48, 318.86it/s]"
     ]
    },
    {
     "name": "stderr",
     "output_type": "stream",
     "text": [
      "\r",
      " 34%|███▍      | 7945/23478 [00:24<00:47, 326.01it/s]"
     ]
    },
    {
     "name": "stderr",
     "output_type": "stream",
     "text": [
      "\r",
      " 34%|███▍      | 7983/23478 [00:24<00:45, 341.13it/s]"
     ]
    },
    {
     "name": "stderr",
     "output_type": "stream",
     "text": [
      "\r",
      " 34%|███▍      | 8018/23478 [00:25<00:45, 342.84it/s]"
     ]
    },
    {
     "name": "stderr",
     "output_type": "stream",
     "text": [
      "\r",
      " 34%|███▍      | 8055/23478 [00:25<00:44, 348.65it/s]"
     ]
    },
    {
     "name": "stderr",
     "output_type": "stream",
     "text": [
      "\r",
      " 34%|███▍      | 8091/23478 [00:25<00:43, 350.53it/s]"
     ]
    },
    {
     "name": "stderr",
     "output_type": "stream",
     "text": [
      "\r",
      " 35%|███▍      | 8127/23478 [00:25<00:47, 322.41it/s]"
     ]
    },
    {
     "name": "stderr",
     "output_type": "stream",
     "text": [
      "\r",
      " 35%|███▍      | 8160/23478 [00:25<00:47, 321.87it/s]"
     ]
    },
    {
     "name": "stderr",
     "output_type": "stream",
     "text": [
      "\r",
      " 35%|███▍      | 8195/23478 [00:25<00:46, 329.31it/s]"
     ]
    },
    {
     "name": "stderr",
     "output_type": "stream",
     "text": [
      "\r",
      " 35%|███▌      | 8229/23478 [00:25<00:46, 329.74it/s]"
     ]
    },
    {
     "name": "stderr",
     "output_type": "stream",
     "text": [
      "\r",
      " 35%|███▌      | 8264/23478 [00:25<00:45, 335.29it/s]"
     ]
    },
    {
     "name": "stderr",
     "output_type": "stream",
     "text": [
      "\r",
      " 35%|███▌      | 8298/23478 [00:25<00:46, 329.24it/s]"
     ]
    },
    {
     "name": "stderr",
     "output_type": "stream",
     "text": [
      "\r",
      " 35%|███▌      | 8332/23478 [00:26<00:46, 328.53it/s]"
     ]
    },
    {
     "name": "stderr",
     "output_type": "stream",
     "text": [
      "\r",
      " 36%|███▌      | 8365/23478 [00:26<00:47, 314.97it/s]"
     ]
    },
    {
     "name": "stderr",
     "output_type": "stream",
     "text": [
      "\r",
      " 36%|███▌      | 8398/23478 [00:26<00:47, 319.03it/s]"
     ]
    },
    {
     "name": "stderr",
     "output_type": "stream",
     "text": [
      "\r",
      " 36%|███▌      | 8431/23478 [00:26<00:47, 319.94it/s]"
     ]
    },
    {
     "name": "stderr",
     "output_type": "stream",
     "text": [
      "\r",
      " 36%|███▌      | 8464/23478 [00:26<00:47, 313.69it/s]"
     ]
    },
    {
     "name": "stderr",
     "output_type": "stream",
     "text": [
      "\r",
      " 36%|███▌      | 8499/23478 [00:26<00:46, 320.39it/s]"
     ]
    },
    {
     "name": "stderr",
     "output_type": "stream",
     "text": [
      "\r",
      " 36%|███▋      | 8532/23478 [00:26<00:54, 271.92it/s]"
     ]
    },
    {
     "name": "stderr",
     "output_type": "stream",
     "text": [
      "\r",
      " 36%|███▋      | 8561/23478 [00:26<01:02, 237.35it/s]"
     ]
    },
    {
     "name": "stderr",
     "output_type": "stream",
     "text": [
      "\r",
      " 37%|███▋      | 8587/23478 [00:27<01:05, 228.48it/s]"
     ]
    },
    {
     "name": "stderr",
     "output_type": "stream",
     "text": [
      "\r",
      " 37%|███▋      | 8611/23478 [00:27<01:07, 221.46it/s]"
     ]
    },
    {
     "name": "stderr",
     "output_type": "stream",
     "text": [
      "\r",
      " 37%|███▋      | 8634/23478 [00:27<01:12, 205.16it/s]"
     ]
    },
    {
     "name": "stderr",
     "output_type": "stream",
     "text": [
      "\r",
      " 37%|███▋      | 8656/23478 [00:27<01:12, 204.31it/s]"
     ]
    },
    {
     "name": "stderr",
     "output_type": "stream",
     "text": [
      "\r",
      " 37%|███▋      | 8685/23478 [00:27<01:05, 225.86it/s]"
     ]
    },
    {
     "name": "stderr",
     "output_type": "stream",
     "text": [
      "\r",
      " 37%|███▋      | 8713/23478 [00:27<01:01, 239.74it/s]"
     ]
    },
    {
     "name": "stderr",
     "output_type": "stream",
     "text": [
      "\r",
      " 37%|███▋      | 8742/23478 [00:27<00:58, 252.51it/s]"
     ]
    },
    {
     "name": "stderr",
     "output_type": "stream",
     "text": [
      "\r",
      " 37%|███▋      | 8771/23478 [00:27<00:56, 260.62it/s]"
     ]
    },
    {
     "name": "stderr",
     "output_type": "stream",
     "text": [
      "\r",
      " 37%|███▋      | 8804/23478 [00:27<00:52, 278.96it/s]"
     ]
    },
    {
     "name": "stderr",
     "output_type": "stream",
     "text": [
      "\r",
      " 38%|███▊      | 8837/23478 [00:28<00:50, 292.78it/s]"
     ]
    },
    {
     "name": "stderr",
     "output_type": "stream",
     "text": [
      "\r",
      " 38%|███▊      | 8870/23478 [00:28<00:48, 303.49it/s]"
     ]
    },
    {
     "name": "stderr",
     "output_type": "stream",
     "text": [
      "\r",
      " 38%|███▊      | 8903/23478 [00:28<00:47, 307.75it/s]"
     ]
    },
    {
     "name": "stderr",
     "output_type": "stream",
     "text": [
      "\r",
      " 38%|███▊      | 8934/23478 [00:28<00:49, 295.78it/s]"
     ]
    },
    {
     "name": "stderr",
     "output_type": "stream",
     "text": [
      "\r",
      " 38%|███▊      | 8965/23478 [00:28<00:48, 299.37it/s]"
     ]
    },
    {
     "name": "stderr",
     "output_type": "stream",
     "text": [
      "\r",
      " 38%|███▊      | 8997/23478 [00:28<00:47, 304.91it/s]"
     ]
    },
    {
     "name": "stderr",
     "output_type": "stream",
     "text": [
      "\r",
      " 38%|███▊      | 9028/23478 [00:28<00:51, 282.23it/s]"
     ]
    },
    {
     "name": "stderr",
     "output_type": "stream",
     "text": [
      "\r",
      " 39%|███▊      | 9058/23478 [00:28<00:50, 284.71it/s]"
     ]
    },
    {
     "name": "stderr",
     "output_type": "stream",
     "text": [
      "\r",
      " 39%|███▊      | 9088/23478 [00:28<00:49, 288.27it/s]"
     ]
    },
    {
     "name": "stderr",
     "output_type": "stream",
     "text": [
      "\r",
      " 39%|███▉      | 9118/23478 [00:28<00:51, 277.71it/s]"
     ]
    },
    {
     "name": "stderr",
     "output_type": "stream",
     "text": [
      "\r",
      " 39%|███▉      | 9146/23478 [00:29<00:52, 271.26it/s]"
     ]
    },
    {
     "name": "stderr",
     "output_type": "stream",
     "text": [
      "\r",
      " 39%|███▉      | 9185/23478 [00:29<00:47, 303.46it/s]"
     ]
    },
    {
     "name": "stderr",
     "output_type": "stream",
     "text": [
      "\r",
      " 39%|███▉      | 9216/23478 [00:29<00:50, 283.68it/s]"
     ]
    },
    {
     "name": "stderr",
     "output_type": "stream",
     "text": [
      "\r",
      " 39%|███▉      | 9246/23478 [00:29<00:49, 286.22it/s]"
     ]
    },
    {
     "name": "stderr",
     "output_type": "stream",
     "text": [
      "\r",
      " 40%|███▉      | 9275/23478 [00:29<00:50, 283.31it/s]"
     ]
    },
    {
     "name": "stderr",
     "output_type": "stream",
     "text": [
      "\r",
      " 40%|███▉      | 9306/23478 [00:29<00:48, 289.37it/s]"
     ]
    },
    {
     "name": "stderr",
     "output_type": "stream",
     "text": [
      "\r",
      " 40%|███▉      | 9336/23478 [00:29<00:50, 279.87it/s]"
     ]
    },
    {
     "name": "stderr",
     "output_type": "stream",
     "text": [
      "\r",
      " 40%|███▉      | 9365/23478 [00:29<00:50, 279.41it/s]"
     ]
    },
    {
     "name": "stderr",
     "output_type": "stream",
     "text": [
      "\r",
      " 40%|████      | 9394/23478 [00:29<00:52, 266.56it/s]"
     ]
    },
    {
     "name": "stderr",
     "output_type": "stream",
     "text": [
      "\r",
      " 40%|████      | 9424/23478 [00:30<00:51, 274.87it/s]"
     ]
    },
    {
     "name": "stderr",
     "output_type": "stream",
     "text": [
      "\r",
      " 40%|████      | 9452/23478 [00:30<00:51, 270.91it/s]"
     ]
    },
    {
     "name": "stderr",
     "output_type": "stream",
     "text": [
      "\r",
      " 40%|████      | 9485/23478 [00:30<00:49, 284.64it/s]"
     ]
    },
    {
     "name": "stderr",
     "output_type": "stream",
     "text": [
      "\r",
      " 41%|████      | 9520/23478 [00:30<00:46, 303.00it/s]"
     ]
    },
    {
     "name": "stderr",
     "output_type": "stream",
     "text": [
      "\r",
      " 41%|████      | 9552/23478 [00:30<00:45, 306.52it/s]"
     ]
    },
    {
     "name": "stderr",
     "output_type": "stream",
     "text": [
      "\r",
      " 41%|████      | 9583/23478 [00:30<00:45, 305.39it/s]"
     ]
    },
    {
     "name": "stderr",
     "output_type": "stream",
     "text": [
      "\r",
      " 41%|████      | 9614/23478 [00:30<00:46, 299.70it/s]"
     ]
    },
    {
     "name": "stderr",
     "output_type": "stream",
     "text": [
      "\r",
      " 41%|████      | 9645/23478 [00:30<00:48, 283.08it/s]"
     ]
    },
    {
     "name": "stderr",
     "output_type": "stream",
     "text": [
      "\r",
      " 41%|████      | 9674/23478 [00:30<00:51, 269.71it/s]"
     ]
    },
    {
     "name": "stderr",
     "output_type": "stream",
     "text": [
      "\r",
      " 41%|████▏     | 9710/23478 [00:31<00:46, 293.73it/s]"
     ]
    },
    {
     "name": "stderr",
     "output_type": "stream",
     "text": [
      "\r",
      " 41%|████▏     | 9740/23478 [00:31<00:51, 268.70it/s]"
     ]
    },
    {
     "name": "stderr",
     "output_type": "stream",
     "text": [
      "\r",
      " 42%|████▏     | 9776/23478 [00:31<00:47, 290.20it/s]"
     ]
    },
    {
     "name": "stderr",
     "output_type": "stream",
     "text": [
      "\r",
      " 42%|████▏     | 9806/23478 [00:31<00:48, 279.83it/s]"
     ]
    },
    {
     "name": "stderr",
     "output_type": "stream",
     "text": [
      "\r",
      " 42%|████▏     | 9847/23478 [00:31<00:43, 310.82it/s]"
     ]
    },
    {
     "name": "stderr",
     "output_type": "stream",
     "text": [
      "\r",
      " 42%|████▏     | 9879/23478 [00:31<00:43, 310.28it/s]"
     ]
    },
    {
     "name": "stderr",
     "output_type": "stream",
     "text": [
      "\r",
      " 42%|████▏     | 9917/23478 [00:31<00:41, 329.53it/s]"
     ]
    },
    {
     "name": "stderr",
     "output_type": "stream",
     "text": [
      "\r",
      " 42%|████▏     | 9961/23478 [00:31<00:37, 360.29it/s]"
     ]
    },
    {
     "name": "stderr",
     "output_type": "stream",
     "text": [
      "\r",
      " 43%|████▎     | 9998/23478 [00:31<00:37, 357.15it/s]"
     ]
    },
    {
     "name": "stderr",
     "output_type": "stream",
     "text": [
      "\r",
      " 43%|████▎     | 10046/23478 [00:32<00:34, 388.71it/s]"
     ]
    },
    {
     "name": "stderr",
     "output_type": "stream",
     "text": [
      "\r",
      " 43%|████▎     | 10086/23478 [00:32<00:36, 362.62it/s]"
     ]
    },
    {
     "name": "stderr",
     "output_type": "stream",
     "text": [
      "\r",
      " 43%|████▎     | 10127/23478 [00:32<00:35, 374.80it/s]"
     ]
    },
    {
     "name": "stderr",
     "output_type": "stream",
     "text": [
      "\r",
      " 43%|████▎     | 10165/23478 [00:32<00:35, 374.25it/s]"
     ]
    },
    {
     "name": "stderr",
     "output_type": "stream",
     "text": [
      "\r",
      " 43%|████▎     | 10203/23478 [00:32<00:36, 367.65it/s]"
     ]
    },
    {
     "name": "stderr",
     "output_type": "stream",
     "text": [
      "\r",
      " 44%|████▎     | 10240/23478 [00:32<00:37, 350.39it/s]"
     ]
    },
    {
     "name": "stderr",
     "output_type": "stream",
     "text": [
      "\r",
      " 44%|████▍     | 10278/23478 [00:32<00:36, 357.61it/s]"
     ]
    },
    {
     "name": "stderr",
     "output_type": "stream",
     "text": [
      "\r",
      " 44%|████▍     | 10314/23478 [00:32<00:38, 338.53it/s]"
     ]
    },
    {
     "name": "stderr",
     "output_type": "stream",
     "text": [
      "\r",
      " 44%|████▍     | 10350/23478 [00:32<00:38, 344.36it/s]"
     ]
    },
    {
     "name": "stderr",
     "output_type": "stream",
     "text": [
      "\r",
      " 44%|████▍     | 10385/23478 [00:32<00:38, 342.43it/s]"
     ]
    },
    {
     "name": "stderr",
     "output_type": "stream",
     "text": [
      "\r",
      " 44%|████▍     | 10420/23478 [00:33<00:39, 328.65it/s]"
     ]
    },
    {
     "name": "stderr",
     "output_type": "stream",
     "text": [
      "\r",
      " 45%|████▍     | 10454/23478 [00:33<00:44, 295.90it/s]"
     ]
    },
    {
     "name": "stderr",
     "output_type": "stream",
     "text": [
      "\r",
      " 45%|████▍     | 10489/23478 [00:33<00:42, 307.60it/s]"
     ]
    },
    {
     "name": "stderr",
     "output_type": "stream",
     "text": [
      "\r",
      " 45%|████▍     | 10521/23478 [00:33<00:42, 308.42it/s]"
     ]
    },
    {
     "name": "stderr",
     "output_type": "stream",
     "text": [
      "\r",
      " 45%|████▌     | 10567/23478 [00:33<00:36, 349.41it/s]"
     ]
    },
    {
     "name": "stderr",
     "output_type": "stream",
     "text": [
      "\r",
      " 45%|████▌     | 10603/23478 [00:33<00:36, 349.09it/s]"
     ]
    },
    {
     "name": "stderr",
     "output_type": "stream",
     "text": [
      "\r",
      " 45%|████▌     | 10639/23478 [00:33<00:39, 322.91it/s]"
     ]
    },
    {
     "name": "stderr",
     "output_type": "stream",
     "text": [
      "\r",
      " 45%|████▌     | 10676/23478 [00:33<00:40, 317.65it/s]"
     ]
    },
    {
     "name": "stderr",
     "output_type": "stream",
     "text": [
      "\r",
      " 46%|████▌     | 10716/23478 [00:34<00:37, 339.60it/s]"
     ]
    },
    {
     "name": "stderr",
     "output_type": "stream",
     "text": [
      "\r",
      " 46%|████▌     | 10757/23478 [00:34<00:35, 359.05it/s]"
     ]
    },
    {
     "name": "stderr",
     "output_type": "stream",
     "text": [
      "\r",
      " 46%|████▌     | 10806/23478 [00:34<00:32, 395.67it/s]"
     ]
    },
    {
     "name": "stderr",
     "output_type": "stream",
     "text": [
      "\r",
      " 46%|████▌     | 10850/23478 [00:34<00:31, 398.54it/s]"
     ]
    },
    {
     "name": "stderr",
     "output_type": "stream",
     "text": [
      "\r",
      " 46%|████▋     | 10891/23478 [00:34<00:32, 387.27it/s]"
     ]
    },
    {
     "name": "stderr",
     "output_type": "stream",
     "text": [
      "\r",
      " 47%|████▋     | 10931/23478 [00:34<00:34, 358.92it/s]"
     ]
    },
    {
     "name": "stderr",
     "output_type": "stream",
     "text": [
      "\r",
      " 47%|████▋     | 10970/23478 [00:34<00:34, 365.56it/s]"
     ]
    },
    {
     "name": "stderr",
     "output_type": "stream",
     "text": [
      "\r",
      " 47%|████▋     | 11009/23478 [00:34<00:33, 367.51it/s]"
     ]
    },
    {
     "name": "stderr",
     "output_type": "stream",
     "text": [
      "\r",
      " 47%|████▋     | 11050/23478 [00:34<00:33, 374.82it/s]"
     ]
    },
    {
     "name": "stderr",
     "output_type": "stream",
     "text": [
      "\r",
      " 47%|████▋     | 11088/23478 [00:35<00:38, 320.89it/s]"
     ]
    },
    {
     "name": "stderr",
     "output_type": "stream",
     "text": [
      "\r",
      " 47%|████▋     | 11126/23478 [00:35<00:37, 327.33it/s]"
     ]
    },
    {
     "name": "stderr",
     "output_type": "stream",
     "text": [
      "\r",
      " 48%|████▊     | 11160/23478 [00:35<00:43, 284.95it/s]"
     ]
    },
    {
     "name": "stderr",
     "output_type": "stream",
     "text": [
      "\r",
      " 48%|████▊     | 11194/23478 [00:35<00:41, 298.24it/s]"
     ]
    },
    {
     "name": "stderr",
     "output_type": "stream",
     "text": [
      "\r",
      " 48%|████▊     | 11226/23478 [00:35<00:45, 268.05it/s]"
     ]
    },
    {
     "name": "stderr",
     "output_type": "stream",
     "text": [
      "\r",
      " 48%|████▊     | 11266/23478 [00:35<00:40, 300.14it/s]"
     ]
    },
    {
     "name": "stderr",
     "output_type": "stream",
     "text": [
      "\r",
      " 48%|████▊     | 11298/23478 [00:35<00:41, 293.26it/s]"
     ]
    },
    {
     "name": "stderr",
     "output_type": "stream",
     "text": [
      "\r",
      " 48%|████▊     | 11386/23478 [00:35<00:27, 447.11it/s]"
     ]
    },
    {
     "name": "stderr",
     "output_type": "stream",
     "text": [
      "\r",
      " 49%|████▉     | 11466/23478 [00:35<00:22, 540.97it/s]"
     ]
    },
    {
     "name": "stderr",
     "output_type": "stream",
     "text": [
      "\r",
      " 49%|████▉     | 11527/23478 [00:36<00:21, 558.58it/s]"
     ]
    },
    {
     "name": "stderr",
     "output_type": "stream",
     "text": [
      "\r",
      " 49%|████▉     | 11585/23478 [00:36<00:22, 531.60it/s]"
     ]
    },
    {
     "name": "stderr",
     "output_type": "stream",
     "text": [
      "\r",
      " 50%|████▉     | 11640/23478 [00:36<00:24, 489.37it/s]"
     ]
    },
    {
     "name": "stderr",
     "output_type": "stream",
     "text": [
      "\r",
      " 50%|████▉     | 11691/23478 [00:36<00:28, 417.16it/s]"
     ]
    },
    {
     "name": "stderr",
     "output_type": "stream",
     "text": [
      "\r",
      " 50%|████▉     | 11736/23478 [00:36<00:28, 406.63it/s]"
     ]
    },
    {
     "name": "stderr",
     "output_type": "stream",
     "text": [
      "\r",
      " 50%|█████     | 11787/23478 [00:36<00:27, 422.71it/s]"
     ]
    },
    {
     "name": "stderr",
     "output_type": "stream",
     "text": [
      "\r",
      " 51%|█████     | 11864/23478 [00:36<00:22, 512.18it/s]"
     ]
    },
    {
     "name": "stderr",
     "output_type": "stream",
     "text": [
      "\r",
      " 51%|█████     | 11926/23478 [00:36<00:21, 539.39it/s]"
     ]
    },
    {
     "name": "stderr",
     "output_type": "stream",
     "text": [
      "\r",
      " 51%|█████     | 12002/23478 [00:37<00:19, 599.56it/s]"
     ]
    },
    {
     "name": "stderr",
     "output_type": "stream",
     "text": [
      "\r",
      " 51%|█████▏    | 12064/23478 [00:37<00:21, 538.61it/s]"
     ]
    },
    {
     "name": "stderr",
     "output_type": "stream",
     "text": [
      "\r",
      " 52%|█████▏    | 12125/23478 [00:37<00:20, 553.41it/s]"
     ]
    },
    {
     "name": "stderr",
     "output_type": "stream",
     "text": [
      "\r",
      " 52%|█████▏    | 12187/23478 [00:37<00:19, 567.21it/s]"
     ]
    },
    {
     "name": "stderr",
     "output_type": "stream",
     "text": [
      "\r",
      " 52%|█████▏    | 12260/23478 [00:37<00:18, 611.51it/s]"
     ]
    },
    {
     "name": "stderr",
     "output_type": "stream",
     "text": [
      "\r",
      " 53%|█████▎    | 12335/23478 [00:37<00:17, 645.69it/s]"
     ]
    },
    {
     "name": "stderr",
     "output_type": "stream",
     "text": [
      "\r",
      " 53%|█████▎    | 12406/23478 [00:37<00:17, 639.93it/s]"
     ]
    },
    {
     "name": "stderr",
     "output_type": "stream",
     "text": [
      "\r",
      " 53%|█████▎    | 12489/23478 [00:37<00:15, 690.20it/s]"
     ]
    },
    {
     "name": "stderr",
     "output_type": "stream",
     "text": [
      "\r",
      " 53%|█████▎    | 12559/23478 [00:37<00:16, 673.82it/s]"
     ]
    },
    {
     "name": "stderr",
     "output_type": "stream",
     "text": [
      "\r",
      " 54%|█████▍    | 12627/23478 [00:38<00:17, 627.05it/s]"
     ]
    },
    {
     "name": "stderr",
     "output_type": "stream",
     "text": [
      "\r",
      " 54%|█████▍    | 12691/23478 [00:38<00:17, 605.83it/s]"
     ]
    },
    {
     "name": "stderr",
     "output_type": "stream",
     "text": [
      "\r",
      " 54%|█████▍    | 12762/23478 [00:38<00:17, 627.74it/s]"
     ]
    },
    {
     "name": "stderr",
     "output_type": "stream",
     "text": [
      "\r",
      " 55%|█████▍    | 12826/23478 [00:38<00:19, 548.50it/s]"
     ]
    },
    {
     "name": "stderr",
     "output_type": "stream",
     "text": [
      "\r",
      " 55%|█████▍    | 12885/23478 [00:38<00:19, 549.74it/s]"
     ]
    },
    {
     "name": "stderr",
     "output_type": "stream",
     "text": [
      "\r",
      " 55%|█████▌    | 12942/23478 [00:38<00:19, 528.37it/s]"
     ]
    },
    {
     "name": "stderr",
     "output_type": "stream",
     "text": [
      "\r",
      " 55%|█████▌    | 12996/23478 [00:38<00:23, 443.63it/s]"
     ]
    },
    {
     "name": "stderr",
     "output_type": "stream",
     "text": [
      "\r",
      " 56%|█████▌    | 13043/23478 [00:38<00:26, 392.57it/s]"
     ]
    },
    {
     "name": "stderr",
     "output_type": "stream",
     "text": [
      "\r",
      " 56%|█████▌    | 13091/23478 [00:39<00:25, 411.65it/s]"
     ]
    },
    {
     "name": "stderr",
     "output_type": "stream",
     "text": [
      "\r",
      " 56%|█████▌    | 13140/23478 [00:39<00:24, 428.54it/s]"
     ]
    },
    {
     "name": "stderr",
     "output_type": "stream",
     "text": [
      "\r",
      " 56%|█████▌    | 13197/23478 [00:39<00:22, 457.62it/s]"
     ]
    },
    {
     "name": "stderr",
     "output_type": "stream",
     "text": [
      "\r",
      " 56%|█████▋    | 13247/23478 [00:39<00:21, 467.34it/s]"
     ]
    },
    {
     "name": "stderr",
     "output_type": "stream",
     "text": [
      "\r",
      " 57%|█████▋    | 13305/23478 [00:39<00:20, 497.58it/s]"
     ]
    },
    {
     "name": "stderr",
     "output_type": "stream",
     "text": [
      "\r",
      " 57%|█████▋    | 13360/23478 [00:39<00:21, 481.57it/s]"
     ]
    },
    {
     "name": "stderr",
     "output_type": "stream",
     "text": [
      "\r",
      " 57%|█████▋    | 13410/23478 [00:39<00:20, 482.63it/s]"
     ]
    },
    {
     "name": "stderr",
     "output_type": "stream",
     "text": [
      "\r",
      " 58%|█████▊    | 13503/23478 [00:39<00:16, 604.76it/s]"
     ]
    },
    {
     "name": "stderr",
     "output_type": "stream",
     "text": [
      "\r",
      " 58%|█████▊    | 13565/23478 [00:40<00:20, 481.50it/s]"
     ]
    },
    {
     "name": "stderr",
     "output_type": "stream",
     "text": [
      "\r",
      " 58%|█████▊    | 13618/23478 [00:40<00:20, 483.18it/s]"
     ]
    },
    {
     "name": "stderr",
     "output_type": "stream",
     "text": [
      "\r",
      " 58%|█████▊    | 13670/23478 [00:40<00:21, 461.18it/s]"
     ]
    },
    {
     "name": "stderr",
     "output_type": "stream",
     "text": [
      "\r",
      " 58%|█████▊    | 13719/23478 [00:40<00:22, 441.16it/s]"
     ]
    },
    {
     "name": "stderr",
     "output_type": "stream",
     "text": [
      "\r",
      " 59%|█████▊    | 13766/23478 [00:40<00:21, 446.24it/s]"
     ]
    },
    {
     "name": "stderr",
     "output_type": "stream",
     "text": [
      "\r",
      " 59%|█████▉    | 13814/23478 [00:40<00:21, 451.98it/s]"
     ]
    },
    {
     "name": "stderr",
     "output_type": "stream",
     "text": [
      "\r",
      " 59%|█████▉    | 13861/23478 [00:40<00:21, 448.88it/s]"
     ]
    },
    {
     "name": "stderr",
     "output_type": "stream",
     "text": [
      "\r",
      " 59%|█████▉    | 13907/23478 [00:40<00:25, 379.32it/s]"
     ]
    },
    {
     "name": "stderr",
     "output_type": "stream",
     "text": [
      "\r",
      " 59%|█████▉    | 13948/23478 [00:40<00:25, 377.08it/s]"
     ]
    },
    {
     "name": "stderr",
     "output_type": "stream",
     "text": [
      "\r",
      " 60%|█████▉    | 13991/23478 [00:41<00:24, 389.54it/s]"
     ]
    },
    {
     "name": "stderr",
     "output_type": "stream",
     "text": [
      "\r",
      " 60%|█████▉    | 14048/23478 [00:41<00:21, 436.82it/s]"
     ]
    },
    {
     "name": "stderr",
     "output_type": "stream",
     "text": [
      "\r",
      " 60%|██████    | 14094/23478 [00:41<00:21, 426.63it/s]"
     ]
    },
    {
     "name": "stderr",
     "output_type": "stream",
     "text": [
      "\r",
      " 60%|██████    | 14144/23478 [00:41<00:20, 444.97it/s]"
     ]
    },
    {
     "name": "stderr",
     "output_type": "stream",
     "text": [
      "\r",
      " 60%|██████    | 14190/23478 [00:41<00:21, 438.93it/s]"
     ]
    },
    {
     "name": "stderr",
     "output_type": "stream",
     "text": [
      "\r",
      " 61%|██████    | 14238/23478 [00:41<00:20, 448.92it/s]"
     ]
    },
    {
     "name": "stderr",
     "output_type": "stream",
     "text": [
      "\r",
      " 61%|██████    | 14286/23478 [00:41<00:20, 457.43it/s]"
     ]
    },
    {
     "name": "stderr",
     "output_type": "stream",
     "text": [
      "\r",
      " 61%|██████    | 14344/23478 [00:41<00:18, 491.48it/s]"
     ]
    },
    {
     "name": "stderr",
     "output_type": "stream",
     "text": [
      "\r",
      " 61%|██████▏   | 14394/23478 [00:41<00:19, 463.42it/s]"
     ]
    },
    {
     "name": "stderr",
     "output_type": "stream",
     "text": [
      "\r",
      " 62%|██████▏   | 14441/23478 [00:42<00:20, 444.09it/s]"
     ]
    },
    {
     "name": "stderr",
     "output_type": "stream",
     "text": [
      "\r",
      " 62%|██████▏   | 14486/23478 [00:42<00:21, 413.63it/s]"
     ]
    },
    {
     "name": "stderr",
     "output_type": "stream",
     "text": [
      "\r",
      " 62%|██████▏   | 14540/23478 [00:42<00:19, 447.50it/s]"
     ]
    },
    {
     "name": "stderr",
     "output_type": "stream",
     "text": [
      "\r",
      " 62%|██████▏   | 14587/23478 [00:42<00:19, 452.46it/s]"
     ]
    },
    {
     "name": "stderr",
     "output_type": "stream",
     "text": [
      "\r",
      " 62%|██████▏   | 14633/23478 [00:42<00:21, 403.79it/s]"
     ]
    },
    {
     "name": "stderr",
     "output_type": "stream",
     "text": [
      "\r",
      " 63%|██████▎   | 14675/23478 [00:42<00:24, 365.14it/s]"
     ]
    },
    {
     "name": "stderr",
     "output_type": "stream",
     "text": [
      "\r",
      " 63%|██████▎   | 14717/23478 [00:42<00:23, 377.21it/s]"
     ]
    },
    {
     "name": "stderr",
     "output_type": "stream",
     "text": [
      "\r",
      " 63%|██████▎   | 14756/23478 [00:42<00:25, 337.74it/s]"
     ]
    },
    {
     "name": "stderr",
     "output_type": "stream",
     "text": [
      "\r",
      " 63%|██████▎   | 14792/23478 [00:42<00:25, 338.58it/s]"
     ]
    },
    {
     "name": "stderr",
     "output_type": "stream",
     "text": [
      "\r",
      " 63%|██████▎   | 14827/23478 [00:43<00:26, 321.35it/s]"
     ]
    },
    {
     "name": "stderr",
     "output_type": "stream",
     "text": [
      "\r",
      " 63%|██████▎   | 14863/23478 [00:43<00:26, 330.86it/s]"
     ]
    },
    {
     "name": "stderr",
     "output_type": "stream",
     "text": [
      "\r",
      " 63%|██████▎   | 14897/23478 [00:43<00:25, 333.14it/s]"
     ]
    },
    {
     "name": "stderr",
     "output_type": "stream",
     "text": [
      "\r",
      " 64%|██████▎   | 14931/23478 [00:43<00:28, 301.77it/s]"
     ]
    },
    {
     "name": "stderr",
     "output_type": "stream",
     "text": [
      "\r",
      " 64%|██████▎   | 14963/23478 [00:43<00:28, 301.98it/s]"
     ]
    },
    {
     "name": "stderr",
     "output_type": "stream",
     "text": [
      "\r",
      " 64%|██████▍   | 15007/23478 [00:43<00:25, 334.19it/s]"
     ]
    },
    {
     "name": "stderr",
     "output_type": "stream",
     "text": [
      "\r",
      " 64%|██████▍   | 15046/23478 [00:43<00:24, 338.80it/s]"
     ]
    },
    {
     "name": "stderr",
     "output_type": "stream",
     "text": [
      "\r",
      " 64%|██████▍   | 15088/23478 [00:43<00:23, 359.40it/s]"
     ]
    },
    {
     "name": "stderr",
     "output_type": "stream",
     "text": [
      "\r",
      " 64%|██████▍   | 15125/23478 [00:43<00:23, 359.94it/s]"
     ]
    },
    {
     "name": "stderr",
     "output_type": "stream",
     "text": [
      "\r",
      " 65%|██████▍   | 15177/23478 [00:44<00:20, 405.28it/s]"
     ]
    },
    {
     "name": "stderr",
     "output_type": "stream",
     "text": [
      "\r",
      " 65%|██████▍   | 15224/23478 [00:44<00:19, 420.27it/s]"
     ]
    },
    {
     "name": "stderr",
     "output_type": "stream",
     "text": [
      "\r",
      " 65%|██████▌   | 15280/23478 [00:44<00:17, 459.01it/s]"
     ]
    },
    {
     "name": "stderr",
     "output_type": "stream",
     "text": [
      "\r",
      " 65%|██████▌   | 15331/23478 [00:44<00:17, 472.18it/s]"
     ]
    },
    {
     "name": "stderr",
     "output_type": "stream",
     "text": [
      "\r",
      " 66%|██████▌   | 15379/23478 [00:44<00:17, 451.43it/s]"
     ]
    },
    {
     "name": "stderr",
     "output_type": "stream",
     "text": [
      "\r",
      " 66%|██████▌   | 15425/23478 [00:44<00:18, 441.04it/s]"
     ]
    },
    {
     "name": "stderr",
     "output_type": "stream",
     "text": [
      "\r",
      " 66%|██████▌   | 15470/23478 [00:44<00:18, 439.34it/s]"
     ]
    },
    {
     "name": "stderr",
     "output_type": "stream",
     "text": [
      "\r",
      " 66%|██████▌   | 15515/23478 [00:44<00:19, 416.39it/s]"
     ]
    },
    {
     "name": "stderr",
     "output_type": "stream",
     "text": [
      "\r",
      " 66%|██████▋   | 15557/23478 [00:44<00:19, 402.85it/s]"
     ]
    },
    {
     "name": "stderr",
     "output_type": "stream",
     "text": [
      "\r",
      " 66%|██████▋   | 15598/23478 [00:45<00:20, 384.50it/s]"
     ]
    },
    {
     "name": "stderr",
     "output_type": "stream",
     "text": [
      "\r",
      " 67%|██████▋   | 15639/23478 [00:45<00:20, 382.60it/s]"
     ]
    },
    {
     "name": "stderr",
     "output_type": "stream",
     "text": [
      "\r",
      " 67%|██████▋   | 15684/23478 [00:45<00:19, 400.57it/s]"
     ]
    },
    {
     "name": "stderr",
     "output_type": "stream",
     "text": [
      "\r",
      " 67%|██████▋   | 15732/23478 [00:45<00:18, 421.73it/s]"
     ]
    },
    {
     "name": "stderr",
     "output_type": "stream",
     "text": [
      "\r",
      " 67%|██████▋   | 15776/23478 [00:45<00:18, 424.84it/s]"
     ]
    },
    {
     "name": "stderr",
     "output_type": "stream",
     "text": [
      "\r",
      " 67%|██████▋   | 15819/23478 [00:45<00:20, 366.93it/s]"
     ]
    },
    {
     "name": "stderr",
     "output_type": "stream",
     "text": [
      "\r",
      " 68%|██████▊   | 15858/23478 [00:45<00:21, 356.33it/s]"
     ]
    },
    {
     "name": "stderr",
     "output_type": "stream",
     "text": [
      "\r",
      " 68%|██████▊   | 15898/23478 [00:45<00:20, 367.63it/s]"
     ]
    },
    {
     "name": "stderr",
     "output_type": "stream",
     "text": [
      "\r",
      " 68%|██████▊   | 15936/23478 [00:46<00:22, 331.81it/s]"
     ]
    },
    {
     "name": "stderr",
     "output_type": "stream",
     "text": [
      "\r",
      " 68%|██████▊   | 15971/23478 [00:46<00:24, 309.47it/s]"
     ]
    },
    {
     "name": "stderr",
     "output_type": "stream",
     "text": [
      "\r",
      " 68%|██████▊   | 16004/23478 [00:46<00:23, 311.75it/s]"
     ]
    },
    {
     "name": "stderr",
     "output_type": "stream",
     "text": [
      "\r",
      " 68%|██████▊   | 16036/23478 [00:46<00:24, 308.08it/s]"
     ]
    },
    {
     "name": "stderr",
     "output_type": "stream",
     "text": [
      "\r",
      " 68%|██████▊   | 16082/23478 [00:46<00:21, 343.66it/s]"
     ]
    },
    {
     "name": "stderr",
     "output_type": "stream",
     "text": [
      "\r",
      " 69%|██████▊   | 16125/23478 [00:46<00:20, 366.38it/s]"
     ]
    },
    {
     "name": "stderr",
     "output_type": "stream",
     "text": [
      "\r",
      " 69%|██████▉   | 16169/23478 [00:46<00:18, 385.41it/s]"
     ]
    },
    {
     "name": "stderr",
     "output_type": "stream",
     "text": [
      "\r",
      " 69%|██████▉   | 16250/23478 [00:46<00:14, 500.82it/s]"
     ]
    },
    {
     "name": "stderr",
     "output_type": "stream",
     "text": [
      "\r",
      " 70%|██████▉   | 16329/23478 [00:46<00:12, 581.58it/s]"
     ]
    },
    {
     "name": "stderr",
     "output_type": "stream",
     "text": [
      "\r",
      " 70%|██████▉   | 16388/23478 [00:46<00:12, 572.86it/s]"
     ]
    },
    {
     "name": "stderr",
     "output_type": "stream",
     "text": [
      "\r",
      " 70%|███████   | 16446/23478 [00:47<00:13, 534.40it/s]"
     ]
    },
    {
     "name": "stderr",
     "output_type": "stream",
     "text": [
      "\r",
      " 70%|███████   | 16501/23478 [00:47<00:13, 517.51it/s]"
     ]
    },
    {
     "name": "stderr",
     "output_type": "stream",
     "text": [
      "\r",
      " 71%|███████   | 16556/23478 [00:47<00:13, 522.00it/s]"
     ]
    },
    {
     "name": "stderr",
     "output_type": "stream",
     "text": [
      "\r",
      " 71%|███████   | 16609/23478 [00:47<00:14, 472.97it/s]"
     ]
    },
    {
     "name": "stderr",
     "output_type": "stream",
     "text": [
      "\r",
      " 71%|███████   | 16658/23478 [00:47<00:14, 464.94it/s]"
     ]
    },
    {
     "name": "stderr",
     "output_type": "stream",
     "text": [
      "\r",
      " 71%|███████   | 16706/23478 [00:47<00:15, 442.27it/s]"
     ]
    },
    {
     "name": "stderr",
     "output_type": "stream",
     "text": [
      "\r",
      " 71%|███████▏  | 16751/23478 [00:47<00:16, 415.35it/s]"
     ]
    },
    {
     "name": "stderr",
     "output_type": "stream",
     "text": [
      "\r",
      " 72%|███████▏  | 16794/23478 [00:47<00:18, 366.33it/s]"
     ]
    },
    {
     "name": "stderr",
     "output_type": "stream",
     "text": [
      "\r",
      " 72%|███████▏  | 16832/23478 [00:48<00:18, 362.99it/s]"
     ]
    },
    {
     "name": "stderr",
     "output_type": "stream",
     "text": [
      "\r",
      " 72%|███████▏  | 16870/23478 [00:48<00:18, 352.04it/s]"
     ]
    },
    {
     "name": "stderr",
     "output_type": "stream",
     "text": [
      "\r",
      " 72%|███████▏  | 16906/23478 [00:48<00:20, 316.53it/s]"
     ]
    },
    {
     "name": "stderr",
     "output_type": "stream",
     "text": [
      "\r",
      " 72%|███████▏  | 16939/23478 [00:48<00:21, 297.24it/s]"
     ]
    },
    {
     "name": "stderr",
     "output_type": "stream",
     "text": [
      "\r",
      " 72%|███████▏  | 16970/23478 [00:48<00:22, 290.76it/s]"
     ]
    },
    {
     "name": "stderr",
     "output_type": "stream",
     "text": [
      "\r",
      " 72%|███████▏  | 17000/23478 [00:48<00:22, 290.48it/s]"
     ]
    },
    {
     "name": "stderr",
     "output_type": "stream",
     "text": [
      "\r",
      " 73%|███████▎  | 17030/23478 [00:48<00:22, 280.39it/s]"
     ]
    },
    {
     "name": "stderr",
     "output_type": "stream",
     "text": [
      "\r",
      " 73%|███████▎  | 17059/23478 [00:48<00:24, 257.16it/s]"
     ]
    },
    {
     "name": "stderr",
     "output_type": "stream",
     "text": [
      "\r",
      " 73%|███████▎  | 17096/23478 [00:49<00:22, 284.59it/s]"
     ]
    },
    {
     "name": "stderr",
     "output_type": "stream",
     "text": [
      "\r",
      " 73%|███████▎  | 17140/23478 [00:49<00:19, 320.11it/s]"
     ]
    },
    {
     "name": "stderr",
     "output_type": "stream",
     "text": [
      "\r",
      " 73%|███████▎  | 17173/23478 [00:49<00:20, 314.78it/s]"
     ]
    },
    {
     "name": "stderr",
     "output_type": "stream",
     "text": [
      "\r",
      " 73%|███████▎  | 17215/23478 [00:49<00:18, 341.69it/s]"
     ]
    },
    {
     "name": "stderr",
     "output_type": "stream",
     "text": [
      "\r",
      " 74%|███████▎  | 17258/23478 [00:49<00:16, 365.99it/s]"
     ]
    },
    {
     "name": "stderr",
     "output_type": "stream",
     "text": [
      "\r",
      " 74%|███████▎  | 17296/23478 [00:49<00:17, 355.68it/s]"
     ]
    },
    {
     "name": "stderr",
     "output_type": "stream",
     "text": [
      "\r",
      " 74%|███████▍  | 17332/23478 [00:49<00:18, 336.67it/s]"
     ]
    },
    {
     "name": "stderr",
     "output_type": "stream",
     "text": [
      "\r",
      " 74%|███████▍  | 17380/23478 [00:49<00:16, 374.73it/s]"
     ]
    },
    {
     "name": "stderr",
     "output_type": "stream",
     "text": [
      "\r",
      " 74%|███████▍  | 17419/23478 [00:49<00:18, 332.02it/s]"
     ]
    },
    {
     "name": "stderr",
     "output_type": "stream",
     "text": [
      "\r",
      " 74%|███████▍  | 17454/23478 [00:50<00:18, 329.75it/s]"
     ]
    },
    {
     "name": "stderr",
     "output_type": "stream",
     "text": [
      "\r",
      " 74%|███████▍  | 17488/23478 [00:50<00:19, 308.52it/s]"
     ]
    },
    {
     "name": "stderr",
     "output_type": "stream",
     "text": [
      "\r",
      " 75%|███████▍  | 17520/23478 [00:50<00:20, 291.88it/s]"
     ]
    },
    {
     "name": "stderr",
     "output_type": "stream",
     "text": [
      "\r",
      " 75%|███████▍  | 17550/23478 [00:50<00:20, 283.03it/s]"
     ]
    },
    {
     "name": "stderr",
     "output_type": "stream",
     "text": [
      "\r",
      " 75%|███████▍  | 17583/23478 [00:50<00:20, 288.94it/s]"
     ]
    },
    {
     "name": "stderr",
     "output_type": "stream",
     "text": [
      "\r",
      " 75%|███████▌  | 17613/23478 [00:50<00:21, 275.61it/s]"
     ]
    },
    {
     "name": "stderr",
     "output_type": "stream",
     "text": [
      "\r",
      " 75%|███████▌  | 17641/23478 [00:50<00:22, 258.79it/s]"
     ]
    },
    {
     "name": "stderr",
     "output_type": "stream",
     "text": [
      "\r",
      " 75%|███████▌  | 17668/23478 [00:50<00:22, 257.94it/s]"
     ]
    },
    {
     "name": "stderr",
     "output_type": "stream",
     "text": [
      "\r",
      " 75%|███████▌  | 17700/23478 [00:50<00:21, 271.50it/s]"
     ]
    },
    {
     "name": "stderr",
     "output_type": "stream",
     "text": [
      "\r",
      " 76%|███████▌  | 17728/23478 [00:51<00:21, 270.00it/s]"
     ]
    },
    {
     "name": "stderr",
     "output_type": "stream",
     "text": [
      "\r",
      " 76%|███████▌  | 17758/23478 [00:51<00:20, 277.39it/s]"
     ]
    },
    {
     "name": "stderr",
     "output_type": "stream",
     "text": [
      "\r",
      " 76%|███████▌  | 17786/23478 [00:51<00:20, 275.64it/s]"
     ]
    },
    {
     "name": "stderr",
     "output_type": "stream",
     "text": [
      "\r",
      " 76%|███████▌  | 17814/23478 [00:51<00:21, 265.93it/s]"
     ]
    },
    {
     "name": "stderr",
     "output_type": "stream",
     "text": [
      "\r",
      " 76%|███████▌  | 17848/23478 [00:51<00:21, 259.97it/s]"
     ]
    },
    {
     "name": "stderr",
     "output_type": "stream",
     "text": [
      "\r",
      " 76%|███████▌  | 17884/23478 [00:51<00:19, 285.35it/s]"
     ]
    },
    {
     "name": "stderr",
     "output_type": "stream",
     "text": [
      "\r",
      " 76%|███████▋  | 17923/23478 [00:51<00:17, 311.81it/s]"
     ]
    },
    {
     "name": "stderr",
     "output_type": "stream",
     "text": [
      "\r",
      " 77%|███████▋  | 17965/23478 [00:51<00:16, 340.03it/s]"
     ]
    },
    {
     "name": "stderr",
     "output_type": "stream",
     "text": [
      "\r",
      " 77%|███████▋  | 18002/23478 [00:51<00:15, 347.53it/s]"
     ]
    },
    {
     "name": "stderr",
     "output_type": "stream",
     "text": [
      "\r",
      " 77%|███████▋  | 18041/23478 [00:52<00:15, 358.27it/s]"
     ]
    },
    {
     "name": "stderr",
     "output_type": "stream",
     "text": [
      "\r",
      " 77%|███████▋  | 18078/23478 [00:52<00:15, 358.29it/s]"
     ]
    },
    {
     "name": "stderr",
     "output_type": "stream",
     "text": [
      "\r",
      " 77%|███████▋  | 18115/23478 [00:52<00:15, 352.19it/s]"
     ]
    },
    {
     "name": "stderr",
     "output_type": "stream",
     "text": [
      "\r",
      " 77%|███████▋  | 18151/23478 [00:52<00:15, 349.92it/s]"
     ]
    },
    {
     "name": "stderr",
     "output_type": "stream",
     "text": [
      "\r",
      " 77%|███████▋  | 18187/23478 [00:52<00:15, 341.08it/s]"
     ]
    },
    {
     "name": "stderr",
     "output_type": "stream",
     "text": [
      "\r",
      " 78%|███████▊  | 18222/23478 [00:52<00:16, 319.01it/s]"
     ]
    },
    {
     "name": "stderr",
     "output_type": "stream",
     "text": [
      "\r",
      " 78%|███████▊  | 18259/23478 [00:52<00:15, 332.50it/s]"
     ]
    },
    {
     "name": "stderr",
     "output_type": "stream",
     "text": [
      "\r",
      " 78%|███████▊  | 18297/23478 [00:52<00:15, 341.29it/s]"
     ]
    },
    {
     "name": "stderr",
     "output_type": "stream",
     "text": [
      "\r",
      " 78%|███████▊  | 18332/23478 [00:52<00:15, 322.83it/s]"
     ]
    },
    {
     "name": "stderr",
     "output_type": "stream",
     "text": [
      "\r",
      " 78%|███████▊  | 18372/23478 [00:53<00:14, 343.49it/s]"
     ]
    },
    {
     "name": "stderr",
     "output_type": "stream",
     "text": [
      "\r",
      " 78%|███████▊  | 18407/23478 [00:53<00:15, 331.17it/s]"
     ]
    },
    {
     "name": "stderr",
     "output_type": "stream",
     "text": [
      "\r",
      " 79%|███████▊  | 18446/23478 [00:53<00:14, 347.55it/s]"
     ]
    },
    {
     "name": "stderr",
     "output_type": "stream",
     "text": [
      "\r",
      " 79%|███████▊  | 18485/23478 [00:53<00:13, 358.44it/s]"
     ]
    },
    {
     "name": "stderr",
     "output_type": "stream",
     "text": [
      "\r",
      " 79%|███████▉  | 18522/23478 [00:53<00:13, 358.00it/s]"
     ]
    },
    {
     "name": "stderr",
     "output_type": "stream",
     "text": [
      "\r",
      " 79%|███████▉  | 18559/23478 [00:53<00:13, 360.12it/s]"
     ]
    },
    {
     "name": "stderr",
     "output_type": "stream",
     "text": [
      "\r",
      " 79%|███████▉  | 18599/23478 [00:53<00:13, 370.40it/s]"
     ]
    },
    {
     "name": "stderr",
     "output_type": "stream",
     "text": [
      "\r",
      " 79%|███████▉  | 18637/23478 [00:53<00:13, 349.10it/s]"
     ]
    },
    {
     "name": "stderr",
     "output_type": "stream",
     "text": [
      "\r",
      " 80%|███████▉  | 18673/23478 [00:53<00:14, 338.97it/s]"
     ]
    },
    {
     "name": "stderr",
     "output_type": "stream",
     "text": [
      "\r",
      " 80%|███████▉  | 18708/23478 [00:54<00:14, 335.57it/s]"
     ]
    },
    {
     "name": "stderr",
     "output_type": "stream",
     "text": [
      "\r",
      " 80%|███████▉  | 18750/23478 [00:54<00:13, 355.22it/s]"
     ]
    },
    {
     "name": "stderr",
     "output_type": "stream",
     "text": [
      "\r",
      " 80%|████████  | 18786/23478 [00:54<00:14, 333.13it/s]"
     ]
    },
    {
     "name": "stderr",
     "output_type": "stream",
     "text": [
      "\r",
      " 80%|████████  | 18827/23478 [00:54<00:13, 352.03it/s]"
     ]
    },
    {
     "name": "stderr",
     "output_type": "stream",
     "text": [
      "\r",
      " 80%|████████  | 18874/23478 [00:54<00:12, 377.00it/s]"
     ]
    },
    {
     "name": "stderr",
     "output_type": "stream",
     "text": [
      "\r",
      " 81%|████████  | 18938/23478 [00:54<00:10, 447.80it/s]"
     ]
    },
    {
     "name": "stderr",
     "output_type": "stream",
     "text": [
      "\r",
      " 81%|████████  | 18999/23478 [00:54<00:09, 493.07it/s]"
     ]
    },
    {
     "name": "stderr",
     "output_type": "stream",
     "text": [
      "\r",
      " 81%|████████  | 19049/23478 [00:54<00:09, 487.17it/s]"
     ]
    },
    {
     "name": "stderr",
     "output_type": "stream",
     "text": [
      "\r",
      " 81%|████████▏ | 19102/23478 [00:54<00:08, 494.20it/s]"
     ]
    },
    {
     "name": "stderr",
     "output_type": "stream",
     "text": [
      "\r",
      " 82%|████████▏ | 19152/23478 [00:54<00:09, 475.52it/s]"
     ]
    },
    {
     "name": "stderr",
     "output_type": "stream",
     "text": [
      "\r",
      " 82%|████████▏ | 19211/23478 [00:55<00:08, 507.03it/s]"
     ]
    },
    {
     "name": "stderr",
     "output_type": "stream",
     "text": [
      "\r",
      " 82%|████████▏ | 19263/23478 [00:55<00:08, 508.29it/s]"
     ]
    },
    {
     "name": "stderr",
     "output_type": "stream",
     "text": [
      "\r",
      " 82%|████████▏ | 19323/23478 [00:55<00:07, 532.01it/s]"
     ]
    },
    {
     "name": "stderr",
     "output_type": "stream",
     "text": [
      "\r",
      " 83%|████████▎ | 19380/23478 [00:55<00:07, 539.93it/s]"
     ]
    },
    {
     "name": "stderr",
     "output_type": "stream",
     "text": [
      "\r",
      " 83%|████████▎ | 19435/23478 [00:55<00:07, 514.19it/s]"
     ]
    },
    {
     "name": "stderr",
     "output_type": "stream",
     "text": [
      "\r",
      " 83%|████████▎ | 19487/23478 [00:55<00:08, 482.26it/s]"
     ]
    },
    {
     "name": "stderr",
     "output_type": "stream",
     "text": [
      "\r",
      " 83%|████████▎ | 19549/23478 [00:55<00:07, 519.51it/s]"
     ]
    },
    {
     "name": "stderr",
     "output_type": "stream",
     "text": [
      "\r",
      " 84%|████████▎ | 19620/23478 [00:55<00:07, 520.64it/s]"
     ]
    },
    {
     "name": "stderr",
     "output_type": "stream",
     "text": [
      "\r",
      " 84%|████████▍ | 19688/23478 [00:55<00:06, 562.59it/s]"
     ]
    },
    {
     "name": "stderr",
     "output_type": "stream",
     "text": [
      "\r",
      " 84%|████████▍ | 19746/23478 [00:56<00:06, 553.97it/s]"
     ]
    },
    {
     "name": "stderr",
     "output_type": "stream",
     "text": [
      "\r",
      " 84%|████████▍ | 19817/23478 [00:56<00:06, 597.18it/s]"
     ]
    },
    {
     "name": "stderr",
     "output_type": "stream",
     "text": [
      "\r",
      " 85%|████████▍ | 19878/23478 [00:56<00:07, 494.49it/s]"
     ]
    },
    {
     "name": "stderr",
     "output_type": "stream",
     "text": [
      "\r",
      " 85%|████████▍ | 19931/23478 [00:56<00:07, 480.79it/s]"
     ]
    },
    {
     "name": "stderr",
     "output_type": "stream",
     "text": [
      "\r",
      " 85%|████████▌ | 19982/23478 [00:56<00:07, 454.92it/s]"
     ]
    },
    {
     "name": "stderr",
     "output_type": "stream",
     "text": [
      "\r",
      " 85%|████████▌ | 20030/23478 [00:56<00:07, 456.31it/s]"
     ]
    },
    {
     "name": "stderr",
     "output_type": "stream",
     "text": [
      "\r",
      " 86%|████████▌ | 20077/23478 [00:56<00:07, 439.07it/s]"
     ]
    },
    {
     "name": "stderr",
     "output_type": "stream",
     "text": [
      "\r",
      " 86%|████████▌ | 20122/23478 [00:56<00:07, 424.27it/s]"
     ]
    },
    {
     "name": "stderr",
     "output_type": "stream",
     "text": [
      "\r",
      " 86%|████████▌ | 20172/23478 [00:57<00:07, 442.87it/s]"
     ]
    },
    {
     "name": "stderr",
     "output_type": "stream",
     "text": [
      "\r",
      " 86%|████████▌ | 20233/23478 [00:57<00:06, 486.84it/s]"
     ]
    },
    {
     "name": "stderr",
     "output_type": "stream",
     "text": [
      "\r",
      " 86%|████████▋ | 20283/23478 [00:57<00:06, 469.59it/s]"
     ]
    },
    {
     "name": "stderr",
     "output_type": "stream",
     "text": [
      "\r",
      " 87%|████████▋ | 20331/23478 [00:57<00:07, 436.60it/s]"
     ]
    },
    {
     "name": "stderr",
     "output_type": "stream",
     "text": [
      "\r",
      " 87%|████████▋ | 20376/23478 [00:57<00:07, 421.94it/s]"
     ]
    },
    {
     "name": "stderr",
     "output_type": "stream",
     "text": [
      "\r",
      " 87%|████████▋ | 20419/23478 [00:57<00:07, 423.72it/s]"
     ]
    },
    {
     "name": "stderr",
     "output_type": "stream",
     "text": [
      "\r",
      " 87%|████████▋ | 20462/23478 [00:57<00:07, 416.69it/s]"
     ]
    },
    {
     "name": "stderr",
     "output_type": "stream",
     "text": [
      "\r",
      " 87%|████████▋ | 20510/23478 [00:57<00:06, 433.46it/s]"
     ]
    },
    {
     "name": "stderr",
     "output_type": "stream",
     "text": [
      "\r",
      " 88%|████████▊ | 20556/23478 [00:57<00:06, 439.16it/s]"
     ]
    },
    {
     "name": "stderr",
     "output_type": "stream",
     "text": [
      "\r",
      " 88%|████████▊ | 20601/23478 [00:58<00:07, 395.72it/s]"
     ]
    },
    {
     "name": "stderr",
     "output_type": "stream",
     "text": [
      "\r",
      " 88%|████████▊ | 20643/23478 [00:58<00:07, 401.63it/s]"
     ]
    },
    {
     "name": "stderr",
     "output_type": "stream",
     "text": [
      "\r",
      " 88%|████████▊ | 20690/23478 [00:58<00:06, 420.00it/s]"
     ]
    },
    {
     "name": "stderr",
     "output_type": "stream",
     "text": [
      "\r",
      " 88%|████████▊ | 20733/23478 [00:58<00:06, 400.52it/s]"
     ]
    },
    {
     "name": "stderr",
     "output_type": "stream",
     "text": [
      "\r",
      " 89%|████████▊ | 20781/23478 [00:58<00:06, 420.79it/s]"
     ]
    },
    {
     "name": "stderr",
     "output_type": "stream",
     "text": [
      "\r",
      " 89%|████████▊ | 20824/23478 [00:58<00:06, 405.39it/s]"
     ]
    },
    {
     "name": "stderr",
     "output_type": "stream",
     "text": [
      "\r",
      " 89%|████████▉ | 20865/23478 [00:58<00:06, 396.76it/s]"
     ]
    },
    {
     "name": "stderr",
     "output_type": "stream",
     "text": [
      "\r",
      " 89%|████████▉ | 20914/23478 [00:58<00:06, 413.47it/s]"
     ]
    },
    {
     "name": "stderr",
     "output_type": "stream",
     "text": [
      "\r",
      " 89%|████████▉ | 20957/23478 [00:58<00:06, 417.51it/s]"
     ]
    },
    {
     "name": "stderr",
     "output_type": "stream",
     "text": [
      "\r",
      " 89%|████████▉ | 20999/23478 [00:59<00:06, 394.75it/s]"
     ]
    },
    {
     "name": "stderr",
     "output_type": "stream",
     "text": [
      "\r",
      " 90%|████████▉ | 21039/23478 [00:59<00:06, 385.50it/s]"
     ]
    },
    {
     "name": "stderr",
     "output_type": "stream",
     "text": [
      "\r",
      " 90%|████████▉ | 21086/23478 [00:59<00:06, 398.46it/s]"
     ]
    },
    {
     "name": "stderr",
     "output_type": "stream",
     "text": [
      "\r",
      " 90%|████████▉ | 21127/23478 [00:59<00:06, 365.77it/s]"
     ]
    },
    {
     "name": "stderr",
     "output_type": "stream",
     "text": [
      "\r",
      " 90%|█████████ | 21167/23478 [00:59<00:06, 373.69it/s]"
     ]
    },
    {
     "name": "stderr",
     "output_type": "stream",
     "text": [
      "\r",
      " 90%|█████████ | 21205/23478 [00:59<00:07, 320.47it/s]"
     ]
    },
    {
     "name": "stderr",
     "output_type": "stream",
     "text": [
      "\r",
      " 90%|█████████ | 21239/23478 [00:59<00:07, 305.91it/s]"
     ]
    },
    {
     "name": "stderr",
     "output_type": "stream",
     "text": [
      "\r",
      " 91%|█████████ | 21273/23478 [00:59<00:07, 313.84it/s]"
     ]
    },
    {
     "name": "stderr",
     "output_type": "stream",
     "text": [
      "\r",
      " 91%|█████████ | 21306/23478 [00:59<00:07, 306.77it/s]"
     ]
    },
    {
     "name": "stderr",
     "output_type": "stream",
     "text": [
      "\r",
      " 91%|█████████ | 21338/23478 [01:00<00:07, 301.39it/s]"
     ]
    },
    {
     "name": "stderr",
     "output_type": "stream",
     "text": [
      "\r",
      " 91%|█████████ | 21369/23478 [01:00<00:07, 290.67it/s]"
     ]
    },
    {
     "name": "stderr",
     "output_type": "stream",
     "text": [
      "\r",
      " 91%|█████████ | 21401/23478 [01:00<00:06, 297.61it/s]"
     ]
    },
    {
     "name": "stderr",
     "output_type": "stream",
     "text": [
      "\r",
      " 91%|█████████▏| 21432/23478 [01:00<00:06, 300.33it/s]"
     ]
    },
    {
     "name": "stderr",
     "output_type": "stream",
     "text": [
      "\r",
      " 91%|█████████▏| 21475/23478 [01:00<00:05, 335.93it/s]"
     ]
    },
    {
     "name": "stderr",
     "output_type": "stream",
     "text": [
      "\r",
      " 92%|█████████▏| 21509/23478 [01:00<00:06, 325.67it/s]"
     ]
    },
    {
     "name": "stderr",
     "output_type": "stream",
     "text": [
      "\r",
      " 92%|█████████▏| 21542/23478 [01:00<00:05, 325.44it/s]"
     ]
    },
    {
     "name": "stderr",
     "output_type": "stream",
     "text": [
      "\r",
      " 92%|█████████▏| 21579/23478 [01:00<00:05, 336.74it/s]"
     ]
    },
    {
     "name": "stderr",
     "output_type": "stream",
     "text": [
      "\r",
      " 92%|█████████▏| 21613/23478 [01:00<00:05, 335.98it/s]"
     ]
    },
    {
     "name": "stderr",
     "output_type": "stream",
     "text": [
      "\r",
      " 92%|█████████▏| 21650/23478 [01:01<00:05, 340.61it/s]"
     ]
    },
    {
     "name": "stderr",
     "output_type": "stream",
     "text": [
      "\r",
      " 92%|█████████▏| 21685/23478 [01:01<00:05, 327.17it/s]"
     ]
    },
    {
     "name": "stderr",
     "output_type": "stream",
     "text": [
      "\r",
      " 93%|█████████▎| 21718/23478 [01:01<00:05, 312.40it/s]"
     ]
    },
    {
     "name": "stderr",
     "output_type": "stream",
     "text": [
      "\r",
      " 93%|█████████▎| 21750/23478 [01:01<00:06, 278.37it/s]"
     ]
    },
    {
     "name": "stderr",
     "output_type": "stream",
     "text": [
      "\r",
      " 93%|█████████▎| 21793/23478 [01:01<00:05, 317.26it/s]"
     ]
    },
    {
     "name": "stderr",
     "output_type": "stream",
     "text": [
      "\r",
      " 93%|█████████▎| 21833/23478 [01:01<00:04, 338.87it/s]"
     ]
    },
    {
     "name": "stderr",
     "output_type": "stream",
     "text": [
      "\r",
      " 93%|█████████▎| 21868/23478 [01:01<00:05, 306.93it/s]"
     ]
    },
    {
     "name": "stderr",
     "output_type": "stream",
     "text": [
      "\r",
      " 93%|█████████▎| 21902/23478 [01:01<00:05, 313.91it/s]"
     ]
    },
    {
     "name": "stderr",
     "output_type": "stream",
     "text": [
      "\r",
      " 93%|█████████▎| 21935/23478 [01:02<00:05, 268.40it/s]"
     ]
    },
    {
     "name": "stderr",
     "output_type": "stream",
     "text": [
      "\r",
      " 94%|█████████▎| 21964/23478 [01:02<00:06, 249.50it/s]"
     ]
    },
    {
     "name": "stderr",
     "output_type": "stream",
     "text": [
      "\r",
      " 94%|█████████▎| 21991/23478 [01:02<00:07, 198.18it/s]"
     ]
    },
    {
     "name": "stderr",
     "output_type": "stream",
     "text": [
      "\r",
      " 94%|█████████▍| 22014/23478 [01:02<00:07, 187.90it/s]"
     ]
    },
    {
     "name": "stderr",
     "output_type": "stream",
     "text": [
      "\r",
      " 94%|█████████▍| 22035/23478 [01:02<00:07, 189.66it/s]"
     ]
    },
    {
     "name": "stderr",
     "output_type": "stream",
     "text": [
      "\r",
      " 94%|█████████▍| 22056/23478 [01:02<00:07, 180.66it/s]"
     ]
    },
    {
     "name": "stderr",
     "output_type": "stream",
     "text": [
      "\r",
      " 94%|█████████▍| 22075/23478 [01:02<00:08, 168.30it/s]"
     ]
    },
    {
     "name": "stderr",
     "output_type": "stream",
     "text": [
      "\r",
      " 94%|█████████▍| 22098/23478 [01:03<00:07, 182.39it/s]"
     ]
    },
    {
     "name": "stderr",
     "output_type": "stream",
     "text": [
      "\r",
      " 94%|█████████▍| 22119/23478 [01:03<00:07, 184.93it/s]"
     ]
    },
    {
     "name": "stderr",
     "output_type": "stream",
     "text": [
      "\r",
      " 94%|█████████▍| 22149/23478 [01:03<00:06, 210.97it/s]"
     ]
    },
    {
     "name": "stderr",
     "output_type": "stream",
     "text": [
      "\r",
      " 94%|█████████▍| 22179/23478 [01:03<00:05, 230.63it/s]"
     ]
    },
    {
     "name": "stderr",
     "output_type": "stream",
     "text": [
      "\r",
      " 95%|█████████▍| 22203/23478 [01:03<00:05, 232.17it/s]"
     ]
    },
    {
     "name": "stderr",
     "output_type": "stream",
     "text": [
      "\r",
      " 95%|█████████▍| 22227/23478 [01:03<00:05, 213.08it/s]"
     ]
    },
    {
     "name": "stderr",
     "output_type": "stream",
     "text": [
      "\r",
      " 95%|█████████▍| 22252/23478 [01:03<00:05, 221.62it/s]"
     ]
    },
    {
     "name": "stderr",
     "output_type": "stream",
     "text": [
      "\r",
      " 95%|█████████▍| 22283/23478 [01:03<00:04, 239.09it/s]"
     ]
    },
    {
     "name": "stderr",
     "output_type": "stream",
     "text": [
      "\r",
      " 95%|█████████▌| 22308/23478 [01:03<00:05, 205.97it/s]"
     ]
    },
    {
     "name": "stderr",
     "output_type": "stream",
     "text": [
      "\r",
      " 95%|█████████▌| 22337/23478 [01:04<00:05, 219.78it/s]"
     ]
    },
    {
     "name": "stderr",
     "output_type": "stream",
     "text": [
      "\r",
      " 95%|█████████▌| 22360/23478 [01:04<00:05, 196.97it/s]"
     ]
    },
    {
     "name": "stderr",
     "output_type": "stream",
     "text": [
      "\r",
      " 95%|█████████▌| 22384/23478 [01:04<00:05, 207.41it/s]"
     ]
    },
    {
     "name": "stderr",
     "output_type": "stream",
     "text": [
      "\r",
      " 95%|█████████▌| 22406/23478 [01:04<00:05, 209.65it/s]"
     ]
    },
    {
     "name": "stderr",
     "output_type": "stream",
     "text": [
      "\r",
      " 96%|█████████▌| 22428/23478 [01:04<00:05, 208.41it/s]"
     ]
    },
    {
     "name": "stderr",
     "output_type": "stream",
     "text": [
      "\r",
      " 96%|█████████▌| 22450/23478 [01:04<00:04, 206.83it/s]"
     ]
    },
    {
     "name": "stderr",
     "output_type": "stream",
     "text": [
      "\r",
      " 96%|█████████▌| 22471/23478 [01:04<00:05, 198.07it/s]"
     ]
    },
    {
     "name": "stderr",
     "output_type": "stream",
     "text": [
      "\r",
      " 96%|█████████▌| 22492/23478 [01:04<00:05, 181.45it/s]"
     ]
    },
    {
     "name": "stderr",
     "output_type": "stream",
     "text": [
      "\r",
      " 96%|█████████▌| 22511/23478 [01:04<00:05, 180.91it/s]"
     ]
    },
    {
     "name": "stderr",
     "output_type": "stream",
     "text": [
      "\r",
      " 96%|█████████▌| 22533/23478 [01:05<00:05, 185.58it/s]"
     ]
    },
    {
     "name": "stderr",
     "output_type": "stream",
     "text": [
      "\r",
      " 96%|█████████▌| 22552/23478 [01:05<00:05, 174.34it/s]"
     ]
    },
    {
     "name": "stderr",
     "output_type": "stream",
     "text": [
      "\r",
      " 96%|█████████▌| 22597/23478 [01:05<00:03, 245.96it/s]"
     ]
    },
    {
     "name": "stderr",
     "output_type": "stream",
     "text": [
      "\r",
      " 96%|█████████▋| 22628/23478 [01:05<00:03, 251.26it/s]"
     ]
    },
    {
     "name": "stderr",
     "output_type": "stream",
     "text": [
      "\r",
      " 97%|█████████▋| 22659/23478 [01:05<00:03, 264.15it/s]"
     ]
    },
    {
     "name": "stderr",
     "output_type": "stream",
     "text": [
      "\r",
      " 97%|█████████▋| 22690/23478 [01:05<00:02, 271.92it/s]"
     ]
    },
    {
     "name": "stderr",
     "output_type": "stream",
     "text": [
      "\r",
      " 97%|█████████▋| 22718/23478 [01:05<00:03, 198.84it/s]"
     ]
    },
    {
     "name": "stderr",
     "output_type": "stream",
     "text": [
      "\r",
      " 97%|█████████▋| 22746/23478 [01:06<00:03, 216.24it/s]"
     ]
    },
    {
     "name": "stderr",
     "output_type": "stream",
     "text": [
      "\r",
      " 97%|█████████▋| 22771/23478 [01:06<00:03, 187.24it/s]"
     ]
    },
    {
     "name": "stderr",
     "output_type": "stream",
     "text": [
      "\r",
      " 97%|█████████▋| 22793/23478 [01:06<00:03, 191.35it/s]"
     ]
    },
    {
     "name": "stderr",
     "output_type": "stream",
     "text": [
      "\r",
      " 97%|█████████▋| 22814/23478 [01:06<00:03, 188.40it/s]"
     ]
    },
    {
     "name": "stderr",
     "output_type": "stream",
     "text": [
      "\r",
      " 97%|█████████▋| 22842/23478 [01:06<00:03, 210.77it/s]"
     ]
    },
    {
     "name": "stderr",
     "output_type": "stream",
     "text": [
      "\r",
      " 97%|█████████▋| 22865/23478 [01:06<00:03, 188.27it/s]"
     ]
    },
    {
     "name": "stderr",
     "output_type": "stream",
     "text": [
      "\r",
      " 97%|█████████▋| 22888/23478 [01:06<00:02, 198.23it/s]"
     ]
    },
    {
     "name": "stderr",
     "output_type": "stream",
     "text": [
      "\r",
      " 98%|█████████▊| 22909/23478 [01:06<00:02, 195.74it/s]"
     ]
    },
    {
     "name": "stderr",
     "output_type": "stream",
     "text": [
      "\r",
      " 98%|█████████▊| 22936/23478 [01:06<00:02, 214.23it/s]"
     ]
    },
    {
     "name": "stderr",
     "output_type": "stream",
     "text": [
      "\r",
      " 98%|█████████▊| 22966/23478 [01:07<00:02, 236.95it/s]"
     ]
    },
    {
     "name": "stderr",
     "output_type": "stream",
     "text": [
      "\r",
      " 98%|█████████▊| 22991/23478 [01:07<00:02, 221.13it/s]"
     ]
    },
    {
     "name": "stderr",
     "output_type": "stream",
     "text": [
      "\r",
      " 98%|█████████▊| 23014/23478 [01:07<00:02, 212.41it/s]"
     ]
    },
    {
     "name": "stderr",
     "output_type": "stream",
     "text": [
      "\r",
      " 98%|█████████▊| 23041/23478 [01:07<00:01, 227.36it/s]"
     ]
    },
    {
     "name": "stderr",
     "output_type": "stream",
     "text": [
      "\r",
      " 98%|█████████▊| 23066/23478 [01:07<00:01, 227.52it/s]"
     ]
    },
    {
     "name": "stderr",
     "output_type": "stream",
     "text": [
      "\r",
      " 98%|█████████▊| 23090/23478 [01:07<00:01, 200.15it/s]"
     ]
    },
    {
     "name": "stderr",
     "output_type": "stream",
     "text": [
      "\r",
      " 98%|█████████▊| 23120/23478 [01:07<00:01, 221.18it/s]"
     ]
    },
    {
     "name": "stderr",
     "output_type": "stream",
     "text": [
      "\r",
      " 99%|█████████▊| 23143/23478 [01:07<00:01, 201.58it/s]"
     ]
    },
    {
     "name": "stderr",
     "output_type": "stream",
     "text": [
      "\r",
      " 99%|█████████▊| 23171/23478 [01:08<00:01, 221.25it/s]"
     ]
    },
    {
     "name": "stderr",
     "output_type": "stream",
     "text": [
      "\r",
      " 99%|█████████▉| 23195/23478 [01:08<00:01, 201.38it/s]"
     ]
    },
    {
     "name": "stderr",
     "output_type": "stream",
     "text": [
      "\r",
      " 99%|█████████▉| 23220/23478 [01:08<00:01, 213.22it/s]"
     ]
    },
    {
     "name": "stderr",
     "output_type": "stream",
     "text": [
      "\r",
      " 99%|█████████▉| 23243/23478 [01:08<00:01, 185.94it/s]"
     ]
    },
    {
     "name": "stderr",
     "output_type": "stream",
     "text": [
      "\r",
      " 99%|█████████▉| 23263/23478 [01:08<00:01, 168.53it/s]"
     ]
    },
    {
     "name": "stderr",
     "output_type": "stream",
     "text": [
      "\r",
      " 99%|█████████▉| 23282/23478 [01:08<00:01, 168.60it/s]"
     ]
    },
    {
     "name": "stderr",
     "output_type": "stream",
     "text": [
      "\r",
      " 99%|█████████▉| 23301/23478 [01:08<00:01, 171.83it/s]"
     ]
    },
    {
     "name": "stderr",
     "output_type": "stream",
     "text": [
      "\r",
      " 99%|█████████▉| 23319/23478 [01:08<00:00, 169.63it/s]"
     ]
    },
    {
     "name": "stderr",
     "output_type": "stream",
     "text": [
      "\r",
      " 99%|█████████▉| 23342/23478 [01:09<00:00, 185.36it/s]"
     ]
    },
    {
     "name": "stderr",
     "output_type": "stream",
     "text": [
      "\r",
      "100%|█████████▉| 23376/23478 [01:09<00:00, 225.85it/s]"
     ]
    },
    {
     "name": "stderr",
     "output_type": "stream",
     "text": [
      "\r",
      "100%|█████████▉| 23408/23478 [01:09<00:00, 244.56it/s]"
     ]
    },
    {
     "name": "stderr",
     "output_type": "stream",
     "text": [
      "\r",
      "100%|█████████▉| 23434/23478 [01:09<00:00, 246.51it/s]"
     ]
    },
    {
     "name": "stderr",
     "output_type": "stream",
     "text": [
      "\r",
      "100%|█████████▉| 23465/23478 [01:09<00:00, 264.18it/s]"
     ]
    },
    {
     "name": "stderr",
     "output_type": "stream",
     "text": [
      "\r",
      "100%|██████████| 23478/23478 [01:09<00:00, 337.67it/s]"
     ]
    },
    {
     "name": "stderr",
     "output_type": "stream",
     "text": [
      "\n"
     ]
    },
    {
     "name": "stderr",
     "output_type": "stream",
     "text": [
      "\r",
      "  0%|          | 0/23478 [00:00<?, ?it/s]"
     ]
    },
    {
     "name": "stderr",
     "output_type": "stream",
     "text": [
      "\r",
      "100%|██████████| 23478/23478 [00:00<00:00, 530524.68it/s]"
     ]
    },
    {
     "name": "stderr",
     "output_type": "stream",
     "text": [
      "\n"
     ]
    }
   ],
   "source": [
    "# По статье надо токенизировать и сделать все буквы строчными\n",
    "news_df['words'] = news_df['text'].progress_apply(lambda x: tokenizing(x))\n",
    "news_df['length'] = news_df['words'].progress_apply(lambda x: len(x))"
   ]
  },
  {
   "cell_type": "code",
   "execution_count": null,
   "metadata": {
    "colab": {
     "base_uri": "https://localhost:8080/"
    },
    "gradient": {
     "editing": false,
     "id": "799d940d-e3cd-4814-bef4-356c658f497e",
     "kernelId": "407d7b5d-9d7c-4b74-9c76-5aec0e6cb98b"
    },
    "id": "VcRJK-0hbiUN",
    "outputId": "b7deefa8-daee-4e4b-8156-60722334c84c"
   },
   "outputs": [
    {
     "name": "stderr",
     "output_type": "stream",
     "text": [
      "\r",
      "  0%|          | 0/23478 [00:00<?, ?it/s]"
     ]
    },
    {
     "name": "stderr",
     "output_type": "stream",
     "text": [
      "\r",
      "100%|██████████| 23478/23478 [00:00<00:00, 670985.75it/s]"
     ]
    },
    {
     "name": "stderr",
     "output_type": "stream",
     "text": [
      "\n"
     ]
    }
   ],
   "source": [
    "subject_id = {'Government News':0.0, 'Middle-east':1.0, 'News': 2.0, 'US_News': 3.0, 'left-news' : 4.0, 'politics': 5.0}\n",
    "news_df['class'] = news_df['subject'].progress_apply(lambda x: subject_id[x])"
   ]
  },
  {
   "cell_type": "markdown",
   "metadata": {
    "gradient": {
     "editing": false,
     "id": "503dad0a-25d6-449b-916c-ae0a35dc3b35",
     "kernelId": "407d7b5d-9d7c-4b74-9c76-5aec0e6cb98b"
    },
    "id": "DZSNkNCj2uAv"
   },
   "source": [
    "## Смотрим на данные"
   ]
  },
  {
   "cell_type": "code",
   "execution_count": null,
   "metadata": {
    "colab": {
     "base_uri": "https://localhost:8080/",
     "height": 641
    },
    "gradient": {
     "editing": false,
     "id": "b449d564-ef2b-4599-a557-3275665e5e85",
     "kernelId": "407d7b5d-9d7c-4b74-9c76-5aec0e6cb98b"
    },
    "id": "f2j2LeH-0W1r",
    "outputId": "fad7abe7-9db7-4dc5-e096-487dd45b44c4"
   },
   "outputs": [
    {
     "data": {
      "text/html": [
       "<div>\n",
       "<style scoped>\n",
       "    .dataframe tbody tr th:only-of-type {\n",
       "        vertical-align: middle;\n",
       "    }\n",
       "\n",
       "    .dataframe tbody tr th {\n",
       "        vertical-align: top;\n",
       "    }\n",
       "\n",
       "    .dataframe thead th {\n",
       "        text-align: right;\n",
       "    }\n",
       "</style>\n",
       "<table border=\"1\" class=\"dataframe\">\n",
       "  <thead>\n",
       "    <tr style=\"text-align: right;\">\n",
       "      <th></th>\n",
       "      <th>title</th>\n",
       "      <th>text</th>\n",
       "      <th>subject</th>\n",
       "      <th>date</th>\n",
       "      <th>words</th>\n",
       "      <th>length</th>\n",
       "      <th>class</th>\n",
       "    </tr>\n",
       "  </thead>\n",
       "  <tbody>\n",
       "    <tr>\n",
       "      <th>0</th>\n",
       "      <td>Donald Trump Sends Out Embarrassing New Year’...</td>\n",
       "      <td>Donald Trump just couldn t wish all Americans ...</td>\n",
       "      <td>News</td>\n",
       "      <td>December 31, 2017</td>\n",
       "      <td>[donald, trump, just, couldn, t, wish, all, am...</td>\n",
       "      <td>447</td>\n",
       "      <td>2.0</td>\n",
       "    </tr>\n",
       "    <tr>\n",
       "      <th>1</th>\n",
       "      <td>Drunk Bragging Trump Staffer Started Russian ...</td>\n",
       "      <td>House Intelligence Committee Chairman Devin Nu...</td>\n",
       "      <td>News</td>\n",
       "      <td>December 31, 2017</td>\n",
       "      <td>[house, intelligence, committee, chairman, dev...</td>\n",
       "      <td>292</td>\n",
       "      <td>2.0</td>\n",
       "    </tr>\n",
       "    <tr>\n",
       "      <th>2</th>\n",
       "      <td>Sheriff David Clarke Becomes An Internet Joke...</td>\n",
       "      <td>On Friday, it was revealed that former Milwauk...</td>\n",
       "      <td>News</td>\n",
       "      <td>December 30, 2017</td>\n",
       "      <td>[on, friday, it, was, revealed, that, former, ...</td>\n",
       "      <td>526</td>\n",
       "      <td>2.0</td>\n",
       "    </tr>\n",
       "    <tr>\n",
       "      <th>3</th>\n",
       "      <td>Trump Is So Obsessed He Even Has Obama’s Name...</td>\n",
       "      <td>On Christmas day, Donald Trump announced that ...</td>\n",
       "      <td>News</td>\n",
       "      <td>December 29, 2017</td>\n",
       "      <td>[on, christmas, day, donald, trump, announced,...</td>\n",
       "      <td>401</td>\n",
       "      <td>2.0</td>\n",
       "    </tr>\n",
       "    <tr>\n",
       "      <th>4</th>\n",
       "      <td>Pope Francis Just Called Out Donald Trump Dur...</td>\n",
       "      <td>Pope Francis used his annual Christmas Day mes...</td>\n",
       "      <td>News</td>\n",
       "      <td>December 25, 2017</td>\n",
       "      <td>[pope, francis, used, his, annual, christmas, ...</td>\n",
       "      <td>418</td>\n",
       "      <td>2.0</td>\n",
       "    </tr>\n",
       "    <tr>\n",
       "      <th>...</th>\n",
       "      <td>...</td>\n",
       "      <td>...</td>\n",
       "      <td>...</td>\n",
       "      <td>...</td>\n",
       "      <td>...</td>\n",
       "      <td>...</td>\n",
       "      <td>...</td>\n",
       "    </tr>\n",
       "    <tr>\n",
       "      <th>23473</th>\n",
       "      <td>McPain: John McCain Furious That Iran Treated ...</td>\n",
       "      <td>21st Century Wire says As 21WIRE reported earl...</td>\n",
       "      <td>Middle-east</td>\n",
       "      <td>January 16, 2016</td>\n",
       "      <td>[century, wire, says, as, reported, earlier, t...</td>\n",
       "      <td>501</td>\n",
       "      <td>1.0</td>\n",
       "    </tr>\n",
       "    <tr>\n",
       "      <th>23474</th>\n",
       "      <td>JUSTICE? Yahoo Settles E-mail Privacy Class-ac...</td>\n",
       "      <td>21st Century Wire says It s a familiar theme. ...</td>\n",
       "      <td>Middle-east</td>\n",
       "      <td>January 16, 2016</td>\n",
       "      <td>[century, wire, says, it, s, a, familiar, them...</td>\n",
       "      <td>284</td>\n",
       "      <td>1.0</td>\n",
       "    </tr>\n",
       "    <tr>\n",
       "      <th>23475</th>\n",
       "      <td>Sunnistan: US and Allied ‘Safe Zone’ Plan to T...</td>\n",
       "      <td>Patrick Henningsen  21st Century WireRemember ...</td>\n",
       "      <td>Middle-east</td>\n",
       "      <td>January 15, 2016</td>\n",
       "      <td>[patrick, henningsen, century, wireremember, w...</td>\n",
       "      <td>4037</td>\n",
       "      <td>1.0</td>\n",
       "    </tr>\n",
       "    <tr>\n",
       "      <th>23476</th>\n",
       "      <td>How to Blow $700 Million: Al Jazeera America F...</td>\n",
       "      <td>21st Century Wire says Al Jazeera America will...</td>\n",
       "      <td>Middle-east</td>\n",
       "      <td>January 14, 2016</td>\n",
       "      <td>[century, wire, says, al, jazeera, america, wi...</td>\n",
       "      <td>430</td>\n",
       "      <td>1.0</td>\n",
       "    </tr>\n",
       "    <tr>\n",
       "      <th>23477</th>\n",
       "      <td>10 U.S. Navy Sailors Held by Iranian Military ...</td>\n",
       "      <td>21st Century Wire says As 21WIRE predicted in ...</td>\n",
       "      <td>Middle-east</td>\n",
       "      <td>January 12, 2016</td>\n",
       "      <td>[century, wire, says, as, predicted, in, its, ...</td>\n",
       "      <td>835</td>\n",
       "      <td>1.0</td>\n",
       "    </tr>\n",
       "  </tbody>\n",
       "</table>\n",
       "<p>23478 rows × 7 columns</p>\n",
       "</div>"
      ],
      "text/plain": [
       "                                                   title  \\\n",
       "0       Donald Trump Sends Out Embarrassing New Year’...   \n",
       "1       Drunk Bragging Trump Staffer Started Russian ...   \n",
       "2       Sheriff David Clarke Becomes An Internet Joke...   \n",
       "3       Trump Is So Obsessed He Even Has Obama’s Name...   \n",
       "4       Pope Francis Just Called Out Donald Trump Dur...   \n",
       "...                                                  ...   \n",
       "23473  McPain: John McCain Furious That Iran Treated ...   \n",
       "23474  JUSTICE? Yahoo Settles E-mail Privacy Class-ac...   \n",
       "23475  Sunnistan: US and Allied ‘Safe Zone’ Plan to T...   \n",
       "23476  How to Blow $700 Million: Al Jazeera America F...   \n",
       "23477  10 U.S. Navy Sailors Held by Iranian Military ...   \n",
       "\n",
       "                                                    text      subject  \\\n",
       "0      Donald Trump just couldn t wish all Americans ...         News   \n",
       "1      House Intelligence Committee Chairman Devin Nu...         News   \n",
       "2      On Friday, it was revealed that former Milwauk...         News   \n",
       "3      On Christmas day, Donald Trump announced that ...         News   \n",
       "4      Pope Francis used his annual Christmas Day mes...         News   \n",
       "...                                                  ...          ...   \n",
       "23473  21st Century Wire says As 21WIRE reported earl...  Middle-east   \n",
       "23474  21st Century Wire says It s a familiar theme. ...  Middle-east   \n",
       "23475  Patrick Henningsen  21st Century WireRemember ...  Middle-east   \n",
       "23476  21st Century Wire says Al Jazeera America will...  Middle-east   \n",
       "23477  21st Century Wire says As 21WIRE predicted in ...  Middle-east   \n",
       "\n",
       "                    date                                              words  \\\n",
       "0      December 31, 2017  [donald, trump, just, couldn, t, wish, all, am...   \n",
       "1      December 31, 2017  [house, intelligence, committee, chairman, dev...   \n",
       "2      December 30, 2017  [on, friday, it, was, revealed, that, former, ...   \n",
       "3      December 29, 2017  [on, christmas, day, donald, trump, announced,...   \n",
       "4      December 25, 2017  [pope, francis, used, his, annual, christmas, ...   \n",
       "...                  ...                                                ...   \n",
       "23473   January 16, 2016  [century, wire, says, as, reported, earlier, t...   \n",
       "23474   January 16, 2016  [century, wire, says, it, s, a, familiar, them...   \n",
       "23475   January 15, 2016  [patrick, henningsen, century, wireremember, w...   \n",
       "23476   January 14, 2016  [century, wire, says, al, jazeera, america, wi...   \n",
       "23477   January 12, 2016  [century, wire, says, as, predicted, in, its, ...   \n",
       "\n",
       "       length  class  \n",
       "0         447    2.0  \n",
       "1         292    2.0  \n",
       "2         526    2.0  \n",
       "3         401    2.0  \n",
       "4         418    2.0  \n",
       "...       ...    ...  \n",
       "23473     501    1.0  \n",
       "23474     284    1.0  \n",
       "23475    4037    1.0  \n",
       "23476     430    1.0  \n",
       "23477     835    1.0  \n",
       "\n",
       "[23478 rows x 7 columns]"
      ]
     },
     "execution_count": 10,
     "metadata": {},
     "output_type": "execute_result"
    }
   ],
   "source": [
    "news_df"
   ]
  },
  {
   "cell_type": "code",
   "execution_count": null,
   "metadata": {
    "colab": {
     "base_uri": "https://localhost:8080/"
    },
    "gradient": {
     "editing": false,
     "id": "d3a7438f-c4d7-4b37-a3f6-da082a5fe734",
     "kernelId": "407d7b5d-9d7c-4b74-9c76-5aec0e6cb98b"
    },
    "id": "j4ITA9rU1GiS",
    "outputId": "19eb41df-a1ae-4300-b957-c3304e2e7653"
   },
   "outputs": [
    {
     "data": {
      "text/plain": [
       "subject\n",
       "Government News    1570\n",
       "Middle-east         778\n",
       "News               9050\n",
       "US_News             783\n",
       "left-news          4459\n",
       "politics           6838\n",
       "dtype: int64"
      ]
     },
     "execution_count": 11,
     "metadata": {},
     "output_type": "execute_result"
    }
   ],
   "source": [
    "news_df.groupby('subject').size()"
   ]
  },
  {
   "cell_type": "markdown",
   "metadata": {
    "gradient": {
     "editing": false,
     "id": "09335d09-99b1-4414-9cbd-c96c1ff343ed",
     "kernelId": "407d7b5d-9d7c-4b74-9c76-5aec0e6cb98b"
    },
    "id": "P8y0rSii3Ii_"
   },
   "source": [
    "Классы разные по объёму, лучше бы сбалансировать, добавив искусственных примеров..."
   ]
  },
  {
   "cell_type": "code",
   "execution_count": null,
   "metadata": {
    "colab": {
     "base_uri": "https://localhost:8080/"
    },
    "gradient": {
     "editing": false,
     "id": "822fe6d0-51ec-4c20-9901-065ee6225e99",
     "kernelId": "407d7b5d-9d7c-4b74-9c76-5aec0e6cb98b"
    },
    "id": "RnXAUmw7DB9S",
    "outputId": "67a8d873-cd67-45a0-991e-bf43265ee766"
   },
   "outputs": [
    {
     "data": {
      "text/plain": [
       "(7815, 489.0, 685.2999999999993, 889.2999999999956)"
      ]
     },
     "execution_count": 12,
     "metadata": {},
     "output_type": "execute_result"
    }
   ],
   "source": [
    "news_df['length'].max(), news_df['length'].quantile(0.75), news_df['length'].quantile(0.9), news_df['length'].quantile(0.95)"
   ]
  },
  {
   "cell_type": "code",
   "execution_count": null,
   "metadata": {
    "gradient": {
     "editing": false,
     "id": "54d21be7-79ff-4192-921d-5ca51f21e24c",
     "kernelId": "407d7b5d-9d7c-4b74-9c76-5aec0e6cb98b"
    },
    "id": "PfOQCQYnDx3z"
   },
   "outputs": [],
   "source": [
    "# Тексты длиной до 7815 - слишком длинные\n",
    "# Чтобы не тратить память, установим максимальный размер в 512 (между 0.75 и 0.9 квантилями и степень двойки)\n",
    "maxlen = 512\n",
    "\n",
    "# Далее длинные мы обрежем, а к коротким добавим слова \"UNK\" в конце"
   ]
  },
  {
   "cell_type": "markdown",
   "metadata": {
    "gradient": {
     "editing": false,
     "id": "d7be0124-2a9e-4749-ac4f-dad0eb3f7968",
     "kernelId": "407d7b5d-9d7c-4b74-9c76-5aec0e6cb98b"
    },
    "id": "RJDPhR6h3edP"
   },
   "source": [
    "## Модель из статьи"
   ]
  },
  {
   "cell_type": "markdown",
   "metadata": {
    "gradient": {
     "editing": false,
     "id": "c62b16b6-73f7-4b8d-9ef3-0ef850d57b82",
     "kernelId": "407d7b5d-9d7c-4b74-9c76-5aec0e6cb98b"
    },
    "id": "2O9FTDgJL9Xo"
   },
   "source": [
    "### Предобрабатываем данные"
   ]
  },
  {
   "cell_type": "code",
   "execution_count": null,
   "metadata": {
    "colab": {
     "base_uri": "https://localhost:8080/",
     "height": 832
    },
    "gradient": {
     "editing": false,
     "id": "28741fcc-69ca-4869-aeb9-700524cb72d1",
     "kernelId": "407d7b5d-9d7c-4b74-9c76-5aec0e6cb98b"
    },
    "id": "maKoOQD4KkHI",
    "outputId": "094cbfdc-1f43-4c1a-876e-c6d453fe0a68"
   },
   "outputs": [
    {
     "name": "stderr",
     "output_type": "stream",
     "text": [
      "\r",
      "  0%|          | 0/23478 [00:00<?, ?it/s]"
     ]
    },
    {
     "name": "stderr",
     "output_type": "stream",
     "text": [
      "\r",
      " 27%|██▋       | 6243/23478 [00:00<00:00, 38634.56it/s]"
     ]
    },
    {
     "name": "stderr",
     "output_type": "stream",
     "text": [
      "\r",
      " 59%|█████▉    | 13944/23478 [00:00<00:00, 56383.56it/s]"
     ]
    },
    {
     "name": "stderr",
     "output_type": "stream",
     "text": [
      "\r",
      " 85%|████████▌ | 20022/23478 [00:00<00:00, 54347.99it/s]"
     ]
    },
    {
     "name": "stderr",
     "output_type": "stream",
     "text": [
      "\r",
      "100%|██████████| 23478/23478 [00:00<00:00, 49800.48it/s]"
     ]
    },
    {
     "name": "stderr",
     "output_type": "stream",
     "text": [
      "\n"
     ]
    }
   ],
   "source": [
    "#news_df['words'] и news_df['subject']\n",
    "\n",
    "# Делаем все предложения длиной 512\n",
    "# unknown = uniform random vector from [-0.25, 0.25]\n",
    "\n",
    "news_df['full_words'] = news_df['words']\n",
    "news_df['words'] = news_df['words'].progress_apply(lambda x: x[:maxlen])"
   ]
  },
  {
   "cell_type": "code",
   "execution_count": null,
   "metadata": {
    "collapsed": false,
    "gradient": {
     "editing": false,
     "id": "15534c23-9881-4c42-861a-8e5e357f0e4d",
     "kernelId": "407d7b5d-9d7c-4b74-9c76-5aec0e6cb98b",
     "source_hidden": false
    }
   },
   "outputs": [
    {
     "name": "stdout",
     "output_type": "stream",
     "text": [
      "Всего уникальных символов: 69191\n",
      "Уникальных символов, втретившихся больше 2 раз: 38385\n"
     ]
    }
   ],
   "source": [
    "# Делаем word2id и id2word\n",
    "\n",
    "vocab = Counter()\n",
    "for new in news_df['words']:\n",
    "    for word in new:\n",
    "        vocab[word] +=1\n",
    "print('Всего уникальных символов:', len(vocab))\n",
    "filtered_vocab = set()\n",
    "for word in vocab:\n",
    "    if vocab[word] > 2:\n",
    "        filtered_vocab.add(word)\n",
    "print('Уникальных символов, втретившихся больше 2 раз:', len(filtered_vocab))\n",
    "#создаем словарь с индексами symbol2id, для спецсимвола паддинга дефолтный индекс - 0\n",
    "word2id = {'UNK':0}\n",
    "\n",
    "for word in filtered_vocab:\n",
    "    word2id[word] = len(word2id)\n",
    "#обратный словарь для того, чтобы раскодировать последовательность\n",
    "id2word = {i:word for word, i in word2id.items()}"
   ]
  },
  {
   "cell_type": "code",
   "execution_count": null,
   "metadata": {
    "collapsed": false,
    "gradient": {
     "editing": false,
     "id": "d3a5b1ea-cff0-4a38-9dd5-28713c0074f4",
     "kernelId": "407d7b5d-9d7c-4b74-9c76-5aec0e6cb98b",
     "source_hidden": false
    }
   },
   "outputs": [],
   "source": [
    "class NewsDataset(Dataset):\n",
    "\n",
    "    def __init__(self, dataset, word2id, DEVICE):\n",
    "        self.dataset = dataset['words'].values\n",
    "        self.word2id = word2id\n",
    "        self.length = dataset.shape[0]\n",
    "        self.target = dataset['class'].values\n",
    "        self.device = DEVICE\n",
    "\n",
    "\n",
    "    def __len__(self):\n",
    "        return self.length\n",
    "\n",
    "    def __getitem__(self, index): \n",
    "        words = list(self.dataset[index])\n",
    "        ids = torch.LongTensor([self.word2id[word] for word in words if word in self.word2id])\n",
    "        y = [self.target[index]]\n",
    "        return ids, y\n",
    "\n",
    "    def collate_fn(self, batch): #этот метод можно реализовывать и отдельно,\n",
    "    # он понадобится для DataLoader во время итерации по батчам\n",
    "        ids, y = list(zip(*batch))\n",
    "        padded_ids = pad_sequence(ids, batch_first=True).to(self.device)\n",
    "        y = torch.Tensor(y).to(self.device)\n",
    "        return padded_ids, y"
   ]
  },
  {
   "cell_type": "code",
   "execution_count": null,
   "metadata": {
    "gradient": {
     "editing": false,
     "id": "4f1e8ccc-cef8-42fa-b6a4-8d09bf36c976",
     "kernelId": "407d7b5d-9d7c-4b74-9c76-5aec0e6cb98b"
    },
    "id": "FTVdJfMrPc1k"
   },
   "outputs": [],
   "source": [
    "# Create train and test data iterators\n",
    "train_data, test_data = train_test_split(news_df[['words','class']], test_size=0.2)\n",
    "\n",
    "train_dataset = NewsDataset(train_data, word2id, DEVICE)\n",
    "train_sampler = RandomSampler(train_dataset)\n",
    "train_iterator = DataLoader(train_dataset, collate_fn = train_dataset.collate_fn,\n",
    "                            sampler=train_sampler, batch_size=1024)\n",
    "batch = next(iter(train_iterator))\n",
    "\n",
    "test_dataset = NewsDataset(test_data, word2id, DEVICE)\n",
    "test_sampler = SequentialSampler(test_dataset)\n",
    "test_iterator = DataLoader(test_dataset, collate_fn = test_dataset.collate_fn,\n",
    "                          sampler=test_sampler, batch_size=1024)\n",
    "test_batch = next(iter(test_iterator))"
   ]
  },
  {
   "cell_type": "markdown",
   "metadata": {
    "gradient": {
     "editing": false,
     "id": "50a4ca5d-3bcb-4f80-8baf-65cc11a1cd3b",
     "kernelId": "407d7b5d-9d7c-4b74-9c76-5aec0e6cb98b"
    },
    "id": "eyMuG48dMDog"
   },
   "source": [
    "### Создаем модель"
   ]
  },
  {
   "cell_type": "code",
   "execution_count": null,
   "metadata": {
    "gradient": {
     "editing": false,
     "id": "c5459181-cdbd-4896-be58-14cdb5245eca",
     "kernelId": "407d7b5d-9d7c-4b74-9c76-5aec0e6cb98b"
    },
    "id": "zceecOEyMYZV"
   },
   "outputs": [],
   "source": [
    "# Делаем эксперименты повторяемыми\n",
    "SEED = 5000\n",
    "\n",
    "torch.manual_seed(SEED)\n",
    "torch.cuda.manual_seed(SEED)\n",
    "torch.backends.cudnn.deterministic = True"
   ]
  },
  {
   "cell_type": "code",
   "execution_count": null,
   "metadata": {
    "gradient": {
     "editing": false,
     "id": "f55f975d-98f7-485d-9985-3ea4258e1a36",
     "kernelId": "407d7b5d-9d7c-4b74-9c76-5aec0e6cb98b"
    },
    "id": "dKt1edhzWncz"
   },
   "outputs": [],
   "source": [
    "# filters = {2: number_of_filters, 3: number_of_filters , 4: number_of_filters}\n",
    "\n",
    "class C_LSTM(nn.Module):\n",
    "    def __init__(self, vocab_size, embedding_dim, weights, filters,\n",
    "                 memory_dim, output_dim, dropout, when_drop, device):\n",
    "\n",
    "        super().__init__()\n",
    "\n",
    "        self.embedding = nn.Embedding.from_pretrained(torch.Tensor(weights))\n",
    "        self.filters = filters\n",
    "        self.when_drop = when_drop\n",
    "        self.device = device\n",
    "        self.cnn2gr = nn.Conv1d(in_channels=embedding_dim, out_channels=filters[2], kernel_size=(2,))\n",
    "        self.cnn3gr = nn.Conv1d(in_channels=embedding_dim, out_channels=filters[3], kernel_size=(3,))\n",
    "        self.cnn4gr = nn.Conv1d(in_channels=embedding_dim, out_channels=filters[4], kernel_size=(4,))\n",
    "\n",
    "        self.LSTM = torch.nn.LSTM(input_size=filters[2]+filters[3]+filters[4],\n",
    "                                  hidden_size=memory_dim, num_layers=1, batch_first=True)\n",
    "\n",
    "        self.dropout = nn.Dropout(dropout)\n",
    "        self.relu = nn.ReLU()\n",
    "        self.out = nn.Softmax()\n",
    "        self.linear = nn.Linear(memory_dim, output_dim)\n",
    "        \n",
    "    def forward(self, x):\n",
    "\n",
    "        x_emb = self.embedding(x)\n",
    "        x_emb = x_emb.transpose(1, 2)\n",
    "        if self.when_drop[0] == 1:\n",
    "            x_emb = self.dropout(x_emb)\n",
    "\n",
    "        x_cnns = []\n",
    "        if self.filters[2] > 0:\n",
    "            x_cnn2 = self.cnn2gr(x_emb)\n",
    "            x_cnns.append(x_cnn2)\n",
    "        if self.filters[3] > 0:\n",
    "            x_cnn3 = self.cnn3gr(x_emb)\n",
    "            x_cnns.append(x_cnn3)\n",
    "        if self.filters[4] > 0:\n",
    "            x_cnn4 = self.cnn4gr(x_emb)\n",
    "            x_cnns.append(x_cnn4)\n",
    "\n",
    "        dims1 = []\n",
    "        for cnn in x_cnns:\n",
    "            dims1.append(cnn.size()[1])\n",
    "        min_s = min(dims1)\n",
    "        good_x_cnns = []\n",
    "        for cnn in x_cnns:\n",
    "            good_x_cnns.append(cnn.transpose(0, 2)[:min_s].transpose(0, 2))\n",
    "        x_cnn = torch.cat((good_x_cnns), dim=1)\n",
    "\n",
    "        output, (ht, ct) = self.LSTM(x_cnn.transpose(1, 2))\n",
    "\n",
    "        logits = self.linear(ht[-1])\n",
    "        if self.when_drop[1] == 1:\n",
    "            logits = self.dropout(logits)\n",
    "\n",
    "        logits = self.out(logits)\n",
    "        return logits"
   ]
  },
  {
   "cell_type": "code",
   "execution_count": null,
   "metadata": {
    "gradient": {
     "editing": false,
     "id": "db2368cc-2a5b-44ce-a7dd-28660b1ae1d7",
     "kernelId": "407d7b5d-9d7c-4b74-9c76-5aec0e6cb98b"
    },
    "id": "bYjmeyfVL7e8"
   },
   "outputs": [],
   "source": [
    "# We either apply dropout to word vectors before feeding the sequence of words \n",
    "# into the convolutional layer or to the output of LSTM before the softmax layer.\n",
    "\n",
    "# The L2 regularization is applied to the weight of the softmax layer.\n",
    "\n",
    "# In our final settings, we only use one convolutional layer and one LSTM layer \n",
    "\n",
    "# filter lengths of 2, 3 and 4 in two cases: a) single convolutional layer with \n",
    "# the same filter length, and b) multiple convolutional layers with different lengths of filters in parallel. \n",
    "\n",
    "# We cut the window sequence at the end based on the maximum filter length that gives the shortest number of windows\n",
    "\n",
    "# According to the experiments, we choose a single convolutional layer with filter length 3.\n",
    "\n",
    "# For TREC, the number of filters is set to be 300 and the memory dimension is set to be 300. \n",
    "# The word vector layer and the LSTM layer are dropped out with a probability of 0.5. \n",
    "# We also add L2 regularization with a factor of 0.001 to the weights in the softmax layer."
   ]
  },
  {
   "cell_type": "code",
   "execution_count": null,
   "metadata": {
    "gradient": {
     "editing": false,
     "id": "a6f0e547-3f20-4fb8-8741-9df1f0311f97",
     "kernelId": "407d7b5d-9d7c-4b74-9c76-5aec0e6cb98b"
    },
    "id": "QUT2wfOuWzcb"
   },
   "outputs": [],
   "source": [
    "def categorical_accuracy(preds, y, device):\n",
    "    max_preds = preds.argmax(dim=1, keepdim=True) # get the index of the max probability\n",
    "    correct = max_preds.squeeze(1).eq(y)\n",
    "    return correct.sum()/torch.FloatTensor([y.shape[0]]).to(device)"
   ]
  },
  {
   "cell_type": "code",
   "execution_count": null,
   "metadata": {
    "gradient": {
     "editing": false,
     "id": "8a1e7150-fbfb-4d3c-a2ac-1d753a402a83",
     "kernelId": "407d7b5d-9d7c-4b74-9c76-5aec0e6cb98b"
    },
    "id": "mnYITw0WSviD"
   },
   "outputs": [],
   "source": [
    "def train(model, iterator, optimizer, criterion, device):\n",
    "    \n",
    "    epoch_loss = 0\n",
    "    epoch_acc = 0\n",
    "    \n",
    "    model.train()\n",
    "    \n",
    "    for i, (texts, ys) in enumerate(iterator): #итерируемся по батчам\n",
    "        texts = texts.to(device)\n",
    "        ys = ys.to(device)\n",
    "\n",
    "        optimizer.zero_grad()  #обнуляем градиенты\n",
    "        preds = model(texts)  #прогоняем данные через модель\n",
    "        \n",
    "        ys = torch.squeeze(ys).to(torch.int64)\n",
    "        loss = criterion(preds, ys) #считаем значение функции потерь\n",
    "        acc = categorical_accuracy(preds, ys, device)\n",
    "    \n",
    "        loss.backward() #считаем градиенты  \n",
    "        optimizer.step() #обновляем веса\n",
    "\n",
    "        epoch_loss += loss.item() #сохраняем значение функции потерь\n",
    "        epoch_acc += acc.item()\n",
    "        \n",
    "        if not (i + 1) % int(len(iterator)/5):\n",
    "            print(f'Train loss: {epoch_loss/(i+1)}  |  Train acc: {epoch_acc*100/(i+1):.2f}%')\n",
    "        \n",
    "    return epoch_loss / len(iterator), epoch_acc / len(iterator)"
   ]
  },
  {
   "cell_type": "code",
   "execution_count": null,
   "metadata": {
    "gradient": {
     "editing": false,
     "id": "0e43bb1b-a87d-49f2-8d8d-566b1159e698",
     "kernelId": "407d7b5d-9d7c-4b74-9c76-5aec0e6cb98b"
    },
    "id": "FxgeYVAaSz5W"
   },
   "outputs": [],
   "source": [
    "def evaluate(model, iterator, criterion, device):\n",
    "    \n",
    "    epoch_loss = 0\n",
    "    epoch_acc = 0\n",
    "    \n",
    "    model.eval()\n",
    "    \n",
    "    with torch.no_grad():\n",
    "    \n",
    "        for i, (texts, ys) in enumerate(iterator): #итерируемся по батчам\n",
    "            texts = texts.to(device)\n",
    "            ys = ys.to(device)\n",
    "            preds = model(texts)  #прогоняем данные через модель\n",
    "            ys = torch.squeeze(ys).to(torch.int64)\n",
    "            loss = criterion(preds, ys) #считаем значение функции потерь\n",
    "            acc = categorical_accuracy(preds, ys, device)\n",
    "\n",
    "            epoch_loss += loss.item() #сохраняем значение функции потерь\n",
    "            epoch_acc += acc.item()\n",
    "            \n",
    "    return epoch_loss / len(iterator), epoch_acc / len(iterator)"
   ]
  },
  {
   "cell_type": "markdown",
   "metadata": {
    "gradient": {
     "editing": false,
     "id": "c5bd74aa-bb6f-4f2a-aec9-a373bd79da97",
     "kernelId": "407d7b5d-9d7c-4b74-9c76-5aec0e6cb98b"
    },
    "id": "JunYCe25MLzm"
   },
   "source": [
    "### Запускаем эксперименты"
   ]
  },
  {
   "cell_type": "code",
   "execution_count": null,
   "metadata": {
    "gradient": {
     "editing": false,
     "id": "f43cac61-3ef1-4da9-b3c7-fc4c701d5dd2",
     "kernelId": "407d7b5d-9d7c-4b74-9c76-5aec0e6cb98b"
    },
    "id": "OZQQV43QGrIj"
   },
   "outputs": [],
   "source": [
    "def run_experiment(INPUT_DIM, EMBEDDING_DIM, WEIGHTS, FILTERS,\n",
    "     MEMORY_DIM, OUTPUT_DIM, DROPOUT, WHEN_DROP, criterion, N_EPOCHS, device, train_iterator, test_iterator):\n",
    "  \n",
    "    model = C_LSTM(INPUT_DIM, EMBEDDING_DIM, WEIGHTS, FILTERS,\n",
    "                   MEMORY_DIM, OUTPUT_DIM, DROPOUT, WHEN_DROP, device)\n",
    "    model = model.to(device)\n",
    "    criterion = criterion.to(device)\n",
    "    optimizer = optim.RMSprop(model.parameters(), weight_decay=0.001)\n",
    "\n",
    "    for epoch in range(N_EPOCHS):\n",
    "        train_loss, train_acc = train(model, train_iterator, optimizer, criterion, device)\n",
    "        test_loss, test_acc = evaluate(model, test_iterator, criterion, device)\n",
    "        \n",
    "        print(f'| Epoch: {epoch+1:02} | Train Loss: {train_loss:.3f} | Train Acc: {train_acc*100:.2f}% | Test Loss: {test_loss:.3f} | Test Acc: {test_acc*100:.2f}% |')\n",
    "\n",
    "    torch.save(model, \"c_lstm\")\n",
    "    test_loss, test_acc = evaluate(model, test_iterator, criterion, device)\n",
    "\n",
    "    print(f'| Test Loss: {test_loss:.3f} | Test Acc: {test_acc*100:.2f}% |')\n",
    "    return model, test_loss, test_acc"
   ]
  },
  {
   "cell_type": "code",
   "execution_count": null,
   "metadata": {
    "collapsed": false,
    "gradient": {
     "editing": false,
     "id": "2c8b9ee9-b35d-4784-a08d-9961e450c7a9",
     "kernelId": "407d7b5d-9d7c-4b74-9c76-5aec0e6cb98b",
     "source_hidden": false
    }
   },
   "outputs": [],
   "source": [
    "# Используем веса w2v\n",
    "WEIGHTS = np.zeros((len(word2id), 300))\n",
    "unk = 0\n",
    "for word, i in word2id.items():\n",
    "    try:\n",
    "        WEIGHTS[i] = w2v[word]    \n",
    "    except KeyError:\n",
    "      unk += 1\n",
    "      WEIGHTS[i] = np.random.uniform(-0.25, 0.25, 300)"
   ]
  },
  {
   "cell_type": "code",
   "execution_count": null,
   "metadata": {
    "colab": {
     "base_uri": "https://localhost:8080/"
    },
    "gradient": {
     "editing": false,
     "id": "a7a3eb59-b08f-4b46-b9c3-33490e319385",
     "kernelId": "407d7b5d-9d7c-4b74-9c76-5aec0e6cb98b"
    },
    "id": "UM-O_FBHGqJY",
    "outputId": "8f7dba28-e1b9-474b-8261-8f347854e48a"
   },
   "outputs": [
    {
     "name": "stderr",
     "output_type": "stream",
     "text": [
      "/opt/conda/lib/python3.8/site-packages/torch/nn/init.py:388: UserWarning: Initializing zero-element tensors is a no-op\n",
      "  warnings.warn(\"Initializing zero-element tensors is a no-op\")\n"
     ]
    },
    {
     "name": "stderr",
     "output_type": "stream",
     "text": [
      "/tmp/ipykernel_99/1707893354.py:58: UserWarning: Implicit dimension choice for softmax has been deprecated. Change the call to include dim=X as an argument.\n",
      "  logits = self.out(logits)\n"
     ]
    },
    {
     "name": "stdout",
     "output_type": "stream",
     "text": [
      "Train loss: 1.7249045769373577  |  Train acc: 29.79%\n"
     ]
    },
    {
     "name": "stdout",
     "output_type": "stream",
     "text": [
      "Train loss: 1.7217532793680828  |  Train acc: 28.55%\n"
     ]
    },
    {
     "name": "stdout",
     "output_type": "stream",
     "text": [
      "Train loss: 1.7126313580407038  |  Train acc: 29.09%\n"
     ]
    },
    {
     "name": "stdout",
     "output_type": "stream",
     "text": [
      "Train loss: 1.6995889941851299  |  Train acc: 30.15%\n"
     ]
    },
    {
     "name": "stdout",
     "output_type": "stream",
     "text": [
      "Train loss: 1.699130614598592  |  Train acc: 29.99%\n"
     ]
    },
    {
     "name": "stdout",
     "output_type": "stream",
     "text": [
      "Train loss: 1.6911929647127788  |  Train acc: 30.27%\n"
     ]
    },
    {
     "name": "stdout",
     "output_type": "stream",
     "text": [
      "| Epoch: 01 | Train Loss: 1.687 | Train Acc: 30.39% | Test Loss: 1.550 | Test Acc: 49.35% |\n"
     ]
    },
    {
     "name": "stdout",
     "output_type": "stream",
     "text": [
      "Train loss: 1.6323730150858562  |  Train acc: 34.34%\n"
     ]
    },
    {
     "name": "stdout",
     "output_type": "stream",
     "text": [
      "Train loss: 1.6740458011627197  |  Train acc: 30.52%\n"
     ]
    },
    {
     "name": "stdout",
     "output_type": "stream",
     "text": [
      "Train loss: 1.6698874632517497  |  Train acc: 31.39%\n"
     ]
    },
    {
     "name": "stdout",
     "output_type": "stream",
     "text": [
      "Train loss: 1.6638039847215016  |  Train acc: 31.77%\n"
     ]
    },
    {
     "name": "stdout",
     "output_type": "stream",
     "text": [
      "Train loss: 1.6613681713740032  |  Train acc: 31.75%\n"
     ]
    },
    {
     "name": "stdout",
     "output_type": "stream",
     "text": [
      "Train loss: 1.6658821172184415  |  Train acc: 31.47%\n"
     ]
    },
    {
     "name": "stdout",
     "output_type": "stream",
     "text": [
      "| Epoch: 02 | Train Loss: 1.667 | Train Acc: 31.30% | Test Loss: 1.651 | Test Acc: 39.01% |\n"
     ]
    },
    {
     "name": "stdout",
     "output_type": "stream",
     "text": [
      "Train loss: 1.6576549609502156  |  Train acc: 30.99%\n"
     ]
    },
    {
     "name": "stdout",
     "output_type": "stream",
     "text": [
      "Train loss: 1.6591188112894695  |  Train acc: 30.71%\n"
     ]
    },
    {
     "name": "stdout",
     "output_type": "stream",
     "text": [
      "Train loss: 1.6548854112625122  |  Train acc: 31.26%\n"
     ]
    },
    {
     "name": "stdout",
     "output_type": "stream",
     "text": [
      "Train loss: 1.649220695098241  |  Train acc: 31.90%\n"
     ]
    },
    {
     "name": "stdout",
     "output_type": "stream",
     "text": [
      "Train loss: 1.6463369369506835  |  Train acc: 32.13%\n"
     ]
    },
    {
     "name": "stdout",
     "output_type": "stream",
     "text": [
      "Train loss: 1.6481467617882624  |  Train acc: 32.03%\n"
     ]
    },
    {
     "name": "stdout",
     "output_type": "stream",
     "text": [
      "| Epoch: 03 | Train Loss: 1.648 | Train Acc: 31.95% | Test Loss: 1.550 | Test Acc: 49.35% |\n"
     ]
    },
    {
     "name": "stdout",
     "output_type": "stream",
     "text": [
      "Train loss: 1.6315996646881104  |  Train acc: 33.11%\n"
     ]
    },
    {
     "name": "stdout",
     "output_type": "stream",
     "text": [
      "Train loss: 1.6351518829663594  |  Train acc: 32.76%\n"
     ]
    },
    {
     "name": "stdout",
     "output_type": "stream",
     "text": [
      "Train loss: 1.6321850220362346  |  Train acc: 32.69%\n"
     ]
    },
    {
     "name": "stdout",
     "output_type": "stream",
     "text": [
      "Train loss: 1.632936716079712  |  Train acc: 32.74%\n"
     ]
    },
    {
     "name": "stdout",
     "output_type": "stream",
     "text": [
      "Train loss: 1.63400506178538  |  Train acc: 32.88%\n"
     ]
    },
    {
     "name": "stdout",
     "output_type": "stream",
     "text": [
      "Train loss: 1.6357261339823406  |  Train acc: 32.87%\n"
     ]
    },
    {
     "name": "stdout",
     "output_type": "stream",
     "text": [
      "| Epoch: 04 | Train Loss: 1.634 | Train Acc: 33.14% | Test Loss: 1.553 | Test Acc: 49.81% |\n"
     ]
    },
    {
     "name": "stdout",
     "output_type": "stream",
     "text": [
      "Train loss: 1.6908129056294758  |  Train acc: 28.48%\n"
     ]
    },
    {
     "name": "stdout",
     "output_type": "stream",
     "text": [
      "Train loss: 1.7032793958981831  |  Train acc: 27.12%\n"
     ]
    },
    {
     "name": "stdout",
     "output_type": "stream",
     "text": [
      "Train loss: 1.7046351432800293  |  Train acc: 27.38%\n"
     ]
    },
    {
     "name": "stdout",
     "output_type": "stream",
     "text": [
      "Train loss: 1.7039583623409271  |  Train acc: 27.29%\n"
     ]
    },
    {
     "name": "stdout",
     "output_type": "stream",
     "text": [
      "Train loss: 1.7046825249989828  |  Train acc: 27.19%\n"
     ]
    },
    {
     "name": "stdout",
     "output_type": "stream",
     "text": [
      "Train loss: 1.7070706221792433  |  Train acc: 27.00%\n"
     ]
    },
    {
     "name": "stdout",
     "output_type": "stream",
     "text": [
      "| Epoch: 05 | Train Loss: 1.716 | Train Acc: 26.08% | Test Loss: 1.618 | Test Acc: 42.48% |\n"
     ]
    },
    {
     "name": "stdout",
     "output_type": "stream",
     "text": [
      "| Test Loss: 1.618 | Test Acc: 42.48% |\n"
     ]
    },
    {
     "data": {
      "text/plain": [
       "(C_LSTM(\n",
       "   (embedding): Embedding(38386, 300)\n",
       "   (cnn2gr): Conv1d(300, 0, kernel_size=(2,), stride=(1,))\n",
       "   (cnn3gr): Conv1d(300, 300, kernel_size=(3,), stride=(1,))\n",
       "   (cnn4gr): Conv1d(300, 0, kernel_size=(4,), stride=(1,))\n",
       "   (LSTM): LSTM(300, 300, batch_first=True)\n",
       "   (dropout): Dropout(p=0.5, inplace=False)\n",
       "   (relu): ReLU()\n",
       "   (out): Softmax(dim=None)\n",
       "   (linear): Linear(in_features=300, out_features=6, bias=True)\n",
       " ),\n",
       " 1.618255615234375,\n",
       " 0.4248437523841858)"
      ]
     },
     "execution_count": 25,
     "metadata": {},
     "output_type": "execute_result"
    }
   ],
   "source": [
    "# Эксперимент №1 (как в статье)\n",
    "\n",
    "INPUT_DIM = len(w2v.key_to_index)\n",
    "EMBEDDING_DIM = w2v.vector_size\n",
    "MEMORY_DIM = 300\n",
    "FILTERS = {2: 0, 3: 300 , 4: 0}\n",
    "OUTPUT_DIM = len(subject_id)\n",
    "DROPOUT = 0.5\n",
    "WHEN_DROP = (1, 1)\n",
    "\n",
    "criterion = nn.CrossEntropyLoss()\n",
    "\n",
    "N_EPOCHS = 5\n",
    "\n",
    "run_experiment(INPUT_DIM, EMBEDDING_DIM, WEIGHTS, FILTERS, MEMORY_DIM,\n",
    "               OUTPUT_DIM, DROPOUT, WHEN_DROP, criterion, N_EPOCHS, DEVICE, train_iterator, test_iterator)"
   ]
  },
  {
   "cell_type": "code",
   "execution_count": null,
   "metadata": {
    "collapsed": false,
    "gradient": {
     "editing": false,
     "id": "5fca61ee-3c98-4b8d-b2f8-634b739e5952",
     "kernelId": "407d7b5d-9d7c-4b74-9c76-5aec0e6cb98b",
     "source_hidden": false
    }
   },
   "outputs": [
    {
     "name": "stderr",
     "output_type": "stream",
     "text": [
      "/tmp/ipykernel_99/1707893354.py:58: UserWarning: Implicit dimension choice for softmax has been deprecated. Change the call to include dim=X as an argument.\n",
      "  logits = self.out(logits)\n"
     ]
    },
    {
     "name": "stdout",
     "output_type": "stream",
     "text": [
      "Train loss: 1.7500815391540527  |  Train acc: 21.35%\n"
     ]
    },
    {
     "name": "stdout",
     "output_type": "stream",
     "text": [
      "Train loss: 1.7190199494361877  |  Train acc: 25.65%\n"
     ]
    },
    {
     "name": "stdout",
     "output_type": "stream",
     "text": [
      "Train loss: 1.7070425351460774  |  Train acc: 26.57%\n"
     ]
    },
    {
     "name": "stdout",
     "output_type": "stream",
     "text": [
      "Train loss: 1.6924243370691936  |  Train acc: 28.29%\n"
     ]
    },
    {
     "name": "stdout",
     "output_type": "stream",
     "text": [
      "Train loss: 1.6971130927403768  |  Train acc: 28.13%\n"
     ]
    },
    {
     "name": "stdout",
     "output_type": "stream",
     "text": [
      "Train loss: 1.6943901048766241  |  Train acc: 28.27%\n"
     ]
    },
    {
     "name": "stdout",
     "output_type": "stream",
     "text": [
      "| Epoch: 01 | Train Loss: 1.693 | Train Acc: 28.54% | Test Loss: 1.614 | Test Acc: 42.60% |\n"
     ]
    },
    {
     "name": "stdout",
     "output_type": "stream",
     "text": [
      "Train loss: 1.657218098640442  |  Train acc: 31.15%\n"
     ]
    },
    {
     "name": "stdout",
     "output_type": "stream",
     "text": [
      "Train loss: 1.6455212036768596  |  Train acc: 32.94%\n"
     ]
    },
    {
     "name": "stdout",
     "output_type": "stream",
     "text": [
      "Train loss: 1.6421014600329928  |  Train acc: 33.09%\n"
     ]
    },
    {
     "name": "stdout",
     "output_type": "stream",
     "text": [
      "Train loss: 1.641016294558843  |  Train acc: 33.02%\n"
     ]
    },
    {
     "name": "stdout",
     "output_type": "stream",
     "text": [
      "Train loss: 1.6440415223439535  |  Train acc: 32.81%\n"
     ]
    },
    {
     "name": "stdout",
     "output_type": "stream",
     "text": [
      "Train loss: 1.6476793487866719  |  Train acc: 32.59%\n"
     ]
    },
    {
     "name": "stdout",
     "output_type": "stream",
     "text": [
      "| Epoch: 02 | Train Loss: 1.650 | Train Acc: 32.36% | Test Loss: 1.669 | Test Acc: 37.03% |\n"
     ]
    },
    {
     "name": "stdout",
     "output_type": "stream",
     "text": [
      "Train loss: 1.6682479778925579  |  Train acc: 31.35%\n"
     ]
    },
    {
     "name": "stdout",
     "output_type": "stream",
     "text": [
      "Train loss: 1.6474666794141133  |  Train acc: 32.93%\n"
     ]
    },
    {
     "name": "stdout",
     "output_type": "stream",
     "text": [
      "Train loss: 1.6417864428626165  |  Train acc: 33.49%\n"
     ]
    },
    {
     "name": "stdout",
     "output_type": "stream",
     "text": [
      "Train loss: 1.6602310438950856  |  Train acc: 31.75%\n"
     ]
    },
    {
     "name": "stdout",
     "output_type": "stream",
     "text": [
      "Train loss: 1.6618696769078574  |  Train acc: 31.71%\n"
     ]
    },
    {
     "name": "stdout",
     "output_type": "stream",
     "text": [
      "Train loss: 1.6830938590897455  |  Train acc: 29.68%\n"
     ]
    },
    {
     "name": "stdout",
     "output_type": "stream",
     "text": [
      "| Epoch: 03 | Train Loss: 1.689 | Train Acc: 29.13% | Test Loss: 1.673 | Test Acc: 37.01% |\n"
     ]
    },
    {
     "name": "stdout",
     "output_type": "stream",
     "text": [
      "Train loss: 1.7012446721394856  |  Train acc: 28.06%\n"
     ]
    },
    {
     "name": "stdout",
     "output_type": "stream",
     "text": [
      "Train loss: 1.6739842295646667  |  Train acc: 29.96%\n"
     ]
    },
    {
     "name": "stdout",
     "output_type": "stream",
     "text": [
      "Train loss: 1.65808195537991  |  Train acc: 31.43%\n"
     ]
    },
    {
     "name": "stdout",
     "output_type": "stream",
     "text": [
      "Train loss: 1.6526500880718231  |  Train acc: 31.95%\n"
     ]
    },
    {
     "name": "stdout",
     "output_type": "stream",
     "text": [
      "Train loss: 1.6474828720092773  |  Train acc: 32.67%\n"
     ]
    },
    {
     "name": "stdout",
     "output_type": "stream",
     "text": [
      "Train loss: 1.6448654466205173  |  Train acc: 32.88%\n"
     ]
    },
    {
     "name": "stdout",
     "output_type": "stream",
     "text": [
      "| Epoch: 04 | Train Loss: 1.644 | Train Acc: 32.97% | Test Loss: 1.671 | Test Acc: 37.03% |\n"
     ]
    },
    {
     "name": "stdout",
     "output_type": "stream",
     "text": [
      "Train loss: 1.6619333028793335  |  Train acc: 30.40%\n"
     ]
    },
    {
     "name": "stdout",
     "output_type": "stream",
     "text": [
      "Train loss: 1.6467267473538716  |  Train acc: 31.90%\n"
     ]
    },
    {
     "name": "stdout",
     "output_type": "stream",
     "text": [
      "Train loss: 1.6434794002109103  |  Train acc: 32.66%\n"
     ]
    },
    {
     "name": "stdout",
     "output_type": "stream",
     "text": [
      "Train loss: 1.638466199239095  |  Train acc: 33.12%\n"
     ]
    },
    {
     "name": "stdout",
     "output_type": "stream",
     "text": [
      "Train loss: 1.6381132364273072  |  Train acc: 33.04%\n"
     ]
    },
    {
     "name": "stdout",
     "output_type": "stream",
     "text": [
      "Train loss: 1.6387845476468403  |  Train acc: 33.06%\n"
     ]
    },
    {
     "name": "stdout",
     "output_type": "stream",
     "text": [
      "| Epoch: 05 | Train Loss: 1.642 | Train Acc: 33.02% | Test Loss: 1.557 | Test Acc: 49.10% |\n"
     ]
    },
    {
     "name": "stdout",
     "output_type": "stream",
     "text": [
      "| Test Loss: 1.557 | Test Acc: 49.10% |\n"
     ]
    },
    {
     "data": {
      "text/plain": [
       "(C_LSTM(\n",
       "   (embedding): Embedding(38386, 300)\n",
       "   (cnn2gr): Conv1d(300, 300, kernel_size=(2,), stride=(1,))\n",
       "   (cnn3gr): Conv1d(300, 0, kernel_size=(3,), stride=(1,))\n",
       "   (cnn4gr): Conv1d(300, 0, kernel_size=(4,), stride=(1,))\n",
       "   (LSTM): LSTM(300, 300, batch_first=True)\n",
       "   (dropout): Dropout(p=0.5, inplace=False)\n",
       "   (relu): ReLU()\n",
       "   (out): Softmax(dim=None)\n",
       "   (linear): Linear(in_features=300, out_features=6, bias=True)\n",
       " ),\n",
       " 1.556979274749756,\n",
       " 0.4909921884536743)"
      ]
     },
     "execution_count": 26,
     "metadata": {},
     "output_type": "execute_result"
    }
   ],
   "source": [
    "# Эксперимент №2\n",
    "\n",
    "INPUT_DIM = len(w2v.key_to_index)\n",
    "EMBEDDING_DIM = w2v.vector_size\n",
    "MEMORY_DIM = 300\n",
    "FILTERS = {2: 300, 3: 0 , 4: 0}\n",
    "OUTPUT_DIM = len(subject_id)\n",
    "DROPOUT = 0.5\n",
    "WHEN_DROP = (1, 1)\n",
    "\n",
    "criterion = nn.CrossEntropyLoss()\n",
    "\n",
    "N_EPOCHS = 5\n",
    "\n",
    "run_experiment(INPUT_DIM, EMBEDDING_DIM, WEIGHTS, FILTERS, MEMORY_DIM,\n",
    "               OUTPUT_DIM, DROPOUT, WHEN_DROP, criterion, N_EPOCHS, DEVICE, train_iterator, test_iterator)"
   ]
  },
  {
   "cell_type": "code",
   "execution_count": null,
   "metadata": {
    "collapsed": false,
    "gradient": {
     "editing": false,
     "id": "92305470-7bfb-4c2e-8ab8-1c43baea1d3f",
     "kernelId": "407d7b5d-9d7c-4b74-9c76-5aec0e6cb98b",
     "source_hidden": false
    }
   },
   "outputs": [
    {
     "name": "stderr",
     "output_type": "stream",
     "text": [
      "/tmp/ipykernel_99/1707893354.py:58: UserWarning: Implicit dimension choice for softmax has been deprecated. Change the call to include dim=X as an argument.\n",
      "  logits = self.out(logits)\n"
     ]
    },
    {
     "name": "stdout",
     "output_type": "stream",
     "text": [
      "Train loss: 1.7515735228856404  |  Train acc: 18.95%\n"
     ]
    },
    {
     "name": "stdout",
     "output_type": "stream",
     "text": [
      "Train loss: 1.7212963700294495  |  Train acc: 23.78%\n"
     ]
    },
    {
     "name": "stdout",
     "output_type": "stream",
     "text": [
      "Train loss: 1.710254841380649  |  Train acc: 25.94%\n"
     ]
    },
    {
     "name": "stdout",
     "output_type": "stream",
     "text": [
      "Train loss: 1.694854239622752  |  Train acc: 27.91%\n"
     ]
    },
    {
     "name": "stdout",
     "output_type": "stream",
     "text": [
      "Train loss: 1.693769637743632  |  Train acc: 28.14%\n"
     ]
    },
    {
     "name": "stdout",
     "output_type": "stream",
     "text": [
      "Train loss: 1.6850084331300523  |  Train acc: 28.99%\n"
     ]
    },
    {
     "name": "stdout",
     "output_type": "stream",
     "text": [
      "| Epoch: 01 | Train Loss: 1.685 | Train Acc: 29.12% | Test Loss: 1.551 | Test Acc: 49.20% |\n"
     ]
    },
    {
     "name": "stdout",
     "output_type": "stream",
     "text": [
      "Train loss: 1.6320681969324748  |  Train acc: 33.72%\n"
     ]
    },
    {
     "name": "stdout",
     "output_type": "stream",
     "text": [
      "Train loss: 1.6341418226559956  |  Train acc: 33.51%\n"
     ]
    },
    {
     "name": "stdout",
     "output_type": "stream",
     "text": [
      "Train loss: 1.6471532583236694  |  Train acc: 32.64%\n"
     ]
    },
    {
     "name": "stdout",
     "output_type": "stream",
     "text": [
      "Train loss: 1.6639691094557445  |  Train acc: 31.02%\n"
     ]
    },
    {
     "name": "stdout",
     "output_type": "stream",
     "text": [
      "Train loss: 1.6725270668665568  |  Train acc: 30.12%\n"
     ]
    },
    {
     "name": "stdout",
     "output_type": "stream",
     "text": [
      "Train loss: 1.6784802079200745  |  Train acc: 29.47%\n"
     ]
    },
    {
     "name": "stdout",
     "output_type": "stream",
     "text": [
      "| Epoch: 02 | Train Loss: 1.681 | Train Acc: 29.16% | Test Loss: 1.673 | Test Acc: 37.03% |\n"
     ]
    },
    {
     "name": "stdout",
     "output_type": "stream",
     "text": [
      "Train loss: 1.7147470712661743  |  Train acc: 25.42%\n"
     ]
    },
    {
     "name": "stdout",
     "output_type": "stream",
     "text": [
      "Train loss: 1.7138734062512715  |  Train acc: 25.57%\n"
     ]
    },
    {
     "name": "stdout",
     "output_type": "stream",
     "text": [
      "Train loss: 1.709534419907464  |  Train acc: 26.32%\n"
     ]
    },
    {
     "name": "stdout",
     "output_type": "stream",
     "text": [
      "Train loss: 1.711027095715205  |  Train acc: 26.68%\n"
     ]
    },
    {
     "name": "stdout",
     "output_type": "stream",
     "text": [
      "Train loss: 1.708926502863566  |  Train acc: 26.99%\n"
     ]
    },
    {
     "name": "stdout",
     "output_type": "stream",
     "text": [
      "Train loss: 1.6987000240219965  |  Train acc: 28.04%\n"
     ]
    },
    {
     "name": "stdout",
     "output_type": "stream",
     "text": [
      "| Epoch: 03 | Train Loss: 1.695 | Train Acc: 28.39% | Test Loss: 1.551 | Test Acc: 49.20% |\n"
     ]
    },
    {
     "name": "stdout",
     "output_type": "stream",
     "text": [
      "Train loss: 1.6432000001271565  |  Train acc: 33.43%\n"
     ]
    },
    {
     "name": "stdout",
     "output_type": "stream",
     "text": [
      "Train loss: 1.6486716071764629  |  Train acc: 32.11%\n"
     ]
    },
    {
     "name": "stdout",
     "output_type": "stream",
     "text": [
      "Train loss: 1.645117508040534  |  Train acc: 32.26%\n"
     ]
    },
    {
     "name": "stdout",
     "output_type": "stream",
     "text": [
      "Train loss: 1.644052892923355  |  Train acc: 32.41%\n"
     ]
    },
    {
     "name": "stdout",
     "output_type": "stream",
     "text": [
      "Train loss: 1.6440479278564453  |  Train acc: 32.47%\n"
     ]
    },
    {
     "name": "stdout",
     "output_type": "stream",
     "text": [
      "Train loss: 1.6465483175383673  |  Train acc: 32.35%\n"
     ]
    },
    {
     "name": "stdout",
     "output_type": "stream",
     "text": [
      "| Epoch: 04 | Train Loss: 1.649 | Train Acc: 32.17% | Test Loss: 1.551 | Test Acc: 49.20% |\n"
     ]
    },
    {
     "name": "stdout",
     "output_type": "stream",
     "text": [
      "Train loss: 1.6430385907491047  |  Train acc: 33.17%\n"
     ]
    },
    {
     "name": "stdout",
     "output_type": "stream",
     "text": [
      "Train loss: 1.6422690351804097  |  Train acc: 32.70%\n"
     ]
    },
    {
     "name": "stdout",
     "output_type": "stream",
     "text": [
      "Train loss: 1.6409431960847642  |  Train acc: 32.79%\n"
     ]
    },
    {
     "name": "stdout",
     "output_type": "stream",
     "text": [
      "Train loss: 1.6371524631977081  |  Train acc: 33.11%\n"
     ]
    },
    {
     "name": "stdout",
     "output_type": "stream",
     "text": [
      "Train loss: 1.6366866906483968  |  Train acc: 33.13%\n"
     ]
    },
    {
     "name": "stdout",
     "output_type": "stream",
     "text": [
      "Train loss: 1.6367440753512912  |  Train acc: 33.14%\n"
     ]
    },
    {
     "name": "stdout",
     "output_type": "stream",
     "text": [
      "| Epoch: 05 | Train Loss: 1.638 | Train Acc: 32.96% | Test Loss: 1.548 | Test Acc: 49.48% |\n"
     ]
    },
    {
     "name": "stdout",
     "output_type": "stream",
     "text": [
      "| Test Loss: 1.548 | Test Acc: 49.48% |\n"
     ]
    },
    {
     "data": {
      "text/plain": [
       "(C_LSTM(\n",
       "   (embedding): Embedding(38386, 300)\n",
       "   (cnn2gr): Conv1d(300, 0, kernel_size=(2,), stride=(1,))\n",
       "   (cnn3gr): Conv1d(300, 0, kernel_size=(3,), stride=(1,))\n",
       "   (cnn4gr): Conv1d(300, 300, kernel_size=(4,), stride=(1,))\n",
       "   (LSTM): LSTM(300, 300, batch_first=True)\n",
       "   (dropout): Dropout(p=0.5, inplace=False)\n",
       "   (relu): ReLU()\n",
       "   (out): Softmax(dim=None)\n",
       "   (linear): Linear(in_features=300, out_features=6, bias=True)\n",
       " ),\n",
       " 1.5482641458511353,\n",
       " 0.4947838544845581)"
      ]
     },
     "execution_count": 27,
     "metadata": {},
     "output_type": "execute_result"
    }
   ],
   "source": [
    "# Эксперимент №3\n",
    "\n",
    "INPUT_DIM = len(w2v.key_to_index)\n",
    "EMBEDDING_DIM = w2v.vector_size\n",
    "MEMORY_DIM = 300\n",
    "FILTERS = {2: 0, 3: 0 , 4: 300}\n",
    "OUTPUT_DIM = len(subject_id)\n",
    "DROPOUT = 0.5\n",
    "WHEN_DROP = (1, 1)\n",
    "\n",
    "criterion = nn.CrossEntropyLoss()\n",
    "\n",
    "N_EPOCHS = 5\n",
    "\n",
    "run_experiment(INPUT_DIM, EMBEDDING_DIM, WEIGHTS, FILTERS, MEMORY_DIM,\n",
    "               OUTPUT_DIM, DROPOUT, WHEN_DROP, criterion, N_EPOCHS, DEVICE, train_iterator, test_iterator)"
   ]
  },
  {
   "cell_type": "code",
   "execution_count": null,
   "metadata": {
    "collapsed": false,
    "gradient": {
     "editing": false,
     "id": "70fb64d6-b0bd-4a6b-8627-873b83a1beda",
     "kernelId": "407d7b5d-9d7c-4b74-9c76-5aec0e6cb98b",
     "source_hidden": false
    }
   },
   "outputs": [
    {
     "name": "stderr",
     "output_type": "stream",
     "text": [
      "/tmp/ipykernel_99/1707893354.py:58: UserWarning: Implicit dimension choice for softmax has been deprecated. Change the call to include dim=X as an argument.\n",
      "  logits = self.out(logits)\n"
     ]
    },
    {
     "name": "stdout",
     "output_type": "stream",
     "text": [
      "Train loss: 1.7217977444330852  |  Train acc: 29.07%\n"
     ]
    },
    {
     "name": "stdout",
     "output_type": "stream",
     "text": [
      "Train loss: 1.7141264875729878  |  Train acc: 27.96%\n"
     ]
    },
    {
     "name": "stdout",
     "output_type": "stream",
     "text": [
      "Train loss: 1.7147905164294772  |  Train acc: 27.35%\n"
     ]
    },
    {
     "name": "stdout",
     "output_type": "stream",
     "text": [
      "Train loss: 1.7141503194967906  |  Train acc: 27.67%\n"
     ]
    },
    {
     "name": "stdout",
     "output_type": "stream",
     "text": [
      "Train loss: 1.7061436812082926  |  Train acc: 28.27%\n"
     ]
    },
    {
     "name": "stdout",
     "output_type": "stream",
     "text": [
      "Train loss: 1.7148440347777472  |  Train acc: 27.07%\n"
     ]
    },
    {
     "name": "stdout",
     "output_type": "stream",
     "text": [
      "| Epoch: 01 | Train Loss: 1.715 | Train Acc: 27.11% | Test Loss: 1.673 | Test Acc: 37.03% |\n"
     ]
    },
    {
     "name": "stdout",
     "output_type": "stream",
     "text": [
      "Train loss: 1.7039246956507366  |  Train acc: 26.79%\n"
     ]
    },
    {
     "name": "stdout",
     "output_type": "stream",
     "text": [
      "Train loss: 1.70467613140742  |  Train acc: 26.74%\n"
     ]
    },
    {
     "name": "stdout",
     "output_type": "stream",
     "text": [
      "Train loss: 1.7061396837234497  |  Train acc: 26.44%\n"
     ]
    },
    {
     "name": "stdout",
     "output_type": "stream",
     "text": [
      "Train loss: 1.709886799256007  |  Train acc: 26.50%\n"
     ]
    },
    {
     "name": "stdout",
     "output_type": "stream",
     "text": [
      "Train loss: 1.6991549094518026  |  Train acc: 27.62%\n"
     ]
    },
    {
     "name": "stdout",
     "output_type": "stream",
     "text": [
      "Train loss: 1.6950229869948492  |  Train acc: 28.30%\n"
     ]
    },
    {
     "name": "stdout",
     "output_type": "stream",
     "text": [
      "| Epoch: 02 | Train Loss: 1.698 | Train Acc: 28.11% | Test Loss: 1.661 | Test Acc: 38.79% |\n"
     ]
    },
    {
     "name": "stdout",
     "output_type": "stream",
     "text": [
      "Train loss: 1.6914780537287395  |  Train acc: 27.96%\n"
     ]
    },
    {
     "name": "stdout",
     "output_type": "stream",
     "text": [
      "Train loss: 1.6796513597170513  |  Train acc: 29.57%\n"
     ]
    },
    {
     "name": "stdout",
     "output_type": "stream",
     "text": [
      "Train loss: 1.684884746869405  |  Train acc: 30.01%\n"
     ]
    },
    {
     "name": "stdout",
     "output_type": "stream",
     "text": [
      "Train loss: 1.694862276315689  |  Train acc: 28.65%\n"
     ]
    },
    {
     "name": "stdout",
     "output_type": "stream",
     "text": [
      "Train loss: 1.6980335632960002  |  Train acc: 28.20%\n"
     ]
    },
    {
     "name": "stdout",
     "output_type": "stream",
     "text": [
      "Train loss: 1.6983208192719355  |  Train acc: 28.22%\n"
     ]
    },
    {
     "name": "stdout",
     "output_type": "stream",
     "text": [
      "| Epoch: 03 | Train Loss: 1.700 | Train Acc: 28.10% | Test Loss: 1.673 | Test Acc: 37.03% |\n"
     ]
    },
    {
     "name": "stdout",
     "output_type": "stream",
     "text": [
      "Train loss: 1.7143428723017375  |  Train acc: 25.81%\n"
     ]
    },
    {
     "name": "stdout",
     "output_type": "stream",
     "text": [
      "Train loss: 1.6987282236417134  |  Train acc: 27.54%\n"
     ]
    },
    {
     "name": "stdout",
     "output_type": "stream",
     "text": [
      "Train loss: 1.687599327829149  |  Train acc: 28.44%\n"
     ]
    },
    {
     "name": "stdout",
     "output_type": "stream",
     "text": [
      "Train loss: 1.6882678767045338  |  Train acc: 28.24%\n"
     ]
    },
    {
     "name": "stdout",
     "output_type": "stream",
     "text": [
      "Train loss: 1.6832852363586426  |  Train acc: 28.74%\n"
     ]
    },
    {
     "name": "stdout",
     "output_type": "stream",
     "text": [
      "Train loss: 1.6786089539527893  |  Train acc: 29.23%\n"
     ]
    },
    {
     "name": "stdout",
     "output_type": "stream",
     "text": [
      "| Epoch: 04 | Train Loss: 1.677 | Train Acc: 29.49% | Test Loss: 1.586 | Test Acc: 45.83% |\n"
     ]
    },
    {
     "name": "stdout",
     "output_type": "stream",
     "text": [
      "Train loss: 1.6449347337086995  |  Train acc: 32.23%\n"
     ]
    },
    {
     "name": "stdout",
     "output_type": "stream",
     "text": [
      "Train loss: 1.659257133801778  |  Train acc: 31.23%\n"
     ]
    },
    {
     "name": "stdout",
     "output_type": "stream",
     "text": [
      "Train loss: 1.6584186553955078  |  Train acc: 31.05%\n"
     ]
    },
    {
     "name": "stdout",
     "output_type": "stream",
     "text": [
      "Train loss: 1.6592498222986858  |  Train acc: 30.90%\n"
     ]
    },
    {
     "name": "stdout",
     "output_type": "stream",
     "text": [
      "Train loss: 1.658713944753011  |  Train acc: 31.04%\n"
     ]
    },
    {
     "name": "stdout",
     "output_type": "stream",
     "text": [
      "Train loss: 1.6570102638668485  |  Train acc: 31.28%\n"
     ]
    },
    {
     "name": "stdout",
     "output_type": "stream",
     "text": [
      "| Epoch: 05 | Train Loss: 1.656 | Train Acc: 31.41% | Test Loss: 1.598 | Test Acc: 45.83% |\n"
     ]
    },
    {
     "name": "stdout",
     "output_type": "stream",
     "text": [
      "| Test Loss: 1.598 | Test Acc: 45.83% |\n"
     ]
    },
    {
     "data": {
      "text/plain": [
       "(C_LSTM(\n",
       "   (embedding): Embedding(38386, 300)\n",
       "   (cnn2gr): Conv1d(300, 150, kernel_size=(2,), stride=(1,))\n",
       "   (cnn3gr): Conv1d(300, 150, kernel_size=(3,), stride=(1,))\n",
       "   (cnn4gr): Conv1d(300, 0, kernel_size=(4,), stride=(1,))\n",
       "   (LSTM): LSTM(300, 300, batch_first=True)\n",
       "   (dropout): Dropout(p=0.5, inplace=False)\n",
       "   (relu): ReLU()\n",
       "   (out): Softmax(dim=None)\n",
       "   (linear): Linear(in_features=300, out_features=6, bias=True)\n",
       " ),\n",
       " 1.5981449127197265,\n",
       " 0.4583020806312561)"
      ]
     },
     "execution_count": 28,
     "metadata": {},
     "output_type": "execute_result"
    }
   ],
   "source": [
    "# Эксперимент №4\n",
    "\n",
    "INPUT_DIM = len(w2v.key_to_index)\n",
    "EMBEDDING_DIM = w2v.vector_size\n",
    "MEMORY_DIM = 300\n",
    "FILTERS = {2: 150, 3: 150 , 4: 0}\n",
    "OUTPUT_DIM = len(subject_id)\n",
    "DROPOUT = 0.5\n",
    "WHEN_DROP = (1, 1)\n",
    "\n",
    "criterion = nn.CrossEntropyLoss()\n",
    "\n",
    "N_EPOCHS = 5\n",
    "\n",
    "run_experiment(INPUT_DIM, EMBEDDING_DIM, WEIGHTS, FILTERS, MEMORY_DIM,\n",
    "               OUTPUT_DIM, DROPOUT, WHEN_DROP, criterion, N_EPOCHS, DEVICE, train_iterator, test_iterator)"
   ]
  },
  {
   "cell_type": "code",
   "execution_count": null,
   "metadata": {
    "collapsed": false,
    "gradient": {
     "editing": false,
     "id": "5ba33d31-04b8-48f9-aee3-19c127355b9d",
     "kernelId": "407d7b5d-9d7c-4b74-9c76-5aec0e6cb98b",
     "source_hidden": false
    }
   },
   "outputs": [
    {
     "name": "stderr",
     "output_type": "stream",
     "text": [
      "/tmp/ipykernel_99/1707893354.py:58: UserWarning: Implicit dimension choice for softmax has been deprecated. Change the call to include dim=X as an argument.\n",
      "  logits = self.out(logits)\n"
     ]
    },
    {
     "name": "stdout",
     "output_type": "stream",
     "text": [
      "Train loss: 1.7430019776026409  |  Train acc: 22.92%\n"
     ]
    },
    {
     "name": "stdout",
     "output_type": "stream",
     "text": [
      "Train loss: 1.7181924780209858  |  Train acc: 25.67%\n"
     ]
    },
    {
     "name": "stdout",
     "output_type": "stream",
     "text": [
      "Train loss: 1.7029442522260878  |  Train acc: 27.11%\n"
     ]
    },
    {
     "name": "stdout",
     "output_type": "stream",
     "text": [
      "Train loss: 1.7044960459073384  |  Train acc: 27.12%\n"
     ]
    },
    {
     "name": "stdout",
     "output_type": "stream",
     "text": [
      "Train loss: 1.7076074441274007  |  Train acc: 26.90%\n"
     ]
    },
    {
     "name": "stdout",
     "output_type": "stream",
     "text": [
      "Train loss: 1.7030204269621108  |  Train acc: 27.22%\n"
     ]
    },
    {
     "name": "stdout",
     "output_type": "stream",
     "text": [
      "| Epoch: 01 | Train Loss: 1.701 | Train Acc: 27.43% | Test Loss: 1.585 | Test Acc: 45.83% |\n"
     ]
    },
    {
     "name": "stdout",
     "output_type": "stream",
     "text": [
      "Train loss: 1.648931622505188  |  Train acc: 30.76%\n"
     ]
    },
    {
     "name": "stdout",
     "output_type": "stream",
     "text": [
      "Train loss: 1.6563887397448223  |  Train acc: 31.18%\n"
     ]
    },
    {
     "name": "stdout",
     "output_type": "stream",
     "text": [
      "Train loss: 1.6639326281017728  |  Train acc: 30.60%\n"
     ]
    },
    {
     "name": "stdout",
     "output_type": "stream",
     "text": [
      "Train loss: 1.663476785024007  |  Train acc: 30.59%\n"
     ]
    },
    {
     "name": "stdout",
     "output_type": "stream",
     "text": [
      "Train loss: 1.6636170943578084  |  Train acc: 30.41%\n"
     ]
    },
    {
     "name": "stdout",
     "output_type": "stream",
     "text": [
      "Train loss: 1.6615332033899095  |  Train acc: 30.69%\n"
     ]
    },
    {
     "name": "stdout",
     "output_type": "stream",
     "text": [
      "| Epoch: 02 | Train Loss: 1.662 | Train Acc: 30.61% | Test Loss: 1.586 | Test Acc: 45.78% |\n"
     ]
    },
    {
     "name": "stdout",
     "output_type": "stream",
     "text": [
      "Train loss: 1.6579761107762654  |  Train acc: 31.02%\n"
     ]
    },
    {
     "name": "stdout",
     "output_type": "stream",
     "text": [
      "Train loss: 1.6608041922251384  |  Train acc: 30.68%\n"
     ]
    },
    {
     "name": "stdout",
     "output_type": "stream",
     "text": [
      "Train loss: 1.6608384715186224  |  Train acc: 30.78%\n"
     ]
    },
    {
     "name": "stdout",
     "output_type": "stream",
     "text": [
      "Train loss: 1.6680653989315033  |  Train acc: 29.93%\n"
     ]
    },
    {
     "name": "stdout",
     "output_type": "stream",
     "text": [
      "Train loss: 1.6655718803405761  |  Train acc: 30.19%\n"
     ]
    },
    {
     "name": "stdout",
     "output_type": "stream",
     "text": [
      "Train loss: 1.6648754212591383  |  Train acc: 30.18%\n"
     ]
    },
    {
     "name": "stdout",
     "output_type": "stream",
     "text": [
      "| Epoch: 03 | Train Loss: 1.665 | Train Acc: 30.07% | Test Loss: 1.585 | Test Acc: 45.83% |\n"
     ]
    },
    {
     "name": "stdout",
     "output_type": "stream",
     "text": [
      "Train loss: 1.6567223072052002  |  Train acc: 30.83%\n"
     ]
    },
    {
     "name": "stdout",
     "output_type": "stream",
     "text": [
      "Train loss: 1.660642405351003  |  Train acc: 30.40%\n"
     ]
    },
    {
     "name": "stdout",
     "output_type": "stream",
     "text": [
      "Train loss: 1.6628625790278118  |  Train acc: 30.54%\n"
     ]
    },
    {
     "name": "stdout",
     "output_type": "stream",
     "text": [
      "Train loss: 1.663239558537801  |  Train acc: 30.33%\n"
     ]
    },
    {
     "name": "stdout",
     "output_type": "stream",
     "text": [
      "Train loss: 1.662185247739156  |  Train acc: 30.58%\n"
     ]
    },
    {
     "name": "stdout",
     "output_type": "stream",
     "text": [
      "Train loss: 1.6609550846947565  |  Train acc: 30.64%\n"
     ]
    },
    {
     "name": "stdout",
     "output_type": "stream",
     "text": [
      "| Epoch: 04 | Train Loss: 1.661 | Train Acc: 30.71% | Test Loss: 1.586 | Test Acc: 45.83% |\n"
     ]
    },
    {
     "name": "stdout",
     "output_type": "stream",
     "text": [
      "Train loss: 1.6663169463475545  |  Train acc: 29.82%\n"
     ]
    },
    {
     "name": "stdout",
     "output_type": "stream",
     "text": [
      "Train loss: 1.6780179738998413  |  Train acc: 29.41%\n"
     ]
    },
    {
     "name": "stdout",
     "output_type": "stream",
     "text": [
      "Train loss: 1.684878322813246  |  Train acc: 28.74%\n"
     ]
    },
    {
     "name": "stdout",
     "output_type": "stream",
     "text": [
      "Train loss: 1.6773562530676525  |  Train acc: 29.32%\n"
     ]
    },
    {
     "name": "stdout",
     "output_type": "stream",
     "text": [
      "Train loss: 1.6731032133102417  |  Train acc: 29.72%\n"
     ]
    },
    {
     "name": "stdout",
     "output_type": "stream",
     "text": [
      "Train loss: 1.669836872153812  |  Train acc: 30.17%\n"
     ]
    },
    {
     "name": "stdout",
     "output_type": "stream",
     "text": [
      "| Epoch: 05 | Train Loss: 1.669 | Train Acc: 30.25% | Test Loss: 1.585 | Test Acc: 45.83% |\n"
     ]
    },
    {
     "name": "stdout",
     "output_type": "stream",
     "text": [
      "| Test Loss: 1.585 | Test Acc: 45.83% |\n"
     ]
    },
    {
     "data": {
      "text/plain": [
       "(C_LSTM(\n",
       "   (embedding): Embedding(38386, 300)\n",
       "   (cnn2gr): Conv1d(300, 150, kernel_size=(2,), stride=(1,))\n",
       "   (cnn3gr): Conv1d(300, 0, kernel_size=(3,), stride=(1,))\n",
       "   (cnn4gr): Conv1d(300, 150, kernel_size=(4,), stride=(1,))\n",
       "   (LSTM): LSTM(300, 300, batch_first=True)\n",
       "   (dropout): Dropout(p=0.5, inplace=False)\n",
       "   (relu): ReLU()\n",
       "   (out): Softmax(dim=None)\n",
       "   (linear): Linear(in_features=300, out_features=6, bias=True)\n",
       " ),\n",
       " 1.5854883670806885,\n",
       " 0.4583020806312561)"
      ]
     },
     "execution_count": 29,
     "metadata": {},
     "output_type": "execute_result"
    }
   ],
   "source": [
    "# Эксперимент №5\n",
    "\n",
    "INPUT_DIM = len(w2v.key_to_index)\n",
    "EMBEDDING_DIM = w2v.vector_size\n",
    "MEMORY_DIM = 300\n",
    "FILTERS = {2: 150, 3: 0 , 4: 150}\n",
    "OUTPUT_DIM = len(subject_id)\n",
    "DROPOUT = 0.5\n",
    "WHEN_DROP = (1, 1)\n",
    "\n",
    "criterion = nn.CrossEntropyLoss()\n",
    "\n",
    "N_EPOCHS = 5\n",
    "\n",
    "run_experiment(INPUT_DIM, EMBEDDING_DIM, WEIGHTS, FILTERS, MEMORY_DIM,\n",
    "               OUTPUT_DIM, DROPOUT, WHEN_DROP, criterion, N_EPOCHS, DEVICE, train_iterator, test_iterator)"
   ]
  },
  {
   "cell_type": "code",
   "execution_count": null,
   "metadata": {
    "collapsed": false,
    "gradient": {
     "editing": false,
     "id": "c639a859-4135-4496-9047-e20cd261d178",
     "kernelId": "407d7b5d-9d7c-4b74-9c76-5aec0e6cb98b",
     "source_hidden": false
    }
   },
   "outputs": [
    {
     "name": "stderr",
     "output_type": "stream",
     "text": [
      "/tmp/ipykernel_99/1707893354.py:58: UserWarning: Implicit dimension choice for softmax has been deprecated. Change the call to include dim=X as an argument.\n",
      "  logits = self.out(logits)\n"
     ]
    },
    {
     "name": "stdout",
     "output_type": "stream",
     "text": [
      "Train loss: 1.795601487159729  |  Train acc: 21.06%\n"
     ]
    },
    {
     "name": "stdout",
     "output_type": "stream",
     "text": [
      "Train loss: 1.7505400776863098  |  Train acc: 25.47%\n"
     ]
    },
    {
     "name": "stdout",
     "output_type": "stream",
     "text": [
      "Train loss: 1.729970892270406  |  Train acc: 27.46%\n"
     ]
    },
    {
     "name": "stdout",
     "output_type": "stream",
     "text": [
      "Train loss: 1.7284933427969615  |  Train acc: 27.56%\n"
     ]
    },
    {
     "name": "stdout",
     "output_type": "stream",
     "text": [
      "Train loss: 1.7281677961349486  |  Train acc: 27.54%\n"
     ]
    },
    {
     "name": "stdout",
     "output_type": "stream",
     "text": [
      "Train loss: 1.7298041582107544  |  Train acc: 27.40%\n"
     ]
    },
    {
     "name": "stdout",
     "output_type": "stream",
     "text": [
      "| Epoch: 01 | Train Loss: 1.729 | Train Acc: 27.41% | Test Loss: 1.749 | Test Acc: 29.23% |\n"
     ]
    },
    {
     "name": "stdout",
     "output_type": "stream",
     "text": [
      "Train loss: 1.7243842283884685  |  Train acc: 27.73%\n"
     ]
    },
    {
     "name": "stdout",
     "output_type": "stream",
     "text": [
      "Train loss: 1.7307998736699421  |  Train acc: 26.25%\n"
     ]
    },
    {
     "name": "stdout",
     "output_type": "stream",
     "text": [
      "Train loss: 1.7227080795500014  |  Train acc: 27.26%\n"
     ]
    },
    {
     "name": "stdout",
     "output_type": "stream",
     "text": [
      "Train loss: 1.7212943037350972  |  Train acc: 27.56%\n"
     ]
    },
    {
     "name": "stdout",
     "output_type": "stream",
     "text": [
      "Train loss: 1.7143502473831176  |  Train acc: 28.52%\n"
     ]
    },
    {
     "name": "stdout",
     "output_type": "stream",
     "text": [
      "Train loss: 1.7129480375183954  |  Train acc: 28.61%\n"
     ]
    },
    {
     "name": "stdout",
     "output_type": "stream",
     "text": [
      "| Epoch: 02 | Train Loss: 1.714 | Train Acc: 28.52% | Test Loss: 1.597 | Test Acc: 45.79% |\n"
     ]
    },
    {
     "name": "stdout",
     "output_type": "stream",
     "text": [
      "Train loss: 1.663772185643514  |  Train acc: 32.13%\n"
     ]
    },
    {
     "name": "stdout",
     "output_type": "stream",
     "text": [
      "Train loss: 1.6647299726804097  |  Train acc: 32.15%\n"
     ]
    },
    {
     "name": "stdout",
     "output_type": "stream",
     "text": [
      "Train loss: 1.6745340161853366  |  Train acc: 31.46%\n"
     ]
    },
    {
     "name": "stdout",
     "output_type": "stream",
     "text": [
      "Train loss: 1.6705136994520824  |  Train acc: 31.69%\n"
     ]
    },
    {
     "name": "stdout",
     "output_type": "stream",
     "text": [
      "Train loss: 1.669526227315267  |  Train acc: 31.41%\n"
     ]
    },
    {
     "name": "stdout",
     "output_type": "stream",
     "text": [
      "Train loss: 1.6689055495791965  |  Train acc: 31.55%\n"
     ]
    },
    {
     "name": "stdout",
     "output_type": "stream",
     "text": [
      "| Epoch: 03 | Train Loss: 1.669 | Train Acc: 31.48% | Test Loss: 1.585 | Test Acc: 45.83% |\n"
     ]
    },
    {
     "name": "stdout",
     "output_type": "stream",
     "text": [
      "Train loss: 1.6665572722752888  |  Train acc: 29.43%\n"
     ]
    },
    {
     "name": "stdout",
     "output_type": "stream",
     "text": [
      "Train loss: 1.6649233500162761  |  Train acc: 29.74%\n"
     ]
    },
    {
     "name": "stdout",
     "output_type": "stream",
     "text": [
      "Train loss: 1.6596605777740479  |  Train acc: 30.63%\n"
     ]
    },
    {
     "name": "stdout",
     "output_type": "stream",
     "text": [
      "Train loss: 1.6593993703524272  |  Train acc: 30.79%\n"
     ]
    },
    {
     "name": "stdout",
     "output_type": "stream",
     "text": [
      "Train loss: 1.6563698768615722  |  Train acc: 31.23%\n"
     ]
    },
    {
     "name": "stdout",
     "output_type": "stream",
     "text": [
      "Train loss: 1.6566289861996968  |  Train acc: 31.41%\n"
     ]
    },
    {
     "name": "stdout",
     "output_type": "stream",
     "text": [
      "| Epoch: 04 | Train Loss: 1.657 | Train Acc: 31.44% | Test Loss: 1.585 | Test Acc: 45.83% |\n"
     ]
    },
    {
     "name": "stdout",
     "output_type": "stream",
     "text": [
      "Train loss: 1.6553128560384114  |  Train acc: 31.54%\n"
     ]
    },
    {
     "name": "stdout",
     "output_type": "stream",
     "text": [
      "Train loss: 1.6555032134056091  |  Train acc: 31.38%\n"
     ]
    },
    {
     "name": "stdout",
     "output_type": "stream",
     "text": [
      "Train loss: 1.659890479511685  |  Train acc: 31.07%\n"
     ]
    },
    {
     "name": "stdout",
     "output_type": "stream",
     "text": [
      "Train loss: 1.660569320122401  |  Train acc: 31.01%\n"
     ]
    },
    {
     "name": "stdout",
     "output_type": "stream",
     "text": [
      "Train loss: 1.6598217646280924  |  Train acc: 31.04%\n"
     ]
    },
    {
     "name": "stdout",
     "output_type": "stream",
     "text": [
      "Train loss: 1.6604387296570673  |  Train acc: 31.02%\n"
     ]
    },
    {
     "name": "stdout",
     "output_type": "stream",
     "text": [
      "| Epoch: 05 | Train Loss: 1.661 | Train Acc: 30.98% | Test Loss: 1.586 | Test Acc: 45.83% |\n"
     ]
    },
    {
     "name": "stdout",
     "output_type": "stream",
     "text": [
      "| Test Loss: 1.586 | Test Acc: 45.83% |\n"
     ]
    },
    {
     "data": {
      "text/plain": [
       "(C_LSTM(\n",
       "   (embedding): Embedding(38386, 300)\n",
       "   (cnn2gr): Conv1d(300, 0, kernel_size=(2,), stride=(1,))\n",
       "   (cnn3gr): Conv1d(300, 150, kernel_size=(3,), stride=(1,))\n",
       "   (cnn4gr): Conv1d(300, 150, kernel_size=(4,), stride=(1,))\n",
       "   (LSTM): LSTM(300, 300, batch_first=True)\n",
       "   (dropout): Dropout(p=0.5, inplace=False)\n",
       "   (relu): ReLU()\n",
       "   (out): Softmax(dim=None)\n",
       "   (linear): Linear(in_features=300, out_features=6, bias=True)\n",
       " ),\n",
       " 1.5855859994888306,\n",
       " 0.4583020806312561)"
      ]
     },
     "execution_count": 30,
     "metadata": {},
     "output_type": "execute_result"
    }
   ],
   "source": [
    "# Эксперимент №6\n",
    "\n",
    "INPUT_DIM = len(w2v.key_to_index)\n",
    "EMBEDDING_DIM = w2v.vector_size\n",
    "MEMORY_DIM = 300\n",
    "FILTERS = {2: 0, 3: 150 , 4: 150}\n",
    "OUTPUT_DIM = len(subject_id)\n",
    "DROPOUT = 0.5\n",
    "WHEN_DROP = (1, 1)\n",
    "\n",
    "criterion = nn.CrossEntropyLoss()\n",
    "\n",
    "N_EPOCHS = 5\n",
    "\n",
    "run_experiment(INPUT_DIM, EMBEDDING_DIM, WEIGHTS, FILTERS, MEMORY_DIM,\n",
    "               OUTPUT_DIM, DROPOUT, WHEN_DROP, criterion, N_EPOCHS, DEVICE, train_iterator, test_iterator)"
   ]
  },
  {
   "cell_type": "code",
   "execution_count": null,
   "metadata": {
    "collapsed": false,
    "gradient": {
     "editing": false,
     "execution_count": 31,
     "id": "8f8427d8-63ae-4fe9-ab07-1f377a1192dc",
     "kernelId": "407d7b5d-9d7c-4b74-9c76-5aec0e6cb98b",
     "source_hidden": false
    }
   },
   "outputs": [
    {
     "name": "stderr",
     "output_type": "stream",
     "text": [
      "/tmp/ipykernel_99/1707893354.py:58: UserWarning: Implicit dimension choice for softmax has been deprecated. Change the call to include dim=X as an argument.\n",
      "  logits = self.out(logits)\n"
     ]
    },
    {
     "name": "stdout",
     "output_type": "stream",
     "text": [
      "Train loss: 1.795533021291097  |  Train acc: 17.32%\n"
     ]
    },
    {
     "name": "stdout",
     "output_type": "stream",
     "text": [
      "Train loss: 1.7645233273506165  |  Train acc: 22.61%\n"
     ]
    },
    {
     "name": "stdout",
     "output_type": "stream",
     "text": [
      "Train loss: 1.7528284788131714  |  Train acc: 24.16%\n"
     ]
    },
    {
     "name": "stdout",
     "output_type": "stream",
     "text": [
      "Train loss: 1.7459041972955067  |  Train acc: 25.15%\n"
     ]
    },
    {
     "name": "stdout",
     "output_type": "stream",
     "text": [
      "Train loss: 1.7397791147232056  |  Train acc: 25.58%\n"
     ]
    },
    {
     "name": "stdout",
     "output_type": "stream",
     "text": [
      "Train loss: 1.7317685219976637  |  Train acc: 26.35%\n"
     ]
    },
    {
     "name": "stdout",
     "output_type": "stream",
     "text": [
      "| Epoch: 01 | Train Loss: 1.727 | Train Acc: 26.74% | Test Loss: 1.602 | Test Acc: 44.19% |\n"
     ]
    },
    {
     "name": "stdout",
     "output_type": "stream",
     "text": [
      "Train loss: 1.6653666098912556  |  Train acc: 31.32%\n"
     ]
    },
    {
     "name": "stdout",
     "output_type": "stream",
     "text": [
      "Train loss: 1.6660439570744832  |  Train acc: 30.81%\n"
     ]
    },
    {
     "name": "stdout",
     "output_type": "stream",
     "text": [
      "Train loss: 1.6690579917695787  |  Train acc: 30.52%\n"
     ]
    },
    {
     "name": "stdout",
     "output_type": "stream",
     "text": [
      "Train loss: 1.670853704214096  |  Train acc: 30.46%\n"
     ]
    },
    {
     "name": "stdout",
     "output_type": "stream",
     "text": [
      "Train loss: 1.6779742240905762  |  Train acc: 29.76%\n"
     ]
    },
    {
     "name": "stdout",
     "output_type": "stream",
     "text": [
      "Train loss: 1.6761008699735005  |  Train acc: 30.14%\n"
     ]
    },
    {
     "name": "stdout",
     "output_type": "stream",
     "text": [
      "| Epoch: 02 | Train Loss: 1.676 | Train Acc: 30.15% | Test Loss: 1.598 | Test Acc: 44.23% |\n"
     ]
    },
    {
     "name": "stdout",
     "output_type": "stream",
     "text": [
      "Train loss: 1.6594319343566895  |  Train acc: 33.72%\n"
     ]
    },
    {
     "name": "stdout",
     "output_type": "stream",
     "text": [
      "Train loss: 1.6668294072151184  |  Train acc: 32.75%\n"
     ]
    },
    {
     "name": "stdout",
     "output_type": "stream",
     "text": [
      "Train loss: 1.676621635754903  |  Train acc: 31.48%\n"
     ]
    },
    {
     "name": "stdout",
     "output_type": "stream",
     "text": [
      "Train loss: 1.6843925019105275  |  Train acc: 30.46%\n"
     ]
    },
    {
     "name": "stdout",
     "output_type": "stream",
     "text": [
      "Train loss: 1.6881933212280273  |  Train acc: 29.84%\n"
     ]
    },
    {
     "name": "stdout",
     "output_type": "stream",
     "text": [
      "Train loss: 1.6852960255410936  |  Train acc: 30.18%\n"
     ]
    },
    {
     "name": "stdout",
     "output_type": "stream",
     "text": [
      "| Epoch: 03 | Train Loss: 1.687 | Train Acc: 30.07% | Test Loss: 1.621 | Test Acc: 44.19% |\n"
     ]
    },
    {
     "name": "stdout",
     "output_type": "stream",
     "text": [
      "Train loss: 1.6702028115590413  |  Train acc: 31.74%\n"
     ]
    },
    {
     "name": "stdout",
     "output_type": "stream",
     "text": [
      "Train loss: 1.6701582670211792  |  Train acc: 30.53%\n"
     ]
    },
    {
     "name": "stdout",
     "output_type": "stream",
     "text": [
      "Train loss: 1.6682669851515028  |  Train acc: 30.66%\n"
     ]
    },
    {
     "name": "stdout",
     "output_type": "stream",
     "text": [
      "Train loss: 1.6685281892617543  |  Train acc: 30.30%\n"
     ]
    },
    {
     "name": "stdout",
     "output_type": "stream",
     "text": [
      "Train loss: 1.6694397449493408  |  Train acc: 30.55%\n"
     ]
    },
    {
     "name": "stdout",
     "output_type": "stream",
     "text": [
      "Train loss: 1.6712739666302998  |  Train acc: 30.57%\n"
     ]
    },
    {
     "name": "stdout",
     "output_type": "stream",
     "text": [
      "| Epoch: 04 | Train Loss: 1.672 | Train Acc: 30.67% | Test Loss: 1.601 | Test Acc: 44.21% |\n"
     ]
    },
    {
     "name": "stdout",
     "output_type": "stream",
     "text": [
      "Train loss: 1.6802501281102498  |  Train acc: 29.65%\n"
     ]
    },
    {
     "name": "stdout",
     "output_type": "stream",
     "text": [
      "Train loss: 1.67127792040507  |  Train acc: 30.86%\n"
     ]
    },
    {
     "name": "stdout",
     "output_type": "stream",
     "text": [
      "Train loss: 1.6704749001397028  |  Train acc: 30.65%\n"
     ]
    },
    {
     "name": "stdout",
     "output_type": "stream",
     "text": [
      "Train loss: 1.6709600885709126  |  Train acc: 30.71%\n"
     ]
    },
    {
     "name": "stdout",
     "output_type": "stream",
     "text": [
      "Train loss: 1.6700640519460042  |  Train acc: 30.76%\n"
     ]
    },
    {
     "name": "stdout",
     "output_type": "stream",
     "text": [
      "Train loss: 1.6717627114719815  |  Train acc: 30.50%\n"
     ]
    },
    {
     "name": "stdout",
     "output_type": "stream",
     "text": [
      "| Epoch: 05 | Train Loss: 1.674 | Train Acc: 30.15% | Test Loss: 1.673 | Test Acc: 37.03% |\n"
     ]
    },
    {
     "name": "stdout",
     "output_type": "stream",
     "text": [
      "| Test Loss: 1.673 | Test Acc: 37.03% |\n"
     ]
    },
    {
     "data": {
      "text/plain": [
       "(C_LSTM(\n",
       "   (embedding): Embedding(38386, 300)\n",
       "   (cnn2gr): Conv1d(300, 100, kernel_size=(2,), stride=(1,))\n",
       "   (cnn3gr): Conv1d(300, 100, kernel_size=(3,), stride=(1,))\n",
       "   (cnn4gr): Conv1d(300, 100, kernel_size=(4,), stride=(1,))\n",
       "   (LSTM): LSTM(300, 300, batch_first=True)\n",
       "   (dropout): Dropout(p=0.5, inplace=False)\n",
       "   (relu): ReLU()\n",
       "   (out): Softmax(dim=None)\n",
       "   (linear): Linear(in_features=300, out_features=6, bias=True)\n",
       " ),\n",
       " 1.6732681274414063,\n",
       " 0.3703229188919067)"
      ]
     },
     "execution_count": 31,
     "metadata": {},
     "output_type": "execute_result"
    }
   ],
   "source": [
    "# Эксперимент №7\n",
    "\n",
    "INPUT_DIM = len(w2v.key_to_index)\n",
    "EMBEDDING_DIM = w2v.vector_size\n",
    "MEMORY_DIM = 300\n",
    "FILTERS = {2: 100, 3: 100 , 4: 100}\n",
    "OUTPUT_DIM = len(subject_id)\n",
    "DROPOUT = 0.5\n",
    "WHEN_DROP = (1, 1)\n",
    "\n",
    "criterion = nn.CrossEntropyLoss()\n",
    "\n",
    "N_EPOCHS = 5\n",
    "\n",
    "run_experiment(INPUT_DIM, EMBEDDING_DIM, WEIGHTS, FILTERS, MEMORY_DIM,\n",
    "               OUTPUT_DIM, DROPOUT, WHEN_DROP, criterion, N_EPOCHS, DEVICE, train_iterator, test_iterator)"
   ]
  },
  {
   "cell_type": "code",
   "execution_count": null,
   "metadata": {
    "collapsed": false,
    "gradient": {
     "editing": false,
     "execution_count": 32,
     "id": "47ce76be-d2a2-4e7d-9077-022907f30114",
     "kernelId": "407d7b5d-9d7c-4b74-9c76-5aec0e6cb98b",
     "source_hidden": false
    }
   },
   "outputs": [
    {
     "data": {
      "image/png": "[encoded data removed]",
      "text/plain": [
       "<Figure size 640x480 with 1 Axes>"
      ]
     },
     "metadata": {},
     "output_type": "display_data",
     "transient": {}
    }
   ],
   "source": [
    "import matplotlib.pyplot as plt; plt.rcdefaults()\n",
    "import numpy as np\n",
    "import matplotlib.pyplot as plt\n",
    "\n",
    "objects = ('2', '3', '4', '2, 3', '2, 4', '3, 4', '2, 3, 4')\n",
    "y_pos = np.arange(len(objects))\n",
    "# performance = [50.81, 50.81, 50.90, 47.56, 47.25, 47.61, 47.56]\n",
    "performance = [49.10, 42.48, 49.48, 45.83, 45.83, 45.83, 37.03]\n",
    "\n",
    "plt.bar(y_pos, performance, align='center', alpha=0.5)\n",
    "plt.xticks(y_pos, objects)\n",
    "plt.ylabel('accuracy')\n",
    "plt.title('Какие лучше использовать фильтры')\n",
    "\n",
    "plt.show()"
   ]
  },
  {
   "cell_type": "markdown",
   "metadata": {
    "gradient": {
     "editing": false,
     "id": "b4476a51-452e-4b0f-b1d4-ba923534db14",
     "kernelId": "407d7b5d-9d7c-4b74-9c76-5aec0e6cb98b"
    }
   },
   "source": [
    "У фильтров размером 4 результат получился чуть лучше.\n",
    "\n",
    "Для лучшей модели попробуем поменять другие гиперпараметры."
   ]
  },
  {
   "cell_type": "code",
   "execution_count": null,
   "metadata": {
    "collapsed": false,
    "gradient": {
     "editing": false,
     "execution_count": 33,
     "id": "2dd808cf-6f2b-403b-83d7-587a9cb11fde",
     "kernelId": "407d7b5d-9d7c-4b74-9c76-5aec0e6cb98b",
     "source_hidden": false
    }
   },
   "outputs": [
    {
     "name": "stderr",
     "output_type": "stream",
     "text": [
      "/opt/conda/lib/python3.8/site-packages/torch/nn/init.py:388: UserWarning: Initializing zero-element tensors is a no-op\n",
      "  warnings.warn(\"Initializing zero-element tensors is a no-op\")\n"
     ]
    },
    {
     "name": "stderr",
     "output_type": "stream",
     "text": [
      "/tmp/ipykernel_99/1707893354.py:58: UserWarning: Implicit dimension choice for softmax has been deprecated. Change the call to include dim=X as an argument.\n",
      "  logits = self.out(logits)\n"
     ]
    },
    {
     "name": "stdout",
     "output_type": "stream",
     "text": [
      "Train loss: 1.79952871799469  |  Train acc: 13.64%\n"
     ]
    },
    {
     "name": "stdout",
     "output_type": "stream",
     "text": [
      "Train loss: 1.7860949238141377  |  Train acc: 19.27%\n"
     ]
    },
    {
     "name": "stdout",
     "output_type": "stream",
     "text": [
      "Train loss: 1.7637947003046672  |  Train acc: 22.43%\n"
     ]
    },
    {
     "name": "stdout",
     "output_type": "stream",
     "text": [
      "Train loss: 1.762479841709137  |  Train acc: 23.18%\n"
     ]
    },
    {
     "name": "stdout",
     "output_type": "stream",
     "text": [
      "Train loss: 1.7711033662160238  |  Train acc: 22.34%\n"
     ]
    },
    {
     "name": "stdout",
     "output_type": "stream",
     "text": [
      "Train loss: 1.7612421645058527  |  Train acc: 23.54%\n"
     ]
    },
    {
     "name": "stdout",
     "output_type": "stream",
     "text": [
      "| Epoch: 01 | Train Loss: 1.758 | Train Acc: 23.84% | Test Loss: 1.673 | Test Acc: 37.03% |\n"
     ]
    },
    {
     "name": "stdout",
     "output_type": "stream",
     "text": [
      "Train loss: 1.7039089997609456  |  Train acc: 26.66%\n"
     ]
    },
    {
     "name": "stdout",
     "output_type": "stream",
     "text": [
      "Train loss: 1.7103895743687947  |  Train acc: 26.29%\n"
     ]
    },
    {
     "name": "stdout",
     "output_type": "stream",
     "text": [
      "Train loss: 1.704014990064833  |  Train acc: 27.17%\n"
     ]
    },
    {
     "name": "stdout",
     "output_type": "stream",
     "text": [
      "Train loss: 1.688195139169693  |  Train acc: 28.52%\n"
     ]
    },
    {
     "name": "stdout",
     "output_type": "stream",
     "text": [
      "Train loss: 1.683137067159017  |  Train acc: 29.24%\n"
     ]
    },
    {
     "name": "stdout",
     "output_type": "stream",
     "text": [
      "Train loss: 1.6760781009991963  |  Train acc: 30.14%\n"
     ]
    },
    {
     "name": "stdout",
     "output_type": "stream",
     "text": [
      "| Epoch: 02 | Train Loss: 1.679 | Train Acc: 29.88% | Test Loss: 1.895 | Test Acc: 14.31% |\n"
     ]
    },
    {
     "name": "stdout",
     "output_type": "stream",
     "text": [
      "Train loss: 1.828906257947286  |  Train acc: 16.34%\n"
     ]
    },
    {
     "name": "stdout",
     "output_type": "stream",
     "text": [
      "Train loss: 1.7670641541481018  |  Train acc: 21.31%\n"
     ]
    },
    {
     "name": "stdout",
     "output_type": "stream",
     "text": [
      "Train loss: 1.7241161266962688  |  Train acc: 25.85%\n"
     ]
    },
    {
     "name": "stdout",
     "output_type": "stream",
     "text": [
      "Train loss: 1.7204300065835316  |  Train acc: 25.98%\n"
     ]
    },
    {
     "name": "stdout",
     "output_type": "stream",
     "text": [
      "Train loss: 1.7190932909647623  |  Train acc: 25.96%\n"
     ]
    },
    {
     "name": "stdout",
     "output_type": "stream",
     "text": [
      "Train loss: 1.7160863545205858  |  Train acc: 26.37%\n"
     ]
    },
    {
     "name": "stdout",
     "output_type": "stream",
     "text": [
      "| Epoch: 03 | Train Loss: 1.716 | Train Acc: 26.59% | Test Loss: 1.559 | Test Acc: 49.82% |\n"
     ]
    },
    {
     "name": "stdout",
     "output_type": "stream",
     "text": [
      "Train loss: 1.6429497400919597  |  Train acc: 33.56%\n"
     ]
    },
    {
     "name": "stdout",
     "output_type": "stream",
     "text": [
      "Train loss: 1.647128403186798  |  Train acc: 33.01%\n"
     ]
    },
    {
     "name": "stdout",
     "output_type": "stream",
     "text": [
      "Train loss: 1.6436773538589478  |  Train acc: 32.86%\n"
     ]
    },
    {
     "name": "stdout",
     "output_type": "stream",
     "text": [
      "Train loss: 1.6417953570683796  |  Train acc: 32.85%\n"
     ]
    },
    {
     "name": "stdout",
     "output_type": "stream",
     "text": [
      "Train loss: 1.6481118361155191  |  Train acc: 32.51%\n"
     ]
    },
    {
     "name": "stdout",
     "output_type": "stream",
     "text": [
      "Train loss: 1.6572393046485052  |  Train acc: 31.66%\n"
     ]
    },
    {
     "name": "stdout",
     "output_type": "stream",
     "text": [
      "| Epoch: 04 | Train Loss: 1.660 | Train Acc: 31.47% | Test Loss: 1.673 | Test Acc: 37.03% |\n"
     ]
    },
    {
     "name": "stdout",
     "output_type": "stream",
     "text": [
      "Train loss: 1.7004401683807373  |  Train acc: 26.60%\n"
     ]
    },
    {
     "name": "stdout",
     "output_type": "stream",
     "text": [
      "Train loss: 1.6999093095461528  |  Train acc: 27.18%\n"
     ]
    },
    {
     "name": "stdout",
     "output_type": "stream",
     "text": [
      "Train loss: 1.7031940089331732  |  Train acc: 26.97%\n"
     ]
    },
    {
     "name": "stdout",
     "output_type": "stream",
     "text": [
      "Train loss: 1.7033476134141285  |  Train acc: 27.08%\n"
     ]
    },
    {
     "name": "stdout",
     "output_type": "stream",
     "text": [
      "Train loss: 1.7034652948379516  |  Train acc: 27.17%\n"
     ]
    },
    {
     "name": "stdout",
     "output_type": "stream",
     "text": [
      "Train loss: 1.7077030738194783  |  Train acc: 26.87%\n"
     ]
    },
    {
     "name": "stdout",
     "output_type": "stream",
     "text": [
      "| Epoch: 05 | Train Loss: 1.705 | Train Acc: 27.16% | Test Loss: 1.553 | Test Acc: 49.14% |\n"
     ]
    },
    {
     "name": "stdout",
     "output_type": "stream",
     "text": [
      "| Test Loss: 1.553 | Test Acc: 49.14% |\n"
     ]
    },
    {
     "data": {
      "text/plain": [
       "(C_LSTM(\n",
       "   (embedding): Embedding(38386, 300)\n",
       "   (cnn2gr): Conv1d(300, 0, kernel_size=(2,), stride=(1,))\n",
       "   (cnn3gr): Conv1d(300, 0, kernel_size=(3,), stride=(1,))\n",
       "   (cnn4gr): Conv1d(300, 300, kernel_size=(4,), stride=(1,))\n",
       "   (LSTM): LSTM(300, 300, batch_first=True)\n",
       "   (dropout): Dropout(p=0.5, inplace=False)\n",
       "   (relu): ReLU()\n",
       "   (out): Softmax(dim=None)\n",
       "   (linear): Linear(in_features=300, out_features=6, bias=True)\n",
       " ),\n",
       " 1.5533044338226318,\n",
       " 0.4914401054382324)"
      ]
     },
     "execution_count": 33,
     "metadata": {},
     "output_type": "execute_result"
    }
   ],
   "source": [
    "# Эксперимент №8\n",
    "\n",
    "INPUT_DIM = len(w2v.key_to_index)\n",
    "EMBEDDING_DIM = w2v.vector_size\n",
    "MEMORY_DIM = 300\n",
    "FILTERS = {2: 0, 3: 0 , 4: 300}\n",
    "OUTPUT_DIM = len(subject_id)\n",
    "DROPOUT = 0.5\n",
    "WHEN_DROP = (0, 1)\n",
    "\n",
    "criterion = nn.CrossEntropyLoss()\n",
    "\n",
    "N_EPOCHS = 5\n",
    "\n",
    "run_experiment(INPUT_DIM, EMBEDDING_DIM, WEIGHTS, FILTERS, MEMORY_DIM,\n",
    "               OUTPUT_DIM, DROPOUT, WHEN_DROP, criterion, N_EPOCHS, DEVICE, train_iterator, test_iterator)"
   ]
  },
  {
   "cell_type": "code",
   "execution_count": null,
   "metadata": {
    "collapsed": false,
    "gradient": {
     "editing": false,
     "execution_count": 35,
     "id": "5f4b5f8f-54fc-4670-ae30-d072ec3e79db",
     "kernelId": "407d7b5d-9d7c-4b74-9c76-5aec0e6cb98b",
     "source_hidden": false
    }
   },
   "outputs": [
    {
     "name": "stderr",
     "output_type": "stream",
     "text": [
      "/tmp/ipykernel_99/1707893354.py:58: UserWarning: Implicit dimension choice for softmax has been deprecated. Change the call to include dim=X as an argument.\n",
      "  logits = self.out(logits)\n"
     ]
    },
    {
     "name": "stdout",
     "output_type": "stream",
     "text": [
      "Train loss: 1.7446173032124836  |  Train acc: 19.50%\n"
     ]
    },
    {
     "name": "stdout",
     "output_type": "stream",
     "text": [
      "Train loss: 1.694553275903066  |  Train acc: 29.70%\n"
     ]
    },
    {
     "name": "stdout",
     "output_type": "stream",
     "text": [
      "Train loss: 1.6839458147684734  |  Train acc: 31.68%\n"
     ]
    },
    {
     "name": "stdout",
     "output_type": "stream",
     "text": [
      "Train loss: 1.6554252207279205  |  Train acc: 35.51%\n"
     ]
    },
    {
     "name": "stdout",
     "output_type": "stream",
     "text": [
      "Train loss: 1.631515908241272  |  Train acc: 38.55%\n"
     ]
    },
    {
     "name": "stdout",
     "output_type": "stream",
     "text": [
      "Train loss: 1.6144856810569763  |  Train acc: 40.70%\n"
     ]
    },
    {
     "name": "stdout",
     "output_type": "stream",
     "text": [
      "| Epoch: 01 | Train Loss: 1.617 | Train Acc: 40.58% | Test Loss: 1.673 | Test Acc: 37.03% |\n"
     ]
    },
    {
     "name": "stdout",
     "output_type": "stream",
     "text": [
      "Train loss: 1.5736570755640666  |  Train acc: 47.04%\n"
     ]
    },
    {
     "name": "stdout",
     "output_type": "stream",
     "text": [
      "Train loss: 1.5692598621050518  |  Train acc: 46.88%\n"
     ]
    },
    {
     "name": "stdout",
     "output_type": "stream",
     "text": [
      "Train loss: 1.5599272383583918  |  Train acc: 47.99%\n"
     ]
    },
    {
     "name": "stdout",
     "output_type": "stream",
     "text": [
      "Train loss: 1.5648133456707  |  Train acc: 47.48%\n"
     ]
    },
    {
     "name": "stdout",
     "output_type": "stream",
     "text": [
      "Train loss: 1.5598344643910727  |  Train acc: 48.05%\n"
     ]
    },
    {
     "name": "stdout",
     "output_type": "stream",
     "text": [
      "Train loss: 1.560410976409912  |  Train acc: 47.89%\n"
     ]
    },
    {
     "name": "stdout",
     "output_type": "stream",
     "text": [
      "| Epoch: 02 | Train Loss: 1.558 | Train Acc: 48.13% | Test Loss: 1.599 | Test Acc: 42.31% |\n"
     ]
    },
    {
     "name": "stdout",
     "output_type": "stream",
     "text": [
      "Train loss: 1.571818431218465  |  Train acc: 45.54%\n"
     ]
    },
    {
     "name": "stdout",
     "output_type": "stream",
     "text": [
      "Train loss: 1.5480779806772869  |  Train acc: 48.89%\n"
     ]
    },
    {
     "name": "stdout",
     "output_type": "stream",
     "text": [
      "Train loss: 1.5425296624501545  |  Train acc: 49.67%\n"
     ]
    },
    {
     "name": "stdout",
     "output_type": "stream",
     "text": [
      "Train loss: 1.5404036343097687  |  Train acc: 50.00%\n"
     ]
    },
    {
     "name": "stdout",
     "output_type": "stream",
     "text": [
      "Train loss: 1.5399358908335368  |  Train acc: 50.11%\n"
     ]
    },
    {
     "name": "stdout",
     "output_type": "stream",
     "text": [
      "Train loss: 1.5377684103118048  |  Train acc: 50.37%\n"
     ]
    },
    {
     "name": "stdout",
     "output_type": "stream",
     "text": [
      "| Epoch: 03 | Train Loss: 1.538 | Train Acc: 50.35% | Test Loss: 1.549 | Test Acc: 49.48% |\n"
     ]
    },
    {
     "name": "stdout",
     "output_type": "stream",
     "text": [
      "Train loss: 1.5728268225987752  |  Train acc: 47.07%\n"
     ]
    },
    {
     "name": "stdout",
     "output_type": "stream",
     "text": [
      "Train loss: 1.549933910369873  |  Train acc: 49.51%\n"
     ]
    },
    {
     "name": "stdout",
     "output_type": "stream",
     "text": [
      "Train loss: 1.545514080259535  |  Train acc: 49.90%\n"
     ]
    },
    {
     "name": "stdout",
     "output_type": "stream",
     "text": [
      "Train loss: 1.5399159789085388  |  Train acc: 50.44%\n"
     ]
    },
    {
     "name": "stdout",
     "output_type": "stream",
     "text": [
      "Train loss: 1.5541566610336304  |  Train acc: 48.99%\n"
     ]
    },
    {
     "name": "stdout",
     "output_type": "stream",
     "text": [
      "Train loss: 1.5616962247424655  |  Train acc: 48.06%\n"
     ]
    },
    {
     "name": "stdout",
     "output_type": "stream",
     "text": [
      "| Epoch: 04 | Train Loss: 1.563 | Train Acc: 47.83% | Test Loss: 1.552 | Test Acc: 49.20% |\n"
     ]
    },
    {
     "name": "stdout",
     "output_type": "stream",
     "text": [
      "Train loss: 1.5326931873957317  |  Train acc: 51.07%\n"
     ]
    },
    {
     "name": "stdout",
     "output_type": "stream",
     "text": [
      "Train loss: 1.5353124737739563  |  Train acc: 50.68%\n"
     ]
    },
    {
     "name": "stdout",
     "output_type": "stream",
     "text": [
      "Train loss: 1.5375125010808308  |  Train acc: 50.51%\n"
     ]
    },
    {
     "name": "stdout",
     "output_type": "stream",
     "text": [
      "Train loss: 1.5499936441580455  |  Train acc: 49.55%\n"
     ]
    },
    {
     "name": "stdout",
     "output_type": "stream",
     "text": [
      "Train loss: 1.5558333158493043  |  Train acc: 49.20%\n"
     ]
    },
    {
     "name": "stdout",
     "output_type": "stream",
     "text": [
      "Train loss: 1.553151289621989  |  Train acc: 49.40%\n"
     ]
    },
    {
     "name": "stdout",
     "output_type": "stream",
     "text": [
      "| Epoch: 05 | Train Loss: 1.551 | Train Acc: 49.56% | Test Loss: 1.552 | Test Acc: 49.20% |\n"
     ]
    },
    {
     "name": "stdout",
     "output_type": "stream",
     "text": [
      "| Test Loss: 1.552 | Test Acc: 49.20% |\n"
     ]
    },
    {
     "data": {
      "text/plain": [
       "(C_LSTM(\n",
       "   (embedding): Embedding(38386, 300)\n",
       "   (cnn2gr): Conv1d(300, 0, kernel_size=(2,), stride=(1,))\n",
       "   (cnn3gr): Conv1d(300, 0, kernel_size=(3,), stride=(1,))\n",
       "   (cnn4gr): Conv1d(300, 300, kernel_size=(4,), stride=(1,))\n",
       "   (LSTM): LSTM(300, 300, batch_first=True)\n",
       "   (dropout): Dropout(p=0.5, inplace=False)\n",
       "   (relu): ReLU()\n",
       "   (out): Softmax(dim=None)\n",
       "   (linear): Linear(in_features=300, out_features=6, bias=True)\n",
       " ),\n",
       " 1.5515745878219604,\n",
       " 0.49202604293823243)"
      ]
     },
     "execution_count": 35,
     "metadata": {},
     "output_type": "execute_result"
    }
   ],
   "source": [
    "# Эксперимент №9\n",
    "\n",
    "INPUT_DIM = len(w2v.key_to_index)\n",
    "EMBEDDING_DIM = w2v.vector_size\n",
    "MEMORY_DIM = 300\n",
    "FILTERS = {2: 0, 3: 0 , 4: 300}\n",
    "OUTPUT_DIM = len(subject_id)\n",
    "DROPOUT = 0.5\n",
    "WHEN_DROP = (1, 0)\n",
    "\n",
    "criterion = nn.CrossEntropyLoss()\n",
    "\n",
    "N_EPOCHS = 5\n",
    "\n",
    "run_experiment(INPUT_DIM, EMBEDDING_DIM, WEIGHTS, FILTERS, MEMORY_DIM,\n",
    "               OUTPUT_DIM, DROPOUT, WHEN_DROP, criterion, N_EPOCHS, DEVICE, train_iterator, test_iterator)"
   ]
  },
  {
   "cell_type": "markdown",
   "metadata": {
    "gradient": {
     "editing": false,
     "id": "96a01d5d-a8a7-41c9-8262-86f60d73a835",
     "kernelId": "407d7b5d-9d7c-4b74-9c76-5aec0e6cb98b"
    }
   },
   "source": [
    "Для accuracy лучше, когда dropout в двух местах."
   ]
  },
  {
   "cell_type": "markdown",
   "metadata": {
    "gradient": {
     "editing": true,
     "id": "a5acfabc-effe-44fd-856b-c9a36dff9a70",
     "kernelId": "407d7b5d-9d7c-4b74-9c76-5aec0e6cb98b"
    }
   },
   "source": [
    "## Итог\n",
    "В статье accuracy гораздо лучше.\n",
    "\n",
    "Но у нас были несбалансированные классы и "
   ]
  }
 ],
 "metadata": {
  "accelerator": "GPU",
  "colab": {
   "name": "HW3_tbkazakova_CNN&RNN_news.ipynb",
   "provenance": [],
   "toc_visible": true
  },
  "kernelspec": {
   "display_name": "Python 3",
   "name": "python3"
  },
  "language_info": {
   "name": "python"
  }
 },
 "nbformat": 4,
 "nbformat_minor": 0
}
